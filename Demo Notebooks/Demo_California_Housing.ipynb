{
 "cells": [
  {
   "cell_type": "code",
   "execution_count": 1,
   "id": "dc03ea31",
   "metadata": {},
   "outputs": [],
   "source": [
    "import pandas as pd\n",
    "import numpy as np\n",
    "import random\n",
    "import sklearn.datasets as datasets\n",
    "import sys\n",
    "\n",
    "sys.path.insert(1, '..')\n",
    "from check_data_consistency import DataConsistencyChecker"
   ]
  },
  {
   "cell_type": "code",
   "execution_count": 2,
   "id": "19c18249",
   "metadata": {},
   "outputs": [],
   "source": [
    "pd.options.display.max_columns = 1000\n",
    "pd.options.display.max_colwidth = 1000\n",
    "pd.options.display.max_rows = 1000\n",
    "pd.options.display.width = 10000"
   ]
  },
  {
   "cell_type": "code",
   "execution_count": 3,
   "id": "426c24f2",
   "metadata": {},
   "outputs": [],
   "source": [
    "# Read in the data\n",
    "\n",
    "data = datasets.fetch_california_housing()\n",
    "df = pd.DataFrame(data.data, columns=data.feature_names)"
   ]
  },
  {
   "cell_type": "code",
   "execution_count": 4,
   "id": "25d14024",
   "metadata": {
    "scrolled": false
   },
   "outputs": [
    {
     "name": "stdout",
     "output_type": "stream",
     "text": [
      "Executing test   0: MISSING_VALUES                \n",
      "Executing test   1: RARE_VALUES                   \n",
      "Executing test   2: UNIQUE_VALUES                 \n",
      "Executing test   3: PREV_VALUES_DT                \n",
      "Executing test   4: MATCHED_MISSING               \n",
      "Executing test   5: UNMATCHED_MISSING             \n",
      "Executing test   6: SAME_VALUES                   \n",
      "Executing test   7: SAME_OR_CONSTANT              \n",
      "Executing test   8: POSITIVE                      \n",
      "Executing test   9: NEGATIVE                      \n",
      "Executing test  10: NUMBER_DECIMALS               \n",
      "Executing test  11: RARE_DECIMALS                 \n",
      "Executing test  12: COLUMN_ORDERED_ASC            \n",
      "Executing test  13: COLUMN_ORDERED_DESC           \n",
      "Executing test  14: COLUMN_TENDS_ASC              \n",
      "Executing test  15: COLUMN_TENDS_DESC             \n",
      "Executing test  16: SIMILAR_PREVIOUS              \n",
      "Executing test  17: UNUSUAL_ORDER_MAGNITUDE       \n",
      "Executing test  18: FEW_NEIGHBORS                 \n",
      "Executing test  19: FEW_WITHIN_RANGE              \n",
      "Executing test  20: VERY_SMALL                    \n",
      "Executing test  21: VERY_LARGE                    \n",
      "Executing test  22: VERY_SMALL_ABS                \n",
      "Executing test  23: MULTIPLE_OF_CONSTANT          \n",
      "Executing test  24: ROUNDING                      \n",
      "Executing test  25: NON_ZERO                      \n",
      "Executing test  26: LESS_THAN_ONE                 \n",
      "Executing test  27: GREATER_THAN_ONE              \n",
      "Executing test  28: INVALID_NUMBERS               \n",
      "Executing test  29: LARGER                        \n",
      "Executing test  30: MUCH_LARGER                   \n",
      "Executing test  31: SIMILAR_WRT_RATIO             \n",
      "Executing test  32: SIMILAR_WRT_DIFF              \n",
      "Executing test  33: SIMILAR_TO_INVERSE            \n",
      "Executing test  34: SIMILAR_TO_NEGATIVE           \n",
      "Executing test  35: CONSTANT_SUM                  \n",
      "Executing test  36: CONSTANT_DIFF                 \n",
      "Executing test  37: CONSTANT_PRODUCT              \n",
      "Executing test  38: CONSTANT_RATIO                \n",
      "Executing test  39: EVEN_MULTIPLE                 \n",
      "Executing test  40: RARE_COMBINATION              \n",
      "Executing test  41: CORRELATED_NUMERIC            \n",
      "Executing test  42: MATCHED_ZERO                  \n",
      "Executing test  43: OPPOSITE_ZERO                 \n",
      "Executing test  44: RUNNING_SUM                   \n",
      "Executing test  45: A_ROUNDED_B                   \n",
      "Executing test  46: MATCHED_ZERO_MISSING          \n",
      "Executing test  47: SIMILAR_TO_DIFF               \n",
      "Executing test  48: SIMILAR_TO_PRODUCT            \n",
      "Executing test  49: SIMILAR_TO_RATIO              \n",
      "Executing test  50: LARGER_THAN_SUM               \n",
      "Executing test  51: SUM_OF_COLUMNS                \n",
      "Executing test  52: MEAN_OF_COLUMNS               \n",
      "Executing test  53: MIN_OF_COLUMNS                \n",
      "Executing test  54: MAX_OF_COLUMNS                \n",
      "Executing test  55: ALL_POS_OR_ALL_NEG            \n",
      "Executing test  56: ALL_ZERO_OR_ALL_NON_ZERO      \n",
      "Executing test  57: DECISION_TREE_REGRESSOR       \n",
      "Executing test  58: LINEAR_REGRESSION             \n",
      "Executing test  59: PREDICT_NULL_DT               \n",
      "Executing test  60: EARLY_DATES                   \n",
      "Executing test  61: LATE_DATES                    \n",
      "Executing test  62: UNUSUAL_DAY_OF_WEEK           \n",
      "Executing test  63: UNUSUAL_DAY_OF_MONTH          \n",
      "Executing test  64: UNUSUAL_MONTH                 \n",
      "Executing test  65: UNUSUAL_HOUR                  \n",
      "Executing test  66: UNUSUAL_MINUTES               \n",
      "Executing test  67: CONSTANT_DOM                  \n",
      "Executing test  68: CONSTANT_LAST_DOM             \n",
      "Executing test  69: CONSTANT_GAP                  \n",
      "Executing test  70: LARGE_GAP                     \n",
      "Executing test  71: SMALL_GAP                     \n",
      "Executing test  72: LATER                         \n",
      "Executing test  73: SAME_DATE                     \n",
      "Executing test  74: SAME_MONTH                    \n",
      "Executing test  75: CORRELATED_DATES              \n",
      "Executing test  76: LARGE_GIVEN_DATE              \n",
      "Executing test  77: SMALL_GIVEN_DATE              \n",
      "Executing test  78: BINARY_SAME                   \n",
      "Executing test  79: BINARY_OPPOSITE               \n",
      "Executing test  80: BINARY_IMPLIES                \n",
      "Executing test  81: BINARY_AND                    \n",
      "Executing test  82: BINARY_OR                     \n",
      "Executing test  83: BINARY_XOR                    \n",
      "Executing test  84: BINARY_NUM_SAME               \n",
      "Executing test  85: BINARY_RARE_COMBINATION       \n",
      "Executing test  86: BINARY_MATCHES_VALUES         \n",
      "Executing test  87: BINARY_TWO_OTHERS_MATCH       \n",
      "Executing test  88: BINARY_MATCHES_SUM            \n",
      "Executing test  89: BLANK_VALUES                  \n",
      "Executing test  90: LEADING_WHITESPACE            \n",
      "Executing test  91: TRAILING_WHITESPACE           \n",
      "Executing test  92: FIRST_CHAR_ALPHA              \n",
      "Executing test  93: FIRST_CHAR_NUMERIC            \n",
      "Executing test  94: FIRST_CHAR_SMALL_SET          \n",
      "Executing test  95: FIRST_CHAR_UPPERCASE          \n",
      "Executing test  96: FIRST_CHAR_LOWERCASE          \n",
      "Executing test  97: LAST_CHAR_SMALL_SET           \n",
      "Executing test  98: COMMON_SPECIAL_CHARS          \n",
      "Executing test  99: COMMON_CHARS                  \n",
      "Executing test 100: NUMBER_ALPHA_CHARS            \n",
      "Executing test 101: NUMBER_NUMERIC_CHARS          \n",
      "Executing test 102: NUMBER_ALPHANUMERIC_CHARS     \n",
      "Executing test 103: NUMBER_NON-ALPHANUMERIC_CHARS \n",
      "Executing test 104: NUMBER_CHARS                  \n",
      "Executing test 105: MANY_CHARS                    \n",
      "Executing test 106: FEW_CHARS                     \n",
      "Executing test 107: POSITION_NON-ALPHANUMERIC     \n",
      "Executing test 108: CHARS_PATTERN                 \n",
      "Executing test 109: UPPERCASE                     \n",
      "Executing test 110: LOWERCASE                     \n",
      "Executing test 111: CHARACTERS_USED               \n",
      "Executing test 112: FIRST_WORD_SMALL_SET          \n",
      "Executing test 113: LAST_WORD_SMALL_SET           \n",
      "Executing test 114: NUMBER_WORDS                  \n",
      "Executing test 115: LONGEST_WORDS                 \n",
      "Executing test 116: COMMON_WORDS                  \n",
      "Executing test 117: RARE_WORDS                    \n",
      "Executing test 118: GROUPED_STRINGS               \n",
      "Executing test 119: RARE_PAIRS                    \n",
      "Executing test 120: RARE_PAIRS_FIRST_CHAR         \n",
      "Executing test 121: RARE_PAIRS_FIRST_WORD         \n",
      "Executing test 122: RARE_PAIRS_FIRST_WORD_VAL     \n",
      "Executing test 123: SIMILAR_CHARACTERS            \n",
      "Executing test 124: SIMILAR_NUM_CHARS             \n",
      "Executing test 125: SIMILAR_WORDS                 \n",
      "Executing test 126: SIMILAR_NUM_WORDS             \n",
      "Executing test 127: SAME_FIRST_CHARS              \n",
      "Executing test 128: SAME_FIRST_WORD               \n",
      "Executing test 129: SAME_LAST_WORD                \n",
      "Executing test 130: SAME_ALPHA_CHARS              \n",
      "Executing test 131: SAME_NUMERIC_CHARS            \n",
      "Executing test 132: SAME_SPECIAL_CHARS            \n",
      "Executing test 133: A_PREFIX_OF_B                 \n",
      "Executing test 134: A_SUFFIX_OF_B                 \n",
      "Executing test 135: B_CONTAINS_A                  \n",
      "Executing test 136: CORRELATED_ALPHA_ORDER        \n",
      "Executing test 137: LARGE_GIVEN_VALUE             \n",
      "Executing test 138: SMALL_GIVEN_VALUE             \n",
      "Executing test 139: LARGE_GIVEN_PREFIX            \n",
      "Executing test 140: SMALL_GIVEN_PREFIX            \n",
      "Executing test 141: GROUPED_STRINGS_BY_NUMERIC    \n",
      "Executing test 142: LARGE_GIVEN_PAIR              \n",
      "Executing test 143: SMALL_GIVEN_PAIR              \n",
      "Executing test 144: CORRELATED_GIVEN_VALUE        \n",
      "Executing test 145: DECISION_TREE_CLASSIFIER      \n",
      "Executing test 146: C_IS_A_OR_B                   \n",
      "Executing test 147: TWO_PAIRS                     \n",
      "Executing test 148: UNIQUE_SETS_VALUES            \n",
      "Executing test 149: MISSING_VALUES_PER_ROW        \n",
      "Executing test 150: ZERO_VALUES_PER_ROW           \n",
      "Executing test 151: UNIQUE_VALUES_PER_ROW         \n",
      "Executing test 152: NEGATIVE_VALUES_PER_ROW       \n",
      "Executing test 153: SMALL_AVG_RANK_PER_ROW        \n",
      "Executing test 154: LARGE_AVG_RANK_PER_ROW        \n",
      "\n",
      "Data consistency check complete.\n",
      "Analysed 20,640 rows, 8 columns\n",
      "Executed 155 tests.\n",
      "\n",
      "Patterns without Exceptions:\n",
      "Found 30 patterns without exceptions\n",
      "8 tests (5.16% of tests) identified at least one pattern without exceptions each. \n",
      "By default some patterns are not listed in calls to display_detailed_results().\n",
      "\n",
      "Patterns with Exceptions:\n",
      "Found 16 patterns with exceptions\n",
      "8 tests (5.16% of tests) flagged at least one exception each.\n",
      "Flagged 384 row(s) with at least one exception.\n",
      "Flagged 8 column(s) with at least one exception.\n"
     ]
    }
   ],
   "source": [
    "# Run the full set of tests on the data, using the default parameters. \n",
    "\n",
    "dc = DataConsistencyChecker()  \n",
    "dc.init_data(df)\n",
    "_ = dc.check_data_quality()"
   ]
  },
  {
   "cell_type": "code",
   "execution_count": 5,
   "id": "e07dc384",
   "metadata": {
    "scrolled": false
   },
   "outputs": [
    {
     "data": {
      "text/markdown": [
       "Some patterns not shown. Set show_short_list_only to False to see additional patterns."
      ],
      "text/plain": [
       "<IPython.core.display.Markdown object>"
      ]
     },
     "metadata": {},
     "output_type": "display_data"
    },
    {
     "name": "stdout",
     "output_type": "stream",
     "text": [
      "\n",
      "\n",
      "\n",
      "\n"
     ]
    },
    {
     "data": {
      "text/markdown": [
       "# Patterns Summary (short list only)"
      ],
      "text/plain": [
       "<IPython.core.display.Markdown object>"
      ]
     },
     "metadata": {},
     "output_type": "display_data"
    },
    {
     "data": {
      "text/html": [
       "<div>\n",
       "<style scoped>\n",
       "    .dataframe tbody tr th:only-of-type {\n",
       "        vertical-align: middle;\n",
       "    }\n",
       "\n",
       "    .dataframe tbody tr th {\n",
       "        vertical-align: top;\n",
       "    }\n",
       "\n",
       "    .dataframe thead th {\n",
       "        text-align: right;\n",
       "    }\n",
       "</style>\n",
       "<table border=\"1\" class=\"dataframe\">\n",
       "  <thead>\n",
       "    <tr style=\"text-align: right;\">\n",
       "      <th></th>\n",
       "      <th>Test ID</th>\n",
       "      <th>Column(s)</th>\n",
       "      <th>Description of Pattern</th>\n",
       "      <th>Pattern ID</th>\n",
       "    </tr>\n",
       "  </thead>\n",
       "  <tbody>\n",
       "    <tr>\n",
       "      <th>7</th>\n",
       "      <td>NEGATIVE</td>\n",
       "      <td>Longitude</td>\n",
       "      <td>The column contains consistently negative values</td>\n",
       "      <td>7</td>\n",
       "    </tr>\n",
       "    <tr>\n",
       "      <th>28</th>\n",
       "      <td>MISSING_VALUES_PER_ROW</td>\n",
       "      <td>This test executes over all columns</td>\n",
       "      <td>The dataset consistently has  0 null values per row</td>\n",
       "      <td>28</td>\n",
       "    </tr>\n",
       "    <tr>\n",
       "      <th>29</th>\n",
       "      <td>NEGATIVE_VALUES_PER_ROW</td>\n",
       "      <td>This test executes over all numeric columns</td>\n",
       "      <td>The dataset consistently has  1  negative values per row</td>\n",
       "      <td>29</td>\n",
       "    </tr>\n",
       "  </tbody>\n",
       "</table>\n",
       "</div>"
      ],
      "text/plain": [
       "                    Test ID                                    Column(s)                                    Description of Pattern  Pattern ID\n",
       "7                  NEGATIVE                                    Longitude          The column contains consistently negative values           7\n",
       "28   MISSING_VALUES_PER_ROW          This test executes over all columns       The dataset consistently has  0 null values per row          28\n",
       "29  NEGATIVE_VALUES_PER_ROW  This test executes over all numeric columns  The dataset consistently has  1  negative values per row          29"
      ]
     },
     "metadata": {},
     "output_type": "display_data"
    },
    {
     "name": "stdout",
     "output_type": "stream",
     "text": [
      "\n",
      "\n",
      "\n",
      "\n"
     ]
    },
    {
     "data": {
      "text/markdown": [
       "# Patterns by Test and Feature"
      ],
      "text/plain": [
       "<IPython.core.display.Markdown object>"
      ]
     },
     "metadata": {},
     "output_type": "display_data"
    },
    {
     "data": {
      "text/html": [
       "<div>\n",
       "<style scoped>\n",
       "    .dataframe tbody tr th:only-of-type {\n",
       "        vertical-align: middle;\n",
       "    }\n",
       "\n",
       "    .dataframe tbody tr th {\n",
       "        vertical-align: top;\n",
       "    }\n",
       "\n",
       "    .dataframe thead th {\n",
       "        text-align: right;\n",
       "    }\n",
       "</style>\n",
       "<table border=\"1\" class=\"dataframe\">\n",
       "  <thead>\n",
       "    <tr style=\"text-align: right;\">\n",
       "      <th></th>\n",
       "      <th>MedInc</th>\n",
       "      <th>HouseAge</th>\n",
       "      <th>AveRooms</th>\n",
       "      <th>AveBedrms</th>\n",
       "      <th>Population</th>\n",
       "      <th>AveOccup</th>\n",
       "      <th>Latitude</th>\n",
       "      <th>Longitude</th>\n",
       "    </tr>\n",
       "    <tr>\n",
       "      <th>Test ID</th>\n",
       "      <th></th>\n",
       "      <th></th>\n",
       "      <th></th>\n",
       "      <th></th>\n",
       "      <th></th>\n",
       "      <th></th>\n",
       "      <th></th>\n",
       "      <th></th>\n",
       "    </tr>\n",
       "  </thead>\n",
       "  <tbody>\n",
       "    <tr>\n",
       "      <th>POSITIVE</th>\n",
       "      <td>✔</td>\n",
       "      <td>✔</td>\n",
       "      <td>✔</td>\n",
       "      <td>✔</td>\n",
       "      <td>✔</td>\n",
       "      <td>✔</td>\n",
       "      <td>✔</td>\n",
       "      <td></td>\n",
       "    </tr>\n",
       "    <tr>\n",
       "      <th>NEGATIVE</th>\n",
       "      <td></td>\n",
       "      <td></td>\n",
       "      <td></td>\n",
       "      <td></td>\n",
       "      <td></td>\n",
       "      <td></td>\n",
       "      <td></td>\n",
       "      <td>✔</td>\n",
       "    </tr>\n",
       "    <tr>\n",
       "      <th>NUMBER_DECIMALS</th>\n",
       "      <td>✔</td>\n",
       "      <td></td>\n",
       "      <td>✔</td>\n",
       "      <td>✔</td>\n",
       "      <td></td>\n",
       "      <td>✔</td>\n",
       "      <td>✔</td>\n",
       "      <td>✔</td>\n",
       "    </tr>\n",
       "    <tr>\n",
       "      <th>UNUSUAL_ORDER_MAGNITUDE</th>\n",
       "      <td></td>\n",
       "      <td></td>\n",
       "      <td></td>\n",
       "      <td></td>\n",
       "      <td></td>\n",
       "      <td></td>\n",
       "      <td>✔</td>\n",
       "      <td>✔</td>\n",
       "    </tr>\n",
       "    <tr>\n",
       "      <th>NON_ZERO</th>\n",
       "      <td>✔</td>\n",
       "      <td>✔</td>\n",
       "      <td>✔</td>\n",
       "      <td>✔</td>\n",
       "      <td>✔</td>\n",
       "      <td>✔</td>\n",
       "      <td>✔</td>\n",
       "      <td>✔</td>\n",
       "    </tr>\n",
       "    <tr>\n",
       "      <th>GREATER_THAN_ONE</th>\n",
       "      <td></td>\n",
       "      <td>✔</td>\n",
       "      <td></td>\n",
       "      <td></td>\n",
       "      <td>✔</td>\n",
       "      <td></td>\n",
       "      <td>✔</td>\n",
       "      <td>✔</td>\n",
       "    </tr>\n",
       "    <tr>\n",
       "      <th>MISSING_VALUES_PER_ROW</th>\n",
       "      <td>✔</td>\n",
       "      <td>✔</td>\n",
       "      <td>✔</td>\n",
       "      <td>✔</td>\n",
       "      <td>✔</td>\n",
       "      <td>✔</td>\n",
       "      <td>✔</td>\n",
       "      <td>✔</td>\n",
       "    </tr>\n",
       "    <tr>\n",
       "      <th>NEGATIVE_VALUES_PER_ROW</th>\n",
       "      <td>✔</td>\n",
       "      <td>✔</td>\n",
       "      <td>✔</td>\n",
       "      <td>✔</td>\n",
       "      <td>✔</td>\n",
       "      <td>✔</td>\n",
       "      <td>✔</td>\n",
       "      <td>✔</td>\n",
       "    </tr>\n",
       "  </tbody>\n",
       "</table>\n",
       "</div>"
      ],
      "text/plain": [
       "                        MedInc HouseAge AveRooms AveBedrms Population AveOccup Latitude Longitude\n",
       "Test ID                                                                                          \n",
       "POSITIVE                     ✔        ✔        ✔         ✔          ✔        ✔        ✔          \n",
       "NEGATIVE                                                                                        ✔\n",
       "NUMBER_DECIMALS              ✔                 ✔         ✔                   ✔        ✔         ✔\n",
       "UNUSUAL_ORDER_MAGNITUDE                                                               ✔         ✔\n",
       "NON_ZERO                     ✔        ✔        ✔         ✔          ✔        ✔        ✔         ✔\n",
       "GREATER_THAN_ONE                      ✔                             ✔                 ✔         ✔\n",
       "MISSING_VALUES_PER_ROW       ✔        ✔        ✔         ✔          ✔        ✔        ✔         ✔\n",
       "NEGATIVE_VALUES_PER_ROW      ✔        ✔        ✔         ✔          ✔        ✔        ✔         ✔"
      ]
     },
     "metadata": {},
     "output_type": "display_data"
    },
    {
     "name": "stdout",
     "output_type": "stream",
     "text": [
      "\n",
      "\n",
      "\n",
      "\n"
     ]
    },
    {
     "data": {
      "text/markdown": [
       "# Exceptions Summary"
      ],
      "text/plain": [
       "<IPython.core.display.Markdown object>"
      ]
     },
     "metadata": {},
     "output_type": "display_data"
    },
    {
     "data": {
      "text/html": [
       "<div>\n",
       "<style scoped>\n",
       "    .dataframe tbody tr th:only-of-type {\n",
       "        vertical-align: middle;\n",
       "    }\n",
       "\n",
       "    .dataframe tbody tr th {\n",
       "        vertical-align: top;\n",
       "    }\n",
       "\n",
       "    .dataframe thead th {\n",
       "        text-align: right;\n",
       "    }\n",
       "</style>\n",
       "<table border=\"1\" class=\"dataframe\">\n",
       "  <thead>\n",
       "    <tr style=\"text-align: right;\">\n",
       "      <th></th>\n",
       "      <th>Test ID</th>\n",
       "      <th>Column(s)</th>\n",
       "      <th>Description of Pattern</th>\n",
       "      <th>Number of Exceptions</th>\n",
       "      <th>Issue ID</th>\n",
       "    </tr>\n",
       "  </thead>\n",
       "  <tbody>\n",
       "    <tr>\n",
       "      <th>0</th>\n",
       "      <td>SIMILAR_PREVIOUS</td>\n",
       "      <td>Latitude</td>\n",
       "      <td>The values in \"Latitude\" are consistently similar to the previous value, more so than they are similar to the median value of the column (34.26), with exceptions.</td>\n",
       "      <td>11</td>\n",
       "      <td>0</td>\n",
       "    </tr>\n",
       "    <tr>\n",
       "      <th>1</th>\n",
       "      <td>SIMILAR_PREVIOUS</td>\n",
       "      <td>Longitude</td>\n",
       "      <td>The values in \"Longitude\" are consistently similar to the previous value, more so than they are similar to the median value of the column (-118.49), with exceptions.</td>\n",
       "      <td>6</td>\n",
       "      <td>1</td>\n",
       "    </tr>\n",
       "    <tr>\n",
       "      <th>2</th>\n",
       "      <td>FEW_NEIGHBORS</td>\n",
       "      <td>AveBedrms</td>\n",
       "      <td>The test marked any values more than 3.373 away from both the next smallest and next largest values in the column.</td>\n",
       "      <td>1</td>\n",
       "      <td>2</td>\n",
       "    </tr>\n",
       "    <tr>\n",
       "      <th>3</th>\n",
       "      <td>FEW_NEIGHBORS</td>\n",
       "      <td>Population</td>\n",
       "      <td>The test marked any values more than 3567.900 away from both the next smallest and next largest values in the column.</td>\n",
       "      <td>1</td>\n",
       "      <td>3</td>\n",
       "    </tr>\n",
       "    <tr>\n",
       "      <th>4</th>\n",
       "      <td>FEW_NEIGHBORS</td>\n",
       "      <td>AveOccup</td>\n",
       "      <td>The test marked any values more than 124.264 away from both the next smallest and next largest values in the column.</td>\n",
       "      <td>1</td>\n",
       "      <td>4</td>\n",
       "    </tr>\n",
       "    <tr>\n",
       "      <th>5</th>\n",
       "      <td>VERY_SMALL</td>\n",
       "      <td>AveBedrms</td>\n",
       "      <td>The test marked any values less than 0.7601022770030672 as very small given the 10th decile is 0.9664147748651699 and the 90th is 1.1727272727272726. The coefficient is set at 1.0.</td>\n",
       "      <td>42</td>\n",
       "      <td>5</td>\n",
       "    </tr>\n",
       "    <tr>\n",
       "      <th>6</th>\n",
       "      <td>VERY_LARGE</td>\n",
       "      <td>MedInc</td>\n",
       "      <td>The test marked any values larger than 12.37 as very large given the 25th quartile is 2.5633999999999997 and 75th is 4.74325.</td>\n",
       "      <td>100</td>\n",
       "      <td>6</td>\n",
       "    </tr>\n",
       "    <tr>\n",
       "      <th>7</th>\n",
       "      <td>VERY_LARGE</td>\n",
       "      <td>AveOccup</td>\n",
       "      <td>The test marked any values larger than 6.27 as very large given the 25th quartile is 2.4297411475535755 and 75th is 3.282260924273622.</td>\n",
       "      <td>93</td>\n",
       "      <td>7</td>\n",
       "    </tr>\n",
       "    <tr>\n",
       "      <th>8</th>\n",
       "      <td>GREATER_THAN_ONE</td>\n",
       "      <td>AveRooms</td>\n",
       "      <td>The column consistently contains absolute values greater than or equal to 1.0, with exceptions.</td>\n",
       "      <td>2</td>\n",
       "      <td>8</td>\n",
       "    </tr>\n",
       "    <tr>\n",
       "      <th>9</th>\n",
       "      <td>GREATER_THAN_ONE</td>\n",
       "      <td>AveOccup</td>\n",
       "      <td>The column consistently contains absolute values greater than or equal to 1.0, with exceptions.</td>\n",
       "      <td>3</td>\n",
       "      <td>9</td>\n",
       "    </tr>\n",
       "    <tr>\n",
       "      <th>10</th>\n",
       "      <td>MUCH_LARGER</td>\n",
       "      <td>\"MedInc\" AND \"Population\"</td>\n",
       "      <td>\"Population\" is consistently an order of magnitude or more larger than \"MedInc\", with exceptions (where values may still be larger, but not by the normal extent).</td>\n",
       "      <td>71</td>\n",
       "      <td>10</td>\n",
       "    </tr>\n",
       "    <tr>\n",
       "      <th>11</th>\n",
       "      <td>MUCH_LARGER</td>\n",
       "      <td>\"AveBedrms\" AND \"Population\"</td>\n",
       "      <td>\"Population\" is consistently an order of magnitude or more larger than \"AveBedrms\", with exceptions (where values may still be larger, but not by the normal extent).</td>\n",
       "      <td>28</td>\n",
       "      <td>11</td>\n",
       "    </tr>\n",
       "    <tr>\n",
       "      <th>12</th>\n",
       "      <td>MUCH_LARGER</td>\n",
       "      <td>\"AveOccup\" AND \"Population\"</td>\n",
       "      <td>\"Population\" is consistently an order of magnitude or more larger than \"AveOccup\", with exceptions (where values may still be larger, but not by the normal extent).</td>\n",
       "      <td>58</td>\n",
       "      <td>12</td>\n",
       "    </tr>\n",
       "    <tr>\n",
       "      <th>13</th>\n",
       "      <td>MUCH_LARGER</td>\n",
       "      <td>\"AveBedrms\" AND \"Latitude\"</td>\n",
       "      <td>\"Latitude\" is consistently an order of magnitude or more larger than \"AveBedrms\", with exceptions (where values may still be larger, but not by the normal extent).</td>\n",
       "      <td>78</td>\n",
       "      <td>13</td>\n",
       "    </tr>\n",
       "    <tr>\n",
       "      <th>14</th>\n",
       "      <td>SMALL_AVG_RANK_PER_ROW</td>\n",
       "      <td>\"MedInc\" AND \"HouseAge\" AND \"AveRooms\" AND \"AveBedrms\" AND \"Population\" AND \"AveOccup\" AND \"Latitude\" AND \"Longitude\"</td>\n",
       "      <td>This test considered all numeric columns, and calculated the percentile of each value, relative to its column. The average percentile was then calculated per row. The flagged rows contain average percentiles that are unusually small, suggesting consistently low values across all or most numeric columns. This flags any rows with an average percentile of 0.174 or lower.</td>\n",
       "      <td>5</td>\n",
       "      <td>14</td>\n",
       "    </tr>\n",
       "    <tr>\n",
       "      <th>15</th>\n",
       "      <td>LARGE_AVG_RANK_PER_ROW</td>\n",
       "      <td>\"MedInc\" AND \"HouseAge\" AND \"AveRooms\" AND \"AveBedrms\" AND \"Population\" AND \"AveOccup\" AND \"Latitude\" AND \"Longitude\"</td>\n",
       "      <td>This test considered all numeric columns, and calculated the percentile of each value, relative to its column. The average percentile was then calculated per row. The flagged rows contain average percentiles that are unusually high, suggesting consistently high values across all or most numeric columns. This flags any rows with an average percentile of 0.811 or higher.</td>\n",
       "      <td>1</td>\n",
       "      <td>15</td>\n",
       "    </tr>\n",
       "  </tbody>\n",
       "</table>\n",
       "</div>"
      ],
      "text/plain": [
       "                   Test ID                                                                                                              Column(s)                                                                                                                                                                                                                                                                                                                                                               Description of Pattern  Number of Exceptions  Issue ID\n",
       "0         SIMILAR_PREVIOUS                                                                                                               Latitude                                                                                                                                                                                                                   The values in \"Latitude\" are consistently similar to the previous value, more so than they are similar to the median value of the column (34.26), with exceptions.                    11         0\n",
       "1         SIMILAR_PREVIOUS                                                                                                              Longitude                                                                                                                                                                                                                The values in \"Longitude\" are consistently similar to the previous value, more so than they are similar to the median value of the column (-118.49), with exceptions.                     6         1\n",
       "2            FEW_NEIGHBORS                                                                                                              AveBedrms                                                                                                                                                                                                                                                                   The test marked any values more than 3.373 away from both the next smallest and next largest values in the column.                     1         2\n",
       "3            FEW_NEIGHBORS                                                                                                             Population                                                                                                                                                                                                                                                                The test marked any values more than 3567.900 away from both the next smallest and next largest values in the column.                     1         3\n",
       "4            FEW_NEIGHBORS                                                                                                               AveOccup                                                                                                                                                                                                                                                                 The test marked any values more than 124.264 away from both the next smallest and next largest values in the column.                     1         4\n",
       "5               VERY_SMALL                                                                                                              AveBedrms                                                                                                                                                                                                 The test marked any values less than 0.7601022770030672 as very small given the 10th decile is 0.9664147748651699 and the 90th is 1.1727272727272726. The coefficient is set at 1.0.                    42         5\n",
       "6               VERY_LARGE                                                                                                                 MedInc                                                                                                                                                                                                                                                        The test marked any values larger than 12.37 as very large given the 25th quartile is 2.5633999999999997 and 75th is 4.74325.                   100         6\n",
       "7               VERY_LARGE                                                                                                               AveOccup                                                                                                                                                                                                                                               The test marked any values larger than 6.27 as very large given the 25th quartile is 2.4297411475535755 and 75th is 3.282260924273622.                    93         7\n",
       "8         GREATER_THAN_ONE                                                                                                               AveRooms                                                                                                                                                                                                                                                                                      The column consistently contains absolute values greater than or equal to 1.0, with exceptions.                     2         8\n",
       "9         GREATER_THAN_ONE                                                                                                               AveOccup                                                                                                                                                                                                                                                                                      The column consistently contains absolute values greater than or equal to 1.0, with exceptions.                     3         9\n",
       "10             MUCH_LARGER                                                                                              \"MedInc\" AND \"Population\"                                                                                                                                                                                                                   \"Population\" is consistently an order of magnitude or more larger than \"MedInc\", with exceptions (where values may still be larger, but not by the normal extent).                    71        10\n",
       "11             MUCH_LARGER                                                                                           \"AveBedrms\" AND \"Population\"                                                                                                                                                                                                                \"Population\" is consistently an order of magnitude or more larger than \"AveBedrms\", with exceptions (where values may still be larger, but not by the normal extent).                    28        11\n",
       "12             MUCH_LARGER                                                                                            \"AveOccup\" AND \"Population\"                                                                                                                                                                                                                 \"Population\" is consistently an order of magnitude or more larger than \"AveOccup\", with exceptions (where values may still be larger, but not by the normal extent).                    58        12\n",
       "13             MUCH_LARGER                                                                                             \"AveBedrms\" AND \"Latitude\"                                                                                                                                                                                                                  \"Latitude\" is consistently an order of magnitude or more larger than \"AveBedrms\", with exceptions (where values may still be larger, but not by the normal extent).                    78        13\n",
       "14  SMALL_AVG_RANK_PER_ROW  \"MedInc\" AND \"HouseAge\" AND \"AveRooms\" AND \"AveBedrms\" AND \"Population\" AND \"AveOccup\" AND \"Latitude\" AND \"Longitude\"   This test considered all numeric columns, and calculated the percentile of each value, relative to its column. The average percentile was then calculated per row. The flagged rows contain average percentiles that are unusually small, suggesting consistently low values across all or most numeric columns. This flags any rows with an average percentile of 0.174 or lower.                     5        14\n",
       "15  LARGE_AVG_RANK_PER_ROW  \"MedInc\" AND \"HouseAge\" AND \"AveRooms\" AND \"AveBedrms\" AND \"Population\" AND \"AveOccup\" AND \"Latitude\" AND \"Longitude\"  This test considered all numeric columns, and calculated the percentile of each value, relative to its column. The average percentile was then calculated per row. The flagged rows contain average percentiles that are unusually high, suggesting consistently high values across all or most numeric columns. This flags any rows with an average percentile of 0.811 or higher.                     1        15"
      ]
     },
     "metadata": {},
     "output_type": "display_data"
    },
    {
     "name": "stdout",
     "output_type": "stream",
     "text": [
      "\n",
      "\n",
      "\n",
      "\n"
     ]
    },
    {
     "data": {
      "text/markdown": [
       "# Exceptions Summary by Test and Feature"
      ],
      "text/plain": [
       "<IPython.core.display.Markdown object>"
      ]
     },
     "metadata": {},
     "output_type": "display_data"
    },
    {
     "data": {
      "text/html": [
       "<div>\n",
       "<style scoped>\n",
       "    .dataframe tbody tr th:only-of-type {\n",
       "        vertical-align: middle;\n",
       "    }\n",
       "\n",
       "    .dataframe tbody tr th {\n",
       "        vertical-align: top;\n",
       "    }\n",
       "\n",
       "    .dataframe thead th {\n",
       "        text-align: right;\n",
       "    }\n",
       "</style>\n",
       "<table border=\"1\" class=\"dataframe\">\n",
       "  <thead>\n",
       "    <tr style=\"text-align: right;\">\n",
       "      <th></th>\n",
       "      <th>MedInc</th>\n",
       "      <th>HouseAge</th>\n",
       "      <th>AveRooms</th>\n",
       "      <th>AveBedrms</th>\n",
       "      <th>Population</th>\n",
       "      <th>AveOccup</th>\n",
       "      <th>Latitude</th>\n",
       "      <th>Longitude</th>\n",
       "    </tr>\n",
       "    <tr>\n",
       "      <th>Test ID</th>\n",
       "      <th></th>\n",
       "      <th></th>\n",
       "      <th></th>\n",
       "      <th></th>\n",
       "      <th></th>\n",
       "      <th></th>\n",
       "      <th></th>\n",
       "      <th></th>\n",
       "    </tr>\n",
       "  </thead>\n",
       "  <tbody>\n",
       "    <tr>\n",
       "      <th>SIMILAR_PREVIOUS</th>\n",
       "      <td>0</td>\n",
       "      <td>0</td>\n",
       "      <td>0</td>\n",
       "      <td>0</td>\n",
       "      <td>0</td>\n",
       "      <td>0</td>\n",
       "      <td>1</td>\n",
       "      <td>1</td>\n",
       "    </tr>\n",
       "    <tr>\n",
       "      <th>FEW_NEIGHBORS</th>\n",
       "      <td>0</td>\n",
       "      <td>0</td>\n",
       "      <td>0</td>\n",
       "      <td>1</td>\n",
       "      <td>1</td>\n",
       "      <td>1</td>\n",
       "      <td>0</td>\n",
       "      <td>0</td>\n",
       "    </tr>\n",
       "    <tr>\n",
       "      <th>VERY_SMALL</th>\n",
       "      <td>0</td>\n",
       "      <td>0</td>\n",
       "      <td>0</td>\n",
       "      <td>1</td>\n",
       "      <td>0</td>\n",
       "      <td>0</td>\n",
       "      <td>0</td>\n",
       "      <td>0</td>\n",
       "    </tr>\n",
       "    <tr>\n",
       "      <th>VERY_LARGE</th>\n",
       "      <td>1</td>\n",
       "      <td>0</td>\n",
       "      <td>0</td>\n",
       "      <td>0</td>\n",
       "      <td>0</td>\n",
       "      <td>1</td>\n",
       "      <td>0</td>\n",
       "      <td>0</td>\n",
       "    </tr>\n",
       "    <tr>\n",
       "      <th>GREATER_THAN_ONE</th>\n",
       "      <td>0</td>\n",
       "      <td>0</td>\n",
       "      <td>1</td>\n",
       "      <td>0</td>\n",
       "      <td>0</td>\n",
       "      <td>1</td>\n",
       "      <td>0</td>\n",
       "      <td>0</td>\n",
       "    </tr>\n",
       "    <tr>\n",
       "      <th>MUCH_LARGER</th>\n",
       "      <td>1</td>\n",
       "      <td>0</td>\n",
       "      <td>0</td>\n",
       "      <td>1</td>\n",
       "      <td>1</td>\n",
       "      <td>1</td>\n",
       "      <td>1</td>\n",
       "      <td>0</td>\n",
       "    </tr>\n",
       "    <tr>\n",
       "      <th>SMALL_AVG_RANK_PER_ROW</th>\n",
       "      <td>1</td>\n",
       "      <td>1</td>\n",
       "      <td>1</td>\n",
       "      <td>1</td>\n",
       "      <td>1</td>\n",
       "      <td>1</td>\n",
       "      <td>1</td>\n",
       "      <td>1</td>\n",
       "    </tr>\n",
       "    <tr>\n",
       "      <th>LARGE_AVG_RANK_PER_ROW</th>\n",
       "      <td>1</td>\n",
       "      <td>1</td>\n",
       "      <td>1</td>\n",
       "      <td>1</td>\n",
       "      <td>1</td>\n",
       "      <td>1</td>\n",
       "      <td>1</td>\n",
       "      <td>1</td>\n",
       "    </tr>\n",
       "  </tbody>\n",
       "</table>\n",
       "</div>"
      ],
      "text/plain": [
       "                        MedInc  HouseAge  AveRooms  AveBedrms  Population  AveOccup  Latitude  Longitude\n",
       "Test ID                                                                                                 \n",
       "SIMILAR_PREVIOUS             0         0         0          0           0         0         1          1\n",
       "FEW_NEIGHBORS                0         0         0          1           1         1         0          0\n",
       "VERY_SMALL                   0         0         0          1           0         0         0          0\n",
       "VERY_LARGE                   1         0         0          0           0         1         0          0\n",
       "GREATER_THAN_ONE             0         0         1          0           0         1         0          0\n",
       "MUCH_LARGER                  1         0         0          1           1         1         1          0\n",
       "SMALL_AVG_RANK_PER_ROW       1         1         1          1           1         1         1          1\n",
       "LARGE_AVG_RANK_PER_ROW       1         1         1          1           1         1         1          1"
      ]
     },
     "metadata": {},
     "output_type": "display_data"
    },
    {
     "name": "stdout",
     "output_type": "stream",
     "text": [
      "\n",
      "\n",
      "\n",
      "\n"
     ]
    },
    {
     "data": {
      "text/markdown": [
       "# Exceptions Summary by Test"
      ],
      "text/plain": [
       "<IPython.core.display.Markdown object>"
      ]
     },
     "metadata": {},
     "output_type": "display_data"
    },
    {
     "data": {
      "text/html": [
       "<div>\n",
       "<style scoped>\n",
       "    .dataframe tbody tr th:only-of-type {\n",
       "        vertical-align: middle;\n",
       "    }\n",
       "\n",
       "    .dataframe tbody tr th {\n",
       "        vertical-align: top;\n",
       "    }\n",
       "\n",
       "    .dataframe thead th {\n",
       "        text-align: right;\n",
       "    }\n",
       "</style>\n",
       "<table border=\"1\" class=\"dataframe\">\n",
       "  <thead>\n",
       "    <tr style=\"text-align: right;\">\n",
       "      <th></th>\n",
       "      <th>Number of Columns Flagged At Least Once</th>\n",
       "      <th>Number of Issues Total</th>\n",
       "    </tr>\n",
       "    <tr>\n",
       "      <th>Test ID</th>\n",
       "      <th></th>\n",
       "      <th></th>\n",
       "    </tr>\n",
       "  </thead>\n",
       "  <tbody>\n",
       "    <tr>\n",
       "      <th>SIMILAR_PREVIOUS</th>\n",
       "      <td>2</td>\n",
       "      <td>17</td>\n",
       "    </tr>\n",
       "    <tr>\n",
       "      <th>FEW_NEIGHBORS</th>\n",
       "      <td>3</td>\n",
       "      <td>3</td>\n",
       "    </tr>\n",
       "    <tr>\n",
       "      <th>VERY_SMALL</th>\n",
       "      <td>1</td>\n",
       "      <td>42</td>\n",
       "    </tr>\n",
       "    <tr>\n",
       "      <th>VERY_LARGE</th>\n",
       "      <td>2</td>\n",
       "      <td>193</td>\n",
       "    </tr>\n",
       "    <tr>\n",
       "      <th>GREATER_THAN_ONE</th>\n",
       "      <td>2</td>\n",
       "      <td>5</td>\n",
       "    </tr>\n",
       "    <tr>\n",
       "      <th>MUCH_LARGER</th>\n",
       "      <td>4</td>\n",
       "      <td>235</td>\n",
       "    </tr>\n",
       "    <tr>\n",
       "      <th>SMALL_AVG_RANK_PER_ROW</th>\n",
       "      <td>1</td>\n",
       "      <td>5</td>\n",
       "    </tr>\n",
       "    <tr>\n",
       "      <th>LARGE_AVG_RANK_PER_ROW</th>\n",
       "      <td>1</td>\n",
       "      <td>1</td>\n",
       "    </tr>\n",
       "  </tbody>\n",
       "</table>\n",
       "</div>"
      ],
      "text/plain": [
       "                        Number of Columns Flagged At Least Once  Number of Issues Total\n",
       "Test ID                                                                                \n",
       "SIMILAR_PREVIOUS                                              2                      17\n",
       "FEW_NEIGHBORS                                                 3                       3\n",
       "VERY_SMALL                                                    1                      42\n",
       "VERY_LARGE                                                    2                     193\n",
       "GREATER_THAN_ONE                                              2                       5\n",
       "MUCH_LARGER                                                   4                     235\n",
       "SMALL_AVG_RANK_PER_ROW                                        1                       5\n",
       "LARGE_AVG_RANK_PER_ROW                                        1                       1"
      ]
     },
     "metadata": {},
     "output_type": "display_data"
    },
    {
     "name": "stdout",
     "output_type": "stream",
     "text": [
      "\n",
      "\n",
      "\n",
      "\n"
     ]
    },
    {
     "data": {
      "text/markdown": [
       "# Summary of Patterns and Exceptions (all tests)"
      ],
      "text/plain": [
       "<IPython.core.display.Markdown object>"
      ]
     },
     "metadata": {},
     "output_type": "display_data"
    },
    {
     "data": {
      "text/html": [
       "<div>\n",
       "<style scoped>\n",
       "    .dataframe tbody tr th:only-of-type {\n",
       "        vertical-align: middle;\n",
       "    }\n",
       "\n",
       "    .dataframe tbody tr th {\n",
       "        vertical-align: top;\n",
       "    }\n",
       "\n",
       "    .dataframe thead th {\n",
       "        text-align: right;\n",
       "    }\n",
       "</style>\n",
       "<table border=\"1\" class=\"dataframe\">\n",
       "  <thead>\n",
       "    <tr style=\"text-align: right;\">\n",
       "      <th></th>\n",
       "      <th>Test ID</th>\n",
       "      <th>Number Patterns without Exceptions</th>\n",
       "      <th>Number Patterns with Exceptions</th>\n",
       "    </tr>\n",
       "  </thead>\n",
       "  <tbody>\n",
       "    <tr>\n",
       "      <th>0</th>\n",
       "      <td>POSITIVE</td>\n",
       "      <td>7</td>\n",
       "      <td></td>\n",
       "    </tr>\n",
       "    <tr>\n",
       "      <th>1</th>\n",
       "      <td>NEGATIVE</td>\n",
       "      <td>1</td>\n",
       "      <td></td>\n",
       "    </tr>\n",
       "    <tr>\n",
       "      <th>2</th>\n",
       "      <td>NUMBER_DECIMALS</td>\n",
       "      <td>6</td>\n",
       "      <td></td>\n",
       "    </tr>\n",
       "    <tr>\n",
       "      <th>3</th>\n",
       "      <td>SIMILAR_PREVIOUS</td>\n",
       "      <td></td>\n",
       "      <td>2</td>\n",
       "    </tr>\n",
       "    <tr>\n",
       "      <th>4</th>\n",
       "      <td>UNUSUAL_ORDER_MAGNITUDE</td>\n",
       "      <td>2</td>\n",
       "      <td></td>\n",
       "    </tr>\n",
       "    <tr>\n",
       "      <th>5</th>\n",
       "      <td>FEW_NEIGHBORS</td>\n",
       "      <td></td>\n",
       "      <td>3</td>\n",
       "    </tr>\n",
       "    <tr>\n",
       "      <th>6</th>\n",
       "      <td>VERY_SMALL</td>\n",
       "      <td></td>\n",
       "      <td>1</td>\n",
       "    </tr>\n",
       "    <tr>\n",
       "      <th>7</th>\n",
       "      <td>VERY_LARGE</td>\n",
       "      <td></td>\n",
       "      <td>2</td>\n",
       "    </tr>\n",
       "    <tr>\n",
       "      <th>8</th>\n",
       "      <td>NON_ZERO</td>\n",
       "      <td>8</td>\n",
       "      <td></td>\n",
       "    </tr>\n",
       "    <tr>\n",
       "      <th>9</th>\n",
       "      <td>GREATER_THAN_ONE</td>\n",
       "      <td>4</td>\n",
       "      <td>2</td>\n",
       "    </tr>\n",
       "    <tr>\n",
       "      <th>10</th>\n",
       "      <td>MUCH_LARGER</td>\n",
       "      <td></td>\n",
       "      <td>4</td>\n",
       "    </tr>\n",
       "    <tr>\n",
       "      <th>11</th>\n",
       "      <td>MISSING_VALUES_PER_ROW</td>\n",
       "      <td>1</td>\n",
       "      <td></td>\n",
       "    </tr>\n",
       "    <tr>\n",
       "      <th>12</th>\n",
       "      <td>NEGATIVE_VALUES_PER_ROW</td>\n",
       "      <td>1</td>\n",
       "      <td></td>\n",
       "    </tr>\n",
       "    <tr>\n",
       "      <th>13</th>\n",
       "      <td>SMALL_AVG_RANK_PER_ROW</td>\n",
       "      <td></td>\n",
       "      <td>1</td>\n",
       "    </tr>\n",
       "    <tr>\n",
       "      <th>14</th>\n",
       "      <td>LARGE_AVG_RANK_PER_ROW</td>\n",
       "      <td></td>\n",
       "      <td>1</td>\n",
       "    </tr>\n",
       "  </tbody>\n",
       "</table>\n",
       "</div>"
      ],
      "text/plain": [
       "                    Test ID Number Patterns without Exceptions Number Patterns with Exceptions\n",
       "0                  POSITIVE                                  7                                \n",
       "1                  NEGATIVE                                  1                                \n",
       "2           NUMBER_DECIMALS                                  6                                \n",
       "3          SIMILAR_PREVIOUS                                                                  2\n",
       "4   UNUSUAL_ORDER_MAGNITUDE                                  2                                \n",
       "5             FEW_NEIGHBORS                                                                  3\n",
       "6                VERY_SMALL                                                                  1\n",
       "7                VERY_LARGE                                                                  2\n",
       "8                  NON_ZERO                                  8                                \n",
       "9          GREATER_THAN_ONE                                  4                               2\n",
       "10              MUCH_LARGER                                                                  4\n",
       "11   MISSING_VALUES_PER_ROW                                  1                                \n",
       "12  NEGATIVE_VALUES_PER_ROW                                  1                                \n",
       "13   SMALL_AVG_RANK_PER_ROW                                                                  1\n",
       "14   LARGE_AVG_RANK_PER_ROW                                                                  1"
      ]
     },
     "metadata": {},
     "output_type": "display_data"
    },
    {
     "name": "stdout",
     "output_type": "stream",
     "text": [
      "\n",
      "\n",
      "\n",
      "\n"
     ]
    },
    {
     "data": {
      "text/markdown": [
       "# Final Scores by Row of the Data"
      ],
      "text/plain": [
       "<IPython.core.display.Markdown object>"
      ]
     },
     "metadata": {},
     "output_type": "display_data"
    },
    {
     "data": {
      "image/png": "[encoded data removed]",
      "text/plain": [
       "<Figure size 360x216 with 1 Axes>"
      ]
     },
     "metadata": {
      "needs_background": "light"
     },
     "output_type": "display_data"
    },
    {
     "data": {
      "image/png": "[encoded data removed]",
      "text/plain": [
       "<Figure size 360x216 with 1 Axes>"
      ]
     },
     "metadata": {
      "needs_background": "light"
     },
     "output_type": "display_data"
    },
    {
     "data": {
      "image/png": "[encoded data removed]",
      "text/plain": [
       "<Figure size 360x216 with 1 Axes>"
      ]
     },
     "metadata": {
      "needs_background": "light"
     },
     "output_type": "display_data"
    },
    {
     "name": "stdout",
     "output_type": "stream",
     "text": [
      "\n",
      "\n",
      "\n",
      "\n"
     ]
    },
    {
     "data": {
      "text/markdown": [
       "# Final Scores by Feature"
      ],
      "text/plain": [
       "<IPython.core.display.Markdown object>"
      ]
     },
     "metadata": {},
     "output_type": "display_data"
    },
    {
     "data": {
      "image/png": "[encoded data removed]",
      "text/plain": [
       "<Figure size 360x144 with 1 Axes>"
      ]
     },
     "metadata": {
      "needs_background": "light"
     },
     "output_type": "display_data"
    },
    {
     "name": "stdout",
     "output_type": "stream",
     "text": [
      "\n",
      "\n",
      "\n",
      "\n"
     ]
    },
    {
     "data": {
      "text/markdown": [
       "# Final Scores by Test"
      ],
      "text/plain": [
       "<IPython.core.display.Markdown object>"
      ]
     },
     "metadata": {},
     "output_type": "display_data"
    },
    {
     "data": {
      "image/png": "[encoded data removed]",
      "text/plain": [
       "<Figure size 360x144 with 1 Axes>"
      ]
     },
     "metadata": {
      "needs_background": "light"
     },
     "output_type": "display_data"
    }
   ],
   "source": [
    "# Run the quick_report() API to get an overview of the patterns\n",
    "# and exceptons found. Following this, we can drill down further\n",
    "# to anything found. \n",
    "\n",
    "dc.quick_report()"
   ]
  },
  {
   "cell_type": "code",
   "execution_count": 6,
   "id": "b90ad653",
   "metadata": {
    "scrolled": false
   },
   "outputs": [
    {
     "name": "stdout",
     "output_type": "stream",
     "text": [
      "\n"
     ]
    },
    {
     "data": {
      "text/markdown": [
       "**Row: 5342 — Final Score: 4**"
      ],
      "text/plain": [
       "<IPython.core.display.Markdown object>"
      ]
     },
     "metadata": {},
     "output_type": "display_data"
    },
    {
     "data": {
      "text/html": [
       "<style type=\"text/css\">\n",
       "#T_fecb0_row0_col1, #T_fecb0_row0_col4, #T_fecb0_row0_col5, #T_fecb0_row0_col6 {\n",
       "  background-color: #efecc3;\n",
       "  color: black;\n",
       "}\n",
       "#T_fecb0_row0_col2, #T_fecb0_row0_col3, #T_fecb0_row0_col7, #T_fecb0_row0_col8 {\n",
       "  background-color: #e5f8fa;\n",
       "  color: black;\n",
       "}\n",
       "</style>\n",
       "<table id=\"T_fecb0_\">\n",
       "  <thead>\n",
       "    <tr>\n",
       "      <th class=\"blank level0\" >&nbsp;</th>\n",
       "      <th class=\"col_heading level0 col0\" >Test ID</th>\n",
       "      <th class=\"col_heading level0 col1\" >MedInc</th>\n",
       "      <th class=\"col_heading level0 col2\" >HouseAge</th>\n",
       "      <th class=\"col_heading level0 col3\" >AveRooms</th>\n",
       "      <th class=\"col_heading level0 col4\" >AveBedrms</th>\n",
       "      <th class=\"col_heading level0 col5\" >Population</th>\n",
       "      <th class=\"col_heading level0 col6\" >AveOccup</th>\n",
       "      <th class=\"col_heading level0 col7\" >Latitude</th>\n",
       "      <th class=\"col_heading level0 col8\" >Longitude</th>\n",
       "    </tr>\n",
       "  </thead>\n",
       "  <tbody>\n",
       "    <tr>\n",
       "      <th id=\"T_fecb0_level0_row0\" class=\"row_heading level0 row0\" >0</th>\n",
       "      <td id=\"T_fecb0_row0_col0\" class=\"data row0 col0\" ></td>\n",
       "      <td id=\"T_fecb0_row0_col1\" class=\"data row0 col1\" >0.536000</td>\n",
       "      <td id=\"T_fecb0_row0_col2\" class=\"data row0 col2\" >16.000000</td>\n",
       "      <td id=\"T_fecb0_row0_col3\" class=\"data row0 col3\" >4.500000</td>\n",
       "      <td id=\"T_fecb0_row0_col4\" class=\"data row0 col4\" >1.500000</td>\n",
       "      <td id=\"T_fecb0_row0_col5\" class=\"data row0 col5\" >3.000000</td>\n",
       "      <td id=\"T_fecb0_row0_col6\" class=\"data row0 col6\" >0.750000</td>\n",
       "      <td id=\"T_fecb0_row0_col7\" class=\"data row0 col7\" >34.040000</td>\n",
       "      <td id=\"T_fecb0_row0_col8\" class=\"data row0 col8\" >-118.440000</td>\n",
       "    </tr>\n",
       "    <tr>\n",
       "      <th id=\"T_fecb0_level0_row1\" class=\"row_heading level0 row1\" >1</th>\n",
       "      <td id=\"T_fecb0_row1_col0\" class=\"data row1 col0\" >GREATER_THAN_ONE</td>\n",
       "      <td id=\"T_fecb0_row1_col1\" class=\"data row1 col1\" ></td>\n",
       "      <td id=\"T_fecb0_row1_col2\" class=\"data row1 col2\" ></td>\n",
       "      <td id=\"T_fecb0_row1_col3\" class=\"data row1 col3\" ></td>\n",
       "      <td id=\"T_fecb0_row1_col4\" class=\"data row1 col4\" ></td>\n",
       "      <td id=\"T_fecb0_row1_col5\" class=\"data row1 col5\" ></td>\n",
       "      <td id=\"T_fecb0_row1_col6\" class=\"data row1 col6\" >✔</td>\n",
       "      <td id=\"T_fecb0_row1_col7\" class=\"data row1 col7\" ></td>\n",
       "      <td id=\"T_fecb0_row1_col8\" class=\"data row1 col8\" ></td>\n",
       "    </tr>\n",
       "    <tr>\n",
       "      <th id=\"T_fecb0_level0_row2\" class=\"row_heading level0 row2\" >2</th>\n",
       "      <td id=\"T_fecb0_row2_col0\" class=\"data row2 col0\" >MUCH_LARGER</td>\n",
       "      <td id=\"T_fecb0_row2_col1\" class=\"data row2 col1\" >✔</td>\n",
       "      <td id=\"T_fecb0_row2_col2\" class=\"data row2 col2\" ></td>\n",
       "      <td id=\"T_fecb0_row2_col3\" class=\"data row2 col3\" ></td>\n",
       "      <td id=\"T_fecb0_row2_col4\" class=\"data row2 col4\" >✔</td>\n",
       "      <td id=\"T_fecb0_row2_col5\" class=\"data row2 col5\" >✔</td>\n",
       "      <td id=\"T_fecb0_row2_col6\" class=\"data row2 col6\" >✔</td>\n",
       "      <td id=\"T_fecb0_row2_col7\" class=\"data row2 col7\" ></td>\n",
       "      <td id=\"T_fecb0_row2_col8\" class=\"data row2 col8\" ></td>\n",
       "    </tr>\n",
       "  </tbody>\n",
       "</table>\n"
      ],
      "text/plain": [
       "<pandas.io.formats.style.Styler at 0x1a8ad7ce2e0>"
      ]
     },
     "metadata": {},
     "output_type": "display_data"
    },
    {
     "name": "stdout",
     "output_type": "stream",
     "text": [
      "\n",
      "\n"
     ]
    },
    {
     "data": {
      "text/markdown": [
       "**Row: 2511 — Final Score: 4**"
      ],
      "text/plain": [
       "<IPython.core.display.Markdown object>"
      ]
     },
     "metadata": {},
     "output_type": "display_data"
    },
    {
     "data": {
      "text/html": [
       "<style type=\"text/css\">\n",
       "#T_576a9_row0_col1, #T_576a9_row0_col4, #T_576a9_row0_col5, #T_576a9_row0_col6 {\n",
       "  background-color: #efecc3;\n",
       "  color: black;\n",
       "}\n",
       "#T_576a9_row0_col2, #T_576a9_row0_col3, #T_576a9_row0_col7, #T_576a9_row0_col8 {\n",
       "  background-color: #e5f8fa;\n",
       "  color: black;\n",
       "}\n",
       "</style>\n",
       "<table id=\"T_576a9_\">\n",
       "  <thead>\n",
       "    <tr>\n",
       "      <th class=\"blank level0\" >&nbsp;</th>\n",
       "      <th class=\"col_heading level0 col0\" >Test ID</th>\n",
       "      <th class=\"col_heading level0 col1\" >MedInc</th>\n",
       "      <th class=\"col_heading level0 col2\" >HouseAge</th>\n",
       "      <th class=\"col_heading level0 col3\" >AveRooms</th>\n",
       "      <th class=\"col_heading level0 col4\" >AveBedrms</th>\n",
       "      <th class=\"col_heading level0 col5\" >Population</th>\n",
       "      <th class=\"col_heading level0 col6\" >AveOccup</th>\n",
       "      <th class=\"col_heading level0 col7\" >Latitude</th>\n",
       "      <th class=\"col_heading level0 col8\" >Longitude</th>\n",
       "    </tr>\n",
       "  </thead>\n",
       "  <tbody>\n",
       "    <tr>\n",
       "      <th id=\"T_576a9_level0_row0\" class=\"row_heading level0 row0\" >0</th>\n",
       "      <td id=\"T_576a9_row0_col0\" class=\"data row0 col0\" ></td>\n",
       "      <td id=\"T_576a9_row0_col1\" class=\"data row0 col1\" >4.625000</td>\n",
       "      <td id=\"T_576a9_row0_col2\" class=\"data row0 col2\" >36.000000</td>\n",
       "      <td id=\"T_576a9_row0_col3\" class=\"data row0 col3\" >24.500000</td>\n",
       "      <td id=\"T_576a9_row0_col4\" class=\"data row0 col4\" >3.500000</td>\n",
       "      <td id=\"T_576a9_row0_col5\" class=\"data row0 col5\" >28.000000</td>\n",
       "      <td id=\"T_576a9_row0_col6\" class=\"data row0 col6\" >14.000000</td>\n",
       "      <td id=\"T_576a9_row0_col7\" class=\"data row0 col7\" >36.510000</td>\n",
       "      <td id=\"T_576a9_row0_col8\" class=\"data row0 col8\" >-119.540000</td>\n",
       "    </tr>\n",
       "    <tr>\n",
       "      <th id=\"T_576a9_level0_row1\" class=\"row_heading level0 row1\" >1</th>\n",
       "      <td id=\"T_576a9_row1_col0\" class=\"data row1 col0\" >VERY_LARGE</td>\n",
       "      <td id=\"T_576a9_row1_col1\" class=\"data row1 col1\" ></td>\n",
       "      <td id=\"T_576a9_row1_col2\" class=\"data row1 col2\" ></td>\n",
       "      <td id=\"T_576a9_row1_col3\" class=\"data row1 col3\" ></td>\n",
       "      <td id=\"T_576a9_row1_col4\" class=\"data row1 col4\" ></td>\n",
       "      <td id=\"T_576a9_row1_col5\" class=\"data row1 col5\" ></td>\n",
       "      <td id=\"T_576a9_row1_col6\" class=\"data row1 col6\" >✔</td>\n",
       "      <td id=\"T_576a9_row1_col7\" class=\"data row1 col7\" ></td>\n",
       "      <td id=\"T_576a9_row1_col8\" class=\"data row1 col8\" ></td>\n",
       "    </tr>\n",
       "    <tr>\n",
       "      <th id=\"T_576a9_level0_row2\" class=\"row_heading level0 row2\" >2</th>\n",
       "      <td id=\"T_576a9_row2_col0\" class=\"data row2 col0\" >MUCH_LARGER</td>\n",
       "      <td id=\"T_576a9_row2_col1\" class=\"data row2 col1\" >✔</td>\n",
       "      <td id=\"T_576a9_row2_col2\" class=\"data row2 col2\" ></td>\n",
       "      <td id=\"T_576a9_row2_col3\" class=\"data row2 col3\" ></td>\n",
       "      <td id=\"T_576a9_row2_col4\" class=\"data row2 col4\" >✔</td>\n",
       "      <td id=\"T_576a9_row2_col5\" class=\"data row2 col5\" >✔</td>\n",
       "      <td id=\"T_576a9_row2_col6\" class=\"data row2 col6\" >✔</td>\n",
       "      <td id=\"T_576a9_row2_col7\" class=\"data row2 col7\" ></td>\n",
       "      <td id=\"T_576a9_row2_col8\" class=\"data row2 col8\" ></td>\n",
       "    </tr>\n",
       "  </tbody>\n",
       "</table>\n"
      ],
      "text/plain": [
       "<pandas.io.formats.style.Styler at 0x1a8ad4a8460>"
      ]
     },
     "metadata": {},
     "output_type": "display_data"
    },
    {
     "name": "stdout",
     "output_type": "stream",
     "text": [
      "\n",
      "\n"
     ]
    },
    {
     "data": {
      "text/markdown": [
       "**Row: 16171 — Final Score: 4**"
      ],
      "text/plain": [
       "<IPython.core.display.Markdown object>"
      ]
     },
     "metadata": {},
     "output_type": "display_data"
    },
    {
     "data": {
      "text/html": [
       "<style type=\"text/css\">\n",
       "#T_ed926_row0_col1, #T_ed926_row0_col5, #T_ed926_row0_col6 {\n",
       "  background-color: #efecc3;\n",
       "  color: black;\n",
       "}\n",
       "#T_ed926_row0_col2, #T_ed926_row0_col3, #T_ed926_row0_col4, #T_ed926_row0_col7, #T_ed926_row0_col8 {\n",
       "  background-color: #e5f8fa;\n",
       "  color: black;\n",
       "}\n",
       "</style>\n",
       "<table id=\"T_ed926_\">\n",
       "  <thead>\n",
       "    <tr>\n",
       "      <th class=\"blank level0\" >&nbsp;</th>\n",
       "      <th class=\"col_heading level0 col0\" >Test ID</th>\n",
       "      <th class=\"col_heading level0 col1\" >MedInc</th>\n",
       "      <th class=\"col_heading level0 col2\" >HouseAge</th>\n",
       "      <th class=\"col_heading level0 col3\" >AveRooms</th>\n",
       "      <th class=\"col_heading level0 col4\" >AveBedrms</th>\n",
       "      <th class=\"col_heading level0 col5\" >Population</th>\n",
       "      <th class=\"col_heading level0 col6\" >AveOccup</th>\n",
       "      <th class=\"col_heading level0 col7\" >Latitude</th>\n",
       "      <th class=\"col_heading level0 col8\" >Longitude</th>\n",
       "    </tr>\n",
       "  </thead>\n",
       "  <tbody>\n",
       "    <tr>\n",
       "      <th id=\"T_ed926_level0_row0\" class=\"row_heading level0 row0\" >0</th>\n",
       "      <td id=\"T_ed926_row0_col0\" class=\"data row0 col0\" ></td>\n",
       "      <td id=\"T_ed926_row0_col1\" class=\"data row0 col1\" >15.000100</td>\n",
       "      <td id=\"T_ed926_row0_col2\" class=\"data row0 col2\" >52.000000</td>\n",
       "      <td id=\"T_ed926_row0_col3\" class=\"data row0 col3\" >8.000000</td>\n",
       "      <td id=\"T_ed926_row0_col4\" class=\"data row0 col4\" >1.000000</td>\n",
       "      <td id=\"T_ed926_row0_col5\" class=\"data row0 col5\" >13.000000</td>\n",
       "      <td id=\"T_ed926_row0_col6\" class=\"data row0 col6\" >13.000000</td>\n",
       "      <td id=\"T_ed926_row0_col7\" class=\"data row0 col7\" >37.790000</td>\n",
       "      <td id=\"T_ed926_row0_col8\" class=\"data row0 col8\" >-122.500000</td>\n",
       "    </tr>\n",
       "    <tr>\n",
       "      <th id=\"T_ed926_level0_row1\" class=\"row_heading level0 row1\" >1</th>\n",
       "      <td id=\"T_ed926_row1_col0\" class=\"data row1 col0\" >VERY_LARGE</td>\n",
       "      <td id=\"T_ed926_row1_col1\" class=\"data row1 col1\" >✔</td>\n",
       "      <td id=\"T_ed926_row1_col2\" class=\"data row1 col2\" ></td>\n",
       "      <td id=\"T_ed926_row1_col3\" class=\"data row1 col3\" ></td>\n",
       "      <td id=\"T_ed926_row1_col4\" class=\"data row1 col4\" ></td>\n",
       "      <td id=\"T_ed926_row1_col5\" class=\"data row1 col5\" ></td>\n",
       "      <td id=\"T_ed926_row1_col6\" class=\"data row1 col6\" >✔</td>\n",
       "      <td id=\"T_ed926_row1_col7\" class=\"data row1 col7\" ></td>\n",
       "      <td id=\"T_ed926_row1_col8\" class=\"data row1 col8\" ></td>\n",
       "    </tr>\n",
       "    <tr>\n",
       "      <th id=\"T_ed926_level0_row2\" class=\"row_heading level0 row2\" >2</th>\n",
       "      <td id=\"T_ed926_row2_col0\" class=\"data row2 col0\" >MUCH_LARGER</td>\n",
       "      <td id=\"T_ed926_row2_col1\" class=\"data row2 col1\" >✔</td>\n",
       "      <td id=\"T_ed926_row2_col2\" class=\"data row2 col2\" ></td>\n",
       "      <td id=\"T_ed926_row2_col3\" class=\"data row2 col3\" ></td>\n",
       "      <td id=\"T_ed926_row2_col4\" class=\"data row2 col4\" ></td>\n",
       "      <td id=\"T_ed926_row2_col5\" class=\"data row2 col5\" >✔</td>\n",
       "      <td id=\"T_ed926_row2_col6\" class=\"data row2 col6\" >✔</td>\n",
       "      <td id=\"T_ed926_row2_col7\" class=\"data row2 col7\" ></td>\n",
       "      <td id=\"T_ed926_row2_col8\" class=\"data row2 col8\" ></td>\n",
       "    </tr>\n",
       "  </tbody>\n",
       "</table>\n"
      ],
      "text/plain": [
       "<pandas.io.formats.style.Styler at 0x1a8ae773f10>"
      ]
     },
     "metadata": {},
     "output_type": "display_data"
    },
    {
     "name": "stdout",
     "output_type": "stream",
     "text": [
      "\n",
      "\n"
     ]
    },
    {
     "data": {
      "text/markdown": [
       "**Row: 1979 — Final Score: 3**"
      ],
      "text/plain": [
       "<IPython.core.display.Markdown object>"
      ]
     },
     "metadata": {},
     "output_type": "display_data"
    },
    {
     "data": {
      "text/html": [
       "<style type=\"text/css\">\n",
       "#T_f30be_row0_col1, #T_f30be_row0_col4, #T_f30be_row0_col5, #T_f30be_row0_col7 {\n",
       "  background-color: #efecc3;\n",
       "  color: black;\n",
       "}\n",
       "#T_f30be_row0_col2, #T_f30be_row0_col3, #T_f30be_row0_col6, #T_f30be_row0_col8 {\n",
       "  background-color: #e5f8fa;\n",
       "  color: black;\n",
       "}\n",
       "</style>\n",
       "<table id=\"T_f30be_\">\n",
       "  <thead>\n",
       "    <tr>\n",
       "      <th class=\"blank level0\" >&nbsp;</th>\n",
       "      <th class=\"col_heading level0 col0\" >Test ID</th>\n",
       "      <th class=\"col_heading level0 col1\" >MedInc</th>\n",
       "      <th class=\"col_heading level0 col2\" >HouseAge</th>\n",
       "      <th class=\"col_heading level0 col3\" >AveRooms</th>\n",
       "      <th class=\"col_heading level0 col4\" >AveBedrms</th>\n",
       "      <th class=\"col_heading level0 col5\" >Population</th>\n",
       "      <th class=\"col_heading level0 col6\" >AveOccup</th>\n",
       "      <th class=\"col_heading level0 col7\" >Latitude</th>\n",
       "      <th class=\"col_heading level0 col8\" >Longitude</th>\n",
       "    </tr>\n",
       "  </thead>\n",
       "  <tbody>\n",
       "    <tr>\n",
       "      <th id=\"T_f30be_level0_row0\" class=\"row_heading level0 row0\" >0</th>\n",
       "      <td id=\"T_f30be_row0_col0\" class=\"data row0 col0\" ></td>\n",
       "      <td id=\"T_f30be_row0_col1\" class=\"data row0 col1\" >4.625000</td>\n",
       "      <td id=\"T_f30be_row0_col2\" class=\"data row0 col2\" >34.000000</td>\n",
       "      <td id=\"T_f30be_row0_col3\" class=\"data row0 col3\" >132.533333</td>\n",
       "      <td id=\"T_f30be_row0_col4\" class=\"data row0 col4\" >34.066667</td>\n",
       "      <td id=\"T_f30be_row0_col5\" class=\"data row0 col5\" >36.000000</td>\n",
       "      <td id=\"T_f30be_row0_col6\" class=\"data row0 col6\" >2.400000</td>\n",
       "      <td id=\"T_f30be_row0_col7\" class=\"data row0 col7\" >38.800000</td>\n",
       "      <td id=\"T_f30be_row0_col8\" class=\"data row0 col8\" >-120.080000</td>\n",
       "    </tr>\n",
       "    <tr>\n",
       "      <th id=\"T_f30be_level0_row1\" class=\"row_heading level0 row1\" >1</th>\n",
       "      <td id=\"T_f30be_row1_col0\" class=\"data row1 col0\" >MUCH_LARGER</td>\n",
       "      <td id=\"T_f30be_row1_col1\" class=\"data row1 col1\" >✔</td>\n",
       "      <td id=\"T_f30be_row1_col2\" class=\"data row1 col2\" ></td>\n",
       "      <td id=\"T_f30be_row1_col3\" class=\"data row1 col3\" ></td>\n",
       "      <td id=\"T_f30be_row1_col4\" class=\"data row1 col4\" >✔</td>\n",
       "      <td id=\"T_f30be_row1_col5\" class=\"data row1 col5\" >✔</td>\n",
       "      <td id=\"T_f30be_row1_col6\" class=\"data row1 col6\" ></td>\n",
       "      <td id=\"T_f30be_row1_col7\" class=\"data row1 col7\" >✔</td>\n",
       "      <td id=\"T_f30be_row1_col8\" class=\"data row1 col8\" ></td>\n",
       "    </tr>\n",
       "  </tbody>\n",
       "</table>\n"
      ],
      "text/plain": [
       "<pandas.io.formats.style.Styler at 0x1a8ae49ca60>"
      ]
     },
     "metadata": {},
     "output_type": "display_data"
    },
    {
     "name": "stdout",
     "output_type": "stream",
     "text": [
      "\n",
      "\n"
     ]
    },
    {
     "data": {
      "text/markdown": [
       "**Row: 12458 — Final Score: 3**"
      ],
      "text/plain": [
       "<IPython.core.display.Markdown object>"
      ]
     },
     "metadata": {},
     "output_type": "display_data"
    },
    {
     "data": {
      "text/html": [
       "<style type=\"text/css\">\n",
       "#T_4b2d1_row0_col1, #T_4b2d1_row0_col4, #T_4b2d1_row0_col5, #T_4b2d1_row0_col6 {\n",
       "  background-color: #efecc3;\n",
       "  color: black;\n",
       "}\n",
       "#T_4b2d1_row0_col2, #T_4b2d1_row0_col3, #T_4b2d1_row0_col7, #T_4b2d1_row0_col8 {\n",
       "  background-color: #e5f8fa;\n",
       "  color: black;\n",
       "}\n",
       "</style>\n",
       "<table id=\"T_4b2d1_\">\n",
       "  <thead>\n",
       "    <tr>\n",
       "      <th class=\"blank level0\" >&nbsp;</th>\n",
       "      <th class=\"col_heading level0 col0\" >Test ID</th>\n",
       "      <th class=\"col_heading level0 col1\" >MedInc</th>\n",
       "      <th class=\"col_heading level0 col2\" >HouseAge</th>\n",
       "      <th class=\"col_heading level0 col3\" >AveRooms</th>\n",
       "      <th class=\"col_heading level0 col4\" >AveBedrms</th>\n",
       "      <th class=\"col_heading level0 col5\" >Population</th>\n",
       "      <th class=\"col_heading level0 col6\" >AveOccup</th>\n",
       "      <th class=\"col_heading level0 col7\" >Latitude</th>\n",
       "      <th class=\"col_heading level0 col8\" >Longitude</th>\n",
       "    </tr>\n",
       "  </thead>\n",
       "  <tbody>\n",
       "    <tr>\n",
       "      <th id=\"T_4b2d1_level0_row0\" class=\"row_heading level0 row0\" >0</th>\n",
       "      <td id=\"T_4b2d1_row0_col0\" class=\"data row0 col0\" ></td>\n",
       "      <td id=\"T_4b2d1_row0_col1\" class=\"data row0 col1\" >0.536000</td>\n",
       "      <td id=\"T_4b2d1_row0_col2\" class=\"data row0 col2\" >26.000000</td>\n",
       "      <td id=\"T_4b2d1_row0_col3\" class=\"data row0 col3\" >6.000000</td>\n",
       "      <td id=\"T_4b2d1_row0_col4\" class=\"data row0 col4\" >1.000000</td>\n",
       "      <td id=\"T_4b2d1_row0_col5\" class=\"data row0 col5\" >5.000000</td>\n",
       "      <td id=\"T_4b2d1_row0_col6\" class=\"data row0 col6\" >1.666667</td>\n",
       "      <td id=\"T_4b2d1_row0_col7\" class=\"data row0 col7\" >33.620000</td>\n",
       "      <td id=\"T_4b2d1_row0_col8\" class=\"data row0 col8\" >-114.620000</td>\n",
       "    </tr>\n",
       "    <tr>\n",
       "      <th id=\"T_4b2d1_level0_row1\" class=\"row_heading level0 row1\" >1</th>\n",
       "      <td id=\"T_4b2d1_row1_col0\" class=\"data row1 col0\" >MUCH_LARGER</td>\n",
       "      <td id=\"T_4b2d1_row1_col1\" class=\"data row1 col1\" >✔</td>\n",
       "      <td id=\"T_4b2d1_row1_col2\" class=\"data row1 col2\" ></td>\n",
       "      <td id=\"T_4b2d1_row1_col3\" class=\"data row1 col3\" ></td>\n",
       "      <td id=\"T_4b2d1_row1_col4\" class=\"data row1 col4\" >✔</td>\n",
       "      <td id=\"T_4b2d1_row1_col5\" class=\"data row1 col5\" >✔</td>\n",
       "      <td id=\"T_4b2d1_row1_col6\" class=\"data row1 col6\" >✔</td>\n",
       "      <td id=\"T_4b2d1_row1_col7\" class=\"data row1 col7\" ></td>\n",
       "      <td id=\"T_4b2d1_row1_col8\" class=\"data row1 col8\" ></td>\n",
       "    </tr>\n",
       "  </tbody>\n",
       "</table>\n"
      ],
      "text/plain": [
       "<pandas.io.formats.style.Styler at 0x1a8ad7ce2e0>"
      ]
     },
     "metadata": {},
     "output_type": "display_data"
    },
    {
     "name": "stdout",
     "output_type": "stream",
     "text": [
      "\n",
      "\n"
     ]
    },
    {
     "data": {
      "text/markdown": [
       "**Row: 1566 — Final Score: 3**"
      ],
      "text/plain": [
       "<IPython.core.display.Markdown object>"
      ]
     },
     "metadata": {},
     "output_type": "display_data"
    },
    {
     "data": {
      "text/html": [
       "<style type=\"text/css\">\n",
       "#T_c4379_row0_col1, #T_c4379_row0_col5, #T_c4379_row0_col6 {\n",
       "  background-color: #efecc3;\n",
       "  color: black;\n",
       "}\n",
       "#T_c4379_row0_col2, #T_c4379_row0_col3, #T_c4379_row0_col4, #T_c4379_row0_col7, #T_c4379_row0_col8 {\n",
       "  background-color: #e5f8fa;\n",
       "  color: black;\n",
       "}\n",
       "</style>\n",
       "<table id=\"T_c4379_\">\n",
       "  <thead>\n",
       "    <tr>\n",
       "      <th class=\"blank level0\" >&nbsp;</th>\n",
       "      <th class=\"col_heading level0 col0\" >Test ID</th>\n",
       "      <th class=\"col_heading level0 col1\" >MedInc</th>\n",
       "      <th class=\"col_heading level0 col2\" >HouseAge</th>\n",
       "      <th class=\"col_heading level0 col3\" >AveRooms</th>\n",
       "      <th class=\"col_heading level0 col4\" >AveBedrms</th>\n",
       "      <th class=\"col_heading level0 col5\" >Population</th>\n",
       "      <th class=\"col_heading level0 col6\" >AveOccup</th>\n",
       "      <th class=\"col_heading level0 col7\" >Latitude</th>\n",
       "      <th class=\"col_heading level0 col8\" >Longitude</th>\n",
       "    </tr>\n",
       "  </thead>\n",
       "  <tbody>\n",
       "    <tr>\n",
       "      <th id=\"T_c4379_level0_row0\" class=\"row_heading level0 row0\" >0</th>\n",
       "      <td id=\"T_c4379_row0_col0\" class=\"data row0 col0\" ></td>\n",
       "      <td id=\"T_c4379_row0_col1\" class=\"data row0 col1\" >15.000100</td>\n",
       "      <td id=\"T_c4379_row0_col2\" class=\"data row0 col2\" >2.000000</td>\n",
       "      <td id=\"T_c4379_row0_col3\" class=\"data row0 col3\" >22.222222</td>\n",
       "      <td id=\"T_c4379_row0_col4\" class=\"data row0 col4\" >2.222222</td>\n",
       "      <td id=\"T_c4379_row0_col5\" class=\"data row0 col5\" >25.000000</td>\n",
       "      <td id=\"T_c4379_row0_col6\" class=\"data row0 col6\" >2.777778</td>\n",
       "      <td id=\"T_c4379_row0_col7\" class=\"data row0 col7\" >37.740000</td>\n",
       "      <td id=\"T_c4379_row0_col8\" class=\"data row0 col8\" >-121.960000</td>\n",
       "    </tr>\n",
       "    <tr>\n",
       "      <th id=\"T_c4379_level0_row1\" class=\"row_heading level0 row1\" >1</th>\n",
       "      <td id=\"T_c4379_row1_col0\" class=\"data row1 col0\" >VERY_LARGE</td>\n",
       "      <td id=\"T_c4379_row1_col1\" class=\"data row1 col1\" >✔</td>\n",
       "      <td id=\"T_c4379_row1_col2\" class=\"data row1 col2\" ></td>\n",
       "      <td id=\"T_c4379_row1_col3\" class=\"data row1 col3\" ></td>\n",
       "      <td id=\"T_c4379_row1_col4\" class=\"data row1 col4\" ></td>\n",
       "      <td id=\"T_c4379_row1_col5\" class=\"data row1 col5\" ></td>\n",
       "      <td id=\"T_c4379_row1_col6\" class=\"data row1 col6\" ></td>\n",
       "      <td id=\"T_c4379_row1_col7\" class=\"data row1 col7\" ></td>\n",
       "      <td id=\"T_c4379_row1_col8\" class=\"data row1 col8\" ></td>\n",
       "    </tr>\n",
       "    <tr>\n",
       "      <th id=\"T_c4379_level0_row2\" class=\"row_heading level0 row2\" >2</th>\n",
       "      <td id=\"T_c4379_row2_col0\" class=\"data row2 col0\" >MUCH_LARGER</td>\n",
       "      <td id=\"T_c4379_row2_col1\" class=\"data row2 col1\" >✔</td>\n",
       "      <td id=\"T_c4379_row2_col2\" class=\"data row2 col2\" ></td>\n",
       "      <td id=\"T_c4379_row2_col3\" class=\"data row2 col3\" ></td>\n",
       "      <td id=\"T_c4379_row2_col4\" class=\"data row2 col4\" ></td>\n",
       "      <td id=\"T_c4379_row2_col5\" class=\"data row2 col5\" >✔</td>\n",
       "      <td id=\"T_c4379_row2_col6\" class=\"data row2 col6\" >✔</td>\n",
       "      <td id=\"T_c4379_row2_col7\" class=\"data row2 col7\" ></td>\n",
       "      <td id=\"T_c4379_row2_col8\" class=\"data row2 col8\" ></td>\n",
       "    </tr>\n",
       "  </tbody>\n",
       "</table>\n"
      ],
      "text/plain": [
       "<pandas.io.formats.style.Styler at 0x1a8ad758b50>"
      ]
     },
     "metadata": {},
     "output_type": "display_data"
    },
    {
     "name": "stdout",
     "output_type": "stream",
     "text": [
      "\n",
      "\n"
     ]
    },
    {
     "data": {
      "text/markdown": [
       "**Row: 12649 — Final Score: 3**"
      ],
      "text/plain": [
       "<IPython.core.display.Markdown object>"
      ]
     },
     "metadata": {},
     "output_type": "display_data"
    },
    {
     "data": {
      "text/html": [
       "<style type=\"text/css\">\n",
       "#T_6d218_row0_col1, #T_6d218_row0_col2, #T_6d218_row0_col3, #T_6d218_row0_col7, #T_6d218_row0_col8 {\n",
       "  background-color: #e5f8fa;\n",
       "  color: black;\n",
       "}\n",
       "#T_6d218_row0_col4, #T_6d218_row0_col5, #T_6d218_row0_col6 {\n",
       "  background-color: #efecc3;\n",
       "  color: black;\n",
       "}\n",
       "</style>\n",
       "<table id=\"T_6d218_\">\n",
       "  <thead>\n",
       "    <tr>\n",
       "      <th class=\"blank level0\" >&nbsp;</th>\n",
       "      <th class=\"col_heading level0 col0\" >Test ID</th>\n",
       "      <th class=\"col_heading level0 col1\" >MedInc</th>\n",
       "      <th class=\"col_heading level0 col2\" >HouseAge</th>\n",
       "      <th class=\"col_heading level0 col3\" >AveRooms</th>\n",
       "      <th class=\"col_heading level0 col4\" >AveBedrms</th>\n",
       "      <th class=\"col_heading level0 col5\" >Population</th>\n",
       "      <th class=\"col_heading level0 col6\" >AveOccup</th>\n",
       "      <th class=\"col_heading level0 col7\" >Latitude</th>\n",
       "      <th class=\"col_heading level0 col8\" >Longitude</th>\n",
       "    </tr>\n",
       "  </thead>\n",
       "  <tbody>\n",
       "    <tr>\n",
       "      <th id=\"T_6d218_level0_row0\" class=\"row_heading level0 row0\" >0</th>\n",
       "      <td id=\"T_6d218_row0_col0\" class=\"data row0 col0\" ></td>\n",
       "      <td id=\"T_6d218_row0_col1\" class=\"data row0 col1\" >3.625000</td>\n",
       "      <td id=\"T_6d218_row0_col2\" class=\"data row0 col2\" >52.000000</td>\n",
       "      <td id=\"T_6d218_row0_col3\" class=\"data row0 col3\" >2.222222</td>\n",
       "      <td id=\"T_6d218_row0_col4\" class=\"data row0 col4\" >0.444444</td>\n",
       "      <td id=\"T_6d218_row0_col5\" class=\"data row0 col5\" >74.000000</td>\n",
       "      <td id=\"T_6d218_row0_col6\" class=\"data row0 col6\" >8.222222</td>\n",
       "      <td id=\"T_6d218_row0_col7\" class=\"data row0 col7\" >38.510000</td>\n",
       "      <td id=\"T_6d218_row0_col8\" class=\"data row0 col8\" >-121.470000</td>\n",
       "    </tr>\n",
       "    <tr>\n",
       "      <th id=\"T_6d218_level0_row1\" class=\"row_heading level0 row1\" >1</th>\n",
       "      <td id=\"T_6d218_row1_col0\" class=\"data row1 col0\" >VERY_SMALL</td>\n",
       "      <td id=\"T_6d218_row1_col1\" class=\"data row1 col1\" ></td>\n",
       "      <td id=\"T_6d218_row1_col2\" class=\"data row1 col2\" ></td>\n",
       "      <td id=\"T_6d218_row1_col3\" class=\"data row1 col3\" ></td>\n",
       "      <td id=\"T_6d218_row1_col4\" class=\"data row1 col4\" >✔</td>\n",
       "      <td id=\"T_6d218_row1_col5\" class=\"data row1 col5\" ></td>\n",
       "      <td id=\"T_6d218_row1_col6\" class=\"data row1 col6\" ></td>\n",
       "      <td id=\"T_6d218_row1_col7\" class=\"data row1 col7\" ></td>\n",
       "      <td id=\"T_6d218_row1_col8\" class=\"data row1 col8\" ></td>\n",
       "    </tr>\n",
       "    <tr>\n",
       "      <th id=\"T_6d218_level0_row2\" class=\"row_heading level0 row2\" >2</th>\n",
       "      <td id=\"T_6d218_row2_col0\" class=\"data row2 col0\" >VERY_LARGE</td>\n",
       "      <td id=\"T_6d218_row2_col1\" class=\"data row2 col1\" ></td>\n",
       "      <td id=\"T_6d218_row2_col2\" class=\"data row2 col2\" ></td>\n",
       "      <td id=\"T_6d218_row2_col3\" class=\"data row2 col3\" ></td>\n",
       "      <td id=\"T_6d218_row2_col4\" class=\"data row2 col4\" ></td>\n",
       "      <td id=\"T_6d218_row2_col5\" class=\"data row2 col5\" ></td>\n",
       "      <td id=\"T_6d218_row2_col6\" class=\"data row2 col6\" >✔</td>\n",
       "      <td id=\"T_6d218_row2_col7\" class=\"data row2 col7\" ></td>\n",
       "      <td id=\"T_6d218_row2_col8\" class=\"data row2 col8\" ></td>\n",
       "    </tr>\n",
       "    <tr>\n",
       "      <th id=\"T_6d218_level0_row3\" class=\"row_heading level0 row3\" >3</th>\n",
       "      <td id=\"T_6d218_row3_col0\" class=\"data row3 col0\" >MUCH_LARGER</td>\n",
       "      <td id=\"T_6d218_row3_col1\" class=\"data row3 col1\" ></td>\n",
       "      <td id=\"T_6d218_row3_col2\" class=\"data row3 col2\" ></td>\n",
       "      <td id=\"T_6d218_row3_col3\" class=\"data row3 col3\" ></td>\n",
       "      <td id=\"T_6d218_row3_col4\" class=\"data row3 col4\" ></td>\n",
       "      <td id=\"T_6d218_row3_col5\" class=\"data row3 col5\" >✔</td>\n",
       "      <td id=\"T_6d218_row3_col6\" class=\"data row3 col6\" >✔</td>\n",
       "      <td id=\"T_6d218_row3_col7\" class=\"data row3 col7\" ></td>\n",
       "      <td id=\"T_6d218_row3_col8\" class=\"data row3 col8\" ></td>\n",
       "    </tr>\n",
       "  </tbody>\n",
       "</table>\n"
      ],
      "text/plain": [
       "<pandas.io.formats.style.Styler at 0x1a8ad75d0a0>"
      ]
     },
     "metadata": {},
     "output_type": "display_data"
    },
    {
     "name": "stdout",
     "output_type": "stream",
     "text": [
      "\n",
      "\n"
     ]
    },
    {
     "data": {
      "text/markdown": [
       "**Row: 17118 — Final Score: 3**"
      ],
      "text/plain": [
       "<IPython.core.display.Markdown object>"
      ]
     },
     "metadata": {},
     "output_type": "display_data"
    },
    {
     "data": {
      "text/html": [
       "<style type=\"text/css\">\n",
       "#T_43438_row0_col1, #T_43438_row0_col5, #T_43438_row0_col6 {\n",
       "  background-color: #efecc3;\n",
       "  color: black;\n",
       "}\n",
       "#T_43438_row0_col2, #T_43438_row0_col3, #T_43438_row0_col4, #T_43438_row0_col7, #T_43438_row0_col8 {\n",
       "  background-color: #e5f8fa;\n",
       "  color: black;\n",
       "}\n",
       "</style>\n",
       "<table id=\"T_43438_\">\n",
       "  <thead>\n",
       "    <tr>\n",
       "      <th class=\"blank level0\" >&nbsp;</th>\n",
       "      <th class=\"col_heading level0 col0\" >Test ID</th>\n",
       "      <th class=\"col_heading level0 col1\" >MedInc</th>\n",
       "      <th class=\"col_heading level0 col2\" >HouseAge</th>\n",
       "      <th class=\"col_heading level0 col3\" >AveRooms</th>\n",
       "      <th class=\"col_heading level0 col4\" >AveBedrms</th>\n",
       "      <th class=\"col_heading level0 col5\" >Population</th>\n",
       "      <th class=\"col_heading level0 col6\" >AveOccup</th>\n",
       "      <th class=\"col_heading level0 col7\" >Latitude</th>\n",
       "      <th class=\"col_heading level0 col8\" >Longitude</th>\n",
       "    </tr>\n",
       "  </thead>\n",
       "  <tbody>\n",
       "    <tr>\n",
       "      <th id=\"T_43438_level0_row0\" class=\"row_heading level0 row0\" >0</th>\n",
       "      <td id=\"T_43438_row0_col0\" class=\"data row0 col0\" ></td>\n",
       "      <td id=\"T_43438_row0_col1\" class=\"data row0 col1\" >15.000100</td>\n",
       "      <td id=\"T_43438_row0_col2\" class=\"data row0 col2\" >46.000000</td>\n",
       "      <td id=\"T_43438_row0_col3\" class=\"data row0 col3\" >6.000000</td>\n",
       "      <td id=\"T_43438_row0_col4\" class=\"data row0 col4\" >0.800000</td>\n",
       "      <td id=\"T_43438_row0_col5\" class=\"data row0 col5\" >13.000000</td>\n",
       "      <td id=\"T_43438_row0_col6\" class=\"data row0 col6\" >2.600000</td>\n",
       "      <td id=\"T_43438_row0_col7\" class=\"data row0 col7\" >37.500000</td>\n",
       "      <td id=\"T_43438_row0_col8\" class=\"data row0 col8\" >-122.140000</td>\n",
       "    </tr>\n",
       "    <tr>\n",
       "      <th id=\"T_43438_level0_row1\" class=\"row_heading level0 row1\" >1</th>\n",
       "      <td id=\"T_43438_row1_col0\" class=\"data row1 col0\" >VERY_LARGE</td>\n",
       "      <td id=\"T_43438_row1_col1\" class=\"data row1 col1\" >✔</td>\n",
       "      <td id=\"T_43438_row1_col2\" class=\"data row1 col2\" ></td>\n",
       "      <td id=\"T_43438_row1_col3\" class=\"data row1 col3\" ></td>\n",
       "      <td id=\"T_43438_row1_col4\" class=\"data row1 col4\" ></td>\n",
       "      <td id=\"T_43438_row1_col5\" class=\"data row1 col5\" ></td>\n",
       "      <td id=\"T_43438_row1_col6\" class=\"data row1 col6\" ></td>\n",
       "      <td id=\"T_43438_row1_col7\" class=\"data row1 col7\" ></td>\n",
       "      <td id=\"T_43438_row1_col8\" class=\"data row1 col8\" ></td>\n",
       "    </tr>\n",
       "    <tr>\n",
       "      <th id=\"T_43438_level0_row2\" class=\"row_heading level0 row2\" >2</th>\n",
       "      <td id=\"T_43438_row2_col0\" class=\"data row2 col0\" >MUCH_LARGER</td>\n",
       "      <td id=\"T_43438_row2_col1\" class=\"data row2 col1\" >✔</td>\n",
       "      <td id=\"T_43438_row2_col2\" class=\"data row2 col2\" ></td>\n",
       "      <td id=\"T_43438_row2_col3\" class=\"data row2 col3\" ></td>\n",
       "      <td id=\"T_43438_row2_col4\" class=\"data row2 col4\" ></td>\n",
       "      <td id=\"T_43438_row2_col5\" class=\"data row2 col5\" >✔</td>\n",
       "      <td id=\"T_43438_row2_col6\" class=\"data row2 col6\" >✔</td>\n",
       "      <td id=\"T_43438_row2_col7\" class=\"data row2 col7\" ></td>\n",
       "      <td id=\"T_43438_row2_col8\" class=\"data row2 col8\" ></td>\n",
       "    </tr>\n",
       "  </tbody>\n",
       "</table>\n"
      ],
      "text/plain": [
       "<pandas.io.formats.style.Styler at 0x1a8ad7653d0>"
      ]
     },
     "metadata": {},
     "output_type": "display_data"
    },
    {
     "name": "stdout",
     "output_type": "stream",
     "text": [
      "\n",
      "\n"
     ]
    },
    {
     "data": {
      "text/markdown": [
       "**Row: 18504 — Final Score: 3**"
      ],
      "text/plain": [
       "<IPython.core.display.Markdown object>"
      ]
     },
     "metadata": {},
     "output_type": "display_data"
    },
    {
     "data": {
      "text/html": [
       "<style type=\"text/css\">\n",
       "#T_e91da_row0_col1, #T_e91da_row0_col5, #T_e91da_row0_col6 {\n",
       "  background-color: #efecc3;\n",
       "  color: black;\n",
       "}\n",
       "#T_e91da_row0_col2, #T_e91da_row0_col3, #T_e91da_row0_col4, #T_e91da_row0_col7, #T_e91da_row0_col8 {\n",
       "  background-color: #e5f8fa;\n",
       "  color: black;\n",
       "}\n",
       "</style>\n",
       "<table id=\"T_e91da_\">\n",
       "  <thead>\n",
       "    <tr>\n",
       "      <th class=\"blank level0\" >&nbsp;</th>\n",
       "      <th class=\"col_heading level0 col0\" >Test ID</th>\n",
       "      <th class=\"col_heading level0 col1\" >MedInc</th>\n",
       "      <th class=\"col_heading level0 col2\" >HouseAge</th>\n",
       "      <th class=\"col_heading level0 col3\" >AveRooms</th>\n",
       "      <th class=\"col_heading level0 col4\" >AveBedrms</th>\n",
       "      <th class=\"col_heading level0 col5\" >Population</th>\n",
       "      <th class=\"col_heading level0 col6\" >AveOccup</th>\n",
       "      <th class=\"col_heading level0 col7\" >Latitude</th>\n",
       "      <th class=\"col_heading level0 col8\" >Longitude</th>\n",
       "    </tr>\n",
       "  </thead>\n",
       "  <tbody>\n",
       "    <tr>\n",
       "      <th id=\"T_e91da_level0_row0\" class=\"row_heading level0 row0\" >0</th>\n",
       "      <td id=\"T_e91da_row0_col0\" class=\"data row0 col0\" ></td>\n",
       "      <td id=\"T_e91da_row0_col1\" class=\"data row0 col1\" >15.000100</td>\n",
       "      <td id=\"T_e91da_row0_col2\" class=\"data row0 col2\" >26.000000</td>\n",
       "      <td id=\"T_e91da_row0_col3\" class=\"data row0 col3\" >12.500000</td>\n",
       "      <td id=\"T_e91da_row0_col4\" class=\"data row0 col4\" >1.250000</td>\n",
       "      <td id=\"T_e91da_row0_col5\" class=\"data row0 col5\" >17.000000</td>\n",
       "      <td id=\"T_e91da_row0_col6\" class=\"data row0 col6\" >4.250000</td>\n",
       "      <td id=\"T_e91da_row0_col7\" class=\"data row0 col7\" >37.130000</td>\n",
       "      <td id=\"T_e91da_row0_col8\" class=\"data row0 col8\" >-121.960000</td>\n",
       "    </tr>\n",
       "    <tr>\n",
       "      <th id=\"T_e91da_level0_row1\" class=\"row_heading level0 row1\" >1</th>\n",
       "      <td id=\"T_e91da_row1_col0\" class=\"data row1 col0\" >VERY_LARGE</td>\n",
       "      <td id=\"T_e91da_row1_col1\" class=\"data row1 col1\" >✔</td>\n",
       "      <td id=\"T_e91da_row1_col2\" class=\"data row1 col2\" ></td>\n",
       "      <td id=\"T_e91da_row1_col3\" class=\"data row1 col3\" ></td>\n",
       "      <td id=\"T_e91da_row1_col4\" class=\"data row1 col4\" ></td>\n",
       "      <td id=\"T_e91da_row1_col5\" class=\"data row1 col5\" ></td>\n",
       "      <td id=\"T_e91da_row1_col6\" class=\"data row1 col6\" ></td>\n",
       "      <td id=\"T_e91da_row1_col7\" class=\"data row1 col7\" ></td>\n",
       "      <td id=\"T_e91da_row1_col8\" class=\"data row1 col8\" ></td>\n",
       "    </tr>\n",
       "    <tr>\n",
       "      <th id=\"T_e91da_level0_row2\" class=\"row_heading level0 row2\" >2</th>\n",
       "      <td id=\"T_e91da_row2_col0\" class=\"data row2 col0\" >MUCH_LARGER</td>\n",
       "      <td id=\"T_e91da_row2_col1\" class=\"data row2 col1\" >✔</td>\n",
       "      <td id=\"T_e91da_row2_col2\" class=\"data row2 col2\" ></td>\n",
       "      <td id=\"T_e91da_row2_col3\" class=\"data row2 col3\" ></td>\n",
       "      <td id=\"T_e91da_row2_col4\" class=\"data row2 col4\" ></td>\n",
       "      <td id=\"T_e91da_row2_col5\" class=\"data row2 col5\" >✔</td>\n",
       "      <td id=\"T_e91da_row2_col6\" class=\"data row2 col6\" >✔</td>\n",
       "      <td id=\"T_e91da_row2_col7\" class=\"data row2 col7\" ></td>\n",
       "      <td id=\"T_e91da_row2_col8\" class=\"data row2 col8\" ></td>\n",
       "    </tr>\n",
       "  </tbody>\n",
       "</table>\n"
      ],
      "text/plain": [
       "<pandas.io.formats.style.Styler at 0x1a8ad33c520>"
      ]
     },
     "metadata": {},
     "output_type": "display_data"
    },
    {
     "name": "stdout",
     "output_type": "stream",
     "text": [
      "\n",
      "\n"
     ]
    },
    {
     "data": {
      "text/markdown": [
       "**Row: 20248 — Final Score: 3**"
      ],
      "text/plain": [
       "<IPython.core.display.Markdown object>"
      ]
     },
     "metadata": {},
     "output_type": "display_data"
    },
    {
     "data": {
      "text/html": [
       "<style type=\"text/css\">\n",
       "#T_25377_row0_col1, #T_25377_row0_col4, #T_25377_row0_col5, #T_25377_row0_col6 {\n",
       "  background-color: #efecc3;\n",
       "  color: black;\n",
       "}\n",
       "#T_25377_row0_col2, #T_25377_row0_col3, #T_25377_row0_col7, #T_25377_row0_col8 {\n",
       "  background-color: #e5f8fa;\n",
       "  color: black;\n",
       "}\n",
       "</style>\n",
       "<table id=\"T_25377_\">\n",
       "  <thead>\n",
       "    <tr>\n",
       "      <th class=\"blank level0\" >&nbsp;</th>\n",
       "      <th class=\"col_heading level0 col0\" >Test ID</th>\n",
       "      <th class=\"col_heading level0 col1\" >MedInc</th>\n",
       "      <th class=\"col_heading level0 col2\" >HouseAge</th>\n",
       "      <th class=\"col_heading level0 col3\" >AveRooms</th>\n",
       "      <th class=\"col_heading level0 col4\" >AveBedrms</th>\n",
       "      <th class=\"col_heading level0 col5\" >Population</th>\n",
       "      <th class=\"col_heading level0 col6\" >AveOccup</th>\n",
       "      <th class=\"col_heading level0 col7\" >Latitude</th>\n",
       "      <th class=\"col_heading level0 col8\" >Longitude</th>\n",
       "    </tr>\n",
       "  </thead>\n",
       "  <tbody>\n",
       "    <tr>\n",
       "      <th id=\"T_25377_level0_row0\" class=\"row_heading level0 row0\" >0</th>\n",
       "      <td id=\"T_25377_row0_col0\" class=\"data row0 col0\" ></td>\n",
       "      <td id=\"T_25377_row0_col1\" class=\"data row0 col1\" >8.000000</td>\n",
       "      <td id=\"T_25377_row0_col2\" class=\"data row0 col2\" >28.000000</td>\n",
       "      <td id=\"T_25377_row0_col3\" class=\"data row0 col3\" >2.888889</td>\n",
       "      <td id=\"T_25377_row0_col4\" class=\"data row0 col4\" >0.333333</td>\n",
       "      <td id=\"T_25377_row0_col5\" class=\"data row0 col5\" >29.000000</td>\n",
       "      <td id=\"T_25377_row0_col6\" class=\"data row0 col6\" >3.222222</td>\n",
       "      <td id=\"T_25377_row0_col7\" class=\"data row0 col7\" >34.250000</td>\n",
       "      <td id=\"T_25377_row0_col8\" class=\"data row0 col8\" >-119.230000</td>\n",
       "    </tr>\n",
       "    <tr>\n",
       "      <th id=\"T_25377_level0_row1\" class=\"row_heading level0 row1\" >1</th>\n",
       "      <td id=\"T_25377_row1_col0\" class=\"data row1 col0\" >VERY_SMALL</td>\n",
       "      <td id=\"T_25377_row1_col1\" class=\"data row1 col1\" ></td>\n",
       "      <td id=\"T_25377_row1_col2\" class=\"data row1 col2\" ></td>\n",
       "      <td id=\"T_25377_row1_col3\" class=\"data row1 col3\" ></td>\n",
       "      <td id=\"T_25377_row1_col4\" class=\"data row1 col4\" >✔</td>\n",
       "      <td id=\"T_25377_row1_col5\" class=\"data row1 col5\" ></td>\n",
       "      <td id=\"T_25377_row1_col6\" class=\"data row1 col6\" ></td>\n",
       "      <td id=\"T_25377_row1_col7\" class=\"data row1 col7\" ></td>\n",
       "      <td id=\"T_25377_row1_col8\" class=\"data row1 col8\" ></td>\n",
       "    </tr>\n",
       "    <tr>\n",
       "      <th id=\"T_25377_level0_row2\" class=\"row_heading level0 row2\" >2</th>\n",
       "      <td id=\"T_25377_row2_col0\" class=\"data row2 col0\" >MUCH_LARGER</td>\n",
       "      <td id=\"T_25377_row2_col1\" class=\"data row2 col1\" >✔</td>\n",
       "      <td id=\"T_25377_row2_col2\" class=\"data row2 col2\" ></td>\n",
       "      <td id=\"T_25377_row2_col3\" class=\"data row2 col3\" ></td>\n",
       "      <td id=\"T_25377_row2_col4\" class=\"data row2 col4\" ></td>\n",
       "      <td id=\"T_25377_row2_col5\" class=\"data row2 col5\" >✔</td>\n",
       "      <td id=\"T_25377_row2_col6\" class=\"data row2 col6\" >✔</td>\n",
       "      <td id=\"T_25377_row2_col7\" class=\"data row2 col7\" ></td>\n",
       "      <td id=\"T_25377_row2_col8\" class=\"data row2 col8\" ></td>\n",
       "    </tr>\n",
       "  </tbody>\n",
       "</table>\n"
      ],
      "text/plain": [
       "<pandas.io.formats.style.Styler at 0x1a8ad33c520>"
      ]
     },
     "metadata": {},
     "output_type": "display_data"
    },
    {
     "name": "stdout",
     "output_type": "stream",
     "text": [
      "\n"
     ]
    }
   ],
   "source": [
    "# We can see from the distributio of final scores, that a small number\n",
    "# of rows received scores over 1. We look here in more detail at the \n",
    "# most flagged rows. This highlights the cells that were flagged and \n",
    "# indicates the tests that flagged these cells. \n",
    "\n",
    "dc.display_most_flagged_rows()"
   ]
  },
  {
   "cell_type": "code",
   "execution_count": 7,
   "id": "0fcc0abc",
   "metadata": {
    "scrolled": false
   },
   "outputs": [
    {
     "name": "stdout",
     "output_type": "stream",
     "text": [
      "\n"
     ]
    },
    {
     "data": {
      "text/markdown": [
       "Displaying results for tests: 'GREATER_THAN_ONE'"
      ],
      "text/plain": [
       "<IPython.core.display.Markdown object>"
      ]
     },
     "metadata": {},
     "output_type": "display_data"
    },
    {
     "data": {
      "text/markdown": [
       "Not displaying patterns for GREATER_THAN_ONE. This is not in the short list and show_short_list_only was set to True"
      ],
      "text/plain": [
       "<IPython.core.display.Markdown object>"
      ]
     },
     "metadata": {},
     "output_type": "display_data"
    },
    {
     "name": "stdout",
     "output_type": "stream",
     "text": [
      "\n"
     ]
    },
    {
     "data": {
      "text/markdown": [
       "### Column(s): AveRooms"
      ],
      "text/plain": [
       "<IPython.core.display.Markdown object>"
      ]
     },
     "metadata": {},
     "output_type": "display_data"
    },
    {
     "data": {
      "text/markdown": [
       "**Issue ID**: 8"
      ],
      "text/plain": [
       "<IPython.core.display.Markdown object>"
      ]
     },
     "metadata": {},
     "output_type": "display_data"
    },
    {
     "data": {
      "text/markdown": [
       "A strong pattern, and exceptions to the pattern, were found.<br>"
      ],
      "text/plain": [
       "<IPython.core.display.Markdown object>"
      ]
     },
     "metadata": {},
     "output_type": "display_data"
    },
    {
     "data": {
      "text/markdown": [
       "**Description**: The column consistently contains absolute values greater than or equal to 1.0, with exceptions."
      ],
      "text/plain": [
       "<IPython.core.display.Markdown object>"
      ]
     },
     "metadata": {},
     "output_type": "display_data"
    },
    {
     "data": {
      "text/markdown": [
       "**Number of exceptions**: 2 (0.0097% of rows)"
      ],
      "text/plain": [
       "<IPython.core.display.Markdown object>"
      ]
     },
     "metadata": {},
     "output_type": "display_data"
    },
    {
     "name": "stdout",
     "output_type": "stream",
     "text": [
      "\n"
     ]
    },
    {
     "data": {
      "text/markdown": [
       "**Examples of values NOT flagged**:"
      ],
      "text/plain": [
       "<IPython.core.display.Markdown object>"
      ]
     },
     "metadata": {},
     "output_type": "display_data"
    },
    {
     "data": {
      "text/html": [
       "<div>\n",
       "<style scoped>\n",
       "    .dataframe tbody tr th:only-of-type {\n",
       "        vertical-align: middle;\n",
       "    }\n",
       "\n",
       "    .dataframe tbody tr th {\n",
       "        vertical-align: top;\n",
       "    }\n",
       "\n",
       "    .dataframe thead th {\n",
       "        text-align: right;\n",
       "    }\n",
       "</style>\n",
       "<table border=\"1\" class=\"dataframe\">\n",
       "  <thead>\n",
       "    <tr style=\"text-align: right;\">\n",
       "      <th></th>\n",
       "      <th>AveRooms</th>\n",
       "    </tr>\n",
       "  </thead>\n",
       "  <tbody>\n",
       "    <tr>\n",
       "      <th>439</th>\n",
       "      <td>4.500000</td>\n",
       "    </tr>\n",
       "    <tr>\n",
       "      <th>845</th>\n",
       "      <td>5.992537</td>\n",
       "    </tr>\n",
       "    <tr>\n",
       "      <th>964</th>\n",
       "      <td>6.593310</td>\n",
       "    </tr>\n",
       "    <tr>\n",
       "      <th>2670</th>\n",
       "      <td>4.992958</td>\n",
       "    </tr>\n",
       "    <tr>\n",
       "      <th>3768</th>\n",
       "      <td>5.829412</td>\n",
       "    </tr>\n",
       "    <tr>\n",
       "      <th>8683</th>\n",
       "      <td>4.366434</td>\n",
       "    </tr>\n",
       "    <tr>\n",
       "      <th>10103</th>\n",
       "      <td>4.626147</td>\n",
       "    </tr>\n",
       "    <tr>\n",
       "      <th>14742</th>\n",
       "      <td>4.914163</td>\n",
       "    </tr>\n",
       "    <tr>\n",
       "      <th>15711</th>\n",
       "      <td>4.312629</td>\n",
       "    </tr>\n",
       "    <tr>\n",
       "      <th>20566</th>\n",
       "      <td>5.930712</td>\n",
       "    </tr>\n",
       "  </tbody>\n",
       "</table>\n",
       "</div>"
      ],
      "text/plain": [
       "       AveRooms\n",
       "439    4.500000\n",
       "845    5.992537\n",
       "964    6.593310\n",
       "2670   4.992958\n",
       "3768   5.829412\n",
       "8683   4.366434\n",
       "10103  4.626147\n",
       "14742  4.914163\n",
       "15711  4.312629\n",
       "20566  5.930712"
      ]
     },
     "metadata": {},
     "output_type": "display_data"
    },
    {
     "name": "stdout",
     "output_type": "stream",
     "text": [
      "\n"
     ]
    },
    {
     "data": {
      "text/markdown": [
       "**Flagged values**:"
      ],
      "text/plain": [
       "<IPython.core.display.Markdown object>"
      ]
     },
     "metadata": {},
     "output_type": "display_data"
    },
    {
     "data": {
      "text/html": [
       "<div>\n",
       "<style scoped>\n",
       "    .dataframe tbody tr th:only-of-type {\n",
       "        vertical-align: middle;\n",
       "    }\n",
       "\n",
       "    .dataframe tbody tr th {\n",
       "        vertical-align: top;\n",
       "    }\n",
       "\n",
       "    .dataframe thead th {\n",
       "        text-align: right;\n",
       "    }\n",
       "</style>\n",
       "<table border=\"1\" class=\"dataframe\">\n",
       "  <thead>\n",
       "    <tr style=\"text-align: right;\">\n",
       "      <th></th>\n",
       "      <th>AveRooms</th>\n",
       "    </tr>\n",
       "  </thead>\n",
       "  <tbody>\n",
       "    <tr>\n",
       "      <th>5916</th>\n",
       "      <td>0.846154</td>\n",
       "    </tr>\n",
       "    <tr>\n",
       "      <th>8219</th>\n",
       "      <td>0.888889</td>\n",
       "    </tr>\n",
       "  </tbody>\n",
       "</table>\n",
       "</div>"
      ],
      "text/plain": [
       "      AveRooms\n",
       "5916  0.846154\n",
       "8219  0.888889"
      ]
     },
     "metadata": {},
     "output_type": "display_data"
    },
    {
     "data": {
      "image/png": "[encoded data removed]",
      "text/plain": [
       "<Figure size 360x216 with 1 Axes>"
      ]
     },
     "metadata": {
      "needs_background": "light"
     },
     "output_type": "display_data"
    },
    {
     "name": "stdout",
     "output_type": "stream",
     "text": [
      "\n"
     ]
    },
    {
     "data": {
      "text/markdown": [
       "### Column(s): AveOccup"
      ],
      "text/plain": [
       "<IPython.core.display.Markdown object>"
      ]
     },
     "metadata": {},
     "output_type": "display_data"
    },
    {
     "data": {
      "text/markdown": [
       "**Issue ID**: 9"
      ],
      "text/plain": [
       "<IPython.core.display.Markdown object>"
      ]
     },
     "metadata": {},
     "output_type": "display_data"
    },
    {
     "data": {
      "text/markdown": [
       "A strong pattern, and exceptions to the pattern, were found.<br>"
      ],
      "text/plain": [
       "<IPython.core.display.Markdown object>"
      ]
     },
     "metadata": {},
     "output_type": "display_data"
    },
    {
     "data": {
      "text/markdown": [
       "**Description**: The column consistently contains absolute values greater than or equal to 1.0, with exceptions."
      ],
      "text/plain": [
       "<IPython.core.display.Markdown object>"
      ]
     },
     "metadata": {},
     "output_type": "display_data"
    },
    {
     "data": {
      "text/markdown": [
       "**Number of exceptions**: 3 (0.0145% of rows)"
      ],
      "text/plain": [
       "<IPython.core.display.Markdown object>"
      ]
     },
     "metadata": {},
     "output_type": "display_data"
    },
    {
     "name": "stdout",
     "output_type": "stream",
     "text": [
      "\n"
     ]
    },
    {
     "data": {
      "text/markdown": [
       "**Examples of values NOT flagged**:"
      ],
      "text/plain": [
       "<IPython.core.display.Markdown object>"
      ]
     },
     "metadata": {},
     "output_type": "display_data"
    },
    {
     "data": {
      "text/html": [
       "<div>\n",
       "<style scoped>\n",
       "    .dataframe tbody tr th:only-of-type {\n",
       "        vertical-align: middle;\n",
       "    }\n",
       "\n",
       "    .dataframe tbody tr th {\n",
       "        vertical-align: top;\n",
       "    }\n",
       "\n",
       "    .dataframe thead th {\n",
       "        text-align: right;\n",
       "    }\n",
       "</style>\n",
       "<table border=\"1\" class=\"dataframe\">\n",
       "  <thead>\n",
       "    <tr style=\"text-align: right;\">\n",
       "      <th></th>\n",
       "      <th>AveOccup</th>\n",
       "    </tr>\n",
       "  </thead>\n",
       "  <tbody>\n",
       "    <tr>\n",
       "      <th>439</th>\n",
       "      <td>2.056604</td>\n",
       "    </tr>\n",
       "    <tr>\n",
       "      <th>845</th>\n",
       "      <td>4.167910</td>\n",
       "    </tr>\n",
       "    <tr>\n",
       "      <th>964</th>\n",
       "      <td>2.930458</td>\n",
       "    </tr>\n",
       "    <tr>\n",
       "      <th>4595</th>\n",
       "      <td>3.849693</td>\n",
       "    </tr>\n",
       "    <tr>\n",
       "      <th>5454</th>\n",
       "      <td>2.748988</td>\n",
       "    </tr>\n",
       "    <tr>\n",
       "      <th>7403</th>\n",
       "      <td>4.724551</td>\n",
       "    </tr>\n",
       "    <tr>\n",
       "      <th>7686</th>\n",
       "      <td>2.975352</td>\n",
       "    </tr>\n",
       "    <tr>\n",
       "      <th>14502</th>\n",
       "      <td>1.929022</td>\n",
       "    </tr>\n",
       "    <tr>\n",
       "      <th>16184</th>\n",
       "      <td>1.553191</td>\n",
       "    </tr>\n",
       "    <tr>\n",
       "      <th>20412</th>\n",
       "      <td>1.955233</td>\n",
       "    </tr>\n",
       "  </tbody>\n",
       "</table>\n",
       "</div>"
      ],
      "text/plain": [
       "       AveOccup\n",
       "439    2.056604\n",
       "845    4.167910\n",
       "964    2.930458\n",
       "4595   3.849693\n",
       "5454   2.748988\n",
       "7403   4.724551\n",
       "7686   2.975352\n",
       "14502  1.929022\n",
       "16184  1.553191\n",
       "20412  1.955233"
      ]
     },
     "metadata": {},
     "output_type": "display_data"
    },
    {
     "name": "stdout",
     "output_type": "stream",
     "text": [
      "\n"
     ]
    },
    {
     "data": {
      "text/markdown": [
       "**Flagged values**:"
      ],
      "text/plain": [
       "<IPython.core.display.Markdown object>"
      ]
     },
     "metadata": {},
     "output_type": "display_data"
    },
    {
     "data": {
      "text/html": [
       "<div>\n",
       "<style scoped>\n",
       "    .dataframe tbody tr th:only-of-type {\n",
       "        vertical-align: middle;\n",
       "    }\n",
       "\n",
       "    .dataframe tbody tr th {\n",
       "        vertical-align: top;\n",
       "    }\n",
       "\n",
       "    .dataframe thead th {\n",
       "        text-align: right;\n",
       "    }\n",
       "</style>\n",
       "<table border=\"1\" class=\"dataframe\">\n",
       "  <thead>\n",
       "    <tr style=\"text-align: right;\">\n",
       "      <th></th>\n",
       "      <th>AveOccup</th>\n",
       "    </tr>\n",
       "  </thead>\n",
       "  <tbody>\n",
       "    <tr>\n",
       "      <th>5342</th>\n",
       "      <td>0.750000</td>\n",
       "    </tr>\n",
       "    <tr>\n",
       "      <th>11849</th>\n",
       "      <td>0.692308</td>\n",
       "    </tr>\n",
       "    <tr>\n",
       "      <th>19522</th>\n",
       "      <td>0.970588</td>\n",
       "    </tr>\n",
       "  </tbody>\n",
       "</table>\n",
       "</div>"
      ],
      "text/plain": [
       "       AveOccup\n",
       "5342   0.750000\n",
       "11849  0.692308\n",
       "19522  0.970588"
      ]
     },
     "metadata": {},
     "output_type": "display_data"
    },
    {
     "data": {
      "image/png": "[encoded data removed]",
      "text/plain": [
       "<Figure size 360x216 with 1 Axes>"
      ]
     },
     "metadata": {
      "needs_background": "light"
     },
     "output_type": "display_data"
    }
   ],
   "source": [
    "# Examine more closely issues related to 'GREATER_THAN_ONE'. Here, the\n",
    "# relevant columns, AveRooms and AveOccup should most likely all be \n",
    "# greater than one, so we look more closely at these. \n",
    "\n",
    "dc.display_detailed_results(test_id_list=['GREATER_THAN_ONE'], show_patterns=False)"
   ]
  },
  {
   "cell_type": "code",
   "execution_count": 9,
   "id": "3edb7898",
   "metadata": {},
   "outputs": [
    {
     "name": "stdout",
     "output_type": "stream",
     "text": [
      "....................................................................................................\n"
     ]
    },
    {
     "data": {
      "text/markdown": [
       "### MUCH_LARGER"
      ],
      "text/plain": [
       "<IPython.core.display.Markdown object>"
      ]
     },
     "metadata": {},
     "output_type": "display_data"
    },
    {
     "name": "stdout",
     "output_type": "stream",
     "text": [
      "\n"
     ]
    },
    {
     "data": {
      "text/markdown": [
       "### Column(s): \"AveBedrms\" AND \"Population\""
      ],
      "text/plain": [
       "<IPython.core.display.Markdown object>"
      ]
     },
     "metadata": {},
     "output_type": "display_data"
    },
    {
     "data": {
      "text/markdown": [
       "**Issue ID**: 11"
      ],
      "text/plain": [
       "<IPython.core.display.Markdown object>"
      ]
     },
     "metadata": {},
     "output_type": "display_data"
    },
    {
     "data": {
      "text/markdown": [
       "A strong pattern, and exceptions to the pattern, were found.<br>"
      ],
      "text/plain": [
       "<IPython.core.display.Markdown object>"
      ]
     },
     "metadata": {},
     "output_type": "display_data"
    },
    {
     "data": {
      "text/markdown": [
       "**Description**: \"Population\" is consistently an order of magnitude or more larger than \"AveBedrms\", with exceptions<br>(where values may still be larger, but not by the normal extent)."
      ],
      "text/plain": [
       "<IPython.core.display.Markdown object>"
      ]
     },
     "metadata": {},
     "output_type": "display_data"
    },
    {
     "data": {
      "text/markdown": [
       "**Number of exceptions**: 28 (0.1357% of rows)"
      ],
      "text/plain": [
       "<IPython.core.display.Markdown object>"
      ]
     },
     "metadata": {},
     "output_type": "display_data"
    },
    {
     "name": "stdout",
     "output_type": "stream",
     "text": [
      "\n"
     ]
    },
    {
     "data": {
      "text/markdown": [
       "**Examples of values NOT flagged**:"
      ],
      "text/plain": [
       "<IPython.core.display.Markdown object>"
      ]
     },
     "metadata": {},
     "output_type": "display_data"
    },
    {
     "data": {
      "text/html": [
       "<div>\n",
       "<style scoped>\n",
       "    .dataframe tbody tr th:only-of-type {\n",
       "        vertical-align: middle;\n",
       "    }\n",
       "\n",
       "    .dataframe tbody tr th {\n",
       "        vertical-align: top;\n",
       "    }\n",
       "\n",
       "    .dataframe thead th {\n",
       "        text-align: right;\n",
       "    }\n",
       "</style>\n",
       "<table border=\"1\" class=\"dataframe\">\n",
       "  <thead>\n",
       "    <tr style=\"text-align: right;\">\n",
       "      <th></th>\n",
       "      <th>AveBedrms</th>\n",
       "      <th>Population</th>\n",
       "    </tr>\n",
       "  </thead>\n",
       "  <tbody>\n",
       "    <tr>\n",
       "      <th>230</th>\n",
       "      <td>1.089362</td>\n",
       "      <td>667.0</td>\n",
       "    </tr>\n",
       "    <tr>\n",
       "      <th>6101</th>\n",
       "      <td>0.955017</td>\n",
       "      <td>1088.0</td>\n",
       "    </tr>\n",
       "    <tr>\n",
       "      <th>6120</th>\n",
       "      <td>0.976351</td>\n",
       "      <td>2259.0</td>\n",
       "    </tr>\n",
       "    <tr>\n",
       "      <th>6855</th>\n",
       "      <td>1.054920</td>\n",
       "      <td>2517.0</td>\n",
       "    </tr>\n",
       "    <tr>\n",
       "      <th>8231</th>\n",
       "      <td>1.095238</td>\n",
       "      <td>1190.0</td>\n",
       "    </tr>\n",
       "    <tr>\n",
       "      <th>11979</th>\n",
       "      <td>1.041667</td>\n",
       "      <td>1785.0</td>\n",
       "    </tr>\n",
       "    <tr>\n",
       "      <th>12351</th>\n",
       "      <td>2.017391</td>\n",
       "      <td>2548.0</td>\n",
       "    </tr>\n",
       "    <tr>\n",
       "      <th>14699</th>\n",
       "      <td>1.000000</td>\n",
       "      <td>816.0</td>\n",
       "    </tr>\n",
       "    <tr>\n",
       "      <th>18592</th>\n",
       "      <td>1.000000</td>\n",
       "      <td>543.0</td>\n",
       "    </tr>\n",
       "    <tr>\n",
       "      <th>18713</th>\n",
       "      <td>0.933131</td>\n",
       "      <td>963.0</td>\n",
       "    </tr>\n",
       "  </tbody>\n",
       "</table>\n",
       "</div>"
      ],
      "text/plain": [
       "       AveBedrms  Population\n",
       "230     1.089362       667.0\n",
       "6101    0.955017      1088.0\n",
       "6120    0.976351      2259.0\n",
       "6855    1.054920      2517.0\n",
       "8231    1.095238      1190.0\n",
       "11979   1.041667      1785.0\n",
       "12351   2.017391      2548.0\n",
       "14699   1.000000       816.0\n",
       "18592   1.000000       543.0\n",
       "18713   0.933131       963.0"
      ]
     },
     "metadata": {},
     "output_type": "display_data"
    },
    {
     "name": "stdout",
     "output_type": "stream",
     "text": [
      "\n"
     ]
    },
    {
     "data": {
      "text/markdown": [
       "**Examples of flagged values**:"
      ],
      "text/plain": [
       "<IPython.core.display.Markdown object>"
      ]
     },
     "metadata": {},
     "output_type": "display_data"
    },
    {
     "data": {
      "text/html": [
       "<div>\n",
       "<style scoped>\n",
       "    .dataframe tbody tr th:only-of-type {\n",
       "        vertical-align: middle;\n",
       "    }\n",
       "\n",
       "    .dataframe tbody tr th {\n",
       "        vertical-align: top;\n",
       "    }\n",
       "\n",
       "    .dataframe thead th {\n",
       "        text-align: right;\n",
       "    }\n",
       "</style>\n",
       "<table border=\"1\" class=\"dataframe\">\n",
       "  <thead>\n",
       "    <tr style=\"text-align: right;\">\n",
       "      <th></th>\n",
       "      <th>AveBedrms</th>\n",
       "      <th>Population</th>\n",
       "    </tr>\n",
       "  </thead>\n",
       "  <tbody>\n",
       "    <tr>\n",
       "      <th>1102</th>\n",
       "      <td>9.703704</td>\n",
       "      <td>47.0</td>\n",
       "    </tr>\n",
       "    <tr>\n",
       "      <th>1240</th>\n",
       "      <td>11.181818</td>\n",
       "      <td>82.0</td>\n",
       "    </tr>\n",
       "    <tr>\n",
       "      <th>1867</th>\n",
       "      <td>5.944444</td>\n",
       "      <td>36.0</td>\n",
       "    </tr>\n",
       "    <tr>\n",
       "      <th>1912</th>\n",
       "      <td>10.153846</td>\n",
       "      <td>54.0</td>\n",
       "    </tr>\n",
       "    <tr>\n",
       "      <th>1914</th>\n",
       "      <td>25.636364</td>\n",
       "      <td>30.0</td>\n",
       "    </tr>\n",
       "    <tr>\n",
       "      <th>1979</th>\n",
       "      <td>34.066667</td>\n",
       "      <td>36.0</td>\n",
       "    </tr>\n",
       "    <tr>\n",
       "      <th>2395</th>\n",
       "      <td>10.270270</td>\n",
       "      <td>64.0</td>\n",
       "    </tr>\n",
       "    <tr>\n",
       "      <th>2511</th>\n",
       "      <td>3.500000</td>\n",
       "      <td>28.0</td>\n",
       "    </tr>\n",
       "    <tr>\n",
       "      <th>3126</th>\n",
       "      <td>1.000000</td>\n",
       "      <td>6.0</td>\n",
       "    </tr>\n",
       "    <tr>\n",
       "      <th>3258</th>\n",
       "      <td>6.000000</td>\n",
       "      <td>26.0</td>\n",
       "    </tr>\n",
       "  </tbody>\n",
       "</table>\n",
       "</div>"
      ],
      "text/plain": [
       "      AveBedrms  Population\n",
       "1102   9.703704        47.0\n",
       "1240  11.181818        82.0\n",
       "1867   5.944444        36.0\n",
       "1912  10.153846        54.0\n",
       "1914  25.636364        30.0\n",
       "1979  34.066667        36.0\n",
       "2395  10.270270        64.0\n",
       "2511   3.500000        28.0\n",
       "3126   1.000000         6.0\n",
       "3258   6.000000        26.0"
      ]
     },
     "metadata": {},
     "output_type": "display_data"
    },
    {
     "data": {
      "image/png": "[encoded data removed]",
      "text/plain": [
       "<Figure size 360x360 with 1 Axes>"
      ]
     },
     "metadata": {
      "needs_background": "light"
     },
     "output_type": "display_data"
    }
   ],
   "source": [
    "# We also examine issue 19 more closely. Here it found that while\n",
    "# Population is usually at least one order of magnitude larger than\n",
    "# AveBedrms, there are exceptions. In this case we would not \n",
    "# expect a relationship between these columns, so this suggests\n",
    "# either one is unusually larger or the other unusually small\n",
    "# in some instances. Looking closer we can see instances of both. \n",
    "\n",
    "dc.display_detailed_results(issue_id_list=[11])"
   ]
  },
  {
   "cell_type": "code",
   "execution_count": null,
   "id": "0796c123",
   "metadata": {},
   "outputs": [],
   "source": []
  }
 ],
 "metadata": {
  "kernelspec": {
   "display_name": "Python 3 (ipykernel)",
   "language": "python",
   "name": "python3"
  },
  "language_info": {
   "codemirror_mode": {
    "name": "ipython",
    "version": 3
   },
   "file_extension": ".py",
   "mimetype": "text/x-python",
   "name": "python",
   "nbconvert_exporter": "python",
   "pygments_lexer": "ipython3",
   "version": "3.9.6"
  }
 },
 "nbformat": 4,
 "nbformat_minor": 5
}
