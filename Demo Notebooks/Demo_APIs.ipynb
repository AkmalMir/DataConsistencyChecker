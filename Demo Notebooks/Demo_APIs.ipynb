{
 "cells": [
  {
   "cell_type": "code",
   "execution_count": 1,
   "id": "4162b34a",
   "metadata": {},
   "outputs": [],
   "source": [
    "import pandas as pd\n",
    "import numpy as np\n",
    "import random\n",
    "import sklearn.datasets as datasets\n",
    "import sys\n",
    "\n",
    "sys.path.insert(1, '..')\n",
    "from check_data_consistency import DataConsistencyChecker"
   ]
  },
  {
   "cell_type": "code",
   "execution_count": 2,
   "id": "2a2a2461",
   "metadata": {},
   "outputs": [],
   "source": [
    "# This notebook provides examples of many of the APIs available. This includes\n",
    "# some APIs that would not be necessary for most EDA or outlier detection work,\n",
    "# but are useful in some situations. Many of the more common APIs are not shown\n",
    "# here, as they are covered in other example notebooks. "
   ]
  },
  {
   "cell_type": "code",
   "execution_count": 3,
   "id": "727670ee",
   "metadata": {},
   "outputs": [
    {
     "data": {
      "text/html": [
       "<div>\n",
       "<style scoped>\n",
       "    .dataframe tbody tr th:only-of-type {\n",
       "        vertical-align: middle;\n",
       "    }\n",
       "\n",
       "    .dataframe tbody tr th {\n",
       "        vertical-align: top;\n",
       "    }\n",
       "\n",
       "    .dataframe thead th {\n",
       "        text-align: right;\n",
       "    }\n",
       "</style>\n",
       "<table border=\"1\" class=\"dataframe\">\n",
       "  <thead>\n",
       "    <tr style=\"text-align: right;\">\n",
       "      <th></th>\n",
       "      <th>CRIM</th>\n",
       "      <th>ZN</th>\n",
       "      <th>INDUS</th>\n",
       "      <th>CHAS</th>\n",
       "      <th>NOX</th>\n",
       "      <th>RM</th>\n",
       "      <th>AGE</th>\n",
       "      <th>DIS</th>\n",
       "      <th>RAD</th>\n",
       "      <th>TAX</th>\n",
       "      <th>PTRATIO</th>\n",
       "      <th>B</th>\n",
       "      <th>LSTAT</th>\n",
       "    </tr>\n",
       "  </thead>\n",
       "  <tbody>\n",
       "    <tr>\n",
       "      <th>0</th>\n",
       "      <td>0.00632</td>\n",
       "      <td>18.0</td>\n",
       "      <td>2.31</td>\n",
       "      <td>0.0</td>\n",
       "      <td>0.538</td>\n",
       "      <td>6.575</td>\n",
       "      <td>65.2</td>\n",
       "      <td>4.0900</td>\n",
       "      <td>1.0</td>\n",
       "      <td>296.0</td>\n",
       "      <td>15.3</td>\n",
       "      <td>396.90</td>\n",
       "      <td>4.98</td>\n",
       "    </tr>\n",
       "    <tr>\n",
       "      <th>1</th>\n",
       "      <td>0.02731</td>\n",
       "      <td>0.0</td>\n",
       "      <td>7.07</td>\n",
       "      <td>0.0</td>\n",
       "      <td>0.469</td>\n",
       "      <td>6.421</td>\n",
       "      <td>78.9</td>\n",
       "      <td>4.9671</td>\n",
       "      <td>2.0</td>\n",
       "      <td>242.0</td>\n",
       "      <td>17.8</td>\n",
       "      <td>396.90</td>\n",
       "      <td>9.14</td>\n",
       "    </tr>\n",
       "    <tr>\n",
       "      <th>2</th>\n",
       "      <td>0.02729</td>\n",
       "      <td>0.0</td>\n",
       "      <td>7.07</td>\n",
       "      <td>0.0</td>\n",
       "      <td>0.469</td>\n",
       "      <td>7.185</td>\n",
       "      <td>61.1</td>\n",
       "      <td>4.9671</td>\n",
       "      <td>2.0</td>\n",
       "      <td>242.0</td>\n",
       "      <td>17.8</td>\n",
       "      <td>392.83</td>\n",
       "      <td>4.03</td>\n",
       "    </tr>\n",
       "    <tr>\n",
       "      <th>3</th>\n",
       "      <td>0.03237</td>\n",
       "      <td>0.0</td>\n",
       "      <td>2.18</td>\n",
       "      <td>0.0</td>\n",
       "      <td>0.458</td>\n",
       "      <td>6.998</td>\n",
       "      <td>45.8</td>\n",
       "      <td>6.0622</td>\n",
       "      <td>3.0</td>\n",
       "      <td>222.0</td>\n",
       "      <td>18.7</td>\n",
       "      <td>394.63</td>\n",
       "      <td>2.94</td>\n",
       "    </tr>\n",
       "    <tr>\n",
       "      <th>4</th>\n",
       "      <td>0.06905</td>\n",
       "      <td>0.0</td>\n",
       "      <td>2.18</td>\n",
       "      <td>0.0</td>\n",
       "      <td>0.458</td>\n",
       "      <td>7.147</td>\n",
       "      <td>54.2</td>\n",
       "      <td>6.0622</td>\n",
       "      <td>3.0</td>\n",
       "      <td>222.0</td>\n",
       "      <td>18.7</td>\n",
       "      <td>396.90</td>\n",
       "      <td>5.33</td>\n",
       "    </tr>\n",
       "  </tbody>\n",
       "</table>\n",
       "</div>"
      ],
      "text/plain": [
       "      CRIM    ZN  INDUS  CHAS    NOX     RM   AGE     DIS  RAD    TAX  \\\n",
       "0  0.00632  18.0   2.31   0.0  0.538  6.575  65.2  4.0900  1.0  296.0   \n",
       "1  0.02731   0.0   7.07   0.0  0.469  6.421  78.9  4.9671  2.0  242.0   \n",
       "2  0.02729   0.0   7.07   0.0  0.469  7.185  61.1  4.9671  2.0  242.0   \n",
       "3  0.03237   0.0   2.18   0.0  0.458  6.998  45.8  6.0622  3.0  222.0   \n",
       "4  0.06905   0.0   2.18   0.0  0.458  7.147  54.2  6.0622  3.0  222.0   \n",
       "\n",
       "   PTRATIO       B  LSTAT  \n",
       "0     15.3  396.90   4.98  \n",
       "1     17.8  396.90   9.14  \n",
       "2     17.8  392.83   4.03  \n",
       "3     18.7  394.63   2.94  \n",
       "4     18.7  396.90   5.33  "
      ]
     },
     "execution_count": 3,
     "metadata": {},
     "output_type": "execute_result"
    }
   ],
   "source": [
    "# Load a dataset. In this example, we use the Boston dataset available\n",
    "# with sklearn.\n",
    "\n",
    "data = datasets.load_boston()\n",
    "df = pd.DataFrame(data.data, columns=data.feature_names)\n",
    "df.head()"
   ]
  },
  {
   "cell_type": "code",
   "execution_count": 4,
   "id": "a88b26e5",
   "metadata": {},
   "outputs": [],
   "source": [
    "# Create a DataConsistencyChecker object\n",
    "\n",
    "dc = DataConsistencyChecker() "
   ]
  },
  {
   "cell_type": "code",
   "execution_count": 5,
   "id": "65efede3",
   "metadata": {},
   "outputs": [
    {
     "data": {
      "text/plain": [
       "['MISSING_VALUES',\n",
       " 'RARE_VALUES',\n",
       " 'UNIQUE_VALUES',\n",
       " 'PREV_VALUES_DT',\n",
       " 'MATCHED_MISSING',\n",
       " 'UNMATCHED_MISSING',\n",
       " 'SAME_VALUES',\n",
       " 'SAME_OR_CONSTANT',\n",
       " 'POSITIVE',\n",
       " 'NEGATIVE',\n",
       " 'NUMBER_DECIMALS',\n",
       " 'RARE_DECIMALS',\n",
       " 'COLUMN_ORDERED_ASC',\n",
       " 'COLUMN_ORDERED_DESC',\n",
       " 'COLUMN_TENDS_ASC',\n",
       " 'COLUMN_TENDS_DESC',\n",
       " 'SIMILAR_PREVIOUS',\n",
       " 'UNUSUAL_ORDER_MAGNITUDE',\n",
       " 'FEW_NEIGHBORS',\n",
       " 'FEW_WITHIN_RANGE',\n",
       " 'VERY_SMALL',\n",
       " 'VERY_LARGE',\n",
       " 'VERY_SMALL_ABS',\n",
       " 'MULTIPLE_OF_CONSTANT',\n",
       " 'ROUNDING',\n",
       " 'NON_ZERO',\n",
       " 'LESS_THAN_ONE',\n",
       " 'GREATER_THAN_ONE',\n",
       " 'INVALID_NUMBERS',\n",
       " 'LARGER',\n",
       " 'MUCH_LARGER',\n",
       " 'SIMILAR_WRT_RATIO',\n",
       " 'SIMILAR_WRT_DIFF',\n",
       " 'SIMILAR_TO_INVERSE',\n",
       " 'SIMILAR_TO_NEGATIVE',\n",
       " 'CONSTANT_SUM',\n",
       " 'CONSTANT_DIFF',\n",
       " 'CONSTANT_PRODUCT',\n",
       " 'CONSTANT_RATIO',\n",
       " 'EVEN_MULTIPLE',\n",
       " 'RARE_COMBINATION',\n",
       " 'CORRELATED_FEATURES',\n",
       " 'MATCHED_ZERO',\n",
       " 'OPPOSITE_ZERO',\n",
       " 'RUNNING_SUM',\n",
       " 'A_ROUNDED_B',\n",
       " 'MATCHED_ZERO_MISSING',\n",
       " 'SIMILAR_TO_DIFF',\n",
       " 'SIMILAR_TO_PRODUCT',\n",
       " 'SIMILAR_TO_RATIO',\n",
       " 'LARGER_THAN_SUM',\n",
       " 'SUM_OF_COLUMNS',\n",
       " 'MEAN_OF_COLUMNS',\n",
       " 'MIN_OF_COLUMNS',\n",
       " 'MAX_OF_COLUMNS',\n",
       " 'ALL_POS_OR_ALL_NEG',\n",
       " 'ALL_ZERO_OR_ALL_NON_ZERO',\n",
       " 'DECISION_TREE_REGRESSOR',\n",
       " 'LINEAR_REGRESSION',\n",
       " 'EARLY_DATES',\n",
       " 'LATE_DATES',\n",
       " 'UNUSUAL_DAY_OF_WEEK',\n",
       " 'UNUSUAL_DAY_OF_MONTH',\n",
       " 'UNUSUAL_MONTH',\n",
       " 'UNUSUAL_HOUR',\n",
       " 'UNUSUAL_MINUTES',\n",
       " 'CONSTANT_GAP',\n",
       " 'LARGE_GAP',\n",
       " 'SMALL_GAP',\n",
       " 'LATER',\n",
       " 'LARGE_GIVEN_DATE',\n",
       " 'SMALL_GIVEN_DATE',\n",
       " 'BINARY_SAME',\n",
       " 'BINARY_OPPOSITE',\n",
       " 'BINARY_IMPLIES',\n",
       " 'BINARY_AND',\n",
       " 'BINARY_OR',\n",
       " 'BINARY_XOR',\n",
       " 'BINARY_NUM_SAME',\n",
       " 'BINARY_RARE_COMBINATION',\n",
       " 'BINARY_MATCHES_VALUES',\n",
       " 'BINARY_TWO_OTHERS_MATCH',\n",
       " 'BINARY_MATCHES_SUM',\n",
       " 'BLANK_VALUES',\n",
       " 'LEADING_WHITESPACE',\n",
       " 'TRAILING_WHITESPACE',\n",
       " 'FIRST_CHAR_ALPHA',\n",
       " 'FIRST_CHAR_NUMERIC',\n",
       " 'FIRST_CHAR_SMALL_SET',\n",
       " 'FIRST_CHAR_UPPERCASE',\n",
       " 'FIRST_CHAR_LOWERCASE',\n",
       " 'LAST_CHAR_SMALL_SET',\n",
       " 'COMMON_SPECIAL_CHARS',\n",
       " 'COMMON_CHARS',\n",
       " 'NUMBER_ALPHA_CHARS',\n",
       " 'NUMBER_NUMERIC_CHARS',\n",
       " 'NUMBER_ALPHANUMERIC_CHARS',\n",
       " 'NUMBER_NON-ALPHANUMERIC_CHARS',\n",
       " 'NUMBER_CHARS',\n",
       " 'MANY_CHARS',\n",
       " 'FEW_CHARS',\n",
       " 'POSITION_NON-ALPHANUMERIC',\n",
       " 'CHARS_PATTERN',\n",
       " 'UPPERCASE',\n",
       " 'LOWERCASE',\n",
       " 'CHARACTERS_USED',\n",
       " 'FIRST_WORD_SMALL_SET',\n",
       " 'LAST_WORD_SMALL_SET',\n",
       " 'NUMBER_WORDS',\n",
       " 'LONGEST_WORDS',\n",
       " 'COMMON_WORDS',\n",
       " 'RARE_WORDS',\n",
       " 'GROUPED_STRINGS',\n",
       " 'RARE_PAIRS',\n",
       " 'RARE_PAIRS_FIRST_CHAR',\n",
       " 'RARE_PAIRS_FIRST_WORD',\n",
       " 'RARE_PAIRS_FIRST_WORD_VAL',\n",
       " 'SIMILAR_CHARACTERS',\n",
       " 'SIMILAR_NUM_CHARS',\n",
       " 'SIMILAR_WORDS',\n",
       " 'SIMILAR_NUM_WORDS',\n",
       " 'SAME_FIRST_CHARS',\n",
       " 'SAME_FIRST_WORD',\n",
       " 'SAME_LAST_WORD',\n",
       " 'SAME_ALPHA_CHARS',\n",
       " 'SAME_NUMERIC_CHARS',\n",
       " 'SAME_SPECIAL_CHARS',\n",
       " 'A_PREFIX_OF_B',\n",
       " 'A_SUFFIX_OF_B',\n",
       " 'B_CONTAINS_A',\n",
       " 'CORRELATED_ALPHA_ORDER',\n",
       " 'LARGE_GIVEN_VALUE',\n",
       " 'SMALL_GIVEN_VALUE',\n",
       " 'LARGE_GIVEN_PREFIX',\n",
       " 'SMALL_GIVEN_PREFIX',\n",
       " 'GROUPED_STRINGS_BY_NUMERIC',\n",
       " 'LARGE_GIVEN_PAIR',\n",
       " 'SMALL_GIVEN_PAIR',\n",
       " 'CORRELATED_GIVEN_VALUE',\n",
       " 'DECISION_TREE_CLASSIFIER',\n",
       " 'C_IS_A_OR_B',\n",
       " 'TWO_PAIRS',\n",
       " 'UNIQUE_SETS_VALUES',\n",
       " 'MISSING_VALUES_PER_ROW',\n",
       " 'ZERO_VALUES_PER_ROW',\n",
       " 'UNIQUE_VALUES_PER_ROW',\n",
       " 'NEGATIVE_VALUES_PER_ROW',\n",
       " 'SMALL_AVG_RANK_PER_ROW',\n",
       " 'LARGE_AVG_RANK_PER_ROW']"
      ]
     },
     "execution_count": 5,
     "metadata": {},
     "output_type": "execute_result"
    }
   ],
   "source": [
    "# Get a list of the available tests. We may wish to run just certain tests,\n",
    "# or to exclude certain tests, when calling check_data_quality(), the main\n",
    "# API. As well, after running check_data_quality(), we may wish to focus \n",
    "# on certain tests, for example, calling display_detailed_results(), \n",
    "# specifying some subset of these. \n",
    "\n",
    "dc.get_test_list()"
   ]
  },
  {
   "cell_type": "code",
   "execution_count": 6,
   "id": "ae63d879",
   "metadata": {
    "scrolled": false
   },
   "outputs": [],
   "source": [
    "# Calling get_test_list() provides a list of the test ids, which are used as\n",
    "# parameters for some other APIs. get_test_descriptions() can provide a \n",
    "# description of what each test does. This is returned in a dictionary.\n",
    "# This may be used for programmatic processing of the tests, but it not \n",
    "# intended for display. For that, use print_test_descriptions(), described \n",
    "# below.\n",
    "\n",
    "descriptions_dict = dc.get_test_descriptions()"
   ]
  },
  {
   "cell_type": "code",
   "execution_count": 7,
   "id": "eed3d460",
   "metadata": {},
   "outputs": [
    {
     "name": "stdout",
     "output_type": "stream",
     "text": [
      "MISSING_VALUES:                Check if all values are consistently present / consistently missing.\n",
      "RARE_VALUES:                   Check if there are any rare values.\n",
      "UNIQUE_VALUES:                 Check if there are consistently unique values with each column.\n",
      "PREV_VALUES_DT:                Check if the values in a column can be predicted from previous values in that column.\n",
      "MATCHED_MISSING:               Check if two columns have missing values consistently in the same rows.\n",
      "UNMATCHED_MISSING:             Check if two columns frequently have null values, but consistently not in the same rows.\n",
      "SAME_VALUES:                   Check one column consistently has the same value as another column.\n",
      "SAME_OR_CONSTANT:              Check one column consistently has either the same value as another column, or a small\n",
      "                                 number of other values.\n",
      "POSITIVE:                      Check if all numbers are positive.\n",
      "NEGATIVE:                      Check if all numbers are negative.\n",
      "NUMBER_DECIMALS:               Check if there is a consistent number of decimals in each value in the column.\n",
      "RARE_DECIMALS:                 Check if there are any uncommon sets of digits after the decimal point.\n",
      "COLUMN_ORDERED_ASC:            Check if the column is monotonically increasing.\n",
      "COLUMN_ORDERED_DESC:           Check if the column is monotonically decreasing.\n",
      "COLUMN_TENDS_ASC:              Check if the column is generally increasing.\n",
      "COLUMN_TENDS_DESC:             Check if the column is generally decreasing.\n",
      "SIMILAR_PREVIOUS:              Check if all values are similar to the previous value in the column, relative to the range\n",
      "                                 of values in the column.\n",
      "UNUSUAL_ORDER_MAGNITUDE:       Check if there are any unusual numeric values, in the sense of having an unusual order of\n",
      "                                 magnitude.\n",
      "FEW_NEIGHBORS:                 Check if there are any unusual numeric values, in the sense of being distant from both the\n",
      "                                 next smallest and next largest values.\n",
      "FEW_WITHIN_RANGE:              Check if there are any unusual numeric values, in the sense of having few other values\n",
      "                                 within a small range.\n",
      "VERY_SMALL:                    Check if there are any very small values.\n",
      "VERY_LARGE:                    Check if there are any very large values.\n",
      "VERY_SMALL_ABS:                Check if there are any very small absolute values.\n",
      "MULTIPLE_OF_CONSTANT:          Check if all values are multiples of some constant.\n",
      "ROUNDING:                      Check if all values are rounded to the same degree.\n",
      "NON_ZERO:                      Check if all values are non-zero.\n",
      "LESS_THAN_ONE:                 Check if all values are between -1.0 and 1.0, inclusive.\n",
      "GREATER_THAN_ONE:              Check if all values are less than -1.0 or greater than 1.0, inclusive.\n",
      "INVALID_NUMBERS:               Check for values that are not valid numbers, including values that include parenthesis,\n",
      "                                 brackets, percent signs and other values, if unusual for the column.\n",
      "LARGER:                        Check if one column is consistently larger than another.\n",
      "MUCH_LARGER:                   Check if one column is consistently at least one order of magnitude larger than another.\n",
      "SIMILAR_WRT_RATIO:             Check if two columns are consistently similar, with respect to their ratio, to each other.\n",
      "SIMILAR_WRT_DIFF:              Check if two columns are consistently similar, with respect to absolute difference, to\n",
      "                                 each other.\n",
      "SIMILAR_TO_INVERSE:            Check if one column is consistently similar to the inverse of the other.\n",
      "SIMILAR_TO_NEGATIVE:           Check if one column is consistently similar to the negative of the other.\n",
      "CONSTANT_SUM:                  Check if the sum of two columns is consistently similar to a constant value.\n",
      "CONSTANT_DIFF:                 Check if the difference between two columns is consistently similar to a constant value.\n",
      "CONSTANT_PRODUCT:              Check if the product of two columns is consistently similar to a constant value.\n",
      "CONSTANT_RATIO:                Check if the ratio of two columns is consistently similar to a constant value.\n",
      "EVEN_MULTIPLE:                 Check if one column is consistently an even integer multiple of the other.\n",
      "RARE_COMBINATION:              Check if two columns have any unusual pairs of values.\n",
      "CORRELATED_FEATURES:           Check if two columns are consistently correlated.\n",
      "MATCHED_ZERO:                  Check if two columns have a value of zero consistently in the same rows.\n",
      "OPPOSITE_ZERO:                 Check if two columns are consistently such that one column contains a zero and the other\n",
      "                                 contains a non-zero value.\n",
      "RUNNING_SUM:                   Check if one column is consistently the sum of its own value from the previous row and\n",
      "                                 another column in the current row.\n",
      "A_ROUNDED_B:                   Check if one column is consistently the result of rounding another column.\n",
      "MATCHED_ZERO_MISSING:          Check if two columns consistently have a zero in one and a missing value in the other.\n",
      "SIMILAR_TO_DIFF:               Check if one column is consistently similar to the difference of two other columns.\n",
      "SIMILAR_TO_PRODUCT:            Check if one column is consistently similar to the product of two other columns.\n",
      "SIMILAR_TO_RATIO:              Check if one column is consistently similar to the ratio of two other columns.\n",
      "LARGER_THAN_SUM:               Check if one column is consistently larger than the sum of two other columns.\n",
      "SUM_OF_COLUMNS:                Check if one column is consistently similar to the sum of two or more other columns.\n",
      "MEAN_OF_COLUMNS:               Check if one column is consistently similar to the mean of two or more other columns.\n",
      "MIN_OF_COLUMNS:                Check if one column is consistently similar to the sum of two or more other columns.\n",
      "MAX_OF_COLUMNS:                Check if one column is consistently similar to the sum of two or more other columns.\n",
      "ALL_POS_OR_ALL_NEG:            Identify sets of columns where the values are consistently either allpositive, or all\n",
      "                                 negative.\n",
      "ALL_ZERO_OR_ALL_NON_ZERO:      Identify sets of columns where the values are consistently either allzero, or non-zero.\n",
      "DECISION_TREE_REGRESSOR:       Check if a numeric column can be derived from the other columns using a small decision\n",
      "                                 tree.\n",
      "LINEAR_REGRESSION:             Check if a numeric column can be derived from the other numeric columns using linear\n",
      "                                 regression.\n",
      "EARLY_DATES:                   Check for dates significantly earlier than the other dates in the column.\n",
      "LATE_DATES:                    Check for dates significantly later than the other dates in the column.\n",
      "UNUSUAL_DAY_OF_WEEK:           Check if a date column contains any unusual days of the week.\n",
      "UNUSUAL_DAY_OF_MONTH:          Check if a date column contains any unusual days of the month.\n",
      "UNUSUAL_MONTH:                 Check if a date column contains any months of the year.\n",
      "UNUSUAL_HOUR:                  Check if a datetime / time column contains any unusual hours of the day.This and\n",
      "                                 UNUSUAL_MINUTES also identify where it is inconsistent if the time is included in the\n",
      "                                 column.\n",
      "UNUSUAL_MINUTES:               Check if a datetime / time column contains any unusual minutes of the hour.\n",
      "CONSTANT_GAP:                  Check if there is consistently a specific gap in time between two date columns.\n",
      "LARGE_GAP:                     Check if there is a larger than normal gap in time between two date columns.\n",
      "SMALL_GAP:                     Check if there is a smaller than normal gap in time between two date columns.\n",
      "LATER:                         Check if one date column is consistently later than another date column.\n",
      "LARGE_GIVEN_DATE:              Check if a numeric value is very large given the value in a date column.\n",
      "SMALL_GIVEN_DATE:              Check if a numeric value is very small given the value in a date column.\n",
      "BINARY_SAME:                   For each pair of binary columns with the same set of two values, check if they\n",
      "                                 consistently have the same value.\n",
      "BINARY_OPPOSITE:               For each pair of binary columns with the same set of two values, check if they\n",
      "                                 consistently have the opposite value.\n",
      "BINARY_IMPLIES:                For each pair of binary columns with the same set of two values, check if when one has a\n",
      "                                 given value, the other consistently does as well, though the other direction may not be\n",
      "                                 true.\n",
      "BINARY_AND:                    For sets of binary columns with the same set of two values, check if onecolumn is\n",
      "                                 consistently the result of ANDing the other columns.\n",
      "BINARY_OR:                     For sets of binary columns with the same set of two values, check if one column is\n",
      "                                 consistently the result of ORing the other columns.\n",
      "BINARY_XOR:                    For sets of binary columns with the same set of two values, check if one column is\n",
      "                                 consistently the result of XORing the other columns.\n",
      "BINARY_NUM_SAME:               For sets of binary columns with the same set of two values, check if there is a consistent\n",
      "                                 number of these columns with the same value.\n",
      "BINARY_RARE_COMBINATION:       Check for rare sets of values in sets of 3 or more binary columns.\n",
      "BINARY_MATCHES_VALUES:         Check if the binary column is consistently true when the values in a numeric column have\n",
      "                                 low or when they have high values.\n",
      "BINARY_TWO_OTHERS_MATCH:       Check if a binary column is consistently one value when two other columns have the same\n",
      "                                 value as each other.\n",
      "BINARY_MATCHES_SUM:            Check if the binary column is consistently true when the sum of a set of  numeric columns\n",
      "                                 is over some threshold.\n",
      "BLANK_VALUES:                  Check for blank strings and values that are entirely whitespace.\n",
      "LEADING_WHITESPACE:            Check for strings with unusual leading whitespace.\n",
      "TRAILING_WHITESPACE:           Check for blank strings with unusual trailing whitespace.\n",
      "FIRST_CHAR_ALPHA:              Check if the first characters are consistently alphabetic.\n",
      "FIRST_CHAR_NUMERIC:            Check if the first characters are consistently numeric.\n",
      "FIRST_CHAR_SMALL_SET:          Check if there are a small number of distinct characters used for the first character.\n",
      "FIRST_CHAR_UPPERCASE:          Check if the first character is consistently uppercase.\n",
      "FIRST_CHAR_LOWERCASE:          Check if the first character is consistently lowercase.\n",
      "LAST_CHAR_SMALL_SET:           Check if there are a small number of distinct characters used for the last character.\n",
      "COMMON_SPECIAL_CHARS:          Check if there are one or more non-alphanumeric characters that consistently appear in the\n",
      "                                 values.\n",
      "COMMON_CHARS:                  Check if there is consistently zero or a small number of characters repeated in the\n",
      "                                 values.\n",
      "NUMBER_ALPHA_CHARS:            Check if there is a consistent number of alphabetic characters in each value in the\n",
      "                                 column.\n",
      "NUMBER_NUMERIC_CHARS:          Check if there is a consistent number of numeric characters in each value in the column.\n",
      "NUMBER_ALPHANUMERIC_CHARS:     Check if there is a consistent number of alphanumeric characters in  each value in the\n",
      "                                 column.\n",
      "NUMBER_NON-ALPHANUMERIC_CHARS: Check if there is a consistent number of non-alphanumeric characters in each value in the\n",
      "                                 column.\n",
      "NUMBER_CHARS:                  Check if there is a consistent number of characters in each value in the column.\n",
      "MANY_CHARS:                    Check if any values have an unusually large number of characters.\n",
      "FEW_CHARS:                     Check if any values have an unusually small number of characters.\n",
      "POSITION_NON-ALPHANUMERIC:     Check if the positions of the non-alphanumeric characters is consistent.\n",
      "CHARS_PATTERN:                 Check if there is a consistent pattern of alphabetic, numeric and special characters in\n",
      "                                 each value in a column.\n",
      "UPPERCASE:                     Check if all alphabetic characters are consistently uppercase.\n",
      "LOWERCASE:                     Check if all alphabetic characters are consistently lowercase.\n",
      "CHARACTERS_USED:               Check if there is a consistent set of characters used in each value in the column.\n",
      "FIRST_WORD_SMALL_SET:          Check if there is a small set of words consistently used for the first word.\n",
      "LAST_WORD_SMALL_SET:           Check if there is a small set of words consistently used for the last word.\n",
      "NUMBER_WORDS:                  Check if there is a consistent number of words used in each value in the column.\n",
      "LONGEST_WORDS:                 Check if the column contains any unusually long words.\n",
      "COMMON_WORDS:                  Check if there is a consistent set of words used in each value in the column.\n",
      "RARE_WORDS:                    Check if there are words which occur rarely in a given column.\n",
      "GROUPED_STRINGS:               Check if a string or binary column is sorted into groups.\n",
      "RARE_PAIRS:                    Checks for pairs of values in two columns, where neither is rare, but the combination is\n",
      "                                 rare.\n",
      "RARE_PAIRS_FIRST_CHAR:         Checks for pairs of values in two columns, where neither begins with a rare character, but\n",
      "                                 the combination is rare.\n",
      "RARE_PAIRS_FIRST_WORD:         Checks for pairs of values in two columns, where neither begins with a rare word, but the\n",
      "                                 combination is rare.\n",
      "RARE_PAIRS_FIRST_WORD_VAL:     Checks for pairs of values in two columns, where the combination of the first word in one\n",
      "                                 and the value in the other is rare.\n",
      "SIMILAR_CHARACTERS:            Check if two string columns, with one word each, consistently have a significant overlap\n",
      "                                 in the characters used.\n",
      "SIMILAR_NUM_CHARS:             Check if two string columns consistently have similar numbers of characters.\n",
      "SIMILAR_WORDS:                 Check if two string columns consistently have a significant overlap in the words used.\n",
      "SIMILAR_NUM_WORDS:             Check if two string columns consistently have similar numbers of words.\n",
      "SAME_FIRST_CHARS:              Check if two string columns consistently start with the same set of  characters.\n",
      "SAME_FIRST_WORD:               Check if two string columns consistently start with the same word.\n",
      "SAME_LAST_WORD:                Check if two string columns consistently end with the same word.\n",
      "SAME_ALPHA_CHARS:              Check if two string columns consistently contain the same set of  alphabetic characters.\n",
      "SAME_NUMERIC_CHARS:            Check if two string columns consistently contain the same set of  numeric characters.\n",
      "SAME_SPECIAL_CHARS:            Check if two string columns consistently contain the same set of special characters.\n",
      "A_PREFIX_OF_B:                 Check if one column is consistently the prefix of another column.\n",
      "A_SUFFIX_OF_B:                 Check if one column is consistently the suffix of another column.\n",
      "B_CONTAINS_A:                  Check if one column is consistently contained in another columns, but is neither the\n",
      "                                 prefix nor suffix of the second column.\n",
      "CORRELATED_ALPHA_ORDER:        Check if the alphabetic orderings of two columns are consistently correlated.\n",
      "LARGE_GIVEN_VALUE:             Check if the value in the numeric column is very large given the value in the categorical\n",
      "                                 column.\n",
      "SMALL_GIVEN_VALUE:             Check if the value in the numeric column is very small given the value in the categorical\n",
      "                                 column.\n",
      "LARGE_GIVEN_PREFIX:            Check if the value in the numeric column is very large given the first word in the\n",
      "                                 categorical column.\n",
      "SMALL_GIVEN_PREFIX:            Check if the value in the numeric column is very small given the first word in the\n",
      "                                 categorical column.\n",
      "GROUPED_STRINGS_BY_NUMERIC:    Check if a string or binary column is sorted into groups when the table isordered by a\n",
      "                                 numeric or date column.\n",
      "LARGE_GIVEN_PAIR:              Check if a numeric or date column is large given the pair of values in two string or\n",
      "                                 binary columns.\n",
      "SMALL_GIVEN_PAIR:              Check if a numeric or date column is large given the pair of values in two string or\n",
      "                                 binary columns.\n",
      "CORRELATED_GIVEN_VALUE:        Check if two numeric columns are correlated if conditioning on a string orbinary column.\n",
      "DECISION_TREE_CLASSIFIER:      Check if the categorical column can be derived from the other columns using a decision\n",
      "                                 tree.\n",
      "C_IS_A_OR_B:                   Check if one column is consistently equal to the value in one of two other columns, though\n",
      "                                 not consistently either one of the two columns.\n",
      "TWO_PAIRS:                     Check that, given two pairs of columns, the first pair have matching values in the same\n",
      "                                 rows as the other pair.\n",
      "UNIQUE_SETS_VALUES:            Check if a set of columns has unique combinations of values.\n",
      "MISSING_VALUES_PER_ROW:        Check if there is a consistent number of missing values per row.\n",
      "ZERO_VALUES_PER_ROW:           Check if there is a consistent number of zero values per row.\n",
      "UNIQUE_VALUES_PER_ROW:         Check if there is a consistent number of unique values per row.\n",
      "NEGATIVE_VALUES_PER_ROW:       Check if there is a consistent number of negative values per row.\n",
      "SMALL_AVG_RANK_PER_ROW:        Check if the numeric values in a row have a small average percentile value relative to\n",
      "                                 their columns. This indicates the numeric values are typicallyunusually small.\n",
      "LARGE_AVG_RANK_PER_ROW:        Check if the numeric values in a row have a large average percentile value relative to\n",
      "                                 their columns. This indicates the numeric values are typicallyunusually large.\n"
     ]
    }
   ],
   "source": [
    "# print_test_descriptions() provides a more readable output of the available tests. \n",
    "\n",
    "dc.print_test_descriptions()"
   ]
  },
  {
   "cell_type": "code",
   "execution_count": 8,
   "id": "f287bc47",
   "metadata": {},
   "outputs": [
    {
     "name": "stdout",
     "output_type": "stream",
     "text": [
      "Executing test   0: MISSING_VALUES:               \n",
      "Executing test   1: RARE_VALUES:                  \n",
      "Executing test   2: UNIQUE_VALUES:                \n",
      "Executing test   3: PREV_VALUES_DT:               \n",
      "Executing test   4: MATCHED_MISSING:              \n",
      "Executing test   5: UNMATCHED_MISSING:            \n",
      "Executing test   6: SAME_VALUES:                  \n",
      "Executing test   7: SAME_OR_CONSTANT:             \n",
      "Executing test   8: POSITIVE:                     \n",
      "Executing test   9: NEGATIVE:                     \n",
      "Executing test  10: NUMBER_DECIMALS:              \n",
      "Executing test  11: RARE_DECIMALS:                \n",
      "Executing test  12: COLUMN_ORDERED_ASC:           \n",
      "Executing test  13: COLUMN_ORDERED_DESC:          \n",
      "Executing test  14: COLUMN_TENDS_ASC:             \n",
      "Executing test  15: COLUMN_TENDS_DESC:            \n",
      "Executing test  16: SIMILAR_PREVIOUS:             \n",
      "Executing test  17: UNUSUAL_ORDER_MAGNITUDE:      \n",
      "Executing test  18: FEW_NEIGHBORS:                \n",
      "Executing test  19: FEW_WITHIN_RANGE:             \n",
      "Executing test  20: VERY_SMALL:                   \n",
      "Executing test  21: VERY_LARGE:                   \n",
      "Executing test  22: VERY_SMALL_ABS:               \n",
      "Executing test  23: MULTIPLE_OF_CONSTANT:         \n",
      "Executing test  24: ROUNDING:                     \n",
      "Executing test  25: NON_ZERO:                     \n",
      "Executing test  26: LESS_THAN_ONE:                \n",
      "Executing test  27: GREATER_THAN_ONE:             \n",
      "Executing test  28: INVALID_NUMBERS:              \n",
      "Executing test  29: LARGER:                       \n",
      "Executing test  30: MUCH_LARGER:                  \n",
      "Executing test  31: SIMILAR_WRT_RATIO:            \n",
      "Executing test  32: SIMILAR_WRT_DIFF:             \n",
      "Executing test  33: SIMILAR_TO_INVERSE:           \n",
      "Executing test  34: SIMILAR_TO_NEGATIVE:          \n",
      "Executing test  35: CONSTANT_SUM:                 \n",
      "Executing test  36: CONSTANT_DIFF:                \n",
      "Executing test  37: CONSTANT_PRODUCT:             \n",
      "Executing test  38: CONSTANT_RATIO:               \n",
      "Executing test  39: EVEN_MULTIPLE:                \n",
      "Executing test  40: RARE_COMBINATION:             \n",
      "Executing test  41: CORRELATED_FEATURES:          \n",
      "Executing test  42: MATCHED_ZERO:                 \n",
      "Executing test  43: OPPOSITE_ZERO:                \n",
      "Executing test  44: RUNNING_SUM:                  \n",
      "Executing test  45: A_ROUNDED_B:                  \n",
      "Executing test  46: MATCHED_ZERO_MISSING:         \n",
      "Executing test  47: SIMILAR_TO_DIFF:              \n",
      "Executing test  48: SIMILAR_TO_PRODUCT:           \n",
      "Executing test  49: SIMILAR_TO_RATIO:             \n",
      "Executing test  50: LARGER_THAN_SUM:              \n",
      "Executing test  51: SUM_OF_COLUMNS:               \n",
      "Executing test  52: MEAN_OF_COLUMNS:              \n",
      "Executing test  53: MIN_OF_COLUMNS:               \n",
      "Executing test  54: MAX_OF_COLUMNS:               \n",
      "Executing test  55: ALL_POS_OR_ALL_NEG:           \n",
      "Executing test  56: ALL_ZERO_OR_ALL_NON_ZERO:     \n",
      "Executing test  57: DECISION_TREE_REGRESSOR:      \n",
      "Executing test  58: LINEAR_REGRESSION:            \n",
      "Executing test  59: EARLY_DATES:                  \n",
      "Executing test  60: LATE_DATES:                   \n",
      "Executing test  61: UNUSUAL_DAY_OF_WEEK:          \n",
      "Executing test  62: UNUSUAL_DAY_OF_MONTH:         \n",
      "Executing test  63: UNUSUAL_MONTH:                \n",
      "Executing test  64: UNUSUAL_HOUR:                 \n",
      "Executing test  65: UNUSUAL_MINUTES:              \n",
      "Executing test  66: CONSTANT_GAP:                 \n",
      "Executing test  67: LARGE_GAP:                    \n",
      "Executing test  68: SMALL_GAP:                    \n",
      "Executing test  69: LATER:                        \n",
      "Executing test  70: LARGE_GIVEN_DATE:             \n",
      "Executing test  71: SMALL_GIVEN_DATE:             \n",
      "Executing test  72: BINARY_SAME:                  \n",
      "Executing test  73: BINARY_OPPOSITE:              \n",
      "Executing test  74: BINARY_IMPLIES:               \n",
      "Executing test  75: BINARY_AND:                   \n",
      "Executing test  76: BINARY_OR:                    \n",
      "Executing test  77: BINARY_XOR:                   \n",
      "Executing test  78: BINARY_NUM_SAME:              \n",
      "Executing test  79: BINARY_RARE_COMBINATION:      \n",
      "Executing test  80: BINARY_MATCHES_VALUES:        \n",
      "Executing test  81: BINARY_TWO_OTHERS_MATCH:      \n",
      "Executing test  82: BINARY_MATCHES_SUM:           \n",
      "Executing test  83: BLANK_VALUES:                 \n",
      "Executing test  84: LEADING_WHITESPACE:           \n",
      "Executing test  85: TRAILING_WHITESPACE:          \n",
      "Executing test  86: FIRST_CHAR_ALPHA:             \n",
      "Executing test  87: FIRST_CHAR_NUMERIC:           \n",
      "Executing test  88: FIRST_CHAR_SMALL_SET:         \n",
      "Executing test  89: FIRST_CHAR_UPPERCASE:         \n",
      "Executing test  90: FIRST_CHAR_LOWERCASE:         \n",
      "Executing test  91: LAST_CHAR_SMALL_SET:          \n",
      "Executing test  92: COMMON_SPECIAL_CHARS:         \n",
      "Executing test  93: COMMON_CHARS:                 \n",
      "Executing test  94: NUMBER_ALPHA_CHARS:           \n",
      "Executing test  95: NUMBER_NUMERIC_CHARS:         \n",
      "Executing test  96: NUMBER_ALPHANUMERIC_CHARS:    \n",
      "Executing test  97: NUMBER_NON-ALPHANUMERIC_CHARS:\n",
      "Executing test  98: NUMBER_CHARS:                 \n",
      "Executing test  99: MANY_CHARS:                   \n",
      "Executing test 100: FEW_CHARS:                    \n",
      "Executing test 101: POSITION_NON-ALPHANUMERIC:    \n",
      "Executing test 102: CHARS_PATTERN:                \n",
      "Executing test 103: UPPERCASE:                    \n",
      "Executing test 104: LOWERCASE:                    \n",
      "Executing test 105: CHARACTERS_USED:              \n",
      "Executing test 106: FIRST_WORD_SMALL_SET:         \n",
      "Executing test 107: LAST_WORD_SMALL_SET:          \n",
      "Executing test 108: NUMBER_WORDS:                 \n",
      "Executing test 109: LONGEST_WORDS:                \n",
      "Executing test 110: COMMON_WORDS:                 \n",
      "Executing test 111: RARE_WORDS:                   \n",
      "Executing test 112: GROUPED_STRINGS:              \n",
      "Executing test 113: RARE_PAIRS:                   \n",
      "Executing test 114: RARE_PAIRS_FIRST_CHAR:        \n",
      "Executing test 115: RARE_PAIRS_FIRST_WORD:        \n",
      "Executing test 116: RARE_PAIRS_FIRST_WORD_VAL:    \n",
      "Executing test 117: SIMILAR_CHARACTERS:           \n",
      "Executing test 118: SIMILAR_NUM_CHARS:            \n",
      "Executing test 119: SIMILAR_WORDS:                \n",
      "Executing test 120: SIMILAR_NUM_WORDS:            \n",
      "Executing test 121: SAME_FIRST_CHARS:             \n",
      "Executing test 122: SAME_FIRST_WORD:              \n",
      "Executing test 123: SAME_LAST_WORD:               \n",
      "Executing test 124: SAME_ALPHA_CHARS:             \n",
      "Executing test 125: SAME_NUMERIC_CHARS:           \n",
      "Executing test 126: SAME_SPECIAL_CHARS:           \n",
      "Executing test 127: A_PREFIX_OF_B:                \n",
      "Executing test 128: A_SUFFIX_OF_B:                \n",
      "Executing test 129: B_CONTAINS_A:                 \n",
      "Executing test 130: CORRELATED_ALPHA_ORDER:       \n",
      "Executing test 131: LARGE_GIVEN_VALUE:            \n",
      "Executing test 132: SMALL_GIVEN_VALUE:            \n",
      "Executing test 133: LARGE_GIVEN_PREFIX:           \n",
      "Executing test 134: SMALL_GIVEN_PREFIX:           \n",
      "Executing test 135: GROUPED_STRINGS_BY_NUMERIC:   \n",
      "Executing test 136: LARGE_GIVEN_PAIR:             \n",
      "Executing test 137: SMALL_GIVEN_PAIR:             \n",
      "Executing test 138: CORRELATED_GIVEN_VALUE:       \n",
      "Executing test 139: DECISION_TREE_CLASSIFIER:     \n",
      "Executing test 140: C_IS_A_OR_B:                  \n",
      "Executing test 141: TWO_PAIRS:                    \n",
      "Executing test 142: UNIQUE_SETS_VALUES:           \n",
      "Executing test 143: MISSING_VALUES_PER_ROW:       \n",
      "Executing test 144: ZERO_VALUES_PER_ROW:          \n",
      "Executing test 145: UNIQUE_VALUES_PER_ROW:        \n",
      "Executing test 146: NEGATIVE_VALUES_PER_ROW:      \n",
      "Executing test 147: SMALL_AVG_RANK_PER_ROW:       \n",
      "Executing test 148: LARGE_AVG_RANK_PER_ROW:       \n",
      "\n",
      "Data consistency check complete.\n",
      "Analysed 506 rows, 13 columns\n",
      "Executed 149 tests.\n",
      "\n",
      "Patterns without Exceptions:\n",
      "Found 75 patterns without exceptions\n",
      "16 tests (10.74% of tests) identified at least one pattern without exceptions each. \n",
      "By default some patterns are not listed in calls to display_detailed_results().\n",
      "\n",
      "Patterns with Exceptions:\n",
      "Found 10 patterns with exceptions\n",
      "7 tests (4.70% of tests) flagged at least one exception each.\n",
      "Flagged 10 row(s) with at least one exception.\n",
      "Flagged 7 column(s) with at least one exception.\n"
     ]
    }
   ],
   "source": [
    "# To identify patterns and exceptions in the dataset, we create a \n",
    "# DataConsistencyChecker object (this was done above, but is repeated\n",
    "# here), initialize it with the dataset we wish to check, and call \n",
    "# check_data_quality().\n",
    "\n",
    "dc = DataConsistencyChecker()  \n",
    "dc.init_data(df)\n",
    "_ = dc.check_data_quality()"
   ]
  },
  {
   "cell_type": "code",
   "execution_count": 9,
   "id": "b58af266",
   "metadata": {},
   "outputs": [
    {
     "name": "stdout",
     "output_type": "stream",
     "text": [
      "\n"
     ]
    },
    {
     "data": {
      "text/markdown": [
       "**String Columns**:"
      ],
      "text/plain": [
       "<IPython.core.display.Markdown object>"
      ]
     },
     "metadata": {},
     "output_type": "display_data"
    },
    {
     "data": {
      "text/markdown": [
       "None"
      ],
      "text/plain": [
       "<IPython.core.display.Markdown object>"
      ]
     },
     "metadata": {},
     "output_type": "display_data"
    },
    {
     "name": "stdout",
     "output_type": "stream",
     "text": [
      "\n"
     ]
    },
    {
     "data": {
      "text/markdown": [
       "**Numeric Columns**:"
      ],
      "text/plain": [
       "<IPython.core.display.Markdown object>"
      ]
     },
     "metadata": {},
     "output_type": "display_data"
    },
    {
     "data": {
      "text/markdown": [
       "'CRIM', 'ZN', 'INDUS', 'NOX', 'RM', 'AGE', 'DIS', 'RAD', 'TAX', 'PTRATIO', 'B', 'LSTAT'"
      ],
      "text/plain": [
       "<IPython.core.display.Markdown object>"
      ]
     },
     "metadata": {},
     "output_type": "display_data"
    },
    {
     "name": "stdout",
     "output_type": "stream",
     "text": [
      "\n"
     ]
    },
    {
     "data": {
      "text/markdown": [
       "**Binary Columns**:"
      ],
      "text/plain": [
       "<IPython.core.display.Markdown object>"
      ]
     },
     "metadata": {},
     "output_type": "display_data"
    },
    {
     "data": {
      "text/markdown": [
       "'CHAS'"
      ],
      "text/plain": [
       "<IPython.core.display.Markdown object>"
      ]
     },
     "metadata": {},
     "output_type": "display_data"
    },
    {
     "name": "stdout",
     "output_type": "stream",
     "text": [
      "\n"
     ]
    },
    {
     "data": {
      "text/markdown": [
       "**Date/Time Columns**:"
      ],
      "text/plain": [
       "<IPython.core.display.Markdown object>"
      ]
     },
     "metadata": {},
     "output_type": "display_data"
    },
    {
     "data": {
      "text/markdown": [
       "None"
      ],
      "text/plain": [
       "<IPython.core.display.Markdown object>"
      ]
     },
     "metadata": {},
     "output_type": "display_data"
    }
   ],
   "source": [
    "# The tests performed on each column are based partially on which type of \n",
    "# data the tool identified in the columns. All columns are classified as\n",
    "# either string, numeric, binary, or date/time. To see how \n",
    "\n",
    "dc.display_columns_types_list()"
   ]
  },
  {
   "cell_type": "code",
   "execution_count": 10,
   "id": "ac7f8bf0",
   "metadata": {},
   "outputs": [
    {
     "name": "stdout",
     "output_type": "stream",
     "text": [
      "\n",
      "Assigned column types and example rows:\n"
     ]
    },
    {
     "data": {
      "text/html": [
       "<div>\n",
       "<style scoped>\n",
       "    .dataframe tbody tr th:only-of-type {\n",
       "        vertical-align: middle;\n",
       "    }\n",
       "\n",
       "    .dataframe tbody tr th {\n",
       "        vertical-align: top;\n",
       "    }\n",
       "\n",
       "    .dataframe thead th {\n",
       "        text-align: right;\n",
       "    }\n",
       "</style>\n",
       "<table border=\"1\" class=\"dataframe\">\n",
       "  <thead>\n",
       "    <tr style=\"text-align: right;\">\n",
       "      <th></th>\n",
       "      <th>CRIM</th>\n",
       "      <th>ZN</th>\n",
       "      <th>INDUS</th>\n",
       "      <th>CHAS</th>\n",
       "      <th>NOX</th>\n",
       "      <th>RM</th>\n",
       "      <th>AGE</th>\n",
       "      <th>DIS</th>\n",
       "      <th>RAD</th>\n",
       "      <th>TAX</th>\n",
       "      <th>PTRATIO</th>\n",
       "      <th>B</th>\n",
       "      <th>LSTAT</th>\n",
       "    </tr>\n",
       "  </thead>\n",
       "  <tbody>\n",
       "    <tr>\n",
       "      <th>0</th>\n",
       "      <td>Numeric</td>\n",
       "      <td>Numeric</td>\n",
       "      <td>Numeric</td>\n",
       "      <td>Binary</td>\n",
       "      <td>Numeric</td>\n",
       "      <td>Numeric</td>\n",
       "      <td>Numeric</td>\n",
       "      <td>Numeric</td>\n",
       "      <td>Numeric</td>\n",
       "      <td>Numeric</td>\n",
       "      <td>Numeric</td>\n",
       "      <td>Numeric</td>\n",
       "      <td>Numeric</td>\n",
       "    </tr>\n",
       "    <tr>\n",
       "      <th>0</th>\n",
       "      <td>0.00632</td>\n",
       "      <td>18.0</td>\n",
       "      <td>2.31</td>\n",
       "      <td>0.0</td>\n",
       "      <td>0.538</td>\n",
       "      <td>6.575</td>\n",
       "      <td>65.2</td>\n",
       "      <td>4.09</td>\n",
       "      <td>1.0</td>\n",
       "      <td>296.0</td>\n",
       "      <td>15.3</td>\n",
       "      <td>396.9</td>\n",
       "      <td>4.98</td>\n",
       "    </tr>\n",
       "    <tr>\n",
       "      <th>1</th>\n",
       "      <td>0.02731</td>\n",
       "      <td>0.0</td>\n",
       "      <td>7.07</td>\n",
       "      <td>0.0</td>\n",
       "      <td>0.469</td>\n",
       "      <td>6.421</td>\n",
       "      <td>78.9</td>\n",
       "      <td>4.9671</td>\n",
       "      <td>2.0</td>\n",
       "      <td>242.0</td>\n",
       "      <td>17.8</td>\n",
       "      <td>396.9</td>\n",
       "      <td>9.14</td>\n",
       "    </tr>\n",
       "    <tr>\n",
       "      <th>2</th>\n",
       "      <td>0.02729</td>\n",
       "      <td>0.0</td>\n",
       "      <td>7.07</td>\n",
       "      <td>0.0</td>\n",
       "      <td>0.469</td>\n",
       "      <td>7.185</td>\n",
       "      <td>61.1</td>\n",
       "      <td>4.9671</td>\n",
       "      <td>2.0</td>\n",
       "      <td>242.0</td>\n",
       "      <td>17.8</td>\n",
       "      <td>392.83</td>\n",
       "      <td>4.03</td>\n",
       "    </tr>\n",
       "    <tr>\n",
       "      <th>3</th>\n",
       "      <td>0.03237</td>\n",
       "      <td>0.0</td>\n",
       "      <td>2.18</td>\n",
       "      <td>0.0</td>\n",
       "      <td>0.458</td>\n",
       "      <td>6.998</td>\n",
       "      <td>45.8</td>\n",
       "      <td>6.0622</td>\n",
       "      <td>3.0</td>\n",
       "      <td>222.0</td>\n",
       "      <td>18.7</td>\n",
       "      <td>394.63</td>\n",
       "      <td>2.94</td>\n",
       "    </tr>\n",
       "    <tr>\n",
       "      <th>4</th>\n",
       "      <td>0.06905</td>\n",
       "      <td>0.0</td>\n",
       "      <td>2.18</td>\n",
       "      <td>0.0</td>\n",
       "      <td>0.458</td>\n",
       "      <td>7.147</td>\n",
       "      <td>54.2</td>\n",
       "      <td>6.0622</td>\n",
       "      <td>3.0</td>\n",
       "      <td>222.0</td>\n",
       "      <td>18.7</td>\n",
       "      <td>396.9</td>\n",
       "      <td>5.33</td>\n",
       "    </tr>\n",
       "  </tbody>\n",
       "</table>\n",
       "</div>"
      ],
      "text/plain": [
       "      CRIM       ZN    INDUS    CHAS      NOX       RM      AGE      DIS  \\\n",
       "0  Numeric  Numeric  Numeric  Binary  Numeric  Numeric  Numeric  Numeric   \n",
       "0  0.00632     18.0     2.31     0.0    0.538    6.575     65.2     4.09   \n",
       "1  0.02731      0.0     7.07     0.0    0.469    6.421     78.9   4.9671   \n",
       "2  0.02729      0.0     7.07     0.0    0.469    7.185     61.1   4.9671   \n",
       "3  0.03237      0.0     2.18     0.0    0.458    6.998     45.8   6.0622   \n",
       "4  0.06905      0.0     2.18     0.0    0.458    7.147     54.2   6.0622   \n",
       "\n",
       "       RAD      TAX  PTRATIO        B    LSTAT  \n",
       "0  Numeric  Numeric  Numeric  Numeric  Numeric  \n",
       "0      1.0    296.0     15.3    396.9     4.98  \n",
       "1      2.0    242.0     17.8    396.9     9.14  \n",
       "2      2.0    242.0     17.8   392.83     4.03  \n",
       "3      3.0    222.0     18.7   394.63     2.94  \n",
       "4      3.0    222.0     18.7    396.9     5.33  "
      ]
     },
     "metadata": {},
     "output_type": "display_data"
    }
   ],
   "source": [
    "# It is also possible to view this with example values of each column. \n",
    "\n",
    "dc.display_columns_types_table()"
   ]
  },
  {
   "cell_type": "code",
   "execution_count": 11,
   "id": "0b0b8bed",
   "metadata": {
    "scrolled": false
   },
   "outputs": [
    {
     "name": "stdout",
     "output_type": "stream",
     "text": [
      "....................................................................................................\n"
     ]
    },
    {
     "data": {
      "text/markdown": [
       "### SIMILAR_PREVIOUS"
      ],
      "text/plain": [
       "<IPython.core.display.Markdown object>"
      ]
     },
     "metadata": {},
     "output_type": "display_data"
    },
    {
     "name": "stdout",
     "output_type": "stream",
     "text": [
      "\n"
     ]
    },
    {
     "data": {
      "text/markdown": [
       "### Column(s): DIS"
      ],
      "text/plain": [
       "<IPython.core.display.Markdown object>"
      ]
     },
     "metadata": {},
     "output_type": "display_data"
    },
    {
     "data": {
      "text/markdown": [
       "**Issue ID**: 0"
      ],
      "text/plain": [
       "<IPython.core.display.Markdown object>"
      ]
     },
     "metadata": {},
     "output_type": "display_data"
    },
    {
     "data": {
      "text/markdown": [
       "A strong pattern, and exceptions to the pattern, were found.\n"
      ],
      "text/plain": [
       "<IPython.core.display.Markdown object>"
      ]
     },
     "metadata": {},
     "output_type": "display_data"
    },
    {
     "data": {
      "text/markdown": [
       "**Description**: The values in \"DIS\" are consistently similar to the previous value, more so than they are similar to<br>the median value of the column (3.2074499999999997), with exceptions."
      ],
      "text/plain": [
       "<IPython.core.display.Markdown object>"
      ]
     },
     "metadata": {},
     "output_type": "display_data"
    },
    {
     "data": {
      "text/markdown": [
       "**Number of exceptions**: 2 (0.3953% of rows)"
      ],
      "text/plain": [
       "<IPython.core.display.Markdown object>"
      ]
     },
     "metadata": {},
     "output_type": "display_data"
    },
    {
     "name": "stdout",
     "output_type": "stream",
     "text": [
      "\n"
     ]
    },
    {
     "data": {
      "text/markdown": [
       "**Examples of values NOT flagged (showing a consecutive set of rows)**:"
      ],
      "text/plain": [
       "<IPython.core.display.Markdown object>"
      ]
     },
     "metadata": {},
     "output_type": "display_data"
    },
    {
     "data": {
      "text/html": [
       "<div>\n",
       "<style scoped>\n",
       "    .dataframe tbody tr th:only-of-type {\n",
       "        vertical-align: middle;\n",
       "    }\n",
       "\n",
       "    .dataframe tbody tr th {\n",
       "        vertical-align: top;\n",
       "    }\n",
       "\n",
       "    .dataframe thead th {\n",
       "        text-align: right;\n",
       "    }\n",
       "</style>\n",
       "<table border=\"1\" class=\"dataframe\">\n",
       "  <thead>\n",
       "    <tr style=\"text-align: right;\">\n",
       "      <th></th>\n",
       "      <th>DIS</th>\n",
       "    </tr>\n",
       "  </thead>\n",
       "  <tbody>\n",
       "    <tr>\n",
       "      <th>245</th>\n",
       "      <td>7.9549</td>\n",
       "    </tr>\n",
       "    <tr>\n",
       "      <th>246</th>\n",
       "      <td>8.0555</td>\n",
       "    </tr>\n",
       "    <tr>\n",
       "      <th>247</th>\n",
       "      <td>8.0555</td>\n",
       "    </tr>\n",
       "    <tr>\n",
       "      <th>248</th>\n",
       "      <td>7.8265</td>\n",
       "    </tr>\n",
       "    <tr>\n",
       "      <th>249</th>\n",
       "      <td>7.8265</td>\n",
       "    </tr>\n",
       "    <tr>\n",
       "      <th>250</th>\n",
       "      <td>7.3967</td>\n",
       "    </tr>\n",
       "    <tr>\n",
       "      <th>251</th>\n",
       "      <td>7.3967</td>\n",
       "    </tr>\n",
       "    <tr>\n",
       "      <th>252</th>\n",
       "      <td>8.9067</td>\n",
       "    </tr>\n",
       "    <tr>\n",
       "      <th>253</th>\n",
       "      <td>8.9067</td>\n",
       "    </tr>\n",
       "    <tr>\n",
       "      <th>254</th>\n",
       "      <td>9.2203</td>\n",
       "    </tr>\n",
       "  </tbody>\n",
       "</table>\n",
       "</div>"
      ],
      "text/plain": [
       "        DIS\n",
       "245  7.9549\n",
       "246  8.0555\n",
       "247  8.0555\n",
       "248  7.8265\n",
       "249  7.8265\n",
       "250  7.3967\n",
       "251  7.3967\n",
       "252  8.9067\n",
       "253  8.9067\n",
       "254  9.2203"
      ]
     },
     "metadata": {},
     "output_type": "display_data"
    },
    {
     "name": "stdout",
     "output_type": "stream",
     "text": [
      "\n"
     ]
    },
    {
     "data": {
      "text/markdown": [
       "**Flagged values**:"
      ],
      "text/plain": [
       "<IPython.core.display.Markdown object>"
      ]
     },
     "metadata": {},
     "output_type": "display_data"
    },
    {
     "data": {
      "text/html": [
       "<div>\n",
       "<style scoped>\n",
       "    .dataframe tbody tr th:only-of-type {\n",
       "        vertical-align: middle;\n",
       "    }\n",
       "\n",
       "    .dataframe tbody tr th {\n",
       "        vertical-align: top;\n",
       "    }\n",
       "\n",
       "    .dataframe thead th {\n",
       "        text-align: right;\n",
       "    }\n",
       "</style>\n",
       "<table border=\"1\" class=\"dataframe\">\n",
       "  <thead>\n",
       "    <tr style=\"text-align: right;\">\n",
       "      <th></th>\n",
       "      <th>DIS</th>\n",
       "    </tr>\n",
       "  </thead>\n",
       "  <tbody>\n",
       "    <tr>\n",
       "      <th>257</th>\n",
       "      <td>1.8010</td>\n",
       "    </tr>\n",
       "    <tr>\n",
       "      <th>356</th>\n",
       "      <td>2.1222</td>\n",
       "    </tr>\n",
       "  </tbody>\n",
       "</table>\n",
       "</div>"
      ],
      "text/plain": [
       "        DIS\n",
       "257  1.8010\n",
       "356  2.1222"
      ]
     },
     "metadata": {},
     "output_type": "display_data"
    },
    {
     "name": "stdout",
     "output_type": "stream",
     "text": [
      "\n"
     ]
    },
    {
     "data": {
      "text/markdown": [
       "Showing the first flagged example with the 5 rows before and 5 rows after (if available):"
      ],
      "text/plain": [
       "<IPython.core.display.Markdown object>"
      ]
     },
     "metadata": {},
     "output_type": "display_data"
    },
    {
     "data": {
      "text/html": [
       "<div>\n",
       "<style scoped>\n",
       "    .dataframe tbody tr th:only-of-type {\n",
       "        vertical-align: middle;\n",
       "    }\n",
       "\n",
       "    .dataframe tbody tr th {\n",
       "        vertical-align: top;\n",
       "    }\n",
       "\n",
       "    .dataframe thead th {\n",
       "        text-align: right;\n",
       "    }\n",
       "</style>\n",
       "<table border=\"1\" class=\"dataframe\">\n",
       "  <thead>\n",
       "    <tr style=\"text-align: right;\">\n",
       "      <th></th>\n",
       "      <th>DIS</th>\n",
       "    </tr>\n",
       "  </thead>\n",
       "  <tbody>\n",
       "    <tr>\n",
       "      <th>252</th>\n",
       "      <td>8.9067</td>\n",
       "    </tr>\n",
       "    <tr>\n",
       "      <th>253</th>\n",
       "      <td>8.9067</td>\n",
       "    </tr>\n",
       "    <tr>\n",
       "      <th>254</th>\n",
       "      <td>9.2203</td>\n",
       "    </tr>\n",
       "    <tr>\n",
       "      <th>255</th>\n",
       "      <td>9.2203</td>\n",
       "    </tr>\n",
       "    <tr>\n",
       "      <th>256</th>\n",
       "      <td>6.3361</td>\n",
       "    </tr>\n",
       "    <tr>\n",
       "      <th>257</th>\n",
       "      <td>1.8010</td>\n",
       "    </tr>\n",
       "    <tr>\n",
       "      <th>258</th>\n",
       "      <td>1.8946</td>\n",
       "    </tr>\n",
       "    <tr>\n",
       "      <th>259</th>\n",
       "      <td>2.0107</td>\n",
       "    </tr>\n",
       "    <tr>\n",
       "      <th>260</th>\n",
       "      <td>2.1121</td>\n",
       "    </tr>\n",
       "    <tr>\n",
       "      <th>261</th>\n",
       "      <td>2.1398</td>\n",
       "    </tr>\n",
       "  </tbody>\n",
       "</table>\n",
       "</div>"
      ],
      "text/plain": [
       "        DIS\n",
       "252  8.9067\n",
       "253  8.9067\n",
       "254  9.2203\n",
       "255  9.2203\n",
       "256  6.3361\n",
       "257  1.8010\n",
       "258  1.8946\n",
       "259  2.0107\n",
       "260  2.1121\n",
       "261  2.1398"
      ]
     },
     "metadata": {},
     "output_type": "display_data"
    },
    {
     "data": {
      "image/png": "[encoded data removed]",
      "text/plain": [
       "<Figure size 288x288 with 1 Axes>"
      ]
     },
     "metadata": {
      "needs_background": "light"
     },
     "output_type": "display_data"
    },
    {
     "name": "stdout",
     "output_type": "stream",
     "text": [
      "....................................................................................................\n"
     ]
    },
    {
     "data": {
      "text/markdown": [
       "### UNUSUAL_ORDER_MAGNITUDE"
      ],
      "text/plain": [
       "<IPython.core.display.Markdown object>"
      ]
     },
     "metadata": {},
     "output_type": "display_data"
    },
    {
     "name": "stdout",
     "output_type": "stream",
     "text": [
      "\n"
     ]
    },
    {
     "data": {
      "text/markdown": [
       "### Column(s): AGE"
      ],
      "text/plain": [
       "<IPython.core.display.Markdown object>"
      ]
     },
     "metadata": {},
     "output_type": "display_data"
    },
    {
     "data": {
      "text/markdown": [
       "**Issue ID**: 1"
      ],
      "text/plain": [
       "<IPython.core.display.Markdown object>"
      ]
     },
     "metadata": {},
     "output_type": "display_data"
    },
    {
     "data": {
      "text/markdown": [
       "A strong pattern, and exceptions to the pattern, were found.\n"
      ],
      "text/plain": [
       "<IPython.core.display.Markdown object>"
      ]
     },
     "metadata": {},
     "output_type": "display_data"
    },
    {
     "data": {
      "text/markdown": [
       "**Description**: This test checks for values of an unusual order of magnitude, etc. Each value is described in terms<br>of its order, or powers of 10. For example 10 is order 1, 100 is order 2, 1000 is order 3, etc. All<br>numbers are rounded to the nearest order of magnitude. The column contains values in the range 2.9<br>to 100.0, and consistently in the order of 1.0 or 2.0, with exceptions."
      ],
      "text/plain": [
       "<IPython.core.display.Markdown object>"
      ]
     },
     "metadata": {},
     "output_type": "display_data"
    },
    {
     "data": {
      "text/markdown": [
       "**Number of exceptions**: 1 (0.1976% of rows)"
      ],
      "text/plain": [
       "<IPython.core.display.Markdown object>"
      ]
     },
     "metadata": {},
     "output_type": "display_data"
    },
    {
     "name": "stdout",
     "output_type": "stream",
     "text": [
      "\n"
     ]
    },
    {
     "data": {
      "text/markdown": [
       "**Examples of values NOT flagged**:"
      ],
      "text/plain": [
       "<IPython.core.display.Markdown object>"
      ]
     },
     "metadata": {},
     "output_type": "display_data"
    },
    {
     "data": {
      "text/html": [
       "<div>\n",
       "<style scoped>\n",
       "    .dataframe tbody tr th:only-of-type {\n",
       "        vertical-align: middle;\n",
       "    }\n",
       "\n",
       "    .dataframe tbody tr th {\n",
       "        vertical-align: top;\n",
       "    }\n",
       "\n",
       "    .dataframe thead th {\n",
       "        text-align: right;\n",
       "    }\n",
       "</style>\n",
       "<table border=\"1\" class=\"dataframe\">\n",
       "  <thead>\n",
       "    <tr style=\"text-align: right;\">\n",
       "      <th></th>\n",
       "      <th>AGE</th>\n",
       "      <th>ORDER OF MAGNITUDE</th>\n",
       "    </tr>\n",
       "  </thead>\n",
       "  <tbody>\n",
       "    <tr>\n",
       "      <th>15</th>\n",
       "      <td>56.5</td>\n",
       "      <td>2.0</td>\n",
       "    </tr>\n",
       "    <tr>\n",
       "      <th>91</th>\n",
       "      <td>73.9</td>\n",
       "      <td>2.0</td>\n",
       "    </tr>\n",
       "    <tr>\n",
       "      <th>98</th>\n",
       "      <td>36.9</td>\n",
       "      <td>2.0</td>\n",
       "    </tr>\n",
       "    <tr>\n",
       "      <th>154</th>\n",
       "      <td>96.0</td>\n",
       "      <td>2.0</td>\n",
       "    </tr>\n",
       "    <tr>\n",
       "      <th>160</th>\n",
       "      <td>92.6</td>\n",
       "      <td>2.0</td>\n",
       "    </tr>\n",
       "    <tr>\n",
       "      <th>319</th>\n",
       "      <td>58.8</td>\n",
       "      <td>2.0</td>\n",
       "    </tr>\n",
       "    <tr>\n",
       "      <th>341</th>\n",
       "      <td>49.3</td>\n",
       "      <td>2.0</td>\n",
       "    </tr>\n",
       "    <tr>\n",
       "      <th>396</th>\n",
       "      <td>96.0</td>\n",
       "      <td>2.0</td>\n",
       "    </tr>\n",
       "    <tr>\n",
       "      <th>400</th>\n",
       "      <td>100.0</td>\n",
       "      <td>2.0</td>\n",
       "    </tr>\n",
       "    <tr>\n",
       "      <th>478</th>\n",
       "      <td>96.7</td>\n",
       "      <td>2.0</td>\n",
       "    </tr>\n",
       "  </tbody>\n",
       "</table>\n",
       "</div>"
      ],
      "text/plain": [
       "       AGE  ORDER OF MAGNITUDE\n",
       "15    56.5                 2.0\n",
       "91    73.9                 2.0\n",
       "98    36.9                 2.0\n",
       "154   96.0                 2.0\n",
       "160   92.6                 2.0\n",
       "319   58.8                 2.0\n",
       "341   49.3                 2.0\n",
       "396   96.0                 2.0\n",
       "400  100.0                 2.0\n",
       "478   96.7                 2.0"
      ]
     },
     "metadata": {},
     "output_type": "display_data"
    },
    {
     "name": "stdout",
     "output_type": "stream",
     "text": [
      "\n"
     ]
    },
    {
     "data": {
      "text/markdown": [
       "**Flagged values**:"
      ],
      "text/plain": [
       "<IPython.core.display.Markdown object>"
      ]
     },
     "metadata": {},
     "output_type": "display_data"
    },
    {
     "data": {
      "text/html": [
       "<div>\n",
       "<style scoped>\n",
       "    .dataframe tbody tr th:only-of-type {\n",
       "        vertical-align: middle;\n",
       "    }\n",
       "\n",
       "    .dataframe tbody tr th {\n",
       "        vertical-align: top;\n",
       "    }\n",
       "\n",
       "    .dataframe thead th {\n",
       "        text-align: right;\n",
       "    }\n",
       "</style>\n",
       "<table border=\"1\" class=\"dataframe\">\n",
       "  <thead>\n",
       "    <tr style=\"text-align: right;\">\n",
       "      <th></th>\n",
       "      <th>AGE</th>\n",
       "      <th>ORDER OF MAGNITUDE</th>\n",
       "    </tr>\n",
       "  </thead>\n",
       "  <tbody>\n",
       "    <tr>\n",
       "      <th>41</th>\n",
       "      <td>2.9</td>\n",
       "      <td>0.0</td>\n",
       "    </tr>\n",
       "  </tbody>\n",
       "</table>\n",
       "</div>"
      ],
      "text/plain": [
       "    AGE  ORDER OF MAGNITUDE\n",
       "41  2.9                 0.0"
      ]
     },
     "metadata": {},
     "output_type": "display_data"
    },
    {
     "data": {
      "image/png": "[encoded data removed]",
      "text/plain": [
       "<Figure size 360x216 with 1 Axes>"
      ]
     },
     "metadata": {
      "needs_background": "light"
     },
     "output_type": "display_data"
    },
    {
     "name": "stdout",
     "output_type": "stream",
     "text": [
      "....................................................................................................\n"
     ]
    },
    {
     "data": {
      "text/markdown": [
       "### VERY_SMALL"
      ],
      "text/plain": [
       "<IPython.core.display.Markdown object>"
      ]
     },
     "metadata": {},
     "output_type": "display_data"
    },
    {
     "name": "stdout",
     "output_type": "stream",
     "text": [
      "\n"
     ]
    },
    {
     "data": {
      "text/markdown": [
       "### Column(s): RM"
      ],
      "text/plain": [
       "<IPython.core.display.Markdown object>"
      ]
     },
     "metadata": {},
     "output_type": "display_data"
    },
    {
     "data": {
      "text/markdown": [
       "**Issue ID**: 2"
      ],
      "text/plain": [
       "<IPython.core.display.Markdown object>"
      ]
     },
     "metadata": {},
     "output_type": "display_data"
    },
    {
     "data": {
      "text/markdown": [
       "A strong pattern, and exceptions to the pattern, were found.\n"
      ],
      "text/plain": [
       "<IPython.core.display.Markdown object>"
      ]
     },
     "metadata": {},
     "output_type": "display_data"
    },
    {
     "data": {
      "text/markdown": [
       "**Description**: The test marked any values less than 4.035500000000001 as very small given the 10th decile is<br>5.593500000000001 and the 90th is 7.1515. The coefficient is set at 1.0."
      ],
      "text/plain": [
       "<IPython.core.display.Markdown object>"
      ]
     },
     "metadata": {},
     "output_type": "display_data"
    },
    {
     "data": {
      "text/markdown": [
       "**Number of exceptions**: 2 (0.3953% of rows)"
      ],
      "text/plain": [
       "<IPython.core.display.Markdown object>"
      ]
     },
     "metadata": {},
     "output_type": "display_data"
    },
    {
     "name": "stdout",
     "output_type": "stream",
     "text": [
      "\n"
     ]
    },
    {
     "data": {
      "text/markdown": [
       "**Examples of values NOT flagged**:"
      ],
      "text/plain": [
       "<IPython.core.display.Markdown object>"
      ]
     },
     "metadata": {},
     "output_type": "display_data"
    },
    {
     "data": {
      "text/html": [
       "<div>\n",
       "<style scoped>\n",
       "    .dataframe tbody tr th:only-of-type {\n",
       "        vertical-align: middle;\n",
       "    }\n",
       "\n",
       "    .dataframe tbody tr th {\n",
       "        vertical-align: top;\n",
       "    }\n",
       "\n",
       "    .dataframe thead th {\n",
       "        text-align: right;\n",
       "    }\n",
       "</style>\n",
       "<table border=\"1\" class=\"dataframe\">\n",
       "  <thead>\n",
       "    <tr style=\"text-align: right;\">\n",
       "      <th></th>\n",
       "      <th>RM</th>\n",
       "    </tr>\n",
       "  </thead>\n",
       "  <tbody>\n",
       "    <tr>\n",
       "      <th>15</th>\n",
       "      <td>5.834</td>\n",
       "    </tr>\n",
       "    <tr>\n",
       "      <th>90</th>\n",
       "      <td>6.417</td>\n",
       "    </tr>\n",
       "    <tr>\n",
       "      <th>97</th>\n",
       "      <td>8.069</td>\n",
       "    </tr>\n",
       "    <tr>\n",
       "      <th>153</th>\n",
       "      <td>5.709</td>\n",
       "    </tr>\n",
       "    <tr>\n",
       "      <th>159</th>\n",
       "      <td>6.510</td>\n",
       "    </tr>\n",
       "    <tr>\n",
       "      <th>318</th>\n",
       "      <td>6.382</td>\n",
       "    </tr>\n",
       "    <tr>\n",
       "      <th>340</th>\n",
       "      <td>5.968</td>\n",
       "    </tr>\n",
       "    <tr>\n",
       "      <th>397</th>\n",
       "      <td>5.747</td>\n",
       "    </tr>\n",
       "    <tr>\n",
       "      <th>418</th>\n",
       "      <td>5.957</td>\n",
       "    </tr>\n",
       "    <tr>\n",
       "      <th>478</th>\n",
       "      <td>6.185</td>\n",
       "    </tr>\n",
       "  </tbody>\n",
       "</table>\n",
       "</div>"
      ],
      "text/plain": [
       "        RM\n",
       "15   5.834\n",
       "90   6.417\n",
       "97   8.069\n",
       "153  5.709\n",
       "159  6.510\n",
       "318  6.382\n",
       "340  5.968\n",
       "397  5.747\n",
       "418  5.957\n",
       "478  6.185"
      ]
     },
     "metadata": {},
     "output_type": "display_data"
    },
    {
     "name": "stdout",
     "output_type": "stream",
     "text": [
      "\n"
     ]
    },
    {
     "data": {
      "text/markdown": [
       "**Flagged values**:"
      ],
      "text/plain": [
       "<IPython.core.display.Markdown object>"
      ]
     },
     "metadata": {},
     "output_type": "display_data"
    },
    {
     "data": {
      "text/html": [
       "<div>\n",
       "<style scoped>\n",
       "    .dataframe tbody tr th:only-of-type {\n",
       "        vertical-align: middle;\n",
       "    }\n",
       "\n",
       "    .dataframe tbody tr th {\n",
       "        vertical-align: top;\n",
       "    }\n",
       "\n",
       "    .dataframe thead th {\n",
       "        text-align: right;\n",
       "    }\n",
       "</style>\n",
       "<table border=\"1\" class=\"dataframe\">\n",
       "  <thead>\n",
       "    <tr style=\"text-align: right;\">\n",
       "      <th></th>\n",
       "      <th>RM</th>\n",
       "    </tr>\n",
       "  </thead>\n",
       "  <tbody>\n",
       "    <tr>\n",
       "      <th>365</th>\n",
       "      <td>3.561</td>\n",
       "    </tr>\n",
       "    <tr>\n",
       "      <th>367</th>\n",
       "      <td>3.863</td>\n",
       "    </tr>\n",
       "  </tbody>\n",
       "</table>\n",
       "</div>"
      ],
      "text/plain": [
       "        RM\n",
       "365  3.561\n",
       "367  3.863"
      ]
     },
     "metadata": {},
     "output_type": "display_data"
    },
    {
     "data": {
      "image/png": "[encoded data removed]",
      "text/plain": [
       "<Figure size 360x216 with 1 Axes>"
      ]
     },
     "metadata": {
      "needs_background": "light"
     },
     "output_type": "display_data"
    },
    {
     "name": "stdout",
     "output_type": "stream",
     "text": [
      "....................................................................................................\n"
     ]
    },
    {
     "data": {
      "text/markdown": [
       "### GREATER_THAN_ONE"
      ],
      "text/plain": [
       "<IPython.core.display.Markdown object>"
      ]
     },
     "metadata": {},
     "output_type": "display_data"
    },
    {
     "name": "stdout",
     "output_type": "stream",
     "text": [
      "\n"
     ]
    },
    {
     "data": {
      "text/markdown": [
       "### Column(s): INDUS"
      ],
      "text/plain": [
       "<IPython.core.display.Markdown object>"
      ]
     },
     "metadata": {},
     "output_type": "display_data"
    },
    {
     "data": {
      "text/markdown": [
       "**Issue ID**: 3"
      ],
      "text/plain": [
       "<IPython.core.display.Markdown object>"
      ]
     },
     "metadata": {},
     "output_type": "display_data"
    },
    {
     "data": {
      "text/markdown": [
       "A strong pattern, and exceptions to the pattern, were found.\n"
      ],
      "text/plain": [
       "<IPython.core.display.Markdown object>"
      ]
     },
     "metadata": {},
     "output_type": "display_data"
    },
    {
     "data": {
      "text/markdown": [
       "**Description**: The column consistently contains absolute values greater than or equal to 1.0, with exceptions."
      ],
      "text/plain": [
       "<IPython.core.display.Markdown object>"
      ]
     },
     "metadata": {},
     "output_type": "display_data"
    },
    {
     "data": {
      "text/markdown": [
       "**Number of exceptions**: 2 (0.3953% of rows)"
      ],
      "text/plain": [
       "<IPython.core.display.Markdown object>"
      ]
     },
     "metadata": {},
     "output_type": "display_data"
    },
    {
     "name": "stdout",
     "output_type": "stream",
     "text": [
      "\n"
     ]
    },
    {
     "data": {
      "text/markdown": [
       "**Examples of values NOT flagged**:"
      ],
      "text/plain": [
       "<IPython.core.display.Markdown object>"
      ]
     },
     "metadata": {},
     "output_type": "display_data"
    },
    {
     "data": {
      "text/html": [
       "<div>\n",
       "<style scoped>\n",
       "    .dataframe tbody tr th:only-of-type {\n",
       "        vertical-align: middle;\n",
       "    }\n",
       "\n",
       "    .dataframe tbody tr th {\n",
       "        vertical-align: top;\n",
       "    }\n",
       "\n",
       "    .dataframe thead th {\n",
       "        text-align: right;\n",
       "    }\n",
       "</style>\n",
       "<table border=\"1\" class=\"dataframe\">\n",
       "  <thead>\n",
       "    <tr style=\"text-align: right;\">\n",
       "      <th></th>\n",
       "      <th>INDUS</th>\n",
       "    </tr>\n",
       "  </thead>\n",
       "  <tbody>\n",
       "    <tr>\n",
       "      <th>15</th>\n",
       "      <td>8.14</td>\n",
       "    </tr>\n",
       "    <tr>\n",
       "      <th>91</th>\n",
       "      <td>3.41</td>\n",
       "    </tr>\n",
       "    <tr>\n",
       "      <th>98</th>\n",
       "      <td>2.89</td>\n",
       "    </tr>\n",
       "    <tr>\n",
       "      <th>154</th>\n",
       "      <td>19.58</td>\n",
       "    </tr>\n",
       "    <tr>\n",
       "      <th>160</th>\n",
       "      <td>19.58</td>\n",
       "    </tr>\n",
       "    <tr>\n",
       "      <th>320</th>\n",
       "      <td>7.38</td>\n",
       "    </tr>\n",
       "    <tr>\n",
       "      <th>342</th>\n",
       "      <td>1.89</td>\n",
       "    </tr>\n",
       "    <tr>\n",
       "      <th>397</th>\n",
       "      <td>18.10</td>\n",
       "    </tr>\n",
       "    <tr>\n",
       "      <th>418</th>\n",
       "      <td>18.10</td>\n",
       "    </tr>\n",
       "    <tr>\n",
       "      <th>478</th>\n",
       "      <td>18.10</td>\n",
       "    </tr>\n",
       "  </tbody>\n",
       "</table>\n",
       "</div>"
      ],
      "text/plain": [
       "     INDUS\n",
       "15    8.14\n",
       "91    3.41\n",
       "98    2.89\n",
       "154  19.58\n",
       "160  19.58\n",
       "320   7.38\n",
       "342   1.89\n",
       "397  18.10\n",
       "418  18.10\n",
       "478  18.10"
      ]
     },
     "metadata": {},
     "output_type": "display_data"
    },
    {
     "name": "stdout",
     "output_type": "stream",
     "text": [
      "\n"
     ]
    },
    {
     "data": {
      "text/markdown": [
       "**Flagged values**:"
      ],
      "text/plain": [
       "<IPython.core.display.Markdown object>"
      ]
     },
     "metadata": {},
     "output_type": "display_data"
    },
    {
     "data": {
      "text/html": [
       "<div>\n",
       "<style scoped>\n",
       "    .dataframe tbody tr th:only-of-type {\n",
       "        vertical-align: middle;\n",
       "    }\n",
       "\n",
       "    .dataframe tbody tr th {\n",
       "        vertical-align: top;\n",
       "    }\n",
       "\n",
       "    .dataframe thead th {\n",
       "        text-align: right;\n",
       "    }\n",
       "</style>\n",
       "<table border=\"1\" class=\"dataframe\">\n",
       "  <thead>\n",
       "    <tr style=\"text-align: right;\">\n",
       "      <th></th>\n",
       "      <th>INDUS</th>\n",
       "    </tr>\n",
       "  </thead>\n",
       "  <tbody>\n",
       "    <tr>\n",
       "      <th>56</th>\n",
       "      <td>0.74</td>\n",
       "    </tr>\n",
       "    <tr>\n",
       "      <th>195</th>\n",
       "      <td>0.46</td>\n",
       "    </tr>\n",
       "  </tbody>\n",
       "</table>\n",
       "</div>"
      ],
      "text/plain": [
       "     INDUS\n",
       "56    0.74\n",
       "195   0.46"
      ]
     },
     "metadata": {},
     "output_type": "display_data"
    },
    {
     "data": {
      "image/png": "[encoded data removed]",
      "text/plain": [
       "<Figure size 360x216 with 1 Axes>"
      ]
     },
     "metadata": {
      "needs_background": "light"
     },
     "output_type": "display_data"
    },
    {
     "name": "stdout",
     "output_type": "stream",
     "text": [
      "\n"
     ]
    },
    {
     "data": {
      "text/markdown": [
       "### Column(s): B"
      ],
      "text/plain": [
       "<IPython.core.display.Markdown object>"
      ]
     },
     "metadata": {},
     "output_type": "display_data"
    },
    {
     "data": {
      "text/markdown": [
       "**Issue ID**: 4"
      ],
      "text/plain": [
       "<IPython.core.display.Markdown object>"
      ]
     },
     "metadata": {},
     "output_type": "display_data"
    },
    {
     "data": {
      "text/markdown": [
       "A strong pattern, and exceptions to the pattern, were found.\n"
      ],
      "text/plain": [
       "<IPython.core.display.Markdown object>"
      ]
     },
     "metadata": {},
     "output_type": "display_data"
    },
    {
     "data": {
      "text/markdown": [
       "**Description**: The column consistently contains absolute values greater than or equal to 1.0, with exceptions."
      ],
      "text/plain": [
       "<IPython.core.display.Markdown object>"
      ]
     },
     "metadata": {},
     "output_type": "display_data"
    },
    {
     "data": {
      "text/markdown": [
       "**Number of exceptions**: 1 (0.1976% of rows)"
      ],
      "text/plain": [
       "<IPython.core.display.Markdown object>"
      ]
     },
     "metadata": {},
     "output_type": "display_data"
    },
    {
     "name": "stdout",
     "output_type": "stream",
     "text": [
      "\n"
     ]
    },
    {
     "data": {
      "text/markdown": [
       "**Examples of values NOT flagged**:"
      ],
      "text/plain": [
       "<IPython.core.display.Markdown object>"
      ]
     },
     "metadata": {},
     "output_type": "display_data"
    },
    {
     "data": {
      "text/html": [
       "<div>\n",
       "<style scoped>\n",
       "    .dataframe tbody tr th:only-of-type {\n",
       "        vertical-align: middle;\n",
       "    }\n",
       "\n",
       "    .dataframe tbody tr th {\n",
       "        vertical-align: top;\n",
       "    }\n",
       "\n",
       "    .dataframe thead th {\n",
       "        text-align: right;\n",
       "    }\n",
       "</style>\n",
       "<table border=\"1\" class=\"dataframe\">\n",
       "  <thead>\n",
       "    <tr style=\"text-align: right;\">\n",
       "      <th></th>\n",
       "      <th>B</th>\n",
       "    </tr>\n",
       "  </thead>\n",
       "  <tbody>\n",
       "    <tr>\n",
       "      <th>15</th>\n",
       "      <td>395.62</td>\n",
       "    </tr>\n",
       "    <tr>\n",
       "      <th>90</th>\n",
       "      <td>392.18</td>\n",
       "    </tr>\n",
       "    <tr>\n",
       "      <th>97</th>\n",
       "      <td>396.90</td>\n",
       "    </tr>\n",
       "    <tr>\n",
       "      <th>153</th>\n",
       "      <td>261.95</td>\n",
       "    </tr>\n",
       "    <tr>\n",
       "      <th>159</th>\n",
       "      <td>364.31</td>\n",
       "    </tr>\n",
       "    <tr>\n",
       "      <th>318</th>\n",
       "      <td>395.21</td>\n",
       "    </tr>\n",
       "    <tr>\n",
       "      <th>340</th>\n",
       "      <td>396.90</td>\n",
       "    </tr>\n",
       "    <tr>\n",
       "      <th>395</th>\n",
       "      <td>391.98</td>\n",
       "    </tr>\n",
       "    <tr>\n",
       "      <th>399</th>\n",
       "      <td>338.16</td>\n",
       "    </tr>\n",
       "    <tr>\n",
       "      <th>478</th>\n",
       "      <td>379.70</td>\n",
       "    </tr>\n",
       "  </tbody>\n",
       "</table>\n",
       "</div>"
      ],
      "text/plain": [
       "          B\n",
       "15   395.62\n",
       "90   392.18\n",
       "97   396.90\n",
       "153  261.95\n",
       "159  364.31\n",
       "318  395.21\n",
       "340  396.90\n",
       "395  391.98\n",
       "399  338.16\n",
       "478  379.70"
      ]
     },
     "metadata": {},
     "output_type": "display_data"
    },
    {
     "name": "stdout",
     "output_type": "stream",
     "text": [
      "\n"
     ]
    },
    {
     "data": {
      "text/markdown": [
       "**Flagged values**:"
      ],
      "text/plain": [
       "<IPython.core.display.Markdown object>"
      ]
     },
     "metadata": {},
     "output_type": "display_data"
    },
    {
     "data": {
      "text/html": [
       "<div>\n",
       "<style scoped>\n",
       "    .dataframe tbody tr th:only-of-type {\n",
       "        vertical-align: middle;\n",
       "    }\n",
       "\n",
       "    .dataframe tbody tr th {\n",
       "        vertical-align: top;\n",
       "    }\n",
       "\n",
       "    .dataframe thead th {\n",
       "        text-align: right;\n",
       "    }\n",
       "</style>\n",
       "<table border=\"1\" class=\"dataframe\">\n",
       "  <thead>\n",
       "    <tr style=\"text-align: right;\">\n",
       "      <th></th>\n",
       "      <th>B</th>\n",
       "    </tr>\n",
       "  </thead>\n",
       "  <tbody>\n",
       "    <tr>\n",
       "      <th>450</th>\n",
       "      <td>0.32</td>\n",
       "    </tr>\n",
       "  </tbody>\n",
       "</table>\n",
       "</div>"
      ],
      "text/plain": [
       "        B\n",
       "450  0.32"
      ]
     },
     "metadata": {},
     "output_type": "display_data"
    },
    {
     "data": {
      "image/png": "[encoded data removed]",
      "text/plain": [
       "<Figure size 360x216 with 1 Axes>"
      ]
     },
     "metadata": {
      "needs_background": "light"
     },
     "output_type": "display_data"
    },
    {
     "name": "stdout",
     "output_type": "stream",
     "text": [
      "....................................................................................................\n"
     ]
    },
    {
     "data": {
      "text/markdown": [
       "### LARGER"
      ],
      "text/plain": [
       "<IPython.core.display.Markdown object>"
      ]
     },
     "metadata": {},
     "output_type": "display_data"
    },
    {
     "name": "stdout",
     "output_type": "stream",
     "text": [
      "\n"
     ]
    },
    {
     "data": {
      "text/markdown": [
       "### Column(s): \"AGE\" AND \"RAD\""
      ],
      "text/plain": [
       "<IPython.core.display.Markdown object>"
      ]
     },
     "metadata": {},
     "output_type": "display_data"
    },
    {
     "data": {
      "text/markdown": [
       "**Issue ID**: 5"
      ],
      "text/plain": [
       "<IPython.core.display.Markdown object>"
      ]
     },
     "metadata": {},
     "output_type": "display_data"
    },
    {
     "data": {
      "text/markdown": [
       "A strong pattern, and exceptions to the pattern, were found.\n"
      ],
      "text/plain": [
       "<IPython.core.display.Markdown object>"
      ]
     },
     "metadata": {},
     "output_type": "display_data"
    },
    {
     "data": {
      "text/markdown": [
       "**Description**: \"AGE\" is consistently larger than \"RAD\"."
      ],
      "text/plain": [
       "<IPython.core.display.Markdown object>"
      ]
     },
     "metadata": {},
     "output_type": "display_data"
    },
    {
     "data": {
      "text/markdown": [
       "**Number of exceptions**: 2 (0.3953% of rows)"
      ],
      "text/plain": [
       "<IPython.core.display.Markdown object>"
      ]
     },
     "metadata": {},
     "output_type": "display_data"
    },
    {
     "name": "stdout",
     "output_type": "stream",
     "text": [
      "\n"
     ]
    },
    {
     "data": {
      "text/markdown": [
       "**Examples of values NOT flagged**:"
      ],
      "text/plain": [
       "<IPython.core.display.Markdown object>"
      ]
     },
     "metadata": {},
     "output_type": "display_data"
    },
    {
     "data": {
      "text/html": [
       "<div>\n",
       "<style scoped>\n",
       "    .dataframe tbody tr th:only-of-type {\n",
       "        vertical-align: middle;\n",
       "    }\n",
       "\n",
       "    .dataframe tbody tr th {\n",
       "        vertical-align: top;\n",
       "    }\n",
       "\n",
       "    .dataframe thead th {\n",
       "        text-align: right;\n",
       "    }\n",
       "</style>\n",
       "<table border=\"1\" class=\"dataframe\">\n",
       "  <thead>\n",
       "    <tr style=\"text-align: right;\">\n",
       "      <th></th>\n",
       "      <th>AGE</th>\n",
       "      <th>RAD</th>\n",
       "    </tr>\n",
       "  </thead>\n",
       "  <tbody>\n",
       "    <tr>\n",
       "      <th>15</th>\n",
       "      <td>56.5</td>\n",
       "      <td>4.0</td>\n",
       "    </tr>\n",
       "    <tr>\n",
       "      <th>91</th>\n",
       "      <td>73.9</td>\n",
       "      <td>2.0</td>\n",
       "    </tr>\n",
       "    <tr>\n",
       "      <th>98</th>\n",
       "      <td>36.9</td>\n",
       "      <td>2.0</td>\n",
       "    </tr>\n",
       "    <tr>\n",
       "      <th>154</th>\n",
       "      <td>96.0</td>\n",
       "      <td>5.0</td>\n",
       "    </tr>\n",
       "    <tr>\n",
       "      <th>160</th>\n",
       "      <td>92.6</td>\n",
       "      <td>5.0</td>\n",
       "    </tr>\n",
       "    <tr>\n",
       "      <th>320</th>\n",
       "      <td>52.3</td>\n",
       "      <td>5.0</td>\n",
       "    </tr>\n",
       "    <tr>\n",
       "      <th>342</th>\n",
       "      <td>59.7</td>\n",
       "      <td>1.0</td>\n",
       "    </tr>\n",
       "    <tr>\n",
       "      <th>397</th>\n",
       "      <td>98.9</td>\n",
       "      <td>24.0</td>\n",
       "    </tr>\n",
       "    <tr>\n",
       "      <th>418</th>\n",
       "      <td>100.0</td>\n",
       "      <td>24.0</td>\n",
       "    </tr>\n",
       "    <tr>\n",
       "      <th>478</th>\n",
       "      <td>96.7</td>\n",
       "      <td>24.0</td>\n",
       "    </tr>\n",
       "  </tbody>\n",
       "</table>\n",
       "</div>"
      ],
      "text/plain": [
       "       AGE   RAD\n",
       "15    56.5   4.0\n",
       "91    73.9   2.0\n",
       "98    36.9   2.0\n",
       "154   96.0   5.0\n",
       "160   92.6   5.0\n",
       "320   52.3   5.0\n",
       "342   59.7   1.0\n",
       "397   98.9  24.0\n",
       "418  100.0  24.0\n",
       "478   96.7  24.0"
      ]
     },
     "metadata": {},
     "output_type": "display_data"
    },
    {
     "name": "stdout",
     "output_type": "stream",
     "text": [
      "\n"
     ]
    },
    {
     "data": {
      "text/markdown": [
       "**Flagged values**:"
      ],
      "text/plain": [
       "<IPython.core.display.Markdown object>"
      ]
     },
     "metadata": {},
     "output_type": "display_data"
    },
    {
     "data": {
      "text/html": [
       "<div>\n",
       "<style scoped>\n",
       "    .dataframe tbody tr th:only-of-type {\n",
       "        vertical-align: middle;\n",
       "    }\n",
       "\n",
       "    .dataframe tbody tr th {\n",
       "        vertical-align: top;\n",
       "    }\n",
       "\n",
       "    .dataframe thead th {\n",
       "        text-align: right;\n",
       "    }\n",
       "</style>\n",
       "<table border=\"1\" class=\"dataframe\">\n",
       "  <thead>\n",
       "    <tr style=\"text-align: right;\">\n",
       "      <th></th>\n",
       "      <th>AGE</th>\n",
       "      <th>RAD</th>\n",
       "    </tr>\n",
       "  </thead>\n",
       "  <tbody>\n",
       "    <tr>\n",
       "      <th>41</th>\n",
       "      <td>2.9</td>\n",
       "      <td>3.0</td>\n",
       "    </tr>\n",
       "    <tr>\n",
       "      <th>252</th>\n",
       "      <td>6.8</td>\n",
       "      <td>7.0</td>\n",
       "    </tr>\n",
       "  </tbody>\n",
       "</table>\n",
       "</div>"
      ],
      "text/plain": [
       "     AGE  RAD\n",
       "41   2.9  3.0\n",
       "252  6.8  7.0"
      ]
     },
     "metadata": {},
     "output_type": "display_data"
    },
    {
     "data": {
      "image/png": "[encoded data removed]",
      "text/plain": [
       "<Figure size 360x360 with 1 Axes>"
      ]
     },
     "metadata": {
      "needs_background": "light"
     },
     "output_type": "display_data"
    },
    {
     "name": "stdout",
     "output_type": "stream",
     "text": [
      "\n"
     ]
    },
    {
     "data": {
      "text/markdown": [
       "### Column(s): \"B\" AND \"NOX\""
      ],
      "text/plain": [
       "<IPython.core.display.Markdown object>"
      ]
     },
     "metadata": {},
     "output_type": "display_data"
    },
    {
     "data": {
      "text/markdown": [
       "**Issue ID**: 6"
      ],
      "text/plain": [
       "<IPython.core.display.Markdown object>"
      ]
     },
     "metadata": {},
     "output_type": "display_data"
    },
    {
     "data": {
      "text/markdown": [
       "A strong pattern, and exceptions to the pattern, were found.\n"
      ],
      "text/plain": [
       "<IPython.core.display.Markdown object>"
      ]
     },
     "metadata": {},
     "output_type": "display_data"
    },
    {
     "data": {
      "text/markdown": [
       "**Description**: \"B\" is consistently larger than \"NOX\"."
      ],
      "text/plain": [
       "<IPython.core.display.Markdown object>"
      ]
     },
     "metadata": {},
     "output_type": "display_data"
    },
    {
     "data": {
      "text/markdown": [
       "**Number of exceptions**: 1 (0.1976% of rows)"
      ],
      "text/plain": [
       "<IPython.core.display.Markdown object>"
      ]
     },
     "metadata": {},
     "output_type": "display_data"
    },
    {
     "name": "stdout",
     "output_type": "stream",
     "text": [
      "\n"
     ]
    },
    {
     "data": {
      "text/markdown": [
       "**Examples of values NOT flagged**:"
      ],
      "text/plain": [
       "<IPython.core.display.Markdown object>"
      ]
     },
     "metadata": {},
     "output_type": "display_data"
    },
    {
     "data": {
      "text/html": [
       "<div>\n",
       "<style scoped>\n",
       "    .dataframe tbody tr th:only-of-type {\n",
       "        vertical-align: middle;\n",
       "    }\n",
       "\n",
       "    .dataframe tbody tr th {\n",
       "        vertical-align: top;\n",
       "    }\n",
       "\n",
       "    .dataframe thead th {\n",
       "        text-align: right;\n",
       "    }\n",
       "</style>\n",
       "<table border=\"1\" class=\"dataframe\">\n",
       "  <thead>\n",
       "    <tr style=\"text-align: right;\">\n",
       "      <th></th>\n",
       "      <th>B</th>\n",
       "      <th>NOX</th>\n",
       "    </tr>\n",
       "  </thead>\n",
       "  <tbody>\n",
       "    <tr>\n",
       "      <th>15</th>\n",
       "      <td>395.62</td>\n",
       "      <td>0.538</td>\n",
       "    </tr>\n",
       "    <tr>\n",
       "      <th>90</th>\n",
       "      <td>392.18</td>\n",
       "      <td>0.489</td>\n",
       "    </tr>\n",
       "    <tr>\n",
       "      <th>97</th>\n",
       "      <td>396.90</td>\n",
       "      <td>0.445</td>\n",
       "    </tr>\n",
       "    <tr>\n",
       "      <th>153</th>\n",
       "      <td>261.95</td>\n",
       "      <td>0.871</td>\n",
       "    </tr>\n",
       "    <tr>\n",
       "      <th>159</th>\n",
       "      <td>364.31</td>\n",
       "      <td>0.871</td>\n",
       "    </tr>\n",
       "    <tr>\n",
       "      <th>318</th>\n",
       "      <td>395.21</td>\n",
       "      <td>0.544</td>\n",
       "    </tr>\n",
       "    <tr>\n",
       "      <th>340</th>\n",
       "      <td>396.90</td>\n",
       "      <td>0.515</td>\n",
       "    </tr>\n",
       "    <tr>\n",
       "      <th>395</th>\n",
       "      <td>391.98</td>\n",
       "      <td>0.693</td>\n",
       "    </tr>\n",
       "    <tr>\n",
       "      <th>399</th>\n",
       "      <td>338.16</td>\n",
       "      <td>0.693</td>\n",
       "    </tr>\n",
       "    <tr>\n",
       "      <th>478</th>\n",
       "      <td>379.70</td>\n",
       "      <td>0.614</td>\n",
       "    </tr>\n",
       "  </tbody>\n",
       "</table>\n",
       "</div>"
      ],
      "text/plain": [
       "          B    NOX\n",
       "15   395.62  0.538\n",
       "90   392.18  0.489\n",
       "97   396.90  0.445\n",
       "153  261.95  0.871\n",
       "159  364.31  0.871\n",
       "318  395.21  0.544\n",
       "340  396.90  0.515\n",
       "395  391.98  0.693\n",
       "399  338.16  0.693\n",
       "478  379.70  0.614"
      ]
     },
     "metadata": {},
     "output_type": "display_data"
    },
    {
     "name": "stdout",
     "output_type": "stream",
     "text": [
      "\n"
     ]
    },
    {
     "data": {
      "text/markdown": [
       "**Flagged values**:"
      ],
      "text/plain": [
       "<IPython.core.display.Markdown object>"
      ]
     },
     "metadata": {},
     "output_type": "display_data"
    },
    {
     "data": {
      "text/html": [
       "<div>\n",
       "<style scoped>\n",
       "    .dataframe tbody tr th:only-of-type {\n",
       "        vertical-align: middle;\n",
       "    }\n",
       "\n",
       "    .dataframe tbody tr th {\n",
       "        vertical-align: top;\n",
       "    }\n",
       "\n",
       "    .dataframe thead th {\n",
       "        text-align: right;\n",
       "    }\n",
       "</style>\n",
       "<table border=\"1\" class=\"dataframe\">\n",
       "  <thead>\n",
       "    <tr style=\"text-align: right;\">\n",
       "      <th></th>\n",
       "      <th>B</th>\n",
       "      <th>NOX</th>\n",
       "    </tr>\n",
       "  </thead>\n",
       "  <tbody>\n",
       "    <tr>\n",
       "      <th>450</th>\n",
       "      <td>0.32</td>\n",
       "      <td>0.713</td>\n",
       "    </tr>\n",
       "  </tbody>\n",
       "</table>\n",
       "</div>"
      ],
      "text/plain": [
       "        B    NOX\n",
       "450  0.32  0.713"
      ]
     },
     "metadata": {},
     "output_type": "display_data"
    },
    {
     "data": {
      "image/png": "[encoded data removed]",
      "text/plain": [
       "<Figure size 360x360 with 1 Axes>"
      ]
     },
     "metadata": {
      "needs_background": "light"
     },
     "output_type": "display_data"
    },
    {
     "name": "stdout",
     "output_type": "stream",
     "text": [
      "\n"
     ]
    },
    {
     "data": {
      "text/markdown": [
       "### Column(s): \"B\" AND \"DIS\""
      ],
      "text/plain": [
       "<IPython.core.display.Markdown object>"
      ]
     },
     "metadata": {},
     "output_type": "display_data"
    },
    {
     "data": {
      "text/markdown": [
       "**Issue ID**: 7"
      ],
      "text/plain": [
       "<IPython.core.display.Markdown object>"
      ]
     },
     "metadata": {},
     "output_type": "display_data"
    },
    {
     "data": {
      "text/markdown": [
       "A strong pattern, and exceptions to the pattern, were found.\n"
      ],
      "text/plain": [
       "<IPython.core.display.Markdown object>"
      ]
     },
     "metadata": {},
     "output_type": "display_data"
    },
    {
     "data": {
      "text/markdown": [
       "**Description**: \"B\" is consistently larger than \"DIS\"."
      ],
      "text/plain": [
       "<IPython.core.display.Markdown object>"
      ]
     },
     "metadata": {},
     "output_type": "display_data"
    },
    {
     "data": {
      "text/markdown": [
       "**Number of exceptions**: 1 (0.1976% of rows)"
      ],
      "text/plain": [
       "<IPython.core.display.Markdown object>"
      ]
     },
     "metadata": {},
     "output_type": "display_data"
    },
    {
     "name": "stdout",
     "output_type": "stream",
     "text": [
      "\n"
     ]
    },
    {
     "data": {
      "text/markdown": [
       "**Examples of values NOT flagged**:"
      ],
      "text/plain": [
       "<IPython.core.display.Markdown object>"
      ]
     },
     "metadata": {},
     "output_type": "display_data"
    },
    {
     "data": {
      "text/html": [
       "<div>\n",
       "<style scoped>\n",
       "    .dataframe tbody tr th:only-of-type {\n",
       "        vertical-align: middle;\n",
       "    }\n",
       "\n",
       "    .dataframe tbody tr th {\n",
       "        vertical-align: top;\n",
       "    }\n",
       "\n",
       "    .dataframe thead th {\n",
       "        text-align: right;\n",
       "    }\n",
       "</style>\n",
       "<table border=\"1\" class=\"dataframe\">\n",
       "  <thead>\n",
       "    <tr style=\"text-align: right;\">\n",
       "      <th></th>\n",
       "      <th>B</th>\n",
       "      <th>DIS</th>\n",
       "    </tr>\n",
       "  </thead>\n",
       "  <tbody>\n",
       "    <tr>\n",
       "      <th>15</th>\n",
       "      <td>395.62</td>\n",
       "      <td>4.4986</td>\n",
       "    </tr>\n",
       "    <tr>\n",
       "      <th>90</th>\n",
       "      <td>392.18</td>\n",
       "      <td>3.0923</td>\n",
       "    </tr>\n",
       "    <tr>\n",
       "      <th>97</th>\n",
       "      <td>396.90</td>\n",
       "      <td>3.4952</td>\n",
       "    </tr>\n",
       "    <tr>\n",
       "      <th>153</th>\n",
       "      <td>261.95</td>\n",
       "      <td>1.6232</td>\n",
       "    </tr>\n",
       "    <tr>\n",
       "      <th>159</th>\n",
       "      <td>364.31</td>\n",
       "      <td>1.7659</td>\n",
       "    </tr>\n",
       "    <tr>\n",
       "      <th>318</th>\n",
       "      <td>395.21</td>\n",
       "      <td>3.5325</td>\n",
       "    </tr>\n",
       "    <tr>\n",
       "      <th>340</th>\n",
       "      <td>396.90</td>\n",
       "      <td>4.8122</td>\n",
       "    </tr>\n",
       "    <tr>\n",
       "      <th>395</th>\n",
       "      <td>391.98</td>\n",
       "      <td>1.7257</td>\n",
       "    </tr>\n",
       "    <tr>\n",
       "      <th>399</th>\n",
       "      <td>338.16</td>\n",
       "      <td>1.5004</td>\n",
       "    </tr>\n",
       "    <tr>\n",
       "      <th>478</th>\n",
       "      <td>379.70</td>\n",
       "      <td>2.1705</td>\n",
       "    </tr>\n",
       "  </tbody>\n",
       "</table>\n",
       "</div>"
      ],
      "text/plain": [
       "          B     DIS\n",
       "15   395.62  4.4986\n",
       "90   392.18  3.0923\n",
       "97   396.90  3.4952\n",
       "153  261.95  1.6232\n",
       "159  364.31  1.7659\n",
       "318  395.21  3.5325\n",
       "340  396.90  4.8122\n",
       "395  391.98  1.7257\n",
       "399  338.16  1.5004\n",
       "478  379.70  2.1705"
      ]
     },
     "metadata": {},
     "output_type": "display_data"
    },
    {
     "name": "stdout",
     "output_type": "stream",
     "text": [
      "\n"
     ]
    },
    {
     "data": {
      "text/markdown": [
       "**Flagged values**:"
      ],
      "text/plain": [
       "<IPython.core.display.Markdown object>"
      ]
     },
     "metadata": {},
     "output_type": "display_data"
    },
    {
     "data": {
      "text/html": [
       "<div>\n",
       "<style scoped>\n",
       "    .dataframe tbody tr th:only-of-type {\n",
       "        vertical-align: middle;\n",
       "    }\n",
       "\n",
       "    .dataframe tbody tr th {\n",
       "        vertical-align: top;\n",
       "    }\n",
       "\n",
       "    .dataframe thead th {\n",
       "        text-align: right;\n",
       "    }\n",
       "</style>\n",
       "<table border=\"1\" class=\"dataframe\">\n",
       "  <thead>\n",
       "    <tr style=\"text-align: right;\">\n",
       "      <th></th>\n",
       "      <th>B</th>\n",
       "      <th>DIS</th>\n",
       "    </tr>\n",
       "  </thead>\n",
       "  <tbody>\n",
       "    <tr>\n",
       "      <th>450</th>\n",
       "      <td>0.32</td>\n",
       "      <td>2.3236</td>\n",
       "    </tr>\n",
       "  </tbody>\n",
       "</table>\n",
       "</div>"
      ],
      "text/plain": [
       "        B     DIS\n",
       "450  0.32  2.3236"
      ]
     },
     "metadata": {},
     "output_type": "display_data"
    },
    {
     "data": {
      "image/png": "[encoded data removed]",
      "text/plain": [
       "<Figure size 360x360 with 1 Axes>"
      ]
     },
     "metadata": {
      "needs_background": "light"
     },
     "output_type": "display_data"
    },
    {
     "name": "stdout",
     "output_type": "stream",
     "text": [
      "....................................................................................................\n"
     ]
    },
    {
     "data": {
      "text/markdown": [
       "### MUCH_LARGER"
      ],
      "text/plain": [
       "<IPython.core.display.Markdown object>"
      ]
     },
     "metadata": {},
     "output_type": "display_data"
    },
    {
     "name": "stdout",
     "output_type": "stream",
     "text": [
      "\n"
     ]
    },
    {
     "data": {
      "text/markdown": [
       "### Column(s): \"NOX\" AND \"AGE\""
      ],
      "text/plain": [
       "<IPython.core.display.Markdown object>"
      ]
     },
     "metadata": {},
     "output_type": "display_data"
    },
    {
     "data": {
      "text/markdown": [
       "**Issue ID**: 8"
      ],
      "text/plain": [
       "<IPython.core.display.Markdown object>"
      ]
     },
     "metadata": {},
     "output_type": "display_data"
    },
    {
     "data": {
      "text/markdown": [
       "A strong pattern, and exceptions to the pattern, were found.\n"
      ],
      "text/plain": [
       "<IPython.core.display.Markdown object>"
      ]
     },
     "metadata": {},
     "output_type": "display_data"
    },
    {
     "data": {
      "text/markdown": [
       "**Description**: \"AGE\" is consistently an order of magnitude or more larger than \"NOX\", with exceptions (where values<br>may still be larger, but not by the normal extent)."
      ],
      "text/plain": [
       "<IPython.core.display.Markdown object>"
      ]
     },
     "metadata": {},
     "output_type": "display_data"
    },
    {
     "data": {
      "text/markdown": [
       "**Number of exceptions**: 1 (0.1976% of rows)"
      ],
      "text/plain": [
       "<IPython.core.display.Markdown object>"
      ]
     },
     "metadata": {},
     "output_type": "display_data"
    },
    {
     "name": "stdout",
     "output_type": "stream",
     "text": [
      "\n"
     ]
    },
    {
     "data": {
      "text/markdown": [
       "**Examples of values NOT flagged**:"
      ],
      "text/plain": [
       "<IPython.core.display.Markdown object>"
      ]
     },
     "metadata": {},
     "output_type": "display_data"
    },
    {
     "data": {
      "text/html": [
       "<div>\n",
       "<style scoped>\n",
       "    .dataframe tbody tr th:only-of-type {\n",
       "        vertical-align: middle;\n",
       "    }\n",
       "\n",
       "    .dataframe tbody tr th {\n",
       "        vertical-align: top;\n",
       "    }\n",
       "\n",
       "    .dataframe thead th {\n",
       "        text-align: right;\n",
       "    }\n",
       "</style>\n",
       "<table border=\"1\" class=\"dataframe\">\n",
       "  <thead>\n",
       "    <tr style=\"text-align: right;\">\n",
       "      <th></th>\n",
       "      <th>NOX</th>\n",
       "      <th>AGE</th>\n",
       "    </tr>\n",
       "  </thead>\n",
       "  <tbody>\n",
       "    <tr>\n",
       "      <th>15</th>\n",
       "      <td>0.538</td>\n",
       "      <td>56.5</td>\n",
       "    </tr>\n",
       "    <tr>\n",
       "      <th>91</th>\n",
       "      <td>0.489</td>\n",
       "      <td>73.9</td>\n",
       "    </tr>\n",
       "    <tr>\n",
       "      <th>98</th>\n",
       "      <td>0.445</td>\n",
       "      <td>36.9</td>\n",
       "    </tr>\n",
       "    <tr>\n",
       "      <th>154</th>\n",
       "      <td>0.871</td>\n",
       "      <td>96.0</td>\n",
       "    </tr>\n",
       "    <tr>\n",
       "      <th>160</th>\n",
       "      <td>0.605</td>\n",
       "      <td>92.6</td>\n",
       "    </tr>\n",
       "    <tr>\n",
       "      <th>319</th>\n",
       "      <td>0.544</td>\n",
       "      <td>58.8</td>\n",
       "    </tr>\n",
       "    <tr>\n",
       "      <th>341</th>\n",
       "      <td>0.442</td>\n",
       "      <td>49.3</td>\n",
       "    </tr>\n",
       "    <tr>\n",
       "      <th>396</th>\n",
       "      <td>0.693</td>\n",
       "      <td>96.0</td>\n",
       "    </tr>\n",
       "    <tr>\n",
       "      <th>400</th>\n",
       "      <td>0.693</td>\n",
       "      <td>100.0</td>\n",
       "    </tr>\n",
       "    <tr>\n",
       "      <th>478</th>\n",
       "      <td>0.614</td>\n",
       "      <td>96.7</td>\n",
       "    </tr>\n",
       "  </tbody>\n",
       "</table>\n",
       "</div>"
      ],
      "text/plain": [
       "       NOX    AGE\n",
       "15   0.538   56.5\n",
       "91   0.489   73.9\n",
       "98   0.445   36.9\n",
       "154  0.871   96.0\n",
       "160  0.605   92.6\n",
       "319  0.544   58.8\n",
       "341  0.442   49.3\n",
       "396  0.693   96.0\n",
       "400  0.693  100.0\n",
       "478  0.614   96.7"
      ]
     },
     "metadata": {},
     "output_type": "display_data"
    },
    {
     "name": "stdout",
     "output_type": "stream",
     "text": [
      "\n"
     ]
    },
    {
     "data": {
      "text/markdown": [
       "**Flagged values**:"
      ],
      "text/plain": [
       "<IPython.core.display.Markdown object>"
      ]
     },
     "metadata": {},
     "output_type": "display_data"
    },
    {
     "data": {
      "text/html": [
       "<div>\n",
       "<style scoped>\n",
       "    .dataframe tbody tr th:only-of-type {\n",
       "        vertical-align: middle;\n",
       "    }\n",
       "\n",
       "    .dataframe tbody tr th {\n",
       "        vertical-align: top;\n",
       "    }\n",
       "\n",
       "    .dataframe thead th {\n",
       "        text-align: right;\n",
       "    }\n",
       "</style>\n",
       "<table border=\"1\" class=\"dataframe\">\n",
       "  <thead>\n",
       "    <tr style=\"text-align: right;\">\n",
       "      <th></th>\n",
       "      <th>NOX</th>\n",
       "      <th>AGE</th>\n",
       "    </tr>\n",
       "  </thead>\n",
       "  <tbody>\n",
       "    <tr>\n",
       "      <th>41</th>\n",
       "      <td>0.448</td>\n",
       "      <td>2.9</td>\n",
       "    </tr>\n",
       "  </tbody>\n",
       "</table>\n",
       "</div>"
      ],
      "text/plain": [
       "      NOX  AGE\n",
       "41  0.448  2.9"
      ]
     },
     "metadata": {},
     "output_type": "display_data"
    },
    {
     "data": {
      "image/png": "[encoded data removed]",
      "text/plain": [
       "<Figure size 360x360 with 1 Axes>"
      ]
     },
     "metadata": {
      "needs_background": "light"
     },
     "output_type": "display_data"
    },
    {
     "name": "stdout",
     "output_type": "stream",
     "text": [
      "....................................................................................................\n"
     ]
    },
    {
     "data": {
      "text/markdown": [
       "### RARE_COMBINATION"
      ],
      "text/plain": [
       "<IPython.core.display.Markdown object>"
      ]
     },
     "metadata": {},
     "output_type": "display_data"
    },
    {
     "name": "stdout",
     "output_type": "stream",
     "text": [
      "\n"
     ]
    },
    {
     "data": {
      "text/markdown": [
       "### Column(s): \"INDUS\" AND \"B\""
      ],
      "text/plain": [
       "<IPython.core.display.Markdown object>"
      ]
     },
     "metadata": {},
     "output_type": "display_data"
    },
    {
     "data": {
      "text/markdown": [
       "**Issue ID**: 9"
      ],
      "text/plain": [
       "<IPython.core.display.Markdown object>"
      ]
     },
     "metadata": {},
     "output_type": "display_data"
    },
    {
     "data": {
      "text/markdown": [
       "A strong pattern, and exceptions to the pattern, were found.\n"
      ],
      "text/plain": [
       "<IPython.core.display.Markdown object>"
      ]
     },
     "metadata": {},
     "output_type": "display_data"
    },
    {
     "data": {
      "text/markdown": [
       "**Description**: One or more rare combinations of values were found."
      ],
      "text/plain": [
       "<IPython.core.display.Markdown object>"
      ]
     },
     "metadata": {},
     "output_type": "display_data"
    },
    {
     "data": {
      "text/markdown": [
       "**Number of exceptions**: 1 (0.1976% of rows)"
      ],
      "text/plain": [
       "<IPython.core.display.Markdown object>"
      ]
     },
     "metadata": {},
     "output_type": "display_data"
    },
    {
     "name": "stdout",
     "output_type": "stream",
     "text": [
      "\n"
     ]
    },
    {
     "data": {
      "text/markdown": [
       "**Examples of values NOT flagged**:"
      ],
      "text/plain": [
       "<IPython.core.display.Markdown object>"
      ]
     },
     "metadata": {},
     "output_type": "display_data"
    },
    {
     "data": {
      "text/html": [
       "<div>\n",
       "<style scoped>\n",
       "    .dataframe tbody tr th:only-of-type {\n",
       "        vertical-align: middle;\n",
       "    }\n",
       "\n",
       "    .dataframe tbody tr th {\n",
       "        vertical-align: top;\n",
       "    }\n",
       "\n",
       "    .dataframe thead th {\n",
       "        text-align: right;\n",
       "    }\n",
       "</style>\n",
       "<table border=\"1\" class=\"dataframe\">\n",
       "  <thead>\n",
       "    <tr style=\"text-align: right;\">\n",
       "      <th></th>\n",
       "      <th>INDUS</th>\n",
       "      <th>B</th>\n",
       "    </tr>\n",
       "  </thead>\n",
       "  <tbody>\n",
       "    <tr>\n",
       "      <th>15</th>\n",
       "      <td>8.14</td>\n",
       "      <td>395.62</td>\n",
       "    </tr>\n",
       "    <tr>\n",
       "      <th>90</th>\n",
       "      <td>3.41</td>\n",
       "      <td>392.18</td>\n",
       "    </tr>\n",
       "    <tr>\n",
       "      <th>97</th>\n",
       "      <td>2.89</td>\n",
       "      <td>396.90</td>\n",
       "    </tr>\n",
       "    <tr>\n",
       "      <th>154</th>\n",
       "      <td>19.58</td>\n",
       "      <td>321.02</td>\n",
       "    </tr>\n",
       "    <tr>\n",
       "      <th>160</th>\n",
       "      <td>19.58</td>\n",
       "      <td>338.92</td>\n",
       "    </tr>\n",
       "    <tr>\n",
       "      <th>319</th>\n",
       "      <td>9.90</td>\n",
       "      <td>396.23</td>\n",
       "    </tr>\n",
       "    <tr>\n",
       "      <th>341</th>\n",
       "      <td>1.52</td>\n",
       "      <td>394.74</td>\n",
       "    </tr>\n",
       "    <tr>\n",
       "      <th>396</th>\n",
       "      <td>18.10</td>\n",
       "      <td>396.90</td>\n",
       "    </tr>\n",
       "    <tr>\n",
       "      <th>400</th>\n",
       "      <td>18.10</td>\n",
       "      <td>396.90</td>\n",
       "    </tr>\n",
       "    <tr>\n",
       "      <th>478</th>\n",
       "      <td>18.10</td>\n",
       "      <td>379.70</td>\n",
       "    </tr>\n",
       "  </tbody>\n",
       "</table>\n",
       "</div>"
      ],
      "text/plain": [
       "     INDUS       B\n",
       "15    8.14  395.62\n",
       "90    3.41  392.18\n",
       "97    2.89  396.90\n",
       "154  19.58  321.02\n",
       "160  19.58  338.92\n",
       "319   9.90  396.23\n",
       "341   1.52  394.74\n",
       "396  18.10  396.90\n",
       "400  18.10  396.90\n",
       "478  18.10  379.70"
      ]
     },
     "metadata": {},
     "output_type": "display_data"
    },
    {
     "name": "stdout",
     "output_type": "stream",
     "text": [
      "\n"
     ]
    },
    {
     "data": {
      "text/markdown": [
       "**Flagged values**:"
      ],
      "text/plain": [
       "<IPython.core.display.Markdown object>"
      ]
     },
     "metadata": {},
     "output_type": "display_data"
    },
    {
     "data": {
      "text/html": [
       "<div>\n",
       "<style scoped>\n",
       "    .dataframe tbody tr th:only-of-type {\n",
       "        vertical-align: middle;\n",
       "    }\n",
       "\n",
       "    .dataframe tbody tr th {\n",
       "        vertical-align: top;\n",
       "    }\n",
       "\n",
       "    .dataframe thead th {\n",
       "        text-align: right;\n",
       "    }\n",
       "</style>\n",
       "<table border=\"1\" class=\"dataframe\">\n",
       "  <thead>\n",
       "    <tr style=\"text-align: right;\">\n",
       "      <th></th>\n",
       "      <th>INDUS</th>\n",
       "      <th>B</th>\n",
       "    </tr>\n",
       "  </thead>\n",
       "  <tbody>\n",
       "    <tr>\n",
       "      <th>102</th>\n",
       "      <td>8.56</td>\n",
       "      <td>70.8</td>\n",
       "    </tr>\n",
       "  </tbody>\n",
       "</table>\n",
       "</div>"
      ],
      "text/plain": [
       "     INDUS     B\n",
       "102   8.56  70.8"
      ]
     },
     "metadata": {},
     "output_type": "display_data"
    },
    {
     "data": {
      "image/png": "[encoded data removed]",
      "text/plain": [
       "<Figure size 360x360 with 1 Axes>"
      ]
     },
     "metadata": {
      "needs_background": "light"
     },
     "output_type": "display_data"
    }
   ],
   "source": [
    "# Calling display_detailed_results() with default parameters will list\n",
    "# all patterns and exceptions found, unless there are too many to reasonably\n",
    "# display. In this case, there are too many to show at once, so we remove\n",
    "# the patterns without exceptions and display only the patterns with \n",
    "# exceptions. This is still a large number, but is manageable to go through.\n",
    "\n",
    "dc.display_detailed_results(show_patterns=False)"
   ]
  },
  {
   "cell_type": "code",
   "execution_count": 12,
   "id": "390e1324",
   "metadata": {},
   "outputs": [
    {
     "data": {
      "text/plain": [
       "['LARGER_THAN_SUM',\n",
       " 'UNIQUE_VALUES_PER_ROW',\n",
       " 'SIMILAR_PREVIOUS',\n",
       " 'RARE_COMBINATION',\n",
       " 'UNUSUAL_ORDER_MAGNITUDE',\n",
       " 'GREATER_THAN_ONE',\n",
       " 'LESS_THAN_ONE',\n",
       " 'MISSING_VALUES',\n",
       " 'MISSING_VALUES_PER_ROW',\n",
       " 'LARGER',\n",
       " 'VERY_SMALL',\n",
       " 'NEGATIVE_VALUES_PER_ROW',\n",
       " 'POSITIVE',\n",
       " 'FEW_WITHIN_RANGE',\n",
       " 'NON_ZERO',\n",
       " 'RARE_DECIMALS',\n",
       " 'NUMBER_DECIMALS',\n",
       " 'MUCH_LARGER']"
      ]
     },
     "execution_count": 12,
     "metadata": {},
     "output_type": "execute_result"
    }
   ],
   "source": [
    "# To aid examining the results, get_test_ids_with_results() may be\n",
    "# called to get a list of tests that found any patterns, with or\n",
    "# without exceptions. This returns a python list, which allows\n",
    "# programmatically looping through these. \n",
    "\n",
    "dc.get_test_ids_with_results()"
   ]
  },
  {
   "cell_type": "code",
   "execution_count": 13,
   "id": "ee441090",
   "metadata": {
    "scrolled": false
   },
   "outputs": [
    {
     "data": {
      "text/plain": [
       "['UNIQUE_VALUES',\n",
       " 'PREV_VALUES_DT',\n",
       " 'MATCHED_MISSING',\n",
       " 'UNMATCHED_MISSING',\n",
       " 'SAME_VALUES',\n",
       " 'SAME_OR_CONSTANT',\n",
       " 'NEGATIVE',\n",
       " 'RARE_DECIMALS',\n",
       " 'COLUMN_ORDERED_ASC',\n",
       " 'COLUMN_ORDERED_DESC',\n",
       " 'COLUMN_TENDS_ASC',\n",
       " 'COLUMN_TENDS_DESC',\n",
       " 'SIMILAR_PREVIOUS',\n",
       " 'VERY_SMALL',\n",
       " 'VERY_LARGE',\n",
       " 'VERY_SMALL_ABS',\n",
       " 'MULTIPLE_OF_CONSTANT',\n",
       " 'ROUNDING',\n",
       " 'LESS_THAN_ONE',\n",
       " 'SIMILAR_WRT_RATIO',\n",
       " 'SIMILAR_WRT_DIFF',\n",
       " 'SIMILAR_TO_INVERSE',\n",
       " 'SIMILAR_TO_NEGATIVE',\n",
       " 'CONSTANT_SUM',\n",
       " 'CONSTANT_DIFF',\n",
       " 'CONSTANT_PRODUCT',\n",
       " 'CONSTANT_RATIO',\n",
       " 'EVEN_MULTIPLE',\n",
       " 'RARE_COMBINATION',\n",
       " 'CORRELATED_FEATURES',\n",
       " 'MATCHED_ZERO',\n",
       " 'OPPOSITE_ZERO',\n",
       " 'RUNNING_SUM',\n",
       " 'A_ROUNDED_B',\n",
       " 'MATCHED_ZERO_MISSING',\n",
       " 'SIMILAR_TO_DIFF',\n",
       " 'SIMILAR_TO_PRODUCT',\n",
       " 'SIMILAR_TO_RATIO',\n",
       " 'SUM_OF_COLUMNS',\n",
       " 'MEAN_OF_COLUMNS',\n",
       " 'MIN_OF_COLUMNS',\n",
       " 'MAX_OF_COLUMNS',\n",
       " 'ALL_POS_OR_ALL_NEG',\n",
       " 'ALL_ZERO_OR_ALL_NON_ZERO',\n",
       " 'DECISION_TREE_REGRESSOR',\n",
       " 'LINEAR_REGRESSION',\n",
       " 'EARLY_DATES',\n",
       " 'LATE_DATES',\n",
       " 'UNUSUAL_DAY_OF_WEEK',\n",
       " 'UNUSUAL_DAY_OF_MONTH',\n",
       " 'UNUSUAL_MONTH',\n",
       " 'UNUSUAL_HOUR',\n",
       " 'UNUSUAL_MINUTES',\n",
       " 'CONSTANT_GAP',\n",
       " 'LARGE_GAP',\n",
       " 'SMALL_GAP',\n",
       " 'LATER',\n",
       " 'LARGE_GIVEN_DATE',\n",
       " 'SMALL_GIVEN_DATE',\n",
       " 'BINARY_SAME',\n",
       " 'BINARY_OPPOSITE',\n",
       " 'BINARY_IMPLIES',\n",
       " 'BINARY_AND',\n",
       " 'BINARY_OR',\n",
       " 'BINARY_XOR',\n",
       " 'BINARY_NUM_SAME',\n",
       " 'BINARY_RARE_COMBINATION',\n",
       " 'BINARY_MATCHES_VALUES',\n",
       " 'BINARY_TWO_OTHERS_MATCH',\n",
       " 'BINARY_MATCHES_SUM',\n",
       " 'LEADING_WHITESPACE',\n",
       " 'TRAILING_WHITESPACE',\n",
       " 'FIRST_CHAR_NUMERIC',\n",
       " 'FIRST_CHAR_SMALL_SET',\n",
       " 'FIRST_CHAR_UPPERCASE',\n",
       " 'LAST_CHAR_SMALL_SET',\n",
       " 'COMMON_SPECIAL_CHARS',\n",
       " 'COMMON_CHARS',\n",
       " 'NUMBER_ALPHA_CHARS',\n",
       " 'NUMBER_NUMERIC_CHARS',\n",
       " 'NUMBER_ALPHANUMERIC_CHARS',\n",
       " 'NUMBER_NON-ALPHANUMERIC_CHARS',\n",
       " 'NUMBER_CHARS',\n",
       " 'POSITION_NON-ALPHANUMERIC',\n",
       " 'CHARS_PATTERN',\n",
       " 'UPPERCASE',\n",
       " 'CHARACTERS_USED',\n",
       " 'FIRST_WORD_SMALL_SET',\n",
       " 'LAST_WORD_SMALL_SET',\n",
       " 'NUMBER_WORDS',\n",
       " 'LONGEST_WORDS',\n",
       " 'COMMON_WORDS',\n",
       " 'RARE_WORDS',\n",
       " 'GROUPED_STRINGS',\n",
       " 'RARE_PAIRS',\n",
       " 'RARE_PAIRS_FIRST_CHAR',\n",
       " 'RARE_PAIRS_FIRST_WORD',\n",
       " 'RARE_PAIRS_FIRST_WORD_VAL',\n",
       " 'SIMILAR_CHARACTERS',\n",
       " 'SIMILAR_NUM_CHARS',\n",
       " 'SIMILAR_WORDS',\n",
       " 'SIMILAR_NUM_WORDS',\n",
       " 'SAME_FIRST_CHARS',\n",
       " 'SAME_FIRST_WORD',\n",
       " 'SAME_LAST_WORD',\n",
       " 'SAME_ALPHA_CHARS',\n",
       " 'SAME_NUMERIC_CHARS',\n",
       " 'SAME_SPECIAL_CHARS',\n",
       " 'A_PREFIX_OF_B',\n",
       " 'A_SUFFIX_OF_B',\n",
       " 'B_CONTAINS_A',\n",
       " 'CORRELATED_ALPHA_ORDER',\n",
       " 'LARGE_GIVEN_VALUE',\n",
       " 'SMALL_GIVEN_VALUE',\n",
       " 'LARGE_GIVEN_PREFIX',\n",
       " 'SMALL_GIVEN_PREFIX',\n",
       " 'GROUPED_STRINGS_BY_NUMERIC',\n",
       " 'LARGE_GIVEN_PAIR',\n",
       " 'SMALL_GIVEN_PAIR',\n",
       " 'CORRELATED_GIVEN_VALUE',\n",
       " 'DECISION_TREE_CLASSIFIER',\n",
       " 'C_IS_A_OR_B',\n",
       " 'TWO_PAIRS',\n",
       " 'UNIQUE_SETS_VALUES',\n",
       " 'MISSING_VALUES_PER_ROW',\n",
       " 'ZERO_VALUES_PER_ROW',\n",
       " 'UNIQUE_VALUES_PER_ROW',\n",
       " 'NEGATIVE_VALUES_PER_ROW']"
      ]
     },
     "execution_count": 13,
     "metadata": {},
     "output_type": "execute_result"
    }
   ],
   "source": [
    "# We may wish to also look at the patterns without exceptions. By default, \n",
    "# some patterns found are not displayed in some API results, as they are \n",
    "# common and not as interesting. For example, the test NEGATIVE is, but \n",
    "# POSITIVE as not, as a column of entirely negative numbers is more \n",
    "# interesting than one of entirely POSITIVE numbers. To see which tests\n",
    "# are displayed as patterns in all APIs, call get_patterns_shortlist().\n",
    "\n",
    "dc.get_patterns_shortlist()"
   ]
  },
  {
   "cell_type": "code",
   "execution_count": 14,
   "id": "cbc10e01",
   "metadata": {},
   "outputs": [
    {
     "data": {
      "text/html": [
       "<div>\n",
       "<style scoped>\n",
       "    .dataframe tbody tr th:only-of-type {\n",
       "        vertical-align: middle;\n",
       "    }\n",
       "\n",
       "    .dataframe tbody tr th {\n",
       "        vertical-align: top;\n",
       "    }\n",
       "\n",
       "    .dataframe thead th {\n",
       "        text-align: right;\n",
       "    }\n",
       "</style>\n",
       "<table border=\"1\" class=\"dataframe\">\n",
       "  <thead>\n",
       "    <tr style=\"text-align: right;\">\n",
       "      <th></th>\n",
       "      <th>Test ID</th>\n",
       "      <th>Column(s)</th>\n",
       "      <th>Description of Pattern</th>\n",
       "    </tr>\n",
       "  </thead>\n",
       "  <tbody>\n",
       "    <tr>\n",
       "      <th>34</th>\n",
       "      <td>RARE_DECIMALS</td>\n",
       "      <td>ZN</td>\n",
       "      <td>The column consistently contains values with o...</td>\n",
       "    </tr>\n",
       "    <tr>\n",
       "      <th>35</th>\n",
       "      <td>SIMILAR_PREVIOUS</td>\n",
       "      <td>TAX</td>\n",
       "      <td>The values in \"TAX\" are consistently similar t...</td>\n",
       "    </tr>\n",
       "    <tr>\n",
       "      <th>50</th>\n",
       "      <td>LESS_THAN_ONE</td>\n",
       "      <td>NOX</td>\n",
       "      <td>The column consistently contains values betwee...</td>\n",
       "    </tr>\n",
       "    <tr>\n",
       "      <th>72</th>\n",
       "      <td>MISSING_VALUES_PER_ROW</td>\n",
       "      <td>This test executes over all columns</td>\n",
       "      <td>The dataset consistently has 0 null values per...</td>\n",
       "    </tr>\n",
       "    <tr>\n",
       "      <th>73</th>\n",
       "      <td>UNIQUE_VALUES_PER_ROW</td>\n",
       "      <td>This test executes over all columns</td>\n",
       "      <td>The dataset consistently has 12 to 13 unique v...</td>\n",
       "    </tr>\n",
       "    <tr>\n",
       "      <th>74</th>\n",
       "      <td>NEGATIVE_VALUES_PER_ROW</td>\n",
       "      <td>This test executes over all numeric columns</td>\n",
       "      <td>The dataset consistently has 0 negative values...</td>\n",
       "    </tr>\n",
       "  </tbody>\n",
       "</table>\n",
       "</div>"
      ],
      "text/plain": [
       "                    Test ID                                    Column(s)  \\\n",
       "34            RARE_DECIMALS                                           ZN   \n",
       "35         SIMILAR_PREVIOUS                                          TAX   \n",
       "50            LESS_THAN_ONE                                          NOX   \n",
       "72   MISSING_VALUES_PER_ROW          This test executes over all columns   \n",
       "73    UNIQUE_VALUES_PER_ROW          This test executes over all columns   \n",
       "74  NEGATIVE_VALUES_PER_ROW  This test executes over all numeric columns   \n",
       "\n",
       "                               Description of Pattern  \n",
       "34  The column consistently contains values with o...  \n",
       "35  The values in \"TAX\" are consistently similar t...  \n",
       "50  The column consistently contains values betwee...  \n",
       "72  The dataset consistently has 0 null values per...  \n",
       "73  The dataset consistently has 12 to 13 unique v...  \n",
       "74  The dataset consistently has 0 negative values...  "
      ]
     },
     "execution_count": 14,
     "metadata": {},
     "output_type": "execute_result"
    }
   ],
   "source": [
    "# We next call get_patterns_summary() to get a list of the patterns without exceptions found.\n",
    "\n",
    "dc.get_patterns_summary()"
   ]
  },
  {
   "cell_type": "code",
   "execution_count": 15,
   "id": "848b33ac",
   "metadata": {},
   "outputs": [
    {
     "name": "stdout",
     "output_type": "stream",
     "text": [
      "Help on method get_exceptions_summary in module check_data_consistency:\n",
      "\n",
      "get_exceptions_summary() method of check_data_consistency.DataConsistencyChecker instance\n",
      "    Returns a dataframe containing a row for each pattern that was discovered with exceptions. This has a similar\n",
      "    format to the dataframe returned by get_patterns_summary, with one additional column representing the number\n",
      "    of exceptions found. The dataframe has columns for: test id, the set of columns involved in the pattern,\n",
      "    a description of the pattern and exceptions, and the number of exceptions.\n",
      "\n"
     ]
    },
    {
     "data": {
      "text/html": [
       "<div>\n",
       "<style scoped>\n",
       "    .dataframe tbody tr th:only-of-type {\n",
       "        vertical-align: middle;\n",
       "    }\n",
       "\n",
       "    .dataframe tbody tr th {\n",
       "        vertical-align: top;\n",
       "    }\n",
       "\n",
       "    .dataframe thead th {\n",
       "        text-align: right;\n",
       "    }\n",
       "</style>\n",
       "<table border=\"1\" class=\"dataframe\">\n",
       "  <thead>\n",
       "    <tr style=\"text-align: right;\">\n",
       "      <th></th>\n",
       "      <th>Test ID</th>\n",
       "      <th>Column(s)</th>\n",
       "      <th>Description of Pattern</th>\n",
       "      <th>Number of Exceptions</th>\n",
       "      <th>Issue ID</th>\n",
       "    </tr>\n",
       "  </thead>\n",
       "  <tbody>\n",
       "    <tr>\n",
       "      <th>0</th>\n",
       "      <td>SIMILAR_PREVIOUS</td>\n",
       "      <td>DIS</td>\n",
       "      <td>The values in \"DIS\" are consistently similar t...</td>\n",
       "      <td>2</td>\n",
       "      <td>0</td>\n",
       "    </tr>\n",
       "    <tr>\n",
       "      <th>1</th>\n",
       "      <td>UNUSUAL_ORDER_MAGNITUDE</td>\n",
       "      <td>AGE</td>\n",
       "      <td>This test checks for values of an unusual orde...</td>\n",
       "      <td>1</td>\n",
       "      <td>1</td>\n",
       "    </tr>\n",
       "    <tr>\n",
       "      <th>2</th>\n",
       "      <td>VERY_SMALL</td>\n",
       "      <td>RM</td>\n",
       "      <td>The test marked any values less than 4.0355000...</td>\n",
       "      <td>2</td>\n",
       "      <td>2</td>\n",
       "    </tr>\n",
       "    <tr>\n",
       "      <th>3</th>\n",
       "      <td>GREATER_THAN_ONE</td>\n",
       "      <td>INDUS</td>\n",
       "      <td>The column consistently contains absolute valu...</td>\n",
       "      <td>2</td>\n",
       "      <td>3</td>\n",
       "    </tr>\n",
       "    <tr>\n",
       "      <th>4</th>\n",
       "      <td>GREATER_THAN_ONE</td>\n",
       "      <td>B</td>\n",
       "      <td>The column consistently contains absolute valu...</td>\n",
       "      <td>1</td>\n",
       "      <td>4</td>\n",
       "    </tr>\n",
       "    <tr>\n",
       "      <th>5</th>\n",
       "      <td>LARGER</td>\n",
       "      <td>\"AGE\" AND \"RAD\"</td>\n",
       "      <td>\"AGE\" is consistently larger than \"RAD\".</td>\n",
       "      <td>2</td>\n",
       "      <td>5</td>\n",
       "    </tr>\n",
       "    <tr>\n",
       "      <th>6</th>\n",
       "      <td>LARGER</td>\n",
       "      <td>\"B\" AND \"NOX\"</td>\n",
       "      <td>\"B\" is consistently larger than \"NOX\".</td>\n",
       "      <td>1</td>\n",
       "      <td>6</td>\n",
       "    </tr>\n",
       "    <tr>\n",
       "      <th>7</th>\n",
       "      <td>LARGER</td>\n",
       "      <td>\"B\" AND \"DIS\"</td>\n",
       "      <td>\"B\" is consistently larger than \"DIS\".</td>\n",
       "      <td>1</td>\n",
       "      <td>7</td>\n",
       "    </tr>\n",
       "    <tr>\n",
       "      <th>8</th>\n",
       "      <td>MUCH_LARGER</td>\n",
       "      <td>\"NOX\" AND \"AGE\"</td>\n",
       "      <td>\"AGE\" is consistently an order of magnitude or...</td>\n",
       "      <td>1</td>\n",
       "      <td>8</td>\n",
       "    </tr>\n",
       "    <tr>\n",
       "      <th>9</th>\n",
       "      <td>RARE_COMBINATION</td>\n",
       "      <td>\"INDUS\" AND \"B\"</td>\n",
       "      <td>One or more rare combinations of values were f...</td>\n",
       "      <td>1</td>\n",
       "      <td>9</td>\n",
       "    </tr>\n",
       "  </tbody>\n",
       "</table>\n",
       "</div>"
      ],
      "text/plain": [
       "                   Test ID        Column(s)  \\\n",
       "0         SIMILAR_PREVIOUS              DIS   \n",
       "1  UNUSUAL_ORDER_MAGNITUDE              AGE   \n",
       "2               VERY_SMALL               RM   \n",
       "3         GREATER_THAN_ONE            INDUS   \n",
       "4         GREATER_THAN_ONE                B   \n",
       "5                   LARGER  \"AGE\" AND \"RAD\"   \n",
       "6                   LARGER    \"B\" AND \"NOX\"   \n",
       "7                   LARGER    \"B\" AND \"DIS\"   \n",
       "8              MUCH_LARGER  \"NOX\" AND \"AGE\"   \n",
       "9         RARE_COMBINATION  \"INDUS\" AND \"B\"   \n",
       "\n",
       "                              Description of Pattern  Number of Exceptions  \\\n",
       "0  The values in \"DIS\" are consistently similar t...                     2   \n",
       "1  This test checks for values of an unusual orde...                     1   \n",
       "2  The test marked any values less than 4.0355000...                     2   \n",
       "3  The column consistently contains absolute valu...                     2   \n",
       "4  The column consistently contains absolute valu...                     1   \n",
       "5           \"AGE\" is consistently larger than \"RAD\".                     2   \n",
       "6             \"B\" is consistently larger than \"NOX\".                     1   \n",
       "7             \"B\" is consistently larger than \"DIS\".                     1   \n",
       "8  \"AGE\" is consistently an order of magnitude or...                     1   \n",
       "9  One or more rare combinations of values were f...                     1   \n",
       "\n",
       "   Issue ID  \n",
       "0         0  \n",
       "1         1  \n",
       "2         2  \n",
       "3         3  \n",
       "4         4  \n",
       "5         5  \n",
       "6         6  \n",
       "7         7  \n",
       "8         8  \n",
       "9         9  "
      ]
     },
     "execution_count": 15,
     "metadata": {},
     "output_type": "execute_result"
    }
   ],
   "source": [
    "# And we call get_exceptions_summary() to get a list of the patterns with exceptions found. \n",
    "# Here, we give an example of calling help() to explain the API. \n",
    "\n",
    "help(dc.get_exceptions_summary)\n",
    "\n",
    "dc.get_exceptions_summary()"
   ]
  },
  {
   "cell_type": "code",
   "execution_count": 16,
   "id": "c93f98f9",
   "metadata": {},
   "outputs": [
    {
     "name": "stdout",
     "output_type": "stream",
     "text": [
      "Help on method get_exceptions_by_column in module check_data_consistency:\n",
      "\n",
      "get_exceptions_by_column() method of check_data_consistency.DataConsistencyChecker instance\n",
      "    Returns a dataframe with the same shape as the original dataframe, but with each cell containing, instead\n",
      "    of the original value for each feature for each row, a score allocated to that cell. Each pattern with\n",
      "    exceptions has a score of 1.0, but patterns the cover multiple columns will give each cell a fraction of this.\n",
      "    For example with a pattern covering 4 columns, any cells that are flagged will receive a score of 0.25 for\n",
      "    this pattern. Each cell will have the sum of all patterns with exceptions where they are flagged.\n",
      "\n"
     ]
    },
    {
     "data": {
      "text/html": [
       "<div>\n",
       "<style scoped>\n",
       "    .dataframe tbody tr th:only-of-type {\n",
       "        vertical-align: middle;\n",
       "    }\n",
       "\n",
       "    .dataframe tbody tr th {\n",
       "        vertical-align: top;\n",
       "    }\n",
       "\n",
       "    .dataframe thead th {\n",
       "        text-align: right;\n",
       "    }\n",
       "</style>\n",
       "<table border=\"1\" class=\"dataframe\">\n",
       "  <thead>\n",
       "    <tr style=\"text-align: right;\">\n",
       "      <th></th>\n",
       "      <th>CRIM</th>\n",
       "      <th>ZN</th>\n",
       "      <th>INDUS</th>\n",
       "      <th>CHAS</th>\n",
       "      <th>NOX</th>\n",
       "      <th>RM</th>\n",
       "      <th>AGE</th>\n",
       "      <th>DIS</th>\n",
       "      <th>RAD</th>\n",
       "      <th>TAX</th>\n",
       "      <th>PTRATIO</th>\n",
       "      <th>B</th>\n",
       "      <th>LSTAT</th>\n",
       "    </tr>\n",
       "  </thead>\n",
       "  <tbody>\n",
       "    <tr>\n",
       "      <th>0</th>\n",
       "      <td>0.0</td>\n",
       "      <td>0.0</td>\n",
       "      <td>0.0</td>\n",
       "      <td>0.0</td>\n",
       "      <td>0.0</td>\n",
       "      <td>0.0</td>\n",
       "      <td>0.0</td>\n",
       "      <td>0.0</td>\n",
       "      <td>0.0</td>\n",
       "      <td>0.0</td>\n",
       "      <td>0.0</td>\n",
       "      <td>0.0</td>\n",
       "      <td>0.0</td>\n",
       "    </tr>\n",
       "    <tr>\n",
       "      <th>1</th>\n",
       "      <td>0.0</td>\n",
       "      <td>0.0</td>\n",
       "      <td>0.0</td>\n",
       "      <td>0.0</td>\n",
       "      <td>0.0</td>\n",
       "      <td>0.0</td>\n",
       "      <td>0.0</td>\n",
       "      <td>0.0</td>\n",
       "      <td>0.0</td>\n",
       "      <td>0.0</td>\n",
       "      <td>0.0</td>\n",
       "      <td>0.0</td>\n",
       "      <td>0.0</td>\n",
       "    </tr>\n",
       "    <tr>\n",
       "      <th>2</th>\n",
       "      <td>0.0</td>\n",
       "      <td>0.0</td>\n",
       "      <td>0.0</td>\n",
       "      <td>0.0</td>\n",
       "      <td>0.0</td>\n",
       "      <td>0.0</td>\n",
       "      <td>0.0</td>\n",
       "      <td>0.0</td>\n",
       "      <td>0.0</td>\n",
       "      <td>0.0</td>\n",
       "      <td>0.0</td>\n",
       "      <td>0.0</td>\n",
       "      <td>0.0</td>\n",
       "    </tr>\n",
       "    <tr>\n",
       "      <th>3</th>\n",
       "      <td>0.0</td>\n",
       "      <td>0.0</td>\n",
       "      <td>0.0</td>\n",
       "      <td>0.0</td>\n",
       "      <td>0.0</td>\n",
       "      <td>0.0</td>\n",
       "      <td>0.0</td>\n",
       "      <td>0.0</td>\n",
       "      <td>0.0</td>\n",
       "      <td>0.0</td>\n",
       "      <td>0.0</td>\n",
       "      <td>0.0</td>\n",
       "      <td>0.0</td>\n",
       "    </tr>\n",
       "    <tr>\n",
       "      <th>4</th>\n",
       "      <td>0.0</td>\n",
       "      <td>0.0</td>\n",
       "      <td>0.0</td>\n",
       "      <td>0.0</td>\n",
       "      <td>0.0</td>\n",
       "      <td>0.0</td>\n",
       "      <td>0.0</td>\n",
       "      <td>0.0</td>\n",
       "      <td>0.0</td>\n",
       "      <td>0.0</td>\n",
       "      <td>0.0</td>\n",
       "      <td>0.0</td>\n",
       "      <td>0.0</td>\n",
       "    </tr>\n",
       "    <tr>\n",
       "      <th>...</th>\n",
       "      <td>...</td>\n",
       "      <td>...</td>\n",
       "      <td>...</td>\n",
       "      <td>...</td>\n",
       "      <td>...</td>\n",
       "      <td>...</td>\n",
       "      <td>...</td>\n",
       "      <td>...</td>\n",
       "      <td>...</td>\n",
       "      <td>...</td>\n",
       "      <td>...</td>\n",
       "      <td>...</td>\n",
       "      <td>...</td>\n",
       "    </tr>\n",
       "    <tr>\n",
       "      <th>501</th>\n",
       "      <td>0.0</td>\n",
       "      <td>0.0</td>\n",
       "      <td>0.0</td>\n",
       "      <td>0.0</td>\n",
       "      <td>0.0</td>\n",
       "      <td>0.0</td>\n",
       "      <td>0.0</td>\n",
       "      <td>0.0</td>\n",
       "      <td>0.0</td>\n",
       "      <td>0.0</td>\n",
       "      <td>0.0</td>\n",
       "      <td>0.0</td>\n",
       "      <td>0.0</td>\n",
       "    </tr>\n",
       "    <tr>\n",
       "      <th>502</th>\n",
       "      <td>0.0</td>\n",
       "      <td>0.0</td>\n",
       "      <td>0.0</td>\n",
       "      <td>0.0</td>\n",
       "      <td>0.0</td>\n",
       "      <td>0.0</td>\n",
       "      <td>0.0</td>\n",
       "      <td>0.0</td>\n",
       "      <td>0.0</td>\n",
       "      <td>0.0</td>\n",
       "      <td>0.0</td>\n",
       "      <td>0.0</td>\n",
       "      <td>0.0</td>\n",
       "    </tr>\n",
       "    <tr>\n",
       "      <th>503</th>\n",
       "      <td>0.0</td>\n",
       "      <td>0.0</td>\n",
       "      <td>0.0</td>\n",
       "      <td>0.0</td>\n",
       "      <td>0.0</td>\n",
       "      <td>0.0</td>\n",
       "      <td>0.0</td>\n",
       "      <td>0.0</td>\n",
       "      <td>0.0</td>\n",
       "      <td>0.0</td>\n",
       "      <td>0.0</td>\n",
       "      <td>0.0</td>\n",
       "      <td>0.0</td>\n",
       "    </tr>\n",
       "    <tr>\n",
       "      <th>504</th>\n",
       "      <td>0.0</td>\n",
       "      <td>0.0</td>\n",
       "      <td>0.0</td>\n",
       "      <td>0.0</td>\n",
       "      <td>0.0</td>\n",
       "      <td>0.0</td>\n",
       "      <td>0.0</td>\n",
       "      <td>0.0</td>\n",
       "      <td>0.0</td>\n",
       "      <td>0.0</td>\n",
       "      <td>0.0</td>\n",
       "      <td>0.0</td>\n",
       "      <td>0.0</td>\n",
       "    </tr>\n",
       "    <tr>\n",
       "      <th>505</th>\n",
       "      <td>0.0</td>\n",
       "      <td>0.0</td>\n",
       "      <td>0.0</td>\n",
       "      <td>0.0</td>\n",
       "      <td>0.0</td>\n",
       "      <td>0.0</td>\n",
       "      <td>0.0</td>\n",
       "      <td>0.0</td>\n",
       "      <td>0.0</td>\n",
       "      <td>0.0</td>\n",
       "      <td>0.0</td>\n",
       "      <td>0.0</td>\n",
       "      <td>0.0</td>\n",
       "    </tr>\n",
       "  </tbody>\n",
       "</table>\n",
       "<p>506 rows × 13 columns</p>\n",
       "</div>"
      ],
      "text/plain": [
       "     CRIM   ZN  INDUS  CHAS  NOX   RM  AGE  DIS  RAD  TAX  PTRATIO    B  LSTAT\n",
       "0     0.0  0.0    0.0   0.0  0.0  0.0  0.0  0.0  0.0  0.0      0.0  0.0    0.0\n",
       "1     0.0  0.0    0.0   0.0  0.0  0.0  0.0  0.0  0.0  0.0      0.0  0.0    0.0\n",
       "2     0.0  0.0    0.0   0.0  0.0  0.0  0.0  0.0  0.0  0.0      0.0  0.0    0.0\n",
       "3     0.0  0.0    0.0   0.0  0.0  0.0  0.0  0.0  0.0  0.0      0.0  0.0    0.0\n",
       "4     0.0  0.0    0.0   0.0  0.0  0.0  0.0  0.0  0.0  0.0      0.0  0.0    0.0\n",
       "..    ...  ...    ...   ...  ...  ...  ...  ...  ...  ...      ...  ...    ...\n",
       "501   0.0  0.0    0.0   0.0  0.0  0.0  0.0  0.0  0.0  0.0      0.0  0.0    0.0\n",
       "502   0.0  0.0    0.0   0.0  0.0  0.0  0.0  0.0  0.0  0.0      0.0  0.0    0.0\n",
       "503   0.0  0.0    0.0   0.0  0.0  0.0  0.0  0.0  0.0  0.0      0.0  0.0    0.0\n",
       "504   0.0  0.0    0.0   0.0  0.0  0.0  0.0  0.0  0.0  0.0      0.0  0.0    0.0\n",
       "505   0.0  0.0    0.0   0.0  0.0  0.0  0.0  0.0  0.0  0.0      0.0  0.0    0.0\n",
       "\n",
       "[506 rows x 13 columns]"
      ]
     },
     "execution_count": 16,
     "metadata": {},
     "output_type": "execute_result"
    }
   ],
   "source": [
    "# To get the scores for each individual cell in the table, we can call \n",
    "# get_exceptions_by_column(). In this example, we call help() to \n",
    "# provide the docstring for the method. \n",
    "\n",
    "help(dc.get_exceptions_by_column)\n",
    "\n",
    "dc.get_exceptions_by_column()"
   ]
  },
  {
   "cell_type": "code",
   "execution_count": 17,
   "id": "49dd2a2c",
   "metadata": {
    "scrolled": false
   },
   "outputs": [
    {
     "name": "stdout",
     "output_type": "stream",
     "text": [
      "\n"
     ]
    },
    {
     "data": {
      "text/markdown": [
       "**Row: 450 — Final Score: 3**"
      ],
      "text/plain": [
       "<IPython.core.display.Markdown object>"
      ]
     },
     "metadata": {},
     "output_type": "display_data"
    },
    {
     "data": {
      "text/html": [
       "<style type=\"text/css\">\n",
       "#T_6dd1e_row0_col1, #T_6dd1e_row0_col2, #T_6dd1e_row0_col3, #T_6dd1e_row0_col4, #T_6dd1e_row0_col6, #T_6dd1e_row0_col7, #T_6dd1e_row0_col9, #T_6dd1e_row0_col10, #T_6dd1e_row0_col11, #T_6dd1e_row0_col13 {\n",
       "  background-color: #e5f8fa;\n",
       "  color: black;\n",
       "}\n",
       "#T_6dd1e_row0_col5, #T_6dd1e_row0_col8, #T_6dd1e_row0_col12 {\n",
       "  background-color: #efecc3;\n",
       "  color: black;\n",
       "}\n",
       "</style>\n",
       "<table id=\"T_6dd1e_\">\n",
       "  <thead>\n",
       "    <tr>\n",
       "      <th class=\"blank level0\" >&nbsp;</th>\n",
       "      <th class=\"col_heading level0 col0\" >Test ID</th>\n",
       "      <th class=\"col_heading level0 col1\" >CRIM</th>\n",
       "      <th class=\"col_heading level0 col2\" >ZN</th>\n",
       "      <th class=\"col_heading level0 col3\" >INDUS</th>\n",
       "      <th class=\"col_heading level0 col4\" >CHAS</th>\n",
       "      <th class=\"col_heading level0 col5\" >NOX</th>\n",
       "      <th class=\"col_heading level0 col6\" >RM</th>\n",
       "      <th class=\"col_heading level0 col7\" >AGE</th>\n",
       "      <th class=\"col_heading level0 col8\" >DIS</th>\n",
       "      <th class=\"col_heading level0 col9\" >RAD</th>\n",
       "      <th class=\"col_heading level0 col10\" >TAX</th>\n",
       "      <th class=\"col_heading level0 col11\" >PTRATIO</th>\n",
       "      <th class=\"col_heading level0 col12\" >B</th>\n",
       "      <th class=\"col_heading level0 col13\" >LSTAT</th>\n",
       "    </tr>\n",
       "  </thead>\n",
       "  <tbody>\n",
       "    <tr>\n",
       "      <th id=\"T_6dd1e_level0_row0\" class=\"row_heading level0 row0\" >0</th>\n",
       "      <td id=\"T_6dd1e_row0_col0\" class=\"data row0 col0\" ></td>\n",
       "      <td id=\"T_6dd1e_row0_col1\" class=\"data row0 col1\" >6.717720</td>\n",
       "      <td id=\"T_6dd1e_row0_col2\" class=\"data row0 col2\" >0.000000</td>\n",
       "      <td id=\"T_6dd1e_row0_col3\" class=\"data row0 col3\" >18.100000</td>\n",
       "      <td id=\"T_6dd1e_row0_col4\" class=\"data row0 col4\" >0.000000</td>\n",
       "      <td id=\"T_6dd1e_row0_col5\" class=\"data row0 col5\" >0.713000</td>\n",
       "      <td id=\"T_6dd1e_row0_col6\" class=\"data row0 col6\" >6.749000</td>\n",
       "      <td id=\"T_6dd1e_row0_col7\" class=\"data row0 col7\" >92.600000</td>\n",
       "      <td id=\"T_6dd1e_row0_col8\" class=\"data row0 col8\" >2.323600</td>\n",
       "      <td id=\"T_6dd1e_row0_col9\" class=\"data row0 col9\" >24.000000</td>\n",
       "      <td id=\"T_6dd1e_row0_col10\" class=\"data row0 col10\" >666.000000</td>\n",
       "      <td id=\"T_6dd1e_row0_col11\" class=\"data row0 col11\" >20.200000</td>\n",
       "      <td id=\"T_6dd1e_row0_col12\" class=\"data row0 col12\" >0.320000</td>\n",
       "      <td id=\"T_6dd1e_row0_col13\" class=\"data row0 col13\" >17.440000</td>\n",
       "    </tr>\n",
       "    <tr>\n",
       "      <th id=\"T_6dd1e_level0_row1\" class=\"row_heading level0 row1\" >1</th>\n",
       "      <td id=\"T_6dd1e_row1_col0\" class=\"data row1 col0\" >GREATER_THAN_ONE</td>\n",
       "      <td id=\"T_6dd1e_row1_col1\" class=\"data row1 col1\" ></td>\n",
       "      <td id=\"T_6dd1e_row1_col2\" class=\"data row1 col2\" ></td>\n",
       "      <td id=\"T_6dd1e_row1_col3\" class=\"data row1 col3\" ></td>\n",
       "      <td id=\"T_6dd1e_row1_col4\" class=\"data row1 col4\" ></td>\n",
       "      <td id=\"T_6dd1e_row1_col5\" class=\"data row1 col5\" ></td>\n",
       "      <td id=\"T_6dd1e_row1_col6\" class=\"data row1 col6\" ></td>\n",
       "      <td id=\"T_6dd1e_row1_col7\" class=\"data row1 col7\" ></td>\n",
       "      <td id=\"T_6dd1e_row1_col8\" class=\"data row1 col8\" ></td>\n",
       "      <td id=\"T_6dd1e_row1_col9\" class=\"data row1 col9\" ></td>\n",
       "      <td id=\"T_6dd1e_row1_col10\" class=\"data row1 col10\" ></td>\n",
       "      <td id=\"T_6dd1e_row1_col11\" class=\"data row1 col11\" ></td>\n",
       "      <td id=\"T_6dd1e_row1_col12\" class=\"data row1 col12\" >✔</td>\n",
       "      <td id=\"T_6dd1e_row1_col13\" class=\"data row1 col13\" ></td>\n",
       "    </tr>\n",
       "    <tr>\n",
       "      <th id=\"T_6dd1e_level0_row2\" class=\"row_heading level0 row2\" >2</th>\n",
       "      <td id=\"T_6dd1e_row2_col0\" class=\"data row2 col0\" >LARGER</td>\n",
       "      <td id=\"T_6dd1e_row2_col1\" class=\"data row2 col1\" ></td>\n",
       "      <td id=\"T_6dd1e_row2_col2\" class=\"data row2 col2\" ></td>\n",
       "      <td id=\"T_6dd1e_row2_col3\" class=\"data row2 col3\" ></td>\n",
       "      <td id=\"T_6dd1e_row2_col4\" class=\"data row2 col4\" ></td>\n",
       "      <td id=\"T_6dd1e_row2_col5\" class=\"data row2 col5\" >✔</td>\n",
       "      <td id=\"T_6dd1e_row2_col6\" class=\"data row2 col6\" ></td>\n",
       "      <td id=\"T_6dd1e_row2_col7\" class=\"data row2 col7\" ></td>\n",
       "      <td id=\"T_6dd1e_row2_col8\" class=\"data row2 col8\" >✔</td>\n",
       "      <td id=\"T_6dd1e_row2_col9\" class=\"data row2 col9\" ></td>\n",
       "      <td id=\"T_6dd1e_row2_col10\" class=\"data row2 col10\" ></td>\n",
       "      <td id=\"T_6dd1e_row2_col11\" class=\"data row2 col11\" ></td>\n",
       "      <td id=\"T_6dd1e_row2_col12\" class=\"data row2 col12\" >✔</td>\n",
       "      <td id=\"T_6dd1e_row2_col13\" class=\"data row2 col13\" ></td>\n",
       "    </tr>\n",
       "  </tbody>\n",
       "</table>\n"
      ],
      "text/plain": [
       "<pandas.io.formats.style.Styler at 0x212afe1ceb0>"
      ]
     },
     "metadata": {},
     "output_type": "display_data"
    },
    {
     "name": "stdout",
     "output_type": "stream",
     "text": [
      "\n",
      "\n"
     ]
    },
    {
     "data": {
      "text/markdown": [
       "**Row: 41 — Final Score: 3**"
      ],
      "text/plain": [
       "<IPython.core.display.Markdown object>"
      ]
     },
     "metadata": {},
     "output_type": "display_data"
    },
    {
     "data": {
      "text/html": [
       "<style type=\"text/css\">\n",
       "#T_92ebe_row0_col1, #T_92ebe_row0_col2, #T_92ebe_row0_col3, #T_92ebe_row0_col4, #T_92ebe_row0_col6, #T_92ebe_row0_col8, #T_92ebe_row0_col10, #T_92ebe_row0_col11, #T_92ebe_row0_col12, #T_92ebe_row0_col13 {\n",
       "  background-color: #e5f8fa;\n",
       "  color: black;\n",
       "}\n",
       "#T_92ebe_row0_col5, #T_92ebe_row0_col7, #T_92ebe_row0_col9 {\n",
       "  background-color: #efecc3;\n",
       "  color: black;\n",
       "}\n",
       "</style>\n",
       "<table id=\"T_92ebe_\">\n",
       "  <thead>\n",
       "    <tr>\n",
       "      <th class=\"blank level0\" >&nbsp;</th>\n",
       "      <th class=\"col_heading level0 col0\" >Test ID</th>\n",
       "      <th class=\"col_heading level0 col1\" >CRIM</th>\n",
       "      <th class=\"col_heading level0 col2\" >ZN</th>\n",
       "      <th class=\"col_heading level0 col3\" >INDUS</th>\n",
       "      <th class=\"col_heading level0 col4\" >CHAS</th>\n",
       "      <th class=\"col_heading level0 col5\" >NOX</th>\n",
       "      <th class=\"col_heading level0 col6\" >RM</th>\n",
       "      <th class=\"col_heading level0 col7\" >AGE</th>\n",
       "      <th class=\"col_heading level0 col8\" >DIS</th>\n",
       "      <th class=\"col_heading level0 col9\" >RAD</th>\n",
       "      <th class=\"col_heading level0 col10\" >TAX</th>\n",
       "      <th class=\"col_heading level0 col11\" >PTRATIO</th>\n",
       "      <th class=\"col_heading level0 col12\" >B</th>\n",
       "      <th class=\"col_heading level0 col13\" >LSTAT</th>\n",
       "    </tr>\n",
       "  </thead>\n",
       "  <tbody>\n",
       "    <tr>\n",
       "      <th id=\"T_92ebe_level0_row0\" class=\"row_heading level0 row0\" >0</th>\n",
       "      <td id=\"T_92ebe_row0_col0\" class=\"data row0 col0\" ></td>\n",
       "      <td id=\"T_92ebe_row0_col1\" class=\"data row0 col1\" >0.127440</td>\n",
       "      <td id=\"T_92ebe_row0_col2\" class=\"data row0 col2\" >0.000000</td>\n",
       "      <td id=\"T_92ebe_row0_col3\" class=\"data row0 col3\" >6.910000</td>\n",
       "      <td id=\"T_92ebe_row0_col4\" class=\"data row0 col4\" >0.000000</td>\n",
       "      <td id=\"T_92ebe_row0_col5\" class=\"data row0 col5\" >0.448000</td>\n",
       "      <td id=\"T_92ebe_row0_col6\" class=\"data row0 col6\" >6.770000</td>\n",
       "      <td id=\"T_92ebe_row0_col7\" class=\"data row0 col7\" >2.900000</td>\n",
       "      <td id=\"T_92ebe_row0_col8\" class=\"data row0 col8\" >5.720900</td>\n",
       "      <td id=\"T_92ebe_row0_col9\" class=\"data row0 col9\" >3.000000</td>\n",
       "      <td id=\"T_92ebe_row0_col10\" class=\"data row0 col10\" >233.000000</td>\n",
       "      <td id=\"T_92ebe_row0_col11\" class=\"data row0 col11\" >17.900000</td>\n",
       "      <td id=\"T_92ebe_row0_col12\" class=\"data row0 col12\" >385.410000</td>\n",
       "      <td id=\"T_92ebe_row0_col13\" class=\"data row0 col13\" >4.840000</td>\n",
       "    </tr>\n",
       "    <tr>\n",
       "      <th id=\"T_92ebe_level0_row1\" class=\"row_heading level0 row1\" >1</th>\n",
       "      <td id=\"T_92ebe_row1_col0\" class=\"data row1 col0\" >UNUSUAL_ORDER_MAGNITUDE</td>\n",
       "      <td id=\"T_92ebe_row1_col1\" class=\"data row1 col1\" ></td>\n",
       "      <td id=\"T_92ebe_row1_col2\" class=\"data row1 col2\" ></td>\n",
       "      <td id=\"T_92ebe_row1_col3\" class=\"data row1 col3\" ></td>\n",
       "      <td id=\"T_92ebe_row1_col4\" class=\"data row1 col4\" ></td>\n",
       "      <td id=\"T_92ebe_row1_col5\" class=\"data row1 col5\" ></td>\n",
       "      <td id=\"T_92ebe_row1_col6\" class=\"data row1 col6\" ></td>\n",
       "      <td id=\"T_92ebe_row1_col7\" class=\"data row1 col7\" >✔</td>\n",
       "      <td id=\"T_92ebe_row1_col8\" class=\"data row1 col8\" ></td>\n",
       "      <td id=\"T_92ebe_row1_col9\" class=\"data row1 col9\" ></td>\n",
       "      <td id=\"T_92ebe_row1_col10\" class=\"data row1 col10\" ></td>\n",
       "      <td id=\"T_92ebe_row1_col11\" class=\"data row1 col11\" ></td>\n",
       "      <td id=\"T_92ebe_row1_col12\" class=\"data row1 col12\" ></td>\n",
       "      <td id=\"T_92ebe_row1_col13\" class=\"data row1 col13\" ></td>\n",
       "    </tr>\n",
       "    <tr>\n",
       "      <th id=\"T_92ebe_level0_row2\" class=\"row_heading level0 row2\" >2</th>\n",
       "      <td id=\"T_92ebe_row2_col0\" class=\"data row2 col0\" >LARGER</td>\n",
       "      <td id=\"T_92ebe_row2_col1\" class=\"data row2 col1\" ></td>\n",
       "      <td id=\"T_92ebe_row2_col2\" class=\"data row2 col2\" ></td>\n",
       "      <td id=\"T_92ebe_row2_col3\" class=\"data row2 col3\" ></td>\n",
       "      <td id=\"T_92ebe_row2_col4\" class=\"data row2 col4\" ></td>\n",
       "      <td id=\"T_92ebe_row2_col5\" class=\"data row2 col5\" ></td>\n",
       "      <td id=\"T_92ebe_row2_col6\" class=\"data row2 col6\" ></td>\n",
       "      <td id=\"T_92ebe_row2_col7\" class=\"data row2 col7\" >✔</td>\n",
       "      <td id=\"T_92ebe_row2_col8\" class=\"data row2 col8\" ></td>\n",
       "      <td id=\"T_92ebe_row2_col9\" class=\"data row2 col9\" >✔</td>\n",
       "      <td id=\"T_92ebe_row2_col10\" class=\"data row2 col10\" ></td>\n",
       "      <td id=\"T_92ebe_row2_col11\" class=\"data row2 col11\" ></td>\n",
       "      <td id=\"T_92ebe_row2_col12\" class=\"data row2 col12\" ></td>\n",
       "      <td id=\"T_92ebe_row2_col13\" class=\"data row2 col13\" ></td>\n",
       "    </tr>\n",
       "    <tr>\n",
       "      <th id=\"T_92ebe_level0_row3\" class=\"row_heading level0 row3\" >3</th>\n",
       "      <td id=\"T_92ebe_row3_col0\" class=\"data row3 col0\" >MUCH_LARGER</td>\n",
       "      <td id=\"T_92ebe_row3_col1\" class=\"data row3 col1\" ></td>\n",
       "      <td id=\"T_92ebe_row3_col2\" class=\"data row3 col2\" ></td>\n",
       "      <td id=\"T_92ebe_row3_col3\" class=\"data row3 col3\" ></td>\n",
       "      <td id=\"T_92ebe_row3_col4\" class=\"data row3 col4\" ></td>\n",
       "      <td id=\"T_92ebe_row3_col5\" class=\"data row3 col5\" >✔</td>\n",
       "      <td id=\"T_92ebe_row3_col6\" class=\"data row3 col6\" ></td>\n",
       "      <td id=\"T_92ebe_row3_col7\" class=\"data row3 col7\" >✔</td>\n",
       "      <td id=\"T_92ebe_row3_col8\" class=\"data row3 col8\" ></td>\n",
       "      <td id=\"T_92ebe_row3_col9\" class=\"data row3 col9\" ></td>\n",
       "      <td id=\"T_92ebe_row3_col10\" class=\"data row3 col10\" ></td>\n",
       "      <td id=\"T_92ebe_row3_col11\" class=\"data row3 col11\" ></td>\n",
       "      <td id=\"T_92ebe_row3_col12\" class=\"data row3 col12\" ></td>\n",
       "      <td id=\"T_92ebe_row3_col13\" class=\"data row3 col13\" ></td>\n",
       "    </tr>\n",
       "  </tbody>\n",
       "</table>\n"
      ],
      "text/plain": [
       "<pandas.io.formats.style.Styler at 0x212ad74d730>"
      ]
     },
     "metadata": {},
     "output_type": "display_data"
    },
    {
     "name": "stdout",
     "output_type": "stream",
     "text": [
      "\n",
      "\n"
     ]
    },
    {
     "data": {
      "text/markdown": [
       "**Row: 356 — Final Score: 1**"
      ],
      "text/plain": [
       "<IPython.core.display.Markdown object>"
      ]
     },
     "metadata": {},
     "output_type": "display_data"
    },
    {
     "data": {
      "text/html": [
       "<style type=\"text/css\">\n",
       "#T_bdbe5_row0_col1, #T_bdbe5_row0_col2, #T_bdbe5_row0_col3, #T_bdbe5_row0_col4, #T_bdbe5_row0_col5, #T_bdbe5_row0_col6, #T_bdbe5_row0_col7, #T_bdbe5_row0_col9, #T_bdbe5_row0_col10, #T_bdbe5_row0_col11, #T_bdbe5_row0_col12, #T_bdbe5_row0_col13 {\n",
       "  background-color: #e5f8fa;\n",
       "  color: black;\n",
       "}\n",
       "#T_bdbe5_row0_col8 {\n",
       "  background-color: #efecc3;\n",
       "  color: black;\n",
       "}\n",
       "</style>\n",
       "<table id=\"T_bdbe5_\">\n",
       "  <thead>\n",
       "    <tr>\n",
       "      <th class=\"blank level0\" >&nbsp;</th>\n",
       "      <th class=\"col_heading level0 col0\" >Test ID</th>\n",
       "      <th class=\"col_heading level0 col1\" >CRIM</th>\n",
       "      <th class=\"col_heading level0 col2\" >ZN</th>\n",
       "      <th class=\"col_heading level0 col3\" >INDUS</th>\n",
       "      <th class=\"col_heading level0 col4\" >CHAS</th>\n",
       "      <th class=\"col_heading level0 col5\" >NOX</th>\n",
       "      <th class=\"col_heading level0 col6\" >RM</th>\n",
       "      <th class=\"col_heading level0 col7\" >AGE</th>\n",
       "      <th class=\"col_heading level0 col8\" >DIS</th>\n",
       "      <th class=\"col_heading level0 col9\" >RAD</th>\n",
       "      <th class=\"col_heading level0 col10\" >TAX</th>\n",
       "      <th class=\"col_heading level0 col11\" >PTRATIO</th>\n",
       "      <th class=\"col_heading level0 col12\" >B</th>\n",
       "      <th class=\"col_heading level0 col13\" >LSTAT</th>\n",
       "    </tr>\n",
       "  </thead>\n",
       "  <tbody>\n",
       "    <tr>\n",
       "      <th id=\"T_bdbe5_level0_row0\" class=\"row_heading level0 row0\" >0</th>\n",
       "      <td id=\"T_bdbe5_row0_col0\" class=\"data row0 col0\" ></td>\n",
       "      <td id=\"T_bdbe5_row0_col1\" class=\"data row0 col1\" >8.982960</td>\n",
       "      <td id=\"T_bdbe5_row0_col2\" class=\"data row0 col2\" >0.000000</td>\n",
       "      <td id=\"T_bdbe5_row0_col3\" class=\"data row0 col3\" >18.100000</td>\n",
       "      <td id=\"T_bdbe5_row0_col4\" class=\"data row0 col4\" >1.000000</td>\n",
       "      <td id=\"T_bdbe5_row0_col5\" class=\"data row0 col5\" >0.770000</td>\n",
       "      <td id=\"T_bdbe5_row0_col6\" class=\"data row0 col6\" >6.212000</td>\n",
       "      <td id=\"T_bdbe5_row0_col7\" class=\"data row0 col7\" >97.400000</td>\n",
       "      <td id=\"T_bdbe5_row0_col8\" class=\"data row0 col8\" >2.122200</td>\n",
       "      <td id=\"T_bdbe5_row0_col9\" class=\"data row0 col9\" >24.000000</td>\n",
       "      <td id=\"T_bdbe5_row0_col10\" class=\"data row0 col10\" >666.000000</td>\n",
       "      <td id=\"T_bdbe5_row0_col11\" class=\"data row0 col11\" >20.200000</td>\n",
       "      <td id=\"T_bdbe5_row0_col12\" class=\"data row0 col12\" >377.730000</td>\n",
       "      <td id=\"T_bdbe5_row0_col13\" class=\"data row0 col13\" >17.600000</td>\n",
       "    </tr>\n",
       "    <tr>\n",
       "      <th id=\"T_bdbe5_level0_row1\" class=\"row_heading level0 row1\" >1</th>\n",
       "      <td id=\"T_bdbe5_row1_col0\" class=\"data row1 col0\" >SIMILAR_PREVIOUS</td>\n",
       "      <td id=\"T_bdbe5_row1_col1\" class=\"data row1 col1\" ></td>\n",
       "      <td id=\"T_bdbe5_row1_col2\" class=\"data row1 col2\" ></td>\n",
       "      <td id=\"T_bdbe5_row1_col3\" class=\"data row1 col3\" ></td>\n",
       "      <td id=\"T_bdbe5_row1_col4\" class=\"data row1 col4\" ></td>\n",
       "      <td id=\"T_bdbe5_row1_col5\" class=\"data row1 col5\" ></td>\n",
       "      <td id=\"T_bdbe5_row1_col6\" class=\"data row1 col6\" ></td>\n",
       "      <td id=\"T_bdbe5_row1_col7\" class=\"data row1 col7\" ></td>\n",
       "      <td id=\"T_bdbe5_row1_col8\" class=\"data row1 col8\" >✔</td>\n",
       "      <td id=\"T_bdbe5_row1_col9\" class=\"data row1 col9\" ></td>\n",
       "      <td id=\"T_bdbe5_row1_col10\" class=\"data row1 col10\" ></td>\n",
       "      <td id=\"T_bdbe5_row1_col11\" class=\"data row1 col11\" ></td>\n",
       "      <td id=\"T_bdbe5_row1_col12\" class=\"data row1 col12\" ></td>\n",
       "      <td id=\"T_bdbe5_row1_col13\" class=\"data row1 col13\" ></td>\n",
       "    </tr>\n",
       "  </tbody>\n",
       "</table>\n"
      ],
      "text/plain": [
       "<pandas.io.formats.style.Styler at 0x212ad74d730>"
      ]
     },
     "metadata": {},
     "output_type": "display_data"
    },
    {
     "name": "stdout",
     "output_type": "stream",
     "text": [
      "\n",
      "\n"
     ]
    },
    {
     "data": {
      "text/markdown": [
       "**Row: 365 — Final Score: 1**"
      ],
      "text/plain": [
       "<IPython.core.display.Markdown object>"
      ]
     },
     "metadata": {},
     "output_type": "display_data"
    },
    {
     "data": {
      "text/html": [
       "<style type=\"text/css\">\n",
       "#T_11789_row0_col1, #T_11789_row0_col2, #T_11789_row0_col3, #T_11789_row0_col4, #T_11789_row0_col5, #T_11789_row0_col7, #T_11789_row0_col8, #T_11789_row0_col9, #T_11789_row0_col10, #T_11789_row0_col11, #T_11789_row0_col12, #T_11789_row0_col13 {\n",
       "  background-color: #e5f8fa;\n",
       "  color: black;\n",
       "}\n",
       "#T_11789_row0_col6 {\n",
       "  background-color: #efecc3;\n",
       "  color: black;\n",
       "}\n",
       "</style>\n",
       "<table id=\"T_11789_\">\n",
       "  <thead>\n",
       "    <tr>\n",
       "      <th class=\"blank level0\" >&nbsp;</th>\n",
       "      <th class=\"col_heading level0 col0\" >Test ID</th>\n",
       "      <th class=\"col_heading level0 col1\" >CRIM</th>\n",
       "      <th class=\"col_heading level0 col2\" >ZN</th>\n",
       "      <th class=\"col_heading level0 col3\" >INDUS</th>\n",
       "      <th class=\"col_heading level0 col4\" >CHAS</th>\n",
       "      <th class=\"col_heading level0 col5\" >NOX</th>\n",
       "      <th class=\"col_heading level0 col6\" >RM</th>\n",
       "      <th class=\"col_heading level0 col7\" >AGE</th>\n",
       "      <th class=\"col_heading level0 col8\" >DIS</th>\n",
       "      <th class=\"col_heading level0 col9\" >RAD</th>\n",
       "      <th class=\"col_heading level0 col10\" >TAX</th>\n",
       "      <th class=\"col_heading level0 col11\" >PTRATIO</th>\n",
       "      <th class=\"col_heading level0 col12\" >B</th>\n",
       "      <th class=\"col_heading level0 col13\" >LSTAT</th>\n",
       "    </tr>\n",
       "  </thead>\n",
       "  <tbody>\n",
       "    <tr>\n",
       "      <th id=\"T_11789_level0_row0\" class=\"row_heading level0 row0\" >0</th>\n",
       "      <td id=\"T_11789_row0_col0\" class=\"data row0 col0\" ></td>\n",
       "      <td id=\"T_11789_row0_col1\" class=\"data row0 col1\" >4.555870</td>\n",
       "      <td id=\"T_11789_row0_col2\" class=\"data row0 col2\" >0.000000</td>\n",
       "      <td id=\"T_11789_row0_col3\" class=\"data row0 col3\" >18.100000</td>\n",
       "      <td id=\"T_11789_row0_col4\" class=\"data row0 col4\" >0.000000</td>\n",
       "      <td id=\"T_11789_row0_col5\" class=\"data row0 col5\" >0.718000</td>\n",
       "      <td id=\"T_11789_row0_col6\" class=\"data row0 col6\" >3.561000</td>\n",
       "      <td id=\"T_11789_row0_col7\" class=\"data row0 col7\" >87.900000</td>\n",
       "      <td id=\"T_11789_row0_col8\" class=\"data row0 col8\" >1.613200</td>\n",
       "      <td id=\"T_11789_row0_col9\" class=\"data row0 col9\" >24.000000</td>\n",
       "      <td id=\"T_11789_row0_col10\" class=\"data row0 col10\" >666.000000</td>\n",
       "      <td id=\"T_11789_row0_col11\" class=\"data row0 col11\" >20.200000</td>\n",
       "      <td id=\"T_11789_row0_col12\" class=\"data row0 col12\" >354.700000</td>\n",
       "      <td id=\"T_11789_row0_col13\" class=\"data row0 col13\" >7.120000</td>\n",
       "    </tr>\n",
       "    <tr>\n",
       "      <th id=\"T_11789_level0_row1\" class=\"row_heading level0 row1\" >1</th>\n",
       "      <td id=\"T_11789_row1_col0\" class=\"data row1 col0\" >VERY_SMALL</td>\n",
       "      <td id=\"T_11789_row1_col1\" class=\"data row1 col1\" ></td>\n",
       "      <td id=\"T_11789_row1_col2\" class=\"data row1 col2\" ></td>\n",
       "      <td id=\"T_11789_row1_col3\" class=\"data row1 col3\" ></td>\n",
       "      <td id=\"T_11789_row1_col4\" class=\"data row1 col4\" ></td>\n",
       "      <td id=\"T_11789_row1_col5\" class=\"data row1 col5\" ></td>\n",
       "      <td id=\"T_11789_row1_col6\" class=\"data row1 col6\" >✔</td>\n",
       "      <td id=\"T_11789_row1_col7\" class=\"data row1 col7\" ></td>\n",
       "      <td id=\"T_11789_row1_col8\" class=\"data row1 col8\" ></td>\n",
       "      <td id=\"T_11789_row1_col9\" class=\"data row1 col9\" ></td>\n",
       "      <td id=\"T_11789_row1_col10\" class=\"data row1 col10\" ></td>\n",
       "      <td id=\"T_11789_row1_col11\" class=\"data row1 col11\" ></td>\n",
       "      <td id=\"T_11789_row1_col12\" class=\"data row1 col12\" ></td>\n",
       "      <td id=\"T_11789_row1_col13\" class=\"data row1 col13\" ></td>\n",
       "    </tr>\n",
       "  </tbody>\n",
       "</table>\n"
      ],
      "text/plain": [
       "<pandas.io.formats.style.Styler at 0x212ad74d730>"
      ]
     },
     "metadata": {},
     "output_type": "display_data"
    },
    {
     "name": "stdout",
     "output_type": "stream",
     "text": [
      "\n",
      "\n"
     ]
    },
    {
     "data": {
      "text/markdown": [
       "**Row: 367 — Final Score: 1**"
      ],
      "text/plain": [
       "<IPython.core.display.Markdown object>"
      ]
     },
     "metadata": {},
     "output_type": "display_data"
    },
    {
     "data": {
      "text/html": [
       "<style type=\"text/css\">\n",
       "#T_6a04d_row0_col1, #T_6a04d_row0_col2, #T_6a04d_row0_col3, #T_6a04d_row0_col4, #T_6a04d_row0_col5, #T_6a04d_row0_col7, #T_6a04d_row0_col8, #T_6a04d_row0_col9, #T_6a04d_row0_col10, #T_6a04d_row0_col11, #T_6a04d_row0_col12, #T_6a04d_row0_col13 {\n",
       "  background-color: #e5f8fa;\n",
       "  color: black;\n",
       "}\n",
       "#T_6a04d_row0_col6 {\n",
       "  background-color: #efecc3;\n",
       "  color: black;\n",
       "}\n",
       "</style>\n",
       "<table id=\"T_6a04d_\">\n",
       "  <thead>\n",
       "    <tr>\n",
       "      <th class=\"blank level0\" >&nbsp;</th>\n",
       "      <th class=\"col_heading level0 col0\" >Test ID</th>\n",
       "      <th class=\"col_heading level0 col1\" >CRIM</th>\n",
       "      <th class=\"col_heading level0 col2\" >ZN</th>\n",
       "      <th class=\"col_heading level0 col3\" >INDUS</th>\n",
       "      <th class=\"col_heading level0 col4\" >CHAS</th>\n",
       "      <th class=\"col_heading level0 col5\" >NOX</th>\n",
       "      <th class=\"col_heading level0 col6\" >RM</th>\n",
       "      <th class=\"col_heading level0 col7\" >AGE</th>\n",
       "      <th class=\"col_heading level0 col8\" >DIS</th>\n",
       "      <th class=\"col_heading level0 col9\" >RAD</th>\n",
       "      <th class=\"col_heading level0 col10\" >TAX</th>\n",
       "      <th class=\"col_heading level0 col11\" >PTRATIO</th>\n",
       "      <th class=\"col_heading level0 col12\" >B</th>\n",
       "      <th class=\"col_heading level0 col13\" >LSTAT</th>\n",
       "    </tr>\n",
       "  </thead>\n",
       "  <tbody>\n",
       "    <tr>\n",
       "      <th id=\"T_6a04d_level0_row0\" class=\"row_heading level0 row0\" >0</th>\n",
       "      <td id=\"T_6a04d_row0_col0\" class=\"data row0 col0\" ></td>\n",
       "      <td id=\"T_6a04d_row0_col1\" class=\"data row0 col1\" >13.522200</td>\n",
       "      <td id=\"T_6a04d_row0_col2\" class=\"data row0 col2\" >0.000000</td>\n",
       "      <td id=\"T_6a04d_row0_col3\" class=\"data row0 col3\" >18.100000</td>\n",
       "      <td id=\"T_6a04d_row0_col4\" class=\"data row0 col4\" >0.000000</td>\n",
       "      <td id=\"T_6a04d_row0_col5\" class=\"data row0 col5\" >0.631000</td>\n",
       "      <td id=\"T_6a04d_row0_col6\" class=\"data row0 col6\" >3.863000</td>\n",
       "      <td id=\"T_6a04d_row0_col7\" class=\"data row0 col7\" >100.000000</td>\n",
       "      <td id=\"T_6a04d_row0_col8\" class=\"data row0 col8\" >1.510600</td>\n",
       "      <td id=\"T_6a04d_row0_col9\" class=\"data row0 col9\" >24.000000</td>\n",
       "      <td id=\"T_6a04d_row0_col10\" class=\"data row0 col10\" >666.000000</td>\n",
       "      <td id=\"T_6a04d_row0_col11\" class=\"data row0 col11\" >20.200000</td>\n",
       "      <td id=\"T_6a04d_row0_col12\" class=\"data row0 col12\" >131.420000</td>\n",
       "      <td id=\"T_6a04d_row0_col13\" class=\"data row0 col13\" >13.330000</td>\n",
       "    </tr>\n",
       "    <tr>\n",
       "      <th id=\"T_6a04d_level0_row1\" class=\"row_heading level0 row1\" >1</th>\n",
       "      <td id=\"T_6a04d_row1_col0\" class=\"data row1 col0\" >VERY_SMALL</td>\n",
       "      <td id=\"T_6a04d_row1_col1\" class=\"data row1 col1\" ></td>\n",
       "      <td id=\"T_6a04d_row1_col2\" class=\"data row1 col2\" ></td>\n",
       "      <td id=\"T_6a04d_row1_col3\" class=\"data row1 col3\" ></td>\n",
       "      <td id=\"T_6a04d_row1_col4\" class=\"data row1 col4\" ></td>\n",
       "      <td id=\"T_6a04d_row1_col5\" class=\"data row1 col5\" ></td>\n",
       "      <td id=\"T_6a04d_row1_col6\" class=\"data row1 col6\" >✔</td>\n",
       "      <td id=\"T_6a04d_row1_col7\" class=\"data row1 col7\" ></td>\n",
       "      <td id=\"T_6a04d_row1_col8\" class=\"data row1 col8\" ></td>\n",
       "      <td id=\"T_6a04d_row1_col9\" class=\"data row1 col9\" ></td>\n",
       "      <td id=\"T_6a04d_row1_col10\" class=\"data row1 col10\" ></td>\n",
       "      <td id=\"T_6a04d_row1_col11\" class=\"data row1 col11\" ></td>\n",
       "      <td id=\"T_6a04d_row1_col12\" class=\"data row1 col12\" ></td>\n",
       "      <td id=\"T_6a04d_row1_col13\" class=\"data row1 col13\" ></td>\n",
       "    </tr>\n",
       "  </tbody>\n",
       "</table>\n"
      ],
      "text/plain": [
       "<pandas.io.formats.style.Styler at 0x212ad74d730>"
      ]
     },
     "metadata": {},
     "output_type": "display_data"
    },
    {
     "name": "stdout",
     "output_type": "stream",
     "text": [
      "\n",
      "\n"
     ]
    },
    {
     "data": {
      "text/markdown": [
       "**Row: 56 — Final Score: 1**"
      ],
      "text/plain": [
       "<IPython.core.display.Markdown object>"
      ]
     },
     "metadata": {},
     "output_type": "display_data"
    },
    {
     "data": {
      "text/html": [
       "<style type=\"text/css\">\n",
       "#T_ef33f_row0_col1, #T_ef33f_row0_col2, #T_ef33f_row0_col4, #T_ef33f_row0_col5, #T_ef33f_row0_col6, #T_ef33f_row0_col7, #T_ef33f_row0_col8, #T_ef33f_row0_col9, #T_ef33f_row0_col10, #T_ef33f_row0_col11, #T_ef33f_row0_col12, #T_ef33f_row0_col13 {\n",
       "  background-color: #e5f8fa;\n",
       "  color: black;\n",
       "}\n",
       "#T_ef33f_row0_col3 {\n",
       "  background-color: #efecc3;\n",
       "  color: black;\n",
       "}\n",
       "</style>\n",
       "<table id=\"T_ef33f_\">\n",
       "  <thead>\n",
       "    <tr>\n",
       "      <th class=\"blank level0\" >&nbsp;</th>\n",
       "      <th class=\"col_heading level0 col0\" >Test ID</th>\n",
       "      <th class=\"col_heading level0 col1\" >CRIM</th>\n",
       "      <th class=\"col_heading level0 col2\" >ZN</th>\n",
       "      <th class=\"col_heading level0 col3\" >INDUS</th>\n",
       "      <th class=\"col_heading level0 col4\" >CHAS</th>\n",
       "      <th class=\"col_heading level0 col5\" >NOX</th>\n",
       "      <th class=\"col_heading level0 col6\" >RM</th>\n",
       "      <th class=\"col_heading level0 col7\" >AGE</th>\n",
       "      <th class=\"col_heading level0 col8\" >DIS</th>\n",
       "      <th class=\"col_heading level0 col9\" >RAD</th>\n",
       "      <th class=\"col_heading level0 col10\" >TAX</th>\n",
       "      <th class=\"col_heading level0 col11\" >PTRATIO</th>\n",
       "      <th class=\"col_heading level0 col12\" >B</th>\n",
       "      <th class=\"col_heading level0 col13\" >LSTAT</th>\n",
       "    </tr>\n",
       "  </thead>\n",
       "  <tbody>\n",
       "    <tr>\n",
       "      <th id=\"T_ef33f_level0_row0\" class=\"row_heading level0 row0\" >0</th>\n",
       "      <td id=\"T_ef33f_row0_col0\" class=\"data row0 col0\" ></td>\n",
       "      <td id=\"T_ef33f_row0_col1\" class=\"data row0 col1\" >0.020550</td>\n",
       "      <td id=\"T_ef33f_row0_col2\" class=\"data row0 col2\" >85.000000</td>\n",
       "      <td id=\"T_ef33f_row0_col3\" class=\"data row0 col3\" >0.740000</td>\n",
       "      <td id=\"T_ef33f_row0_col4\" class=\"data row0 col4\" >0.000000</td>\n",
       "      <td id=\"T_ef33f_row0_col5\" class=\"data row0 col5\" >0.410000</td>\n",
       "      <td id=\"T_ef33f_row0_col6\" class=\"data row0 col6\" >6.383000</td>\n",
       "      <td id=\"T_ef33f_row0_col7\" class=\"data row0 col7\" >35.700000</td>\n",
       "      <td id=\"T_ef33f_row0_col8\" class=\"data row0 col8\" >9.187600</td>\n",
       "      <td id=\"T_ef33f_row0_col9\" class=\"data row0 col9\" >2.000000</td>\n",
       "      <td id=\"T_ef33f_row0_col10\" class=\"data row0 col10\" >313.000000</td>\n",
       "      <td id=\"T_ef33f_row0_col11\" class=\"data row0 col11\" >17.300000</td>\n",
       "      <td id=\"T_ef33f_row0_col12\" class=\"data row0 col12\" >396.900000</td>\n",
       "      <td id=\"T_ef33f_row0_col13\" class=\"data row0 col13\" >5.770000</td>\n",
       "    </tr>\n",
       "    <tr>\n",
       "      <th id=\"T_ef33f_level0_row1\" class=\"row_heading level0 row1\" >1</th>\n",
       "      <td id=\"T_ef33f_row1_col0\" class=\"data row1 col0\" >GREATER_THAN_ONE</td>\n",
       "      <td id=\"T_ef33f_row1_col1\" class=\"data row1 col1\" ></td>\n",
       "      <td id=\"T_ef33f_row1_col2\" class=\"data row1 col2\" ></td>\n",
       "      <td id=\"T_ef33f_row1_col3\" class=\"data row1 col3\" >✔</td>\n",
       "      <td id=\"T_ef33f_row1_col4\" class=\"data row1 col4\" ></td>\n",
       "      <td id=\"T_ef33f_row1_col5\" class=\"data row1 col5\" ></td>\n",
       "      <td id=\"T_ef33f_row1_col6\" class=\"data row1 col6\" ></td>\n",
       "      <td id=\"T_ef33f_row1_col7\" class=\"data row1 col7\" ></td>\n",
       "      <td id=\"T_ef33f_row1_col8\" class=\"data row1 col8\" ></td>\n",
       "      <td id=\"T_ef33f_row1_col9\" class=\"data row1 col9\" ></td>\n",
       "      <td id=\"T_ef33f_row1_col10\" class=\"data row1 col10\" ></td>\n",
       "      <td id=\"T_ef33f_row1_col11\" class=\"data row1 col11\" ></td>\n",
       "      <td id=\"T_ef33f_row1_col12\" class=\"data row1 col12\" ></td>\n",
       "      <td id=\"T_ef33f_row1_col13\" class=\"data row1 col13\" ></td>\n",
       "    </tr>\n",
       "  </tbody>\n",
       "</table>\n"
      ],
      "text/plain": [
       "<pandas.io.formats.style.Styler at 0x212afdb9160>"
      ]
     },
     "metadata": {},
     "output_type": "display_data"
    },
    {
     "name": "stdout",
     "output_type": "stream",
     "text": [
      "\n",
      "\n"
     ]
    },
    {
     "data": {
      "text/markdown": [
       "**Row: 102 — Final Score: 1**"
      ],
      "text/plain": [
       "<IPython.core.display.Markdown object>"
      ]
     },
     "metadata": {},
     "output_type": "display_data"
    },
    {
     "data": {
      "text/html": [
       "<style type=\"text/css\">\n",
       "#T_92ac0_row0_col1, #T_92ac0_row0_col2, #T_92ac0_row0_col4, #T_92ac0_row0_col5, #T_92ac0_row0_col6, #T_92ac0_row0_col7, #T_92ac0_row0_col8, #T_92ac0_row0_col9, #T_92ac0_row0_col10, #T_92ac0_row0_col11, #T_92ac0_row0_col13 {\n",
       "  background-color: #e5f8fa;\n",
       "  color: black;\n",
       "}\n",
       "#T_92ac0_row0_col3, #T_92ac0_row0_col12 {\n",
       "  background-color: #efecc3;\n",
       "  color: black;\n",
       "}\n",
       "</style>\n",
       "<table id=\"T_92ac0_\">\n",
       "  <thead>\n",
       "    <tr>\n",
       "      <th class=\"blank level0\" >&nbsp;</th>\n",
       "      <th class=\"col_heading level0 col0\" >Test ID</th>\n",
       "      <th class=\"col_heading level0 col1\" >CRIM</th>\n",
       "      <th class=\"col_heading level0 col2\" >ZN</th>\n",
       "      <th class=\"col_heading level0 col3\" >INDUS</th>\n",
       "      <th class=\"col_heading level0 col4\" >CHAS</th>\n",
       "      <th class=\"col_heading level0 col5\" >NOX</th>\n",
       "      <th class=\"col_heading level0 col6\" >RM</th>\n",
       "      <th class=\"col_heading level0 col7\" >AGE</th>\n",
       "      <th class=\"col_heading level0 col8\" >DIS</th>\n",
       "      <th class=\"col_heading level0 col9\" >RAD</th>\n",
       "      <th class=\"col_heading level0 col10\" >TAX</th>\n",
       "      <th class=\"col_heading level0 col11\" >PTRATIO</th>\n",
       "      <th class=\"col_heading level0 col12\" >B</th>\n",
       "      <th class=\"col_heading level0 col13\" >LSTAT</th>\n",
       "    </tr>\n",
       "  </thead>\n",
       "  <tbody>\n",
       "    <tr>\n",
       "      <th id=\"T_92ac0_level0_row0\" class=\"row_heading level0 row0\" >0</th>\n",
       "      <td id=\"T_92ac0_row0_col0\" class=\"data row0 col0\" ></td>\n",
       "      <td id=\"T_92ac0_row0_col1\" class=\"data row0 col1\" >0.228760</td>\n",
       "      <td id=\"T_92ac0_row0_col2\" class=\"data row0 col2\" >0.000000</td>\n",
       "      <td id=\"T_92ac0_row0_col3\" class=\"data row0 col3\" >8.560000</td>\n",
       "      <td id=\"T_92ac0_row0_col4\" class=\"data row0 col4\" >0.000000</td>\n",
       "      <td id=\"T_92ac0_row0_col5\" class=\"data row0 col5\" >0.520000</td>\n",
       "      <td id=\"T_92ac0_row0_col6\" class=\"data row0 col6\" >6.405000</td>\n",
       "      <td id=\"T_92ac0_row0_col7\" class=\"data row0 col7\" >85.400000</td>\n",
       "      <td id=\"T_92ac0_row0_col8\" class=\"data row0 col8\" >2.714700</td>\n",
       "      <td id=\"T_92ac0_row0_col9\" class=\"data row0 col9\" >5.000000</td>\n",
       "      <td id=\"T_92ac0_row0_col10\" class=\"data row0 col10\" >384.000000</td>\n",
       "      <td id=\"T_92ac0_row0_col11\" class=\"data row0 col11\" >20.900000</td>\n",
       "      <td id=\"T_92ac0_row0_col12\" class=\"data row0 col12\" >70.800000</td>\n",
       "      <td id=\"T_92ac0_row0_col13\" class=\"data row0 col13\" >10.630000</td>\n",
       "    </tr>\n",
       "    <tr>\n",
       "      <th id=\"T_92ac0_level0_row1\" class=\"row_heading level0 row1\" >1</th>\n",
       "      <td id=\"T_92ac0_row1_col0\" class=\"data row1 col0\" >RARE_COMBINATION</td>\n",
       "      <td id=\"T_92ac0_row1_col1\" class=\"data row1 col1\" ></td>\n",
       "      <td id=\"T_92ac0_row1_col2\" class=\"data row1 col2\" ></td>\n",
       "      <td id=\"T_92ac0_row1_col3\" class=\"data row1 col3\" >✔</td>\n",
       "      <td id=\"T_92ac0_row1_col4\" class=\"data row1 col4\" ></td>\n",
       "      <td id=\"T_92ac0_row1_col5\" class=\"data row1 col5\" ></td>\n",
       "      <td id=\"T_92ac0_row1_col6\" class=\"data row1 col6\" ></td>\n",
       "      <td id=\"T_92ac0_row1_col7\" class=\"data row1 col7\" ></td>\n",
       "      <td id=\"T_92ac0_row1_col8\" class=\"data row1 col8\" ></td>\n",
       "      <td id=\"T_92ac0_row1_col9\" class=\"data row1 col9\" ></td>\n",
       "      <td id=\"T_92ac0_row1_col10\" class=\"data row1 col10\" ></td>\n",
       "      <td id=\"T_92ac0_row1_col11\" class=\"data row1 col11\" ></td>\n",
       "      <td id=\"T_92ac0_row1_col12\" class=\"data row1 col12\" >✔</td>\n",
       "      <td id=\"T_92ac0_row1_col13\" class=\"data row1 col13\" ></td>\n",
       "    </tr>\n",
       "  </tbody>\n",
       "</table>\n"
      ],
      "text/plain": [
       "<pandas.io.formats.style.Styler at 0x212ad74d730>"
      ]
     },
     "metadata": {},
     "output_type": "display_data"
    },
    {
     "name": "stdout",
     "output_type": "stream",
     "text": [
      "\n",
      "\n"
     ]
    },
    {
     "data": {
      "text/markdown": [
       "**Row: 257 — Final Score: 1**"
      ],
      "text/plain": [
       "<IPython.core.display.Markdown object>"
      ]
     },
     "metadata": {},
     "output_type": "display_data"
    },
    {
     "data": {
      "text/html": [
       "<style type=\"text/css\">\n",
       "#T_d907a_row0_col1, #T_d907a_row0_col2, #T_d907a_row0_col3, #T_d907a_row0_col4, #T_d907a_row0_col5, #T_d907a_row0_col6, #T_d907a_row0_col7, #T_d907a_row0_col9, #T_d907a_row0_col10, #T_d907a_row0_col11, #T_d907a_row0_col12, #T_d907a_row0_col13 {\n",
       "  background-color: #e5f8fa;\n",
       "  color: black;\n",
       "}\n",
       "#T_d907a_row0_col8 {\n",
       "  background-color: #efecc3;\n",
       "  color: black;\n",
       "}\n",
       "</style>\n",
       "<table id=\"T_d907a_\">\n",
       "  <thead>\n",
       "    <tr>\n",
       "      <th class=\"blank level0\" >&nbsp;</th>\n",
       "      <th class=\"col_heading level0 col0\" >Test ID</th>\n",
       "      <th class=\"col_heading level0 col1\" >CRIM</th>\n",
       "      <th class=\"col_heading level0 col2\" >ZN</th>\n",
       "      <th class=\"col_heading level0 col3\" >INDUS</th>\n",
       "      <th class=\"col_heading level0 col4\" >CHAS</th>\n",
       "      <th class=\"col_heading level0 col5\" >NOX</th>\n",
       "      <th class=\"col_heading level0 col6\" >RM</th>\n",
       "      <th class=\"col_heading level0 col7\" >AGE</th>\n",
       "      <th class=\"col_heading level0 col8\" >DIS</th>\n",
       "      <th class=\"col_heading level0 col9\" >RAD</th>\n",
       "      <th class=\"col_heading level0 col10\" >TAX</th>\n",
       "      <th class=\"col_heading level0 col11\" >PTRATIO</th>\n",
       "      <th class=\"col_heading level0 col12\" >B</th>\n",
       "      <th class=\"col_heading level0 col13\" >LSTAT</th>\n",
       "    </tr>\n",
       "  </thead>\n",
       "  <tbody>\n",
       "    <tr>\n",
       "      <th id=\"T_d907a_level0_row0\" class=\"row_heading level0 row0\" >0</th>\n",
       "      <td id=\"T_d907a_row0_col0\" class=\"data row0 col0\" ></td>\n",
       "      <td id=\"T_d907a_row0_col1\" class=\"data row0 col1\" >0.611540</td>\n",
       "      <td id=\"T_d907a_row0_col2\" class=\"data row0 col2\" >20.000000</td>\n",
       "      <td id=\"T_d907a_row0_col3\" class=\"data row0 col3\" >3.970000</td>\n",
       "      <td id=\"T_d907a_row0_col4\" class=\"data row0 col4\" >0.000000</td>\n",
       "      <td id=\"T_d907a_row0_col5\" class=\"data row0 col5\" >0.647000</td>\n",
       "      <td id=\"T_d907a_row0_col6\" class=\"data row0 col6\" >8.704000</td>\n",
       "      <td id=\"T_d907a_row0_col7\" class=\"data row0 col7\" >86.900000</td>\n",
       "      <td id=\"T_d907a_row0_col8\" class=\"data row0 col8\" >1.801000</td>\n",
       "      <td id=\"T_d907a_row0_col9\" class=\"data row0 col9\" >5.000000</td>\n",
       "      <td id=\"T_d907a_row0_col10\" class=\"data row0 col10\" >264.000000</td>\n",
       "      <td id=\"T_d907a_row0_col11\" class=\"data row0 col11\" >13.000000</td>\n",
       "      <td id=\"T_d907a_row0_col12\" class=\"data row0 col12\" >389.700000</td>\n",
       "      <td id=\"T_d907a_row0_col13\" class=\"data row0 col13\" >5.120000</td>\n",
       "    </tr>\n",
       "    <tr>\n",
       "      <th id=\"T_d907a_level0_row1\" class=\"row_heading level0 row1\" >1</th>\n",
       "      <td id=\"T_d907a_row1_col0\" class=\"data row1 col0\" >SIMILAR_PREVIOUS</td>\n",
       "      <td id=\"T_d907a_row1_col1\" class=\"data row1 col1\" ></td>\n",
       "      <td id=\"T_d907a_row1_col2\" class=\"data row1 col2\" ></td>\n",
       "      <td id=\"T_d907a_row1_col3\" class=\"data row1 col3\" ></td>\n",
       "      <td id=\"T_d907a_row1_col4\" class=\"data row1 col4\" ></td>\n",
       "      <td id=\"T_d907a_row1_col5\" class=\"data row1 col5\" ></td>\n",
       "      <td id=\"T_d907a_row1_col6\" class=\"data row1 col6\" ></td>\n",
       "      <td id=\"T_d907a_row1_col7\" class=\"data row1 col7\" ></td>\n",
       "      <td id=\"T_d907a_row1_col8\" class=\"data row1 col8\" >✔</td>\n",
       "      <td id=\"T_d907a_row1_col9\" class=\"data row1 col9\" ></td>\n",
       "      <td id=\"T_d907a_row1_col10\" class=\"data row1 col10\" ></td>\n",
       "      <td id=\"T_d907a_row1_col11\" class=\"data row1 col11\" ></td>\n",
       "      <td id=\"T_d907a_row1_col12\" class=\"data row1 col12\" ></td>\n",
       "      <td id=\"T_d907a_row1_col13\" class=\"data row1 col13\" ></td>\n",
       "    </tr>\n",
       "  </tbody>\n",
       "</table>\n"
      ],
      "text/plain": [
       "<pandas.io.formats.style.Styler at 0x212ad74d730>"
      ]
     },
     "metadata": {},
     "output_type": "display_data"
    },
    {
     "name": "stdout",
     "output_type": "stream",
     "text": [
      "\n",
      "\n"
     ]
    },
    {
     "data": {
      "text/markdown": [
       "**Row: 195 — Final Score: 1**"
      ],
      "text/plain": [
       "<IPython.core.display.Markdown object>"
      ]
     },
     "metadata": {},
     "output_type": "display_data"
    },
    {
     "data": {
      "text/html": [
       "<style type=\"text/css\">\n",
       "#T_9ea74_row0_col1, #T_9ea74_row0_col2, #T_9ea74_row0_col4, #T_9ea74_row0_col5, #T_9ea74_row0_col6, #T_9ea74_row0_col7, #T_9ea74_row0_col8, #T_9ea74_row0_col9, #T_9ea74_row0_col10, #T_9ea74_row0_col11, #T_9ea74_row0_col12, #T_9ea74_row0_col13 {\n",
       "  background-color: #e5f8fa;\n",
       "  color: black;\n",
       "}\n",
       "#T_9ea74_row0_col3 {\n",
       "  background-color: #efecc3;\n",
       "  color: black;\n",
       "}\n",
       "</style>\n",
       "<table id=\"T_9ea74_\">\n",
       "  <thead>\n",
       "    <tr>\n",
       "      <th class=\"blank level0\" >&nbsp;</th>\n",
       "      <th class=\"col_heading level0 col0\" >Test ID</th>\n",
       "      <th class=\"col_heading level0 col1\" >CRIM</th>\n",
       "      <th class=\"col_heading level0 col2\" >ZN</th>\n",
       "      <th class=\"col_heading level0 col3\" >INDUS</th>\n",
       "      <th class=\"col_heading level0 col4\" >CHAS</th>\n",
       "      <th class=\"col_heading level0 col5\" >NOX</th>\n",
       "      <th class=\"col_heading level0 col6\" >RM</th>\n",
       "      <th class=\"col_heading level0 col7\" >AGE</th>\n",
       "      <th class=\"col_heading level0 col8\" >DIS</th>\n",
       "      <th class=\"col_heading level0 col9\" >RAD</th>\n",
       "      <th class=\"col_heading level0 col10\" >TAX</th>\n",
       "      <th class=\"col_heading level0 col11\" >PTRATIO</th>\n",
       "      <th class=\"col_heading level0 col12\" >B</th>\n",
       "      <th class=\"col_heading level0 col13\" >LSTAT</th>\n",
       "    </tr>\n",
       "  </thead>\n",
       "  <tbody>\n",
       "    <tr>\n",
       "      <th id=\"T_9ea74_level0_row0\" class=\"row_heading level0 row0\" >0</th>\n",
       "      <td id=\"T_9ea74_row0_col0\" class=\"data row0 col0\" ></td>\n",
       "      <td id=\"T_9ea74_row0_col1\" class=\"data row0 col1\" >0.013810</td>\n",
       "      <td id=\"T_9ea74_row0_col2\" class=\"data row0 col2\" >80.000000</td>\n",
       "      <td id=\"T_9ea74_row0_col3\" class=\"data row0 col3\" >0.460000</td>\n",
       "      <td id=\"T_9ea74_row0_col4\" class=\"data row0 col4\" >0.000000</td>\n",
       "      <td id=\"T_9ea74_row0_col5\" class=\"data row0 col5\" >0.422000</td>\n",
       "      <td id=\"T_9ea74_row0_col6\" class=\"data row0 col6\" >7.875000</td>\n",
       "      <td id=\"T_9ea74_row0_col7\" class=\"data row0 col7\" >32.000000</td>\n",
       "      <td id=\"T_9ea74_row0_col8\" class=\"data row0 col8\" >5.648400</td>\n",
       "      <td id=\"T_9ea74_row0_col9\" class=\"data row0 col9\" >4.000000</td>\n",
       "      <td id=\"T_9ea74_row0_col10\" class=\"data row0 col10\" >255.000000</td>\n",
       "      <td id=\"T_9ea74_row0_col11\" class=\"data row0 col11\" >14.400000</td>\n",
       "      <td id=\"T_9ea74_row0_col12\" class=\"data row0 col12\" >394.230000</td>\n",
       "      <td id=\"T_9ea74_row0_col13\" class=\"data row0 col13\" >2.970000</td>\n",
       "    </tr>\n",
       "    <tr>\n",
       "      <th id=\"T_9ea74_level0_row1\" class=\"row_heading level0 row1\" >1</th>\n",
       "      <td id=\"T_9ea74_row1_col0\" class=\"data row1 col0\" >GREATER_THAN_ONE</td>\n",
       "      <td id=\"T_9ea74_row1_col1\" class=\"data row1 col1\" ></td>\n",
       "      <td id=\"T_9ea74_row1_col2\" class=\"data row1 col2\" ></td>\n",
       "      <td id=\"T_9ea74_row1_col3\" class=\"data row1 col3\" >✔</td>\n",
       "      <td id=\"T_9ea74_row1_col4\" class=\"data row1 col4\" ></td>\n",
       "      <td id=\"T_9ea74_row1_col5\" class=\"data row1 col5\" ></td>\n",
       "      <td id=\"T_9ea74_row1_col6\" class=\"data row1 col6\" ></td>\n",
       "      <td id=\"T_9ea74_row1_col7\" class=\"data row1 col7\" ></td>\n",
       "      <td id=\"T_9ea74_row1_col8\" class=\"data row1 col8\" ></td>\n",
       "      <td id=\"T_9ea74_row1_col9\" class=\"data row1 col9\" ></td>\n",
       "      <td id=\"T_9ea74_row1_col10\" class=\"data row1 col10\" ></td>\n",
       "      <td id=\"T_9ea74_row1_col11\" class=\"data row1 col11\" ></td>\n",
       "      <td id=\"T_9ea74_row1_col12\" class=\"data row1 col12\" ></td>\n",
       "      <td id=\"T_9ea74_row1_col13\" class=\"data row1 col13\" ></td>\n",
       "    </tr>\n",
       "  </tbody>\n",
       "</table>\n"
      ],
      "text/plain": [
       "<pandas.io.formats.style.Styler at 0x212afdb9160>"
      ]
     },
     "metadata": {},
     "output_type": "display_data"
    },
    {
     "name": "stdout",
     "output_type": "stream",
     "text": [
      "\n",
      "\n"
     ]
    },
    {
     "data": {
      "text/markdown": [
       "**Row: 252 — Final Score: 1**"
      ],
      "text/plain": [
       "<IPython.core.display.Markdown object>"
      ]
     },
     "metadata": {},
     "output_type": "display_data"
    },
    {
     "data": {
      "text/html": [
       "<style type=\"text/css\">\n",
       "#T_7def1_row0_col1, #T_7def1_row0_col2, #T_7def1_row0_col3, #T_7def1_row0_col4, #T_7def1_row0_col5, #T_7def1_row0_col6, #T_7def1_row0_col8, #T_7def1_row0_col10, #T_7def1_row0_col11, #T_7def1_row0_col12, #T_7def1_row0_col13 {\n",
       "  background-color: #e5f8fa;\n",
       "  color: black;\n",
       "}\n",
       "#T_7def1_row0_col7, #T_7def1_row0_col9 {\n",
       "  background-color: #efecc3;\n",
       "  color: black;\n",
       "}\n",
       "</style>\n",
       "<table id=\"T_7def1_\">\n",
       "  <thead>\n",
       "    <tr>\n",
       "      <th class=\"blank level0\" >&nbsp;</th>\n",
       "      <th class=\"col_heading level0 col0\" >Test ID</th>\n",
       "      <th class=\"col_heading level0 col1\" >CRIM</th>\n",
       "      <th class=\"col_heading level0 col2\" >ZN</th>\n",
       "      <th class=\"col_heading level0 col3\" >INDUS</th>\n",
       "      <th class=\"col_heading level0 col4\" >CHAS</th>\n",
       "      <th class=\"col_heading level0 col5\" >NOX</th>\n",
       "      <th class=\"col_heading level0 col6\" >RM</th>\n",
       "      <th class=\"col_heading level0 col7\" >AGE</th>\n",
       "      <th class=\"col_heading level0 col8\" >DIS</th>\n",
       "      <th class=\"col_heading level0 col9\" >RAD</th>\n",
       "      <th class=\"col_heading level0 col10\" >TAX</th>\n",
       "      <th class=\"col_heading level0 col11\" >PTRATIO</th>\n",
       "      <th class=\"col_heading level0 col12\" >B</th>\n",
       "      <th class=\"col_heading level0 col13\" >LSTAT</th>\n",
       "    </tr>\n",
       "  </thead>\n",
       "  <tbody>\n",
       "    <tr>\n",
       "      <th id=\"T_7def1_level0_row0\" class=\"row_heading level0 row0\" >0</th>\n",
       "      <td id=\"T_7def1_row0_col0\" class=\"data row0 col0\" ></td>\n",
       "      <td id=\"T_7def1_row0_col1\" class=\"data row0 col1\" >0.082210</td>\n",
       "      <td id=\"T_7def1_row0_col2\" class=\"data row0 col2\" >22.000000</td>\n",
       "      <td id=\"T_7def1_row0_col3\" class=\"data row0 col3\" >5.860000</td>\n",
       "      <td id=\"T_7def1_row0_col4\" class=\"data row0 col4\" >0.000000</td>\n",
       "      <td id=\"T_7def1_row0_col5\" class=\"data row0 col5\" >0.431000</td>\n",
       "      <td id=\"T_7def1_row0_col6\" class=\"data row0 col6\" >6.957000</td>\n",
       "      <td id=\"T_7def1_row0_col7\" class=\"data row0 col7\" >6.800000</td>\n",
       "      <td id=\"T_7def1_row0_col8\" class=\"data row0 col8\" >8.906700</td>\n",
       "      <td id=\"T_7def1_row0_col9\" class=\"data row0 col9\" >7.000000</td>\n",
       "      <td id=\"T_7def1_row0_col10\" class=\"data row0 col10\" >330.000000</td>\n",
       "      <td id=\"T_7def1_row0_col11\" class=\"data row0 col11\" >19.100000</td>\n",
       "      <td id=\"T_7def1_row0_col12\" class=\"data row0 col12\" >386.090000</td>\n",
       "      <td id=\"T_7def1_row0_col13\" class=\"data row0 col13\" >3.530000</td>\n",
       "    </tr>\n",
       "    <tr>\n",
       "      <th id=\"T_7def1_level0_row1\" class=\"row_heading level0 row1\" >1</th>\n",
       "      <td id=\"T_7def1_row1_col0\" class=\"data row1 col0\" >LARGER</td>\n",
       "      <td id=\"T_7def1_row1_col1\" class=\"data row1 col1\" ></td>\n",
       "      <td id=\"T_7def1_row1_col2\" class=\"data row1 col2\" ></td>\n",
       "      <td id=\"T_7def1_row1_col3\" class=\"data row1 col3\" ></td>\n",
       "      <td id=\"T_7def1_row1_col4\" class=\"data row1 col4\" ></td>\n",
       "      <td id=\"T_7def1_row1_col5\" class=\"data row1 col5\" ></td>\n",
       "      <td id=\"T_7def1_row1_col6\" class=\"data row1 col6\" ></td>\n",
       "      <td id=\"T_7def1_row1_col7\" class=\"data row1 col7\" >✔</td>\n",
       "      <td id=\"T_7def1_row1_col8\" class=\"data row1 col8\" ></td>\n",
       "      <td id=\"T_7def1_row1_col9\" class=\"data row1 col9\" >✔</td>\n",
       "      <td id=\"T_7def1_row1_col10\" class=\"data row1 col10\" ></td>\n",
       "      <td id=\"T_7def1_row1_col11\" class=\"data row1 col11\" ></td>\n",
       "      <td id=\"T_7def1_row1_col12\" class=\"data row1 col12\" ></td>\n",
       "      <td id=\"T_7def1_row1_col13\" class=\"data row1 col13\" ></td>\n",
       "    </tr>\n",
       "  </tbody>\n",
       "</table>\n"
      ],
      "text/plain": [
       "<pandas.io.formats.style.Styler at 0x212afdb9160>"
      ]
     },
     "metadata": {},
     "output_type": "display_data"
    },
    {
     "name": "stdout",
     "output_type": "stream",
     "text": [
      "\n"
     ]
    }
   ],
   "source": [
    "# To see the rows that were flagged the most by the process as having\n",
    "# exceptions, we call display_most_flagged_rows(). This indicates both\n",
    "# which rows were the most flagged, and gives some explanation for each. \n",
    "\n",
    "dc.display_most_flagged_rows()"
   ]
  },
  {
   "cell_type": "code",
   "execution_count": 18,
   "id": "c0c5d3b7",
   "metadata": {},
   "outputs": [
    {
     "data": {
      "text/html": [
       "<style type=\"text/css\">\n",
       "#T_abb0e_row0_col0, #T_abb0e_row0_col1, #T_abb0e_row0_col2, #T_abb0e_row0_col3, #T_abb0e_row0_col5, #T_abb0e_row0_col6, #T_abb0e_row0_col8, #T_abb0e_row0_col9, #T_abb0e_row0_col10, #T_abb0e_row0_col12, #T_abb0e_row1_col0, #T_abb0e_row1_col1, #T_abb0e_row1_col2, #T_abb0e_row1_col3, #T_abb0e_row1_col5, #T_abb0e_row1_col7, #T_abb0e_row1_col9, #T_abb0e_row1_col10, #T_abb0e_row1_col11, #T_abb0e_row1_col12, #T_abb0e_row2_col0, #T_abb0e_row2_col1, #T_abb0e_row2_col2, #T_abb0e_row2_col3, #T_abb0e_row2_col4, #T_abb0e_row2_col5, #T_abb0e_row2_col6, #T_abb0e_row2_col8, #T_abb0e_row2_col9, #T_abb0e_row2_col10, #T_abb0e_row2_col11, #T_abb0e_row2_col12, #T_abb0e_row3_col0, #T_abb0e_row3_col1, #T_abb0e_row3_col2, #T_abb0e_row3_col3, #T_abb0e_row3_col4, #T_abb0e_row3_col6, #T_abb0e_row3_col7, #T_abb0e_row3_col8, #T_abb0e_row3_col9, #T_abb0e_row3_col10, #T_abb0e_row3_col11, #T_abb0e_row3_col12, #T_abb0e_row4_col0, #T_abb0e_row4_col1, #T_abb0e_row4_col2, #T_abb0e_row4_col3, #T_abb0e_row4_col4, #T_abb0e_row4_col6, #T_abb0e_row4_col7, #T_abb0e_row4_col8, #T_abb0e_row4_col9, #T_abb0e_row4_col10, #T_abb0e_row4_col11, #T_abb0e_row4_col12, #T_abb0e_row5_col0, #T_abb0e_row5_col1, #T_abb0e_row5_col3, #T_abb0e_row5_col4, #T_abb0e_row5_col5, #T_abb0e_row5_col6, #T_abb0e_row5_col7, #T_abb0e_row5_col8, #T_abb0e_row5_col9, #T_abb0e_row5_col10, #T_abb0e_row5_col11, #T_abb0e_row5_col12, #T_abb0e_row6_col0, #T_abb0e_row6_col1, #T_abb0e_row6_col3, #T_abb0e_row6_col4, #T_abb0e_row6_col5, #T_abb0e_row6_col6, #T_abb0e_row6_col7, #T_abb0e_row6_col8, #T_abb0e_row6_col9, #T_abb0e_row6_col10, #T_abb0e_row6_col12, #T_abb0e_row7_col0, #T_abb0e_row7_col1, #T_abb0e_row7_col2, #T_abb0e_row7_col3, #T_abb0e_row7_col4, #T_abb0e_row7_col5, #T_abb0e_row7_col6, #T_abb0e_row7_col8, #T_abb0e_row7_col9, #T_abb0e_row7_col10, #T_abb0e_row7_col11, #T_abb0e_row7_col12, #T_abb0e_row8_col0, #T_abb0e_row8_col1, #T_abb0e_row8_col3, #T_abb0e_row8_col4, #T_abb0e_row8_col5, #T_abb0e_row8_col6, #T_abb0e_row8_col7, #T_abb0e_row8_col8, #T_abb0e_row8_col9, #T_abb0e_row8_col10, #T_abb0e_row8_col11, #T_abb0e_row8_col12, #T_abb0e_row9_col0, #T_abb0e_row9_col1, #T_abb0e_row9_col2, #T_abb0e_row9_col3, #T_abb0e_row9_col4, #T_abb0e_row9_col5, #T_abb0e_row9_col7, #T_abb0e_row9_col9, #T_abb0e_row9_col10, #T_abb0e_row9_col11, #T_abb0e_row9_col12 {\n",
       "  background-color: #e5f8fa;\n",
       "  color: black;\n",
       "}\n",
       "#T_abb0e_row0_col4, #T_abb0e_row0_col7, #T_abb0e_row0_col11, #T_abb0e_row1_col4, #T_abb0e_row1_col6, #T_abb0e_row1_col8, #T_abb0e_row2_col7, #T_abb0e_row3_col5, #T_abb0e_row4_col5, #T_abb0e_row5_col2, #T_abb0e_row6_col2, #T_abb0e_row6_col11, #T_abb0e_row7_col7, #T_abb0e_row8_col2, #T_abb0e_row9_col6, #T_abb0e_row9_col8 {\n",
       "  background-color: #efecc3;\n",
       "  color: black;\n",
       "}\n",
       "#T_abb0e_row0_col13, #T_abb0e_row1_col13, #T_abb0e_row2_col13, #T_abb0e_row3_col13, #T_abb0e_row4_col13, #T_abb0e_row5_col13, #T_abb0e_row6_col13, #T_abb0e_row7_col13, #T_abb0e_row8_col13, #T_abb0e_row9_col13 {\n",
       "  background-color: white;\n",
       "  color: black;\n",
       "}\n",
       "</style>\n",
       "<table id=\"T_abb0e_\">\n",
       "  <thead>\n",
       "    <tr>\n",
       "      <th class=\"blank level0\" >&nbsp;</th>\n",
       "      <th class=\"col_heading level0 col0\" >CRIM</th>\n",
       "      <th class=\"col_heading level0 col1\" >ZN</th>\n",
       "      <th class=\"col_heading level0 col2\" >INDUS</th>\n",
       "      <th class=\"col_heading level0 col3\" >CHAS</th>\n",
       "      <th class=\"col_heading level0 col4\" >NOX</th>\n",
       "      <th class=\"col_heading level0 col5\" >RM</th>\n",
       "      <th class=\"col_heading level0 col6\" >AGE</th>\n",
       "      <th class=\"col_heading level0 col7\" >DIS</th>\n",
       "      <th class=\"col_heading level0 col8\" >RAD</th>\n",
       "      <th class=\"col_heading level0 col9\" >TAX</th>\n",
       "      <th class=\"col_heading level0 col10\" >PTRATIO</th>\n",
       "      <th class=\"col_heading level0 col11\" >B</th>\n",
       "      <th class=\"col_heading level0 col12\" >LSTAT</th>\n",
       "      <th class=\"col_heading level0 col13\" >FINAL SCORE</th>\n",
       "    </tr>\n",
       "  </thead>\n",
       "  <tbody>\n",
       "    <tr>\n",
       "      <th id=\"T_abb0e_level0_row0\" class=\"row_heading level0 row0\" >450</th>\n",
       "      <td id=\"T_abb0e_row0_col0\" class=\"data row0 col0\" >6.717720</td>\n",
       "      <td id=\"T_abb0e_row0_col1\" class=\"data row0 col1\" >0.000000</td>\n",
       "      <td id=\"T_abb0e_row0_col2\" class=\"data row0 col2\" >18.100000</td>\n",
       "      <td id=\"T_abb0e_row0_col3\" class=\"data row0 col3\" >0.000000</td>\n",
       "      <td id=\"T_abb0e_row0_col4\" class=\"data row0 col4\" >0.713000</td>\n",
       "      <td id=\"T_abb0e_row0_col5\" class=\"data row0 col5\" >6.749000</td>\n",
       "      <td id=\"T_abb0e_row0_col6\" class=\"data row0 col6\" >92.600000</td>\n",
       "      <td id=\"T_abb0e_row0_col7\" class=\"data row0 col7\" >2.323600</td>\n",
       "      <td id=\"T_abb0e_row0_col8\" class=\"data row0 col8\" >24.000000</td>\n",
       "      <td id=\"T_abb0e_row0_col9\" class=\"data row0 col9\" >666.000000</td>\n",
       "      <td id=\"T_abb0e_row0_col10\" class=\"data row0 col10\" >20.200000</td>\n",
       "      <td id=\"T_abb0e_row0_col11\" class=\"data row0 col11\" >0.320000</td>\n",
       "      <td id=\"T_abb0e_row0_col12\" class=\"data row0 col12\" >17.440000</td>\n",
       "      <td id=\"T_abb0e_row0_col13\" class=\"data row0 col13\" >3</td>\n",
       "    </tr>\n",
       "    <tr>\n",
       "      <th id=\"T_abb0e_level0_row1\" class=\"row_heading level0 row1\" >41</th>\n",
       "      <td id=\"T_abb0e_row1_col0\" class=\"data row1 col0\" >0.127440</td>\n",
       "      <td id=\"T_abb0e_row1_col1\" class=\"data row1 col1\" >0.000000</td>\n",
       "      <td id=\"T_abb0e_row1_col2\" class=\"data row1 col2\" >6.910000</td>\n",
       "      <td id=\"T_abb0e_row1_col3\" class=\"data row1 col3\" >0.000000</td>\n",
       "      <td id=\"T_abb0e_row1_col4\" class=\"data row1 col4\" >0.448000</td>\n",
       "      <td id=\"T_abb0e_row1_col5\" class=\"data row1 col5\" >6.770000</td>\n",
       "      <td id=\"T_abb0e_row1_col6\" class=\"data row1 col6\" >2.900000</td>\n",
       "      <td id=\"T_abb0e_row1_col7\" class=\"data row1 col7\" >5.720900</td>\n",
       "      <td id=\"T_abb0e_row1_col8\" class=\"data row1 col8\" >3.000000</td>\n",
       "      <td id=\"T_abb0e_row1_col9\" class=\"data row1 col9\" >233.000000</td>\n",
       "      <td id=\"T_abb0e_row1_col10\" class=\"data row1 col10\" >17.900000</td>\n",
       "      <td id=\"T_abb0e_row1_col11\" class=\"data row1 col11\" >385.410000</td>\n",
       "      <td id=\"T_abb0e_row1_col12\" class=\"data row1 col12\" >4.840000</td>\n",
       "      <td id=\"T_abb0e_row1_col13\" class=\"data row1 col13\" >3</td>\n",
       "    </tr>\n",
       "    <tr>\n",
       "      <th id=\"T_abb0e_level0_row2\" class=\"row_heading level0 row2\" >356</th>\n",
       "      <td id=\"T_abb0e_row2_col0\" class=\"data row2 col0\" >8.982960</td>\n",
       "      <td id=\"T_abb0e_row2_col1\" class=\"data row2 col1\" >0.000000</td>\n",
       "      <td id=\"T_abb0e_row2_col2\" class=\"data row2 col2\" >18.100000</td>\n",
       "      <td id=\"T_abb0e_row2_col3\" class=\"data row2 col3\" >1.000000</td>\n",
       "      <td id=\"T_abb0e_row2_col4\" class=\"data row2 col4\" >0.770000</td>\n",
       "      <td id=\"T_abb0e_row2_col5\" class=\"data row2 col5\" >6.212000</td>\n",
       "      <td id=\"T_abb0e_row2_col6\" class=\"data row2 col6\" >97.400000</td>\n",
       "      <td id=\"T_abb0e_row2_col7\" class=\"data row2 col7\" >2.122200</td>\n",
       "      <td id=\"T_abb0e_row2_col8\" class=\"data row2 col8\" >24.000000</td>\n",
       "      <td id=\"T_abb0e_row2_col9\" class=\"data row2 col9\" >666.000000</td>\n",
       "      <td id=\"T_abb0e_row2_col10\" class=\"data row2 col10\" >20.200000</td>\n",
       "      <td id=\"T_abb0e_row2_col11\" class=\"data row2 col11\" >377.730000</td>\n",
       "      <td id=\"T_abb0e_row2_col12\" class=\"data row2 col12\" >17.600000</td>\n",
       "      <td id=\"T_abb0e_row2_col13\" class=\"data row2 col13\" >1</td>\n",
       "    </tr>\n",
       "    <tr>\n",
       "      <th id=\"T_abb0e_level0_row3\" class=\"row_heading level0 row3\" >365</th>\n",
       "      <td id=\"T_abb0e_row3_col0\" class=\"data row3 col0\" >4.555870</td>\n",
       "      <td id=\"T_abb0e_row3_col1\" class=\"data row3 col1\" >0.000000</td>\n",
       "      <td id=\"T_abb0e_row3_col2\" class=\"data row3 col2\" >18.100000</td>\n",
       "      <td id=\"T_abb0e_row3_col3\" class=\"data row3 col3\" >0.000000</td>\n",
       "      <td id=\"T_abb0e_row3_col4\" class=\"data row3 col4\" >0.718000</td>\n",
       "      <td id=\"T_abb0e_row3_col5\" class=\"data row3 col5\" >3.561000</td>\n",
       "      <td id=\"T_abb0e_row3_col6\" class=\"data row3 col6\" >87.900000</td>\n",
       "      <td id=\"T_abb0e_row3_col7\" class=\"data row3 col7\" >1.613200</td>\n",
       "      <td id=\"T_abb0e_row3_col8\" class=\"data row3 col8\" >24.000000</td>\n",
       "      <td id=\"T_abb0e_row3_col9\" class=\"data row3 col9\" >666.000000</td>\n",
       "      <td id=\"T_abb0e_row3_col10\" class=\"data row3 col10\" >20.200000</td>\n",
       "      <td id=\"T_abb0e_row3_col11\" class=\"data row3 col11\" >354.700000</td>\n",
       "      <td id=\"T_abb0e_row3_col12\" class=\"data row3 col12\" >7.120000</td>\n",
       "      <td id=\"T_abb0e_row3_col13\" class=\"data row3 col13\" >1</td>\n",
       "    </tr>\n",
       "    <tr>\n",
       "      <th id=\"T_abb0e_level0_row4\" class=\"row_heading level0 row4\" >367</th>\n",
       "      <td id=\"T_abb0e_row4_col0\" class=\"data row4 col0\" >13.522200</td>\n",
       "      <td id=\"T_abb0e_row4_col1\" class=\"data row4 col1\" >0.000000</td>\n",
       "      <td id=\"T_abb0e_row4_col2\" class=\"data row4 col2\" >18.100000</td>\n",
       "      <td id=\"T_abb0e_row4_col3\" class=\"data row4 col3\" >0.000000</td>\n",
       "      <td id=\"T_abb0e_row4_col4\" class=\"data row4 col4\" >0.631000</td>\n",
       "      <td id=\"T_abb0e_row4_col5\" class=\"data row4 col5\" >3.863000</td>\n",
       "      <td id=\"T_abb0e_row4_col6\" class=\"data row4 col6\" >100.000000</td>\n",
       "      <td id=\"T_abb0e_row4_col7\" class=\"data row4 col7\" >1.510600</td>\n",
       "      <td id=\"T_abb0e_row4_col8\" class=\"data row4 col8\" >24.000000</td>\n",
       "      <td id=\"T_abb0e_row4_col9\" class=\"data row4 col9\" >666.000000</td>\n",
       "      <td id=\"T_abb0e_row4_col10\" class=\"data row4 col10\" >20.200000</td>\n",
       "      <td id=\"T_abb0e_row4_col11\" class=\"data row4 col11\" >131.420000</td>\n",
       "      <td id=\"T_abb0e_row4_col12\" class=\"data row4 col12\" >13.330000</td>\n",
       "      <td id=\"T_abb0e_row4_col13\" class=\"data row4 col13\" >1</td>\n",
       "    </tr>\n",
       "    <tr>\n",
       "      <th id=\"T_abb0e_level0_row5\" class=\"row_heading level0 row5\" >56</th>\n",
       "      <td id=\"T_abb0e_row5_col0\" class=\"data row5 col0\" >0.020550</td>\n",
       "      <td id=\"T_abb0e_row5_col1\" class=\"data row5 col1\" >85.000000</td>\n",
       "      <td id=\"T_abb0e_row5_col2\" class=\"data row5 col2\" >0.740000</td>\n",
       "      <td id=\"T_abb0e_row5_col3\" class=\"data row5 col3\" >0.000000</td>\n",
       "      <td id=\"T_abb0e_row5_col4\" class=\"data row5 col4\" >0.410000</td>\n",
       "      <td id=\"T_abb0e_row5_col5\" class=\"data row5 col5\" >6.383000</td>\n",
       "      <td id=\"T_abb0e_row5_col6\" class=\"data row5 col6\" >35.700000</td>\n",
       "      <td id=\"T_abb0e_row5_col7\" class=\"data row5 col7\" >9.187600</td>\n",
       "      <td id=\"T_abb0e_row5_col8\" class=\"data row5 col8\" >2.000000</td>\n",
       "      <td id=\"T_abb0e_row5_col9\" class=\"data row5 col9\" >313.000000</td>\n",
       "      <td id=\"T_abb0e_row5_col10\" class=\"data row5 col10\" >17.300000</td>\n",
       "      <td id=\"T_abb0e_row5_col11\" class=\"data row5 col11\" >396.900000</td>\n",
       "      <td id=\"T_abb0e_row5_col12\" class=\"data row5 col12\" >5.770000</td>\n",
       "      <td id=\"T_abb0e_row5_col13\" class=\"data row5 col13\" >1</td>\n",
       "    </tr>\n",
       "    <tr>\n",
       "      <th id=\"T_abb0e_level0_row6\" class=\"row_heading level0 row6\" >102</th>\n",
       "      <td id=\"T_abb0e_row6_col0\" class=\"data row6 col0\" >0.228760</td>\n",
       "      <td id=\"T_abb0e_row6_col1\" class=\"data row6 col1\" >0.000000</td>\n",
       "      <td id=\"T_abb0e_row6_col2\" class=\"data row6 col2\" >8.560000</td>\n",
       "      <td id=\"T_abb0e_row6_col3\" class=\"data row6 col3\" >0.000000</td>\n",
       "      <td id=\"T_abb0e_row6_col4\" class=\"data row6 col4\" >0.520000</td>\n",
       "      <td id=\"T_abb0e_row6_col5\" class=\"data row6 col5\" >6.405000</td>\n",
       "      <td id=\"T_abb0e_row6_col6\" class=\"data row6 col6\" >85.400000</td>\n",
       "      <td id=\"T_abb0e_row6_col7\" class=\"data row6 col7\" >2.714700</td>\n",
       "      <td id=\"T_abb0e_row6_col8\" class=\"data row6 col8\" >5.000000</td>\n",
       "      <td id=\"T_abb0e_row6_col9\" class=\"data row6 col9\" >384.000000</td>\n",
       "      <td id=\"T_abb0e_row6_col10\" class=\"data row6 col10\" >20.900000</td>\n",
       "      <td id=\"T_abb0e_row6_col11\" class=\"data row6 col11\" >70.800000</td>\n",
       "      <td id=\"T_abb0e_row6_col12\" class=\"data row6 col12\" >10.630000</td>\n",
       "      <td id=\"T_abb0e_row6_col13\" class=\"data row6 col13\" >1</td>\n",
       "    </tr>\n",
       "    <tr>\n",
       "      <th id=\"T_abb0e_level0_row7\" class=\"row_heading level0 row7\" >257</th>\n",
       "      <td id=\"T_abb0e_row7_col0\" class=\"data row7 col0\" >0.611540</td>\n",
       "      <td id=\"T_abb0e_row7_col1\" class=\"data row7 col1\" >20.000000</td>\n",
       "      <td id=\"T_abb0e_row7_col2\" class=\"data row7 col2\" >3.970000</td>\n",
       "      <td id=\"T_abb0e_row7_col3\" class=\"data row7 col3\" >0.000000</td>\n",
       "      <td id=\"T_abb0e_row7_col4\" class=\"data row7 col4\" >0.647000</td>\n",
       "      <td id=\"T_abb0e_row7_col5\" class=\"data row7 col5\" >8.704000</td>\n",
       "      <td id=\"T_abb0e_row7_col6\" class=\"data row7 col6\" >86.900000</td>\n",
       "      <td id=\"T_abb0e_row7_col7\" class=\"data row7 col7\" >1.801000</td>\n",
       "      <td id=\"T_abb0e_row7_col8\" class=\"data row7 col8\" >5.000000</td>\n",
       "      <td id=\"T_abb0e_row7_col9\" class=\"data row7 col9\" >264.000000</td>\n",
       "      <td id=\"T_abb0e_row7_col10\" class=\"data row7 col10\" >13.000000</td>\n",
       "      <td id=\"T_abb0e_row7_col11\" class=\"data row7 col11\" >389.700000</td>\n",
       "      <td id=\"T_abb0e_row7_col12\" class=\"data row7 col12\" >5.120000</td>\n",
       "      <td id=\"T_abb0e_row7_col13\" class=\"data row7 col13\" >1</td>\n",
       "    </tr>\n",
       "    <tr>\n",
       "      <th id=\"T_abb0e_level0_row8\" class=\"row_heading level0 row8\" >195</th>\n",
       "      <td id=\"T_abb0e_row8_col0\" class=\"data row8 col0\" >0.013810</td>\n",
       "      <td id=\"T_abb0e_row8_col1\" class=\"data row8 col1\" >80.000000</td>\n",
       "      <td id=\"T_abb0e_row8_col2\" class=\"data row8 col2\" >0.460000</td>\n",
       "      <td id=\"T_abb0e_row8_col3\" class=\"data row8 col3\" >0.000000</td>\n",
       "      <td id=\"T_abb0e_row8_col4\" class=\"data row8 col4\" >0.422000</td>\n",
       "      <td id=\"T_abb0e_row8_col5\" class=\"data row8 col5\" >7.875000</td>\n",
       "      <td id=\"T_abb0e_row8_col6\" class=\"data row8 col6\" >32.000000</td>\n",
       "      <td id=\"T_abb0e_row8_col7\" class=\"data row8 col7\" >5.648400</td>\n",
       "      <td id=\"T_abb0e_row8_col8\" class=\"data row8 col8\" >4.000000</td>\n",
       "      <td id=\"T_abb0e_row8_col9\" class=\"data row8 col9\" >255.000000</td>\n",
       "      <td id=\"T_abb0e_row8_col10\" class=\"data row8 col10\" >14.400000</td>\n",
       "      <td id=\"T_abb0e_row8_col11\" class=\"data row8 col11\" >394.230000</td>\n",
       "      <td id=\"T_abb0e_row8_col12\" class=\"data row8 col12\" >2.970000</td>\n",
       "      <td id=\"T_abb0e_row8_col13\" class=\"data row8 col13\" >1</td>\n",
       "    </tr>\n",
       "    <tr>\n",
       "      <th id=\"T_abb0e_level0_row9\" class=\"row_heading level0 row9\" >252</th>\n",
       "      <td id=\"T_abb0e_row9_col0\" class=\"data row9 col0\" >0.082210</td>\n",
       "      <td id=\"T_abb0e_row9_col1\" class=\"data row9 col1\" >22.000000</td>\n",
       "      <td id=\"T_abb0e_row9_col2\" class=\"data row9 col2\" >5.860000</td>\n",
       "      <td id=\"T_abb0e_row9_col3\" class=\"data row9 col3\" >0.000000</td>\n",
       "      <td id=\"T_abb0e_row9_col4\" class=\"data row9 col4\" >0.431000</td>\n",
       "      <td id=\"T_abb0e_row9_col5\" class=\"data row9 col5\" >6.957000</td>\n",
       "      <td id=\"T_abb0e_row9_col6\" class=\"data row9 col6\" >6.800000</td>\n",
       "      <td id=\"T_abb0e_row9_col7\" class=\"data row9 col7\" >8.906700</td>\n",
       "      <td id=\"T_abb0e_row9_col8\" class=\"data row9 col8\" >7.000000</td>\n",
       "      <td id=\"T_abb0e_row9_col9\" class=\"data row9 col9\" >330.000000</td>\n",
       "      <td id=\"T_abb0e_row9_col10\" class=\"data row9 col10\" >19.100000</td>\n",
       "      <td id=\"T_abb0e_row9_col11\" class=\"data row9 col11\" >386.090000</td>\n",
       "      <td id=\"T_abb0e_row9_col12\" class=\"data row9 col12\" >3.530000</td>\n",
       "      <td id=\"T_abb0e_row9_col13\" class=\"data row9 col13\" >1</td>\n",
       "    </tr>\n",
       "  </tbody>\n",
       "</table>\n"
      ],
      "text/plain": [
       "<pandas.io.formats.style.Styler at 0x212ad72dbe0>"
      ]
     },
     "metadata": {},
     "output_type": "display_data"
    }
   ],
   "source": [
    "# Display the most flagged rows without the explainations\n",
    "\n",
    "dc.display_most_flagged_rows(with_results=False)"
   ]
  },
  {
   "cell_type": "code",
   "execution_count": 19,
   "id": "87aa3062",
   "metadata": {},
   "outputs": [
    {
     "data": {
      "text/plain": [
       "[('GREATER_THAN_ONE', 'B'),\n",
       " ('LARGER', '\"B\" AND \"NOX\"'),\n",
       " ('LARGER', '\"B\" AND \"DIS\"')]"
      ]
     },
     "execution_count": 19,
     "metadata": {},
     "output_type": "execute_result"
    }
   ],
   "source": [
    "# To determine why a specific row was flagged, call get_results_by_row_id()\n",
    "# This returns a list of the tests where exceptions were found, and the columns\n",
    "# involved. \n",
    "\n",
    "dc.get_results_by_row_id(450)"
   ]
  },
  {
   "cell_type": "code",
   "execution_count": 20,
   "id": "8ef7fa75",
   "metadata": {
    "scrolled": false
   },
   "outputs": [
    {
     "data": {
      "text/html": [
       "<div>\n",
       "<style scoped>\n",
       "    .dataframe tbody tr th:only-of-type {\n",
       "        vertical-align: middle;\n",
       "    }\n",
       "\n",
       "    .dataframe tbody tr th {\n",
       "        vertical-align: top;\n",
       "    }\n",
       "\n",
       "    .dataframe thead th {\n",
       "        text-align: right;\n",
       "    }\n",
       "</style>\n",
       "<table border=\"1\" class=\"dataframe\">\n",
       "  <thead>\n",
       "    <tr style=\"text-align: right;\">\n",
       "      <th></th>\n",
       "      <th>CRIM</th>\n",
       "      <th>ZN</th>\n",
       "      <th>INDUS</th>\n",
       "      <th>CHAS</th>\n",
       "      <th>NOX</th>\n",
       "      <th>RM</th>\n",
       "      <th>AGE</th>\n",
       "      <th>DIS</th>\n",
       "      <th>RAD</th>\n",
       "      <th>TAX</th>\n",
       "      <th>PTRATIO</th>\n",
       "      <th>B</th>\n",
       "      <th>LSTAT</th>\n",
       "      <th>FINAL SCORE</th>\n",
       "    </tr>\n",
       "  </thead>\n",
       "  <tbody>\n",
       "    <tr>\n",
       "      <th>0</th>\n",
       "      <td>0.00632</td>\n",
       "      <td>18.0</td>\n",
       "      <td>2.31</td>\n",
       "      <td>0.0</td>\n",
       "      <td>0.538</td>\n",
       "      <td>6.575</td>\n",
       "      <td>65.2</td>\n",
       "      <td>4.0900</td>\n",
       "      <td>1.0</td>\n",
       "      <td>296.0</td>\n",
       "      <td>15.3</td>\n",
       "      <td>396.90</td>\n",
       "      <td>4.98</td>\n",
       "      <td>0</td>\n",
       "    </tr>\n",
       "    <tr>\n",
       "      <th>342</th>\n",
       "      <td>0.02498</td>\n",
       "      <td>0.0</td>\n",
       "      <td>1.89</td>\n",
       "      <td>0.0</td>\n",
       "      <td>0.518</td>\n",
       "      <td>6.540</td>\n",
       "      <td>59.7</td>\n",
       "      <td>6.2669</td>\n",
       "      <td>1.0</td>\n",
       "      <td>422.0</td>\n",
       "      <td>15.9</td>\n",
       "      <td>389.96</td>\n",
       "      <td>8.65</td>\n",
       "      <td>0</td>\n",
       "    </tr>\n",
       "    <tr>\n",
       "      <th>341</th>\n",
       "      <td>0.01301</td>\n",
       "      <td>35.0</td>\n",
       "      <td>1.52</td>\n",
       "      <td>0.0</td>\n",
       "      <td>0.442</td>\n",
       "      <td>7.241</td>\n",
       "      <td>49.3</td>\n",
       "      <td>7.0379</td>\n",
       "      <td>1.0</td>\n",
       "      <td>284.0</td>\n",
       "      <td>15.5</td>\n",
       "      <td>394.74</td>\n",
       "      <td>5.49</td>\n",
       "      <td>0</td>\n",
       "    </tr>\n",
       "    <tr>\n",
       "      <th>340</th>\n",
       "      <td>0.06151</td>\n",
       "      <td>0.0</td>\n",
       "      <td>5.19</td>\n",
       "      <td>0.0</td>\n",
       "      <td>0.515</td>\n",
       "      <td>5.968</td>\n",
       "      <td>58.5</td>\n",
       "      <td>4.8122</td>\n",
       "      <td>5.0</td>\n",
       "      <td>224.0</td>\n",
       "      <td>20.2</td>\n",
       "      <td>396.90</td>\n",
       "      <td>9.29</td>\n",
       "      <td>0</td>\n",
       "    </tr>\n",
       "    <tr>\n",
       "      <th>339</th>\n",
       "      <td>0.05497</td>\n",
       "      <td>0.0</td>\n",
       "      <td>5.19</td>\n",
       "      <td>0.0</td>\n",
       "      <td>0.515</td>\n",
       "      <td>5.985</td>\n",
       "      <td>45.4</td>\n",
       "      <td>4.8122</td>\n",
       "      <td>5.0</td>\n",
       "      <td>224.0</td>\n",
       "      <td>20.2</td>\n",
       "      <td>396.90</td>\n",
       "      <td>9.74</td>\n",
       "      <td>0</td>\n",
       "    </tr>\n",
       "    <tr>\n",
       "      <th>338</th>\n",
       "      <td>0.03306</td>\n",
       "      <td>0.0</td>\n",
       "      <td>5.19</td>\n",
       "      <td>0.0</td>\n",
       "      <td>0.515</td>\n",
       "      <td>6.059</td>\n",
       "      <td>37.3</td>\n",
       "      <td>4.8122</td>\n",
       "      <td>5.0</td>\n",
       "      <td>224.0</td>\n",
       "      <td>20.2</td>\n",
       "      <td>396.14</td>\n",
       "      <td>8.51</td>\n",
       "      <td>0</td>\n",
       "    </tr>\n",
       "    <tr>\n",
       "      <th>337</th>\n",
       "      <td>0.03041</td>\n",
       "      <td>0.0</td>\n",
       "      <td>5.19</td>\n",
       "      <td>0.0</td>\n",
       "      <td>0.515</td>\n",
       "      <td>5.895</td>\n",
       "      <td>59.6</td>\n",
       "      <td>5.6150</td>\n",
       "      <td>5.0</td>\n",
       "      <td>224.0</td>\n",
       "      <td>20.2</td>\n",
       "      <td>394.81</td>\n",
       "      <td>10.56</td>\n",
       "      <td>0</td>\n",
       "    </tr>\n",
       "    <tr>\n",
       "      <th>336</th>\n",
       "      <td>0.03427</td>\n",
       "      <td>0.0</td>\n",
       "      <td>5.19</td>\n",
       "      <td>0.0</td>\n",
       "      <td>0.515</td>\n",
       "      <td>5.869</td>\n",
       "      <td>46.3</td>\n",
       "      <td>5.2311</td>\n",
       "      <td>5.0</td>\n",
       "      <td>224.0</td>\n",
       "      <td>20.2</td>\n",
       "      <td>396.90</td>\n",
       "      <td>9.80</td>\n",
       "      <td>0</td>\n",
       "    </tr>\n",
       "    <tr>\n",
       "      <th>335</th>\n",
       "      <td>0.03961</td>\n",
       "      <td>0.0</td>\n",
       "      <td>5.19</td>\n",
       "      <td>0.0</td>\n",
       "      <td>0.515</td>\n",
       "      <td>6.037</td>\n",
       "      <td>34.5</td>\n",
       "      <td>5.9853</td>\n",
       "      <td>5.0</td>\n",
       "      <td>224.0</td>\n",
       "      <td>20.2</td>\n",
       "      <td>396.90</td>\n",
       "      <td>8.01</td>\n",
       "      <td>0</td>\n",
       "    </tr>\n",
       "    <tr>\n",
       "      <th>334</th>\n",
       "      <td>0.03738</td>\n",
       "      <td>0.0</td>\n",
       "      <td>5.19</td>\n",
       "      <td>0.0</td>\n",
       "      <td>0.515</td>\n",
       "      <td>6.310</td>\n",
       "      <td>38.5</td>\n",
       "      <td>6.4584</td>\n",
       "      <td>5.0</td>\n",
       "      <td>224.0</td>\n",
       "      <td>20.2</td>\n",
       "      <td>389.40</td>\n",
       "      <td>6.75</td>\n",
       "      <td>0</td>\n",
       "    </tr>\n",
       "  </tbody>\n",
       "</table>\n",
       "</div>"
      ],
      "text/plain": [
       "        CRIM    ZN  INDUS  CHAS    NOX     RM   AGE     DIS  RAD    TAX  \\\n",
       "0    0.00632  18.0   2.31   0.0  0.538  6.575  65.2  4.0900  1.0  296.0   \n",
       "342  0.02498   0.0   1.89   0.0  0.518  6.540  59.7  6.2669  1.0  422.0   \n",
       "341  0.01301  35.0   1.52   0.0  0.442  7.241  49.3  7.0379  1.0  284.0   \n",
       "340  0.06151   0.0   5.19   0.0  0.515  5.968  58.5  4.8122  5.0  224.0   \n",
       "339  0.05497   0.0   5.19   0.0  0.515  5.985  45.4  4.8122  5.0  224.0   \n",
       "338  0.03306   0.0   5.19   0.0  0.515  6.059  37.3  4.8122  5.0  224.0   \n",
       "337  0.03041   0.0   5.19   0.0  0.515  5.895  59.6  5.6150  5.0  224.0   \n",
       "336  0.03427   0.0   5.19   0.0  0.515  5.869  46.3  5.2311  5.0  224.0   \n",
       "335  0.03961   0.0   5.19   0.0  0.515  6.037  34.5  5.9853  5.0  224.0   \n",
       "334  0.03738   0.0   5.19   0.0  0.515  6.310  38.5  6.4584  5.0  224.0   \n",
       "\n",
       "     PTRATIO       B  LSTAT  FINAL SCORE  \n",
       "0       15.3  396.90   4.98            0  \n",
       "342     15.9  389.96   8.65            0  \n",
       "341     15.5  394.74   5.49            0  \n",
       "340     20.2  396.90   9.29            0  \n",
       "339     20.2  396.90   9.74            0  \n",
       "338     20.2  396.14   8.51            0  \n",
       "337     20.2  394.81  10.56            0  \n",
       "336     20.2  396.90   9.80            0  \n",
       "335     20.2  396.90   8.01            0  \n",
       "334     20.2  389.40   6.75            0  "
      ]
     },
     "metadata": {},
     "output_type": "display_data"
    }
   ],
   "source": [
    "# For context, it is possible to call display_least_flagged_rows(), which provides\n",
    "# som of the most inlier rows. \n",
    "\n",
    "dc.display_least_flagged_rows(with_results=False)"
   ]
  },
  {
   "cell_type": "code",
   "execution_count": 21,
   "id": "845b0921",
   "metadata": {},
   "outputs": [
    {
     "data": {
      "text/plain": [
       "0    496\n",
       "1      8\n",
       "3      2\n",
       "dtype: int64"
      ]
     },
     "execution_count": 21,
     "metadata": {},
     "output_type": "execute_result"
    }
   ],
   "source": [
    "# Treating the tool as a standard outlier detector, we can get the outlier scores\n",
    "# for each row\n",
    "\n",
    "scores = dc.get_outlier_scores()\n",
    "\n",
    "# Display counts of how many rows got score 0, score 1, score 2, etc.\n",
    "pd.Series(scores).value_counts().sort_index()"
   ]
  },
  {
   "cell_type": "code",
   "execution_count": 22,
   "id": "c8653e22",
   "metadata": {
    "scrolled": false
   },
   "outputs": [
    {
     "name": "stdout",
     "output_type": "stream",
     "text": [
      "....................................................................................................\n"
     ]
    },
    {
     "data": {
      "text/markdown": [
       "### GREATER_THAN_ONE"
      ],
      "text/plain": [
       "<IPython.core.display.Markdown object>"
      ]
     },
     "metadata": {},
     "output_type": "display_data"
    },
    {
     "name": "stdout",
     "output_type": "stream",
     "text": [
      "\n"
     ]
    },
    {
     "data": {
      "text/markdown": [
       "### Column(s): B"
      ],
      "text/plain": [
       "<IPython.core.display.Markdown object>"
      ]
     },
     "metadata": {},
     "output_type": "display_data"
    },
    {
     "data": {
      "text/markdown": [
       "**Issue ID**: 4"
      ],
      "text/plain": [
       "<IPython.core.display.Markdown object>"
      ]
     },
     "metadata": {},
     "output_type": "display_data"
    },
    {
     "data": {
      "text/markdown": [
       "A strong pattern, and exceptions to the pattern, were found.\n"
      ],
      "text/plain": [
       "<IPython.core.display.Markdown object>"
      ]
     },
     "metadata": {},
     "output_type": "display_data"
    },
    {
     "data": {
      "text/markdown": [
       "**Description**: The column consistently contains absolute values greater than or equal to 1.0, with exceptions."
      ],
      "text/plain": [
       "<IPython.core.display.Markdown object>"
      ]
     },
     "metadata": {},
     "output_type": "display_data"
    },
    {
     "data": {
      "text/markdown": [
       "**Number of exceptions**: 1 (0.1976% of rows)"
      ],
      "text/plain": [
       "<IPython.core.display.Markdown object>"
      ]
     },
     "metadata": {},
     "output_type": "display_data"
    },
    {
     "name": "stdout",
     "output_type": "stream",
     "text": [
      "\n"
     ]
    },
    {
     "data": {
      "text/markdown": [
       "**Examples of values NOT flagged**:"
      ],
      "text/plain": [
       "<IPython.core.display.Markdown object>"
      ]
     },
     "metadata": {},
     "output_type": "display_data"
    },
    {
     "data": {
      "text/html": [
       "<div>\n",
       "<style scoped>\n",
       "    .dataframe tbody tr th:only-of-type {\n",
       "        vertical-align: middle;\n",
       "    }\n",
       "\n",
       "    .dataframe tbody tr th {\n",
       "        vertical-align: top;\n",
       "    }\n",
       "\n",
       "    .dataframe thead th {\n",
       "        text-align: right;\n",
       "    }\n",
       "</style>\n",
       "<table border=\"1\" class=\"dataframe\">\n",
       "  <thead>\n",
       "    <tr style=\"text-align: right;\">\n",
       "      <th></th>\n",
       "      <th>B</th>\n",
       "    </tr>\n",
       "  </thead>\n",
       "  <tbody>\n",
       "    <tr>\n",
       "      <th>15</th>\n",
       "      <td>395.62</td>\n",
       "    </tr>\n",
       "    <tr>\n",
       "      <th>90</th>\n",
       "      <td>392.18</td>\n",
       "    </tr>\n",
       "    <tr>\n",
       "      <th>97</th>\n",
       "      <td>396.90</td>\n",
       "    </tr>\n",
       "    <tr>\n",
       "      <th>153</th>\n",
       "      <td>261.95</td>\n",
       "    </tr>\n",
       "    <tr>\n",
       "      <th>159</th>\n",
       "      <td>364.31</td>\n",
       "    </tr>\n",
       "    <tr>\n",
       "      <th>318</th>\n",
       "      <td>395.21</td>\n",
       "    </tr>\n",
       "    <tr>\n",
       "      <th>340</th>\n",
       "      <td>396.90</td>\n",
       "    </tr>\n",
       "    <tr>\n",
       "      <th>395</th>\n",
       "      <td>391.98</td>\n",
       "    </tr>\n",
       "    <tr>\n",
       "      <th>399</th>\n",
       "      <td>338.16</td>\n",
       "    </tr>\n",
       "    <tr>\n",
       "      <th>478</th>\n",
       "      <td>379.70</td>\n",
       "    </tr>\n",
       "  </tbody>\n",
       "</table>\n",
       "</div>"
      ],
      "text/plain": [
       "          B\n",
       "15   395.62\n",
       "90   392.18\n",
       "97   396.90\n",
       "153  261.95\n",
       "159  364.31\n",
       "318  395.21\n",
       "340  396.90\n",
       "395  391.98\n",
       "399  338.16\n",
       "478  379.70"
      ]
     },
     "metadata": {},
     "output_type": "display_data"
    },
    {
     "name": "stdout",
     "output_type": "stream",
     "text": [
      "\n"
     ]
    },
    {
     "data": {
      "text/markdown": [
       "**Flagged values**:"
      ],
      "text/plain": [
       "<IPython.core.display.Markdown object>"
      ]
     },
     "metadata": {},
     "output_type": "display_data"
    },
    {
     "data": {
      "text/html": [
       "<div>\n",
       "<style scoped>\n",
       "    .dataframe tbody tr th:only-of-type {\n",
       "        vertical-align: middle;\n",
       "    }\n",
       "\n",
       "    .dataframe tbody tr th {\n",
       "        vertical-align: top;\n",
       "    }\n",
       "\n",
       "    .dataframe thead th {\n",
       "        text-align: right;\n",
       "    }\n",
       "</style>\n",
       "<table border=\"1\" class=\"dataframe\">\n",
       "  <thead>\n",
       "    <tr style=\"text-align: right;\">\n",
       "      <th></th>\n",
       "      <th>B</th>\n",
       "    </tr>\n",
       "  </thead>\n",
       "  <tbody>\n",
       "    <tr>\n",
       "      <th>450</th>\n",
       "      <td>0.32</td>\n",
       "    </tr>\n",
       "  </tbody>\n",
       "</table>\n",
       "</div>"
      ],
      "text/plain": [
       "        B\n",
       "450  0.32"
      ]
     },
     "metadata": {},
     "output_type": "display_data"
    },
    {
     "data": {
      "image/png": "[encoded data removed]",
      "text/plain": [
       "<Figure size 360x216 with 1 Axes>"
      ]
     },
     "metadata": {
      "needs_background": "light"
     },
     "output_type": "display_data"
    },
    {
     "name": "stdout",
     "output_type": "stream",
     "text": [
      "....................................................................................................\n"
     ]
    },
    {
     "data": {
      "text/markdown": [
       "### LARGER"
      ],
      "text/plain": [
       "<IPython.core.display.Markdown object>"
      ]
     },
     "metadata": {},
     "output_type": "display_data"
    },
    {
     "name": "stdout",
     "output_type": "stream",
     "text": [
      "\n"
     ]
    },
    {
     "data": {
      "text/markdown": [
       "### Column(s): \"B\" AND \"NOX\""
      ],
      "text/plain": [
       "<IPython.core.display.Markdown object>"
      ]
     },
     "metadata": {},
     "output_type": "display_data"
    },
    {
     "data": {
      "text/markdown": [
       "**Issue ID**: 6"
      ],
      "text/plain": [
       "<IPython.core.display.Markdown object>"
      ]
     },
     "metadata": {},
     "output_type": "display_data"
    },
    {
     "data": {
      "text/markdown": [
       "A strong pattern, and exceptions to the pattern, were found.\n"
      ],
      "text/plain": [
       "<IPython.core.display.Markdown object>"
      ]
     },
     "metadata": {},
     "output_type": "display_data"
    },
    {
     "data": {
      "text/markdown": [
       "**Description**: \"B\" is consistently larger than \"NOX\"."
      ],
      "text/plain": [
       "<IPython.core.display.Markdown object>"
      ]
     },
     "metadata": {},
     "output_type": "display_data"
    },
    {
     "data": {
      "text/markdown": [
       "**Number of exceptions**: 1 (0.1976% of rows)"
      ],
      "text/plain": [
       "<IPython.core.display.Markdown object>"
      ]
     },
     "metadata": {},
     "output_type": "display_data"
    },
    {
     "name": "stdout",
     "output_type": "stream",
     "text": [
      "\n"
     ]
    },
    {
     "data": {
      "text/markdown": [
       "**Examples of values NOT flagged**:"
      ],
      "text/plain": [
       "<IPython.core.display.Markdown object>"
      ]
     },
     "metadata": {},
     "output_type": "display_data"
    },
    {
     "data": {
      "text/html": [
       "<div>\n",
       "<style scoped>\n",
       "    .dataframe tbody tr th:only-of-type {\n",
       "        vertical-align: middle;\n",
       "    }\n",
       "\n",
       "    .dataframe tbody tr th {\n",
       "        vertical-align: top;\n",
       "    }\n",
       "\n",
       "    .dataframe thead th {\n",
       "        text-align: right;\n",
       "    }\n",
       "</style>\n",
       "<table border=\"1\" class=\"dataframe\">\n",
       "  <thead>\n",
       "    <tr style=\"text-align: right;\">\n",
       "      <th></th>\n",
       "      <th>B</th>\n",
       "      <th>NOX</th>\n",
       "    </tr>\n",
       "  </thead>\n",
       "  <tbody>\n",
       "    <tr>\n",
       "      <th>15</th>\n",
       "      <td>395.62</td>\n",
       "      <td>0.538</td>\n",
       "    </tr>\n",
       "    <tr>\n",
       "      <th>90</th>\n",
       "      <td>392.18</td>\n",
       "      <td>0.489</td>\n",
       "    </tr>\n",
       "    <tr>\n",
       "      <th>97</th>\n",
       "      <td>396.90</td>\n",
       "      <td>0.445</td>\n",
       "    </tr>\n",
       "    <tr>\n",
       "      <th>153</th>\n",
       "      <td>261.95</td>\n",
       "      <td>0.871</td>\n",
       "    </tr>\n",
       "    <tr>\n",
       "      <th>159</th>\n",
       "      <td>364.31</td>\n",
       "      <td>0.871</td>\n",
       "    </tr>\n",
       "    <tr>\n",
       "      <th>318</th>\n",
       "      <td>395.21</td>\n",
       "      <td>0.544</td>\n",
       "    </tr>\n",
       "    <tr>\n",
       "      <th>340</th>\n",
       "      <td>396.90</td>\n",
       "      <td>0.515</td>\n",
       "    </tr>\n",
       "    <tr>\n",
       "      <th>395</th>\n",
       "      <td>391.98</td>\n",
       "      <td>0.693</td>\n",
       "    </tr>\n",
       "    <tr>\n",
       "      <th>399</th>\n",
       "      <td>338.16</td>\n",
       "      <td>0.693</td>\n",
       "    </tr>\n",
       "    <tr>\n",
       "      <th>478</th>\n",
       "      <td>379.70</td>\n",
       "      <td>0.614</td>\n",
       "    </tr>\n",
       "  </tbody>\n",
       "</table>\n",
       "</div>"
      ],
      "text/plain": [
       "          B    NOX\n",
       "15   395.62  0.538\n",
       "90   392.18  0.489\n",
       "97   396.90  0.445\n",
       "153  261.95  0.871\n",
       "159  364.31  0.871\n",
       "318  395.21  0.544\n",
       "340  396.90  0.515\n",
       "395  391.98  0.693\n",
       "399  338.16  0.693\n",
       "478  379.70  0.614"
      ]
     },
     "metadata": {},
     "output_type": "display_data"
    },
    {
     "name": "stdout",
     "output_type": "stream",
     "text": [
      "\n"
     ]
    },
    {
     "data": {
      "text/markdown": [
       "**Flagged values**:"
      ],
      "text/plain": [
       "<IPython.core.display.Markdown object>"
      ]
     },
     "metadata": {},
     "output_type": "display_data"
    },
    {
     "data": {
      "text/html": [
       "<div>\n",
       "<style scoped>\n",
       "    .dataframe tbody tr th:only-of-type {\n",
       "        vertical-align: middle;\n",
       "    }\n",
       "\n",
       "    .dataframe tbody tr th {\n",
       "        vertical-align: top;\n",
       "    }\n",
       "\n",
       "    .dataframe thead th {\n",
       "        text-align: right;\n",
       "    }\n",
       "</style>\n",
       "<table border=\"1\" class=\"dataframe\">\n",
       "  <thead>\n",
       "    <tr style=\"text-align: right;\">\n",
       "      <th></th>\n",
       "      <th>B</th>\n",
       "      <th>NOX</th>\n",
       "    </tr>\n",
       "  </thead>\n",
       "  <tbody>\n",
       "    <tr>\n",
       "      <th>450</th>\n",
       "      <td>0.32</td>\n",
       "      <td>0.713</td>\n",
       "    </tr>\n",
       "  </tbody>\n",
       "</table>\n",
       "</div>"
      ],
      "text/plain": [
       "        B    NOX\n",
       "450  0.32  0.713"
      ]
     },
     "metadata": {},
     "output_type": "display_data"
    },
    {
     "data": {
      "image/png": "[encoded data removed]",
      "text/plain": [
       "<Figure size 360x360 with 1 Axes>"
      ]
     },
     "metadata": {
      "needs_background": "light"
     },
     "output_type": "display_data"
    },
    {
     "name": "stdout",
     "output_type": "stream",
     "text": [
      "\n"
     ]
    },
    {
     "data": {
      "text/markdown": [
       "### Column(s): \"B\" AND \"DIS\""
      ],
      "text/plain": [
       "<IPython.core.display.Markdown object>"
      ]
     },
     "metadata": {},
     "output_type": "display_data"
    },
    {
     "data": {
      "text/markdown": [
       "**Issue ID**: 7"
      ],
      "text/plain": [
       "<IPython.core.display.Markdown object>"
      ]
     },
     "metadata": {},
     "output_type": "display_data"
    },
    {
     "data": {
      "text/markdown": [
       "A strong pattern, and exceptions to the pattern, were found.\n"
      ],
      "text/plain": [
       "<IPython.core.display.Markdown object>"
      ]
     },
     "metadata": {},
     "output_type": "display_data"
    },
    {
     "data": {
      "text/markdown": [
       "**Description**: \"B\" is consistently larger than \"DIS\"."
      ],
      "text/plain": [
       "<IPython.core.display.Markdown object>"
      ]
     },
     "metadata": {},
     "output_type": "display_data"
    },
    {
     "data": {
      "text/markdown": [
       "**Number of exceptions**: 1 (0.1976% of rows)"
      ],
      "text/plain": [
       "<IPython.core.display.Markdown object>"
      ]
     },
     "metadata": {},
     "output_type": "display_data"
    },
    {
     "name": "stdout",
     "output_type": "stream",
     "text": [
      "\n"
     ]
    },
    {
     "data": {
      "text/markdown": [
       "**Examples of values NOT flagged**:"
      ],
      "text/plain": [
       "<IPython.core.display.Markdown object>"
      ]
     },
     "metadata": {},
     "output_type": "display_data"
    },
    {
     "data": {
      "text/html": [
       "<div>\n",
       "<style scoped>\n",
       "    .dataframe tbody tr th:only-of-type {\n",
       "        vertical-align: middle;\n",
       "    }\n",
       "\n",
       "    .dataframe tbody tr th {\n",
       "        vertical-align: top;\n",
       "    }\n",
       "\n",
       "    .dataframe thead th {\n",
       "        text-align: right;\n",
       "    }\n",
       "</style>\n",
       "<table border=\"1\" class=\"dataframe\">\n",
       "  <thead>\n",
       "    <tr style=\"text-align: right;\">\n",
       "      <th></th>\n",
       "      <th>B</th>\n",
       "      <th>DIS</th>\n",
       "    </tr>\n",
       "  </thead>\n",
       "  <tbody>\n",
       "    <tr>\n",
       "      <th>15</th>\n",
       "      <td>395.62</td>\n",
       "      <td>4.4986</td>\n",
       "    </tr>\n",
       "    <tr>\n",
       "      <th>90</th>\n",
       "      <td>392.18</td>\n",
       "      <td>3.0923</td>\n",
       "    </tr>\n",
       "    <tr>\n",
       "      <th>97</th>\n",
       "      <td>396.90</td>\n",
       "      <td>3.4952</td>\n",
       "    </tr>\n",
       "    <tr>\n",
       "      <th>153</th>\n",
       "      <td>261.95</td>\n",
       "      <td>1.6232</td>\n",
       "    </tr>\n",
       "    <tr>\n",
       "      <th>159</th>\n",
       "      <td>364.31</td>\n",
       "      <td>1.7659</td>\n",
       "    </tr>\n",
       "    <tr>\n",
       "      <th>318</th>\n",
       "      <td>395.21</td>\n",
       "      <td>3.5325</td>\n",
       "    </tr>\n",
       "    <tr>\n",
       "      <th>340</th>\n",
       "      <td>396.90</td>\n",
       "      <td>4.8122</td>\n",
       "    </tr>\n",
       "    <tr>\n",
       "      <th>395</th>\n",
       "      <td>391.98</td>\n",
       "      <td>1.7257</td>\n",
       "    </tr>\n",
       "    <tr>\n",
       "      <th>399</th>\n",
       "      <td>338.16</td>\n",
       "      <td>1.5004</td>\n",
       "    </tr>\n",
       "    <tr>\n",
       "      <th>478</th>\n",
       "      <td>379.70</td>\n",
       "      <td>2.1705</td>\n",
       "    </tr>\n",
       "  </tbody>\n",
       "</table>\n",
       "</div>"
      ],
      "text/plain": [
       "          B     DIS\n",
       "15   395.62  4.4986\n",
       "90   392.18  3.0923\n",
       "97   396.90  3.4952\n",
       "153  261.95  1.6232\n",
       "159  364.31  1.7659\n",
       "318  395.21  3.5325\n",
       "340  396.90  4.8122\n",
       "395  391.98  1.7257\n",
       "399  338.16  1.5004\n",
       "478  379.70  2.1705"
      ]
     },
     "metadata": {},
     "output_type": "display_data"
    },
    {
     "name": "stdout",
     "output_type": "stream",
     "text": [
      "\n"
     ]
    },
    {
     "data": {
      "text/markdown": [
       "**Flagged values**:"
      ],
      "text/plain": [
       "<IPython.core.display.Markdown object>"
      ]
     },
     "metadata": {},
     "output_type": "display_data"
    },
    {
     "data": {
      "text/html": [
       "<div>\n",
       "<style scoped>\n",
       "    .dataframe tbody tr th:only-of-type {\n",
       "        vertical-align: middle;\n",
       "    }\n",
       "\n",
       "    .dataframe tbody tr th {\n",
       "        vertical-align: top;\n",
       "    }\n",
       "\n",
       "    .dataframe thead th {\n",
       "        text-align: right;\n",
       "    }\n",
       "</style>\n",
       "<table border=\"1\" class=\"dataframe\">\n",
       "  <thead>\n",
       "    <tr style=\"text-align: right;\">\n",
       "      <th></th>\n",
       "      <th>B</th>\n",
       "      <th>DIS</th>\n",
       "    </tr>\n",
       "  </thead>\n",
       "  <tbody>\n",
       "    <tr>\n",
       "      <th>450</th>\n",
       "      <td>0.32</td>\n",
       "      <td>2.3236</td>\n",
       "    </tr>\n",
       "  </tbody>\n",
       "</table>\n",
       "</div>"
      ],
      "text/plain": [
       "        B     DIS\n",
       "450  0.32  2.3236"
      ]
     },
     "metadata": {},
     "output_type": "display_data"
    },
    {
     "data": {
      "image/png": "[encoded data removed]",
      "text/plain": [
       "<Figure size 360x360 with 1 Axes>"
      ]
     },
     "metadata": {
      "needs_background": "light"
     },
     "output_type": "display_data"
    }
   ],
   "source": [
    "# Get more information about why row 450 was givens a score of 3\n",
    "\n",
    "dc.display_detailed_results(row_id_list=[450])"
   ]
  },
  {
   "cell_type": "code",
   "execution_count": null,
   "id": "ad077161",
   "metadata": {},
   "outputs": [],
   "source": []
  }
 ],
 "metadata": {
  "kernelspec": {
   "display_name": "Python 3 (ipykernel)",
   "language": "python",
   "name": "python3"
  },
  "language_info": {
   "codemirror_mode": {
    "name": "ipython",
    "version": 3
   },
   "file_extension": ".py",
   "mimetype": "text/x-python",
   "name": "python",
   "nbconvert_exporter": "python",
   "pygments_lexer": "ipython3",
   "version": "3.9.6"
  }
 },
 "nbformat": 4,
 "nbformat_minor": 5
}
