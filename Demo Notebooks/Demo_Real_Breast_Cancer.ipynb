{
 "cells": [
  {
   "cell_type": "code",
   "execution_count": 10,
   "id": "0a6e8446-2208-4c10-92f7-46122cb65f57",
   "metadata": {},
   "outputs": [],
   "source": [
    "import pandas as pd\n",
    "import random\n",
    "import pprint\n",
    "import sklearn.datasets as datasets\n",
    "import sys\n",
    "\n",
    "sys.path.insert(1, '..')\n",
    "from check_data_consistency import DataConsistencyChecker"
   ]
  },
  {
   "cell_type": "code",
   "execution_count": 11,
   "id": "8c1a0e6b",
   "metadata": {},
   "outputs": [],
   "source": [
    "# This notebook provides an example of working with a sample toy\n",
    "# dataset available through sklearn."
   ]
  },
  {
   "cell_type": "code",
   "execution_count": 12,
   "id": "f755cf6d",
   "metadata": {},
   "outputs": [],
   "source": [
    "pd.options.display.max_columns = 1000\n",
    "pd.options.display.max_colwidth = 1000\n",
    "pd.options.display.max_rows = 1000\n",
    "pd.options.display.width = 10000"
   ]
  },
  {
   "cell_type": "code",
   "execution_count": 13,
   "id": "a0ecfe94",
   "metadata": {},
   "outputs": [
    {
     "data": {
      "text/html": [
       "<style>div.output_area pre {white-space: pre;}</style>"
      ],
      "text/plain": [
       "<IPython.core.display.HTML object>"
      ]
     },
     "metadata": {},
     "output_type": "display_data"
    }
   ],
   "source": [
    "from IPython.core.display import display, HTML\n",
    "display(HTML(\"<style>div.output_area pre {white-space: pre;}</style>\"))"
   ]
  },
  {
   "cell_type": "markdown",
   "id": "0e179e23",
   "metadata": {},
   "source": [
    "# Breast cancer"
   ]
  },
  {
   "cell_type": "code",
   "execution_count": 14,
   "id": "1bca77c7-17e5-4b57-ab01-968626b064b0",
   "metadata": {
    "scrolled": false
   },
   "outputs": [
    {
     "name": "stdout",
     "output_type": "stream",
     "text": [
      "\n",
      "Data consistency check complete.\n",
      "Analysed 569 rows, 30 columns\n",
      "Executed 155 tests.\n",
      "\n",
      "Patterns without Exceptions:\n",
      "Found 323 patterns without exceptions\n",
      "15 tests (9.68% of tests) identified at least one pattern without exceptions each. \n",
      "By default some patterns are not listed in calls to display_detailed_results().\n",
      "\n",
      "Patterns with Exceptions:\n",
      "Found 58 patterns with exceptions\n",
      "10 tests (6.45% of tests) flagged at least one exception each.\n",
      "Flagged 35 row(s) with at least one exception.\n",
      "Flagged 30 column(s) with at least one exception.\n"
     ]
    }
   ],
   "source": [
    "# Load the data\n",
    "data = datasets.load_breast_cancer()\n",
    "df = pd.DataFrame(data.data, columns=data.feature_names)\n",
    "\n",
    "# Run DataConsistencyChecker with default parameters, other than verbose=0\n",
    "# to skip printing the test IDs as the tests exectute. \n",
    "dc = DataConsistencyChecker(verbose=0)  \n",
    "dc.init_data(df)\n",
    "_ = dc.check_data_quality()"
   ]
  },
  {
   "cell_type": "code",
   "execution_count": 15,
   "id": "84567e02",
   "metadata": {
    "scrolled": false
   },
   "outputs": [
    {
     "data": {
      "text/html": [
       "<div>\n",
       "<style scoped>\n",
       "    .dataframe tbody tr th:only-of-type {\n",
       "        vertical-align: middle;\n",
       "    }\n",
       "\n",
       "    .dataframe tbody tr th {\n",
       "        vertical-align: top;\n",
       "    }\n",
       "\n",
       "    .dataframe thead th {\n",
       "        text-align: right;\n",
       "    }\n",
       "</style>\n",
       "<table border=\"1\" class=\"dataframe\">\n",
       "  <thead>\n",
       "    <tr style=\"text-align: right;\">\n",
       "      <th></th>\n",
       "      <th>Test ID</th>\n",
       "      <th>Number Patterns without Exceptions</th>\n",
       "      <th>Number Patterns with Exceptions</th>\n",
       "    </tr>\n",
       "  </thead>\n",
       "  <tbody>\n",
       "    <tr>\n",
       "      <th>0</th>\n",
       "      <td>POSITIVE</td>\n",
       "      <td>30</td>\n",
       "      <td></td>\n",
       "    </tr>\n",
       "    <tr>\n",
       "      <th>1</th>\n",
       "      <td>NUMBER_DECIMALS</td>\n",
       "      <td>26</td>\n",
       "      <td>3</td>\n",
       "    </tr>\n",
       "    <tr>\n",
       "      <th>2</th>\n",
       "      <td>UNUSUAL_ORDER_MAGNITUDE</td>\n",
       "      <td>3</td>\n",
       "      <td>1</td>\n",
       "    </tr>\n",
       "    <tr>\n",
       "      <th>3</th>\n",
       "      <td>FEW_NEIGHBORS</td>\n",
       "      <td></td>\n",
       "      <td>6</td>\n",
       "    </tr>\n",
       "    <tr>\n",
       "      <th>4</th>\n",
       "      <td>VERY_LARGE</td>\n",
       "      <td></td>\n",
       "      <td>5</td>\n",
       "    </tr>\n",
       "    <tr>\n",
       "      <th>5</th>\n",
       "      <td>NON_ZERO</td>\n",
       "      <td>24</td>\n",
       "      <td></td>\n",
       "    </tr>\n",
       "    <tr>\n",
       "      <th>6</th>\n",
       "      <td>LESS_THAN_ONE</td>\n",
       "      <td>16</td>\n",
       "      <td>1</td>\n",
       "    </tr>\n",
       "    <tr>\n",
       "      <th>7</th>\n",
       "      <td>GREATER_THAN_ONE</td>\n",
       "      <td>9</td>\n",
       "      <td></td>\n",
       "    </tr>\n",
       "    <tr>\n",
       "      <th>8</th>\n",
       "      <td>LARGER</td>\n",
       "      <td>57</td>\n",
       "      <td>17</td>\n",
       "    </tr>\n",
       "    <tr>\n",
       "      <th>9</th>\n",
       "      <td>MUCH_LARGER</td>\n",
       "      <td>132</td>\n",
       "      <td>11</td>\n",
       "    </tr>\n",
       "    <tr>\n",
       "      <th>10</th>\n",
       "      <td>SIMILAR_WRT_RATIO</td>\n",
       "      <td>3</td>\n",
       "      <td>3</td>\n",
       "    </tr>\n",
       "    <tr>\n",
       "      <th>11</th>\n",
       "      <td>RARE_COMBINATION</td>\n",
       "      <td></td>\n",
       "      <td>10</td>\n",
       "    </tr>\n",
       "    <tr>\n",
       "      <th>12</th>\n",
       "      <td>CORRELATED_NUMERIC</td>\n",
       "      <td>4</td>\n",
       "      <td></td>\n",
       "    </tr>\n",
       "    <tr>\n",
       "      <th>13</th>\n",
       "      <td>MATCHED_ZERO</td>\n",
       "      <td>15</td>\n",
       "      <td></td>\n",
       "    </tr>\n",
       "    <tr>\n",
       "      <th>14</th>\n",
       "      <td>LARGER_THAN_SUM</td>\n",
       "      <td>1</td>\n",
       "      <td>1</td>\n",
       "    </tr>\n",
       "    <tr>\n",
       "      <th>15</th>\n",
       "      <td>MISSING_VALUES_PER_ROW</td>\n",
       "      <td>1</td>\n",
       "      <td></td>\n",
       "    </tr>\n",
       "    <tr>\n",
       "      <th>16</th>\n",
       "      <td>UNIQUE_VALUES_PER_ROW</td>\n",
       "      <td>1</td>\n",
       "      <td></td>\n",
       "    </tr>\n",
       "    <tr>\n",
       "      <th>17</th>\n",
       "      <td>NEGATIVE_VALUES_PER_ROW</td>\n",
       "      <td>1</td>\n",
       "      <td></td>\n",
       "    </tr>\n",
       "  </tbody>\n",
       "</table>\n",
       "</div>"
      ],
      "text/plain": [
       "                    Test ID Number Patterns without Exceptions Number Patterns with Exceptions\n",
       "0                  POSITIVE                                 30                                \n",
       "1           NUMBER_DECIMALS                                 26                               3\n",
       "2   UNUSUAL_ORDER_MAGNITUDE                                  3                               1\n",
       "3             FEW_NEIGHBORS                                                                  6\n",
       "4                VERY_LARGE                                                                  5\n",
       "5                  NON_ZERO                                 24                                \n",
       "6             LESS_THAN_ONE                                 16                               1\n",
       "7          GREATER_THAN_ONE                                  9                                \n",
       "8                    LARGER                                 57                              17\n",
       "9               MUCH_LARGER                                132                              11\n",
       "10        SIMILAR_WRT_RATIO                                  3                               3\n",
       "11         RARE_COMBINATION                                                                 10\n",
       "12       CORRELATED_NUMERIC                                  4                                \n",
       "13             MATCHED_ZERO                                 15                                \n",
       "14          LARGER_THAN_SUM                                  1                               1\n",
       "15   MISSING_VALUES_PER_ROW                                  1                                \n",
       "16    UNIQUE_VALUES_PER_ROW                                  1                                \n",
       "17  NEGATIVE_VALUES_PER_ROW                                  1                                "
      ]
     },
     "execution_count": 15,
     "metadata": {},
     "output_type": "execute_result"
    }
   ],
   "source": [
    "# Get an overview of every test. For each, we get both the number of patterns found\n",
    "# and the number of exceptions found. It may be informative where no patterns were\n",
    "# found, if they would be expected. Other APIs can examine intances of these more\n",
    "# closely. \n",
    "\n",
    "dc.summarize_patterns_and_exceptions()"
   ]
  },
  {
   "cell_type": "code",
   "execution_count": 16,
   "id": "13d2e347",
   "metadata": {
    "scrolled": false
   },
   "outputs": [
    {
     "data": {
      "text/html": [
       "<div>\n",
       "<style scoped>\n",
       "    .dataframe tbody tr th:only-of-type {\n",
       "        vertical-align: middle;\n",
       "    }\n",
       "\n",
       "    .dataframe tbody tr th {\n",
       "        vertical-align: top;\n",
       "    }\n",
       "\n",
       "    .dataframe thead th {\n",
       "        text-align: right;\n",
       "    }\n",
       "</style>\n",
       "<table border=\"1\" class=\"dataframe\">\n",
       "  <thead>\n",
       "    <tr style=\"text-align: right;\">\n",
       "      <th></th>\n",
       "      <th>mean radius</th>\n",
       "      <th>mean texture</th>\n",
       "      <th>mean perimeter</th>\n",
       "      <th>mean area</th>\n",
       "      <th>mean smoothness</th>\n",
       "      <th>mean compactness</th>\n",
       "      <th>mean concavity</th>\n",
       "      <th>mean concave points</th>\n",
       "      <th>mean symmetry</th>\n",
       "      <th>mean fractal dimension</th>\n",
       "      <th>radius error</th>\n",
       "      <th>texture error</th>\n",
       "      <th>perimeter error</th>\n",
       "      <th>area error</th>\n",
       "      <th>smoothness error</th>\n",
       "      <th>compactness error</th>\n",
       "      <th>concavity error</th>\n",
       "      <th>concave points error</th>\n",
       "      <th>symmetry error</th>\n",
       "      <th>fractal dimension error</th>\n",
       "      <th>worst radius</th>\n",
       "      <th>worst texture</th>\n",
       "      <th>worst perimeter</th>\n",
       "      <th>worst area</th>\n",
       "      <th>worst smoothness</th>\n",
       "      <th>worst compactness</th>\n",
       "      <th>worst concavity</th>\n",
       "      <th>worst concave points</th>\n",
       "      <th>worst symmetry</th>\n",
       "      <th>worst fractal dimension</th>\n",
       "    </tr>\n",
       "    <tr>\n",
       "      <th>Test ID</th>\n",
       "      <th></th>\n",
       "      <th></th>\n",
       "      <th></th>\n",
       "      <th></th>\n",
       "      <th></th>\n",
       "      <th></th>\n",
       "      <th></th>\n",
       "      <th></th>\n",
       "      <th></th>\n",
       "      <th></th>\n",
       "      <th></th>\n",
       "      <th></th>\n",
       "      <th></th>\n",
       "      <th></th>\n",
       "      <th></th>\n",
       "      <th></th>\n",
       "      <th></th>\n",
       "      <th></th>\n",
       "      <th></th>\n",
       "      <th></th>\n",
       "      <th></th>\n",
       "      <th></th>\n",
       "      <th></th>\n",
       "      <th></th>\n",
       "      <th></th>\n",
       "      <th></th>\n",
       "      <th></th>\n",
       "      <th></th>\n",
       "      <th></th>\n",
       "      <th></th>\n",
       "    </tr>\n",
       "  </thead>\n",
       "  <tbody>\n",
       "    <tr>\n",
       "      <th>POSITIVE</th>\n",
       "      <td>✔</td>\n",
       "      <td>✔</td>\n",
       "      <td>✔</td>\n",
       "      <td>✔</td>\n",
       "      <td>✔</td>\n",
       "      <td>✔</td>\n",
       "      <td>✔</td>\n",
       "      <td>✔</td>\n",
       "      <td>✔</td>\n",
       "      <td>✔</td>\n",
       "      <td>✔</td>\n",
       "      <td>✔</td>\n",
       "      <td>✔</td>\n",
       "      <td>✔</td>\n",
       "      <td>✔</td>\n",
       "      <td>✔</td>\n",
       "      <td>✔</td>\n",
       "      <td>✔</td>\n",
       "      <td>✔</td>\n",
       "      <td>✔</td>\n",
       "      <td>✔</td>\n",
       "      <td>✔</td>\n",
       "      <td>✔</td>\n",
       "      <td>✔</td>\n",
       "      <td>✔</td>\n",
       "      <td>✔</td>\n",
       "      <td>✔</td>\n",
       "      <td>✔</td>\n",
       "      <td>✔</td>\n",
       "      <td>✔</td>\n",
       "    </tr>\n",
       "    <tr>\n",
       "      <th>NUMBER_DECIMALS</th>\n",
       "      <td>✔</td>\n",
       "      <td>✔</td>\n",
       "      <td>✔</td>\n",
       "      <td>✔</td>\n",
       "      <td>✔</td>\n",
       "      <td>✔</td>\n",
       "      <td></td>\n",
       "      <td>✔</td>\n",
       "      <td>✔</td>\n",
       "      <td>✔</td>\n",
       "      <td>✔</td>\n",
       "      <td>✔</td>\n",
       "      <td>✔</td>\n",
       "      <td>✔</td>\n",
       "      <td>✔</td>\n",
       "      <td>✔</td>\n",
       "      <td></td>\n",
       "      <td>✔</td>\n",
       "      <td>✔</td>\n",
       "      <td>✔</td>\n",
       "      <td>✔</td>\n",
       "      <td>✔</td>\n",
       "      <td>✔</td>\n",
       "      <td>✔</td>\n",
       "      <td>✔</td>\n",
       "      <td>✔</td>\n",
       "      <td></td>\n",
       "      <td></td>\n",
       "      <td>✔</td>\n",
       "      <td>✔</td>\n",
       "    </tr>\n",
       "    <tr>\n",
       "      <th>UNUSUAL_ORDER_MAGNITUDE</th>\n",
       "      <td>✔</td>\n",
       "      <td></td>\n",
       "      <td>✔</td>\n",
       "      <td></td>\n",
       "      <td></td>\n",
       "      <td></td>\n",
       "      <td></td>\n",
       "      <td></td>\n",
       "      <td></td>\n",
       "      <td></td>\n",
       "      <td></td>\n",
       "      <td></td>\n",
       "      <td></td>\n",
       "      <td></td>\n",
       "      <td></td>\n",
       "      <td></td>\n",
       "      <td></td>\n",
       "      <td></td>\n",
       "      <td></td>\n",
       "      <td></td>\n",
       "      <td></td>\n",
       "      <td></td>\n",
       "      <td>✔</td>\n",
       "      <td></td>\n",
       "      <td></td>\n",
       "      <td></td>\n",
       "      <td></td>\n",
       "      <td></td>\n",
       "      <td></td>\n",
       "      <td></td>\n",
       "    </tr>\n",
       "    <tr>\n",
       "      <th>NON_ZERO</th>\n",
       "      <td>✔</td>\n",
       "      <td>✔</td>\n",
       "      <td>✔</td>\n",
       "      <td>✔</td>\n",
       "      <td>✔</td>\n",
       "      <td>✔</td>\n",
       "      <td></td>\n",
       "      <td></td>\n",
       "      <td>✔</td>\n",
       "      <td>✔</td>\n",
       "      <td>✔</td>\n",
       "      <td>✔</td>\n",
       "      <td>✔</td>\n",
       "      <td>✔</td>\n",
       "      <td>✔</td>\n",
       "      <td>✔</td>\n",
       "      <td></td>\n",
       "      <td></td>\n",
       "      <td>✔</td>\n",
       "      <td>✔</td>\n",
       "      <td>✔</td>\n",
       "      <td>✔</td>\n",
       "      <td>✔</td>\n",
       "      <td>✔</td>\n",
       "      <td>✔</td>\n",
       "      <td>✔</td>\n",
       "      <td></td>\n",
       "      <td></td>\n",
       "      <td>✔</td>\n",
       "      <td>✔</td>\n",
       "    </tr>\n",
       "    <tr>\n",
       "      <th>LESS_THAN_ONE</th>\n",
       "      <td></td>\n",
       "      <td></td>\n",
       "      <td></td>\n",
       "      <td></td>\n",
       "      <td>✔</td>\n",
       "      <td>✔</td>\n",
       "      <td>✔</td>\n",
       "      <td>✔</td>\n",
       "      <td>✔</td>\n",
       "      <td>✔</td>\n",
       "      <td></td>\n",
       "      <td></td>\n",
       "      <td></td>\n",
       "      <td></td>\n",
       "      <td>✔</td>\n",
       "      <td>✔</td>\n",
       "      <td>✔</td>\n",
       "      <td>✔</td>\n",
       "      <td>✔</td>\n",
       "      <td>✔</td>\n",
       "      <td></td>\n",
       "      <td></td>\n",
       "      <td></td>\n",
       "      <td></td>\n",
       "      <td>✔</td>\n",
       "      <td></td>\n",
       "      <td></td>\n",
       "      <td>✔</td>\n",
       "      <td>✔</td>\n",
       "      <td>✔</td>\n",
       "    </tr>\n",
       "    <tr>\n",
       "      <th>GREATER_THAN_ONE</th>\n",
       "      <td>✔</td>\n",
       "      <td>✔</td>\n",
       "      <td>✔</td>\n",
       "      <td>✔</td>\n",
       "      <td></td>\n",
       "      <td></td>\n",
       "      <td></td>\n",
       "      <td></td>\n",
       "      <td></td>\n",
       "      <td></td>\n",
       "      <td></td>\n",
       "      <td></td>\n",
       "      <td></td>\n",
       "      <td>✔</td>\n",
       "      <td></td>\n",
       "      <td></td>\n",
       "      <td></td>\n",
       "      <td></td>\n",
       "      <td></td>\n",
       "      <td></td>\n",
       "      <td>✔</td>\n",
       "      <td>✔</td>\n",
       "      <td>✔</td>\n",
       "      <td>✔</td>\n",
       "      <td></td>\n",
       "      <td></td>\n",
       "      <td></td>\n",
       "      <td></td>\n",
       "      <td></td>\n",
       "      <td></td>\n",
       "    </tr>\n",
       "    <tr>\n",
       "      <th>LARGER</th>\n",
       "      <td>✔</td>\n",
       "      <td>✔</td>\n",
       "      <td>✔</td>\n",
       "      <td>✔</td>\n",
       "      <td>✔</td>\n",
       "      <td>✔</td>\n",
       "      <td>✔</td>\n",
       "      <td>✔</td>\n",
       "      <td>✔</td>\n",
       "      <td>✔</td>\n",
       "      <td>✔</td>\n",
       "      <td>✔</td>\n",
       "      <td>✔</td>\n",
       "      <td></td>\n",
       "      <td>✔</td>\n",
       "      <td>✔</td>\n",
       "      <td>✔</td>\n",
       "      <td>✔</td>\n",
       "      <td>✔</td>\n",
       "      <td>✔</td>\n",
       "      <td>✔</td>\n",
       "      <td>✔</td>\n",
       "      <td>✔</td>\n",
       "      <td>✔</td>\n",
       "      <td>✔</td>\n",
       "      <td>✔</td>\n",
       "      <td>✔</td>\n",
       "      <td>✔</td>\n",
       "      <td>✔</td>\n",
       "      <td>✔</td>\n",
       "    </tr>\n",
       "    <tr>\n",
       "      <th>MUCH_LARGER</th>\n",
       "      <td>✔</td>\n",
       "      <td>✔</td>\n",
       "      <td>✔</td>\n",
       "      <td>✔</td>\n",
       "      <td>✔</td>\n",
       "      <td>✔</td>\n",
       "      <td></td>\n",
       "      <td></td>\n",
       "      <td>✔</td>\n",
       "      <td>✔</td>\n",
       "      <td>✔</td>\n",
       "      <td>✔</td>\n",
       "      <td>✔</td>\n",
       "      <td>✔</td>\n",
       "      <td>✔</td>\n",
       "      <td>✔</td>\n",
       "      <td></td>\n",
       "      <td></td>\n",
       "      <td>✔</td>\n",
       "      <td>✔</td>\n",
       "      <td>✔</td>\n",
       "      <td>✔</td>\n",
       "      <td>✔</td>\n",
       "      <td>✔</td>\n",
       "      <td>✔</td>\n",
       "      <td>✔</td>\n",
       "      <td></td>\n",
       "      <td></td>\n",
       "      <td>✔</td>\n",
       "      <td>✔</td>\n",
       "    </tr>\n",
       "    <tr>\n",
       "      <th>SIMILAR_WRT_RATIO</th>\n",
       "      <td>✔</td>\n",
       "      <td></td>\n",
       "      <td>✔</td>\n",
       "      <td></td>\n",
       "      <td>✔</td>\n",
       "      <td></td>\n",
       "      <td></td>\n",
       "      <td></td>\n",
       "      <td></td>\n",
       "      <td></td>\n",
       "      <td></td>\n",
       "      <td></td>\n",
       "      <td></td>\n",
       "      <td></td>\n",
       "      <td></td>\n",
       "      <td></td>\n",
       "      <td></td>\n",
       "      <td></td>\n",
       "      <td></td>\n",
       "      <td></td>\n",
       "      <td>✔</td>\n",
       "      <td></td>\n",
       "      <td>✔</td>\n",
       "      <td></td>\n",
       "      <td>✔</td>\n",
       "      <td></td>\n",
       "      <td></td>\n",
       "      <td></td>\n",
       "      <td></td>\n",
       "      <td></td>\n",
       "    </tr>\n",
       "    <tr>\n",
       "      <th>CORRELATED_NUMERIC</th>\n",
       "      <td>✔</td>\n",
       "      <td></td>\n",
       "      <td>✔</td>\n",
       "      <td>✔</td>\n",
       "      <td></td>\n",
       "      <td></td>\n",
       "      <td></td>\n",
       "      <td></td>\n",
       "      <td></td>\n",
       "      <td></td>\n",
       "      <td></td>\n",
       "      <td></td>\n",
       "      <td></td>\n",
       "      <td></td>\n",
       "      <td></td>\n",
       "      <td></td>\n",
       "      <td></td>\n",
       "      <td></td>\n",
       "      <td></td>\n",
       "      <td></td>\n",
       "      <td>✔</td>\n",
       "      <td></td>\n",
       "      <td></td>\n",
       "      <td>✔</td>\n",
       "      <td></td>\n",
       "      <td></td>\n",
       "      <td></td>\n",
       "      <td></td>\n",
       "      <td></td>\n",
       "      <td></td>\n",
       "    </tr>\n",
       "    <tr>\n",
       "      <th>MATCHED_ZERO</th>\n",
       "      <td></td>\n",
       "      <td></td>\n",
       "      <td></td>\n",
       "      <td></td>\n",
       "      <td></td>\n",
       "      <td></td>\n",
       "      <td>✔</td>\n",
       "      <td>✔</td>\n",
       "      <td></td>\n",
       "      <td></td>\n",
       "      <td></td>\n",
       "      <td></td>\n",
       "      <td></td>\n",
       "      <td></td>\n",
       "      <td></td>\n",
       "      <td></td>\n",
       "      <td>✔</td>\n",
       "      <td>✔</td>\n",
       "      <td></td>\n",
       "      <td></td>\n",
       "      <td></td>\n",
       "      <td></td>\n",
       "      <td></td>\n",
       "      <td></td>\n",
       "      <td></td>\n",
       "      <td></td>\n",
       "      <td>✔</td>\n",
       "      <td>✔</td>\n",
       "      <td></td>\n",
       "      <td></td>\n",
       "    </tr>\n",
       "    <tr>\n",
       "      <th>LARGER_THAN_SUM</th>\n",
       "      <td></td>\n",
       "      <td></td>\n",
       "      <td></td>\n",
       "      <td></td>\n",
       "      <td></td>\n",
       "      <td></td>\n",
       "      <td></td>\n",
       "      <td></td>\n",
       "      <td></td>\n",
       "      <td>✔</td>\n",
       "      <td></td>\n",
       "      <td></td>\n",
       "      <td></td>\n",
       "      <td></td>\n",
       "      <td></td>\n",
       "      <td></td>\n",
       "      <td></td>\n",
       "      <td></td>\n",
       "      <td></td>\n",
       "      <td></td>\n",
       "      <td></td>\n",
       "      <td></td>\n",
       "      <td></td>\n",
       "      <td></td>\n",
       "      <td></td>\n",
       "      <td></td>\n",
       "      <td></td>\n",
       "      <td></td>\n",
       "      <td>✔</td>\n",
       "      <td>✔</td>\n",
       "    </tr>\n",
       "    <tr>\n",
       "      <th>MISSING_VALUES_PER_ROW</th>\n",
       "      <td>✔</td>\n",
       "      <td>✔</td>\n",
       "      <td>✔</td>\n",
       "      <td>✔</td>\n",
       "      <td>✔</td>\n",
       "      <td>✔</td>\n",
       "      <td>✔</td>\n",
       "      <td>✔</td>\n",
       "      <td>✔</td>\n",
       "      <td>✔</td>\n",
       "      <td>✔</td>\n",
       "      <td>✔</td>\n",
       "      <td>✔</td>\n",
       "      <td>✔</td>\n",
       "      <td>✔</td>\n",
       "      <td>✔</td>\n",
       "      <td>✔</td>\n",
       "      <td>✔</td>\n",
       "      <td>✔</td>\n",
       "      <td>✔</td>\n",
       "      <td>✔</td>\n",
       "      <td>✔</td>\n",
       "      <td>✔</td>\n",
       "      <td>✔</td>\n",
       "      <td>✔</td>\n",
       "      <td>✔</td>\n",
       "      <td>✔</td>\n",
       "      <td>✔</td>\n",
       "      <td>✔</td>\n",
       "      <td>✔</td>\n",
       "    </tr>\n",
       "    <tr>\n",
       "      <th>UNIQUE_VALUES_PER_ROW</th>\n",
       "      <td>✔</td>\n",
       "      <td>✔</td>\n",
       "      <td>✔</td>\n",
       "      <td>✔</td>\n",
       "      <td>✔</td>\n",
       "      <td>✔</td>\n",
       "      <td>✔</td>\n",
       "      <td>✔</td>\n",
       "      <td>✔</td>\n",
       "      <td>✔</td>\n",
       "      <td>✔</td>\n",
       "      <td>✔</td>\n",
       "      <td>✔</td>\n",
       "      <td>✔</td>\n",
       "      <td>✔</td>\n",
       "      <td>✔</td>\n",
       "      <td>✔</td>\n",
       "      <td>✔</td>\n",
       "      <td>✔</td>\n",
       "      <td>✔</td>\n",
       "      <td>✔</td>\n",
       "      <td>✔</td>\n",
       "      <td>✔</td>\n",
       "      <td>✔</td>\n",
       "      <td>✔</td>\n",
       "      <td>✔</td>\n",
       "      <td>✔</td>\n",
       "      <td>✔</td>\n",
       "      <td>✔</td>\n",
       "      <td>✔</td>\n",
       "    </tr>\n",
       "    <tr>\n",
       "      <th>NEGATIVE_VALUES_PER_ROW</th>\n",
       "      <td>✔</td>\n",
       "      <td>✔</td>\n",
       "      <td>✔</td>\n",
       "      <td>✔</td>\n",
       "      <td>✔</td>\n",
       "      <td>✔</td>\n",
       "      <td>✔</td>\n",
       "      <td>✔</td>\n",
       "      <td>✔</td>\n",
       "      <td>✔</td>\n",
       "      <td>✔</td>\n",
       "      <td>✔</td>\n",
       "      <td>✔</td>\n",
       "      <td>✔</td>\n",
       "      <td>✔</td>\n",
       "      <td>✔</td>\n",
       "      <td>✔</td>\n",
       "      <td>✔</td>\n",
       "      <td>✔</td>\n",
       "      <td>✔</td>\n",
       "      <td>✔</td>\n",
       "      <td>✔</td>\n",
       "      <td>✔</td>\n",
       "      <td>✔</td>\n",
       "      <td>✔</td>\n",
       "      <td>✔</td>\n",
       "      <td>✔</td>\n",
       "      <td>✔</td>\n",
       "      <td>✔</td>\n",
       "      <td>✔</td>\n",
       "    </tr>\n",
       "  </tbody>\n",
       "</table>\n",
       "</div>"
      ],
      "text/plain": [
       "                        mean radius mean texture mean perimeter mean area mean smoothness mean compactness mean concavity mean concave points mean symmetry mean fractal dimension radius error texture error perimeter error area error smoothness error compactness error concavity error concave points error symmetry error fractal dimension error worst radius worst texture worst perimeter worst area worst smoothness worst compactness worst concavity worst concave points worst symmetry worst fractal dimension\n",
       "Test ID                                                                                                                                                                                                                                                                                                                                                                                                                                                                                                                     \n",
       "POSITIVE                          ✔            ✔              ✔         ✔               ✔                ✔              ✔                   ✔             ✔                      ✔            ✔             ✔               ✔          ✔                ✔                 ✔               ✔                    ✔              ✔                       ✔            ✔             ✔               ✔          ✔                ✔                 ✔               ✔                    ✔              ✔                       ✔\n",
       "NUMBER_DECIMALS                   ✔            ✔              ✔         ✔               ✔                ✔                                  ✔             ✔                      ✔            ✔             ✔               ✔          ✔                ✔                 ✔                                    ✔              ✔                       ✔            ✔             ✔               ✔          ✔                ✔                 ✔                                                   ✔                       ✔\n",
       "UNUSUAL_ORDER_MAGNITUDE           ✔                           ✔                                                                                                                                                                                                                                                                                                                                  ✔                                                                                                                          \n",
       "NON_ZERO                          ✔            ✔              ✔         ✔               ✔                ✔                                                ✔                      ✔            ✔             ✔               ✔          ✔                ✔                 ✔                                                   ✔                       ✔            ✔             ✔               ✔          ✔                ✔                 ✔                                                   ✔                       ✔\n",
       "LESS_THAN_ONE                                                                           ✔                ✔              ✔                   ✔             ✔                      ✔                                                                      ✔                 ✔               ✔                    ✔              ✔                       ✔                                                                      ✔                                                      ✔              ✔                       ✔\n",
       "GREATER_THAN_ONE                  ✔            ✔              ✔         ✔                                                                                                                                                              ✔                                                                                                                           ✔             ✔               ✔          ✔                                                                                                               \n",
       "LARGER                            ✔            ✔              ✔         ✔               ✔                ✔              ✔                   ✔             ✔                      ✔            ✔             ✔               ✔                           ✔                 ✔               ✔                    ✔              ✔                       ✔            ✔             ✔               ✔          ✔                ✔                 ✔               ✔                    ✔              ✔                       ✔\n",
       "MUCH_LARGER                       ✔            ✔              ✔         ✔               ✔                ✔                                                ✔                      ✔            ✔             ✔               ✔          ✔                ✔                 ✔                                                   ✔                       ✔            ✔             ✔               ✔          ✔                ✔                 ✔                                                   ✔                       ✔\n",
       "SIMILAR_WRT_RATIO                 ✔                           ✔                         ✔                                                                                                                                                                                                                                                                          ✔                             ✔                           ✔                                                                                              \n",
       "CORRELATED_NUMERIC                ✔                           ✔         ✔                                                                                                                                                                                                                                                                                          ✔                                        ✔                                                                                                               \n",
       "MATCHED_ZERO                                                                                                            ✔                   ✔                                                                                                                                             ✔                    ✔                                                                                                                                               ✔                    ✔                                       \n",
       "LARGER_THAN_SUM                                                                                                                                                                  ✔                                                                                                                                                                                                                                                                                                                 ✔                       ✔\n",
       "MISSING_VALUES_PER_ROW            ✔            ✔              ✔         ✔               ✔                ✔              ✔                   ✔             ✔                      ✔            ✔             ✔               ✔          ✔                ✔                 ✔               ✔                    ✔              ✔                       ✔            ✔             ✔               ✔          ✔                ✔                 ✔               ✔                    ✔              ✔                       ✔\n",
       "UNIQUE_VALUES_PER_ROW             ✔            ✔              ✔         ✔               ✔                ✔              ✔                   ✔             ✔                      ✔            ✔             ✔               ✔          ✔                ✔                 ✔               ✔                    ✔              ✔                       ✔            ✔             ✔               ✔          ✔                ✔                 ✔               ✔                    ✔              ✔                       ✔\n",
       "NEGATIVE_VALUES_PER_ROW           ✔            ✔              ✔         ✔               ✔                ✔              ✔                   ✔             ✔                      ✔            ✔             ✔               ✔          ✔                ✔                 ✔               ✔                    ✔              ✔                       ✔            ✔             ✔               ✔          ✔                ✔                 ✔               ✔                    ✔              ✔                       ✔"
      ]
     },
     "execution_count": 16,
     "metadata": {},
     "output_type": "execute_result"
    }
   ],
   "source": [
    "# Get a summary of which patterns were present in which columns. It\n",
    "# may be as informative where the pattern is not present. \n",
    "\n",
    "dc.summarize_patterns_by_test_and_feature()"
   ]
  },
  {
   "cell_type": "code",
   "execution_count": 17,
   "id": "8745e363",
   "metadata": {
    "scrolled": false
   },
   "outputs": [
    {
     "data": {
      "image/png": "[encoded data removed]",
      "text/plain": [
       "<Figure size 1080x540 with 1 Axes>"
      ]
     },
     "metadata": {
      "needs_background": "light"
     },
     "output_type": "display_data"
    }
   ],
   "source": [
    "# View the above in the form of a heatmap. In practice, one or the other\n",
    "# format would be used and not both. \n",
    "\n",
    "_ = dc.summarize_patterns_by_test_and_feature(heatmap=True)"
   ]
  },
  {
   "cell_type": "code",
   "execution_count": 18,
   "id": "2eb7d1bd",
   "metadata": {
    "scrolled": false
   },
   "outputs": [
    {
     "data": {
      "text/markdown": [
       "Some patterns not shown. Set show_short_list_only to False to see additional patterns."
      ],
      "text/plain": [
       "<IPython.core.display.Markdown object>"
      ]
     },
     "metadata": {},
     "output_type": "display_data"
    },
    {
     "data": {
      "text/html": [
       "<div>\n",
       "<style scoped>\n",
       "    .dataframe tbody tr th:only-of-type {\n",
       "        vertical-align: middle;\n",
       "    }\n",
       "\n",
       "    .dataframe tbody tr th {\n",
       "        vertical-align: top;\n",
       "    }\n",
       "\n",
       "    .dataframe thead th {\n",
       "        text-align: right;\n",
       "    }\n",
       "</style>\n",
       "<table border=\"1\" class=\"dataframe\">\n",
       "  <thead>\n",
       "    <tr style=\"text-align: right;\">\n",
       "      <th></th>\n",
       "      <th>Test ID</th>\n",
       "      <th>Column(s)</th>\n",
       "      <th>Description of Pattern</th>\n",
       "      <th>Pattern ID</th>\n",
       "    </tr>\n",
       "  </thead>\n",
       "  <tbody>\n",
       "    <tr>\n",
       "      <th>83</th>\n",
       "      <td>LESS_THAN_ONE</td>\n",
       "      <td>mean smoothness</td>\n",
       "      <td>The column consistently contains values between -1.0, and 1.0 (inclusive)</td>\n",
       "      <td>83</td>\n",
       "    </tr>\n",
       "    <tr>\n",
       "      <th>84</th>\n",
       "      <td>LESS_THAN_ONE</td>\n",
       "      <td>mean compactness</td>\n",
       "      <td>The column consistently contains values between -1.0, and 1.0 (inclusive)</td>\n",
       "      <td>84</td>\n",
       "    </tr>\n",
       "    <tr>\n",
       "      <th>85</th>\n",
       "      <td>LESS_THAN_ONE</td>\n",
       "      <td>mean concavity</td>\n",
       "      <td>The column consistently contains values between -1.0, and 1.0 (inclusive)</td>\n",
       "      <td>85</td>\n",
       "    </tr>\n",
       "    <tr>\n",
       "      <th>86</th>\n",
       "      <td>LESS_THAN_ONE</td>\n",
       "      <td>mean concave points</td>\n",
       "      <td>The column consistently contains values between -1.0, and 1.0 (inclusive)</td>\n",
       "      <td>86</td>\n",
       "    </tr>\n",
       "    <tr>\n",
       "      <th>87</th>\n",
       "      <td>LESS_THAN_ONE</td>\n",
       "      <td>mean symmetry</td>\n",
       "      <td>The column consistently contains values between -1.0, and 1.0 (inclusive)</td>\n",
       "      <td>87</td>\n",
       "    </tr>\n",
       "    <tr>\n",
       "      <th>88</th>\n",
       "      <td>LESS_THAN_ONE</td>\n",
       "      <td>mean fractal dimension</td>\n",
       "      <td>The column consistently contains values between -1.0, and 1.0 (inclusive)</td>\n",
       "      <td>88</td>\n",
       "    </tr>\n",
       "    <tr>\n",
       "      <th>89</th>\n",
       "      <td>LESS_THAN_ONE</td>\n",
       "      <td>smoothness error</td>\n",
       "      <td>The column consistently contains values between -1.0, and 1.0 (inclusive)</td>\n",
       "      <td>89</td>\n",
       "    </tr>\n",
       "    <tr>\n",
       "      <th>90</th>\n",
       "      <td>LESS_THAN_ONE</td>\n",
       "      <td>compactness error</td>\n",
       "      <td>The column consistently contains values between -1.0, and 1.0 (inclusive)</td>\n",
       "      <td>90</td>\n",
       "    </tr>\n",
       "    <tr>\n",
       "      <th>91</th>\n",
       "      <td>LESS_THAN_ONE</td>\n",
       "      <td>concavity error</td>\n",
       "      <td>The column consistently contains values between -1.0, and 1.0 (inclusive)</td>\n",
       "      <td>91</td>\n",
       "    </tr>\n",
       "    <tr>\n",
       "      <th>92</th>\n",
       "      <td>LESS_THAN_ONE</td>\n",
       "      <td>concave points error</td>\n",
       "      <td>The column consistently contains values between -1.0, and 1.0 (inclusive)</td>\n",
       "      <td>92</td>\n",
       "    </tr>\n",
       "    <tr>\n",
       "      <th>93</th>\n",
       "      <td>LESS_THAN_ONE</td>\n",
       "      <td>symmetry error</td>\n",
       "      <td>The column consistently contains values between -1.0, and 1.0 (inclusive)</td>\n",
       "      <td>93</td>\n",
       "    </tr>\n",
       "    <tr>\n",
       "      <th>94</th>\n",
       "      <td>LESS_THAN_ONE</td>\n",
       "      <td>fractal dimension error</td>\n",
       "      <td>The column consistently contains values between -1.0, and 1.0 (inclusive)</td>\n",
       "      <td>94</td>\n",
       "    </tr>\n",
       "    <tr>\n",
       "      <th>95</th>\n",
       "      <td>LESS_THAN_ONE</td>\n",
       "      <td>worst smoothness</td>\n",
       "      <td>The column consistently contains values between -1.0, and 1.0 (inclusive)</td>\n",
       "      <td>95</td>\n",
       "    </tr>\n",
       "    <tr>\n",
       "      <th>96</th>\n",
       "      <td>LESS_THAN_ONE</td>\n",
       "      <td>worst concave points</td>\n",
       "      <td>The column consistently contains values between -1.0, and 1.0 (inclusive)</td>\n",
       "      <td>96</td>\n",
       "    </tr>\n",
       "    <tr>\n",
       "      <th>97</th>\n",
       "      <td>LESS_THAN_ONE</td>\n",
       "      <td>worst symmetry</td>\n",
       "      <td>The column consistently contains values between -1.0, and 1.0 (inclusive)</td>\n",
       "      <td>97</td>\n",
       "    </tr>\n",
       "    <tr>\n",
       "      <th>98</th>\n",
       "      <td>LESS_THAN_ONE</td>\n",
       "      <td>worst fractal dimension</td>\n",
       "      <td>The column consistently contains values between -1.0, and 1.0 (inclusive)</td>\n",
       "      <td>98</td>\n",
       "    </tr>\n",
       "    <tr>\n",
       "      <th>297</th>\n",
       "      <td>SIMILAR_WRT_RATIO</td>\n",
       "      <td>\"mean radius\" AND \"worst radius\"</td>\n",
       "      <td>\"mean radius\" and \"worst radius\" have consistently similar values in terms of their ratio</td>\n",
       "      <td>297</td>\n",
       "    </tr>\n",
       "    <tr>\n",
       "      <th>298</th>\n",
       "      <td>SIMILAR_WRT_RATIO</td>\n",
       "      <td>\"mean perimeter\" AND \"worst perimeter\"</td>\n",
       "      <td>\"mean perimeter\" and \"worst perimeter\" have consistently similar values in terms of their ratio</td>\n",
       "      <td>298</td>\n",
       "    </tr>\n",
       "    <tr>\n",
       "      <th>299</th>\n",
       "      <td>SIMILAR_WRT_RATIO</td>\n",
       "      <td>\"mean smoothness\" AND \"worst smoothness\"</td>\n",
       "      <td>\"mean smoothness\" and \"worst smoothness\" have consistently similar values in terms of their ratio</td>\n",
       "      <td>299</td>\n",
       "    </tr>\n",
       "    <tr>\n",
       "      <th>300</th>\n",
       "      <td>CORRELATED_NUMERIC</td>\n",
       "      <td>\"mean radius\" AND \"mean perimeter\"</td>\n",
       "      <td>\"mean radius\" is consistently similar, with respect to rank, to \"mean perimeter\" with a Spearman correlation of 0.9978017394617466</td>\n",
       "      <td>300</td>\n",
       "    </tr>\n",
       "    <tr>\n",
       "      <th>301</th>\n",
       "      <td>CORRELATED_NUMERIC</td>\n",
       "      <td>\"mean radius\" AND \"mean area\"</td>\n",
       "      <td>\"mean radius\" is consistently similar, with respect to rank, to \"mean area\" with a Spearman correlation of 0.9996020278067481</td>\n",
       "      <td>301</td>\n",
       "    </tr>\n",
       "    <tr>\n",
       "      <th>302</th>\n",
       "      <td>CORRELATED_NUMERIC</td>\n",
       "      <td>\"mean perimeter\" AND \"mean area\"</td>\n",
       "      <td>\"mean perimeter\" is consistently similar, with respect to rank, to \"mean area\" with a Spearman correlation of 0.9970682695182411</td>\n",
       "      <td>302</td>\n",
       "    </tr>\n",
       "    <tr>\n",
       "      <th>303</th>\n",
       "      <td>CORRELATED_NUMERIC</td>\n",
       "      <td>\"worst radius\" AND \"worst area\"</td>\n",
       "      <td>\"worst radius\" is consistently similar, with respect to rank, to \"worst area\" with a Spearman correlation of 0.9988905530905692</td>\n",
       "      <td>303</td>\n",
       "    </tr>\n",
       "    <tr>\n",
       "      <th>304</th>\n",
       "      <td>MATCHED_ZERO</td>\n",
       "      <td>\"mean concavity\" AND \"mean concave points\"</td>\n",
       "      <td>The columns \"mean concavity\" (with 13 zero values) and \"mean concave points\" (with 13 zero values) consistently have zero values in the same rows</td>\n",
       "      <td>304</td>\n",
       "    </tr>\n",
       "    <tr>\n",
       "      <th>305</th>\n",
       "      <td>MATCHED_ZERO</td>\n",
       "      <td>\"mean concavity\" AND \"concavity error\"</td>\n",
       "      <td>The columns \"mean concavity\" (with 13 zero values) and \"concavity error\" (with 13 zero values) consistently have zero values in the same rows</td>\n",
       "      <td>305</td>\n",
       "    </tr>\n",
       "    <tr>\n",
       "      <th>306</th>\n",
       "      <td>MATCHED_ZERO</td>\n",
       "      <td>\"mean concavity\" AND \"concave points error\"</td>\n",
       "      <td>The columns \"mean concavity\" (with 13 zero values) and \"concave points error\" (with 13 zero values) consistently have zero values in the same rows</td>\n",
       "      <td>306</td>\n",
       "    </tr>\n",
       "    <tr>\n",
       "      <th>307</th>\n",
       "      <td>MATCHED_ZERO</td>\n",
       "      <td>\"mean concavity\" AND \"worst concavity\"</td>\n",
       "      <td>The columns \"mean concavity\" (with 13 zero values) and \"worst concavity\" (with 13 zero values) consistently have zero values in the same rows</td>\n",
       "      <td>307</td>\n",
       "    </tr>\n",
       "    <tr>\n",
       "      <th>308</th>\n",
       "      <td>MATCHED_ZERO</td>\n",
       "      <td>\"mean concavity\" AND \"worst concave points\"</td>\n",
       "      <td>The columns \"mean concavity\" (with 13 zero values) and \"worst concave points\" (with 13 zero values) consistently have zero values in the same rows</td>\n",
       "      <td>308</td>\n",
       "    </tr>\n",
       "    <tr>\n",
       "      <th>309</th>\n",
       "      <td>MATCHED_ZERO</td>\n",
       "      <td>\"mean concave points\" AND \"concavity error\"</td>\n",
       "      <td>The columns \"mean concave points\" (with 13 zero values) and \"concavity error\" (with 13 zero values) consistently have zero values in the same rows</td>\n",
       "      <td>309</td>\n",
       "    </tr>\n",
       "    <tr>\n",
       "      <th>310</th>\n",
       "      <td>MATCHED_ZERO</td>\n",
       "      <td>\"mean concave points\" AND \"concave points error\"</td>\n",
       "      <td>The columns \"mean concave points\" (with 13 zero values) and \"concave points error\" (with 13 zero values) consistently have zero values in the same rows</td>\n",
       "      <td>310</td>\n",
       "    </tr>\n",
       "    <tr>\n",
       "      <th>311</th>\n",
       "      <td>MATCHED_ZERO</td>\n",
       "      <td>\"mean concave points\" AND \"worst concavity\"</td>\n",
       "      <td>The columns \"mean concave points\" (with 13 zero values) and \"worst concavity\" (with 13 zero values) consistently have zero values in the same rows</td>\n",
       "      <td>311</td>\n",
       "    </tr>\n",
       "    <tr>\n",
       "      <th>312</th>\n",
       "      <td>MATCHED_ZERO</td>\n",
       "      <td>\"mean concave points\" AND \"worst concave points\"</td>\n",
       "      <td>The columns \"mean concave points\" (with 13 zero values) and \"worst concave points\" (with 13 zero values) consistently have zero values in the same rows</td>\n",
       "      <td>312</td>\n",
       "    </tr>\n",
       "    <tr>\n",
       "      <th>313</th>\n",
       "      <td>MATCHED_ZERO</td>\n",
       "      <td>\"concavity error\" AND \"concave points error\"</td>\n",
       "      <td>The columns \"concavity error\" (with 13 zero values) and \"concave points error\" (with 13 zero values) consistently have zero values in the same rows</td>\n",
       "      <td>313</td>\n",
       "    </tr>\n",
       "    <tr>\n",
       "      <th>314</th>\n",
       "      <td>MATCHED_ZERO</td>\n",
       "      <td>\"concavity error\" AND \"worst concavity\"</td>\n",
       "      <td>The columns \"concavity error\" (with 13 zero values) and \"worst concavity\" (with 13 zero values) consistently have zero values in the same rows</td>\n",
       "      <td>314</td>\n",
       "    </tr>\n",
       "    <tr>\n",
       "      <th>315</th>\n",
       "      <td>MATCHED_ZERO</td>\n",
       "      <td>\"concavity error\" AND \"worst concave points\"</td>\n",
       "      <td>The columns \"concavity error\" (with 13 zero values) and \"worst concave points\" (with 13 zero values) consistently have zero values in the same rows</td>\n",
       "      <td>315</td>\n",
       "    </tr>\n",
       "    <tr>\n",
       "      <th>316</th>\n",
       "      <td>MATCHED_ZERO</td>\n",
       "      <td>\"concave points error\" AND \"worst concavity\"</td>\n",
       "      <td>The columns \"concave points error\" (with 13 zero values) and \"worst concavity\" (with 13 zero values) consistently have zero values in the same rows</td>\n",
       "      <td>316</td>\n",
       "    </tr>\n",
       "    <tr>\n",
       "      <th>317</th>\n",
       "      <td>MATCHED_ZERO</td>\n",
       "      <td>\"concave points error\" AND \"worst concave points\"</td>\n",
       "      <td>The columns \"concave points error\" (with 13 zero values) and \"worst concave points\" (with 13 zero values) consistently have zero values in the same rows</td>\n",
       "      <td>317</td>\n",
       "    </tr>\n",
       "    <tr>\n",
       "      <th>318</th>\n",
       "      <td>MATCHED_ZERO</td>\n",
       "      <td>\"worst concavity\" AND \"worst concave points\"</td>\n",
       "      <td>The columns \"worst concavity\" (with 13 zero values) and \"worst concave points\" (with 13 zero values) consistently have zero values in the same rows</td>\n",
       "      <td>318</td>\n",
       "    </tr>\n",
       "    <tr>\n",
       "      <th>320</th>\n",
       "      <td>MISSING_VALUES_PER_ROW</td>\n",
       "      <td>This test executes over all columns</td>\n",
       "      <td>The dataset consistently has  0 null values per row</td>\n",
       "      <td>320</td>\n",
       "    </tr>\n",
       "    <tr>\n",
       "      <th>321</th>\n",
       "      <td>UNIQUE_VALUES_PER_ROW</td>\n",
       "      <td>This test executes over all columns</td>\n",
       "      <td>The dataset consistently has 25 to 30 unique values per row</td>\n",
       "      <td>321</td>\n",
       "    </tr>\n",
       "    <tr>\n",
       "      <th>322</th>\n",
       "      <td>NEGATIVE_VALUES_PER_ROW</td>\n",
       "      <td>This test executes over all numeric columns</td>\n",
       "      <td>The dataset consistently has  0  negative values per row</td>\n",
       "      <td>322</td>\n",
       "    </tr>\n",
       "  </tbody>\n",
       "</table>\n",
       "</div>"
      ],
      "text/plain": [
       "                     Test ID                                          Column(s)                                                                                                                                    Description of Pattern  Pattern ID\n",
       "83             LESS_THAN_ONE                                    mean smoothness                                                                                 The column consistently contains values between -1.0, and 1.0 (inclusive)          83\n",
       "84             LESS_THAN_ONE                                   mean compactness                                                                                 The column consistently contains values between -1.0, and 1.0 (inclusive)          84\n",
       "85             LESS_THAN_ONE                                     mean concavity                                                                                 The column consistently contains values between -1.0, and 1.0 (inclusive)          85\n",
       "86             LESS_THAN_ONE                                mean concave points                                                                                 The column consistently contains values between -1.0, and 1.0 (inclusive)          86\n",
       "87             LESS_THAN_ONE                                      mean symmetry                                                                                 The column consistently contains values between -1.0, and 1.0 (inclusive)          87\n",
       "88             LESS_THAN_ONE                             mean fractal dimension                                                                                 The column consistently contains values between -1.0, and 1.0 (inclusive)          88\n",
       "89             LESS_THAN_ONE                                   smoothness error                                                                                 The column consistently contains values between -1.0, and 1.0 (inclusive)          89\n",
       "90             LESS_THAN_ONE                                  compactness error                                                                                 The column consistently contains values between -1.0, and 1.0 (inclusive)          90\n",
       "91             LESS_THAN_ONE                                    concavity error                                                                                 The column consistently contains values between -1.0, and 1.0 (inclusive)          91\n",
       "92             LESS_THAN_ONE                               concave points error                                                                                 The column consistently contains values between -1.0, and 1.0 (inclusive)          92\n",
       "93             LESS_THAN_ONE                                     symmetry error                                                                                 The column consistently contains values between -1.0, and 1.0 (inclusive)          93\n",
       "94             LESS_THAN_ONE                            fractal dimension error                                                                                 The column consistently contains values between -1.0, and 1.0 (inclusive)          94\n",
       "95             LESS_THAN_ONE                                   worst smoothness                                                                                 The column consistently contains values between -1.0, and 1.0 (inclusive)          95\n",
       "96             LESS_THAN_ONE                               worst concave points                                                                                 The column consistently contains values between -1.0, and 1.0 (inclusive)          96\n",
       "97             LESS_THAN_ONE                                     worst symmetry                                                                                 The column consistently contains values between -1.0, and 1.0 (inclusive)          97\n",
       "98             LESS_THAN_ONE                            worst fractal dimension                                                                                 The column consistently contains values between -1.0, and 1.0 (inclusive)          98\n",
       "297        SIMILAR_WRT_RATIO                   \"mean radius\" AND \"worst radius\"                                                                 \"mean radius\" and \"worst radius\" have consistently similar values in terms of their ratio         297\n",
       "298        SIMILAR_WRT_RATIO             \"mean perimeter\" AND \"worst perimeter\"                                                           \"mean perimeter\" and \"worst perimeter\" have consistently similar values in terms of their ratio         298\n",
       "299        SIMILAR_WRT_RATIO           \"mean smoothness\" AND \"worst smoothness\"                                                         \"mean smoothness\" and \"worst smoothness\" have consistently similar values in terms of their ratio         299\n",
       "300       CORRELATED_NUMERIC                 \"mean radius\" AND \"mean perimeter\"                        \"mean radius\" is consistently similar, with respect to rank, to \"mean perimeter\" with a Spearman correlation of 0.9978017394617466         300\n",
       "301       CORRELATED_NUMERIC                      \"mean radius\" AND \"mean area\"                             \"mean radius\" is consistently similar, with respect to rank, to \"mean area\" with a Spearman correlation of 0.9996020278067481         301\n",
       "302       CORRELATED_NUMERIC                   \"mean perimeter\" AND \"mean area\"                          \"mean perimeter\" is consistently similar, with respect to rank, to \"mean area\" with a Spearman correlation of 0.9970682695182411         302\n",
       "303       CORRELATED_NUMERIC                    \"worst radius\" AND \"worst area\"                           \"worst radius\" is consistently similar, with respect to rank, to \"worst area\" with a Spearman correlation of 0.9988905530905692         303\n",
       "304             MATCHED_ZERO         \"mean concavity\" AND \"mean concave points\"         The columns \"mean concavity\" (with 13 zero values) and \"mean concave points\" (with 13 zero values) consistently have zero values in the same rows         304\n",
       "305             MATCHED_ZERO             \"mean concavity\" AND \"concavity error\"             The columns \"mean concavity\" (with 13 zero values) and \"concavity error\" (with 13 zero values) consistently have zero values in the same rows         305\n",
       "306             MATCHED_ZERO        \"mean concavity\" AND \"concave points error\"        The columns \"mean concavity\" (with 13 zero values) and \"concave points error\" (with 13 zero values) consistently have zero values in the same rows         306\n",
       "307             MATCHED_ZERO             \"mean concavity\" AND \"worst concavity\"             The columns \"mean concavity\" (with 13 zero values) and \"worst concavity\" (with 13 zero values) consistently have zero values in the same rows         307\n",
       "308             MATCHED_ZERO        \"mean concavity\" AND \"worst concave points\"        The columns \"mean concavity\" (with 13 zero values) and \"worst concave points\" (with 13 zero values) consistently have zero values in the same rows         308\n",
       "309             MATCHED_ZERO        \"mean concave points\" AND \"concavity error\"        The columns \"mean concave points\" (with 13 zero values) and \"concavity error\" (with 13 zero values) consistently have zero values in the same rows         309\n",
       "310             MATCHED_ZERO   \"mean concave points\" AND \"concave points error\"   The columns \"mean concave points\" (with 13 zero values) and \"concave points error\" (with 13 zero values) consistently have zero values in the same rows         310\n",
       "311             MATCHED_ZERO        \"mean concave points\" AND \"worst concavity\"        The columns \"mean concave points\" (with 13 zero values) and \"worst concavity\" (with 13 zero values) consistently have zero values in the same rows         311\n",
       "312             MATCHED_ZERO   \"mean concave points\" AND \"worst concave points\"   The columns \"mean concave points\" (with 13 zero values) and \"worst concave points\" (with 13 zero values) consistently have zero values in the same rows         312\n",
       "313             MATCHED_ZERO       \"concavity error\" AND \"concave points error\"       The columns \"concavity error\" (with 13 zero values) and \"concave points error\" (with 13 zero values) consistently have zero values in the same rows         313\n",
       "314             MATCHED_ZERO            \"concavity error\" AND \"worst concavity\"            The columns \"concavity error\" (with 13 zero values) and \"worst concavity\" (with 13 zero values) consistently have zero values in the same rows         314\n",
       "315             MATCHED_ZERO       \"concavity error\" AND \"worst concave points\"       The columns \"concavity error\" (with 13 zero values) and \"worst concave points\" (with 13 zero values) consistently have zero values in the same rows         315\n",
       "316             MATCHED_ZERO       \"concave points error\" AND \"worst concavity\"       The columns \"concave points error\" (with 13 zero values) and \"worst concavity\" (with 13 zero values) consistently have zero values in the same rows         316\n",
       "317             MATCHED_ZERO  \"concave points error\" AND \"worst concave points\"  The columns \"concave points error\" (with 13 zero values) and \"worst concave points\" (with 13 zero values) consistently have zero values in the same rows         317\n",
       "318             MATCHED_ZERO       \"worst concavity\" AND \"worst concave points\"       The columns \"worst concavity\" (with 13 zero values) and \"worst concave points\" (with 13 zero values) consistently have zero values in the same rows         318\n",
       "320   MISSING_VALUES_PER_ROW                This test executes over all columns                                                                                                       The dataset consistently has  0 null values per row         320\n",
       "321    UNIQUE_VALUES_PER_ROW                This test executes over all columns                                                                                               The dataset consistently has 25 to 30 unique values per row         321\n",
       "322  NEGATIVE_VALUES_PER_ROW        This test executes over all numeric columns                                                                                                  The dataset consistently has  0  negative values per row         322"
      ]
     },
     "execution_count": 18,
     "metadata": {},
     "output_type": "execute_result"
    }
   ],
   "source": [
    "# List each pattern found in more detail. This lists every pattern found, and for each,\n",
    "# the Test ID, the column or set of columns where the pattern was found, and a \n",
    "# description of the pattern. This lists only patterns that have no exceptions. \n",
    "\n",
    "dc.get_patterns_list()"
   ]
  },
  {
   "cell_type": "code",
   "execution_count": 19,
   "id": "9680d0b4",
   "metadata": {
    "scrolled": false
   },
   "outputs": [
    {
     "data": {
      "text/html": [
       "<div>\n",
       "<style scoped>\n",
       "    .dataframe tbody tr th:only-of-type {\n",
       "        vertical-align: middle;\n",
       "    }\n",
       "\n",
       "    .dataframe tbody tr th {\n",
       "        vertical-align: top;\n",
       "    }\n",
       "\n",
       "    .dataframe thead th {\n",
       "        text-align: right;\n",
       "    }\n",
       "</style>\n",
       "<table border=\"1\" class=\"dataframe\">\n",
       "  <thead>\n",
       "    <tr style=\"text-align: right;\">\n",
       "      <th></th>\n",
       "      <th>Test ID</th>\n",
       "      <th>Column(s)</th>\n",
       "      <th>Description of Pattern</th>\n",
       "      <th>Number of Exceptions</th>\n",
       "      <th>Issue ID</th>\n",
       "    </tr>\n",
       "  </thead>\n",
       "  <tbody>\n",
       "    <tr>\n",
       "      <th>0</th>\n",
       "      <td>NUMBER_DECIMALS</td>\n",
       "      <td>mean concavity</td>\n",
       "      <td>The column contains values consistently with 0, 2, 3, 4, 5 decimals, with exceptions.</td>\n",
       "      <td>1</td>\n",
       "      <td>0</td>\n",
       "    </tr>\n",
       "    <tr>\n",
       "      <th>1</th>\n",
       "      <td>NUMBER_DECIMALS</td>\n",
       "      <td>concavity error</td>\n",
       "      <td>The column contains values consistently with 0, 2, 3, 4, 5 decimals, with exceptions.</td>\n",
       "      <td>2</td>\n",
       "      <td>1</td>\n",
       "    </tr>\n",
       "    <tr>\n",
       "      <th>2</th>\n",
       "      <td>NUMBER_DECIMALS</td>\n",
       "      <td>worst concave points</td>\n",
       "      <td>The column contains values consistently with 0, 2, 3, 4 decimals, with exceptions.</td>\n",
       "      <td>2</td>\n",
       "      <td>2</td>\n",
       "    </tr>\n",
       "    <tr>\n",
       "      <th>3</th>\n",
       "      <td>UNUSUAL_ORDER_MAGNITUDE</td>\n",
       "      <td>area error</td>\n",
       "      <td>This test checks for values of an unusual order of magnitude, etc. Each value is described in terms of its order, or powers of 10. For example 10 is order 1, 100 is order 2, 1000 is order 3, etc. All numbers are rounded to the nearest order of magnitude, which may be 0 for numbers less than 5.0. The column contains values in the range 6.802 to 542.2, and consistently in the order of 1.0 or 2.0, with exceptions.</td>\n",
       "      <td>2</td>\n",
       "      <td>3</td>\n",
       "    </tr>\n",
       "    <tr>\n",
       "      <th>4</th>\n",
       "      <td>FEW_NEIGHBORS</td>\n",
       "      <td>mean area</td>\n",
       "      <td>The test marked any values more than 235.750 away from both the next smallest and next largest values in the column.</td>\n",
       "      <td>1</td>\n",
       "      <td>4</td>\n",
       "    </tr>\n",
       "    <tr>\n",
       "      <th>5</th>\n",
       "      <td>FEW_NEIGHBORS</td>\n",
       "      <td>radius error</td>\n",
       "      <td>The test marked any values more than 0.276 away from both the next smallest and next largest values in the column.</td>\n",
       "      <td>1</td>\n",
       "      <td>5</td>\n",
       "    </tr>\n",
       "    <tr>\n",
       "      <th>6</th>\n",
       "      <td>FEW_NEIGHBORS</td>\n",
       "      <td>perimeter error</td>\n",
       "      <td>The test marked any values more than 2.122 away from both the next smallest and next largest values in the column.</td>\n",
       "      <td>1</td>\n",
       "      <td>6</td>\n",
       "    </tr>\n",
       "    <tr>\n",
       "      <th>7</th>\n",
       "      <td>FEW_NEIGHBORS</td>\n",
       "      <td>concavity error</td>\n",
       "      <td>The test marked any values more than 0.040 away from both the next smallest and next largest values in the column.</td>\n",
       "      <td>1</td>\n",
       "      <td>7</td>\n",
       "    </tr>\n",
       "    <tr>\n",
       "      <th>8</th>\n",
       "      <td>FEW_NEIGHBORS</td>\n",
       "      <td>fractal dimension error</td>\n",
       "      <td>The test marked any values more than 0.003 away from both the next smallest and next largest values in the column.</td>\n",
       "      <td>1</td>\n",
       "      <td>8</td>\n",
       "    </tr>\n",
       "    <tr>\n",
       "      <th>9</th>\n",
       "      <td>FEW_NEIGHBORS</td>\n",
       "      <td>worst fractal dimension</td>\n",
       "      <td>The test marked any values more than 0.015 away from both the next smallest and next largest values in the column.</td>\n",
       "      <td>1</td>\n",
       "      <td>9</td>\n",
       "    </tr>\n",
       "    <tr>\n",
       "      <th>10</th>\n",
       "      <td>VERY_LARGE</td>\n",
       "      <td>mean fractal dimension</td>\n",
       "      <td>The test marked any values larger than 0.10 as very large given the 25th quartile is 0.0577 and 75th is 0.06612.</td>\n",
       "      <td>2</td>\n",
       "      <td>10</td>\n",
       "    </tr>\n",
       "    <tr>\n",
       "      <th>11</th>\n",
       "      <td>VERY_LARGE</td>\n",
       "      <td>texture error</td>\n",
       "      <td>The test marked any values larger than 3.71 as very large given the 25th quartile is 0.8339 and 75th is 1.474.</td>\n",
       "      <td>2</td>\n",
       "      <td>11</td>\n",
       "    </tr>\n",
       "    <tr>\n",
       "      <th>12</th>\n",
       "      <td>VERY_LARGE</td>\n",
       "      <td>concave points error</td>\n",
       "      <td>The test marked any values larger than 0.04 as very large given the 25th quartile is 0.007638 and 75th is 0.01471.</td>\n",
       "      <td>2</td>\n",
       "      <td>12</td>\n",
       "    </tr>\n",
       "    <tr>\n",
       "      <th>13</th>\n",
       "      <td>VERY_LARGE</td>\n",
       "      <td>worst compactness</td>\n",
       "      <td>The test marked any values larger than 1.01 as very large given the 25th quartile is 0.1472 and 75th is 0.3391.</td>\n",
       "      <td>1</td>\n",
       "      <td>13</td>\n",
       "    </tr>\n",
       "    <tr>\n",
       "      <th>14</th>\n",
       "      <td>VERY_LARGE</td>\n",
       "      <td>worst fractal dimension</td>\n",
       "      <td>The test marked any values larger than 0.16 as very large given the 25th quartile is 0.07146 and 75th is 0.09208.</td>\n",
       "      <td>2</td>\n",
       "      <td>14</td>\n",
       "    </tr>\n",
       "    <tr>\n",
       "      <th>15</th>\n",
       "      <td>LESS_THAN_ONE</td>\n",
       "      <td>worst compactness</td>\n",
       "      <td>The column consistently contains values between -1.0, and 1.0 (inclusive), with exceptions.</td>\n",
       "      <td>1</td>\n",
       "      <td>15</td>\n",
       "    </tr>\n",
       "    <tr>\n",
       "      <th>16</th>\n",
       "      <td>LARGER</td>\n",
       "      <td>\"mean texture\" AND \"perimeter error\"</td>\n",
       "      <td>\"mean texture\" is consistently larger than \"perimeter error\", with exceptions.</td>\n",
       "      <td>1</td>\n",
       "      <td>16</td>\n",
       "    </tr>\n",
       "    <tr>\n",
       "      <th>17</th>\n",
       "      <td>LARGER</td>\n",
       "      <td>\"mean smoothness\" AND \"mean fractal dimension\"</td>\n",
       "      <td>\"mean smoothness\" is consistently larger than \"mean fractal dimension\", with exceptions.</td>\n",
       "      <td>1</td>\n",
       "      <td>17</td>\n",
       "    </tr>\n",
       "    <tr>\n",
       "      <th>18</th>\n",
       "      <td>LARGER</td>\n",
       "      <td>\"mean compactness\" AND \"symmetry error\"</td>\n",
       "      <td>\"mean compactness\" is consistently larger than \"symmetry error\", with exceptions.</td>\n",
       "      <td>2</td>\n",
       "      <td>18</td>\n",
       "    </tr>\n",
       "    <tr>\n",
       "      <th>19</th>\n",
       "      <td>LARGER</td>\n",
       "      <td>\"mean symmetry\" AND \"mean concave points\"</td>\n",
       "      <td>\"mean symmetry\" is consistently larger than \"mean concave points\", with exceptions.</td>\n",
       "      <td>2</td>\n",
       "      <td>19</td>\n",
       "    </tr>\n",
       "    <tr>\n",
       "      <th>20</th>\n",
       "      <td>LARGER</td>\n",
       "      <td>\"mean symmetry\" AND \"worst fractal dimension\"</td>\n",
       "      <td>\"mean symmetry\" is consistently larger than \"worst fractal dimension\", with exceptions.</td>\n",
       "      <td>1</td>\n",
       "      <td>20</td>\n",
       "    </tr>\n",
       "    <tr>\n",
       "      <th>21</th>\n",
       "      <td>LARGER</td>\n",
       "      <td>\"radius error\" AND \"concavity error\"</td>\n",
       "      <td>\"radius error\" is consistently larger than \"concavity error\".</td>\n",
       "      <td>1</td>\n",
       "      <td>21</td>\n",
       "    </tr>\n",
       "    <tr>\n",
       "      <th>22</th>\n",
       "      <td>LARGER</td>\n",
       "      <td>\"radius error\" AND \"worst fractal dimension\"</td>\n",
       "      <td>\"radius error\" is consistently larger than \"worst fractal dimension\", with exceptions.</td>\n",
       "      <td>1</td>\n",
       "      <td>22</td>\n",
       "    </tr>\n",
       "    <tr>\n",
       "      <th>23</th>\n",
       "      <td>LARGER</td>\n",
       "      <td>\"symmetry error\" AND \"smoothness error\"</td>\n",
       "      <td>\"symmetry error\" is consistently larger than \"smoothness error\", with exceptions.</td>\n",
       "      <td>1</td>\n",
       "      <td>23</td>\n",
       "    </tr>\n",
       "    <tr>\n",
       "      <th>24</th>\n",
       "      <td>LARGER</td>\n",
       "      <td>\"symmetry error\" AND \"fractal dimension error\"</td>\n",
       "      <td>\"symmetry error\" is consistently larger than \"fractal dimension error\", with exceptions.</td>\n",
       "      <td>1</td>\n",
       "      <td>24</td>\n",
       "    </tr>\n",
       "    <tr>\n",
       "      <th>25</th>\n",
       "      <td>LARGER</td>\n",
       "      <td>\"worst texture\" AND \"perimeter error\"</td>\n",
       "      <td>\"worst texture\" is consistently larger than \"perimeter error\".</td>\n",
       "      <td>1</td>\n",
       "      <td>25</td>\n",
       "    </tr>\n",
       "    <tr>\n",
       "      <th>26</th>\n",
       "      <td>LARGER</td>\n",
       "      <td>\"worst smoothness\" AND \"compactness error\"</td>\n",
       "      <td>\"worst smoothness\" is consistently larger than \"compactness error\", with exceptions.</td>\n",
       "      <td>1</td>\n",
       "      <td>26</td>\n",
       "    </tr>\n",
       "    <tr>\n",
       "      <th>27</th>\n",
       "      <td>LARGER</td>\n",
       "      <td>\"worst compactness\" AND \"mean concave points\"</td>\n",
       "      <td>\"worst compactness\" is consistently larger than \"mean concave points\", with exceptions.</td>\n",
       "      <td>1</td>\n",
       "      <td>27</td>\n",
       "    </tr>\n",
       "    <tr>\n",
       "      <th>28</th>\n",
       "      <td>LARGER</td>\n",
       "      <td>\"worst compactness\" AND \"concavity error\"</td>\n",
       "      <td>\"worst compactness\" is consistently larger than \"concavity error\", with exceptions.</td>\n",
       "      <td>1</td>\n",
       "      <td>28</td>\n",
       "    </tr>\n",
       "    <tr>\n",
       "      <th>29</th>\n",
       "      <td>LARGER</td>\n",
       "      <td>\"worst compactness\" AND \"symmetry error\"</td>\n",
       "      <td>\"worst compactness\" is consistently larger than \"symmetry error\".</td>\n",
       "      <td>1</td>\n",
       "      <td>29</td>\n",
       "    </tr>\n",
       "    <tr>\n",
       "      <th>30</th>\n",
       "      <td>LARGER</td>\n",
       "      <td>\"worst concavity\" AND \"concave points error\"</td>\n",
       "      <td>\"worst concavity\" is consistently larger than \"concave points error\".</td>\n",
       "      <td>2</td>\n",
       "      <td>30</td>\n",
       "    </tr>\n",
       "    <tr>\n",
       "      <th>31</th>\n",
       "      <td>LARGER</td>\n",
       "      <td>\"worst symmetry\" AND \"mean compactness\"</td>\n",
       "      <td>\"worst symmetry\" is consistently larger than \"mean compactness\", with exceptions.</td>\n",
       "      <td>1</td>\n",
       "      <td>31</td>\n",
       "    </tr>\n",
       "    <tr>\n",
       "      <th>32</th>\n",
       "      <td>LARGER</td>\n",
       "      <td>\"worst symmetry\" AND \"concavity error\"</td>\n",
       "      <td>\"worst symmetry\" is consistently larger than \"concavity error\".</td>\n",
       "      <td>1</td>\n",
       "      <td>32</td>\n",
       "    </tr>\n",
       "    <tr>\n",
       "      <th>33</th>\n",
       "      <td>MUCH_LARGER</td>\n",
       "      <td>\"radius error\" AND \"mean radius\"</td>\n",
       "      <td>\"mean radius\" is consistently an order of magnitude or more larger than \"radius error\", with exceptions (where values may still be larger, but not by the normal extent).</td>\n",
       "      <td>1</td>\n",
       "      <td>33</td>\n",
       "    </tr>\n",
       "    <tr>\n",
       "      <th>34</th>\n",
       "      <td>MUCH_LARGER</td>\n",
       "      <td>\"radius error\" AND \"mean texture\"</td>\n",
       "      <td>\"mean texture\" is consistently an order of magnitude or more larger than \"radius error\", with exceptions (where values may still be larger, but not by the normal extent).</td>\n",
       "      <td>2</td>\n",
       "      <td>34</td>\n",
       "    </tr>\n",
       "    <tr>\n",
       "      <th>35</th>\n",
       "      <td>MUCH_LARGER</td>\n",
       "      <td>\"perimeter error\" AND \"mean perimeter\"</td>\n",
       "      <td>\"mean perimeter\" is consistently an order of magnitude or more larger than \"perimeter error\", with exceptions (where values may still be larger, but not by the normal extent).</td>\n",
       "      <td>1</td>\n",
       "      <td>35</td>\n",
       "    </tr>\n",
       "    <tr>\n",
       "      <th>36</th>\n",
       "      <td>MUCH_LARGER</td>\n",
       "      <td>\"fractal dimension error\" AND \"radius error\"</td>\n",
       "      <td>\"radius error\" is consistently an order of magnitude or more larger than \"fractal dimension error\", with exceptions (where values may still be larger, but not by the normal extent).</td>\n",
       "      <td>1</td>\n",
       "      <td>36</td>\n",
       "    </tr>\n",
       "    <tr>\n",
       "      <th>37</th>\n",
       "      <td>MUCH_LARGER</td>\n",
       "      <td>\"radius error\" AND \"worst radius\"</td>\n",
       "      <td>\"worst radius\" is consistently an order of magnitude or more larger than \"radius error\", with exceptions (where values may still be larger, but not by the normal extent).</td>\n",
       "      <td>1</td>\n",
       "      <td>37</td>\n",
       "    </tr>\n",
       "    <tr>\n",
       "      <th>38</th>\n",
       "      <td>MUCH_LARGER</td>\n",
       "      <td>\"radius error\" AND \"worst texture\"</td>\n",
       "      <td>\"worst texture\" is consistently an order of magnitude or more larger than \"radius error\", with exceptions (where values may still be larger, but not by the normal extent).</td>\n",
       "      <td>1</td>\n",
       "      <td>38</td>\n",
       "    </tr>\n",
       "    <tr>\n",
       "      <th>39</th>\n",
       "      <td>MUCH_LARGER</td>\n",
       "      <td>\"perimeter error\" AND \"worst perimeter\"</td>\n",
       "      <td>\"worst perimeter\" is consistently an order of magnitude or more larger than \"perimeter error\", with exceptions (where values may still be larger, but not by the normal extent).</td>\n",
       "      <td>1</td>\n",
       "      <td>39</td>\n",
       "    </tr>\n",
       "    <tr>\n",
       "      <th>40</th>\n",
       "      <td>MUCH_LARGER</td>\n",
       "      <td>\"mean texture\" AND \"worst area\"</td>\n",
       "      <td>\"worst area\" is consistently an order of magnitude or more larger than \"mean texture\", with exceptions (where values may still be larger, but not by the normal extent).</td>\n",
       "      <td>2</td>\n",
       "      <td>40</td>\n",
       "    </tr>\n",
       "    <tr>\n",
       "      <th>41</th>\n",
       "      <td>MUCH_LARGER</td>\n",
       "      <td>\"fractal dimension error\" AND \"worst compactness\"</td>\n",
       "      <td>\"worst compactness\" is consistently an order of magnitude or more larger than \"fractal dimension error\", with exceptions (where values may still be larger, but not by the normal extent).</td>\n",
       "      <td>1</td>\n",
       "      <td>41</td>\n",
       "    </tr>\n",
       "    <tr>\n",
       "      <th>42</th>\n",
       "      <td>MUCH_LARGER</td>\n",
       "      <td>\"smoothness error\" AND \"worst symmetry\"</td>\n",
       "      <td>\"worst symmetry\" is consistently an order of magnitude or more larger than \"smoothness error\", with exceptions (where values may still be larger, but not by the normal extent).</td>\n",
       "      <td>2</td>\n",
       "      <td>42</td>\n",
       "    </tr>\n",
       "    <tr>\n",
       "      <th>43</th>\n",
       "      <td>MUCH_LARGER</td>\n",
       "      <td>\"fractal dimension error\" AND \"worst symmetry\"</td>\n",
       "      <td>\"worst symmetry\" is consistently an order of magnitude or more larger than \"fractal dimension error\", with exceptions (where values may still be larger, but not by the normal extent).</td>\n",
       "      <td>1</td>\n",
       "      <td>43</td>\n",
       "    </tr>\n",
       "    <tr>\n",
       "      <th>44</th>\n",
       "      <td>SIMILAR_WRT_RATIO</td>\n",
       "      <td>\"mean texture\" AND \"worst texture\"</td>\n",
       "      <td>\"mean texture\" and \"worst texture\" have consistently similar values in terms of their ratio, with exceptions.</td>\n",
       "      <td>1</td>\n",
       "      <td>44</td>\n",
       "    </tr>\n",
       "    <tr>\n",
       "      <th>45</th>\n",
       "      <td>SIMILAR_WRT_RATIO</td>\n",
       "      <td>\"mean smoothness\" AND \"worst fractal dimension\"</td>\n",
       "      <td>\"mean smoothness\" and \"worst fractal dimension\" have consistently similar values in terms of their ratio, with exceptions.</td>\n",
       "      <td>2</td>\n",
       "      <td>45</td>\n",
       "    </tr>\n",
       "    <tr>\n",
       "      <th>46</th>\n",
       "      <td>SIMILAR_WRT_RATIO</td>\n",
       "      <td>\"mean fractal dimension\" AND \"worst fractal dimension\"</td>\n",
       "      <td>\"mean fractal dimension\" and \"worst fractal dimension\" have consistently similar values in terms of their ratio, with exceptions.</td>\n",
       "      <td>2</td>\n",
       "      <td>46</td>\n",
       "    </tr>\n",
       "    <tr>\n",
       "      <th>47</th>\n",
       "      <td>RARE_COMBINATION</td>\n",
       "      <td>\"mean texture\" AND \"worst area\"</td>\n",
       "      <td>One or more rare combinations of values were found.</td>\n",
       "      <td>1</td>\n",
       "      <td>47</td>\n",
       "    </tr>\n",
       "    <tr>\n",
       "      <th>48</th>\n",
       "      <td>RARE_COMBINATION</td>\n",
       "      <td>\"mean area\" AND \"texture error\"</td>\n",
       "      <td>One or more rare combinations of values were found.</td>\n",
       "      <td>1</td>\n",
       "      <td>48</td>\n",
       "    </tr>\n",
       "    <tr>\n",
       "      <th>49</th>\n",
       "      <td>RARE_COMBINATION</td>\n",
       "      <td>\"mean area\" AND \"compactness error\"</td>\n",
       "      <td>One or more rare combinations of values were found.</td>\n",
       "      <td>1</td>\n",
       "      <td>49</td>\n",
       "    </tr>\n",
       "    <tr>\n",
       "      <th>50</th>\n",
       "      <td>RARE_COMBINATION</td>\n",
       "      <td>\"mean area\" AND \"symmetry error\"</td>\n",
       "      <td>One or more rare combinations of values were found.</td>\n",
       "      <td>1</td>\n",
       "      <td>50</td>\n",
       "    </tr>\n",
       "    <tr>\n",
       "      <th>51</th>\n",
       "      <td>RARE_COMBINATION</td>\n",
       "      <td>\"mean compactness\" AND \"texture error\"</td>\n",
       "      <td>One or more rare combinations of values were found.</td>\n",
       "      <td>1</td>\n",
       "      <td>51</td>\n",
       "    </tr>\n",
       "    <tr>\n",
       "      <th>52</th>\n",
       "      <td>RARE_COMBINATION</td>\n",
       "      <td>\"mean concavity\" AND \"symmetry error\"</td>\n",
       "      <td>One or more rare combinations of values were found.</td>\n",
       "      <td>2</td>\n",
       "      <td>52</td>\n",
       "    </tr>\n",
       "    <tr>\n",
       "      <th>53</th>\n",
       "      <td>RARE_COMBINATION</td>\n",
       "      <td>\"mean concave points\" AND \"texture error\"</td>\n",
       "      <td>One or more rare combinations of values were found.</td>\n",
       "      <td>1</td>\n",
       "      <td>53</td>\n",
       "    </tr>\n",
       "    <tr>\n",
       "      <th>54</th>\n",
       "      <td>RARE_COMBINATION</td>\n",
       "      <td>\"texture error\" AND \"symmetry error\"</td>\n",
       "      <td>One or more rare combinations of values were found.</td>\n",
       "      <td>2</td>\n",
       "      <td>54</td>\n",
       "    </tr>\n",
       "    <tr>\n",
       "      <th>55</th>\n",
       "      <td>RARE_COMBINATION</td>\n",
       "      <td>\"smoothness error\" AND \"symmetry error\"</td>\n",
       "      <td>One or more rare combinations of values were found.</td>\n",
       "      <td>1</td>\n",
       "      <td>55</td>\n",
       "    </tr>\n",
       "    <tr>\n",
       "      <th>56</th>\n",
       "      <td>RARE_COMBINATION</td>\n",
       "      <td>\"symmetry error\" AND \"worst compactness\"</td>\n",
       "      <td>One or more rare combinations of values were found.</td>\n",
       "      <td>2</td>\n",
       "      <td>56</td>\n",
       "    </tr>\n",
       "    <tr>\n",
       "      <th>57</th>\n",
       "      <td>LARGER_THAN_SUM</td>\n",
       "      <td>\"mean smoothness\" AND \"mean fractal dimension\" AND \"worst symmetry\"</td>\n",
       "      <td>The values in \"worst symmetry\" are consistently larger than the sum of \"mean smoothness\",  and \"mean fractal dimension\", with exceptions.</td>\n",
       "      <td>2</td>\n",
       "      <td>57</td>\n",
       "    </tr>\n",
       "  </tbody>\n",
       "</table>\n",
       "</div>"
      ],
      "text/plain": [
       "                    Test ID                                                            Column(s)                                                                                                                                                                                                                                                                                                                                                                                                          Description of Pattern  Number of Exceptions  Issue ID\n",
       "0           NUMBER_DECIMALS                                                       mean concavity                                                                                                                                                                                                                                                                                                                                           The column contains values consistently with 0, 2, 3, 4, 5 decimals, with exceptions.                     1         0\n",
       "1           NUMBER_DECIMALS                                                      concavity error                                                                                                                                                                                                                                                                                                                                           The column contains values consistently with 0, 2, 3, 4, 5 decimals, with exceptions.                     2         1\n",
       "2           NUMBER_DECIMALS                                                 worst concave points                                                                                                                                                                                                                                                                                                                                              The column contains values consistently with 0, 2, 3, 4 decimals, with exceptions.                     2         2\n",
       "3   UNUSUAL_ORDER_MAGNITUDE                                                           area error  This test checks for values of an unusual order of magnitude, etc. Each value is described in terms of its order, or powers of 10. For example 10 is order 1, 100 is order 2, 1000 is order 3, etc. All numbers are rounded to the nearest order of magnitude, which may be 0 for numbers less than 5.0. The column contains values in the range 6.802 to 542.2, and consistently in the order of 1.0 or 2.0, with exceptions.                     2         3\n",
       "4             FEW_NEIGHBORS                                                            mean area                                                                                                                                                                                                                                                                                                            The test marked any values more than 235.750 away from both the next smallest and next largest values in the column.                     1         4\n",
       "5             FEW_NEIGHBORS                                                         radius error                                                                                                                                                                                                                                                                                                              The test marked any values more than 0.276 away from both the next smallest and next largest values in the column.                     1         5\n",
       "6             FEW_NEIGHBORS                                                      perimeter error                                                                                                                                                                                                                                                                                                              The test marked any values more than 2.122 away from both the next smallest and next largest values in the column.                     1         6\n",
       "7             FEW_NEIGHBORS                                                      concavity error                                                                                                                                                                                                                                                                                                              The test marked any values more than 0.040 away from both the next smallest and next largest values in the column.                     1         7\n",
       "8             FEW_NEIGHBORS                                              fractal dimension error                                                                                                                                                                                                                                                                                                              The test marked any values more than 0.003 away from both the next smallest and next largest values in the column.                     1         8\n",
       "9             FEW_NEIGHBORS                                              worst fractal dimension                                                                                                                                                                                                                                                                                                              The test marked any values more than 0.015 away from both the next smallest and next largest values in the column.                     1         9\n",
       "10               VERY_LARGE                                               mean fractal dimension                                                                                                                                                                                                                                                                                                                The test marked any values larger than 0.10 as very large given the 25th quartile is 0.0577 and 75th is 0.06612.                     2        10\n",
       "11               VERY_LARGE                                                        texture error                                                                                                                                                                                                                                                                                                                  The test marked any values larger than 3.71 as very large given the 25th quartile is 0.8339 and 75th is 1.474.                     2        11\n",
       "12               VERY_LARGE                                                 concave points error                                                                                                                                                                                                                                                                                                              The test marked any values larger than 0.04 as very large given the 25th quartile is 0.007638 and 75th is 0.01471.                     2        12\n",
       "13               VERY_LARGE                                                    worst compactness                                                                                                                                                                                                                                                                                                                 The test marked any values larger than 1.01 as very large given the 25th quartile is 0.1472 and 75th is 0.3391.                     1        13\n",
       "14               VERY_LARGE                                              worst fractal dimension                                                                                                                                                                                                                                                                                                               The test marked any values larger than 0.16 as very large given the 25th quartile is 0.07146 and 75th is 0.09208.                     2        14\n",
       "15            LESS_THAN_ONE                                                    worst compactness                                                                                                                                                                                                                                                                                                                                     The column consistently contains values between -1.0, and 1.0 (inclusive), with exceptions.                     1        15\n",
       "16                   LARGER                                 \"mean texture\" AND \"perimeter error\"                                                                                                                                                                                                                                                                                                                                                  \"mean texture\" is consistently larger than \"perimeter error\", with exceptions.                     1        16\n",
       "17                   LARGER                       \"mean smoothness\" AND \"mean fractal dimension\"                                                                                                                                                                                                                                                                                                                                        \"mean smoothness\" is consistently larger than \"mean fractal dimension\", with exceptions.                     1        17\n",
       "18                   LARGER                              \"mean compactness\" AND \"symmetry error\"                                                                                                                                                                                                                                                                                                                                               \"mean compactness\" is consistently larger than \"symmetry error\", with exceptions.                     2        18\n",
       "19                   LARGER                            \"mean symmetry\" AND \"mean concave points\"                                                                                                                                                                                                                                                                                                                                             \"mean symmetry\" is consistently larger than \"mean concave points\", with exceptions.                     2        19\n",
       "20                   LARGER                        \"mean symmetry\" AND \"worst fractal dimension\"                                                                                                                                                                                                                                                                                                                                         \"mean symmetry\" is consistently larger than \"worst fractal dimension\", with exceptions.                     1        20\n",
       "21                   LARGER                                 \"radius error\" AND \"concavity error\"                                                                                                                                                                                                                                                                                                                                                                   \"radius error\" is consistently larger than \"concavity error\".                     1        21\n",
       "22                   LARGER                         \"radius error\" AND \"worst fractal dimension\"                                                                                                                                                                                                                                                                                                                                          \"radius error\" is consistently larger than \"worst fractal dimension\", with exceptions.                     1        22\n",
       "23                   LARGER                              \"symmetry error\" AND \"smoothness error\"                                                                                                                                                                                                                                                                                                                                               \"symmetry error\" is consistently larger than \"smoothness error\", with exceptions.                     1        23\n",
       "24                   LARGER                       \"symmetry error\" AND \"fractal dimension error\"                                                                                                                                                                                                                                                                                                                                        \"symmetry error\" is consistently larger than \"fractal dimension error\", with exceptions.                     1        24\n",
       "25                   LARGER                                \"worst texture\" AND \"perimeter error\"                                                                                                                                                                                                                                                                                                                                                                  \"worst texture\" is consistently larger than \"perimeter error\".                     1        25\n",
       "26                   LARGER                           \"worst smoothness\" AND \"compactness error\"                                                                                                                                                                                                                                                                                                                                            \"worst smoothness\" is consistently larger than \"compactness error\", with exceptions.                     1        26\n",
       "27                   LARGER                        \"worst compactness\" AND \"mean concave points\"                                                                                                                                                                                                                                                                                                                                         \"worst compactness\" is consistently larger than \"mean concave points\", with exceptions.                     1        27\n",
       "28                   LARGER                            \"worst compactness\" AND \"concavity error\"                                                                                                                                                                                                                                                                                                                                             \"worst compactness\" is consistently larger than \"concavity error\", with exceptions.                     1        28\n",
       "29                   LARGER                             \"worst compactness\" AND \"symmetry error\"                                                                                                                                                                                                                                                                                                                                                               \"worst compactness\" is consistently larger than \"symmetry error\".                     1        29\n",
       "30                   LARGER                         \"worst concavity\" AND \"concave points error\"                                                                                                                                                                                                                                                                                                                                                           \"worst concavity\" is consistently larger than \"concave points error\".                     2        30\n",
       "31                   LARGER                              \"worst symmetry\" AND \"mean compactness\"                                                                                                                                                                                                                                                                                                                                               \"worst symmetry\" is consistently larger than \"mean compactness\", with exceptions.                     1        31\n",
       "32                   LARGER                               \"worst symmetry\" AND \"concavity error\"                                                                                                                                                                                                                                                                                                                                                                 \"worst symmetry\" is consistently larger than \"concavity error\".                     1        32\n",
       "33              MUCH_LARGER                                     \"radius error\" AND \"mean radius\"                                                                                                                                                                                                                                                       \"mean radius\" is consistently an order of magnitude or more larger than \"radius error\", with exceptions (where values may still be larger, but not by the normal extent).                     1        33\n",
       "34              MUCH_LARGER                                    \"radius error\" AND \"mean texture\"                                                                                                                                                                                                                                                      \"mean texture\" is consistently an order of magnitude or more larger than \"radius error\", with exceptions (where values may still be larger, but not by the normal extent).                     2        34\n",
       "35              MUCH_LARGER                               \"perimeter error\" AND \"mean perimeter\"                                                                                                                                                                                                                                                 \"mean perimeter\" is consistently an order of magnitude or more larger than \"perimeter error\", with exceptions (where values may still be larger, but not by the normal extent).                     1        35\n",
       "36              MUCH_LARGER                         \"fractal dimension error\" AND \"radius error\"                                                                                                                                                                                                                                           \"radius error\" is consistently an order of magnitude or more larger than \"fractal dimension error\", with exceptions (where values may still be larger, but not by the normal extent).                     1        36\n",
       "37              MUCH_LARGER                                    \"radius error\" AND \"worst radius\"                                                                                                                                                                                                                                                      \"worst radius\" is consistently an order of magnitude or more larger than \"radius error\", with exceptions (where values may still be larger, but not by the normal extent).                     1        37\n",
       "38              MUCH_LARGER                                   \"radius error\" AND \"worst texture\"                                                                                                                                                                                                                                                     \"worst texture\" is consistently an order of magnitude or more larger than \"radius error\", with exceptions (where values may still be larger, but not by the normal extent).                     1        38\n",
       "39              MUCH_LARGER                              \"perimeter error\" AND \"worst perimeter\"                                                                                                                                                                                                                                                \"worst perimeter\" is consistently an order of magnitude or more larger than \"perimeter error\", with exceptions (where values may still be larger, but not by the normal extent).                     1        39\n",
       "40              MUCH_LARGER                                      \"mean texture\" AND \"worst area\"                                                                                                                                                                                                                                                        \"worst area\" is consistently an order of magnitude or more larger than \"mean texture\", with exceptions (where values may still be larger, but not by the normal extent).                     2        40\n",
       "41              MUCH_LARGER                    \"fractal dimension error\" AND \"worst compactness\"                                                                                                                                                                                                                                      \"worst compactness\" is consistently an order of magnitude or more larger than \"fractal dimension error\", with exceptions (where values may still be larger, but not by the normal extent).                     1        41\n",
       "42              MUCH_LARGER                              \"smoothness error\" AND \"worst symmetry\"                                                                                                                                                                                                                                                \"worst symmetry\" is consistently an order of magnitude or more larger than \"smoothness error\", with exceptions (where values may still be larger, but not by the normal extent).                     2        42\n",
       "43              MUCH_LARGER                       \"fractal dimension error\" AND \"worst symmetry\"                                                                                                                                                                                                                                         \"worst symmetry\" is consistently an order of magnitude or more larger than \"fractal dimension error\", with exceptions (where values may still be larger, but not by the normal extent).                     1        43\n",
       "44        SIMILAR_WRT_RATIO                                   \"mean texture\" AND \"worst texture\"                                                                                                                                                                                                                                                                                                                   \"mean texture\" and \"worst texture\" have consistently similar values in terms of their ratio, with exceptions.                     1        44\n",
       "45        SIMILAR_WRT_RATIO                      \"mean smoothness\" AND \"worst fractal dimension\"                                                                                                                                                                                                                                                                                                      \"mean smoothness\" and \"worst fractal dimension\" have consistently similar values in terms of their ratio, with exceptions.                     2        45\n",
       "46        SIMILAR_WRT_RATIO               \"mean fractal dimension\" AND \"worst fractal dimension\"                                                                                                                                                                                                                                                                                               \"mean fractal dimension\" and \"worst fractal dimension\" have consistently similar values in terms of their ratio, with exceptions.                     2        46\n",
       "47         RARE_COMBINATION                                      \"mean texture\" AND \"worst area\"                                                                                                                                                                                                                                                                                                                                                                             One or more rare combinations of values were found.                     1        47\n",
       "48         RARE_COMBINATION                                      \"mean area\" AND \"texture error\"                                                                                                                                                                                                                                                                                                                                                                             One or more rare combinations of values were found.                     1        48\n",
       "49         RARE_COMBINATION                                  \"mean area\" AND \"compactness error\"                                                                                                                                                                                                                                                                                                                                                                             One or more rare combinations of values were found.                     1        49\n",
       "50         RARE_COMBINATION                                     \"mean area\" AND \"symmetry error\"                                                                                                                                                                                                                                                                                                                                                                             One or more rare combinations of values were found.                     1        50\n",
       "51         RARE_COMBINATION                               \"mean compactness\" AND \"texture error\"                                                                                                                                                                                                                                                                                                                                                                             One or more rare combinations of values were found.                     1        51\n",
       "52         RARE_COMBINATION                                \"mean concavity\" AND \"symmetry error\"                                                                                                                                                                                                                                                                                                                                                                             One or more rare combinations of values were found.                     2        52\n",
       "53         RARE_COMBINATION                            \"mean concave points\" AND \"texture error\"                                                                                                                                                                                                                                                                                                                                                                             One or more rare combinations of values were found.                     1        53\n",
       "54         RARE_COMBINATION                                 \"texture error\" AND \"symmetry error\"                                                                                                                                                                                                                                                                                                                                                                             One or more rare combinations of values were found.                     2        54\n",
       "55         RARE_COMBINATION                              \"smoothness error\" AND \"symmetry error\"                                                                                                                                                                                                                                                                                                                                                                             One or more rare combinations of values were found.                     1        55\n",
       "56         RARE_COMBINATION                             \"symmetry error\" AND \"worst compactness\"                                                                                                                                                                                                                                                                                                                                                                             One or more rare combinations of values were found.                     2        56\n",
       "57          LARGER_THAN_SUM  \"mean smoothness\" AND \"mean fractal dimension\" AND \"worst symmetry\"                                                                                                                                                                                                                                                                                       The values in \"worst symmetry\" are consistently larger than the sum of \"mean smoothness\",  and \"mean fractal dimension\", with exceptions.                     2        57"
      ]
     },
     "execution_count": 19,
     "metadata": {},
     "output_type": "execute_result"
    }
   ],
   "source": [
    "# This provides a similar report, except for the patterns that have exceptions. \n",
    "# Here, the number of exceptions found, as well as Issue ID are also included.\n",
    "# Issue ID may be used in calls to display_detailed_results() to focus on this\n",
    "# specific issue if desired. \n",
    "\n",
    "dc.get_exceptions_list()"
   ]
  },
  {
   "cell_type": "code",
   "execution_count": 20,
   "id": "4da87e61",
   "metadata": {},
   "outputs": [
    {
     "data": {
      "text/html": [
       "<div>\n",
       "<style scoped>\n",
       "    .dataframe tbody tr th:only-of-type {\n",
       "        vertical-align: middle;\n",
       "    }\n",
       "\n",
       "    .dataframe tbody tr th {\n",
       "        vertical-align: top;\n",
       "    }\n",
       "\n",
       "    .dataframe thead th {\n",
       "        text-align: right;\n",
       "    }\n",
       "</style>\n",
       "<table border=\"1\" class=\"dataframe\">\n",
       "  <thead>\n",
       "    <tr style=\"text-align: right;\">\n",
       "      <th></th>\n",
       "      <th>Number of Columns Flagged At Least Once</th>\n",
       "      <th>Number of Issues Total</th>\n",
       "    </tr>\n",
       "    <tr>\n",
       "      <th>Test ID</th>\n",
       "      <th></th>\n",
       "      <th></th>\n",
       "    </tr>\n",
       "  </thead>\n",
       "  <tbody>\n",
       "    <tr>\n",
       "      <th>NUMBER_DECIMALS</th>\n",
       "      <td>3</td>\n",
       "      <td>5</td>\n",
       "    </tr>\n",
       "    <tr>\n",
       "      <th>UNUSUAL_ORDER_MAGNITUDE</th>\n",
       "      <td>1</td>\n",
       "      <td>2</td>\n",
       "    </tr>\n",
       "    <tr>\n",
       "      <th>FEW_NEIGHBORS</th>\n",
       "      <td>6</td>\n",
       "      <td>6</td>\n",
       "    </tr>\n",
       "    <tr>\n",
       "      <th>VERY_LARGE</th>\n",
       "      <td>5</td>\n",
       "      <td>9</td>\n",
       "    </tr>\n",
       "    <tr>\n",
       "      <th>LESS_THAN_ONE</th>\n",
       "      <td>1</td>\n",
       "      <td>1</td>\n",
       "    </tr>\n",
       "    <tr>\n",
       "      <th>LARGER</th>\n",
       "      <td>17</td>\n",
       "      <td>20</td>\n",
       "    </tr>\n",
       "    <tr>\n",
       "      <th>MUCH_LARGER</th>\n",
       "      <td>11</td>\n",
       "      <td>14</td>\n",
       "    </tr>\n",
       "    <tr>\n",
       "      <th>SIMILAR_WRT_RATIO</th>\n",
       "      <td>3</td>\n",
       "      <td>5</td>\n",
       "    </tr>\n",
       "    <tr>\n",
       "      <th>RARE_COMBINATION</th>\n",
       "      <td>10</td>\n",
       "      <td>13</td>\n",
       "    </tr>\n",
       "    <tr>\n",
       "      <th>LARGER_THAN_SUM</th>\n",
       "      <td>1</td>\n",
       "      <td>2</td>\n",
       "    </tr>\n",
       "  </tbody>\n",
       "</table>\n",
       "</div>"
      ],
      "text/plain": [
       "                         Number of Columns Flagged At Least Once  Number of Issues Total\n",
       "Test ID                                                                                 \n",
       "NUMBER_DECIMALS                                                3                       5\n",
       "UNUSUAL_ORDER_MAGNITUDE                                        1                       2\n",
       "FEW_NEIGHBORS                                                  6                       6\n",
       "VERY_LARGE                                                     5                       9\n",
       "LESS_THAN_ONE                                                  1                       1\n",
       "LARGER                                                        17                      20\n",
       "MUCH_LARGER                                                   11                      14\n",
       "SIMILAR_WRT_RATIO                                              3                       5\n",
       "RARE_COMBINATION                                              10                      13\n",
       "LARGER_THAN_SUM                                                1                       2"
      ]
     },
     "execution_count": 20,
     "metadata": {},
     "output_type": "execute_result"
    }
   ],
   "source": [
    "# summarize_exceptions_by_test() gives a sense of which tests are \n",
    "# identifying the most exceptions in this dataset. This may indicate\n",
    "# where more attention should be focussed, or in other cases, where\n",
    "# the most issues should be cleared to reduce noise, if any may be\n",
    "# deemed insignificant, or already understood. \n",
    "\n",
    "dc.summarize_exceptions_by_test()"
   ]
  },
  {
   "cell_type": "code",
   "execution_count": 21,
   "id": "9f8b745f",
   "metadata": {
    "scrolled": false
   },
   "outputs": [
    {
     "name": "stdout",
     "output_type": "stream",
     "text": [
      "\n"
     ]
    },
    {
     "data": {
      "text/markdown": [
       "**Row: 212 — Final Score: 13**"
      ],
      "text/plain": [
       "<IPython.core.display.Markdown object>"
      ]
     },
     "metadata": {},
     "output_type": "display_data"
    },
    {
     "data": {
      "text/html": [
       "<style type=\"text/css\">\n",
       "#T_4b6dc_row0_col1, #T_4b6dc_row0_col2, #T_4b6dc_row0_col3, #T_4b6dc_row0_col5, #T_4b6dc_row0_col7, #T_4b6dc_row0_col8, #T_4b6dc_row0_col10, #T_4b6dc_row0_col11, #T_4b6dc_row0_col13, #T_4b6dc_row0_col14, #T_4b6dc_row0_col19, #T_4b6dc_row0_col21, #T_4b6dc_row0_col22, #T_4b6dc_row0_col23, #T_4b6dc_row0_col26, #T_4b6dc_row0_col29, #T_4b6dc_row0_col30 {\n",
       "  background-color: #efecc3;\n",
       "  color: black;\n",
       "}\n",
       "#T_4b6dc_row0_col4, #T_4b6dc_row0_col6, #T_4b6dc_row0_col9, #T_4b6dc_row0_col12, #T_4b6dc_row0_col15, #T_4b6dc_row0_col16, #T_4b6dc_row0_col17, #T_4b6dc_row0_col18, #T_4b6dc_row0_col20, #T_4b6dc_row0_col24, #T_4b6dc_row0_col25, #T_4b6dc_row0_col27, #T_4b6dc_row0_col28 {\n",
       "  background-color: #e5f8fa;\n",
       "  color: black;\n",
       "}\n",
       "</style>\n",
       "<table id=\"T_4b6dc_\">\n",
       "  <thead>\n",
       "    <tr>\n",
       "      <th class=\"blank level0\" >&nbsp;</th>\n",
       "      <th class=\"col_heading level0 col0\" >Test ID</th>\n",
       "      <th class=\"col_heading level0 col1\" >mean radius</th>\n",
       "      <th class=\"col_heading level0 col2\" >mean texture</th>\n",
       "      <th class=\"col_heading level0 col3\" >mean perimeter</th>\n",
       "      <th class=\"col_heading level0 col4\" >mean area</th>\n",
       "      <th class=\"col_heading level0 col5\" >mean smoothness</th>\n",
       "      <th class=\"col_heading level0 col6\" >mean compactness</th>\n",
       "      <th class=\"col_heading level0 col7\" >mean concavity</th>\n",
       "      <th class=\"col_heading level0 col8\" >mean concave points</th>\n",
       "      <th class=\"col_heading level0 col9\" >mean symmetry</th>\n",
       "      <th class=\"col_heading level0 col10\" >mean fractal dimension</th>\n",
       "      <th class=\"col_heading level0 col11\" >radius error</th>\n",
       "      <th class=\"col_heading level0 col12\" >texture error</th>\n",
       "      <th class=\"col_heading level0 col13\" >perimeter error</th>\n",
       "      <th class=\"col_heading level0 col14\" >area error</th>\n",
       "      <th class=\"col_heading level0 col15\" >smoothness error</th>\n",
       "      <th class=\"col_heading level0 col16\" >compactness error</th>\n",
       "      <th class=\"col_heading level0 col17\" >concavity error</th>\n",
       "      <th class=\"col_heading level0 col18\" >concave points error</th>\n",
       "      <th class=\"col_heading level0 col19\" >symmetry error</th>\n",
       "      <th class=\"col_heading level0 col20\" >fractal dimension error</th>\n",
       "      <th class=\"col_heading level0 col21\" >worst radius</th>\n",
       "      <th class=\"col_heading level0 col22\" >worst texture</th>\n",
       "      <th class=\"col_heading level0 col23\" >worst perimeter</th>\n",
       "      <th class=\"col_heading level0 col24\" >worst area</th>\n",
       "      <th class=\"col_heading level0 col25\" >worst smoothness</th>\n",
       "      <th class=\"col_heading level0 col26\" >worst compactness</th>\n",
       "      <th class=\"col_heading level0 col27\" >worst concavity</th>\n",
       "      <th class=\"col_heading level0 col28\" >worst concave points</th>\n",
       "      <th class=\"col_heading level0 col29\" >worst symmetry</th>\n",
       "      <th class=\"col_heading level0 col30\" >worst fractal dimension</th>\n",
       "    </tr>\n",
       "  </thead>\n",
       "  <tbody>\n",
       "    <tr>\n",
       "      <th id=\"T_4b6dc_level0_row0\" class=\"row_heading level0 row0\" >0</th>\n",
       "      <td id=\"T_4b6dc_row0_col0\" class=\"data row0 col0\" ></td>\n",
       "      <td id=\"T_4b6dc_row0_col1\" class=\"data row0 col1\" >28.110000</td>\n",
       "      <td id=\"T_4b6dc_row0_col2\" class=\"data row0 col2\" >18.470000</td>\n",
       "      <td id=\"T_4b6dc_row0_col3\" class=\"data row0 col3\" >188.500000</td>\n",
       "      <td id=\"T_4b6dc_row0_col4\" class=\"data row0 col4\" >2499.000000</td>\n",
       "      <td id=\"T_4b6dc_row0_col5\" class=\"data row0 col5\" >0.114200</td>\n",
       "      <td id=\"T_4b6dc_row0_col6\" class=\"data row0 col6\" >0.151600</td>\n",
       "      <td id=\"T_4b6dc_row0_col7\" class=\"data row0 col7\" >0.320100</td>\n",
       "      <td id=\"T_4b6dc_row0_col8\" class=\"data row0 col8\" >0.159500</td>\n",
       "      <td id=\"T_4b6dc_row0_col9\" class=\"data row0 col9\" >0.164800</td>\n",
       "      <td id=\"T_4b6dc_row0_col10\" class=\"data row0 col10\" >0.055250</td>\n",
       "      <td id=\"T_4b6dc_row0_col11\" class=\"data row0 col11\" >2.873000</td>\n",
       "      <td id=\"T_4b6dc_row0_col12\" class=\"data row0 col12\" >1.476000</td>\n",
       "      <td id=\"T_4b6dc_row0_col13\" class=\"data row0 col13\" >21.980000</td>\n",
       "      <td id=\"T_4b6dc_row0_col14\" class=\"data row0 col14\" >525.600000</td>\n",
       "      <td id=\"T_4b6dc_row0_col15\" class=\"data row0 col15\" >0.013450</td>\n",
       "      <td id=\"T_4b6dc_row0_col16\" class=\"data row0 col16\" >0.027720</td>\n",
       "      <td id=\"T_4b6dc_row0_col17\" class=\"data row0 col17\" >0.063890</td>\n",
       "      <td id=\"T_4b6dc_row0_col18\" class=\"data row0 col18\" >0.014070</td>\n",
       "      <td id=\"T_4b6dc_row0_col19\" class=\"data row0 col19\" >0.047830</td>\n",
       "      <td id=\"T_4b6dc_row0_col20\" class=\"data row0 col20\" >0.004476</td>\n",
       "      <td id=\"T_4b6dc_row0_col21\" class=\"data row0 col21\" >28.110000</td>\n",
       "      <td id=\"T_4b6dc_row0_col22\" class=\"data row0 col22\" >18.470000</td>\n",
       "      <td id=\"T_4b6dc_row0_col23\" class=\"data row0 col23\" >188.500000</td>\n",
       "      <td id=\"T_4b6dc_row0_col24\" class=\"data row0 col24\" >2499.000000</td>\n",
       "      <td id=\"T_4b6dc_row0_col25\" class=\"data row0 col25\" >0.114200</td>\n",
       "      <td id=\"T_4b6dc_row0_col26\" class=\"data row0 col26\" >0.151600</td>\n",
       "      <td id=\"T_4b6dc_row0_col27\" class=\"data row0 col27\" >0.320100</td>\n",
       "      <td id=\"T_4b6dc_row0_col28\" class=\"data row0 col28\" >0.159500</td>\n",
       "      <td id=\"T_4b6dc_row0_col29\" class=\"data row0 col29\" >0.164800</td>\n",
       "      <td id=\"T_4b6dc_row0_col30\" class=\"data row0 col30\" >0.055250</td>\n",
       "    </tr>\n",
       "    <tr>\n",
       "      <th id=\"T_4b6dc_level0_row1\" class=\"row_heading level0 row1\" >1</th>\n",
       "      <td id=\"T_4b6dc_row1_col0\" class=\"data row1 col0\" >UNUSUAL_ORDER_MAGNITUDE</td>\n",
       "      <td id=\"T_4b6dc_row1_col1\" class=\"data row1 col1\" ></td>\n",
       "      <td id=\"T_4b6dc_row1_col2\" class=\"data row1 col2\" ></td>\n",
       "      <td id=\"T_4b6dc_row1_col3\" class=\"data row1 col3\" ></td>\n",
       "      <td id=\"T_4b6dc_row1_col4\" class=\"data row1 col4\" ></td>\n",
       "      <td id=\"T_4b6dc_row1_col5\" class=\"data row1 col5\" ></td>\n",
       "      <td id=\"T_4b6dc_row1_col6\" class=\"data row1 col6\" ></td>\n",
       "      <td id=\"T_4b6dc_row1_col7\" class=\"data row1 col7\" ></td>\n",
       "      <td id=\"T_4b6dc_row1_col8\" class=\"data row1 col8\" ></td>\n",
       "      <td id=\"T_4b6dc_row1_col9\" class=\"data row1 col9\" ></td>\n",
       "      <td id=\"T_4b6dc_row1_col10\" class=\"data row1 col10\" ></td>\n",
       "      <td id=\"T_4b6dc_row1_col11\" class=\"data row1 col11\" ></td>\n",
       "      <td id=\"T_4b6dc_row1_col12\" class=\"data row1 col12\" ></td>\n",
       "      <td id=\"T_4b6dc_row1_col13\" class=\"data row1 col13\" ></td>\n",
       "      <td id=\"T_4b6dc_row1_col14\" class=\"data row1 col14\" >✔</td>\n",
       "      <td id=\"T_4b6dc_row1_col15\" class=\"data row1 col15\" ></td>\n",
       "      <td id=\"T_4b6dc_row1_col16\" class=\"data row1 col16\" ></td>\n",
       "      <td id=\"T_4b6dc_row1_col17\" class=\"data row1 col17\" ></td>\n",
       "      <td id=\"T_4b6dc_row1_col18\" class=\"data row1 col18\" ></td>\n",
       "      <td id=\"T_4b6dc_row1_col19\" class=\"data row1 col19\" ></td>\n",
       "      <td id=\"T_4b6dc_row1_col20\" class=\"data row1 col20\" ></td>\n",
       "      <td id=\"T_4b6dc_row1_col21\" class=\"data row1 col21\" ></td>\n",
       "      <td id=\"T_4b6dc_row1_col22\" class=\"data row1 col22\" ></td>\n",
       "      <td id=\"T_4b6dc_row1_col23\" class=\"data row1 col23\" ></td>\n",
       "      <td id=\"T_4b6dc_row1_col24\" class=\"data row1 col24\" ></td>\n",
       "      <td id=\"T_4b6dc_row1_col25\" class=\"data row1 col25\" ></td>\n",
       "      <td id=\"T_4b6dc_row1_col26\" class=\"data row1 col26\" ></td>\n",
       "      <td id=\"T_4b6dc_row1_col27\" class=\"data row1 col27\" ></td>\n",
       "      <td id=\"T_4b6dc_row1_col28\" class=\"data row1 col28\" ></td>\n",
       "      <td id=\"T_4b6dc_row1_col29\" class=\"data row1 col29\" ></td>\n",
       "      <td id=\"T_4b6dc_row1_col30\" class=\"data row1 col30\" ></td>\n",
       "    </tr>\n",
       "    <tr>\n",
       "      <th id=\"T_4b6dc_level0_row2\" class=\"row_heading level0 row2\" >2</th>\n",
       "      <td id=\"T_4b6dc_row2_col0\" class=\"data row2 col0\" >LARGER</td>\n",
       "      <td id=\"T_4b6dc_row2_col1\" class=\"data row2 col1\" ></td>\n",
       "      <td id=\"T_4b6dc_row2_col2\" class=\"data row2 col2\" >✔</td>\n",
       "      <td id=\"T_4b6dc_row2_col3\" class=\"data row2 col3\" ></td>\n",
       "      <td id=\"T_4b6dc_row2_col4\" class=\"data row2 col4\" ></td>\n",
       "      <td id=\"T_4b6dc_row2_col5\" class=\"data row2 col5\" ></td>\n",
       "      <td id=\"T_4b6dc_row2_col6\" class=\"data row2 col6\" ></td>\n",
       "      <td id=\"T_4b6dc_row2_col7\" class=\"data row2 col7\" ></td>\n",
       "      <td id=\"T_4b6dc_row2_col8\" class=\"data row2 col8\" >✔</td>\n",
       "      <td id=\"T_4b6dc_row2_col9\" class=\"data row2 col9\" ></td>\n",
       "      <td id=\"T_4b6dc_row2_col10\" class=\"data row2 col10\" ></td>\n",
       "      <td id=\"T_4b6dc_row2_col11\" class=\"data row2 col11\" ></td>\n",
       "      <td id=\"T_4b6dc_row2_col12\" class=\"data row2 col12\" ></td>\n",
       "      <td id=\"T_4b6dc_row2_col13\" class=\"data row2 col13\" >✔</td>\n",
       "      <td id=\"T_4b6dc_row2_col14\" class=\"data row2 col14\" ></td>\n",
       "      <td id=\"T_4b6dc_row2_col15\" class=\"data row2 col15\" ></td>\n",
       "      <td id=\"T_4b6dc_row2_col16\" class=\"data row2 col16\" ></td>\n",
       "      <td id=\"T_4b6dc_row2_col17\" class=\"data row2 col17\" ></td>\n",
       "      <td id=\"T_4b6dc_row2_col18\" class=\"data row2 col18\" ></td>\n",
       "      <td id=\"T_4b6dc_row2_col19\" class=\"data row2 col19\" ></td>\n",
       "      <td id=\"T_4b6dc_row2_col20\" class=\"data row2 col20\" ></td>\n",
       "      <td id=\"T_4b6dc_row2_col21\" class=\"data row2 col21\" ></td>\n",
       "      <td id=\"T_4b6dc_row2_col22\" class=\"data row2 col22\" >✔</td>\n",
       "      <td id=\"T_4b6dc_row2_col23\" class=\"data row2 col23\" ></td>\n",
       "      <td id=\"T_4b6dc_row2_col24\" class=\"data row2 col24\" ></td>\n",
       "      <td id=\"T_4b6dc_row2_col25\" class=\"data row2 col25\" ></td>\n",
       "      <td id=\"T_4b6dc_row2_col26\" class=\"data row2 col26\" >✔</td>\n",
       "      <td id=\"T_4b6dc_row2_col27\" class=\"data row2 col27\" ></td>\n",
       "      <td id=\"T_4b6dc_row2_col28\" class=\"data row2 col28\" ></td>\n",
       "      <td id=\"T_4b6dc_row2_col29\" class=\"data row2 col29\" ></td>\n",
       "      <td id=\"T_4b6dc_row2_col30\" class=\"data row2 col30\" ></td>\n",
       "    </tr>\n",
       "    <tr>\n",
       "      <th id=\"T_4b6dc_level0_row3\" class=\"row_heading level0 row3\" >3</th>\n",
       "      <td id=\"T_4b6dc_row3_col0\" class=\"data row3 col0\" >MUCH_LARGER</td>\n",
       "      <td id=\"T_4b6dc_row3_col1\" class=\"data row3 col1\" >✔</td>\n",
       "      <td id=\"T_4b6dc_row3_col2\" class=\"data row3 col2\" >✔</td>\n",
       "      <td id=\"T_4b6dc_row3_col3\" class=\"data row3 col3\" >✔</td>\n",
       "      <td id=\"T_4b6dc_row3_col4\" class=\"data row3 col4\" ></td>\n",
       "      <td id=\"T_4b6dc_row3_col5\" class=\"data row3 col5\" ></td>\n",
       "      <td id=\"T_4b6dc_row3_col6\" class=\"data row3 col6\" ></td>\n",
       "      <td id=\"T_4b6dc_row3_col7\" class=\"data row3 col7\" ></td>\n",
       "      <td id=\"T_4b6dc_row3_col8\" class=\"data row3 col8\" ></td>\n",
       "      <td id=\"T_4b6dc_row3_col9\" class=\"data row3 col9\" ></td>\n",
       "      <td id=\"T_4b6dc_row3_col10\" class=\"data row3 col10\" ></td>\n",
       "      <td id=\"T_4b6dc_row3_col11\" class=\"data row3 col11\" >✔</td>\n",
       "      <td id=\"T_4b6dc_row3_col12\" class=\"data row3 col12\" ></td>\n",
       "      <td id=\"T_4b6dc_row3_col13\" class=\"data row3 col13\" >✔</td>\n",
       "      <td id=\"T_4b6dc_row3_col14\" class=\"data row3 col14\" ></td>\n",
       "      <td id=\"T_4b6dc_row3_col15\" class=\"data row3 col15\" ></td>\n",
       "      <td id=\"T_4b6dc_row3_col16\" class=\"data row3 col16\" ></td>\n",
       "      <td id=\"T_4b6dc_row3_col17\" class=\"data row3 col17\" ></td>\n",
       "      <td id=\"T_4b6dc_row3_col18\" class=\"data row3 col18\" ></td>\n",
       "      <td id=\"T_4b6dc_row3_col19\" class=\"data row3 col19\" ></td>\n",
       "      <td id=\"T_4b6dc_row3_col20\" class=\"data row3 col20\" ></td>\n",
       "      <td id=\"T_4b6dc_row3_col21\" class=\"data row3 col21\" >✔</td>\n",
       "      <td id=\"T_4b6dc_row3_col22\" class=\"data row3 col22\" >✔</td>\n",
       "      <td id=\"T_4b6dc_row3_col23\" class=\"data row3 col23\" >✔</td>\n",
       "      <td id=\"T_4b6dc_row3_col24\" class=\"data row3 col24\" ></td>\n",
       "      <td id=\"T_4b6dc_row3_col25\" class=\"data row3 col25\" ></td>\n",
       "      <td id=\"T_4b6dc_row3_col26\" class=\"data row3 col26\" ></td>\n",
       "      <td id=\"T_4b6dc_row3_col27\" class=\"data row3 col27\" ></td>\n",
       "      <td id=\"T_4b6dc_row3_col28\" class=\"data row3 col28\" ></td>\n",
       "      <td id=\"T_4b6dc_row3_col29\" class=\"data row3 col29\" ></td>\n",
       "      <td id=\"T_4b6dc_row3_col30\" class=\"data row3 col30\" ></td>\n",
       "    </tr>\n",
       "    <tr>\n",
       "      <th id=\"T_4b6dc_level0_row4\" class=\"row_heading level0 row4\" >4</th>\n",
       "      <td id=\"T_4b6dc_row4_col0\" class=\"data row4 col0\" >SIMILAR_WRT_RATIO</td>\n",
       "      <td id=\"T_4b6dc_row4_col1\" class=\"data row4 col1\" ></td>\n",
       "      <td id=\"T_4b6dc_row4_col2\" class=\"data row4 col2\" ></td>\n",
       "      <td id=\"T_4b6dc_row4_col3\" class=\"data row4 col3\" ></td>\n",
       "      <td id=\"T_4b6dc_row4_col4\" class=\"data row4 col4\" ></td>\n",
       "      <td id=\"T_4b6dc_row4_col5\" class=\"data row4 col5\" >✔</td>\n",
       "      <td id=\"T_4b6dc_row4_col6\" class=\"data row4 col6\" ></td>\n",
       "      <td id=\"T_4b6dc_row4_col7\" class=\"data row4 col7\" ></td>\n",
       "      <td id=\"T_4b6dc_row4_col8\" class=\"data row4 col8\" ></td>\n",
       "      <td id=\"T_4b6dc_row4_col9\" class=\"data row4 col9\" ></td>\n",
       "      <td id=\"T_4b6dc_row4_col10\" class=\"data row4 col10\" ></td>\n",
       "      <td id=\"T_4b6dc_row4_col11\" class=\"data row4 col11\" ></td>\n",
       "      <td id=\"T_4b6dc_row4_col12\" class=\"data row4 col12\" ></td>\n",
       "      <td id=\"T_4b6dc_row4_col13\" class=\"data row4 col13\" ></td>\n",
       "      <td id=\"T_4b6dc_row4_col14\" class=\"data row4 col14\" ></td>\n",
       "      <td id=\"T_4b6dc_row4_col15\" class=\"data row4 col15\" ></td>\n",
       "      <td id=\"T_4b6dc_row4_col16\" class=\"data row4 col16\" ></td>\n",
       "      <td id=\"T_4b6dc_row4_col17\" class=\"data row4 col17\" ></td>\n",
       "      <td id=\"T_4b6dc_row4_col18\" class=\"data row4 col18\" ></td>\n",
       "      <td id=\"T_4b6dc_row4_col19\" class=\"data row4 col19\" ></td>\n",
       "      <td id=\"T_4b6dc_row4_col20\" class=\"data row4 col20\" ></td>\n",
       "      <td id=\"T_4b6dc_row4_col21\" class=\"data row4 col21\" ></td>\n",
       "      <td id=\"T_4b6dc_row4_col22\" class=\"data row4 col22\" ></td>\n",
       "      <td id=\"T_4b6dc_row4_col23\" class=\"data row4 col23\" ></td>\n",
       "      <td id=\"T_4b6dc_row4_col24\" class=\"data row4 col24\" ></td>\n",
       "      <td id=\"T_4b6dc_row4_col25\" class=\"data row4 col25\" ></td>\n",
       "      <td id=\"T_4b6dc_row4_col26\" class=\"data row4 col26\" ></td>\n",
       "      <td id=\"T_4b6dc_row4_col27\" class=\"data row4 col27\" ></td>\n",
       "      <td id=\"T_4b6dc_row4_col28\" class=\"data row4 col28\" ></td>\n",
       "      <td id=\"T_4b6dc_row4_col29\" class=\"data row4 col29\" ></td>\n",
       "      <td id=\"T_4b6dc_row4_col30\" class=\"data row4 col30\" >✔</td>\n",
       "    </tr>\n",
       "    <tr>\n",
       "      <th id=\"T_4b6dc_level0_row5\" class=\"row_heading level0 row5\" >5</th>\n",
       "      <td id=\"T_4b6dc_row5_col0\" class=\"data row5 col0\" >RARE_COMBINATION</td>\n",
       "      <td id=\"T_4b6dc_row5_col1\" class=\"data row5 col1\" ></td>\n",
       "      <td id=\"T_4b6dc_row5_col2\" class=\"data row5 col2\" ></td>\n",
       "      <td id=\"T_4b6dc_row5_col3\" class=\"data row5 col3\" ></td>\n",
       "      <td id=\"T_4b6dc_row5_col4\" class=\"data row5 col4\" ></td>\n",
       "      <td id=\"T_4b6dc_row5_col5\" class=\"data row5 col5\" ></td>\n",
       "      <td id=\"T_4b6dc_row5_col6\" class=\"data row5 col6\" ></td>\n",
       "      <td id=\"T_4b6dc_row5_col7\" class=\"data row5 col7\" >✔</td>\n",
       "      <td id=\"T_4b6dc_row5_col8\" class=\"data row5 col8\" ></td>\n",
       "      <td id=\"T_4b6dc_row5_col9\" class=\"data row5 col9\" ></td>\n",
       "      <td id=\"T_4b6dc_row5_col10\" class=\"data row5 col10\" ></td>\n",
       "      <td id=\"T_4b6dc_row5_col11\" class=\"data row5 col11\" ></td>\n",
       "      <td id=\"T_4b6dc_row5_col12\" class=\"data row5 col12\" ></td>\n",
       "      <td id=\"T_4b6dc_row5_col13\" class=\"data row5 col13\" ></td>\n",
       "      <td id=\"T_4b6dc_row5_col14\" class=\"data row5 col14\" ></td>\n",
       "      <td id=\"T_4b6dc_row5_col15\" class=\"data row5 col15\" ></td>\n",
       "      <td id=\"T_4b6dc_row5_col16\" class=\"data row5 col16\" ></td>\n",
       "      <td id=\"T_4b6dc_row5_col17\" class=\"data row5 col17\" ></td>\n",
       "      <td id=\"T_4b6dc_row5_col18\" class=\"data row5 col18\" ></td>\n",
       "      <td id=\"T_4b6dc_row5_col19\" class=\"data row5 col19\" >✔</td>\n",
       "      <td id=\"T_4b6dc_row5_col20\" class=\"data row5 col20\" ></td>\n",
       "      <td id=\"T_4b6dc_row5_col21\" class=\"data row5 col21\" ></td>\n",
       "      <td id=\"T_4b6dc_row5_col22\" class=\"data row5 col22\" ></td>\n",
       "      <td id=\"T_4b6dc_row5_col23\" class=\"data row5 col23\" ></td>\n",
       "      <td id=\"T_4b6dc_row5_col24\" class=\"data row5 col24\" ></td>\n",
       "      <td id=\"T_4b6dc_row5_col25\" class=\"data row5 col25\" ></td>\n",
       "      <td id=\"T_4b6dc_row5_col26\" class=\"data row5 col26\" ></td>\n",
       "      <td id=\"T_4b6dc_row5_col27\" class=\"data row5 col27\" ></td>\n",
       "      <td id=\"T_4b6dc_row5_col28\" class=\"data row5 col28\" ></td>\n",
       "      <td id=\"T_4b6dc_row5_col29\" class=\"data row5 col29\" ></td>\n",
       "      <td id=\"T_4b6dc_row5_col30\" class=\"data row5 col30\" ></td>\n",
       "    </tr>\n",
       "    <tr>\n",
       "      <th id=\"T_4b6dc_level0_row6\" class=\"row_heading level0 row6\" >6</th>\n",
       "      <td id=\"T_4b6dc_row6_col0\" class=\"data row6 col0\" >LARGER_THAN_SUM</td>\n",
       "      <td id=\"T_4b6dc_row6_col1\" class=\"data row6 col1\" ></td>\n",
       "      <td id=\"T_4b6dc_row6_col2\" class=\"data row6 col2\" ></td>\n",
       "      <td id=\"T_4b6dc_row6_col3\" class=\"data row6 col3\" ></td>\n",
       "      <td id=\"T_4b6dc_row6_col4\" class=\"data row6 col4\" ></td>\n",
       "      <td id=\"T_4b6dc_row6_col5\" class=\"data row6 col5\" >✔</td>\n",
       "      <td id=\"T_4b6dc_row6_col6\" class=\"data row6 col6\" ></td>\n",
       "      <td id=\"T_4b6dc_row6_col7\" class=\"data row6 col7\" ></td>\n",
       "      <td id=\"T_4b6dc_row6_col8\" class=\"data row6 col8\" ></td>\n",
       "      <td id=\"T_4b6dc_row6_col9\" class=\"data row6 col9\" ></td>\n",
       "      <td id=\"T_4b6dc_row6_col10\" class=\"data row6 col10\" >✔</td>\n",
       "      <td id=\"T_4b6dc_row6_col11\" class=\"data row6 col11\" ></td>\n",
       "      <td id=\"T_4b6dc_row6_col12\" class=\"data row6 col12\" ></td>\n",
       "      <td id=\"T_4b6dc_row6_col13\" class=\"data row6 col13\" ></td>\n",
       "      <td id=\"T_4b6dc_row6_col14\" class=\"data row6 col14\" ></td>\n",
       "      <td id=\"T_4b6dc_row6_col15\" class=\"data row6 col15\" ></td>\n",
       "      <td id=\"T_4b6dc_row6_col16\" class=\"data row6 col16\" ></td>\n",
       "      <td id=\"T_4b6dc_row6_col17\" class=\"data row6 col17\" ></td>\n",
       "      <td id=\"T_4b6dc_row6_col18\" class=\"data row6 col18\" ></td>\n",
       "      <td id=\"T_4b6dc_row6_col19\" class=\"data row6 col19\" ></td>\n",
       "      <td id=\"T_4b6dc_row6_col20\" class=\"data row6 col20\" ></td>\n",
       "      <td id=\"T_4b6dc_row6_col21\" class=\"data row6 col21\" ></td>\n",
       "      <td id=\"T_4b6dc_row6_col22\" class=\"data row6 col22\" ></td>\n",
       "      <td id=\"T_4b6dc_row6_col23\" class=\"data row6 col23\" ></td>\n",
       "      <td id=\"T_4b6dc_row6_col24\" class=\"data row6 col24\" ></td>\n",
       "      <td id=\"T_4b6dc_row6_col25\" class=\"data row6 col25\" ></td>\n",
       "      <td id=\"T_4b6dc_row6_col26\" class=\"data row6 col26\" ></td>\n",
       "      <td id=\"T_4b6dc_row6_col27\" class=\"data row6 col27\" ></td>\n",
       "      <td id=\"T_4b6dc_row6_col28\" class=\"data row6 col28\" ></td>\n",
       "      <td id=\"T_4b6dc_row6_col29\" class=\"data row6 col29\" >✔</td>\n",
       "      <td id=\"T_4b6dc_row6_col30\" class=\"data row6 col30\" ></td>\n",
       "    </tr>\n",
       "  </tbody>\n",
       "</table>\n"
      ],
      "text/plain": [
       "<pandas.io.formats.style.Styler at 0x2722e72adc0>"
      ]
     },
     "metadata": {},
     "output_type": "display_data"
    },
    {
     "name": "stdout",
     "output_type": "stream",
     "text": [
      "\n",
      "\n"
     ]
    },
    {
     "data": {
      "text/markdown": [
       "**Row: 9 — Final Score: 5**"
      ],
      "text/plain": [
       "<IPython.core.display.Markdown object>"
      ]
     },
     "metadata": {},
     "output_type": "display_data"
    },
    {
     "data": {
      "text/html": [
       "<style type=\"text/css\">\n",
       "#T_b160f_row0_col1, #T_b160f_row0_col2, #T_b160f_row0_col3, #T_b160f_row0_col4, #T_b160f_row0_col5, #T_b160f_row0_col6, #T_b160f_row0_col7, #T_b160f_row0_col8, #T_b160f_row0_col11, #T_b160f_row0_col12, #T_b160f_row0_col13, #T_b160f_row0_col14, #T_b160f_row0_col15, #T_b160f_row0_col16, #T_b160f_row0_col17, #T_b160f_row0_col18, #T_b160f_row0_col19, #T_b160f_row0_col20, #T_b160f_row0_col21, #T_b160f_row0_col22, #T_b160f_row0_col23, #T_b160f_row0_col24, #T_b160f_row0_col25, #T_b160f_row0_col27, #T_b160f_row0_col28, #T_b160f_row0_col29 {\n",
       "  background-color: #e5f8fa;\n",
       "  color: black;\n",
       "}\n",
       "#T_b160f_row0_col9, #T_b160f_row0_col10, #T_b160f_row0_col26, #T_b160f_row0_col30 {\n",
       "  background-color: #efecc3;\n",
       "  color: black;\n",
       "}\n",
       "</style>\n",
       "<table id=\"T_b160f_\">\n",
       "  <thead>\n",
       "    <tr>\n",
       "      <th class=\"blank level0\" >&nbsp;</th>\n",
       "      <th class=\"col_heading level0 col0\" >Test ID</th>\n",
       "      <th class=\"col_heading level0 col1\" >mean radius</th>\n",
       "      <th class=\"col_heading level0 col2\" >mean texture</th>\n",
       "      <th class=\"col_heading level0 col3\" >mean perimeter</th>\n",
       "      <th class=\"col_heading level0 col4\" >mean area</th>\n",
       "      <th class=\"col_heading level0 col5\" >mean smoothness</th>\n",
       "      <th class=\"col_heading level0 col6\" >mean compactness</th>\n",
       "      <th class=\"col_heading level0 col7\" >mean concavity</th>\n",
       "      <th class=\"col_heading level0 col8\" >mean concave points</th>\n",
       "      <th class=\"col_heading level0 col9\" >mean symmetry</th>\n",
       "      <th class=\"col_heading level0 col10\" >mean fractal dimension</th>\n",
       "      <th class=\"col_heading level0 col11\" >radius error</th>\n",
       "      <th class=\"col_heading level0 col12\" >texture error</th>\n",
       "      <th class=\"col_heading level0 col13\" >perimeter error</th>\n",
       "      <th class=\"col_heading level0 col14\" >area error</th>\n",
       "      <th class=\"col_heading level0 col15\" >smoothness error</th>\n",
       "      <th class=\"col_heading level0 col16\" >compactness error</th>\n",
       "      <th class=\"col_heading level0 col17\" >concavity error</th>\n",
       "      <th class=\"col_heading level0 col18\" >concave points error</th>\n",
       "      <th class=\"col_heading level0 col19\" >symmetry error</th>\n",
       "      <th class=\"col_heading level0 col20\" >fractal dimension error</th>\n",
       "      <th class=\"col_heading level0 col21\" >worst radius</th>\n",
       "      <th class=\"col_heading level0 col22\" >worst texture</th>\n",
       "      <th class=\"col_heading level0 col23\" >worst perimeter</th>\n",
       "      <th class=\"col_heading level0 col24\" >worst area</th>\n",
       "      <th class=\"col_heading level0 col25\" >worst smoothness</th>\n",
       "      <th class=\"col_heading level0 col26\" >worst compactness</th>\n",
       "      <th class=\"col_heading level0 col27\" >worst concavity</th>\n",
       "      <th class=\"col_heading level0 col28\" >worst concave points</th>\n",
       "      <th class=\"col_heading level0 col29\" >worst symmetry</th>\n",
       "      <th class=\"col_heading level0 col30\" >worst fractal dimension</th>\n",
       "    </tr>\n",
       "  </thead>\n",
       "  <tbody>\n",
       "    <tr>\n",
       "      <th id=\"T_b160f_level0_row0\" class=\"row_heading level0 row0\" >0</th>\n",
       "      <td id=\"T_b160f_row0_col0\" class=\"data row0 col0\" ></td>\n",
       "      <td id=\"T_b160f_row0_col1\" class=\"data row0 col1\" >12.460000</td>\n",
       "      <td id=\"T_b160f_row0_col2\" class=\"data row0 col2\" >24.040000</td>\n",
       "      <td id=\"T_b160f_row0_col3\" class=\"data row0 col3\" >83.970000</td>\n",
       "      <td id=\"T_b160f_row0_col4\" class=\"data row0 col4\" >475.900000</td>\n",
       "      <td id=\"T_b160f_row0_col5\" class=\"data row0 col5\" >0.118600</td>\n",
       "      <td id=\"T_b160f_row0_col6\" class=\"data row0 col6\" >0.239600</td>\n",
       "      <td id=\"T_b160f_row0_col7\" class=\"data row0 col7\" >0.227300</td>\n",
       "      <td id=\"T_b160f_row0_col8\" class=\"data row0 col8\" >0.085430</td>\n",
       "      <td id=\"T_b160f_row0_col9\" class=\"data row0 col9\" >0.203000</td>\n",
       "      <td id=\"T_b160f_row0_col10\" class=\"data row0 col10\" >0.082430</td>\n",
       "      <td id=\"T_b160f_row0_col11\" class=\"data row0 col11\" >0.297600</td>\n",
       "      <td id=\"T_b160f_row0_col12\" class=\"data row0 col12\" >1.599000</td>\n",
       "      <td id=\"T_b160f_row0_col13\" class=\"data row0 col13\" >2.039000</td>\n",
       "      <td id=\"T_b160f_row0_col14\" class=\"data row0 col14\" >23.940000</td>\n",
       "      <td id=\"T_b160f_row0_col15\" class=\"data row0 col15\" >0.007149</td>\n",
       "      <td id=\"T_b160f_row0_col16\" class=\"data row0 col16\" >0.072170</td>\n",
       "      <td id=\"T_b160f_row0_col17\" class=\"data row0 col17\" >0.077430</td>\n",
       "      <td id=\"T_b160f_row0_col18\" class=\"data row0 col18\" >0.014320</td>\n",
       "      <td id=\"T_b160f_row0_col19\" class=\"data row0 col19\" >0.017890</td>\n",
       "      <td id=\"T_b160f_row0_col20\" class=\"data row0 col20\" >0.010080</td>\n",
       "      <td id=\"T_b160f_row0_col21\" class=\"data row0 col21\" >15.090000</td>\n",
       "      <td id=\"T_b160f_row0_col22\" class=\"data row0 col22\" >40.680000</td>\n",
       "      <td id=\"T_b160f_row0_col23\" class=\"data row0 col23\" >97.650000</td>\n",
       "      <td id=\"T_b160f_row0_col24\" class=\"data row0 col24\" >711.400000</td>\n",
       "      <td id=\"T_b160f_row0_col25\" class=\"data row0 col25\" >0.185300</td>\n",
       "      <td id=\"T_b160f_row0_col26\" class=\"data row0 col26\" >1.058000</td>\n",
       "      <td id=\"T_b160f_row0_col27\" class=\"data row0 col27\" >1.105000</td>\n",
       "      <td id=\"T_b160f_row0_col28\" class=\"data row0 col28\" >0.221000</td>\n",
       "      <td id=\"T_b160f_row0_col29\" class=\"data row0 col29\" >0.436600</td>\n",
       "      <td id=\"T_b160f_row0_col30\" class=\"data row0 col30\" >0.207500</td>\n",
       "    </tr>\n",
       "    <tr>\n",
       "      <th id=\"T_b160f_level0_row1\" class=\"row_heading level0 row1\" >1</th>\n",
       "      <td id=\"T_b160f_row1_col0\" class=\"data row1 col0\" >VERY_LARGE</td>\n",
       "      <td id=\"T_b160f_row1_col1\" class=\"data row1 col1\" ></td>\n",
       "      <td id=\"T_b160f_row1_col2\" class=\"data row1 col2\" ></td>\n",
       "      <td id=\"T_b160f_row1_col3\" class=\"data row1 col3\" ></td>\n",
       "      <td id=\"T_b160f_row1_col4\" class=\"data row1 col4\" ></td>\n",
       "      <td id=\"T_b160f_row1_col5\" class=\"data row1 col5\" ></td>\n",
       "      <td id=\"T_b160f_row1_col6\" class=\"data row1 col6\" ></td>\n",
       "      <td id=\"T_b160f_row1_col7\" class=\"data row1 col7\" ></td>\n",
       "      <td id=\"T_b160f_row1_col8\" class=\"data row1 col8\" ></td>\n",
       "      <td id=\"T_b160f_row1_col9\" class=\"data row1 col9\" ></td>\n",
       "      <td id=\"T_b160f_row1_col10\" class=\"data row1 col10\" ></td>\n",
       "      <td id=\"T_b160f_row1_col11\" class=\"data row1 col11\" ></td>\n",
       "      <td id=\"T_b160f_row1_col12\" class=\"data row1 col12\" ></td>\n",
       "      <td id=\"T_b160f_row1_col13\" class=\"data row1 col13\" ></td>\n",
       "      <td id=\"T_b160f_row1_col14\" class=\"data row1 col14\" ></td>\n",
       "      <td id=\"T_b160f_row1_col15\" class=\"data row1 col15\" ></td>\n",
       "      <td id=\"T_b160f_row1_col16\" class=\"data row1 col16\" ></td>\n",
       "      <td id=\"T_b160f_row1_col17\" class=\"data row1 col17\" ></td>\n",
       "      <td id=\"T_b160f_row1_col18\" class=\"data row1 col18\" ></td>\n",
       "      <td id=\"T_b160f_row1_col19\" class=\"data row1 col19\" ></td>\n",
       "      <td id=\"T_b160f_row1_col20\" class=\"data row1 col20\" ></td>\n",
       "      <td id=\"T_b160f_row1_col21\" class=\"data row1 col21\" ></td>\n",
       "      <td id=\"T_b160f_row1_col22\" class=\"data row1 col22\" ></td>\n",
       "      <td id=\"T_b160f_row1_col23\" class=\"data row1 col23\" ></td>\n",
       "      <td id=\"T_b160f_row1_col24\" class=\"data row1 col24\" ></td>\n",
       "      <td id=\"T_b160f_row1_col25\" class=\"data row1 col25\" ></td>\n",
       "      <td id=\"T_b160f_row1_col26\" class=\"data row1 col26\" >✔</td>\n",
       "      <td id=\"T_b160f_row1_col27\" class=\"data row1 col27\" ></td>\n",
       "      <td id=\"T_b160f_row1_col28\" class=\"data row1 col28\" ></td>\n",
       "      <td id=\"T_b160f_row1_col29\" class=\"data row1 col29\" ></td>\n",
       "      <td id=\"T_b160f_row1_col30\" class=\"data row1 col30\" >✔</td>\n",
       "    </tr>\n",
       "    <tr>\n",
       "      <th id=\"T_b160f_level0_row2\" class=\"row_heading level0 row2\" >2</th>\n",
       "      <td id=\"T_b160f_row2_col0\" class=\"data row2 col0\" >LESS_THAN_ONE</td>\n",
       "      <td id=\"T_b160f_row2_col1\" class=\"data row2 col1\" ></td>\n",
       "      <td id=\"T_b160f_row2_col2\" class=\"data row2 col2\" ></td>\n",
       "      <td id=\"T_b160f_row2_col3\" class=\"data row2 col3\" ></td>\n",
       "      <td id=\"T_b160f_row2_col4\" class=\"data row2 col4\" ></td>\n",
       "      <td id=\"T_b160f_row2_col5\" class=\"data row2 col5\" ></td>\n",
       "      <td id=\"T_b160f_row2_col6\" class=\"data row2 col6\" ></td>\n",
       "      <td id=\"T_b160f_row2_col7\" class=\"data row2 col7\" ></td>\n",
       "      <td id=\"T_b160f_row2_col8\" class=\"data row2 col8\" ></td>\n",
       "      <td id=\"T_b160f_row2_col9\" class=\"data row2 col9\" ></td>\n",
       "      <td id=\"T_b160f_row2_col10\" class=\"data row2 col10\" ></td>\n",
       "      <td id=\"T_b160f_row2_col11\" class=\"data row2 col11\" ></td>\n",
       "      <td id=\"T_b160f_row2_col12\" class=\"data row2 col12\" ></td>\n",
       "      <td id=\"T_b160f_row2_col13\" class=\"data row2 col13\" ></td>\n",
       "      <td id=\"T_b160f_row2_col14\" class=\"data row2 col14\" ></td>\n",
       "      <td id=\"T_b160f_row2_col15\" class=\"data row2 col15\" ></td>\n",
       "      <td id=\"T_b160f_row2_col16\" class=\"data row2 col16\" ></td>\n",
       "      <td id=\"T_b160f_row2_col17\" class=\"data row2 col17\" ></td>\n",
       "      <td id=\"T_b160f_row2_col18\" class=\"data row2 col18\" ></td>\n",
       "      <td id=\"T_b160f_row2_col19\" class=\"data row2 col19\" ></td>\n",
       "      <td id=\"T_b160f_row2_col20\" class=\"data row2 col20\" ></td>\n",
       "      <td id=\"T_b160f_row2_col21\" class=\"data row2 col21\" ></td>\n",
       "      <td id=\"T_b160f_row2_col22\" class=\"data row2 col22\" ></td>\n",
       "      <td id=\"T_b160f_row2_col23\" class=\"data row2 col23\" ></td>\n",
       "      <td id=\"T_b160f_row2_col24\" class=\"data row2 col24\" ></td>\n",
       "      <td id=\"T_b160f_row2_col25\" class=\"data row2 col25\" ></td>\n",
       "      <td id=\"T_b160f_row2_col26\" class=\"data row2 col26\" >✔</td>\n",
       "      <td id=\"T_b160f_row2_col27\" class=\"data row2 col27\" ></td>\n",
       "      <td id=\"T_b160f_row2_col28\" class=\"data row2 col28\" ></td>\n",
       "      <td id=\"T_b160f_row2_col29\" class=\"data row2 col29\" ></td>\n",
       "      <td id=\"T_b160f_row2_col30\" class=\"data row2 col30\" ></td>\n",
       "    </tr>\n",
       "    <tr>\n",
       "      <th id=\"T_b160f_level0_row3\" class=\"row_heading level0 row3\" >3</th>\n",
       "      <td id=\"T_b160f_row3_col0\" class=\"data row3 col0\" >LARGER</td>\n",
       "      <td id=\"T_b160f_row3_col1\" class=\"data row3 col1\" ></td>\n",
       "      <td id=\"T_b160f_row3_col2\" class=\"data row3 col2\" ></td>\n",
       "      <td id=\"T_b160f_row3_col3\" class=\"data row3 col3\" ></td>\n",
       "      <td id=\"T_b160f_row3_col4\" class=\"data row3 col4\" ></td>\n",
       "      <td id=\"T_b160f_row3_col5\" class=\"data row3 col5\" ></td>\n",
       "      <td id=\"T_b160f_row3_col6\" class=\"data row3 col6\" ></td>\n",
       "      <td id=\"T_b160f_row3_col7\" class=\"data row3 col7\" ></td>\n",
       "      <td id=\"T_b160f_row3_col8\" class=\"data row3 col8\" ></td>\n",
       "      <td id=\"T_b160f_row3_col9\" class=\"data row3 col9\" >✔</td>\n",
       "      <td id=\"T_b160f_row3_col10\" class=\"data row3 col10\" ></td>\n",
       "      <td id=\"T_b160f_row3_col11\" class=\"data row3 col11\" ></td>\n",
       "      <td id=\"T_b160f_row3_col12\" class=\"data row3 col12\" ></td>\n",
       "      <td id=\"T_b160f_row3_col13\" class=\"data row3 col13\" ></td>\n",
       "      <td id=\"T_b160f_row3_col14\" class=\"data row3 col14\" ></td>\n",
       "      <td id=\"T_b160f_row3_col15\" class=\"data row3 col15\" ></td>\n",
       "      <td id=\"T_b160f_row3_col16\" class=\"data row3 col16\" ></td>\n",
       "      <td id=\"T_b160f_row3_col17\" class=\"data row3 col17\" ></td>\n",
       "      <td id=\"T_b160f_row3_col18\" class=\"data row3 col18\" ></td>\n",
       "      <td id=\"T_b160f_row3_col19\" class=\"data row3 col19\" ></td>\n",
       "      <td id=\"T_b160f_row3_col20\" class=\"data row3 col20\" ></td>\n",
       "      <td id=\"T_b160f_row3_col21\" class=\"data row3 col21\" ></td>\n",
       "      <td id=\"T_b160f_row3_col22\" class=\"data row3 col22\" ></td>\n",
       "      <td id=\"T_b160f_row3_col23\" class=\"data row3 col23\" ></td>\n",
       "      <td id=\"T_b160f_row3_col24\" class=\"data row3 col24\" ></td>\n",
       "      <td id=\"T_b160f_row3_col25\" class=\"data row3 col25\" ></td>\n",
       "      <td id=\"T_b160f_row3_col26\" class=\"data row3 col26\" ></td>\n",
       "      <td id=\"T_b160f_row3_col27\" class=\"data row3 col27\" ></td>\n",
       "      <td id=\"T_b160f_row3_col28\" class=\"data row3 col28\" ></td>\n",
       "      <td id=\"T_b160f_row3_col29\" class=\"data row3 col29\" ></td>\n",
       "      <td id=\"T_b160f_row3_col30\" class=\"data row3 col30\" >✔</td>\n",
       "    </tr>\n",
       "    <tr>\n",
       "      <th id=\"T_b160f_level0_row4\" class=\"row_heading level0 row4\" >4</th>\n",
       "      <td id=\"T_b160f_row4_col0\" class=\"data row4 col0\" >SIMILAR_WRT_RATIO</td>\n",
       "      <td id=\"T_b160f_row4_col1\" class=\"data row4 col1\" ></td>\n",
       "      <td id=\"T_b160f_row4_col2\" class=\"data row4 col2\" ></td>\n",
       "      <td id=\"T_b160f_row4_col3\" class=\"data row4 col3\" ></td>\n",
       "      <td id=\"T_b160f_row4_col4\" class=\"data row4 col4\" ></td>\n",
       "      <td id=\"T_b160f_row4_col5\" class=\"data row4 col5\" ></td>\n",
       "      <td id=\"T_b160f_row4_col6\" class=\"data row4 col6\" ></td>\n",
       "      <td id=\"T_b160f_row4_col7\" class=\"data row4 col7\" ></td>\n",
       "      <td id=\"T_b160f_row4_col8\" class=\"data row4 col8\" ></td>\n",
       "      <td id=\"T_b160f_row4_col9\" class=\"data row4 col9\" ></td>\n",
       "      <td id=\"T_b160f_row4_col10\" class=\"data row4 col10\" >✔</td>\n",
       "      <td id=\"T_b160f_row4_col11\" class=\"data row4 col11\" ></td>\n",
       "      <td id=\"T_b160f_row4_col12\" class=\"data row4 col12\" ></td>\n",
       "      <td id=\"T_b160f_row4_col13\" class=\"data row4 col13\" ></td>\n",
       "      <td id=\"T_b160f_row4_col14\" class=\"data row4 col14\" ></td>\n",
       "      <td id=\"T_b160f_row4_col15\" class=\"data row4 col15\" ></td>\n",
       "      <td id=\"T_b160f_row4_col16\" class=\"data row4 col16\" ></td>\n",
       "      <td id=\"T_b160f_row4_col17\" class=\"data row4 col17\" ></td>\n",
       "      <td id=\"T_b160f_row4_col18\" class=\"data row4 col18\" ></td>\n",
       "      <td id=\"T_b160f_row4_col19\" class=\"data row4 col19\" ></td>\n",
       "      <td id=\"T_b160f_row4_col20\" class=\"data row4 col20\" ></td>\n",
       "      <td id=\"T_b160f_row4_col21\" class=\"data row4 col21\" ></td>\n",
       "      <td id=\"T_b160f_row4_col22\" class=\"data row4 col22\" ></td>\n",
       "      <td id=\"T_b160f_row4_col23\" class=\"data row4 col23\" ></td>\n",
       "      <td id=\"T_b160f_row4_col24\" class=\"data row4 col24\" ></td>\n",
       "      <td id=\"T_b160f_row4_col25\" class=\"data row4 col25\" ></td>\n",
       "      <td id=\"T_b160f_row4_col26\" class=\"data row4 col26\" ></td>\n",
       "      <td id=\"T_b160f_row4_col27\" class=\"data row4 col27\" ></td>\n",
       "      <td id=\"T_b160f_row4_col28\" class=\"data row4 col28\" ></td>\n",
       "      <td id=\"T_b160f_row4_col29\" class=\"data row4 col29\" ></td>\n",
       "      <td id=\"T_b160f_row4_col30\" class=\"data row4 col30\" >✔</td>\n",
       "    </tr>\n",
       "  </tbody>\n",
       "</table>\n"
      ],
      "text/plain": [
       "<pandas.io.formats.style.Styler at 0x27231211ca0>"
      ]
     },
     "metadata": {},
     "output_type": "display_data"
    },
    {
     "name": "stdout",
     "output_type": "stream",
     "text": [
      "\n",
      "\n"
     ]
    },
    {
     "data": {
      "text/markdown": [
       "**Row: 12 — Final Score: 4**"
      ],
      "text/plain": [
       "<IPython.core.display.Markdown object>"
      ]
     },
     "metadata": {},
     "output_type": "display_data"
    },
    {
     "data": {
      "text/html": [
       "<style type=\"text/css\">\n",
       "#T_f1183_row0_col1, #T_f1183_row0_col2, #T_f1183_row0_col3, #T_f1183_row0_col4, #T_f1183_row0_col5, #T_f1183_row0_col7, #T_f1183_row0_col9, #T_f1183_row0_col10, #T_f1183_row0_col11, #T_f1183_row0_col13, #T_f1183_row0_col14, #T_f1183_row0_col15, #T_f1183_row0_col16, #T_f1183_row0_col17, #T_f1183_row0_col20, #T_f1183_row0_col21, #T_f1183_row0_col22, #T_f1183_row0_col23, #T_f1183_row0_col24, #T_f1183_row0_col25, #T_f1183_row0_col26, #T_f1183_row0_col27, #T_f1183_row0_col28, #T_f1183_row0_col29, #T_f1183_row0_col30 {\n",
       "  background-color: #e5f8fa;\n",
       "  color: black;\n",
       "}\n",
       "#T_f1183_row0_col6, #T_f1183_row0_col8, #T_f1183_row0_col12, #T_f1183_row0_col18, #T_f1183_row0_col19 {\n",
       "  background-color: #efecc3;\n",
       "  color: black;\n",
       "}\n",
       "</style>\n",
       "<table id=\"T_f1183_\">\n",
       "  <thead>\n",
       "    <tr>\n",
       "      <th class=\"blank level0\" >&nbsp;</th>\n",
       "      <th class=\"col_heading level0 col0\" >Test ID</th>\n",
       "      <th class=\"col_heading level0 col1\" >mean radius</th>\n",
       "      <th class=\"col_heading level0 col2\" >mean texture</th>\n",
       "      <th class=\"col_heading level0 col3\" >mean perimeter</th>\n",
       "      <th class=\"col_heading level0 col4\" >mean area</th>\n",
       "      <th class=\"col_heading level0 col5\" >mean smoothness</th>\n",
       "      <th class=\"col_heading level0 col6\" >mean compactness</th>\n",
       "      <th class=\"col_heading level0 col7\" >mean concavity</th>\n",
       "      <th class=\"col_heading level0 col8\" >mean concave points</th>\n",
       "      <th class=\"col_heading level0 col9\" >mean symmetry</th>\n",
       "      <th class=\"col_heading level0 col10\" >mean fractal dimension</th>\n",
       "      <th class=\"col_heading level0 col11\" >radius error</th>\n",
       "      <th class=\"col_heading level0 col12\" >texture error</th>\n",
       "      <th class=\"col_heading level0 col13\" >perimeter error</th>\n",
       "      <th class=\"col_heading level0 col14\" >area error</th>\n",
       "      <th class=\"col_heading level0 col15\" >smoothness error</th>\n",
       "      <th class=\"col_heading level0 col16\" >compactness error</th>\n",
       "      <th class=\"col_heading level0 col17\" >concavity error</th>\n",
       "      <th class=\"col_heading level0 col18\" >concave points error</th>\n",
       "      <th class=\"col_heading level0 col19\" >symmetry error</th>\n",
       "      <th class=\"col_heading level0 col20\" >fractal dimension error</th>\n",
       "      <th class=\"col_heading level0 col21\" >worst radius</th>\n",
       "      <th class=\"col_heading level0 col22\" >worst texture</th>\n",
       "      <th class=\"col_heading level0 col23\" >worst perimeter</th>\n",
       "      <th class=\"col_heading level0 col24\" >worst area</th>\n",
       "      <th class=\"col_heading level0 col25\" >worst smoothness</th>\n",
       "      <th class=\"col_heading level0 col26\" >worst compactness</th>\n",
       "      <th class=\"col_heading level0 col27\" >worst concavity</th>\n",
       "      <th class=\"col_heading level0 col28\" >worst concave points</th>\n",
       "      <th class=\"col_heading level0 col29\" >worst symmetry</th>\n",
       "      <th class=\"col_heading level0 col30\" >worst fractal dimension</th>\n",
       "    </tr>\n",
       "  </thead>\n",
       "  <tbody>\n",
       "    <tr>\n",
       "      <th id=\"T_f1183_level0_row0\" class=\"row_heading level0 row0\" >0</th>\n",
       "      <td id=\"T_f1183_row0_col0\" class=\"data row0 col0\" ></td>\n",
       "      <td id=\"T_f1183_row0_col1\" class=\"data row0 col1\" >19.170000</td>\n",
       "      <td id=\"T_f1183_row0_col2\" class=\"data row0 col2\" >24.800000</td>\n",
       "      <td id=\"T_f1183_row0_col3\" class=\"data row0 col3\" >132.400000</td>\n",
       "      <td id=\"T_f1183_row0_col4\" class=\"data row0 col4\" >1123.000000</td>\n",
       "      <td id=\"T_f1183_row0_col5\" class=\"data row0 col5\" >0.097400</td>\n",
       "      <td id=\"T_f1183_row0_col6\" class=\"data row0 col6\" >0.245800</td>\n",
       "      <td id=\"T_f1183_row0_col7\" class=\"data row0 col7\" >0.206500</td>\n",
       "      <td id=\"T_f1183_row0_col8\" class=\"data row0 col8\" >0.111800</td>\n",
       "      <td id=\"T_f1183_row0_col9\" class=\"data row0 col9\" >0.239700</td>\n",
       "      <td id=\"T_f1183_row0_col10\" class=\"data row0 col10\" >0.078000</td>\n",
       "      <td id=\"T_f1183_row0_col11\" class=\"data row0 col11\" >0.955500</td>\n",
       "      <td id=\"T_f1183_row0_col12\" class=\"data row0 col12\" >3.568000</td>\n",
       "      <td id=\"T_f1183_row0_col13\" class=\"data row0 col13\" >11.070000</td>\n",
       "      <td id=\"T_f1183_row0_col14\" class=\"data row0 col14\" >116.200000</td>\n",
       "      <td id=\"T_f1183_row0_col15\" class=\"data row0 col15\" >0.003139</td>\n",
       "      <td id=\"T_f1183_row0_col16\" class=\"data row0 col16\" >0.082970</td>\n",
       "      <td id=\"T_f1183_row0_col17\" class=\"data row0 col17\" >0.088900</td>\n",
       "      <td id=\"T_f1183_row0_col18\" class=\"data row0 col18\" >0.040900</td>\n",
       "      <td id=\"T_f1183_row0_col19\" class=\"data row0 col19\" >0.044840</td>\n",
       "      <td id=\"T_f1183_row0_col20\" class=\"data row0 col20\" >0.012840</td>\n",
       "      <td id=\"T_f1183_row0_col21\" class=\"data row0 col21\" >20.960000</td>\n",
       "      <td id=\"T_f1183_row0_col22\" class=\"data row0 col22\" >29.940000</td>\n",
       "      <td id=\"T_f1183_row0_col23\" class=\"data row0 col23\" >151.700000</td>\n",
       "      <td id=\"T_f1183_row0_col24\" class=\"data row0 col24\" >1332.000000</td>\n",
       "      <td id=\"T_f1183_row0_col25\" class=\"data row0 col25\" >0.103700</td>\n",
       "      <td id=\"T_f1183_row0_col26\" class=\"data row0 col26\" >0.390300</td>\n",
       "      <td id=\"T_f1183_row0_col27\" class=\"data row0 col27\" >0.363900</td>\n",
       "      <td id=\"T_f1183_row0_col28\" class=\"data row0 col28\" >0.176700</td>\n",
       "      <td id=\"T_f1183_row0_col29\" class=\"data row0 col29\" >0.317600</td>\n",
       "      <td id=\"T_f1183_row0_col30\" class=\"data row0 col30\" >0.102300</td>\n",
       "    </tr>\n",
       "    <tr>\n",
       "      <th id=\"T_f1183_level0_row1\" class=\"row_heading level0 row1\" >1</th>\n",
       "      <td id=\"T_f1183_row1_col0\" class=\"data row1 col0\" >VERY_LARGE</td>\n",
       "      <td id=\"T_f1183_row1_col1\" class=\"data row1 col1\" ></td>\n",
       "      <td id=\"T_f1183_row1_col2\" class=\"data row1 col2\" ></td>\n",
       "      <td id=\"T_f1183_row1_col3\" class=\"data row1 col3\" ></td>\n",
       "      <td id=\"T_f1183_row1_col4\" class=\"data row1 col4\" ></td>\n",
       "      <td id=\"T_f1183_row1_col5\" class=\"data row1 col5\" ></td>\n",
       "      <td id=\"T_f1183_row1_col6\" class=\"data row1 col6\" ></td>\n",
       "      <td id=\"T_f1183_row1_col7\" class=\"data row1 col7\" ></td>\n",
       "      <td id=\"T_f1183_row1_col8\" class=\"data row1 col8\" ></td>\n",
       "      <td id=\"T_f1183_row1_col9\" class=\"data row1 col9\" ></td>\n",
       "      <td id=\"T_f1183_row1_col10\" class=\"data row1 col10\" ></td>\n",
       "      <td id=\"T_f1183_row1_col11\" class=\"data row1 col11\" ></td>\n",
       "      <td id=\"T_f1183_row1_col12\" class=\"data row1 col12\" ></td>\n",
       "      <td id=\"T_f1183_row1_col13\" class=\"data row1 col13\" ></td>\n",
       "      <td id=\"T_f1183_row1_col14\" class=\"data row1 col14\" ></td>\n",
       "      <td id=\"T_f1183_row1_col15\" class=\"data row1 col15\" ></td>\n",
       "      <td id=\"T_f1183_row1_col16\" class=\"data row1 col16\" ></td>\n",
       "      <td id=\"T_f1183_row1_col17\" class=\"data row1 col17\" ></td>\n",
       "      <td id=\"T_f1183_row1_col18\" class=\"data row1 col18\" >✔</td>\n",
       "      <td id=\"T_f1183_row1_col19\" class=\"data row1 col19\" ></td>\n",
       "      <td id=\"T_f1183_row1_col20\" class=\"data row1 col20\" ></td>\n",
       "      <td id=\"T_f1183_row1_col21\" class=\"data row1 col21\" ></td>\n",
       "      <td id=\"T_f1183_row1_col22\" class=\"data row1 col22\" ></td>\n",
       "      <td id=\"T_f1183_row1_col23\" class=\"data row1 col23\" ></td>\n",
       "      <td id=\"T_f1183_row1_col24\" class=\"data row1 col24\" ></td>\n",
       "      <td id=\"T_f1183_row1_col25\" class=\"data row1 col25\" ></td>\n",
       "      <td id=\"T_f1183_row1_col26\" class=\"data row1 col26\" ></td>\n",
       "      <td id=\"T_f1183_row1_col27\" class=\"data row1 col27\" ></td>\n",
       "      <td id=\"T_f1183_row1_col28\" class=\"data row1 col28\" ></td>\n",
       "      <td id=\"T_f1183_row1_col29\" class=\"data row1 col29\" ></td>\n",
       "      <td id=\"T_f1183_row1_col30\" class=\"data row1 col30\" ></td>\n",
       "    </tr>\n",
       "    <tr>\n",
       "      <th id=\"T_f1183_level0_row2\" class=\"row_heading level0 row2\" >2</th>\n",
       "      <td id=\"T_f1183_row2_col0\" class=\"data row2 col0\" >RARE_COMBINATION</td>\n",
       "      <td id=\"T_f1183_row2_col1\" class=\"data row2 col1\" ></td>\n",
       "      <td id=\"T_f1183_row2_col2\" class=\"data row2 col2\" ></td>\n",
       "      <td id=\"T_f1183_row2_col3\" class=\"data row2 col3\" ></td>\n",
       "      <td id=\"T_f1183_row2_col4\" class=\"data row2 col4\" ></td>\n",
       "      <td id=\"T_f1183_row2_col5\" class=\"data row2 col5\" ></td>\n",
       "      <td id=\"T_f1183_row2_col6\" class=\"data row2 col6\" >✔</td>\n",
       "      <td id=\"T_f1183_row2_col7\" class=\"data row2 col7\" ></td>\n",
       "      <td id=\"T_f1183_row2_col8\" class=\"data row2 col8\" >✔</td>\n",
       "      <td id=\"T_f1183_row2_col9\" class=\"data row2 col9\" ></td>\n",
       "      <td id=\"T_f1183_row2_col10\" class=\"data row2 col10\" ></td>\n",
       "      <td id=\"T_f1183_row2_col11\" class=\"data row2 col11\" ></td>\n",
       "      <td id=\"T_f1183_row2_col12\" class=\"data row2 col12\" >✔</td>\n",
       "      <td id=\"T_f1183_row2_col13\" class=\"data row2 col13\" ></td>\n",
       "      <td id=\"T_f1183_row2_col14\" class=\"data row2 col14\" ></td>\n",
       "      <td id=\"T_f1183_row2_col15\" class=\"data row2 col15\" ></td>\n",
       "      <td id=\"T_f1183_row2_col16\" class=\"data row2 col16\" ></td>\n",
       "      <td id=\"T_f1183_row2_col17\" class=\"data row2 col17\" ></td>\n",
       "      <td id=\"T_f1183_row2_col18\" class=\"data row2 col18\" ></td>\n",
       "      <td id=\"T_f1183_row2_col19\" class=\"data row2 col19\" >✔</td>\n",
       "      <td id=\"T_f1183_row2_col20\" class=\"data row2 col20\" ></td>\n",
       "      <td id=\"T_f1183_row2_col21\" class=\"data row2 col21\" ></td>\n",
       "      <td id=\"T_f1183_row2_col22\" class=\"data row2 col22\" ></td>\n",
       "      <td id=\"T_f1183_row2_col23\" class=\"data row2 col23\" ></td>\n",
       "      <td id=\"T_f1183_row2_col24\" class=\"data row2 col24\" ></td>\n",
       "      <td id=\"T_f1183_row2_col25\" class=\"data row2 col25\" ></td>\n",
       "      <td id=\"T_f1183_row2_col26\" class=\"data row2 col26\" ></td>\n",
       "      <td id=\"T_f1183_row2_col27\" class=\"data row2 col27\" ></td>\n",
       "      <td id=\"T_f1183_row2_col28\" class=\"data row2 col28\" ></td>\n",
       "      <td id=\"T_f1183_row2_col29\" class=\"data row2 col29\" ></td>\n",
       "      <td id=\"T_f1183_row2_col30\" class=\"data row2 col30\" ></td>\n",
       "    </tr>\n",
       "  </tbody>\n",
       "</table>\n"
      ],
      "text/plain": [
       "<pandas.io.formats.style.Styler at 0x27202c6ee20>"
      ]
     },
     "metadata": {},
     "output_type": "display_data"
    },
    {
     "name": "stdout",
     "output_type": "stream",
     "text": [
      "\n",
      "\n"
     ]
    },
    {
     "data": {
      "text/markdown": [
       "**Row: 152 — Final Score: 4**"
      ],
      "text/plain": [
       "<IPython.core.display.Markdown object>"
      ]
     },
     "metadata": {},
     "output_type": "display_data"
    },
    {
     "data": {
      "text/html": [
       "<style type=\"text/css\">\n",
       "#T_c3075_row0_col1, #T_c3075_row0_col2, #T_c3075_row0_col3, #T_c3075_row0_col4, #T_c3075_row0_col5, #T_c3075_row0_col6, #T_c3075_row0_col7, #T_c3075_row0_col8, #T_c3075_row0_col9, #T_c3075_row0_col10, #T_c3075_row0_col11, #T_c3075_row0_col12, #T_c3075_row0_col13, #T_c3075_row0_col14, #T_c3075_row0_col15, #T_c3075_row0_col16, #T_c3075_row0_col19, #T_c3075_row0_col21, #T_c3075_row0_col22, #T_c3075_row0_col23, #T_c3075_row0_col24, #T_c3075_row0_col25, #T_c3075_row0_col27, #T_c3075_row0_col28, #T_c3075_row0_col30 {\n",
       "  background-color: #e5f8fa;\n",
       "  color: black;\n",
       "}\n",
       "#T_c3075_row0_col17, #T_c3075_row0_col18, #T_c3075_row0_col20, #T_c3075_row0_col26, #T_c3075_row0_col29 {\n",
       "  background-color: #efecc3;\n",
       "  color: black;\n",
       "}\n",
       "</style>\n",
       "<table id=\"T_c3075_\">\n",
       "  <thead>\n",
       "    <tr>\n",
       "      <th class=\"blank level0\" >&nbsp;</th>\n",
       "      <th class=\"col_heading level0 col0\" >Test ID</th>\n",
       "      <th class=\"col_heading level0 col1\" >mean radius</th>\n",
       "      <th class=\"col_heading level0 col2\" >mean texture</th>\n",
       "      <th class=\"col_heading level0 col3\" >mean perimeter</th>\n",
       "      <th class=\"col_heading level0 col4\" >mean area</th>\n",
       "      <th class=\"col_heading level0 col5\" >mean smoothness</th>\n",
       "      <th class=\"col_heading level0 col6\" >mean compactness</th>\n",
       "      <th class=\"col_heading level0 col7\" >mean concavity</th>\n",
       "      <th class=\"col_heading level0 col8\" >mean concave points</th>\n",
       "      <th class=\"col_heading level0 col9\" >mean symmetry</th>\n",
       "      <th class=\"col_heading level0 col10\" >mean fractal dimension</th>\n",
       "      <th class=\"col_heading level0 col11\" >radius error</th>\n",
       "      <th class=\"col_heading level0 col12\" >texture error</th>\n",
       "      <th class=\"col_heading level0 col13\" >perimeter error</th>\n",
       "      <th class=\"col_heading level0 col14\" >area error</th>\n",
       "      <th class=\"col_heading level0 col15\" >smoothness error</th>\n",
       "      <th class=\"col_heading level0 col16\" >compactness error</th>\n",
       "      <th class=\"col_heading level0 col17\" >concavity error</th>\n",
       "      <th class=\"col_heading level0 col18\" >concave points error</th>\n",
       "      <th class=\"col_heading level0 col19\" >symmetry error</th>\n",
       "      <th class=\"col_heading level0 col20\" >fractal dimension error</th>\n",
       "      <th class=\"col_heading level0 col21\" >worst radius</th>\n",
       "      <th class=\"col_heading level0 col22\" >worst texture</th>\n",
       "      <th class=\"col_heading level0 col23\" >worst perimeter</th>\n",
       "      <th class=\"col_heading level0 col24\" >worst area</th>\n",
       "      <th class=\"col_heading level0 col25\" >worst smoothness</th>\n",
       "      <th class=\"col_heading level0 col26\" >worst compactness</th>\n",
       "      <th class=\"col_heading level0 col27\" >worst concavity</th>\n",
       "      <th class=\"col_heading level0 col28\" >worst concave points</th>\n",
       "      <th class=\"col_heading level0 col29\" >worst symmetry</th>\n",
       "      <th class=\"col_heading level0 col30\" >worst fractal dimension</th>\n",
       "    </tr>\n",
       "  </thead>\n",
       "  <tbody>\n",
       "    <tr>\n",
       "      <th id=\"T_c3075_level0_row0\" class=\"row_heading level0 row0\" >0</th>\n",
       "      <td id=\"T_c3075_row0_col0\" class=\"data row0 col0\" ></td>\n",
       "      <td id=\"T_c3075_row0_col1\" class=\"data row0 col1\" >9.731000</td>\n",
       "      <td id=\"T_c3075_row0_col2\" class=\"data row0 col2\" >15.340000</td>\n",
       "      <td id=\"T_c3075_row0_col3\" class=\"data row0 col3\" >63.780000</td>\n",
       "      <td id=\"T_c3075_row0_col4\" class=\"data row0 col4\" >300.200000</td>\n",
       "      <td id=\"T_c3075_row0_col5\" class=\"data row0 col5\" >0.107200</td>\n",
       "      <td id=\"T_c3075_row0_col6\" class=\"data row0 col6\" >0.159900</td>\n",
       "      <td id=\"T_c3075_row0_col7\" class=\"data row0 col7\" >0.410800</td>\n",
       "      <td id=\"T_c3075_row0_col8\" class=\"data row0 col8\" >0.078570</td>\n",
       "      <td id=\"T_c3075_row0_col9\" class=\"data row0 col9\" >0.254800</td>\n",
       "      <td id=\"T_c3075_row0_col10\" class=\"data row0 col10\" >0.092960</td>\n",
       "      <td id=\"T_c3075_row0_col11\" class=\"data row0 col11\" >0.824500</td>\n",
       "      <td id=\"T_c3075_row0_col12\" class=\"data row0 col12\" >2.664000</td>\n",
       "      <td id=\"T_c3075_row0_col13\" class=\"data row0 col13\" >4.073000</td>\n",
       "      <td id=\"T_c3075_row0_col14\" class=\"data row0 col14\" >49.850000</td>\n",
       "      <td id=\"T_c3075_row0_col15\" class=\"data row0 col15\" >0.010970</td>\n",
       "      <td id=\"T_c3075_row0_col16\" class=\"data row0 col16\" >0.095860</td>\n",
       "      <td id=\"T_c3075_row0_col17\" class=\"data row0 col17\" >0.396000</td>\n",
       "      <td id=\"T_c3075_row0_col18\" class=\"data row0 col18\" >0.052790</td>\n",
       "      <td id=\"T_c3075_row0_col19\" class=\"data row0 col19\" >0.035460</td>\n",
       "      <td id=\"T_c3075_row0_col20\" class=\"data row0 col20\" >0.029840</td>\n",
       "      <td id=\"T_c3075_row0_col21\" class=\"data row0 col21\" >11.020000</td>\n",
       "      <td id=\"T_c3075_row0_col22\" class=\"data row0 col22\" >19.490000</td>\n",
       "      <td id=\"T_c3075_row0_col23\" class=\"data row0 col23\" >71.040000</td>\n",
       "      <td id=\"T_c3075_row0_col24\" class=\"data row0 col24\" >380.500000</td>\n",
       "      <td id=\"T_c3075_row0_col25\" class=\"data row0 col25\" >0.129200</td>\n",
       "      <td id=\"T_c3075_row0_col26\" class=\"data row0 col26\" >0.277200</td>\n",
       "      <td id=\"T_c3075_row0_col27\" class=\"data row0 col27\" >0.821600</td>\n",
       "      <td id=\"T_c3075_row0_col28\" class=\"data row0 col28\" >0.157100</td>\n",
       "      <td id=\"T_c3075_row0_col29\" class=\"data row0 col29\" >0.310800</td>\n",
       "      <td id=\"T_c3075_row0_col30\" class=\"data row0 col30\" >0.125900</td>\n",
       "    </tr>\n",
       "    <tr>\n",
       "      <th id=\"T_c3075_level0_row1\" class=\"row_heading level0 row1\" >1</th>\n",
       "      <td id=\"T_c3075_row1_col0\" class=\"data row1 col0\" >VERY_LARGE</td>\n",
       "      <td id=\"T_c3075_row1_col1\" class=\"data row1 col1\" ></td>\n",
       "      <td id=\"T_c3075_row1_col2\" class=\"data row1 col2\" ></td>\n",
       "      <td id=\"T_c3075_row1_col3\" class=\"data row1 col3\" ></td>\n",
       "      <td id=\"T_c3075_row1_col4\" class=\"data row1 col4\" ></td>\n",
       "      <td id=\"T_c3075_row1_col5\" class=\"data row1 col5\" ></td>\n",
       "      <td id=\"T_c3075_row1_col6\" class=\"data row1 col6\" ></td>\n",
       "      <td id=\"T_c3075_row1_col7\" class=\"data row1 col7\" ></td>\n",
       "      <td id=\"T_c3075_row1_col8\" class=\"data row1 col8\" ></td>\n",
       "      <td id=\"T_c3075_row1_col9\" class=\"data row1 col9\" ></td>\n",
       "      <td id=\"T_c3075_row1_col10\" class=\"data row1 col10\" ></td>\n",
       "      <td id=\"T_c3075_row1_col11\" class=\"data row1 col11\" ></td>\n",
       "      <td id=\"T_c3075_row1_col12\" class=\"data row1 col12\" ></td>\n",
       "      <td id=\"T_c3075_row1_col13\" class=\"data row1 col13\" ></td>\n",
       "      <td id=\"T_c3075_row1_col14\" class=\"data row1 col14\" ></td>\n",
       "      <td id=\"T_c3075_row1_col15\" class=\"data row1 col15\" ></td>\n",
       "      <td id=\"T_c3075_row1_col16\" class=\"data row1 col16\" ></td>\n",
       "      <td id=\"T_c3075_row1_col17\" class=\"data row1 col17\" ></td>\n",
       "      <td id=\"T_c3075_row1_col18\" class=\"data row1 col18\" >✔</td>\n",
       "      <td id=\"T_c3075_row1_col19\" class=\"data row1 col19\" ></td>\n",
       "      <td id=\"T_c3075_row1_col20\" class=\"data row1 col20\" ></td>\n",
       "      <td id=\"T_c3075_row1_col21\" class=\"data row1 col21\" ></td>\n",
       "      <td id=\"T_c3075_row1_col22\" class=\"data row1 col22\" ></td>\n",
       "      <td id=\"T_c3075_row1_col23\" class=\"data row1 col23\" ></td>\n",
       "      <td id=\"T_c3075_row1_col24\" class=\"data row1 col24\" ></td>\n",
       "      <td id=\"T_c3075_row1_col25\" class=\"data row1 col25\" ></td>\n",
       "      <td id=\"T_c3075_row1_col26\" class=\"data row1 col26\" ></td>\n",
       "      <td id=\"T_c3075_row1_col27\" class=\"data row1 col27\" ></td>\n",
       "      <td id=\"T_c3075_row1_col28\" class=\"data row1 col28\" ></td>\n",
       "      <td id=\"T_c3075_row1_col29\" class=\"data row1 col29\" ></td>\n",
       "      <td id=\"T_c3075_row1_col30\" class=\"data row1 col30\" ></td>\n",
       "    </tr>\n",
       "    <tr>\n",
       "      <th id=\"T_c3075_level0_row2\" class=\"row_heading level0 row2\" >2</th>\n",
       "      <td id=\"T_c3075_row2_col0\" class=\"data row2 col0\" >LARGER</td>\n",
       "      <td id=\"T_c3075_row2_col1\" class=\"data row2 col1\" ></td>\n",
       "      <td id=\"T_c3075_row2_col2\" class=\"data row2 col2\" ></td>\n",
       "      <td id=\"T_c3075_row2_col3\" class=\"data row2 col3\" ></td>\n",
       "      <td id=\"T_c3075_row2_col4\" class=\"data row2 col4\" ></td>\n",
       "      <td id=\"T_c3075_row2_col5\" class=\"data row2 col5\" ></td>\n",
       "      <td id=\"T_c3075_row2_col6\" class=\"data row2 col6\" ></td>\n",
       "      <td id=\"T_c3075_row2_col7\" class=\"data row2 col7\" ></td>\n",
       "      <td id=\"T_c3075_row2_col8\" class=\"data row2 col8\" ></td>\n",
       "      <td id=\"T_c3075_row2_col9\" class=\"data row2 col9\" ></td>\n",
       "      <td id=\"T_c3075_row2_col10\" class=\"data row2 col10\" ></td>\n",
       "      <td id=\"T_c3075_row2_col11\" class=\"data row2 col11\" ></td>\n",
       "      <td id=\"T_c3075_row2_col12\" class=\"data row2 col12\" ></td>\n",
       "      <td id=\"T_c3075_row2_col13\" class=\"data row2 col13\" ></td>\n",
       "      <td id=\"T_c3075_row2_col14\" class=\"data row2 col14\" ></td>\n",
       "      <td id=\"T_c3075_row2_col15\" class=\"data row2 col15\" ></td>\n",
       "      <td id=\"T_c3075_row2_col16\" class=\"data row2 col16\" ></td>\n",
       "      <td id=\"T_c3075_row2_col17\" class=\"data row2 col17\" >✔</td>\n",
       "      <td id=\"T_c3075_row2_col18\" class=\"data row2 col18\" ></td>\n",
       "      <td id=\"T_c3075_row2_col19\" class=\"data row2 col19\" ></td>\n",
       "      <td id=\"T_c3075_row2_col20\" class=\"data row2 col20\" ></td>\n",
       "      <td id=\"T_c3075_row2_col21\" class=\"data row2 col21\" ></td>\n",
       "      <td id=\"T_c3075_row2_col22\" class=\"data row2 col22\" ></td>\n",
       "      <td id=\"T_c3075_row2_col23\" class=\"data row2 col23\" ></td>\n",
       "      <td id=\"T_c3075_row2_col24\" class=\"data row2 col24\" ></td>\n",
       "      <td id=\"T_c3075_row2_col25\" class=\"data row2 col25\" ></td>\n",
       "      <td id=\"T_c3075_row2_col26\" class=\"data row2 col26\" >✔</td>\n",
       "      <td id=\"T_c3075_row2_col27\" class=\"data row2 col27\" ></td>\n",
       "      <td id=\"T_c3075_row2_col28\" class=\"data row2 col28\" ></td>\n",
       "      <td id=\"T_c3075_row2_col29\" class=\"data row2 col29\" >✔</td>\n",
       "      <td id=\"T_c3075_row2_col30\" class=\"data row2 col30\" ></td>\n",
       "    </tr>\n",
       "    <tr>\n",
       "      <th id=\"T_c3075_level0_row3\" class=\"row_heading level0 row3\" >3</th>\n",
       "      <td id=\"T_c3075_row3_col0\" class=\"data row3 col0\" >MUCH_LARGER</td>\n",
       "      <td id=\"T_c3075_row3_col1\" class=\"data row3 col1\" ></td>\n",
       "      <td id=\"T_c3075_row3_col2\" class=\"data row3 col2\" ></td>\n",
       "      <td id=\"T_c3075_row3_col3\" class=\"data row3 col3\" ></td>\n",
       "      <td id=\"T_c3075_row3_col4\" class=\"data row3 col4\" ></td>\n",
       "      <td id=\"T_c3075_row3_col5\" class=\"data row3 col5\" ></td>\n",
       "      <td id=\"T_c3075_row3_col6\" class=\"data row3 col6\" ></td>\n",
       "      <td id=\"T_c3075_row3_col7\" class=\"data row3 col7\" ></td>\n",
       "      <td id=\"T_c3075_row3_col8\" class=\"data row3 col8\" ></td>\n",
       "      <td id=\"T_c3075_row3_col9\" class=\"data row3 col9\" ></td>\n",
       "      <td id=\"T_c3075_row3_col10\" class=\"data row3 col10\" ></td>\n",
       "      <td id=\"T_c3075_row3_col11\" class=\"data row3 col11\" ></td>\n",
       "      <td id=\"T_c3075_row3_col12\" class=\"data row3 col12\" ></td>\n",
       "      <td id=\"T_c3075_row3_col13\" class=\"data row3 col13\" ></td>\n",
       "      <td id=\"T_c3075_row3_col14\" class=\"data row3 col14\" ></td>\n",
       "      <td id=\"T_c3075_row3_col15\" class=\"data row3 col15\" ></td>\n",
       "      <td id=\"T_c3075_row3_col16\" class=\"data row3 col16\" ></td>\n",
       "      <td id=\"T_c3075_row3_col17\" class=\"data row3 col17\" ></td>\n",
       "      <td id=\"T_c3075_row3_col18\" class=\"data row3 col18\" ></td>\n",
       "      <td id=\"T_c3075_row3_col19\" class=\"data row3 col19\" ></td>\n",
       "      <td id=\"T_c3075_row3_col20\" class=\"data row3 col20\" >✔</td>\n",
       "      <td id=\"T_c3075_row3_col21\" class=\"data row3 col21\" ></td>\n",
       "      <td id=\"T_c3075_row3_col22\" class=\"data row3 col22\" ></td>\n",
       "      <td id=\"T_c3075_row3_col23\" class=\"data row3 col23\" ></td>\n",
       "      <td id=\"T_c3075_row3_col24\" class=\"data row3 col24\" ></td>\n",
       "      <td id=\"T_c3075_row3_col25\" class=\"data row3 col25\" ></td>\n",
       "      <td id=\"T_c3075_row3_col26\" class=\"data row3 col26\" >✔</td>\n",
       "      <td id=\"T_c3075_row3_col27\" class=\"data row3 col27\" ></td>\n",
       "      <td id=\"T_c3075_row3_col28\" class=\"data row3 col28\" ></td>\n",
       "      <td id=\"T_c3075_row3_col29\" class=\"data row3 col29\" ></td>\n",
       "      <td id=\"T_c3075_row3_col30\" class=\"data row3 col30\" ></td>\n",
       "    </tr>\n",
       "  </tbody>\n",
       "</table>\n"
      ],
      "text/plain": [
       "<pandas.io.formats.style.Styler at 0x27231211ca0>"
      ]
     },
     "metadata": {},
     "output_type": "display_data"
    },
    {
     "name": "stdout",
     "output_type": "stream",
     "text": [
      "\n",
      "\n"
     ]
    },
    {
     "data": {
      "text/markdown": [
       "**Row: 3 — Final Score: 4**"
      ],
      "text/plain": [
       "<IPython.core.display.Markdown object>"
      ]
     },
     "metadata": {},
     "output_type": "display_data"
    },
    {
     "data": {
      "text/html": [
       "<style type=\"text/css\">\n",
       "#T_d85d3_row0_col1, #T_d85d3_row0_col2, #T_d85d3_row0_col3, #T_d85d3_row0_col4, #T_d85d3_row0_col5, #T_d85d3_row0_col6, #T_d85d3_row0_col7, #T_d85d3_row0_col8, #T_d85d3_row0_col9, #T_d85d3_row0_col11, #T_d85d3_row0_col12, #T_d85d3_row0_col13, #T_d85d3_row0_col14, #T_d85d3_row0_col15, #T_d85d3_row0_col16, #T_d85d3_row0_col17, #T_d85d3_row0_col18, #T_d85d3_row0_col20, #T_d85d3_row0_col21, #T_d85d3_row0_col22, #T_d85d3_row0_col23, #T_d85d3_row0_col24, #T_d85d3_row0_col25, #T_d85d3_row0_col27, #T_d85d3_row0_col28, #T_d85d3_row0_col29 {\n",
       "  background-color: #e5f8fa;\n",
       "  color: black;\n",
       "}\n",
       "#T_d85d3_row0_col10, #T_d85d3_row0_col19, #T_d85d3_row0_col26, #T_d85d3_row0_col30 {\n",
       "  background-color: #efecc3;\n",
       "  color: black;\n",
       "}\n",
       "</style>\n",
       "<table id=\"T_d85d3_\">\n",
       "  <thead>\n",
       "    <tr>\n",
       "      <th class=\"blank level0\" >&nbsp;</th>\n",
       "      <th class=\"col_heading level0 col0\" >Test ID</th>\n",
       "      <th class=\"col_heading level0 col1\" >mean radius</th>\n",
       "      <th class=\"col_heading level0 col2\" >mean texture</th>\n",
       "      <th class=\"col_heading level0 col3\" >mean perimeter</th>\n",
       "      <th class=\"col_heading level0 col4\" >mean area</th>\n",
       "      <th class=\"col_heading level0 col5\" >mean smoothness</th>\n",
       "      <th class=\"col_heading level0 col6\" >mean compactness</th>\n",
       "      <th class=\"col_heading level0 col7\" >mean concavity</th>\n",
       "      <th class=\"col_heading level0 col8\" >mean concave points</th>\n",
       "      <th class=\"col_heading level0 col9\" >mean symmetry</th>\n",
       "      <th class=\"col_heading level0 col10\" >mean fractal dimension</th>\n",
       "      <th class=\"col_heading level0 col11\" >radius error</th>\n",
       "      <th class=\"col_heading level0 col12\" >texture error</th>\n",
       "      <th class=\"col_heading level0 col13\" >perimeter error</th>\n",
       "      <th class=\"col_heading level0 col14\" >area error</th>\n",
       "      <th class=\"col_heading level0 col15\" >smoothness error</th>\n",
       "      <th class=\"col_heading level0 col16\" >compactness error</th>\n",
       "      <th class=\"col_heading level0 col17\" >concavity error</th>\n",
       "      <th class=\"col_heading level0 col18\" >concave points error</th>\n",
       "      <th class=\"col_heading level0 col19\" >symmetry error</th>\n",
       "      <th class=\"col_heading level0 col20\" >fractal dimension error</th>\n",
       "      <th class=\"col_heading level0 col21\" >worst radius</th>\n",
       "      <th class=\"col_heading level0 col22\" >worst texture</th>\n",
       "      <th class=\"col_heading level0 col23\" >worst perimeter</th>\n",
       "      <th class=\"col_heading level0 col24\" >worst area</th>\n",
       "      <th class=\"col_heading level0 col25\" >worst smoothness</th>\n",
       "      <th class=\"col_heading level0 col26\" >worst compactness</th>\n",
       "      <th class=\"col_heading level0 col27\" >worst concavity</th>\n",
       "      <th class=\"col_heading level0 col28\" >worst concave points</th>\n",
       "      <th class=\"col_heading level0 col29\" >worst symmetry</th>\n",
       "      <th class=\"col_heading level0 col30\" >worst fractal dimension</th>\n",
       "    </tr>\n",
       "  </thead>\n",
       "  <tbody>\n",
       "    <tr>\n",
       "      <th id=\"T_d85d3_level0_row0\" class=\"row_heading level0 row0\" >0</th>\n",
       "      <td id=\"T_d85d3_row0_col0\" class=\"data row0 col0\" ></td>\n",
       "      <td id=\"T_d85d3_row0_col1\" class=\"data row0 col1\" >11.420000</td>\n",
       "      <td id=\"T_d85d3_row0_col2\" class=\"data row0 col2\" >20.380000</td>\n",
       "      <td id=\"T_d85d3_row0_col3\" class=\"data row0 col3\" >77.580000</td>\n",
       "      <td id=\"T_d85d3_row0_col4\" class=\"data row0 col4\" >386.100000</td>\n",
       "      <td id=\"T_d85d3_row0_col5\" class=\"data row0 col5\" >0.142500</td>\n",
       "      <td id=\"T_d85d3_row0_col6\" class=\"data row0 col6\" >0.283900</td>\n",
       "      <td id=\"T_d85d3_row0_col7\" class=\"data row0 col7\" >0.241400</td>\n",
       "      <td id=\"T_d85d3_row0_col8\" class=\"data row0 col8\" >0.105200</td>\n",
       "      <td id=\"T_d85d3_row0_col9\" class=\"data row0 col9\" >0.259700</td>\n",
       "      <td id=\"T_d85d3_row0_col10\" class=\"data row0 col10\" >0.097440</td>\n",
       "      <td id=\"T_d85d3_row0_col11\" class=\"data row0 col11\" >0.495600</td>\n",
       "      <td id=\"T_d85d3_row0_col12\" class=\"data row0 col12\" >1.156000</td>\n",
       "      <td id=\"T_d85d3_row0_col13\" class=\"data row0 col13\" >3.445000</td>\n",
       "      <td id=\"T_d85d3_row0_col14\" class=\"data row0 col14\" >27.230000</td>\n",
       "      <td id=\"T_d85d3_row0_col15\" class=\"data row0 col15\" >0.009110</td>\n",
       "      <td id=\"T_d85d3_row0_col16\" class=\"data row0 col16\" >0.074580</td>\n",
       "      <td id=\"T_d85d3_row0_col17\" class=\"data row0 col17\" >0.056610</td>\n",
       "      <td id=\"T_d85d3_row0_col18\" class=\"data row0 col18\" >0.018670</td>\n",
       "      <td id=\"T_d85d3_row0_col19\" class=\"data row0 col19\" >0.059630</td>\n",
       "      <td id=\"T_d85d3_row0_col20\" class=\"data row0 col20\" >0.009208</td>\n",
       "      <td id=\"T_d85d3_row0_col21\" class=\"data row0 col21\" >14.910000</td>\n",
       "      <td id=\"T_d85d3_row0_col22\" class=\"data row0 col22\" >26.500000</td>\n",
       "      <td id=\"T_d85d3_row0_col23\" class=\"data row0 col23\" >98.870000</td>\n",
       "      <td id=\"T_d85d3_row0_col24\" class=\"data row0 col24\" >567.700000</td>\n",
       "      <td id=\"T_d85d3_row0_col25\" class=\"data row0 col25\" >0.209800</td>\n",
       "      <td id=\"T_d85d3_row0_col26\" class=\"data row0 col26\" >0.866300</td>\n",
       "      <td id=\"T_d85d3_row0_col27\" class=\"data row0 col27\" >0.686900</td>\n",
       "      <td id=\"T_d85d3_row0_col28\" class=\"data row0 col28\" >0.257500</td>\n",
       "      <td id=\"T_d85d3_row0_col29\" class=\"data row0 col29\" >0.663800</td>\n",
       "      <td id=\"T_d85d3_row0_col30\" class=\"data row0 col30\" >0.173000</td>\n",
       "    </tr>\n",
       "    <tr>\n",
       "      <th id=\"T_d85d3_level0_row1\" class=\"row_heading level0 row1\" >1</th>\n",
       "      <td id=\"T_d85d3_row1_col0\" class=\"data row1 col0\" >FEW_NEIGHBORS</td>\n",
       "      <td id=\"T_d85d3_row1_col1\" class=\"data row1 col1\" ></td>\n",
       "      <td id=\"T_d85d3_row1_col2\" class=\"data row1 col2\" ></td>\n",
       "      <td id=\"T_d85d3_row1_col3\" class=\"data row1 col3\" ></td>\n",
       "      <td id=\"T_d85d3_row1_col4\" class=\"data row1 col4\" ></td>\n",
       "      <td id=\"T_d85d3_row1_col5\" class=\"data row1 col5\" ></td>\n",
       "      <td id=\"T_d85d3_row1_col6\" class=\"data row1 col6\" ></td>\n",
       "      <td id=\"T_d85d3_row1_col7\" class=\"data row1 col7\" ></td>\n",
       "      <td id=\"T_d85d3_row1_col8\" class=\"data row1 col8\" ></td>\n",
       "      <td id=\"T_d85d3_row1_col9\" class=\"data row1 col9\" ></td>\n",
       "      <td id=\"T_d85d3_row1_col10\" class=\"data row1 col10\" ></td>\n",
       "      <td id=\"T_d85d3_row1_col11\" class=\"data row1 col11\" ></td>\n",
       "      <td id=\"T_d85d3_row1_col12\" class=\"data row1 col12\" ></td>\n",
       "      <td id=\"T_d85d3_row1_col13\" class=\"data row1 col13\" ></td>\n",
       "      <td id=\"T_d85d3_row1_col14\" class=\"data row1 col14\" ></td>\n",
       "      <td id=\"T_d85d3_row1_col15\" class=\"data row1 col15\" ></td>\n",
       "      <td id=\"T_d85d3_row1_col16\" class=\"data row1 col16\" ></td>\n",
       "      <td id=\"T_d85d3_row1_col17\" class=\"data row1 col17\" ></td>\n",
       "      <td id=\"T_d85d3_row1_col18\" class=\"data row1 col18\" ></td>\n",
       "      <td id=\"T_d85d3_row1_col19\" class=\"data row1 col19\" ></td>\n",
       "      <td id=\"T_d85d3_row1_col20\" class=\"data row1 col20\" ></td>\n",
       "      <td id=\"T_d85d3_row1_col21\" class=\"data row1 col21\" ></td>\n",
       "      <td id=\"T_d85d3_row1_col22\" class=\"data row1 col22\" ></td>\n",
       "      <td id=\"T_d85d3_row1_col23\" class=\"data row1 col23\" ></td>\n",
       "      <td id=\"T_d85d3_row1_col24\" class=\"data row1 col24\" ></td>\n",
       "      <td id=\"T_d85d3_row1_col25\" class=\"data row1 col25\" ></td>\n",
       "      <td id=\"T_d85d3_row1_col26\" class=\"data row1 col26\" ></td>\n",
       "      <td id=\"T_d85d3_row1_col27\" class=\"data row1 col27\" ></td>\n",
       "      <td id=\"T_d85d3_row1_col28\" class=\"data row1 col28\" ></td>\n",
       "      <td id=\"T_d85d3_row1_col29\" class=\"data row1 col29\" ></td>\n",
       "      <td id=\"T_d85d3_row1_col30\" class=\"data row1 col30\" >✔</td>\n",
       "    </tr>\n",
       "    <tr>\n",
       "      <th id=\"T_d85d3_level0_row2\" class=\"row_heading level0 row2\" >2</th>\n",
       "      <td id=\"T_d85d3_row2_col0\" class=\"data row2 col0\" >VERY_LARGE</td>\n",
       "      <td id=\"T_d85d3_row2_col1\" class=\"data row2 col1\" ></td>\n",
       "      <td id=\"T_d85d3_row2_col2\" class=\"data row2 col2\" ></td>\n",
       "      <td id=\"T_d85d3_row2_col3\" class=\"data row2 col3\" ></td>\n",
       "      <td id=\"T_d85d3_row2_col4\" class=\"data row2 col4\" ></td>\n",
       "      <td id=\"T_d85d3_row2_col5\" class=\"data row2 col5\" ></td>\n",
       "      <td id=\"T_d85d3_row2_col6\" class=\"data row2 col6\" ></td>\n",
       "      <td id=\"T_d85d3_row2_col7\" class=\"data row2 col7\" ></td>\n",
       "      <td id=\"T_d85d3_row2_col8\" class=\"data row2 col8\" ></td>\n",
       "      <td id=\"T_d85d3_row2_col9\" class=\"data row2 col9\" ></td>\n",
       "      <td id=\"T_d85d3_row2_col10\" class=\"data row2 col10\" >✔</td>\n",
       "      <td id=\"T_d85d3_row2_col11\" class=\"data row2 col11\" ></td>\n",
       "      <td id=\"T_d85d3_row2_col12\" class=\"data row2 col12\" ></td>\n",
       "      <td id=\"T_d85d3_row2_col13\" class=\"data row2 col13\" ></td>\n",
       "      <td id=\"T_d85d3_row2_col14\" class=\"data row2 col14\" ></td>\n",
       "      <td id=\"T_d85d3_row2_col15\" class=\"data row2 col15\" ></td>\n",
       "      <td id=\"T_d85d3_row2_col16\" class=\"data row2 col16\" ></td>\n",
       "      <td id=\"T_d85d3_row2_col17\" class=\"data row2 col17\" ></td>\n",
       "      <td id=\"T_d85d3_row2_col18\" class=\"data row2 col18\" ></td>\n",
       "      <td id=\"T_d85d3_row2_col19\" class=\"data row2 col19\" ></td>\n",
       "      <td id=\"T_d85d3_row2_col20\" class=\"data row2 col20\" ></td>\n",
       "      <td id=\"T_d85d3_row2_col21\" class=\"data row2 col21\" ></td>\n",
       "      <td id=\"T_d85d3_row2_col22\" class=\"data row2 col22\" ></td>\n",
       "      <td id=\"T_d85d3_row2_col23\" class=\"data row2 col23\" ></td>\n",
       "      <td id=\"T_d85d3_row2_col24\" class=\"data row2 col24\" ></td>\n",
       "      <td id=\"T_d85d3_row2_col25\" class=\"data row2 col25\" ></td>\n",
       "      <td id=\"T_d85d3_row2_col26\" class=\"data row2 col26\" ></td>\n",
       "      <td id=\"T_d85d3_row2_col27\" class=\"data row2 col27\" ></td>\n",
       "      <td id=\"T_d85d3_row2_col28\" class=\"data row2 col28\" ></td>\n",
       "      <td id=\"T_d85d3_row2_col29\" class=\"data row2 col29\" ></td>\n",
       "      <td id=\"T_d85d3_row2_col30\" class=\"data row2 col30\" >✔</td>\n",
       "    </tr>\n",
       "    <tr>\n",
       "      <th id=\"T_d85d3_level0_row3\" class=\"row_heading level0 row3\" >3</th>\n",
       "      <td id=\"T_d85d3_row3_col0\" class=\"data row3 col0\" >RARE_COMBINATION</td>\n",
       "      <td id=\"T_d85d3_row3_col1\" class=\"data row3 col1\" ></td>\n",
       "      <td id=\"T_d85d3_row3_col2\" class=\"data row3 col2\" ></td>\n",
       "      <td id=\"T_d85d3_row3_col3\" class=\"data row3 col3\" ></td>\n",
       "      <td id=\"T_d85d3_row3_col4\" class=\"data row3 col4\" ></td>\n",
       "      <td id=\"T_d85d3_row3_col5\" class=\"data row3 col5\" ></td>\n",
       "      <td id=\"T_d85d3_row3_col6\" class=\"data row3 col6\" ></td>\n",
       "      <td id=\"T_d85d3_row3_col7\" class=\"data row3 col7\" ></td>\n",
       "      <td id=\"T_d85d3_row3_col8\" class=\"data row3 col8\" ></td>\n",
       "      <td id=\"T_d85d3_row3_col9\" class=\"data row3 col9\" ></td>\n",
       "      <td id=\"T_d85d3_row3_col10\" class=\"data row3 col10\" ></td>\n",
       "      <td id=\"T_d85d3_row3_col11\" class=\"data row3 col11\" ></td>\n",
       "      <td id=\"T_d85d3_row3_col12\" class=\"data row3 col12\" ></td>\n",
       "      <td id=\"T_d85d3_row3_col13\" class=\"data row3 col13\" ></td>\n",
       "      <td id=\"T_d85d3_row3_col14\" class=\"data row3 col14\" ></td>\n",
       "      <td id=\"T_d85d3_row3_col15\" class=\"data row3 col15\" ></td>\n",
       "      <td id=\"T_d85d3_row3_col16\" class=\"data row3 col16\" ></td>\n",
       "      <td id=\"T_d85d3_row3_col17\" class=\"data row3 col17\" ></td>\n",
       "      <td id=\"T_d85d3_row3_col18\" class=\"data row3 col18\" ></td>\n",
       "      <td id=\"T_d85d3_row3_col19\" class=\"data row3 col19\" >✔</td>\n",
       "      <td id=\"T_d85d3_row3_col20\" class=\"data row3 col20\" ></td>\n",
       "      <td id=\"T_d85d3_row3_col21\" class=\"data row3 col21\" ></td>\n",
       "      <td id=\"T_d85d3_row3_col22\" class=\"data row3 col22\" ></td>\n",
       "      <td id=\"T_d85d3_row3_col23\" class=\"data row3 col23\" ></td>\n",
       "      <td id=\"T_d85d3_row3_col24\" class=\"data row3 col24\" ></td>\n",
       "      <td id=\"T_d85d3_row3_col25\" class=\"data row3 col25\" ></td>\n",
       "      <td id=\"T_d85d3_row3_col26\" class=\"data row3 col26\" >✔</td>\n",
       "      <td id=\"T_d85d3_row3_col27\" class=\"data row3 col27\" ></td>\n",
       "      <td id=\"T_d85d3_row3_col28\" class=\"data row3 col28\" ></td>\n",
       "      <td id=\"T_d85d3_row3_col29\" class=\"data row3 col29\" ></td>\n",
       "      <td id=\"T_d85d3_row3_col30\" class=\"data row3 col30\" ></td>\n",
       "    </tr>\n",
       "  </tbody>\n",
       "</table>\n"
      ],
      "text/plain": [
       "<pandas.io.formats.style.Styler at 0x27231211ca0>"
      ]
     },
     "metadata": {},
     "output_type": "display_data"
    },
    {
     "name": "stdout",
     "output_type": "stream",
     "text": [
      "\n",
      "\n"
     ]
    },
    {
     "data": {
      "text/markdown": [
       "**Row: 461 — Final Score: 3**"
      ],
      "text/plain": [
       "<IPython.core.display.Markdown object>"
      ]
     },
     "metadata": {},
     "output_type": "display_data"
    },
    {
     "data": {
      "text/html": [
       "<style type=\"text/css\">\n",
       "#T_4fc7b_row0_col1, #T_4fc7b_row0_col2, #T_4fc7b_row0_col3, #T_4fc7b_row0_col4, #T_4fc7b_row0_col5, #T_4fc7b_row0_col6, #T_4fc7b_row0_col7, #T_4fc7b_row0_col8, #T_4fc7b_row0_col9, #T_4fc7b_row0_col10, #T_4fc7b_row0_col12, #T_4fc7b_row0_col15, #T_4fc7b_row0_col16, #T_4fc7b_row0_col17, #T_4fc7b_row0_col18, #T_4fc7b_row0_col19, #T_4fc7b_row0_col20, #T_4fc7b_row0_col21, #T_4fc7b_row0_col22, #T_4fc7b_row0_col23, #T_4fc7b_row0_col24, #T_4fc7b_row0_col25, #T_4fc7b_row0_col26, #T_4fc7b_row0_col27, #T_4fc7b_row0_col28, #T_4fc7b_row0_col29, #T_4fc7b_row0_col30 {\n",
       "  background-color: #e5f8fa;\n",
       "  color: black;\n",
       "}\n",
       "#T_4fc7b_row0_col11, #T_4fc7b_row0_col13, #T_4fc7b_row0_col14 {\n",
       "  background-color: #efecc3;\n",
       "  color: black;\n",
       "}\n",
       "</style>\n",
       "<table id=\"T_4fc7b_\">\n",
       "  <thead>\n",
       "    <tr>\n",
       "      <th class=\"blank level0\" >&nbsp;</th>\n",
       "      <th class=\"col_heading level0 col0\" >Test ID</th>\n",
       "      <th class=\"col_heading level0 col1\" >mean radius</th>\n",
       "      <th class=\"col_heading level0 col2\" >mean texture</th>\n",
       "      <th class=\"col_heading level0 col3\" >mean perimeter</th>\n",
       "      <th class=\"col_heading level0 col4\" >mean area</th>\n",
       "      <th class=\"col_heading level0 col5\" >mean smoothness</th>\n",
       "      <th class=\"col_heading level0 col6\" >mean compactness</th>\n",
       "      <th class=\"col_heading level0 col7\" >mean concavity</th>\n",
       "      <th class=\"col_heading level0 col8\" >mean concave points</th>\n",
       "      <th class=\"col_heading level0 col9\" >mean symmetry</th>\n",
       "      <th class=\"col_heading level0 col10\" >mean fractal dimension</th>\n",
       "      <th class=\"col_heading level0 col11\" >radius error</th>\n",
       "      <th class=\"col_heading level0 col12\" >texture error</th>\n",
       "      <th class=\"col_heading level0 col13\" >perimeter error</th>\n",
       "      <th class=\"col_heading level0 col14\" >area error</th>\n",
       "      <th class=\"col_heading level0 col15\" >smoothness error</th>\n",
       "      <th class=\"col_heading level0 col16\" >compactness error</th>\n",
       "      <th class=\"col_heading level0 col17\" >concavity error</th>\n",
       "      <th class=\"col_heading level0 col18\" >concave points error</th>\n",
       "      <th class=\"col_heading level0 col19\" >symmetry error</th>\n",
       "      <th class=\"col_heading level0 col20\" >fractal dimension error</th>\n",
       "      <th class=\"col_heading level0 col21\" >worst radius</th>\n",
       "      <th class=\"col_heading level0 col22\" >worst texture</th>\n",
       "      <th class=\"col_heading level0 col23\" >worst perimeter</th>\n",
       "      <th class=\"col_heading level0 col24\" >worst area</th>\n",
       "      <th class=\"col_heading level0 col25\" >worst smoothness</th>\n",
       "      <th class=\"col_heading level0 col26\" >worst compactness</th>\n",
       "      <th class=\"col_heading level0 col27\" >worst concavity</th>\n",
       "      <th class=\"col_heading level0 col28\" >worst concave points</th>\n",
       "      <th class=\"col_heading level0 col29\" >worst symmetry</th>\n",
       "      <th class=\"col_heading level0 col30\" >worst fractal dimension</th>\n",
       "    </tr>\n",
       "  </thead>\n",
       "  <tbody>\n",
       "    <tr>\n",
       "      <th id=\"T_4fc7b_level0_row0\" class=\"row_heading level0 row0\" >0</th>\n",
       "      <td id=\"T_4fc7b_row0_col0\" class=\"data row0 col0\" ></td>\n",
       "      <td id=\"T_4fc7b_row0_col1\" class=\"data row0 col1\" >27.420000</td>\n",
       "      <td id=\"T_4fc7b_row0_col2\" class=\"data row0 col2\" >26.270000</td>\n",
       "      <td id=\"T_4fc7b_row0_col3\" class=\"data row0 col3\" >186.900000</td>\n",
       "      <td id=\"T_4fc7b_row0_col4\" class=\"data row0 col4\" >2501.000000</td>\n",
       "      <td id=\"T_4fc7b_row0_col5\" class=\"data row0 col5\" >0.108400</td>\n",
       "      <td id=\"T_4fc7b_row0_col6\" class=\"data row0 col6\" >0.198800</td>\n",
       "      <td id=\"T_4fc7b_row0_col7\" class=\"data row0 col7\" >0.363500</td>\n",
       "      <td id=\"T_4fc7b_row0_col8\" class=\"data row0 col8\" >0.168900</td>\n",
       "      <td id=\"T_4fc7b_row0_col9\" class=\"data row0 col9\" >0.206100</td>\n",
       "      <td id=\"T_4fc7b_row0_col10\" class=\"data row0 col10\" >0.056230</td>\n",
       "      <td id=\"T_4fc7b_row0_col11\" class=\"data row0 col11\" >2.547000</td>\n",
       "      <td id=\"T_4fc7b_row0_col12\" class=\"data row0 col12\" >1.306000</td>\n",
       "      <td id=\"T_4fc7b_row0_col13\" class=\"data row0 col13\" >18.650000</td>\n",
       "      <td id=\"T_4fc7b_row0_col14\" class=\"data row0 col14\" >542.200000</td>\n",
       "      <td id=\"T_4fc7b_row0_col15\" class=\"data row0 col15\" >0.007650</td>\n",
       "      <td id=\"T_4fc7b_row0_col16\" class=\"data row0 col16\" >0.053740</td>\n",
       "      <td id=\"T_4fc7b_row0_col17\" class=\"data row0 col17\" >0.080550</td>\n",
       "      <td id=\"T_4fc7b_row0_col18\" class=\"data row0 col18\" >0.025980</td>\n",
       "      <td id=\"T_4fc7b_row0_col19\" class=\"data row0 col19\" >0.016970</td>\n",
       "      <td id=\"T_4fc7b_row0_col20\" class=\"data row0 col20\" >0.004558</td>\n",
       "      <td id=\"T_4fc7b_row0_col21\" class=\"data row0 col21\" >36.040000</td>\n",
       "      <td id=\"T_4fc7b_row0_col22\" class=\"data row0 col22\" >31.370000</td>\n",
       "      <td id=\"T_4fc7b_row0_col23\" class=\"data row0 col23\" >251.200000</td>\n",
       "      <td id=\"T_4fc7b_row0_col24\" class=\"data row0 col24\" >4254.000000</td>\n",
       "      <td id=\"T_4fc7b_row0_col25\" class=\"data row0 col25\" >0.135700</td>\n",
       "      <td id=\"T_4fc7b_row0_col26\" class=\"data row0 col26\" >0.425600</td>\n",
       "      <td id=\"T_4fc7b_row0_col27\" class=\"data row0 col27\" >0.683300</td>\n",
       "      <td id=\"T_4fc7b_row0_col28\" class=\"data row0 col28\" >0.262500</td>\n",
       "      <td id=\"T_4fc7b_row0_col29\" class=\"data row0 col29\" >0.264100</td>\n",
       "      <td id=\"T_4fc7b_row0_col30\" class=\"data row0 col30\" >0.074270</td>\n",
       "    </tr>\n",
       "    <tr>\n",
       "      <th id=\"T_4fc7b_level0_row1\" class=\"row_heading level0 row1\" >1</th>\n",
       "      <td id=\"T_4fc7b_row1_col0\" class=\"data row1 col0\" >UNUSUAL_ORDER_MAGNITUDE</td>\n",
       "      <td id=\"T_4fc7b_row1_col1\" class=\"data row1 col1\" ></td>\n",
       "      <td id=\"T_4fc7b_row1_col2\" class=\"data row1 col2\" ></td>\n",
       "      <td id=\"T_4fc7b_row1_col3\" class=\"data row1 col3\" ></td>\n",
       "      <td id=\"T_4fc7b_row1_col4\" class=\"data row1 col4\" ></td>\n",
       "      <td id=\"T_4fc7b_row1_col5\" class=\"data row1 col5\" ></td>\n",
       "      <td id=\"T_4fc7b_row1_col6\" class=\"data row1 col6\" ></td>\n",
       "      <td id=\"T_4fc7b_row1_col7\" class=\"data row1 col7\" ></td>\n",
       "      <td id=\"T_4fc7b_row1_col8\" class=\"data row1 col8\" ></td>\n",
       "      <td id=\"T_4fc7b_row1_col9\" class=\"data row1 col9\" ></td>\n",
       "      <td id=\"T_4fc7b_row1_col10\" class=\"data row1 col10\" ></td>\n",
       "      <td id=\"T_4fc7b_row1_col11\" class=\"data row1 col11\" ></td>\n",
       "      <td id=\"T_4fc7b_row1_col12\" class=\"data row1 col12\" ></td>\n",
       "      <td id=\"T_4fc7b_row1_col13\" class=\"data row1 col13\" ></td>\n",
       "      <td id=\"T_4fc7b_row1_col14\" class=\"data row1 col14\" >✔</td>\n",
       "      <td id=\"T_4fc7b_row1_col15\" class=\"data row1 col15\" ></td>\n",
       "      <td id=\"T_4fc7b_row1_col16\" class=\"data row1 col16\" ></td>\n",
       "      <td id=\"T_4fc7b_row1_col17\" class=\"data row1 col17\" ></td>\n",
       "      <td id=\"T_4fc7b_row1_col18\" class=\"data row1 col18\" ></td>\n",
       "      <td id=\"T_4fc7b_row1_col19\" class=\"data row1 col19\" ></td>\n",
       "      <td id=\"T_4fc7b_row1_col20\" class=\"data row1 col20\" ></td>\n",
       "      <td id=\"T_4fc7b_row1_col21\" class=\"data row1 col21\" ></td>\n",
       "      <td id=\"T_4fc7b_row1_col22\" class=\"data row1 col22\" ></td>\n",
       "      <td id=\"T_4fc7b_row1_col23\" class=\"data row1 col23\" ></td>\n",
       "      <td id=\"T_4fc7b_row1_col24\" class=\"data row1 col24\" ></td>\n",
       "      <td id=\"T_4fc7b_row1_col25\" class=\"data row1 col25\" ></td>\n",
       "      <td id=\"T_4fc7b_row1_col26\" class=\"data row1 col26\" ></td>\n",
       "      <td id=\"T_4fc7b_row1_col27\" class=\"data row1 col27\" ></td>\n",
       "      <td id=\"T_4fc7b_row1_col28\" class=\"data row1 col28\" ></td>\n",
       "      <td id=\"T_4fc7b_row1_col29\" class=\"data row1 col29\" ></td>\n",
       "      <td id=\"T_4fc7b_row1_col30\" class=\"data row1 col30\" ></td>\n",
       "    </tr>\n",
       "    <tr>\n",
       "      <th id=\"T_4fc7b_level0_row2\" class=\"row_heading level0 row2\" >2</th>\n",
       "      <td id=\"T_4fc7b_row2_col0\" class=\"data row2 col0\" >FEW_NEIGHBORS</td>\n",
       "      <td id=\"T_4fc7b_row2_col1\" class=\"data row2 col1\" ></td>\n",
       "      <td id=\"T_4fc7b_row2_col2\" class=\"data row2 col2\" ></td>\n",
       "      <td id=\"T_4fc7b_row2_col3\" class=\"data row2 col3\" ></td>\n",
       "      <td id=\"T_4fc7b_row2_col4\" class=\"data row2 col4\" ></td>\n",
       "      <td id=\"T_4fc7b_row2_col5\" class=\"data row2 col5\" ></td>\n",
       "      <td id=\"T_4fc7b_row2_col6\" class=\"data row2 col6\" ></td>\n",
       "      <td id=\"T_4fc7b_row2_col7\" class=\"data row2 col7\" ></td>\n",
       "      <td id=\"T_4fc7b_row2_col8\" class=\"data row2 col8\" ></td>\n",
       "      <td id=\"T_4fc7b_row2_col9\" class=\"data row2 col9\" ></td>\n",
       "      <td id=\"T_4fc7b_row2_col10\" class=\"data row2 col10\" ></td>\n",
       "      <td id=\"T_4fc7b_row2_col11\" class=\"data row2 col11\" >✔</td>\n",
       "      <td id=\"T_4fc7b_row2_col12\" class=\"data row2 col12\" ></td>\n",
       "      <td id=\"T_4fc7b_row2_col13\" class=\"data row2 col13\" >✔</td>\n",
       "      <td id=\"T_4fc7b_row2_col14\" class=\"data row2 col14\" ></td>\n",
       "      <td id=\"T_4fc7b_row2_col15\" class=\"data row2 col15\" ></td>\n",
       "      <td id=\"T_4fc7b_row2_col16\" class=\"data row2 col16\" ></td>\n",
       "      <td id=\"T_4fc7b_row2_col17\" class=\"data row2 col17\" ></td>\n",
       "      <td id=\"T_4fc7b_row2_col18\" class=\"data row2 col18\" ></td>\n",
       "      <td id=\"T_4fc7b_row2_col19\" class=\"data row2 col19\" ></td>\n",
       "      <td id=\"T_4fc7b_row2_col20\" class=\"data row2 col20\" ></td>\n",
       "      <td id=\"T_4fc7b_row2_col21\" class=\"data row2 col21\" ></td>\n",
       "      <td id=\"T_4fc7b_row2_col22\" class=\"data row2 col22\" ></td>\n",
       "      <td id=\"T_4fc7b_row2_col23\" class=\"data row2 col23\" ></td>\n",
       "      <td id=\"T_4fc7b_row2_col24\" class=\"data row2 col24\" ></td>\n",
       "      <td id=\"T_4fc7b_row2_col25\" class=\"data row2 col25\" ></td>\n",
       "      <td id=\"T_4fc7b_row2_col26\" class=\"data row2 col26\" ></td>\n",
       "      <td id=\"T_4fc7b_row2_col27\" class=\"data row2 col27\" ></td>\n",
       "      <td id=\"T_4fc7b_row2_col28\" class=\"data row2 col28\" ></td>\n",
       "      <td id=\"T_4fc7b_row2_col29\" class=\"data row2 col29\" ></td>\n",
       "      <td id=\"T_4fc7b_row2_col30\" class=\"data row2 col30\" ></td>\n",
       "    </tr>\n",
       "  </tbody>\n",
       "</table>\n"
      ],
      "text/plain": [
       "<pandas.io.formats.style.Styler at 0x271a2957ee0>"
      ]
     },
     "metadata": {},
     "output_type": "display_data"
    },
    {
     "name": "stdout",
     "output_type": "stream",
     "text": [
      "\n",
      "\n"
     ]
    },
    {
     "data": {
      "text/markdown": [
       "**Row: 122 — Final Score: 3**"
      ],
      "text/plain": [
       "<IPython.core.display.Markdown object>"
      ]
     },
     "metadata": {},
     "output_type": "display_data"
    },
    {
     "data": {
      "text/html": [
       "<style type=\"text/css\">\n",
       "#T_75fac_row0_col1, #T_75fac_row0_col2, #T_75fac_row0_col3, #T_75fac_row0_col5, #T_75fac_row0_col6, #T_75fac_row0_col7, #T_75fac_row0_col8, #T_75fac_row0_col9, #T_75fac_row0_col10, #T_75fac_row0_col11, #T_75fac_row0_col13, #T_75fac_row0_col14, #T_75fac_row0_col15, #T_75fac_row0_col17, #T_75fac_row0_col18, #T_75fac_row0_col20, #T_75fac_row0_col21, #T_75fac_row0_col22, #T_75fac_row0_col23, #T_75fac_row0_col24, #T_75fac_row0_col25, #T_75fac_row0_col26, #T_75fac_row0_col27, #T_75fac_row0_col28, #T_75fac_row0_col29, #T_75fac_row0_col30 {\n",
       "  background-color: #e5f8fa;\n",
       "  color: black;\n",
       "}\n",
       "#T_75fac_row0_col4, #T_75fac_row0_col12, #T_75fac_row0_col16, #T_75fac_row0_col19 {\n",
       "  background-color: #efecc3;\n",
       "  color: black;\n",
       "}\n",
       "</style>\n",
       "<table id=\"T_75fac_\">\n",
       "  <thead>\n",
       "    <tr>\n",
       "      <th class=\"blank level0\" >&nbsp;</th>\n",
       "      <th class=\"col_heading level0 col0\" >Test ID</th>\n",
       "      <th class=\"col_heading level0 col1\" >mean radius</th>\n",
       "      <th class=\"col_heading level0 col2\" >mean texture</th>\n",
       "      <th class=\"col_heading level0 col3\" >mean perimeter</th>\n",
       "      <th class=\"col_heading level0 col4\" >mean area</th>\n",
       "      <th class=\"col_heading level0 col5\" >mean smoothness</th>\n",
       "      <th class=\"col_heading level0 col6\" >mean compactness</th>\n",
       "      <th class=\"col_heading level0 col7\" >mean concavity</th>\n",
       "      <th class=\"col_heading level0 col8\" >mean concave points</th>\n",
       "      <th class=\"col_heading level0 col9\" >mean symmetry</th>\n",
       "      <th class=\"col_heading level0 col10\" >mean fractal dimension</th>\n",
       "      <th class=\"col_heading level0 col11\" >radius error</th>\n",
       "      <th class=\"col_heading level0 col12\" >texture error</th>\n",
       "      <th class=\"col_heading level0 col13\" >perimeter error</th>\n",
       "      <th class=\"col_heading level0 col14\" >area error</th>\n",
       "      <th class=\"col_heading level0 col15\" >smoothness error</th>\n",
       "      <th class=\"col_heading level0 col16\" >compactness error</th>\n",
       "      <th class=\"col_heading level0 col17\" >concavity error</th>\n",
       "      <th class=\"col_heading level0 col18\" >concave points error</th>\n",
       "      <th class=\"col_heading level0 col19\" >symmetry error</th>\n",
       "      <th class=\"col_heading level0 col20\" >fractal dimension error</th>\n",
       "      <th class=\"col_heading level0 col21\" >worst radius</th>\n",
       "      <th class=\"col_heading level0 col22\" >worst texture</th>\n",
       "      <th class=\"col_heading level0 col23\" >worst perimeter</th>\n",
       "      <th class=\"col_heading level0 col24\" >worst area</th>\n",
       "      <th class=\"col_heading level0 col25\" >worst smoothness</th>\n",
       "      <th class=\"col_heading level0 col26\" >worst compactness</th>\n",
       "      <th class=\"col_heading level0 col27\" >worst concavity</th>\n",
       "      <th class=\"col_heading level0 col28\" >worst concave points</th>\n",
       "      <th class=\"col_heading level0 col29\" >worst symmetry</th>\n",
       "      <th class=\"col_heading level0 col30\" >worst fractal dimension</th>\n",
       "    </tr>\n",
       "  </thead>\n",
       "  <tbody>\n",
       "    <tr>\n",
       "      <th id=\"T_75fac_level0_row0\" class=\"row_heading level0 row0\" >0</th>\n",
       "      <td id=\"T_75fac_row0_col0\" class=\"data row0 col0\" ></td>\n",
       "      <td id=\"T_75fac_row0_col1\" class=\"data row0 col1\" >24.250000</td>\n",
       "      <td id=\"T_75fac_row0_col2\" class=\"data row0 col2\" >20.200000</td>\n",
       "      <td id=\"T_75fac_row0_col3\" class=\"data row0 col3\" >166.200000</td>\n",
       "      <td id=\"T_75fac_row0_col4\" class=\"data row0 col4\" >1761.000000</td>\n",
       "      <td id=\"T_75fac_row0_col5\" class=\"data row0 col5\" >0.144700</td>\n",
       "      <td id=\"T_75fac_row0_col6\" class=\"data row0 col6\" >0.286700</td>\n",
       "      <td id=\"T_75fac_row0_col7\" class=\"data row0 col7\" >0.426800</td>\n",
       "      <td id=\"T_75fac_row0_col8\" class=\"data row0 col8\" >0.201200</td>\n",
       "      <td id=\"T_75fac_row0_col9\" class=\"data row0 col9\" >0.265500</td>\n",
       "      <td id=\"T_75fac_row0_col10\" class=\"data row0 col10\" >0.068770</td>\n",
       "      <td id=\"T_75fac_row0_col11\" class=\"data row0 col11\" >1.509000</td>\n",
       "      <td id=\"T_75fac_row0_col12\" class=\"data row0 col12\" >3.120000</td>\n",
       "      <td id=\"T_75fac_row0_col13\" class=\"data row0 col13\" >9.807000</td>\n",
       "      <td id=\"T_75fac_row0_col14\" class=\"data row0 col14\" >233.000000</td>\n",
       "      <td id=\"T_75fac_row0_col15\" class=\"data row0 col15\" >0.023330</td>\n",
       "      <td id=\"T_75fac_row0_col16\" class=\"data row0 col16\" >0.098060</td>\n",
       "      <td id=\"T_75fac_row0_col17\" class=\"data row0 col17\" >0.127800</td>\n",
       "      <td id=\"T_75fac_row0_col18\" class=\"data row0 col18\" >0.018220</td>\n",
       "      <td id=\"T_75fac_row0_col19\" class=\"data row0 col19\" >0.045470</td>\n",
       "      <td id=\"T_75fac_row0_col20\" class=\"data row0 col20\" >0.009875</td>\n",
       "      <td id=\"T_75fac_row0_col21\" class=\"data row0 col21\" >26.020000</td>\n",
       "      <td id=\"T_75fac_row0_col22\" class=\"data row0 col22\" >23.990000</td>\n",
       "      <td id=\"T_75fac_row0_col23\" class=\"data row0 col23\" >180.900000</td>\n",
       "      <td id=\"T_75fac_row0_col24\" class=\"data row0 col24\" >2073.000000</td>\n",
       "      <td id=\"T_75fac_row0_col25\" class=\"data row0 col25\" >0.169600</td>\n",
       "      <td id=\"T_75fac_row0_col26\" class=\"data row0 col26\" >0.424400</td>\n",
       "      <td id=\"T_75fac_row0_col27\" class=\"data row0 col27\" >0.580300</td>\n",
       "      <td id=\"T_75fac_row0_col28\" class=\"data row0 col28\" >0.224800</td>\n",
       "      <td id=\"T_75fac_row0_col29\" class=\"data row0 col29\" >0.322200</td>\n",
       "      <td id=\"T_75fac_row0_col30\" class=\"data row0 col30\" >0.080090</td>\n",
       "    </tr>\n",
       "    <tr>\n",
       "      <th id=\"T_75fac_level0_row1\" class=\"row_heading level0 row1\" >1</th>\n",
       "      <td id=\"T_75fac_row1_col0\" class=\"data row1 col0\" >RARE_COMBINATION</td>\n",
       "      <td id=\"T_75fac_row1_col1\" class=\"data row1 col1\" ></td>\n",
       "      <td id=\"T_75fac_row1_col2\" class=\"data row1 col2\" ></td>\n",
       "      <td id=\"T_75fac_row1_col3\" class=\"data row1 col3\" ></td>\n",
       "      <td id=\"T_75fac_row1_col4\" class=\"data row1 col4\" >✔</td>\n",
       "      <td id=\"T_75fac_row1_col5\" class=\"data row1 col5\" ></td>\n",
       "      <td id=\"T_75fac_row1_col6\" class=\"data row1 col6\" ></td>\n",
       "      <td id=\"T_75fac_row1_col7\" class=\"data row1 col7\" ></td>\n",
       "      <td id=\"T_75fac_row1_col8\" class=\"data row1 col8\" ></td>\n",
       "      <td id=\"T_75fac_row1_col9\" class=\"data row1 col9\" ></td>\n",
       "      <td id=\"T_75fac_row1_col10\" class=\"data row1 col10\" ></td>\n",
       "      <td id=\"T_75fac_row1_col11\" class=\"data row1 col11\" ></td>\n",
       "      <td id=\"T_75fac_row1_col12\" class=\"data row1 col12\" >✔</td>\n",
       "      <td id=\"T_75fac_row1_col13\" class=\"data row1 col13\" ></td>\n",
       "      <td id=\"T_75fac_row1_col14\" class=\"data row1 col14\" ></td>\n",
       "      <td id=\"T_75fac_row1_col15\" class=\"data row1 col15\" ></td>\n",
       "      <td id=\"T_75fac_row1_col16\" class=\"data row1 col16\" >✔</td>\n",
       "      <td id=\"T_75fac_row1_col17\" class=\"data row1 col17\" ></td>\n",
       "      <td id=\"T_75fac_row1_col18\" class=\"data row1 col18\" ></td>\n",
       "      <td id=\"T_75fac_row1_col19\" class=\"data row1 col19\" >✔</td>\n",
       "      <td id=\"T_75fac_row1_col20\" class=\"data row1 col20\" ></td>\n",
       "      <td id=\"T_75fac_row1_col21\" class=\"data row1 col21\" ></td>\n",
       "      <td id=\"T_75fac_row1_col22\" class=\"data row1 col22\" ></td>\n",
       "      <td id=\"T_75fac_row1_col23\" class=\"data row1 col23\" ></td>\n",
       "      <td id=\"T_75fac_row1_col24\" class=\"data row1 col24\" ></td>\n",
       "      <td id=\"T_75fac_row1_col25\" class=\"data row1 col25\" ></td>\n",
       "      <td id=\"T_75fac_row1_col26\" class=\"data row1 col26\" ></td>\n",
       "      <td id=\"T_75fac_row1_col27\" class=\"data row1 col27\" ></td>\n",
       "      <td id=\"T_75fac_row1_col28\" class=\"data row1 col28\" ></td>\n",
       "      <td id=\"T_75fac_row1_col29\" class=\"data row1 col29\" ></td>\n",
       "      <td id=\"T_75fac_row1_col30\" class=\"data row1 col30\" ></td>\n",
       "    </tr>\n",
       "  </tbody>\n",
       "</table>\n"
      ],
      "text/plain": [
       "<pandas.io.formats.style.Styler at 0x272312110a0>"
      ]
     },
     "metadata": {},
     "output_type": "display_data"
    },
    {
     "name": "stdout",
     "output_type": "stream",
     "text": [
      "\n",
      "\n"
     ]
    },
    {
     "data": {
      "text/markdown": [
       "**Row: 376 — Final Score: 3**"
      ],
      "text/plain": [
       "<IPython.core.display.Markdown object>"
      ]
     },
     "metadata": {},
     "output_type": "display_data"
    },
    {
     "data": {
      "text/html": [
       "<style type=\"text/css\">\n",
       "#T_f78e6_row0_col1, #T_f78e6_row0_col2, #T_f78e6_row0_col3, #T_f78e6_row0_col4, #T_f78e6_row0_col5, #T_f78e6_row0_col6, #T_f78e6_row0_col7, #T_f78e6_row0_col8, #T_f78e6_row0_col9, #T_f78e6_row0_col10, #T_f78e6_row0_col12, #T_f78e6_row0_col13, #T_f78e6_row0_col14, #T_f78e6_row0_col15, #T_f78e6_row0_col16, #T_f78e6_row0_col18, #T_f78e6_row0_col19, #T_f78e6_row0_col21, #T_f78e6_row0_col22, #T_f78e6_row0_col23, #T_f78e6_row0_col24, #T_f78e6_row0_col25, #T_f78e6_row0_col26, #T_f78e6_row0_col27, #T_f78e6_row0_col28, #T_f78e6_row0_col29 {\n",
       "  background-color: #e5f8fa;\n",
       "  color: black;\n",
       "}\n",
       "#T_f78e6_row0_col11, #T_f78e6_row0_col17, #T_f78e6_row0_col20, #T_f78e6_row0_col30 {\n",
       "  background-color: #efecc3;\n",
       "  color: black;\n",
       "}\n",
       "</style>\n",
       "<table id=\"T_f78e6_\">\n",
       "  <thead>\n",
       "    <tr>\n",
       "      <th class=\"blank level0\" >&nbsp;</th>\n",
       "      <th class=\"col_heading level0 col0\" >Test ID</th>\n",
       "      <th class=\"col_heading level0 col1\" >mean radius</th>\n",
       "      <th class=\"col_heading level0 col2\" >mean texture</th>\n",
       "      <th class=\"col_heading level0 col3\" >mean perimeter</th>\n",
       "      <th class=\"col_heading level0 col4\" >mean area</th>\n",
       "      <th class=\"col_heading level0 col5\" >mean smoothness</th>\n",
       "      <th class=\"col_heading level0 col6\" >mean compactness</th>\n",
       "      <th class=\"col_heading level0 col7\" >mean concavity</th>\n",
       "      <th class=\"col_heading level0 col8\" >mean concave points</th>\n",
       "      <th class=\"col_heading level0 col9\" >mean symmetry</th>\n",
       "      <th class=\"col_heading level0 col10\" >mean fractal dimension</th>\n",
       "      <th class=\"col_heading level0 col11\" >radius error</th>\n",
       "      <th class=\"col_heading level0 col12\" >texture error</th>\n",
       "      <th class=\"col_heading level0 col13\" >perimeter error</th>\n",
       "      <th class=\"col_heading level0 col14\" >area error</th>\n",
       "      <th class=\"col_heading level0 col15\" >smoothness error</th>\n",
       "      <th class=\"col_heading level0 col16\" >compactness error</th>\n",
       "      <th class=\"col_heading level0 col17\" >concavity error</th>\n",
       "      <th class=\"col_heading level0 col18\" >concave points error</th>\n",
       "      <th class=\"col_heading level0 col19\" >symmetry error</th>\n",
       "      <th class=\"col_heading level0 col20\" >fractal dimension error</th>\n",
       "      <th class=\"col_heading level0 col21\" >worst radius</th>\n",
       "      <th class=\"col_heading level0 col22\" >worst texture</th>\n",
       "      <th class=\"col_heading level0 col23\" >worst perimeter</th>\n",
       "      <th class=\"col_heading level0 col24\" >worst area</th>\n",
       "      <th class=\"col_heading level0 col25\" >worst smoothness</th>\n",
       "      <th class=\"col_heading level0 col26\" >worst compactness</th>\n",
       "      <th class=\"col_heading level0 col27\" >worst concavity</th>\n",
       "      <th class=\"col_heading level0 col28\" >worst concave points</th>\n",
       "      <th class=\"col_heading level0 col29\" >worst symmetry</th>\n",
       "      <th class=\"col_heading level0 col30\" >worst fractal dimension</th>\n",
       "    </tr>\n",
       "  </thead>\n",
       "  <tbody>\n",
       "    <tr>\n",
       "      <th id=\"T_f78e6_level0_row0\" class=\"row_heading level0 row0\" >0</th>\n",
       "      <td id=\"T_f78e6_row0_col0\" class=\"data row0 col0\" ></td>\n",
       "      <td id=\"T_f78e6_row0_col1\" class=\"data row0 col1\" >10.570000</td>\n",
       "      <td id=\"T_f78e6_row0_col2\" class=\"data row0 col2\" >20.220000</td>\n",
       "      <td id=\"T_f78e6_row0_col3\" class=\"data row0 col3\" >70.150000</td>\n",
       "      <td id=\"T_f78e6_row0_col4\" class=\"data row0 col4\" >338.300000</td>\n",
       "      <td id=\"T_f78e6_row0_col5\" class=\"data row0 col5\" >0.090730</td>\n",
       "      <td id=\"T_f78e6_row0_col6\" class=\"data row0 col6\" >0.166000</td>\n",
       "      <td id=\"T_f78e6_row0_col7\" class=\"data row0 col7\" >0.228000</td>\n",
       "      <td id=\"T_f78e6_row0_col8\" class=\"data row0 col8\" >0.059410</td>\n",
       "      <td id=\"T_f78e6_row0_col9\" class=\"data row0 col9\" >0.218800</td>\n",
       "      <td id=\"T_f78e6_row0_col10\" class=\"data row0 col10\" >0.084500</td>\n",
       "      <td id=\"T_f78e6_row0_col11\" class=\"data row0 col11\" >0.111500</td>\n",
       "      <td id=\"T_f78e6_row0_col12\" class=\"data row0 col12\" >1.231000</td>\n",
       "      <td id=\"T_f78e6_row0_col13\" class=\"data row0 col13\" >2.363000</td>\n",
       "      <td id=\"T_f78e6_row0_col14\" class=\"data row0 col14\" >7.228000</td>\n",
       "      <td id=\"T_f78e6_row0_col15\" class=\"data row0 col15\" >0.008499</td>\n",
       "      <td id=\"T_f78e6_row0_col16\" class=\"data row0 col16\" >0.076430</td>\n",
       "      <td id=\"T_f78e6_row0_col17\" class=\"data row0 col17\" >0.153500</td>\n",
       "      <td id=\"T_f78e6_row0_col18\" class=\"data row0 col18\" >0.029190</td>\n",
       "      <td id=\"T_f78e6_row0_col19\" class=\"data row0 col19\" >0.016170</td>\n",
       "      <td id=\"T_f78e6_row0_col20\" class=\"data row0 col20\" >0.012200</td>\n",
       "      <td id=\"T_f78e6_row0_col21\" class=\"data row0 col21\" >10.850000</td>\n",
       "      <td id=\"T_f78e6_row0_col22\" class=\"data row0 col22\" >22.820000</td>\n",
       "      <td id=\"T_f78e6_row0_col23\" class=\"data row0 col23\" >76.510000</td>\n",
       "      <td id=\"T_f78e6_row0_col24\" class=\"data row0 col24\" >351.900000</td>\n",
       "      <td id=\"T_f78e6_row0_col25\" class=\"data row0 col25\" >0.114300</td>\n",
       "      <td id=\"T_f78e6_row0_col26\" class=\"data row0 col26\" >0.361900</td>\n",
       "      <td id=\"T_f78e6_row0_col27\" class=\"data row0 col27\" >0.603000</td>\n",
       "      <td id=\"T_f78e6_row0_col28\" class=\"data row0 col28\" >0.146500</td>\n",
       "      <td id=\"T_f78e6_row0_col29\" class=\"data row0 col29\" >0.259700</td>\n",
       "      <td id=\"T_f78e6_row0_col30\" class=\"data row0 col30\" >0.120000</td>\n",
       "    </tr>\n",
       "    <tr>\n",
       "      <th id=\"T_f78e6_level0_row1\" class=\"row_heading level0 row1\" >1</th>\n",
       "      <td id=\"T_f78e6_row1_col0\" class=\"data row1 col0\" >LARGER</td>\n",
       "      <td id=\"T_f78e6_row1_col1\" class=\"data row1 col1\" ></td>\n",
       "      <td id=\"T_f78e6_row1_col2\" class=\"data row1 col2\" ></td>\n",
       "      <td id=\"T_f78e6_row1_col3\" class=\"data row1 col3\" ></td>\n",
       "      <td id=\"T_f78e6_row1_col4\" class=\"data row1 col4\" ></td>\n",
       "      <td id=\"T_f78e6_row1_col5\" class=\"data row1 col5\" ></td>\n",
       "      <td id=\"T_f78e6_row1_col6\" class=\"data row1 col6\" ></td>\n",
       "      <td id=\"T_f78e6_row1_col7\" class=\"data row1 col7\" ></td>\n",
       "      <td id=\"T_f78e6_row1_col8\" class=\"data row1 col8\" ></td>\n",
       "      <td id=\"T_f78e6_row1_col9\" class=\"data row1 col9\" ></td>\n",
       "      <td id=\"T_f78e6_row1_col10\" class=\"data row1 col10\" ></td>\n",
       "      <td id=\"T_f78e6_row1_col11\" class=\"data row1 col11\" >✔</td>\n",
       "      <td id=\"T_f78e6_row1_col12\" class=\"data row1 col12\" ></td>\n",
       "      <td id=\"T_f78e6_row1_col13\" class=\"data row1 col13\" ></td>\n",
       "      <td id=\"T_f78e6_row1_col14\" class=\"data row1 col14\" ></td>\n",
       "      <td id=\"T_f78e6_row1_col15\" class=\"data row1 col15\" ></td>\n",
       "      <td id=\"T_f78e6_row1_col16\" class=\"data row1 col16\" ></td>\n",
       "      <td id=\"T_f78e6_row1_col17\" class=\"data row1 col17\" >✔</td>\n",
       "      <td id=\"T_f78e6_row1_col18\" class=\"data row1 col18\" ></td>\n",
       "      <td id=\"T_f78e6_row1_col19\" class=\"data row1 col19\" ></td>\n",
       "      <td id=\"T_f78e6_row1_col20\" class=\"data row1 col20\" ></td>\n",
       "      <td id=\"T_f78e6_row1_col21\" class=\"data row1 col21\" ></td>\n",
       "      <td id=\"T_f78e6_row1_col22\" class=\"data row1 col22\" ></td>\n",
       "      <td id=\"T_f78e6_row1_col23\" class=\"data row1 col23\" ></td>\n",
       "      <td id=\"T_f78e6_row1_col24\" class=\"data row1 col24\" ></td>\n",
       "      <td id=\"T_f78e6_row1_col25\" class=\"data row1 col25\" ></td>\n",
       "      <td id=\"T_f78e6_row1_col26\" class=\"data row1 col26\" ></td>\n",
       "      <td id=\"T_f78e6_row1_col27\" class=\"data row1 col27\" ></td>\n",
       "      <td id=\"T_f78e6_row1_col28\" class=\"data row1 col28\" ></td>\n",
       "      <td id=\"T_f78e6_row1_col29\" class=\"data row1 col29\" ></td>\n",
       "      <td id=\"T_f78e6_row1_col30\" class=\"data row1 col30\" >✔</td>\n",
       "    </tr>\n",
       "    <tr>\n",
       "      <th id=\"T_f78e6_level0_row2\" class=\"row_heading level0 row2\" >2</th>\n",
       "      <td id=\"T_f78e6_row2_col0\" class=\"data row2 col0\" >MUCH_LARGER</td>\n",
       "      <td id=\"T_f78e6_row2_col1\" class=\"data row2 col1\" ></td>\n",
       "      <td id=\"T_f78e6_row2_col2\" class=\"data row2 col2\" ></td>\n",
       "      <td id=\"T_f78e6_row2_col3\" class=\"data row2 col3\" ></td>\n",
       "      <td id=\"T_f78e6_row2_col4\" class=\"data row2 col4\" ></td>\n",
       "      <td id=\"T_f78e6_row2_col5\" class=\"data row2 col5\" ></td>\n",
       "      <td id=\"T_f78e6_row2_col6\" class=\"data row2 col6\" ></td>\n",
       "      <td id=\"T_f78e6_row2_col7\" class=\"data row2 col7\" ></td>\n",
       "      <td id=\"T_f78e6_row2_col8\" class=\"data row2 col8\" ></td>\n",
       "      <td id=\"T_f78e6_row2_col9\" class=\"data row2 col9\" ></td>\n",
       "      <td id=\"T_f78e6_row2_col10\" class=\"data row2 col10\" ></td>\n",
       "      <td id=\"T_f78e6_row2_col11\" class=\"data row2 col11\" >✔</td>\n",
       "      <td id=\"T_f78e6_row2_col12\" class=\"data row2 col12\" ></td>\n",
       "      <td id=\"T_f78e6_row2_col13\" class=\"data row2 col13\" ></td>\n",
       "      <td id=\"T_f78e6_row2_col14\" class=\"data row2 col14\" ></td>\n",
       "      <td id=\"T_f78e6_row2_col15\" class=\"data row2 col15\" ></td>\n",
       "      <td id=\"T_f78e6_row2_col16\" class=\"data row2 col16\" ></td>\n",
       "      <td id=\"T_f78e6_row2_col17\" class=\"data row2 col17\" ></td>\n",
       "      <td id=\"T_f78e6_row2_col18\" class=\"data row2 col18\" ></td>\n",
       "      <td id=\"T_f78e6_row2_col19\" class=\"data row2 col19\" ></td>\n",
       "      <td id=\"T_f78e6_row2_col20\" class=\"data row2 col20\" >✔</td>\n",
       "      <td id=\"T_f78e6_row2_col21\" class=\"data row2 col21\" ></td>\n",
       "      <td id=\"T_f78e6_row2_col22\" class=\"data row2 col22\" ></td>\n",
       "      <td id=\"T_f78e6_row2_col23\" class=\"data row2 col23\" ></td>\n",
       "      <td id=\"T_f78e6_row2_col24\" class=\"data row2 col24\" ></td>\n",
       "      <td id=\"T_f78e6_row2_col25\" class=\"data row2 col25\" ></td>\n",
       "      <td id=\"T_f78e6_row2_col26\" class=\"data row2 col26\" ></td>\n",
       "      <td id=\"T_f78e6_row2_col27\" class=\"data row2 col27\" ></td>\n",
       "      <td id=\"T_f78e6_row2_col28\" class=\"data row2 col28\" ></td>\n",
       "      <td id=\"T_f78e6_row2_col29\" class=\"data row2 col29\" ></td>\n",
       "      <td id=\"T_f78e6_row2_col30\" class=\"data row2 col30\" ></td>\n",
       "    </tr>\n",
       "  </tbody>\n",
       "</table>\n"
      ],
      "text/plain": [
       "<pandas.io.formats.style.Styler at 0x2722e72adc0>"
      ]
     },
     "metadata": {},
     "output_type": "display_data"
    },
    {
     "name": "stdout",
     "output_type": "stream",
     "text": [
      "\n",
      "\n"
     ]
    },
    {
     "data": {
      "text/markdown": [
       "**Row: 192 — Final Score: 3**"
      ],
      "text/plain": [
       "<IPython.core.display.Markdown object>"
      ]
     },
     "metadata": {},
     "output_type": "display_data"
    },
    {
     "data": {
      "text/html": [
       "<style type=\"text/css\">\n",
       "#T_2db2a_row0_col1, #T_2db2a_row0_col2, #T_2db2a_row0_col3, #T_2db2a_row0_col4, #T_2db2a_row0_col5, #T_2db2a_row0_col7, #T_2db2a_row0_col8, #T_2db2a_row0_col9, #T_2db2a_row0_col10, #T_2db2a_row0_col11, #T_2db2a_row0_col13, #T_2db2a_row0_col14, #T_2db2a_row0_col15, #T_2db2a_row0_col16, #T_2db2a_row0_col17, #T_2db2a_row0_col18, #T_2db2a_row0_col20, #T_2db2a_row0_col21, #T_2db2a_row0_col22, #T_2db2a_row0_col23, #T_2db2a_row0_col24, #T_2db2a_row0_col25, #T_2db2a_row0_col27, #T_2db2a_row0_col28, #T_2db2a_row0_col29, #T_2db2a_row0_col30 {\n",
       "  background-color: #e5f8fa;\n",
       "  color: black;\n",
       "}\n",
       "#T_2db2a_row0_col6, #T_2db2a_row0_col12, #T_2db2a_row0_col19, #T_2db2a_row0_col26 {\n",
       "  background-color: #efecc3;\n",
       "  color: black;\n",
       "}\n",
       "</style>\n",
       "<table id=\"T_2db2a_\">\n",
       "  <thead>\n",
       "    <tr>\n",
       "      <th class=\"blank level0\" >&nbsp;</th>\n",
       "      <th class=\"col_heading level0 col0\" >Test ID</th>\n",
       "      <th class=\"col_heading level0 col1\" >mean radius</th>\n",
       "      <th class=\"col_heading level0 col2\" >mean texture</th>\n",
       "      <th class=\"col_heading level0 col3\" >mean perimeter</th>\n",
       "      <th class=\"col_heading level0 col4\" >mean area</th>\n",
       "      <th class=\"col_heading level0 col5\" >mean smoothness</th>\n",
       "      <th class=\"col_heading level0 col6\" >mean compactness</th>\n",
       "      <th class=\"col_heading level0 col7\" >mean concavity</th>\n",
       "      <th class=\"col_heading level0 col8\" >mean concave points</th>\n",
       "      <th class=\"col_heading level0 col9\" >mean symmetry</th>\n",
       "      <th class=\"col_heading level0 col10\" >mean fractal dimension</th>\n",
       "      <th class=\"col_heading level0 col11\" >radius error</th>\n",
       "      <th class=\"col_heading level0 col12\" >texture error</th>\n",
       "      <th class=\"col_heading level0 col13\" >perimeter error</th>\n",
       "      <th class=\"col_heading level0 col14\" >area error</th>\n",
       "      <th class=\"col_heading level0 col15\" >smoothness error</th>\n",
       "      <th class=\"col_heading level0 col16\" >compactness error</th>\n",
       "      <th class=\"col_heading level0 col17\" >concavity error</th>\n",
       "      <th class=\"col_heading level0 col18\" >concave points error</th>\n",
       "      <th class=\"col_heading level0 col19\" >symmetry error</th>\n",
       "      <th class=\"col_heading level0 col20\" >fractal dimension error</th>\n",
       "      <th class=\"col_heading level0 col21\" >worst radius</th>\n",
       "      <th class=\"col_heading level0 col22\" >worst texture</th>\n",
       "      <th class=\"col_heading level0 col23\" >worst perimeter</th>\n",
       "      <th class=\"col_heading level0 col24\" >worst area</th>\n",
       "      <th class=\"col_heading level0 col25\" >worst smoothness</th>\n",
       "      <th class=\"col_heading level0 col26\" >worst compactness</th>\n",
       "      <th class=\"col_heading level0 col27\" >worst concavity</th>\n",
       "      <th class=\"col_heading level0 col28\" >worst concave points</th>\n",
       "      <th class=\"col_heading level0 col29\" >worst symmetry</th>\n",
       "      <th class=\"col_heading level0 col30\" >worst fractal dimension</th>\n",
       "    </tr>\n",
       "  </thead>\n",
       "  <tbody>\n",
       "    <tr>\n",
       "      <th id=\"T_2db2a_level0_row0\" class=\"row_heading level0 row0\" >0</th>\n",
       "      <td id=\"T_2db2a_row0_col0\" class=\"data row0 col0\" ></td>\n",
       "      <td id=\"T_2db2a_row0_col1\" class=\"data row0 col1\" >9.720000</td>\n",
       "      <td id=\"T_2db2a_row0_col2\" class=\"data row0 col2\" >18.220000</td>\n",
       "      <td id=\"T_2db2a_row0_col3\" class=\"data row0 col3\" >60.730000</td>\n",
       "      <td id=\"T_2db2a_row0_col4\" class=\"data row0 col4\" >288.100000</td>\n",
       "      <td id=\"T_2db2a_row0_col5\" class=\"data row0 col5\" >0.069500</td>\n",
       "      <td id=\"T_2db2a_row0_col6\" class=\"data row0 col6\" >0.023440</td>\n",
       "      <td id=\"T_2db2a_row0_col7\" class=\"data row0 col7\" >0.000000</td>\n",
       "      <td id=\"T_2db2a_row0_col8\" class=\"data row0 col8\" >0.000000</td>\n",
       "      <td id=\"T_2db2a_row0_col9\" class=\"data row0 col9\" >0.165300</td>\n",
       "      <td id=\"T_2db2a_row0_col10\" class=\"data row0 col10\" >0.064470</td>\n",
       "      <td id=\"T_2db2a_row0_col11\" class=\"data row0 col11\" >0.353900</td>\n",
       "      <td id=\"T_2db2a_row0_col12\" class=\"data row0 col12\" >4.885000</td>\n",
       "      <td id=\"T_2db2a_row0_col13\" class=\"data row0 col13\" >2.230000</td>\n",
       "      <td id=\"T_2db2a_row0_col14\" class=\"data row0 col14\" >21.690000</td>\n",
       "      <td id=\"T_2db2a_row0_col15\" class=\"data row0 col15\" >0.001713</td>\n",
       "      <td id=\"T_2db2a_row0_col16\" class=\"data row0 col16\" >0.006736</td>\n",
       "      <td id=\"T_2db2a_row0_col17\" class=\"data row0 col17\" >0.000000</td>\n",
       "      <td id=\"T_2db2a_row0_col18\" class=\"data row0 col18\" >0.000000</td>\n",
       "      <td id=\"T_2db2a_row0_col19\" class=\"data row0 col19\" >0.037990</td>\n",
       "      <td id=\"T_2db2a_row0_col20\" class=\"data row0 col20\" >0.001688</td>\n",
       "      <td id=\"T_2db2a_row0_col21\" class=\"data row0 col21\" >9.968000</td>\n",
       "      <td id=\"T_2db2a_row0_col22\" class=\"data row0 col22\" >20.830000</td>\n",
       "      <td id=\"T_2db2a_row0_col23\" class=\"data row0 col23\" >62.250000</td>\n",
       "      <td id=\"T_2db2a_row0_col24\" class=\"data row0 col24\" >303.800000</td>\n",
       "      <td id=\"T_2db2a_row0_col25\" class=\"data row0 col25\" >0.071170</td>\n",
       "      <td id=\"T_2db2a_row0_col26\" class=\"data row0 col26\" >0.027290</td>\n",
       "      <td id=\"T_2db2a_row0_col27\" class=\"data row0 col27\" >0.000000</td>\n",
       "      <td id=\"T_2db2a_row0_col28\" class=\"data row0 col28\" >0.000000</td>\n",
       "      <td id=\"T_2db2a_row0_col29\" class=\"data row0 col29\" >0.190900</td>\n",
       "      <td id=\"T_2db2a_row0_col30\" class=\"data row0 col30\" >0.065590</td>\n",
       "    </tr>\n",
       "    <tr>\n",
       "      <th id=\"T_2db2a_level0_row1\" class=\"row_heading level0 row1\" >1</th>\n",
       "      <td id=\"T_2db2a_row1_col0\" class=\"data row1 col0\" >VERY_LARGE</td>\n",
       "      <td id=\"T_2db2a_row1_col1\" class=\"data row1 col1\" ></td>\n",
       "      <td id=\"T_2db2a_row1_col2\" class=\"data row1 col2\" ></td>\n",
       "      <td id=\"T_2db2a_row1_col3\" class=\"data row1 col3\" ></td>\n",
       "      <td id=\"T_2db2a_row1_col4\" class=\"data row1 col4\" ></td>\n",
       "      <td id=\"T_2db2a_row1_col5\" class=\"data row1 col5\" ></td>\n",
       "      <td id=\"T_2db2a_row1_col6\" class=\"data row1 col6\" ></td>\n",
       "      <td id=\"T_2db2a_row1_col7\" class=\"data row1 col7\" ></td>\n",
       "      <td id=\"T_2db2a_row1_col8\" class=\"data row1 col8\" ></td>\n",
       "      <td id=\"T_2db2a_row1_col9\" class=\"data row1 col9\" ></td>\n",
       "      <td id=\"T_2db2a_row1_col10\" class=\"data row1 col10\" ></td>\n",
       "      <td id=\"T_2db2a_row1_col11\" class=\"data row1 col11\" ></td>\n",
       "      <td id=\"T_2db2a_row1_col12\" class=\"data row1 col12\" >✔</td>\n",
       "      <td id=\"T_2db2a_row1_col13\" class=\"data row1 col13\" ></td>\n",
       "      <td id=\"T_2db2a_row1_col14\" class=\"data row1 col14\" ></td>\n",
       "      <td id=\"T_2db2a_row1_col15\" class=\"data row1 col15\" ></td>\n",
       "      <td id=\"T_2db2a_row1_col16\" class=\"data row1 col16\" ></td>\n",
       "      <td id=\"T_2db2a_row1_col17\" class=\"data row1 col17\" ></td>\n",
       "      <td id=\"T_2db2a_row1_col18\" class=\"data row1 col18\" ></td>\n",
       "      <td id=\"T_2db2a_row1_col19\" class=\"data row1 col19\" ></td>\n",
       "      <td id=\"T_2db2a_row1_col20\" class=\"data row1 col20\" ></td>\n",
       "      <td id=\"T_2db2a_row1_col21\" class=\"data row1 col21\" ></td>\n",
       "      <td id=\"T_2db2a_row1_col22\" class=\"data row1 col22\" ></td>\n",
       "      <td id=\"T_2db2a_row1_col23\" class=\"data row1 col23\" ></td>\n",
       "      <td id=\"T_2db2a_row1_col24\" class=\"data row1 col24\" ></td>\n",
       "      <td id=\"T_2db2a_row1_col25\" class=\"data row1 col25\" ></td>\n",
       "      <td id=\"T_2db2a_row1_col26\" class=\"data row1 col26\" ></td>\n",
       "      <td id=\"T_2db2a_row1_col27\" class=\"data row1 col27\" ></td>\n",
       "      <td id=\"T_2db2a_row1_col28\" class=\"data row1 col28\" ></td>\n",
       "      <td id=\"T_2db2a_row1_col29\" class=\"data row1 col29\" ></td>\n",
       "      <td id=\"T_2db2a_row1_col30\" class=\"data row1 col30\" ></td>\n",
       "    </tr>\n",
       "    <tr>\n",
       "      <th id=\"T_2db2a_level0_row2\" class=\"row_heading level0 row2\" >2</th>\n",
       "      <td id=\"T_2db2a_row2_col0\" class=\"data row2 col0\" >LARGER</td>\n",
       "      <td id=\"T_2db2a_row2_col1\" class=\"data row2 col1\" ></td>\n",
       "      <td id=\"T_2db2a_row2_col2\" class=\"data row2 col2\" ></td>\n",
       "      <td id=\"T_2db2a_row2_col3\" class=\"data row2 col3\" ></td>\n",
       "      <td id=\"T_2db2a_row2_col4\" class=\"data row2 col4\" ></td>\n",
       "      <td id=\"T_2db2a_row2_col5\" class=\"data row2 col5\" ></td>\n",
       "      <td id=\"T_2db2a_row2_col6\" class=\"data row2 col6\" >✔</td>\n",
       "      <td id=\"T_2db2a_row2_col7\" class=\"data row2 col7\" ></td>\n",
       "      <td id=\"T_2db2a_row2_col8\" class=\"data row2 col8\" ></td>\n",
       "      <td id=\"T_2db2a_row2_col9\" class=\"data row2 col9\" ></td>\n",
       "      <td id=\"T_2db2a_row2_col10\" class=\"data row2 col10\" ></td>\n",
       "      <td id=\"T_2db2a_row2_col11\" class=\"data row2 col11\" ></td>\n",
       "      <td id=\"T_2db2a_row2_col12\" class=\"data row2 col12\" ></td>\n",
       "      <td id=\"T_2db2a_row2_col13\" class=\"data row2 col13\" ></td>\n",
       "      <td id=\"T_2db2a_row2_col14\" class=\"data row2 col14\" ></td>\n",
       "      <td id=\"T_2db2a_row2_col15\" class=\"data row2 col15\" ></td>\n",
       "      <td id=\"T_2db2a_row2_col16\" class=\"data row2 col16\" ></td>\n",
       "      <td id=\"T_2db2a_row2_col17\" class=\"data row2 col17\" ></td>\n",
       "      <td id=\"T_2db2a_row2_col18\" class=\"data row2 col18\" ></td>\n",
       "      <td id=\"T_2db2a_row2_col19\" class=\"data row2 col19\" >✔</td>\n",
       "      <td id=\"T_2db2a_row2_col20\" class=\"data row2 col20\" ></td>\n",
       "      <td id=\"T_2db2a_row2_col21\" class=\"data row2 col21\" ></td>\n",
       "      <td id=\"T_2db2a_row2_col22\" class=\"data row2 col22\" ></td>\n",
       "      <td id=\"T_2db2a_row2_col23\" class=\"data row2 col23\" ></td>\n",
       "      <td id=\"T_2db2a_row2_col24\" class=\"data row2 col24\" ></td>\n",
       "      <td id=\"T_2db2a_row2_col25\" class=\"data row2 col25\" ></td>\n",
       "      <td id=\"T_2db2a_row2_col26\" class=\"data row2 col26\" >✔</td>\n",
       "      <td id=\"T_2db2a_row2_col27\" class=\"data row2 col27\" ></td>\n",
       "      <td id=\"T_2db2a_row2_col28\" class=\"data row2 col28\" ></td>\n",
       "      <td id=\"T_2db2a_row2_col29\" class=\"data row2 col29\" ></td>\n",
       "      <td id=\"T_2db2a_row2_col30\" class=\"data row2 col30\" ></td>\n",
       "    </tr>\n",
       "  </tbody>\n",
       "</table>\n"
      ],
      "text/plain": [
       "<pandas.io.formats.style.Styler at 0x272312110a0>"
      ]
     },
     "metadata": {},
     "output_type": "display_data"
    },
    {
     "name": "stdout",
     "output_type": "stream",
     "text": [
      "\n",
      "\n"
     ]
    },
    {
     "data": {
      "text/markdown": [
       "**Row: 314 — Final Score: 3**"
      ],
      "text/plain": [
       "<IPython.core.display.Markdown object>"
      ]
     },
     "metadata": {},
     "output_type": "display_data"
    },
    {
     "data": {
      "text/html": [
       "<style type=\"text/css\">\n",
       "#T_634b7_row0_col1, #T_634b7_row0_col2, #T_634b7_row0_col3, #T_634b7_row0_col4, #T_634b7_row0_col5, #T_634b7_row0_col7, #T_634b7_row0_col8, #T_634b7_row0_col9, #T_634b7_row0_col10, #T_634b7_row0_col11, #T_634b7_row0_col13, #T_634b7_row0_col14, #T_634b7_row0_col16, #T_634b7_row0_col17, #T_634b7_row0_col18, #T_634b7_row0_col20, #T_634b7_row0_col21, #T_634b7_row0_col22, #T_634b7_row0_col23, #T_634b7_row0_col24, #T_634b7_row0_col25, #T_634b7_row0_col26, #T_634b7_row0_col27, #T_634b7_row0_col28, #T_634b7_row0_col29, #T_634b7_row0_col30 {\n",
       "  background-color: #e5f8fa;\n",
       "  color: black;\n",
       "}\n",
       "#T_634b7_row0_col6, #T_634b7_row0_col12, #T_634b7_row0_col15, #T_634b7_row0_col19 {\n",
       "  background-color: #efecc3;\n",
       "  color: black;\n",
       "}\n",
       "</style>\n",
       "<table id=\"T_634b7_\">\n",
       "  <thead>\n",
       "    <tr>\n",
       "      <th class=\"blank level0\" >&nbsp;</th>\n",
       "      <th class=\"col_heading level0 col0\" >Test ID</th>\n",
       "      <th class=\"col_heading level0 col1\" >mean radius</th>\n",
       "      <th class=\"col_heading level0 col2\" >mean texture</th>\n",
       "      <th class=\"col_heading level0 col3\" >mean perimeter</th>\n",
       "      <th class=\"col_heading level0 col4\" >mean area</th>\n",
       "      <th class=\"col_heading level0 col5\" >mean smoothness</th>\n",
       "      <th class=\"col_heading level0 col6\" >mean compactness</th>\n",
       "      <th class=\"col_heading level0 col7\" >mean concavity</th>\n",
       "      <th class=\"col_heading level0 col8\" >mean concave points</th>\n",
       "      <th class=\"col_heading level0 col9\" >mean symmetry</th>\n",
       "      <th class=\"col_heading level0 col10\" >mean fractal dimension</th>\n",
       "      <th class=\"col_heading level0 col11\" >radius error</th>\n",
       "      <th class=\"col_heading level0 col12\" >texture error</th>\n",
       "      <th class=\"col_heading level0 col13\" >perimeter error</th>\n",
       "      <th class=\"col_heading level0 col14\" >area error</th>\n",
       "      <th class=\"col_heading level0 col15\" >smoothness error</th>\n",
       "      <th class=\"col_heading level0 col16\" >compactness error</th>\n",
       "      <th class=\"col_heading level0 col17\" >concavity error</th>\n",
       "      <th class=\"col_heading level0 col18\" >concave points error</th>\n",
       "      <th class=\"col_heading level0 col19\" >symmetry error</th>\n",
       "      <th class=\"col_heading level0 col20\" >fractal dimension error</th>\n",
       "      <th class=\"col_heading level0 col21\" >worst radius</th>\n",
       "      <th class=\"col_heading level0 col22\" >worst texture</th>\n",
       "      <th class=\"col_heading level0 col23\" >worst perimeter</th>\n",
       "      <th class=\"col_heading level0 col24\" >worst area</th>\n",
       "      <th class=\"col_heading level0 col25\" >worst smoothness</th>\n",
       "      <th class=\"col_heading level0 col26\" >worst compactness</th>\n",
       "      <th class=\"col_heading level0 col27\" >worst concavity</th>\n",
       "      <th class=\"col_heading level0 col28\" >worst concave points</th>\n",
       "      <th class=\"col_heading level0 col29\" >worst symmetry</th>\n",
       "      <th class=\"col_heading level0 col30\" >worst fractal dimension</th>\n",
       "    </tr>\n",
       "  </thead>\n",
       "  <tbody>\n",
       "    <tr>\n",
       "      <th id=\"T_634b7_level0_row0\" class=\"row_heading level0 row0\" >0</th>\n",
       "      <td id=\"T_634b7_row0_col0\" class=\"data row0 col0\" ></td>\n",
       "      <td id=\"T_634b7_row0_col1\" class=\"data row0 col1\" >8.597000</td>\n",
       "      <td id=\"T_634b7_row0_col2\" class=\"data row0 col2\" >18.600000</td>\n",
       "      <td id=\"T_634b7_row0_col3\" class=\"data row0 col3\" >54.090000</td>\n",
       "      <td id=\"T_634b7_row0_col4\" class=\"data row0 col4\" >221.200000</td>\n",
       "      <td id=\"T_634b7_row0_col5\" class=\"data row0 col5\" >0.107400</td>\n",
       "      <td id=\"T_634b7_row0_col6\" class=\"data row0 col6\" >0.058470</td>\n",
       "      <td id=\"T_634b7_row0_col7\" class=\"data row0 col7\" >0.000000</td>\n",
       "      <td id=\"T_634b7_row0_col8\" class=\"data row0 col8\" >0.000000</td>\n",
       "      <td id=\"T_634b7_row0_col9\" class=\"data row0 col9\" >0.216300</td>\n",
       "      <td id=\"T_634b7_row0_col10\" class=\"data row0 col10\" >0.073590</td>\n",
       "      <td id=\"T_634b7_row0_col11\" class=\"data row0 col11\" >0.336800</td>\n",
       "      <td id=\"T_634b7_row0_col12\" class=\"data row0 col12\" >2.777000</td>\n",
       "      <td id=\"T_634b7_row0_col13\" class=\"data row0 col13\" >2.222000</td>\n",
       "      <td id=\"T_634b7_row0_col14\" class=\"data row0 col14\" >17.810000</td>\n",
       "      <td id=\"T_634b7_row0_col15\" class=\"data row0 col15\" >0.020750</td>\n",
       "      <td id=\"T_634b7_row0_col16\" class=\"data row0 col16\" >0.014030</td>\n",
       "      <td id=\"T_634b7_row0_col17\" class=\"data row0 col17\" >0.000000</td>\n",
       "      <td id=\"T_634b7_row0_col18\" class=\"data row0 col18\" >0.000000</td>\n",
       "      <td id=\"T_634b7_row0_col19\" class=\"data row0 col19\" >0.061460</td>\n",
       "      <td id=\"T_634b7_row0_col20\" class=\"data row0 col20\" >0.006820</td>\n",
       "      <td id=\"T_634b7_row0_col21\" class=\"data row0 col21\" >8.952000</td>\n",
       "      <td id=\"T_634b7_row0_col22\" class=\"data row0 col22\" >22.440000</td>\n",
       "      <td id=\"T_634b7_row0_col23\" class=\"data row0 col23\" >56.650000</td>\n",
       "      <td id=\"T_634b7_row0_col24\" class=\"data row0 col24\" >240.100000</td>\n",
       "      <td id=\"T_634b7_row0_col25\" class=\"data row0 col25\" >0.134700</td>\n",
       "      <td id=\"T_634b7_row0_col26\" class=\"data row0 col26\" >0.077670</td>\n",
       "      <td id=\"T_634b7_row0_col27\" class=\"data row0 col27\" >0.000000</td>\n",
       "      <td id=\"T_634b7_row0_col28\" class=\"data row0 col28\" >0.000000</td>\n",
       "      <td id=\"T_634b7_row0_col29\" class=\"data row0 col29\" >0.314200</td>\n",
       "      <td id=\"T_634b7_row0_col30\" class=\"data row0 col30\" >0.081160</td>\n",
       "    </tr>\n",
       "    <tr>\n",
       "      <th id=\"T_634b7_level0_row1\" class=\"row_heading level0 row1\" >1</th>\n",
       "      <td id=\"T_634b7_row1_col0\" class=\"data row1 col0\" >LARGER</td>\n",
       "      <td id=\"T_634b7_row1_col1\" class=\"data row1 col1\" ></td>\n",
       "      <td id=\"T_634b7_row1_col2\" class=\"data row1 col2\" ></td>\n",
       "      <td id=\"T_634b7_row1_col3\" class=\"data row1 col3\" ></td>\n",
       "      <td id=\"T_634b7_row1_col4\" class=\"data row1 col4\" ></td>\n",
       "      <td id=\"T_634b7_row1_col5\" class=\"data row1 col5\" ></td>\n",
       "      <td id=\"T_634b7_row1_col6\" class=\"data row1 col6\" >✔</td>\n",
       "      <td id=\"T_634b7_row1_col7\" class=\"data row1 col7\" ></td>\n",
       "      <td id=\"T_634b7_row1_col8\" class=\"data row1 col8\" ></td>\n",
       "      <td id=\"T_634b7_row1_col9\" class=\"data row1 col9\" ></td>\n",
       "      <td id=\"T_634b7_row1_col10\" class=\"data row1 col10\" ></td>\n",
       "      <td id=\"T_634b7_row1_col11\" class=\"data row1 col11\" ></td>\n",
       "      <td id=\"T_634b7_row1_col12\" class=\"data row1 col12\" ></td>\n",
       "      <td id=\"T_634b7_row1_col13\" class=\"data row1 col13\" ></td>\n",
       "      <td id=\"T_634b7_row1_col14\" class=\"data row1 col14\" ></td>\n",
       "      <td id=\"T_634b7_row1_col15\" class=\"data row1 col15\" ></td>\n",
       "      <td id=\"T_634b7_row1_col16\" class=\"data row1 col16\" ></td>\n",
       "      <td id=\"T_634b7_row1_col17\" class=\"data row1 col17\" ></td>\n",
       "      <td id=\"T_634b7_row1_col18\" class=\"data row1 col18\" ></td>\n",
       "      <td id=\"T_634b7_row1_col19\" class=\"data row1 col19\" >✔</td>\n",
       "      <td id=\"T_634b7_row1_col20\" class=\"data row1 col20\" ></td>\n",
       "      <td id=\"T_634b7_row1_col21\" class=\"data row1 col21\" ></td>\n",
       "      <td id=\"T_634b7_row1_col22\" class=\"data row1 col22\" ></td>\n",
       "      <td id=\"T_634b7_row1_col23\" class=\"data row1 col23\" ></td>\n",
       "      <td id=\"T_634b7_row1_col24\" class=\"data row1 col24\" ></td>\n",
       "      <td id=\"T_634b7_row1_col25\" class=\"data row1 col25\" ></td>\n",
       "      <td id=\"T_634b7_row1_col26\" class=\"data row1 col26\" ></td>\n",
       "      <td id=\"T_634b7_row1_col27\" class=\"data row1 col27\" ></td>\n",
       "      <td id=\"T_634b7_row1_col28\" class=\"data row1 col28\" ></td>\n",
       "      <td id=\"T_634b7_row1_col29\" class=\"data row1 col29\" ></td>\n",
       "      <td id=\"T_634b7_row1_col30\" class=\"data row1 col30\" ></td>\n",
       "    </tr>\n",
       "    <tr>\n",
       "      <th id=\"T_634b7_level0_row2\" class=\"row_heading level0 row2\" >2</th>\n",
       "      <td id=\"T_634b7_row2_col0\" class=\"data row2 col0\" >RARE_COMBINATION</td>\n",
       "      <td id=\"T_634b7_row2_col1\" class=\"data row2 col1\" ></td>\n",
       "      <td id=\"T_634b7_row2_col2\" class=\"data row2 col2\" ></td>\n",
       "      <td id=\"T_634b7_row2_col3\" class=\"data row2 col3\" ></td>\n",
       "      <td id=\"T_634b7_row2_col4\" class=\"data row2 col4\" ></td>\n",
       "      <td id=\"T_634b7_row2_col5\" class=\"data row2 col5\" ></td>\n",
       "      <td id=\"T_634b7_row2_col6\" class=\"data row2 col6\" ></td>\n",
       "      <td id=\"T_634b7_row2_col7\" class=\"data row2 col7\" ></td>\n",
       "      <td id=\"T_634b7_row2_col8\" class=\"data row2 col8\" ></td>\n",
       "      <td id=\"T_634b7_row2_col9\" class=\"data row2 col9\" ></td>\n",
       "      <td id=\"T_634b7_row2_col10\" class=\"data row2 col10\" ></td>\n",
       "      <td id=\"T_634b7_row2_col11\" class=\"data row2 col11\" ></td>\n",
       "      <td id=\"T_634b7_row2_col12\" class=\"data row2 col12\" >✔</td>\n",
       "      <td id=\"T_634b7_row2_col13\" class=\"data row2 col13\" ></td>\n",
       "      <td id=\"T_634b7_row2_col14\" class=\"data row2 col14\" ></td>\n",
       "      <td id=\"T_634b7_row2_col15\" class=\"data row2 col15\" >✔</td>\n",
       "      <td id=\"T_634b7_row2_col16\" class=\"data row2 col16\" ></td>\n",
       "      <td id=\"T_634b7_row2_col17\" class=\"data row2 col17\" ></td>\n",
       "      <td id=\"T_634b7_row2_col18\" class=\"data row2 col18\" ></td>\n",
       "      <td id=\"T_634b7_row2_col19\" class=\"data row2 col19\" >✔</td>\n",
       "      <td id=\"T_634b7_row2_col20\" class=\"data row2 col20\" ></td>\n",
       "      <td id=\"T_634b7_row2_col21\" class=\"data row2 col21\" ></td>\n",
       "      <td id=\"T_634b7_row2_col22\" class=\"data row2 col22\" ></td>\n",
       "      <td id=\"T_634b7_row2_col23\" class=\"data row2 col23\" ></td>\n",
       "      <td id=\"T_634b7_row2_col24\" class=\"data row2 col24\" ></td>\n",
       "      <td id=\"T_634b7_row2_col25\" class=\"data row2 col25\" ></td>\n",
       "      <td id=\"T_634b7_row2_col26\" class=\"data row2 col26\" ></td>\n",
       "      <td id=\"T_634b7_row2_col27\" class=\"data row2 col27\" ></td>\n",
       "      <td id=\"T_634b7_row2_col28\" class=\"data row2 col28\" ></td>\n",
       "      <td id=\"T_634b7_row2_col29\" class=\"data row2 col29\" ></td>\n",
       "      <td id=\"T_634b7_row2_col30\" class=\"data row2 col30\" ></td>\n",
       "    </tr>\n",
       "  </tbody>\n",
       "</table>\n"
      ],
      "text/plain": [
       "<pandas.io.formats.style.Styler at 0x271a2957df0>"
      ]
     },
     "metadata": {},
     "output_type": "display_data"
    },
    {
     "name": "stdout",
     "output_type": "stream",
     "text": [
      "\n"
     ]
    }
   ],
   "source": [
    "# display_most_flagged_rows() lists the rows with the highest scores, highlights\n",
    "# the cells that are flagged at least once, and indicates which tests flagged\n",
    "# these cells. \n",
    "\n",
    "dc.display_most_flagged_rows()"
   ]
  },
  {
   "cell_type": "code",
   "execution_count": 22,
   "id": "14eb2200",
   "metadata": {
    "scrolled": false
   },
   "outputs": [
    {
     "data": {
      "image/png": "[encoded data removed]",
      "text/plain": [
       "<Figure size 360x216 with 1 Axes>"
      ]
     },
     "metadata": {
      "needs_background": "light"
     },
     "output_type": "display_data"
    },
    {
     "data": {
      "image/png": "[encoded data removed]",
      "text/plain": [
       "<Figure size 360x216 with 1 Axes>"
      ]
     },
     "metadata": {
      "needs_background": "light"
     },
     "output_type": "display_data"
    },
    {
     "data": {
      "image/png": "[encoded data removed]",
      "text/plain": [
       "<Figure size 360x216 with 1 Axes>"
      ]
     },
     "metadata": {
      "needs_background": "light"
     },
     "output_type": "display_data"
    }
   ],
   "source": [
    "# Get a breakdown of the distribution of scores. This can assist,\n",
    "# for example, indetermining if there is a cut-off if users wish \n",
    "# to set a binary flag distinguishing inliers from outliers. \n",
    "\n",
    "dc.plot_final_scores_distribution_by_row()"
   ]
  },
  {
   "cell_type": "code",
   "execution_count": 23,
   "id": "e14a31bc",
   "metadata": {},
   "outputs": [
    {
     "data": {
      "image/png": "[encoded data removed]",
      "text/plain": [
       "<Figure size 360x540 with 1 Axes>"
      ]
     },
     "metadata": {
      "needs_background": "light"
     },
     "output_type": "display_data"
    }
   ],
   "source": [
    "# Examine which features tend to be flagged the most\n",
    "\n",
    "dc.plot_final_scores_distribution_by_feature()"
   ]
  },
  {
   "cell_type": "code",
   "execution_count": 24,
   "id": "7f9d8025",
   "metadata": {},
   "outputs": [
    {
     "data": {
      "image/png": "[encoded data removed]",
      "text/plain": [
       "<Figure size 360x180 with 1 Axes>"
      ]
     },
     "metadata": {
      "needs_background": "light"
     },
     "output_type": "display_data"
    }
   ],
   "source": [
    "# Examine which tests tend to flag the most\n",
    "\n",
    "dc.plot_final_scores_distribution_by_test()"
   ]
  },
  {
   "cell_type": "code",
   "execution_count": 25,
   "id": "3702d65a",
   "metadata": {
    "scrolled": false
   },
   "outputs": [
    {
     "name": "stdout",
     "output_type": "stream",
     "text": [
      "\n"
     ]
    },
    {
     "data": {
      "text/markdown": [
       "Displaying results for tests: 'NUMBER_DECIMALS'"
      ],
      "text/plain": [
       "<IPython.core.display.Markdown object>"
      ]
     },
     "metadata": {},
     "output_type": "display_data"
    },
    {
     "data": {
      "text/markdown": [
       "Not displaying patterns for NUMBER_DECIMALS. This is not in the short list and show_short_list_only was set to True"
      ],
      "text/plain": [
       "<IPython.core.display.Markdown object>"
      ]
     },
     "metadata": {},
     "output_type": "display_data"
    },
    {
     "name": "stdout",
     "output_type": "stream",
     "text": [
      "\n"
     ]
    },
    {
     "data": {
      "text/markdown": [
       "### Column(s): mean concavity"
      ],
      "text/plain": [
       "<IPython.core.display.Markdown object>"
      ]
     },
     "metadata": {},
     "output_type": "display_data"
    },
    {
     "data": {
      "text/markdown": [
       "**Issue ID**: 0"
      ],
      "text/plain": [
       "<IPython.core.display.Markdown object>"
      ]
     },
     "metadata": {},
     "output_type": "display_data"
    },
    {
     "data": {
      "text/markdown": [
       "A strong pattern, and exceptions to the pattern, were found.<br>"
      ],
      "text/plain": [
       "<IPython.core.display.Markdown object>"
      ]
     },
     "metadata": {},
     "output_type": "display_data"
    },
    {
     "data": {
      "text/markdown": [
       "**Description**: The column contains values consistently with 0, 2, 3, 4, 5 decimals, with exceptions."
      ],
      "text/plain": [
       "<IPython.core.display.Markdown object>"
      ]
     },
     "metadata": {},
     "output_type": "display_data"
    },
    {
     "data": {
      "text/markdown": [
       "**Number of exceptions**: 1 (0.1757% of rows)"
      ],
      "text/plain": [
       "<IPython.core.display.Markdown object>"
      ]
     },
     "metadata": {},
     "output_type": "display_data"
    },
    {
     "name": "stdout",
     "output_type": "stream",
     "text": [
      "\n"
     ]
    },
    {
     "data": {
      "text/markdown": [
       "**Examples of values NOT flagged**:"
      ],
      "text/plain": [
       "<IPython.core.display.Markdown object>"
      ]
     },
     "metadata": {},
     "output_type": "display_data"
    },
    {
     "data": {
      "text/html": [
       "<div>\n",
       "<style scoped>\n",
       "    .dataframe tbody tr th:only-of-type {\n",
       "        vertical-align: middle;\n",
       "    }\n",
       "\n",
       "    .dataframe tbody tr th {\n",
       "        vertical-align: top;\n",
       "    }\n",
       "\n",
       "    .dataframe thead th {\n",
       "        text-align: right;\n",
       "    }\n",
       "</style>\n",
       "<table border=\"1\" class=\"dataframe\">\n",
       "  <thead>\n",
       "    <tr style=\"text-align: right;\">\n",
       "      <th></th>\n",
       "      <th>mean concavity</th>\n",
       "      <th>Number decimals</th>\n",
       "    </tr>\n",
       "  </thead>\n",
       "  <tbody>\n",
       "    <tr>\n",
       "      <th>37</th>\n",
       "      <td>0.02562</td>\n",
       "      <td>5</td>\n",
       "    </tr>\n",
       "    <tr>\n",
       "      <th>298</th>\n",
       "      <td>0.02475</td>\n",
       "      <td>5</td>\n",
       "    </tr>\n",
       "    <tr>\n",
       "      <th>310</th>\n",
       "      <td>0.01583</td>\n",
       "      <td>5</td>\n",
       "    </tr>\n",
       "    <tr>\n",
       "      <th>346</th>\n",
       "      <td>0.00751</td>\n",
       "      <td>5</td>\n",
       "    </tr>\n",
       "    <tr>\n",
       "      <th>383</th>\n",
       "      <td>0.05892</td>\n",
       "      <td>5</td>\n",
       "    </tr>\n",
       "    <tr>\n",
       "      <th>440</th>\n",
       "      <td>0.09457</td>\n",
       "      <td>5</td>\n",
       "    </tr>\n",
       "    <tr>\n",
       "      <th>458</th>\n",
       "      <td>0.01206</td>\n",
       "      <td>5</td>\n",
       "    </tr>\n",
       "    <tr>\n",
       "      <th>513</th>\n",
       "      <td>0.08222</td>\n",
       "      <td>5</td>\n",
       "    </tr>\n",
       "    <tr>\n",
       "      <th>516</th>\n",
       "      <td>0.1569</td>\n",
       "      <td>4</td>\n",
       "    </tr>\n",
       "    <tr>\n",
       "      <th>539</th>\n",
       "      <td>0.09252</td>\n",
       "      <td>5</td>\n",
       "    </tr>\n",
       "  </tbody>\n",
       "</table>\n",
       "</div>"
      ],
      "text/plain": [
       "    mean concavity  Number decimals\n",
       "37         0.02562                5\n",
       "298        0.02475                5\n",
       "310        0.01583                5\n",
       "346        0.00751                5\n",
       "383        0.05892                5\n",
       "440        0.09457                5\n",
       "458        0.01206                5\n",
       "513        0.08222                5\n",
       "516         0.1569                4\n",
       "539        0.09252                5"
      ]
     },
     "metadata": {},
     "output_type": "display_data"
    },
    {
     "name": "stdout",
     "output_type": "stream",
     "text": [
      "\n"
     ]
    },
    {
     "data": {
      "text/markdown": [
       "**Flagged values**:"
      ],
      "text/plain": [
       "<IPython.core.display.Markdown object>"
      ]
     },
     "metadata": {},
     "output_type": "display_data"
    },
    {
     "data": {
      "text/html": [
       "<div>\n",
       "<style scoped>\n",
       "    .dataframe tbody tr th:only-of-type {\n",
       "        vertical-align: middle;\n",
       "    }\n",
       "\n",
       "    .dataframe tbody tr th {\n",
       "        vertical-align: top;\n",
       "    }\n",
       "\n",
       "    .dataframe thead th {\n",
       "        text-align: right;\n",
       "    }\n",
       "</style>\n",
       "<table border=\"1\" class=\"dataframe\">\n",
       "  <thead>\n",
       "    <tr style=\"text-align: right;\">\n",
       "      <th></th>\n",
       "      <th>mean concavity</th>\n",
       "      <th>Number decimals</th>\n",
       "    </tr>\n",
       "  </thead>\n",
       "  <tbody>\n",
       "    <tr>\n",
       "      <th>333</th>\n",
       "      <td>0.0009737</td>\n",
       "      <td>7</td>\n",
       "    </tr>\n",
       "  </tbody>\n",
       "</table>\n",
       "</div>"
      ],
      "text/plain": [
       "    mean concavity  Number decimals\n",
       "333      0.0009737                7"
      ]
     },
     "metadata": {},
     "output_type": "display_data"
    },
    {
     "name": "stdout",
     "output_type": "stream",
     "text": [
      "\n"
     ]
    },
    {
     "data": {
      "text/markdown": [
       "### Column(s): concavity error"
      ],
      "text/plain": [
       "<IPython.core.display.Markdown object>"
      ]
     },
     "metadata": {},
     "output_type": "display_data"
    },
    {
     "data": {
      "text/markdown": [
       "**Issue ID**: 1"
      ],
      "text/plain": [
       "<IPython.core.display.Markdown object>"
      ]
     },
     "metadata": {},
     "output_type": "display_data"
    },
    {
     "data": {
      "text/markdown": [
       "A strong pattern, and exceptions to the pattern, were found.<br>"
      ],
      "text/plain": [
       "<IPython.core.display.Markdown object>"
      ]
     },
     "metadata": {},
     "output_type": "display_data"
    },
    {
     "data": {
      "text/markdown": [
       "**Description**: The column contains values consistently with 0, 2, 3, 4, 5 decimals, with exceptions."
      ],
      "text/plain": [
       "<IPython.core.display.Markdown object>"
      ]
     },
     "metadata": {},
     "output_type": "display_data"
    },
    {
     "data": {
      "text/markdown": [
       "**Number of exceptions**: 2 (0.3515% of rows)"
      ],
      "text/plain": [
       "<IPython.core.display.Markdown object>"
      ]
     },
     "metadata": {},
     "output_type": "display_data"
    },
    {
     "name": "stdout",
     "output_type": "stream",
     "text": [
      "\n"
     ]
    },
    {
     "data": {
      "text/markdown": [
       "**Examples of values NOT flagged**:"
      ],
      "text/plain": [
       "<IPython.core.display.Markdown object>"
      ]
     },
     "metadata": {},
     "output_type": "display_data"
    },
    {
     "data": {
      "text/html": [
       "<div>\n",
       "<style scoped>\n",
       "    .dataframe tbody tr th:only-of-type {\n",
       "        vertical-align: middle;\n",
       "    }\n",
       "\n",
       "    .dataframe tbody tr th {\n",
       "        vertical-align: top;\n",
       "    }\n",
       "\n",
       "    .dataframe thead th {\n",
       "        text-align: right;\n",
       "    }\n",
       "</style>\n",
       "<table border=\"1\" class=\"dataframe\">\n",
       "  <thead>\n",
       "    <tr style=\"text-align: right;\">\n",
       "      <th></th>\n",
       "      <th>concavity error</th>\n",
       "      <th>Number decimals</th>\n",
       "    </tr>\n",
       "  </thead>\n",
       "  <tbody>\n",
       "    <tr>\n",
       "      <th>37</th>\n",
       "      <td>0.01343</td>\n",
       "      <td>5</td>\n",
       "    </tr>\n",
       "    <tr>\n",
       "      <th>298</th>\n",
       "      <td>0.01079</td>\n",
       "      <td>5</td>\n",
       "    </tr>\n",
       "    <tr>\n",
       "      <th>310</th>\n",
       "      <td>0.01042</td>\n",
       "      <td>5</td>\n",
       "    </tr>\n",
       "    <tr>\n",
       "      <th>346</th>\n",
       "      <td>0.005832</td>\n",
       "      <td>6</td>\n",
       "    </tr>\n",
       "    <tr>\n",
       "      <th>384</th>\n",
       "      <td>0.02828</td>\n",
       "      <td>5</td>\n",
       "    </tr>\n",
       "    <tr>\n",
       "      <th>441</th>\n",
       "      <td>0.04942</td>\n",
       "      <td>5</td>\n",
       "    </tr>\n",
       "    <tr>\n",
       "      <th>459</th>\n",
       "      <td>0.0145</td>\n",
       "      <td>4</td>\n",
       "    </tr>\n",
       "    <tr>\n",
       "      <th>514</th>\n",
       "      <td>0.02967</td>\n",
       "      <td>5</td>\n",
       "    </tr>\n",
       "    <tr>\n",
       "      <th>517</th>\n",
       "      <td>0.03052</td>\n",
       "      <td>5</td>\n",
       "    </tr>\n",
       "    <tr>\n",
       "      <th>540</th>\n",
       "      <td>0.05553</td>\n",
       "      <td>5</td>\n",
       "    </tr>\n",
       "  </tbody>\n",
       "</table>\n",
       "</div>"
      ],
      "text/plain": [
       "    concavity error  Number decimals\n",
       "37          0.01343                5\n",
       "298         0.01079                5\n",
       "310         0.01042                5\n",
       "346        0.005832                6\n",
       "384         0.02828                5\n",
       "441         0.04942                5\n",
       "459          0.0145                4\n",
       "514         0.02967                5\n",
       "517         0.03052                5\n",
       "540         0.05553                5"
      ]
     },
     "metadata": {},
     "output_type": "display_data"
    },
    {
     "name": "stdout",
     "output_type": "stream",
     "text": [
      "\n"
     ]
    },
    {
     "data": {
      "text/markdown": [
       "**Flagged values**:"
      ],
      "text/plain": [
       "<IPython.core.display.Markdown object>"
      ]
     },
     "metadata": {},
     "output_type": "display_data"
    },
    {
     "data": {
      "text/html": [
       "<div>\n",
       "<style scoped>\n",
       "    .dataframe tbody tr th:only-of-type {\n",
       "        vertical-align: middle;\n",
       "    }\n",
       "\n",
       "    .dataframe tbody tr th {\n",
       "        vertical-align: top;\n",
       "    }\n",
       "\n",
       "    .dataframe thead th {\n",
       "        text-align: right;\n",
       "    }\n",
       "</style>\n",
       "<table border=\"1\" class=\"dataframe\">\n",
       "  <thead>\n",
       "    <tr style=\"text-align: right;\">\n",
       "      <th></th>\n",
       "      <th>concavity error</th>\n",
       "      <th>Number decimals</th>\n",
       "    </tr>\n",
       "  </thead>\n",
       "  <tbody>\n",
       "    <tr>\n",
       "      <th>333</th>\n",
       "      <td>0.0009737</td>\n",
       "      <td>7</td>\n",
       "    </tr>\n",
       "    <tr>\n",
       "      <th>360</th>\n",
       "      <td>0.0007929</td>\n",
       "      <td>7</td>\n",
       "    </tr>\n",
       "  </tbody>\n",
       "</table>\n",
       "</div>"
      ],
      "text/plain": [
       "    concavity error  Number decimals\n",
       "333       0.0009737                7\n",
       "360       0.0007929                7"
      ]
     },
     "metadata": {},
     "output_type": "display_data"
    },
    {
     "name": "stdout",
     "output_type": "stream",
     "text": [
      "\n"
     ]
    },
    {
     "data": {
      "text/markdown": [
       "### Column(s): worst concave points"
      ],
      "text/plain": [
       "<IPython.core.display.Markdown object>"
      ]
     },
     "metadata": {},
     "output_type": "display_data"
    },
    {
     "data": {
      "text/markdown": [
       "**Issue ID**: 2"
      ],
      "text/plain": [
       "<IPython.core.display.Markdown object>"
      ]
     },
     "metadata": {},
     "output_type": "display_data"
    },
    {
     "data": {
      "text/markdown": [
       "A strong pattern, and exceptions to the pattern, were found.<br>"
      ],
      "text/plain": [
       "<IPython.core.display.Markdown object>"
      ]
     },
     "metadata": {},
     "output_type": "display_data"
    },
    {
     "data": {
      "text/markdown": [
       "**Description**: The column contains values consistently with 0, 2, 3, 4 decimals, with exceptions."
      ],
      "text/plain": [
       "<IPython.core.display.Markdown object>"
      ]
     },
     "metadata": {},
     "output_type": "display_data"
    },
    {
     "data": {
      "text/markdown": [
       "**Number of exceptions**: 2 (0.3515% of rows)"
      ],
      "text/plain": [
       "<IPython.core.display.Markdown object>"
      ]
     },
     "metadata": {},
     "output_type": "display_data"
    },
    {
     "name": "stdout",
     "output_type": "stream",
     "text": [
      "\n"
     ]
    },
    {
     "data": {
      "text/markdown": [
       "**Examples of values NOT flagged**:"
      ],
      "text/plain": [
       "<IPython.core.display.Markdown object>"
      ]
     },
     "metadata": {},
     "output_type": "display_data"
    },
    {
     "data": {
      "text/html": [
       "<div>\n",
       "<style scoped>\n",
       "    .dataframe tbody tr th:only-of-type {\n",
       "        vertical-align: middle;\n",
       "    }\n",
       "\n",
       "    .dataframe tbody tr th {\n",
       "        vertical-align: top;\n",
       "    }\n",
       "\n",
       "    .dataframe thead th {\n",
       "        text-align: right;\n",
       "    }\n",
       "</style>\n",
       "<table border=\"1\" class=\"dataframe\">\n",
       "  <thead>\n",
       "    <tr style=\"text-align: right;\">\n",
       "      <th></th>\n",
       "      <th>worst concave points</th>\n",
       "      <th>Number decimals</th>\n",
       "    </tr>\n",
       "  </thead>\n",
       "  <tbody>\n",
       "    <tr>\n",
       "      <th>37</th>\n",
       "      <td>0.05013</td>\n",
       "      <td>5</td>\n",
       "    </tr>\n",
       "    <tr>\n",
       "      <th>300</th>\n",
       "      <td>0.198</td>\n",
       "      <td>3</td>\n",
       "    </tr>\n",
       "    <tr>\n",
       "      <th>312</th>\n",
       "      <td>0.08411</td>\n",
       "      <td>5</td>\n",
       "    </tr>\n",
       "    <tr>\n",
       "      <th>347</th>\n",
       "      <td>0.1251</td>\n",
       "      <td>4</td>\n",
       "    </tr>\n",
       "    <tr>\n",
       "      <th>384</th>\n",
       "      <td>0.09173</td>\n",
       "      <td>5</td>\n",
       "    </tr>\n",
       "    <tr>\n",
       "      <th>441</th>\n",
       "      <td>0.1739</td>\n",
       "      <td>4</td>\n",
       "    </tr>\n",
       "    <tr>\n",
       "      <th>459</th>\n",
       "      <td>0.04866</td>\n",
       "      <td>5</td>\n",
       "    </tr>\n",
       "    <tr>\n",
       "      <th>514</th>\n",
       "      <td>0.112</td>\n",
       "      <td>3</td>\n",
       "    </tr>\n",
       "    <tr>\n",
       "      <th>517</th>\n",
       "      <td>0.1613</td>\n",
       "      <td>4</td>\n",
       "    </tr>\n",
       "    <tr>\n",
       "      <th>540</th>\n",
       "      <td>0.06918</td>\n",
       "      <td>5</td>\n",
       "    </tr>\n",
       "  </tbody>\n",
       "</table>\n",
       "</div>"
      ],
      "text/plain": [
       "    worst concave points  Number decimals\n",
       "37               0.05013                5\n",
       "300                0.198                3\n",
       "312              0.08411                5\n",
       "347               0.1251                4\n",
       "384              0.09173                5\n",
       "441               0.1739                4\n",
       "459              0.04866                5\n",
       "514                0.112                3\n",
       "517               0.1613                4\n",
       "540              0.06918                5"
      ]
     },
     "metadata": {},
     "output_type": "display_data"
    },
    {
     "name": "stdout",
     "output_type": "stream",
     "text": [
      "\n"
     ]
    },
    {
     "data": {
      "text/markdown": [
       "**Flagged values**:"
      ],
      "text/plain": [
       "<IPython.core.display.Markdown object>"
      ]
     },
     "metadata": {},
     "output_type": "display_data"
    },
    {
     "data": {
      "text/html": [
       "<div>\n",
       "<style scoped>\n",
       "    .dataframe tbody tr th:only-of-type {\n",
       "        vertical-align: middle;\n",
       "    }\n",
       "\n",
       "    .dataframe tbody tr th {\n",
       "        vertical-align: top;\n",
       "    }\n",
       "\n",
       "    .dataframe thead th {\n",
       "        text-align: right;\n",
       "    }\n",
       "</style>\n",
       "<table border=\"1\" class=\"dataframe\">\n",
       "  <thead>\n",
       "    <tr style=\"text-align: right;\">\n",
       "      <th></th>\n",
       "      <th>worst concave points</th>\n",
       "      <th>Number decimals</th>\n",
       "    </tr>\n",
       "  </thead>\n",
       "  <tbody>\n",
       "    <tr>\n",
       "      <th>178</th>\n",
       "      <td>0.009259</td>\n",
       "      <td>6</td>\n",
       "    </tr>\n",
       "    <tr>\n",
       "      <th>285</th>\n",
       "      <td>0.008772</td>\n",
       "      <td>6</td>\n",
       "    </tr>\n",
       "  </tbody>\n",
       "</table>\n",
       "</div>"
      ],
      "text/plain": [
       "    worst concave points  Number decimals\n",
       "178             0.009259                6\n",
       "285             0.008772                6"
      ]
     },
     "metadata": {},
     "output_type": "display_data"
    }
   ],
   "source": [
    "# Look at the 'NUMBER_DECIMALS' test more closely, listing all \n",
    "# patterns with exceptions.\n",
    "\n",
    "dc.display_detailed_results(test_id_list=['NUMBER_DECIMALS'], show_patterns=False)"
   ]
  },
  {
   "cell_type": "code",
   "execution_count": 26,
   "id": "631f7c37",
   "metadata": {
    "scrolled": false
   },
   "outputs": [
    {
     "name": "stdout",
     "output_type": "stream",
     "text": [
      "....................................................................................................\n"
     ]
    },
    {
     "data": {
      "text/markdown": [
       "### RARE_COMBINATION"
      ],
      "text/plain": [
       "<IPython.core.display.Markdown object>"
      ]
     },
     "metadata": {},
     "output_type": "display_data"
    },
    {
     "name": "stdout",
     "output_type": "stream",
     "text": [
      "\n"
     ]
    },
    {
     "data": {
      "text/markdown": [
       "### Column(s): \"mean concavity\" AND \"symmetry error\""
      ],
      "text/plain": [
       "<IPython.core.display.Markdown object>"
      ]
     },
     "metadata": {},
     "output_type": "display_data"
    },
    {
     "data": {
      "text/markdown": [
       "**Issue ID**: 52"
      ],
      "text/plain": [
       "<IPython.core.display.Markdown object>"
      ]
     },
     "metadata": {},
     "output_type": "display_data"
    },
    {
     "data": {
      "text/markdown": [
       "A strong pattern, and exceptions to the pattern, were found.<br>"
      ],
      "text/plain": [
       "<IPython.core.display.Markdown object>"
      ]
     },
     "metadata": {},
     "output_type": "display_data"
    },
    {
     "data": {
      "text/markdown": [
       "**Description**: One or more rare combinations of values were found."
      ],
      "text/plain": [
       "<IPython.core.display.Markdown object>"
      ]
     },
     "metadata": {},
     "output_type": "display_data"
    },
    {
     "data": {
      "text/markdown": [
       "**Number of exceptions**: 2 (0.3515% of rows)"
      ],
      "text/plain": [
       "<IPython.core.display.Markdown object>"
      ]
     },
     "metadata": {},
     "output_type": "display_data"
    },
    {
     "name": "stdout",
     "output_type": "stream",
     "text": [
      "\n"
     ]
    },
    {
     "data": {
      "text/markdown": [
       "**Examples of values NOT flagged**:"
      ],
      "text/plain": [
       "<IPython.core.display.Markdown object>"
      ]
     },
     "metadata": {},
     "output_type": "display_data"
    },
    {
     "data": {
      "text/html": [
       "<div>\n",
       "<style scoped>\n",
       "    .dataframe tbody tr th:only-of-type {\n",
       "        vertical-align: middle;\n",
       "    }\n",
       "\n",
       "    .dataframe tbody tr th {\n",
       "        vertical-align: top;\n",
       "    }\n",
       "\n",
       "    .dataframe thead th {\n",
       "        text-align: right;\n",
       "    }\n",
       "</style>\n",
       "<table border=\"1\" class=\"dataframe\">\n",
       "  <thead>\n",
       "    <tr style=\"text-align: right;\">\n",
       "      <th></th>\n",
       "      <th>mean concavity</th>\n",
       "      <th>symmetry error</th>\n",
       "    </tr>\n",
       "  </thead>\n",
       "  <tbody>\n",
       "    <tr>\n",
       "      <th>37</th>\n",
       "      <td>0.02562</td>\n",
       "      <td>0.02671</td>\n",
       "    </tr>\n",
       "    <tr>\n",
       "      <th>299</th>\n",
       "      <td>0.02495</td>\n",
       "      <td>0.03464</td>\n",
       "    </tr>\n",
       "    <tr>\n",
       "      <th>311</th>\n",
       "      <td>0.01447</td>\n",
       "      <td>0.01494</td>\n",
       "    </tr>\n",
       "    <tr>\n",
       "      <th>346</th>\n",
       "      <td>0.00751</td>\n",
       "      <td>0.01982</td>\n",
       "    </tr>\n",
       "    <tr>\n",
       "      <th>384</th>\n",
       "      <td>0.05077</td>\n",
       "      <td>0.01461</td>\n",
       "    </tr>\n",
       "    <tr>\n",
       "      <th>441</th>\n",
       "      <td>0.12040</td>\n",
       "      <td>0.01594</td>\n",
       "    </tr>\n",
       "    <tr>\n",
       "      <th>459</th>\n",
       "      <td>0.01541</td>\n",
       "      <td>0.01574</td>\n",
       "    </tr>\n",
       "    <tr>\n",
       "      <th>514</th>\n",
       "      <td>0.07486</td>\n",
       "      <td>0.01152</td>\n",
       "    </tr>\n",
       "    <tr>\n",
       "      <th>517</th>\n",
       "      <td>0.14110</td>\n",
       "      <td>0.01057</td>\n",
       "    </tr>\n",
       "    <tr>\n",
       "      <th>540</th>\n",
       "      <td>0.06737</td>\n",
       "      <td>0.01840</td>\n",
       "    </tr>\n",
       "  </tbody>\n",
       "</table>\n",
       "</div>"
      ],
      "text/plain": [
       "     mean concavity  symmetry error\n",
       "37          0.02562         0.02671\n",
       "299         0.02495         0.03464\n",
       "311         0.01447         0.01494\n",
       "346         0.00751         0.01982\n",
       "384         0.05077         0.01461\n",
       "441         0.12040         0.01594\n",
       "459         0.01541         0.01574\n",
       "514         0.07486         0.01152\n",
       "517         0.14110         0.01057\n",
       "540         0.06737         0.01840"
      ]
     },
     "metadata": {},
     "output_type": "display_data"
    },
    {
     "name": "stdout",
     "output_type": "stream",
     "text": [
      "\n"
     ]
    },
    {
     "data": {
      "text/markdown": [
       "**Flagged values**:"
      ],
      "text/plain": [
       "<IPython.core.display.Markdown object>"
      ]
     },
     "metadata": {},
     "output_type": "display_data"
    },
    {
     "data": {
      "text/html": [
       "<div>\n",
       "<style scoped>\n",
       "    .dataframe tbody tr th:only-of-type {\n",
       "        vertical-align: middle;\n",
       "    }\n",
       "\n",
       "    .dataframe tbody tr th {\n",
       "        vertical-align: top;\n",
       "    }\n",
       "\n",
       "    .dataframe thead th {\n",
       "        text-align: right;\n",
       "    }\n",
       "</style>\n",
       "<table border=\"1\" class=\"dataframe\">\n",
       "  <thead>\n",
       "    <tr style=\"text-align: right;\">\n",
       "      <th></th>\n",
       "      <th>mean concavity</th>\n",
       "      <th>symmetry error</th>\n",
       "    </tr>\n",
       "  </thead>\n",
       "  <tbody>\n",
       "    <tr>\n",
       "      <th>212</th>\n",
       "      <td>0.3201</td>\n",
       "      <td>0.04783</td>\n",
       "    </tr>\n",
       "    <tr>\n",
       "      <th>351</th>\n",
       "      <td>0.2914</td>\n",
       "      <td>0.05543</td>\n",
       "    </tr>\n",
       "  </tbody>\n",
       "</table>\n",
       "</div>"
      ],
      "text/plain": [
       "     mean concavity  symmetry error\n",
       "212          0.3201         0.04783\n",
       "351          0.2914         0.05543"
      ]
     },
     "metadata": {},
     "output_type": "display_data"
    },
    {
     "data": {
      "image/png": "[encoded data removed]",
      "text/plain": [
       "<Figure size 360x360 with 1 Axes>"
      ]
     },
     "metadata": {
      "needs_background": "light"
     },
     "output_type": "display_data"
    }
   ],
   "source": [
    "# Look at Issue 52 more closely\n",
    "\n",
    "dc.display_detailed_results(issue_id_list=[52])"
   ]
  },
  {
   "cell_type": "code",
   "execution_count": 27,
   "id": "c68d9d0b",
   "metadata": {
    "scrolled": true
   },
   "outputs": [
    {
     "name": "stdout",
     "output_type": "stream",
     "text": [
      "....................................................................................................\n"
     ]
    },
    {
     "data": {
      "text/markdown": [
       "### MUCH_LARGER"
      ],
      "text/plain": [
       "<IPython.core.display.Markdown object>"
      ]
     },
     "metadata": {},
     "output_type": "display_data"
    },
    {
     "name": "stdout",
     "output_type": "stream",
     "text": [
      "\n"
     ]
    },
    {
     "data": {
      "text/markdown": [
       "### Column(s): \"radius error\" AND \"mean texture\""
      ],
      "text/plain": [
       "<IPython.core.display.Markdown object>"
      ]
     },
     "metadata": {},
     "output_type": "display_data"
    },
    {
     "data": {
      "text/markdown": [
       "**Issue ID**: 34"
      ],
      "text/plain": [
       "<IPython.core.display.Markdown object>"
      ]
     },
     "metadata": {},
     "output_type": "display_data"
    },
    {
     "data": {
      "text/markdown": [
       "A strong pattern, and exceptions to the pattern, were found.<br>"
      ],
      "text/plain": [
       "<IPython.core.display.Markdown object>"
      ]
     },
     "metadata": {},
     "output_type": "display_data"
    },
    {
     "data": {
      "text/markdown": [
       "**Description**: \"mean texture\" is consistently an order of magnitude or more larger than \"radius error\", with<br>exceptions (where values may still be larger, but not by the normal extent)."
      ],
      "text/plain": [
       "<IPython.core.display.Markdown object>"
      ]
     },
     "metadata": {},
     "output_type": "display_data"
    },
    {
     "data": {
      "text/markdown": [
       "**Number of exceptions**: 2 (0.3515% of rows)"
      ],
      "text/plain": [
       "<IPython.core.display.Markdown object>"
      ]
     },
     "metadata": {},
     "output_type": "display_data"
    },
    {
     "name": "stdout",
     "output_type": "stream",
     "text": [
      "\n"
     ]
    },
    {
     "data": {
      "text/markdown": [
       "**Examples of values NOT flagged**:"
      ],
      "text/plain": [
       "<IPython.core.display.Markdown object>"
      ]
     },
     "metadata": {},
     "output_type": "display_data"
    },
    {
     "data": {
      "text/html": [
       "<div>\n",
       "<style scoped>\n",
       "    .dataframe tbody tr th:only-of-type {\n",
       "        vertical-align: middle;\n",
       "    }\n",
       "\n",
       "    .dataframe tbody tr th {\n",
       "        vertical-align: top;\n",
       "    }\n",
       "\n",
       "    .dataframe thead th {\n",
       "        text-align: right;\n",
       "    }\n",
       "</style>\n",
       "<table border=\"1\" class=\"dataframe\">\n",
       "  <thead>\n",
       "    <tr style=\"text-align: right;\">\n",
       "      <th></th>\n",
       "      <th>radius error</th>\n",
       "      <th>mean texture</th>\n",
       "    </tr>\n",
       "  </thead>\n",
       "  <tbody>\n",
       "    <tr>\n",
       "      <th>38</th>\n",
       "      <td>1.2140</td>\n",
       "      <td>25.20</td>\n",
       "    </tr>\n",
       "    <tr>\n",
       "      <th>300</th>\n",
       "      <td>1.1110</td>\n",
       "      <td>18.90</td>\n",
       "    </tr>\n",
       "    <tr>\n",
       "      <th>312</th>\n",
       "      <td>0.3265</td>\n",
       "      <td>13.37</td>\n",
       "    </tr>\n",
       "    <tr>\n",
       "      <th>347</th>\n",
       "      <td>0.3428</td>\n",
       "      <td>14.74</td>\n",
       "    </tr>\n",
       "    <tr>\n",
       "      <th>384</th>\n",
       "      <td>0.1833</td>\n",
       "      <td>13.72</td>\n",
       "    </tr>\n",
       "    <tr>\n",
       "      <th>441</th>\n",
       "      <td>0.5100</td>\n",
       "      <td>25.42</td>\n",
       "    </tr>\n",
       "    <tr>\n",
       "      <th>459</th>\n",
       "      <td>0.1781</td>\n",
       "      <td>28.20</td>\n",
       "    </tr>\n",
       "    <tr>\n",
       "      <th>514</th>\n",
       "      <td>0.3860</td>\n",
       "      <td>19.07</td>\n",
       "    </tr>\n",
       "    <tr>\n",
       "      <th>517</th>\n",
       "      <td>0.5079</td>\n",
       "      <td>20.26</td>\n",
       "    </tr>\n",
       "    <tr>\n",
       "      <th>540</th>\n",
       "      <td>0.2784</td>\n",
       "      <td>14.44</td>\n",
       "    </tr>\n",
       "  </tbody>\n",
       "</table>\n",
       "</div>"
      ],
      "text/plain": [
       "     radius error  mean texture\n",
       "38         1.2140         25.20\n",
       "300        1.1110         18.90\n",
       "312        0.3265         13.37\n",
       "347        0.3428         14.74\n",
       "384        0.1833         13.72\n",
       "441        0.5100         25.42\n",
       "459        0.1781         28.20\n",
       "514        0.3860         19.07\n",
       "517        0.5079         20.26\n",
       "540        0.2784         14.44"
      ]
     },
     "metadata": {},
     "output_type": "display_data"
    },
    {
     "name": "stdout",
     "output_type": "stream",
     "text": [
      "\n"
     ]
    },
    {
     "data": {
      "text/markdown": [
       "**Flagged values**:"
      ],
      "text/plain": [
       "<IPython.core.display.Markdown object>"
      ]
     },
     "metadata": {},
     "output_type": "display_data"
    },
    {
     "data": {
      "text/html": [
       "<div>\n",
       "<style scoped>\n",
       "    .dataframe tbody tr th:only-of-type {\n",
       "        vertical-align: middle;\n",
       "    }\n",
       "\n",
       "    .dataframe tbody tr th {\n",
       "        vertical-align: top;\n",
       "    }\n",
       "\n",
       "    .dataframe thead th {\n",
       "        text-align: right;\n",
       "    }\n",
       "</style>\n",
       "<table border=\"1\" class=\"dataframe\">\n",
       "  <thead>\n",
       "    <tr style=\"text-align: right;\">\n",
       "      <th></th>\n",
       "      <th>radius error</th>\n",
       "      <th>mean texture</th>\n",
       "    </tr>\n",
       "  </thead>\n",
       "  <tbody>\n",
       "    <tr>\n",
       "      <th>0</th>\n",
       "      <td>1.095</td>\n",
       "      <td>10.38</td>\n",
       "    </tr>\n",
       "    <tr>\n",
       "      <th>212</th>\n",
       "      <td>2.873</td>\n",
       "      <td>18.47</td>\n",
       "    </tr>\n",
       "  </tbody>\n",
       "</table>\n",
       "</div>"
      ],
      "text/plain": [
       "     radius error  mean texture\n",
       "0           1.095         10.38\n",
       "212         2.873         18.47"
      ]
     },
     "metadata": {},
     "output_type": "display_data"
    },
    {
     "data": {
      "image/png": "[encoded data removed]",
      "text/plain": [
       "<Figure size 360x360 with 1 Axes>"
      ]
     },
     "metadata": {
      "needs_background": "light"
     },
     "output_type": "display_data"
    }
   ],
   "source": [
    "# Look at issue 34 more closely\n",
    "\n",
    "dc.display_detailed_results(issue_id_list=[34])"
   ]
  },
  {
   "cell_type": "code",
   "execution_count": 28,
   "id": "ec031a5e",
   "metadata": {
    "scrolled": false
   },
   "outputs": [
    {
     "name": "stdout",
     "output_type": "stream",
     "text": [
      "\n"
     ]
    },
    {
     "data": {
      "text/markdown": [
       "Displaying results for tests: 'SIMILAR_WRT_RATIO'"
      ],
      "text/plain": [
       "<IPython.core.display.Markdown object>"
      ]
     },
     "metadata": {},
     "output_type": "display_data"
    },
    {
     "name": "stdout",
     "output_type": "stream",
     "text": [
      "\n"
     ]
    },
    {
     "data": {
      "text/markdown": [
       "### Column(s): \"mean radius\" AND \"worst radius\""
      ],
      "text/plain": [
       "<IPython.core.display.Markdown object>"
      ]
     },
     "metadata": {},
     "output_type": "display_data"
    },
    {
     "data": {
      "text/markdown": [
       "Pattern found (without exceptions)"
      ],
      "text/plain": [
       "<IPython.core.display.Markdown object>"
      ]
     },
     "metadata": {},
     "output_type": "display_data"
    },
    {
     "name": "stdout",
     "output_type": "stream",
     "text": [
      "\n"
     ]
    },
    {
     "data": {
      "text/markdown": [
       "**Description**:"
      ],
      "text/plain": [
       "<IPython.core.display.Markdown object>"
      ]
     },
     "metadata": {},
     "output_type": "display_data"
    },
    {
     "data": {
      "text/markdown": [
       "\"mean radius\" and \"worst radius\" have consistently similar values in terms of their ratio"
      ],
      "text/plain": [
       "<IPython.core.display.Markdown object>"
      ]
     },
     "metadata": {},
     "output_type": "display_data"
    },
    {
     "name": "stdout",
     "output_type": "stream",
     "text": [
      "\n"
     ]
    },
    {
     "data": {
      "text/markdown": [
       "**Examples**:"
      ],
      "text/plain": [
       "<IPython.core.display.Markdown object>"
      ]
     },
     "metadata": {},
     "output_type": "display_data"
    },
    {
     "data": {
      "text/html": [
       "<div>\n",
       "<style scoped>\n",
       "    .dataframe tbody tr th:only-of-type {\n",
       "        vertical-align: middle;\n",
       "    }\n",
       "\n",
       "    .dataframe tbody tr th {\n",
       "        vertical-align: top;\n",
       "    }\n",
       "\n",
       "    .dataframe thead th {\n",
       "        text-align: right;\n",
       "    }\n",
       "</style>\n",
       "<table border=\"1\" class=\"dataframe\">\n",
       "  <thead>\n",
       "    <tr style=\"text-align: right;\">\n",
       "      <th></th>\n",
       "      <th>mean radius</th>\n",
       "      <th>worst radius</th>\n",
       "    </tr>\n",
       "  </thead>\n",
       "  <tbody>\n",
       "    <tr>\n",
       "      <th>37</th>\n",
       "      <td>13.030</td>\n",
       "      <td>13.300</td>\n",
       "    </tr>\n",
       "    <tr>\n",
       "      <th>298</th>\n",
       "      <td>14.260</td>\n",
       "      <td>16.220</td>\n",
       "    </tr>\n",
       "    <tr>\n",
       "      <th>310</th>\n",
       "      <td>11.700</td>\n",
       "      <td>12.610</td>\n",
       "    </tr>\n",
       "    <tr>\n",
       "      <th>345</th>\n",
       "      <td>10.260</td>\n",
       "      <td>10.880</td>\n",
       "    </tr>\n",
       "    <tr>\n",
       "      <th>382</th>\n",
       "      <td>12.050</td>\n",
       "      <td>12.570</td>\n",
       "    </tr>\n",
       "    <tr>\n",
       "      <th>439</th>\n",
       "      <td>14.020</td>\n",
       "      <td>14.910</td>\n",
       "    </tr>\n",
       "    <tr>\n",
       "      <th>457</th>\n",
       "      <td>13.210</td>\n",
       "      <td>14.350</td>\n",
       "    </tr>\n",
       "    <tr>\n",
       "      <th>512</th>\n",
       "      <td>13.400</td>\n",
       "      <td>16.410</td>\n",
       "    </tr>\n",
       "    <tr>\n",
       "      <th>515</th>\n",
       "      <td>11.340</td>\n",
       "      <td>12.470</td>\n",
       "    </tr>\n",
       "    <tr>\n",
       "      <th>538</th>\n",
       "      <td>7.729</td>\n",
       "      <td>9.077</td>\n",
       "    </tr>\n",
       "  </tbody>\n",
       "</table>\n",
       "</div>"
      ],
      "text/plain": [
       "     mean radius  worst radius\n",
       "37        13.030        13.300\n",
       "298       14.260        16.220\n",
       "310       11.700        12.610\n",
       "345       10.260        10.880\n",
       "382       12.050        12.570\n",
       "439       14.020        14.910\n",
       "457       13.210        14.350\n",
       "512       13.400        16.410\n",
       "515       11.340        12.470\n",
       "538        7.729         9.077"
      ]
     },
     "metadata": {},
     "output_type": "display_data"
    },
    {
     "data": {
      "image/png": "[encoded data removed]",
      "text/plain": [
       "<Figure size 360x360 with 1 Axes>"
      ]
     },
     "metadata": {
      "needs_background": "light"
     },
     "output_type": "display_data"
    },
    {
     "name": "stdout",
     "output_type": "stream",
     "text": [
      "\n"
     ]
    },
    {
     "data": {
      "text/markdown": [
       "### Column(s): \"mean perimeter\" AND \"worst perimeter\""
      ],
      "text/plain": [
       "<IPython.core.display.Markdown object>"
      ]
     },
     "metadata": {},
     "output_type": "display_data"
    },
    {
     "data": {
      "text/markdown": [
       "Pattern found (without exceptions)"
      ],
      "text/plain": [
       "<IPython.core.display.Markdown object>"
      ]
     },
     "metadata": {},
     "output_type": "display_data"
    },
    {
     "name": "stdout",
     "output_type": "stream",
     "text": [
      "\n"
     ]
    },
    {
     "data": {
      "text/markdown": [
       "**Description**:"
      ],
      "text/plain": [
       "<IPython.core.display.Markdown object>"
      ]
     },
     "metadata": {},
     "output_type": "display_data"
    },
    {
     "data": {
      "text/markdown": [
       "\"mean perimeter\" and \"worst perimeter\" have consistently similar values in terms of their ratio"
      ],
      "text/plain": [
       "<IPython.core.display.Markdown object>"
      ]
     },
     "metadata": {},
     "output_type": "display_data"
    },
    {
     "name": "stdout",
     "output_type": "stream",
     "text": [
      "\n"
     ]
    },
    {
     "data": {
      "text/markdown": [
       "**Examples**:"
      ],
      "text/plain": [
       "<IPython.core.display.Markdown object>"
      ]
     },
     "metadata": {},
     "output_type": "display_data"
    },
    {
     "data": {
      "text/html": [
       "<div>\n",
       "<style scoped>\n",
       "    .dataframe tbody tr th:only-of-type {\n",
       "        vertical-align: middle;\n",
       "    }\n",
       "\n",
       "    .dataframe tbody tr th {\n",
       "        vertical-align: top;\n",
       "    }\n",
       "\n",
       "    .dataframe thead th {\n",
       "        text-align: right;\n",
       "    }\n",
       "</style>\n",
       "<table border=\"1\" class=\"dataframe\">\n",
       "  <thead>\n",
       "    <tr style=\"text-align: right;\">\n",
       "      <th></th>\n",
       "      <th>mean perimeter</th>\n",
       "      <th>worst perimeter</th>\n",
       "    </tr>\n",
       "  </thead>\n",
       "  <tbody>\n",
       "    <tr>\n",
       "      <th>37</th>\n",
       "      <td>82.61</td>\n",
       "      <td>84.46</td>\n",
       "    </tr>\n",
       "    <tr>\n",
       "      <th>298</th>\n",
       "      <td>91.22</td>\n",
       "      <td>105.80</td>\n",
       "    </tr>\n",
       "    <tr>\n",
       "      <th>310</th>\n",
       "      <td>74.33</td>\n",
       "      <td>80.92</td>\n",
       "    </tr>\n",
       "    <tr>\n",
       "      <th>345</th>\n",
       "      <td>66.20</td>\n",
       "      <td>70.89</td>\n",
       "    </tr>\n",
       "    <tr>\n",
       "      <th>382</th>\n",
       "      <td>78.75</td>\n",
       "      <td>87.36</td>\n",
       "    </tr>\n",
       "    <tr>\n",
       "      <th>439</th>\n",
       "      <td>89.59</td>\n",
       "      <td>96.53</td>\n",
       "    </tr>\n",
       "    <tr>\n",
       "      <th>457</th>\n",
       "      <td>84.10</td>\n",
       "      <td>91.29</td>\n",
       "    </tr>\n",
       "    <tr>\n",
       "      <th>512</th>\n",
       "      <td>88.64</td>\n",
       "      <td>113.30</td>\n",
       "    </tr>\n",
       "    <tr>\n",
       "      <th>515</th>\n",
       "      <td>72.76</td>\n",
       "      <td>79.15</td>\n",
       "    </tr>\n",
       "    <tr>\n",
       "      <th>538</th>\n",
       "      <td>47.98</td>\n",
       "      <td>57.17</td>\n",
       "    </tr>\n",
       "  </tbody>\n",
       "</table>\n",
       "</div>"
      ],
      "text/plain": [
       "     mean perimeter  worst perimeter\n",
       "37            82.61            84.46\n",
       "298           91.22           105.80\n",
       "310           74.33            80.92\n",
       "345           66.20            70.89\n",
       "382           78.75            87.36\n",
       "439           89.59            96.53\n",
       "457           84.10            91.29\n",
       "512           88.64           113.30\n",
       "515           72.76            79.15\n",
       "538           47.98            57.17"
      ]
     },
     "metadata": {},
     "output_type": "display_data"
    },
    {
     "data": {
      "image/png": "[encoded data removed]",
      "text/plain": [
       "<Figure size 360x360 with 1 Axes>"
      ]
     },
     "metadata": {
      "needs_background": "light"
     },
     "output_type": "display_data"
    },
    {
     "name": "stdout",
     "output_type": "stream",
     "text": [
      "\n"
     ]
    },
    {
     "data": {
      "text/markdown": [
       "### Column(s): \"mean smoothness\" AND \"worst smoothness\""
      ],
      "text/plain": [
       "<IPython.core.display.Markdown object>"
      ]
     },
     "metadata": {},
     "output_type": "display_data"
    },
    {
     "data": {
      "text/markdown": [
       "Pattern found (without exceptions)"
      ],
      "text/plain": [
       "<IPython.core.display.Markdown object>"
      ]
     },
     "metadata": {},
     "output_type": "display_data"
    },
    {
     "name": "stdout",
     "output_type": "stream",
     "text": [
      "\n"
     ]
    },
    {
     "data": {
      "text/markdown": [
       "**Description**:"
      ],
      "text/plain": [
       "<IPython.core.display.Markdown object>"
      ]
     },
     "metadata": {},
     "output_type": "display_data"
    },
    {
     "data": {
      "text/markdown": [
       "\"mean smoothness\" and \"worst smoothness\" have consistently similar values in terms of their ratio"
      ],
      "text/plain": [
       "<IPython.core.display.Markdown object>"
      ]
     },
     "metadata": {},
     "output_type": "display_data"
    },
    {
     "name": "stdout",
     "output_type": "stream",
     "text": [
      "\n"
     ]
    },
    {
     "data": {
      "text/markdown": [
       "**Examples**:"
      ],
      "text/plain": [
       "<IPython.core.display.Markdown object>"
      ]
     },
     "metadata": {},
     "output_type": "display_data"
    },
    {
     "data": {
      "text/html": [
       "<div>\n",
       "<style scoped>\n",
       "    .dataframe tbody tr th:only-of-type {\n",
       "        vertical-align: middle;\n",
       "    }\n",
       "\n",
       "    .dataframe tbody tr th {\n",
       "        vertical-align: top;\n",
       "    }\n",
       "\n",
       "    .dataframe thead th {\n",
       "        text-align: right;\n",
       "    }\n",
       "</style>\n",
       "<table border=\"1\" class=\"dataframe\">\n",
       "  <thead>\n",
       "    <tr style=\"text-align: right;\">\n",
       "      <th></th>\n",
       "      <th>mean smoothness</th>\n",
       "      <th>worst smoothness</th>\n",
       "    </tr>\n",
       "  </thead>\n",
       "  <tbody>\n",
       "    <tr>\n",
       "      <th>37</th>\n",
       "      <td>0.08983</td>\n",
       "      <td>0.09701</td>\n",
       "    </tr>\n",
       "    <tr>\n",
       "      <th>298</th>\n",
       "      <td>0.06576</td>\n",
       "      <td>0.09445</td>\n",
       "    </tr>\n",
       "    <tr>\n",
       "      <th>310</th>\n",
       "      <td>0.08814</td>\n",
       "      <td>0.12230</td>\n",
       "    </tr>\n",
       "    <tr>\n",
       "      <th>345</th>\n",
       "      <td>0.09882</td>\n",
       "      <td>0.13600</td>\n",
       "    </tr>\n",
       "    <tr>\n",
       "      <th>382</th>\n",
       "      <td>0.06935</td>\n",
       "      <td>0.08799</td>\n",
       "    </tr>\n",
       "    <tr>\n",
       "      <th>439</th>\n",
       "      <td>0.07966</td>\n",
       "      <td>0.10340</td>\n",
       "    </tr>\n",
       "    <tr>\n",
       "      <th>457</th>\n",
       "      <td>0.08791</td>\n",
       "      <td>0.12890</td>\n",
       "    </tr>\n",
       "    <tr>\n",
       "      <th>512</th>\n",
       "      <td>0.11060</td>\n",
       "      <td>0.15740</td>\n",
       "    </tr>\n",
       "    <tr>\n",
       "      <th>515</th>\n",
       "      <td>0.10490</td>\n",
       "      <td>0.14830</td>\n",
       "    </tr>\n",
       "    <tr>\n",
       "      <th>538</th>\n",
       "      <td>0.08098</td>\n",
       "      <td>0.12560</td>\n",
       "    </tr>\n",
       "  </tbody>\n",
       "</table>\n",
       "</div>"
      ],
      "text/plain": [
       "     mean smoothness  worst smoothness\n",
       "37           0.08983           0.09701\n",
       "298          0.06576           0.09445\n",
       "310          0.08814           0.12230\n",
       "345          0.09882           0.13600\n",
       "382          0.06935           0.08799\n",
       "439          0.07966           0.10340\n",
       "457          0.08791           0.12890\n",
       "512          0.11060           0.15740\n",
       "515          0.10490           0.14830\n",
       "538          0.08098           0.12560"
      ]
     },
     "metadata": {},
     "output_type": "display_data"
    },
    {
     "data": {
      "image/png": "[encoded data removed]",
      "text/plain": [
       "<Figure size 360x360 with 1 Axes>"
      ]
     },
     "metadata": {
      "needs_background": "light"
     },
     "output_type": "display_data"
    },
    {
     "name": "stdout",
     "output_type": "stream",
     "text": [
      "\n"
     ]
    },
    {
     "data": {
      "text/markdown": [
       "### Column(s): \"mean texture\" AND \"worst texture\""
      ],
      "text/plain": [
       "<IPython.core.display.Markdown object>"
      ]
     },
     "metadata": {},
     "output_type": "display_data"
    },
    {
     "data": {
      "text/markdown": [
       "**Issue ID**: 44"
      ],
      "text/plain": [
       "<IPython.core.display.Markdown object>"
      ]
     },
     "metadata": {},
     "output_type": "display_data"
    },
    {
     "data": {
      "text/markdown": [
       "A strong pattern, and exceptions to the pattern, were found.<br>"
      ],
      "text/plain": [
       "<IPython.core.display.Markdown object>"
      ]
     },
     "metadata": {},
     "output_type": "display_data"
    },
    {
     "data": {
      "text/markdown": [
       "**Description**: \"mean texture\" and \"worst texture\" have consistently similar values in terms of their ratio, with<br>exceptions."
      ],
      "text/plain": [
       "<IPython.core.display.Markdown object>"
      ]
     },
     "metadata": {},
     "output_type": "display_data"
    },
    {
     "data": {
      "text/markdown": [
       "**Number of exceptions**: 1 (0.1757% of rows)"
      ],
      "text/plain": [
       "<IPython.core.display.Markdown object>"
      ]
     },
     "metadata": {},
     "output_type": "display_data"
    },
    {
     "name": "stdout",
     "output_type": "stream",
     "text": [
      "\n"
     ]
    },
    {
     "data": {
      "text/markdown": [
       "**Examples of values NOT flagged**:"
      ],
      "text/plain": [
       "<IPython.core.display.Markdown object>"
      ]
     },
     "metadata": {},
     "output_type": "display_data"
    },
    {
     "data": {
      "text/html": [
       "<div>\n",
       "<style scoped>\n",
       "    .dataframe tbody tr th:only-of-type {\n",
       "        vertical-align: middle;\n",
       "    }\n",
       "\n",
       "    .dataframe tbody tr th {\n",
       "        vertical-align: top;\n",
       "    }\n",
       "\n",
       "    .dataframe thead th {\n",
       "        text-align: right;\n",
       "    }\n",
       "</style>\n",
       "<table border=\"1\" class=\"dataframe\">\n",
       "  <thead>\n",
       "    <tr style=\"text-align: right;\">\n",
       "      <th></th>\n",
       "      <th>mean texture</th>\n",
       "      <th>worst texture</th>\n",
       "    </tr>\n",
       "  </thead>\n",
       "  <tbody>\n",
       "    <tr>\n",
       "      <th>37</th>\n",
       "      <td>18.42</td>\n",
       "      <td>22.81</td>\n",
       "    </tr>\n",
       "    <tr>\n",
       "      <th>298</th>\n",
       "      <td>18.17</td>\n",
       "      <td>25.26</td>\n",
       "    </tr>\n",
       "    <tr>\n",
       "      <th>310</th>\n",
       "      <td>19.11</td>\n",
       "      <td>26.55</td>\n",
       "    </tr>\n",
       "    <tr>\n",
       "      <th>345</th>\n",
       "      <td>14.71</td>\n",
       "      <td>19.48</td>\n",
       "    </tr>\n",
       "    <tr>\n",
       "      <th>382</th>\n",
       "      <td>22.72</td>\n",
       "      <td>28.71</td>\n",
       "    </tr>\n",
       "    <tr>\n",
       "      <th>440</th>\n",
       "      <td>17.20</td>\n",
       "      <td>26.87</td>\n",
       "    </tr>\n",
       "    <tr>\n",
       "      <th>458</th>\n",
       "      <td>25.13</td>\n",
       "      <td>31.88</td>\n",
       "    </tr>\n",
       "    <tr>\n",
       "      <th>513</th>\n",
       "      <td>13.66</td>\n",
       "      <td>17.24</td>\n",
       "    </tr>\n",
       "    <tr>\n",
       "      <th>516</th>\n",
       "      <td>20.58</td>\n",
       "      <td>26.20</td>\n",
       "    </tr>\n",
       "    <tr>\n",
       "      <th>539</th>\n",
       "      <td>25.44</td>\n",
       "      <td>31.89</td>\n",
       "    </tr>\n",
       "  </tbody>\n",
       "</table>\n",
       "</div>"
      ],
      "text/plain": [
       "     mean texture  worst texture\n",
       "37          18.42          22.81\n",
       "298         18.17          25.26\n",
       "310         19.11          26.55\n",
       "345         14.71          19.48\n",
       "382         22.72          28.71\n",
       "440         17.20          26.87\n",
       "458         25.13          31.88\n",
       "513         13.66          17.24\n",
       "516         20.58          26.20\n",
       "539         25.44          31.89"
      ]
     },
     "metadata": {},
     "output_type": "display_data"
    },
    {
     "name": "stdout",
     "output_type": "stream",
     "text": [
      "\n"
     ]
    },
    {
     "data": {
      "text/markdown": [
       "**Flagged values**:"
      ],
      "text/plain": [
       "<IPython.core.display.Markdown object>"
      ]
     },
     "metadata": {},
     "output_type": "display_data"
    },
    {
     "data": {
      "text/html": [
       "<div>\n",
       "<style scoped>\n",
       "    .dataframe tbody tr th:only-of-type {\n",
       "        vertical-align: middle;\n",
       "    }\n",
       "\n",
       "    .dataframe tbody tr th {\n",
       "        vertical-align: top;\n",
       "    }\n",
       "\n",
       "    .dataframe thead th {\n",
       "        text-align: right;\n",
       "    }\n",
       "</style>\n",
       "<table border=\"1\" class=\"dataframe\">\n",
       "  <thead>\n",
       "    <tr style=\"text-align: right;\">\n",
       "      <th></th>\n",
       "      <th>mean texture</th>\n",
       "      <th>worst texture</th>\n",
       "    </tr>\n",
       "  </thead>\n",
       "  <tbody>\n",
       "    <tr>\n",
       "      <th>410</th>\n",
       "      <td>17.57</td>\n",
       "      <td>36.32</td>\n",
       "    </tr>\n",
       "  </tbody>\n",
       "</table>\n",
       "</div>"
      ],
      "text/plain": [
       "     mean texture  worst texture\n",
       "410         17.57          36.32"
      ]
     },
     "metadata": {},
     "output_type": "display_data"
    },
    {
     "data": {
      "image/png": "[encoded data removed]",
      "text/plain": [
       "<Figure size 360x360 with 1 Axes>"
      ]
     },
     "metadata": {
      "needs_background": "light"
     },
     "output_type": "display_data"
    },
    {
     "name": "stdout",
     "output_type": "stream",
     "text": [
      "\n"
     ]
    },
    {
     "data": {
      "text/markdown": [
       "### Column(s): \"mean smoothness\" AND \"worst fractal dimension\""
      ],
      "text/plain": [
       "<IPython.core.display.Markdown object>"
      ]
     },
     "metadata": {},
     "output_type": "display_data"
    },
    {
     "data": {
      "text/markdown": [
       "**Issue ID**: 45"
      ],
      "text/plain": [
       "<IPython.core.display.Markdown object>"
      ]
     },
     "metadata": {},
     "output_type": "display_data"
    },
    {
     "data": {
      "text/markdown": [
       "A strong pattern, and exceptions to the pattern, were found.<br>"
      ],
      "text/plain": [
       "<IPython.core.display.Markdown object>"
      ]
     },
     "metadata": {},
     "output_type": "display_data"
    },
    {
     "data": {
      "text/markdown": [
       "**Description**: \"mean smoothness\" and \"worst fractal dimension\" have consistently similar values in terms of their<br>ratio, with exceptions."
      ],
      "text/plain": [
       "<IPython.core.display.Markdown object>"
      ]
     },
     "metadata": {},
     "output_type": "display_data"
    },
    {
     "data": {
      "text/markdown": [
       "**Number of exceptions**: 2 (0.3515% of rows)"
      ],
      "text/plain": [
       "<IPython.core.display.Markdown object>"
      ]
     },
     "metadata": {},
     "output_type": "display_data"
    },
    {
     "name": "stdout",
     "output_type": "stream",
     "text": [
      "\n"
     ]
    },
    {
     "data": {
      "text/markdown": [
       "**Examples of values NOT flagged**:"
      ],
      "text/plain": [
       "<IPython.core.display.Markdown object>"
      ]
     },
     "metadata": {},
     "output_type": "display_data"
    },
    {
     "data": {
      "text/html": [
       "<div>\n",
       "<style scoped>\n",
       "    .dataframe tbody tr th:only-of-type {\n",
       "        vertical-align: middle;\n",
       "    }\n",
       "\n",
       "    .dataframe tbody tr th {\n",
       "        vertical-align: top;\n",
       "    }\n",
       "\n",
       "    .dataframe thead th {\n",
       "        text-align: right;\n",
       "    }\n",
       "</style>\n",
       "<table border=\"1\" class=\"dataframe\">\n",
       "  <thead>\n",
       "    <tr style=\"text-align: right;\">\n",
       "      <th></th>\n",
       "      <th>mean smoothness</th>\n",
       "      <th>worst fractal dimension</th>\n",
       "    </tr>\n",
       "  </thead>\n",
       "  <tbody>\n",
       "    <tr>\n",
       "      <th>37</th>\n",
       "      <td>0.08983</td>\n",
       "      <td>0.06169</td>\n",
       "    </tr>\n",
       "    <tr>\n",
       "      <th>300</th>\n",
       "      <td>0.11500</td>\n",
       "      <td>0.09929</td>\n",
       "    </tr>\n",
       "    <tr>\n",
       "      <th>312</th>\n",
       "      <td>0.08794</td>\n",
       "      <td>0.08253</td>\n",
       "    </tr>\n",
       "    <tr>\n",
       "      <th>347</th>\n",
       "      <td>0.08875</td>\n",
       "      <td>0.08187</td>\n",
       "    </tr>\n",
       "    <tr>\n",
       "      <th>384</th>\n",
       "      <td>0.08363</td>\n",
       "      <td>0.07320</td>\n",
       "    </tr>\n",
       "    <tr>\n",
       "      <th>441</th>\n",
       "      <td>0.08331</td>\n",
       "      <td>0.07944</td>\n",
       "    </tr>\n",
       "    <tr>\n",
       "      <th>459</th>\n",
       "      <td>0.07984</td>\n",
       "      <td>0.07211</td>\n",
       "    </tr>\n",
       "    <tr>\n",
       "      <th>514</th>\n",
       "      <td>0.09215</td>\n",
       "      <td>0.06954</td>\n",
       "    </tr>\n",
       "    <tr>\n",
       "      <th>517</th>\n",
       "      <td>0.10370</td>\n",
       "      <td>0.09136</td>\n",
       "    </tr>\n",
       "    <tr>\n",
       "      <th>540</th>\n",
       "      <td>0.09984</td>\n",
       "      <td>0.08134</td>\n",
       "    </tr>\n",
       "  </tbody>\n",
       "</table>\n",
       "</div>"
      ],
      "text/plain": [
       "     mean smoothness  worst fractal dimension\n",
       "37           0.08983                  0.06169\n",
       "300          0.11500                  0.09929\n",
       "312          0.08794                  0.08253\n",
       "347          0.08875                  0.08187\n",
       "384          0.08363                  0.07320\n",
       "441          0.08331                  0.07944\n",
       "459          0.07984                  0.07211\n",
       "514          0.09215                  0.06954\n",
       "517          0.10370                  0.09136\n",
       "540          0.09984                  0.08134"
      ]
     },
     "metadata": {},
     "output_type": "display_data"
    },
    {
     "name": "stdout",
     "output_type": "stream",
     "text": [
      "\n"
     ]
    },
    {
     "data": {
      "text/markdown": [
       "**Flagged values**:"
      ],
      "text/plain": [
       "<IPython.core.display.Markdown object>"
      ]
     },
     "metadata": {},
     "output_type": "display_data"
    },
    {
     "data": {
      "text/html": [
       "<div>\n",
       "<style scoped>\n",
       "    .dataframe tbody tr th:only-of-type {\n",
       "        vertical-align: middle;\n",
       "    }\n",
       "\n",
       "    .dataframe tbody tr th {\n",
       "        vertical-align: top;\n",
       "    }\n",
       "\n",
       "    .dataframe thead th {\n",
       "        text-align: right;\n",
       "    }\n",
       "</style>\n",
       "<table border=\"1\" class=\"dataframe\">\n",
       "  <thead>\n",
       "    <tr style=\"text-align: right;\">\n",
       "      <th></th>\n",
       "      <th>mean smoothness</th>\n",
       "      <th>worst fractal dimension</th>\n",
       "    </tr>\n",
       "  </thead>\n",
       "  <tbody>\n",
       "    <tr>\n",
       "      <th>212</th>\n",
       "      <td>0.1142</td>\n",
       "      <td>0.05525</td>\n",
       "    </tr>\n",
       "    <tr>\n",
       "      <th>275</th>\n",
       "      <td>0.1225</td>\n",
       "      <td>0.06033</td>\n",
       "    </tr>\n",
       "  </tbody>\n",
       "</table>\n",
       "</div>"
      ],
      "text/plain": [
       "     mean smoothness  worst fractal dimension\n",
       "212           0.1142                  0.05525\n",
       "275           0.1225                  0.06033"
      ]
     },
     "metadata": {},
     "output_type": "display_data"
    },
    {
     "data": {
      "image/png": "[encoded data removed]",
      "text/plain": [
       "<Figure size 360x360 with 1 Axes>"
      ]
     },
     "metadata": {
      "needs_background": "light"
     },
     "output_type": "display_data"
    },
    {
     "name": "stdout",
     "output_type": "stream",
     "text": [
      "\n"
     ]
    },
    {
     "data": {
      "text/markdown": [
       "### Column(s): \"mean fractal dimension\" AND \"worst fractal dimension\""
      ],
      "text/plain": [
       "<IPython.core.display.Markdown object>"
      ]
     },
     "metadata": {},
     "output_type": "display_data"
    },
    {
     "data": {
      "text/markdown": [
       "**Issue ID**: 46"
      ],
      "text/plain": [
       "<IPython.core.display.Markdown object>"
      ]
     },
     "metadata": {},
     "output_type": "display_data"
    },
    {
     "data": {
      "text/markdown": [
       "A strong pattern, and exceptions to the pattern, were found.<br>"
      ],
      "text/plain": [
       "<IPython.core.display.Markdown object>"
      ]
     },
     "metadata": {},
     "output_type": "display_data"
    },
    {
     "data": {
      "text/markdown": [
       "**Description**: \"mean fractal dimension\" and \"worst fractal dimension\" have consistently similar values in terms of<br>their ratio, with exceptions."
      ],
      "text/plain": [
       "<IPython.core.display.Markdown object>"
      ]
     },
     "metadata": {},
     "output_type": "display_data"
    },
    {
     "data": {
      "text/markdown": [
       "**Number of exceptions**: 2 (0.3515% of rows)"
      ],
      "text/plain": [
       "<IPython.core.display.Markdown object>"
      ]
     },
     "metadata": {},
     "output_type": "display_data"
    },
    {
     "name": "stdout",
     "output_type": "stream",
     "text": [
      "\n"
     ]
    },
    {
     "data": {
      "text/markdown": [
       "**Examples of values NOT flagged**:"
      ],
      "text/plain": [
       "<IPython.core.display.Markdown object>"
      ]
     },
     "metadata": {},
     "output_type": "display_data"
    },
    {
     "data": {
      "text/html": [
       "<div>\n",
       "<style scoped>\n",
       "    .dataframe tbody tr th:only-of-type {\n",
       "        vertical-align: middle;\n",
       "    }\n",
       "\n",
       "    .dataframe tbody tr th {\n",
       "        vertical-align: top;\n",
       "    }\n",
       "\n",
       "    .dataframe thead th {\n",
       "        text-align: right;\n",
       "    }\n",
       "</style>\n",
       "<table border=\"1\" class=\"dataframe\">\n",
       "  <thead>\n",
       "    <tr style=\"text-align: right;\">\n",
       "      <th></th>\n",
       "      <th>mean fractal dimension</th>\n",
       "      <th>worst fractal dimension</th>\n",
       "    </tr>\n",
       "  </thead>\n",
       "  <tbody>\n",
       "    <tr>\n",
       "      <th>38</th>\n",
       "      <td>0.05504</td>\n",
       "      <td>0.05504</td>\n",
       "    </tr>\n",
       "    <tr>\n",
       "      <th>300</th>\n",
       "      <td>0.06552</td>\n",
       "      <td>0.09929</td>\n",
       "    </tr>\n",
       "    <tr>\n",
       "      <th>312</th>\n",
       "      <td>0.06140</td>\n",
       "      <td>0.08253</td>\n",
       "    </tr>\n",
       "    <tr>\n",
       "      <th>347</th>\n",
       "      <td>0.05912</td>\n",
       "      <td>0.08187</td>\n",
       "    </tr>\n",
       "    <tr>\n",
       "      <th>384</th>\n",
       "      <td>0.05594</td>\n",
       "      <td>0.07320</td>\n",
       "    </tr>\n",
       "    <tr>\n",
       "      <th>441</th>\n",
       "      <td>0.05407</td>\n",
       "      <td>0.07944</td>\n",
       "    </tr>\n",
       "    <tr>\n",
       "      <th>459</th>\n",
       "      <td>0.05952</td>\n",
       "      <td>0.07211</td>\n",
       "    </tr>\n",
       "    <tr>\n",
       "      <th>514</th>\n",
       "      <td>0.05915</td>\n",
       "      <td>0.06954</td>\n",
       "    </tr>\n",
       "    <tr>\n",
       "      <th>517</th>\n",
       "      <td>0.06188</td>\n",
       "      <td>0.09136</td>\n",
       "    </tr>\n",
       "    <tr>\n",
       "      <th>540</th>\n",
       "      <td>0.06782</td>\n",
       "      <td>0.08134</td>\n",
       "    </tr>\n",
       "  </tbody>\n",
       "</table>\n",
       "</div>"
      ],
      "text/plain": [
       "     mean fractal dimension  worst fractal dimension\n",
       "38                  0.05504                  0.05504\n",
       "300                 0.06552                  0.09929\n",
       "312                 0.06140                  0.08253\n",
       "347                 0.05912                  0.08187\n",
       "384                 0.05594                  0.07320\n",
       "441                 0.05407                  0.07944\n",
       "459                 0.05952                  0.07211\n",
       "514                 0.05915                  0.06954\n",
       "517                 0.06188                  0.09136\n",
       "540                 0.06782                  0.08134"
      ]
     },
     "metadata": {},
     "output_type": "display_data"
    },
    {
     "name": "stdout",
     "output_type": "stream",
     "text": [
      "\n"
     ]
    },
    {
     "data": {
      "text/markdown": [
       "**Flagged values**:"
      ],
      "text/plain": [
       "<IPython.core.display.Markdown object>"
      ]
     },
     "metadata": {},
     "output_type": "display_data"
    },
    {
     "data": {
      "text/html": [
       "<div>\n",
       "<style scoped>\n",
       "    .dataframe tbody tr th:only-of-type {\n",
       "        vertical-align: middle;\n",
       "    }\n",
       "\n",
       "    .dataframe tbody tr th {\n",
       "        vertical-align: top;\n",
       "    }\n",
       "\n",
       "    .dataframe thead th {\n",
       "        text-align: right;\n",
       "    }\n",
       "</style>\n",
       "<table border=\"1\" class=\"dataframe\">\n",
       "  <thead>\n",
       "    <tr style=\"text-align: right;\">\n",
       "      <th></th>\n",
       "      <th>mean fractal dimension</th>\n",
       "      <th>worst fractal dimension</th>\n",
       "    </tr>\n",
       "  </thead>\n",
       "  <tbody>\n",
       "    <tr>\n",
       "      <th>9</th>\n",
       "      <td>0.08243</td>\n",
       "      <td>0.2075</td>\n",
       "    </tr>\n",
       "    <tr>\n",
       "      <th>72</th>\n",
       "      <td>0.06487</td>\n",
       "      <td>0.1339</td>\n",
       "    </tr>\n",
       "  </tbody>\n",
       "</table>\n",
       "</div>"
      ],
      "text/plain": [
       "    mean fractal dimension  worst fractal dimension\n",
       "9                  0.08243                   0.2075\n",
       "72                 0.06487                   0.1339"
      ]
     },
     "metadata": {},
     "output_type": "display_data"
    },
    {
     "data": {
      "image/png": "[encoded data removed]",
      "text/plain": [
       "<Figure size 360x360 with 1 Axes>"
      ]
     },
     "metadata": {
      "needs_background": "light"
     },
     "output_type": "display_data"
    }
   ],
   "source": [
    "# Look at the SIMILAR_WRT_RATIO test more closely. This found several\n",
    "# patterns without and several with exceptions. \n",
    "\n",
    "dc.display_detailed_results(test_id_list=['SIMILAR_WRT_RATIO'])"
   ]
  },
  {
   "cell_type": "code",
   "execution_count": null,
   "id": "81750386",
   "metadata": {},
   "outputs": [],
   "source": []
  }
 ],
 "metadata": {
  "kernelspec": {
   "display_name": "Python 3 (ipykernel)",
   "language": "python",
   "name": "python3"
  },
  "language_info": {
   "codemirror_mode": {
    "name": "ipython",
    "version": 3
   },
   "file_extension": ".py",
   "mimetype": "text/x-python",
   "name": "python",
   "nbconvert_exporter": "python",
   "pygments_lexer": "ipython3",
   "version": "3.9.6"
  }
 },
 "nbformat": 4,
 "nbformat_minor": 5
}
