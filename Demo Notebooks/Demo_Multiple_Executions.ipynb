{
 "cells": [
  {
   "cell_type": "code",
   "execution_count": 16,
   "id": "f12ac675",
   "metadata": {},
   "outputs": [],
   "source": [
    "import pandas as pd\n",
    "import numpy as np\n",
    "import random\n",
    "import sklearn.datasets as datasets\n",
    "import sys\n",
    "\n",
    "sys.path.insert(1, '..')\n",
    "from check_data_consistency import DataConsistencyChecker"
   ]
  },
  {
   "cell_type": "code",
   "execution_count": 17,
   "id": "a85ba1a0",
   "metadata": {},
   "outputs": [],
   "source": [
    "pd.options.display.max_columns = 1000\n",
    "pd.options.display.max_colwidth = 1000\n",
    "pd.options.display.max_rows = 1000\n",
    "pd.options.display.width = 10000"
   ]
  },
  {
   "cell_type": "code",
   "execution_count": 18,
   "id": "bb774795",
   "metadata": {},
   "outputs": [
    {
     "data": {
      "text/html": [
       "<div>\n",
       "<style scoped>\n",
       "    .dataframe tbody tr th:only-of-type {\n",
       "        vertical-align: middle;\n",
       "    }\n",
       "\n",
       "    .dataframe tbody tr th {\n",
       "        vertical-align: top;\n",
       "    }\n",
       "\n",
       "    .dataframe thead th {\n",
       "        text-align: right;\n",
       "    }\n",
       "</style>\n",
       "<table border=\"1\" class=\"dataframe\">\n",
       "  <thead>\n",
       "    <tr style=\"text-align: right;\">\n",
       "      <th></th>\n",
       "      <th>CRIM</th>\n",
       "      <th>ZN</th>\n",
       "      <th>INDUS</th>\n",
       "      <th>CHAS</th>\n",
       "      <th>NOX</th>\n",
       "      <th>RM</th>\n",
       "      <th>AGE</th>\n",
       "      <th>DIS</th>\n",
       "      <th>RAD</th>\n",
       "      <th>TAX</th>\n",
       "      <th>PTRATIO</th>\n",
       "      <th>B</th>\n",
       "      <th>LSTAT</th>\n",
       "    </tr>\n",
       "  </thead>\n",
       "  <tbody>\n",
       "    <tr>\n",
       "      <th>0</th>\n",
       "      <td>0.00632</td>\n",
       "      <td>18.0</td>\n",
       "      <td>2.31</td>\n",
       "      <td>0.0</td>\n",
       "      <td>0.538</td>\n",
       "      <td>6.575</td>\n",
       "      <td>65.2</td>\n",
       "      <td>4.0900</td>\n",
       "      <td>1.0</td>\n",
       "      <td>296.0</td>\n",
       "      <td>15.3</td>\n",
       "      <td>396.90</td>\n",
       "      <td>4.98</td>\n",
       "    </tr>\n",
       "    <tr>\n",
       "      <th>1</th>\n",
       "      <td>0.02731</td>\n",
       "      <td>0.0</td>\n",
       "      <td>7.07</td>\n",
       "      <td>0.0</td>\n",
       "      <td>0.469</td>\n",
       "      <td>6.421</td>\n",
       "      <td>78.9</td>\n",
       "      <td>4.9671</td>\n",
       "      <td>2.0</td>\n",
       "      <td>242.0</td>\n",
       "      <td>17.8</td>\n",
       "      <td>396.90</td>\n",
       "      <td>9.14</td>\n",
       "    </tr>\n",
       "    <tr>\n",
       "      <th>2</th>\n",
       "      <td>0.02729</td>\n",
       "      <td>0.0</td>\n",
       "      <td>7.07</td>\n",
       "      <td>0.0</td>\n",
       "      <td>0.469</td>\n",
       "      <td>7.185</td>\n",
       "      <td>61.1</td>\n",
       "      <td>4.9671</td>\n",
       "      <td>2.0</td>\n",
       "      <td>242.0</td>\n",
       "      <td>17.8</td>\n",
       "      <td>392.83</td>\n",
       "      <td>4.03</td>\n",
       "    </tr>\n",
       "    <tr>\n",
       "      <th>3</th>\n",
       "      <td>0.03237</td>\n",
       "      <td>0.0</td>\n",
       "      <td>2.18</td>\n",
       "      <td>0.0</td>\n",
       "      <td>0.458</td>\n",
       "      <td>6.998</td>\n",
       "      <td>45.8</td>\n",
       "      <td>6.0622</td>\n",
       "      <td>3.0</td>\n",
       "      <td>222.0</td>\n",
       "      <td>18.7</td>\n",
       "      <td>394.63</td>\n",
       "      <td>2.94</td>\n",
       "    </tr>\n",
       "    <tr>\n",
       "      <th>4</th>\n",
       "      <td>0.06905</td>\n",
       "      <td>0.0</td>\n",
       "      <td>2.18</td>\n",
       "      <td>0.0</td>\n",
       "      <td>0.458</td>\n",
       "      <td>7.147</td>\n",
       "      <td>54.2</td>\n",
       "      <td>6.0622</td>\n",
       "      <td>3.0</td>\n",
       "      <td>222.0</td>\n",
       "      <td>18.7</td>\n",
       "      <td>396.90</td>\n",
       "      <td>5.33</td>\n",
       "    </tr>\n",
       "  </tbody>\n",
       "</table>\n",
       "</div>"
      ],
      "text/plain": [
       "      CRIM    ZN  INDUS  CHAS    NOX     RM   AGE     DIS  RAD    TAX  PTRATIO       B  LSTAT\n",
       "0  0.00632  18.0   2.31   0.0  0.538  6.575  65.2  4.0900  1.0  296.0     15.3  396.90   4.98\n",
       "1  0.02731   0.0   7.07   0.0  0.469  6.421  78.9  4.9671  2.0  242.0     17.8  396.90   9.14\n",
       "2  0.02729   0.0   7.07   0.0  0.469  7.185  61.1  4.9671  2.0  242.0     17.8  392.83   4.03\n",
       "3  0.03237   0.0   2.18   0.0  0.458  6.998  45.8  6.0622  3.0  222.0     18.7  394.63   2.94\n",
       "4  0.06905   0.0   2.18   0.0  0.458  7.147  54.2  6.0622  3.0  222.0     18.7  396.90   5.33"
      ]
     },
     "execution_count": 18,
     "metadata": {},
     "output_type": "execute_result"
    }
   ],
   "source": [
    "data = datasets.load_boston()\n",
    "df = pd.DataFrame(data.data, columns=data.feature_names)\n",
    "df.head()"
   ]
  },
  {
   "cell_type": "code",
   "execution_count": 19,
   "id": "51fef44d",
   "metadata": {},
   "outputs": [],
   "source": [
    "dc = DataConsistencyChecker() \n",
    "dc.init_data(df)"
   ]
  },
  {
   "cell_type": "markdown",
   "id": "49829c64",
   "metadata": {},
   "source": [
    "## Run the SIMILAR_PREVIOUS test"
   ]
  },
  {
   "cell_type": "code",
   "execution_count": 20,
   "id": "0bb50c66",
   "metadata": {},
   "outputs": [
    {
     "name": "stdout",
     "output_type": "stream",
     "text": [
      "Executing test  16: SIMILAR_PREVIOUS              \n",
      "\n",
      "Data consistency check complete.\n",
      "Analysed 506 rows, 13 columns\n",
      "Executed 1 tests.\n",
      "\n",
      "Patterns without Exceptions:\n",
      "Found 1 patterns without exceptions\n",
      "1 tests (100.00% of tests) identified at least one pattern without exceptions each. \n",
      "By default some patterns are not listed in calls to display_detailed_results().\n",
      "\n",
      "Patterns with Exceptions:\n",
      "Found 1 patterns with exceptions\n",
      "1 tests (100.00% of tests) flagged at least one exception each.\n",
      "Flagged 2 row(s) with at least one exception.\n",
      "Flagged 1 column(s) with at least one exception.\n"
     ]
    }
   ],
   "source": [
    "# Run a small set of tests to start. In this example, we run a single test.\n",
    "\n",
    "_ = dc.check_data_quality(execute_list=['SIMILAR_PREVIOUS'])"
   ]
  },
  {
   "cell_type": "code",
   "execution_count": 21,
   "id": "f36d2478",
   "metadata": {},
   "outputs": [
    {
     "data": {
      "text/html": [
       "<div>\n",
       "<style scoped>\n",
       "    .dataframe tbody tr th:only-of-type {\n",
       "        vertical-align: middle;\n",
       "    }\n",
       "\n",
       "    .dataframe tbody tr th {\n",
       "        vertical-align: top;\n",
       "    }\n",
       "\n",
       "    .dataframe thead th {\n",
       "        text-align: right;\n",
       "    }\n",
       "</style>\n",
       "<table border=\"1\" class=\"dataframe\">\n",
       "  <thead>\n",
       "    <tr style=\"text-align: right;\">\n",
       "      <th></th>\n",
       "      <th>Test ID</th>\n",
       "      <th>Number Patterns without Exceptions</th>\n",
       "      <th>Number Patterns with Exceptions</th>\n",
       "    </tr>\n",
       "  </thead>\n",
       "  <tbody>\n",
       "    <tr>\n",
       "      <th>0</th>\n",
       "      <td>SIMILAR_PREVIOUS</td>\n",
       "      <td>1</td>\n",
       "      <td>1</td>\n",
       "    </tr>\n",
       "  </tbody>\n",
       "</table>\n",
       "</div>"
      ],
      "text/plain": [
       "            Test ID  Number Patterns without Exceptions  Number Patterns with Exceptions\n",
       "0  SIMILAR_PREVIOUS                                   1                                1"
      ]
     },
     "execution_count": 21,
     "metadata": {},
     "output_type": "execute_result"
    }
   ],
   "source": [
    "# In the next few cells, we look at the output of the tests. \n",
    "\n",
    "dc.summarize_patterns_and_exceptions()"
   ]
  },
  {
   "cell_type": "code",
   "execution_count": 22,
   "id": "960ca5d1",
   "metadata": {},
   "outputs": [
    {
     "data": {
      "text/html": [
       "<div>\n",
       "<style scoped>\n",
       "    .dataframe tbody tr th:only-of-type {\n",
       "        vertical-align: middle;\n",
       "    }\n",
       "\n",
       "    .dataframe tbody tr th {\n",
       "        vertical-align: top;\n",
       "    }\n",
       "\n",
       "    .dataframe thead th {\n",
       "        text-align: right;\n",
       "    }\n",
       "</style>\n",
       "<table border=\"1\" class=\"dataframe\">\n",
       "  <thead>\n",
       "    <tr style=\"text-align: right;\">\n",
       "      <th></th>\n",
       "      <th>Test ID</th>\n",
       "      <th>Column(s)</th>\n",
       "      <th>Description of Pattern</th>\n",
       "      <th>Pattern ID</th>\n",
       "    </tr>\n",
       "  </thead>\n",
       "  <tbody>\n",
       "    <tr>\n",
       "      <th>0</th>\n",
       "      <td>SIMILAR_PREVIOUS</td>\n",
       "      <td>TAX</td>\n",
       "      <td>The values in \"TAX\" are consistently similar to the previous value, more so than they are similar to the median value of the column (330.0)</td>\n",
       "      <td>0</td>\n",
       "    </tr>\n",
       "  </tbody>\n",
       "</table>\n",
       "</div>"
      ],
      "text/plain": [
       "            Test ID Column(s)                                                                                                                       Description of Pattern  Pattern ID\n",
       "0  SIMILAR_PREVIOUS       TAX  The values in \"TAX\" are consistently similar to the previous value, more so than they are similar to the median value of the column (330.0)           0"
      ]
     },
     "execution_count": 22,
     "metadata": {},
     "output_type": "execute_result"
    }
   ],
   "source": [
    "dc.get_patterns_list()"
   ]
  },
  {
   "cell_type": "code",
   "execution_count": 23,
   "id": "68cdd57d",
   "metadata": {},
   "outputs": [
    {
     "data": {
      "text/html": [
       "<div>\n",
       "<style scoped>\n",
       "    .dataframe tbody tr th:only-of-type {\n",
       "        vertical-align: middle;\n",
       "    }\n",
       "\n",
       "    .dataframe tbody tr th {\n",
       "        vertical-align: top;\n",
       "    }\n",
       "\n",
       "    .dataframe thead th {\n",
       "        text-align: right;\n",
       "    }\n",
       "</style>\n",
       "<table border=\"1\" class=\"dataframe\">\n",
       "  <thead>\n",
       "    <tr style=\"text-align: right;\">\n",
       "      <th></th>\n",
       "      <th>Test ID</th>\n",
       "      <th>Column(s)</th>\n",
       "      <th>Description of Pattern</th>\n",
       "      <th>Number of Exceptions</th>\n",
       "      <th>Issue ID</th>\n",
       "    </tr>\n",
       "  </thead>\n",
       "  <tbody>\n",
       "    <tr>\n",
       "      <th>0</th>\n",
       "      <td>SIMILAR_PREVIOUS</td>\n",
       "      <td>DIS</td>\n",
       "      <td>The values in \"DIS\" are consistently similar to the previous value, more so than they are similar to the median value of the column (3.2074499999999997), with exceptions.</td>\n",
       "      <td>2</td>\n",
       "      <td>0</td>\n",
       "    </tr>\n",
       "  </tbody>\n",
       "</table>\n",
       "</div>"
      ],
      "text/plain": [
       "            Test ID Column(s)                                                                                                                                                      Description of Pattern  Number of Exceptions  Issue ID\n",
       "0  SIMILAR_PREVIOUS       DIS  The values in \"DIS\" are consistently similar to the previous value, more so than they are similar to the median value of the column (3.2074499999999997), with exceptions.                     2         0"
      ]
     },
     "execution_count": 23,
     "metadata": {},
     "output_type": "execute_result"
    }
   ],
   "source": [
    "dc.get_exceptions_list()"
   ]
  },
  {
   "cell_type": "markdown",
   "id": "eea27684",
   "metadata": {},
   "source": [
    "## Run the RARE_DECIMALS test"
   ]
  },
  {
   "cell_type": "code",
   "execution_count": 24,
   "id": "d98d1bb3",
   "metadata": {},
   "outputs": [
    {
     "name": "stdout",
     "output_type": "stream",
     "text": [
      "Executing test  11: RARE_DECIMALS                 \n",
      "\n",
      "Data consistency check complete.\n",
      "Analysed 506 rows, 13 columns\n",
      "Executed 1 tests.\n",
      "\n",
      "Patterns without Exceptions:\n",
      "Found 1 patterns without exceptions\n",
      "1 tests (100.00% of tests) identified at least one pattern without exceptions each. \n",
      "By default some patterns are not listed in calls to display_detailed_results().\n",
      "\n",
      "Patterns with Exceptions:\n",
      "Found 0 patterns with exceptions\n",
      "0 tests (0.00% of tests) flagged at least one exception each.\n",
      "Flagged 0 row(s) with at least one exception.\n",
      "Flagged 0 column(s) with at least one exception.\n"
     ]
    }
   ],
   "source": [
    "# Here we run a second test on the same dataset. \n",
    "\n",
    "_ = dc.check_data_quality(execute_list=['RARE_DECIMALS'])"
   ]
  },
  {
   "cell_type": "code",
   "execution_count": 25,
   "id": "e56a95ef",
   "metadata": {},
   "outputs": [
    {
     "data": {
      "text/html": [
       "<div>\n",
       "<style scoped>\n",
       "    .dataframe tbody tr th:only-of-type {\n",
       "        vertical-align: middle;\n",
       "    }\n",
       "\n",
       "    .dataframe tbody tr th {\n",
       "        vertical-align: top;\n",
       "    }\n",
       "\n",
       "    .dataframe thead th {\n",
       "        text-align: right;\n",
       "    }\n",
       "</style>\n",
       "<table border=\"1\" class=\"dataframe\">\n",
       "  <thead>\n",
       "    <tr style=\"text-align: right;\">\n",
       "      <th></th>\n",
       "      <th>Test ID</th>\n",
       "      <th>Number Patterns without Exceptions</th>\n",
       "      <th>Number Patterns with Exceptions</th>\n",
       "    </tr>\n",
       "  </thead>\n",
       "  <tbody>\n",
       "    <tr>\n",
       "      <th>0</th>\n",
       "      <td>RARE_DECIMALS</td>\n",
       "      <td>1</td>\n",
       "      <td></td>\n",
       "    </tr>\n",
       "  </tbody>\n",
       "</table>\n",
       "</div>"
      ],
      "text/plain": [
       "         Test ID  Number Patterns without Exceptions Number Patterns with Exceptions\n",
       "0  RARE_DECIMALS                                   1                                "
      ]
     },
     "execution_count": 25,
     "metadata": {},
     "output_type": "execute_result"
    }
   ],
   "source": [
    "# By default, calling check_data_quality() again will start fresh, which\n",
    "# is useful where you have a new set of tests you wish to execute. We\n",
    "# see in the next few cells that the RARE_DECIMALS test found no patterns\n",
    "# and one exception. These are shown, but the results of SIMILAR_PREVIOUS\n",
    "# are removed. \n",
    "\n",
    "dc.summarize_patterns_and_exceptions()"
   ]
  },
  {
   "cell_type": "code",
   "execution_count": 26,
   "id": "e0d33354",
   "metadata": {},
   "outputs": [
    {
     "data": {
      "text/html": [
       "<div>\n",
       "<style scoped>\n",
       "    .dataframe tbody tr th:only-of-type {\n",
       "        vertical-align: middle;\n",
       "    }\n",
       "\n",
       "    .dataframe tbody tr th {\n",
       "        vertical-align: top;\n",
       "    }\n",
       "\n",
       "    .dataframe thead th {\n",
       "        text-align: right;\n",
       "    }\n",
       "</style>\n",
       "<table border=\"1\" class=\"dataframe\">\n",
       "  <thead>\n",
       "    <tr style=\"text-align: right;\">\n",
       "      <th></th>\n",
       "      <th>Test ID</th>\n",
       "      <th>Column(s)</th>\n",
       "      <th>Description of Pattern</th>\n",
       "      <th>Pattern ID</th>\n",
       "    </tr>\n",
       "  </thead>\n",
       "  <tbody>\n",
       "    <tr>\n",
       "      <th>0</th>\n",
       "      <td>RARE_DECIMALS</td>\n",
       "      <td>ZN</td>\n",
       "      <td>The column consistently contains values with one of '', '5' after the decimal point</td>\n",
       "      <td>0</td>\n",
       "    </tr>\n",
       "  </tbody>\n",
       "</table>\n",
       "</div>"
      ],
      "text/plain": [
       "         Test ID Column(s)                                                               Description of Pattern  Pattern ID\n",
       "0  RARE_DECIMALS        ZN  The column consistently contains values with one of '', '5' after the decimal point           0"
      ]
     },
     "execution_count": 26,
     "metadata": {},
     "output_type": "execute_result"
    }
   ],
   "source": [
    "dc.get_patterns_list()"
   ]
  },
  {
   "cell_type": "code",
   "execution_count": 27,
   "id": "9f68c49c",
   "metadata": {},
   "outputs": [
    {
     "data": {
      "text/html": [
       "<div>\n",
       "<style scoped>\n",
       "    .dataframe tbody tr th:only-of-type {\n",
       "        vertical-align: middle;\n",
       "    }\n",
       "\n",
       "    .dataframe tbody tr th {\n",
       "        vertical-align: top;\n",
       "    }\n",
       "\n",
       "    .dataframe thead th {\n",
       "        text-align: right;\n",
       "    }\n",
       "</style>\n",
       "<table border=\"1\" class=\"dataframe\">\n",
       "  <thead>\n",
       "    <tr style=\"text-align: right;\">\n",
       "      <th></th>\n",
       "      <th>Test ID</th>\n",
       "      <th>Column(s)</th>\n",
       "      <th>Description of Pattern</th>\n",
       "      <th>Number of Exceptions</th>\n",
       "      <th>Issue ID</th>\n",
       "    </tr>\n",
       "  </thead>\n",
       "  <tbody>\n",
       "  </tbody>\n",
       "</table>\n",
       "</div>"
      ],
      "text/plain": [
       "Empty DataFrame\n",
       "Columns: [Test ID, Column(s), Description of Pattern, Number of Exceptions, Issue ID]\n",
       "Index: []"
      ]
     },
     "execution_count": 27,
     "metadata": {},
     "output_type": "execute_result"
    }
   ],
   "source": [
    "dc.get_exceptions_list()"
   ]
  },
  {
   "cell_type": "markdown",
   "id": "24a1cb2a",
   "metadata": {},
   "source": [
    "## Run both tests again"
   ]
  },
  {
   "cell_type": "code",
   "execution_count": 28,
   "id": "bc66b139",
   "metadata": {},
   "outputs": [
    {
     "name": "stdout",
     "output_type": "stream",
     "text": [
      "Executing test  16: SIMILAR_PREVIOUS              \n",
      "\n",
      "Data consistency check complete.\n",
      "Analysed 506 rows, 13 columns\n",
      "Executed 1 tests.\n",
      "\n",
      "Patterns without Exceptions:\n",
      "Found 1 patterns without exceptions\n",
      "1 tests (100.00% of tests) identified at least one pattern without exceptions each. \n",
      "By default some patterns are not listed in calls to display_detailed_results().\n",
      "\n",
      "Patterns with Exceptions:\n",
      "Found 1 patterns with exceptions\n",
      "1 tests (100.00% of tests) flagged at least one exception each.\n",
      "Flagged 2 row(s) with at least one exception.\n",
      "Flagged 1 column(s) with at least one exception.\n"
     ]
    }
   ],
   "source": [
    "# We repeat the above example, this time combining the results of all tests.\n",
    "\n",
    "_ = dc.check_data_quality(execute_list=['SIMILAR_PREVIOUS'])"
   ]
  },
  {
   "cell_type": "code",
   "execution_count": 29,
   "id": "3dd03c0d",
   "metadata": {},
   "outputs": [
    {
     "data": {
      "text/html": [
       "<div>\n",
       "<style scoped>\n",
       "    .dataframe tbody tr th:only-of-type {\n",
       "        vertical-align: middle;\n",
       "    }\n",
       "\n",
       "    .dataframe tbody tr th {\n",
       "        vertical-align: top;\n",
       "    }\n",
       "\n",
       "    .dataframe thead th {\n",
       "        text-align: right;\n",
       "    }\n",
       "</style>\n",
       "<table border=\"1\" class=\"dataframe\">\n",
       "  <thead>\n",
       "    <tr style=\"text-align: right;\">\n",
       "      <th></th>\n",
       "      <th>Test ID</th>\n",
       "      <th>Number Patterns without Exceptions</th>\n",
       "      <th>Number Patterns with Exceptions</th>\n",
       "    </tr>\n",
       "  </thead>\n",
       "  <tbody>\n",
       "    <tr>\n",
       "      <th>0</th>\n",
       "      <td>SIMILAR_PREVIOUS</td>\n",
       "      <td>1</td>\n",
       "      <td>1</td>\n",
       "    </tr>\n",
       "  </tbody>\n",
       "</table>\n",
       "</div>"
      ],
      "text/plain": [
       "            Test ID  Number Patterns without Exceptions  Number Patterns with Exceptions\n",
       "0  SIMILAR_PREVIOUS                                   1                                1"
      ]
     },
     "execution_count": 29,
     "metadata": {},
     "output_type": "execute_result"
    }
   ],
   "source": [
    "dc.summarize_patterns_and_exceptions()"
   ]
  },
  {
   "cell_type": "code",
   "execution_count": 30,
   "id": "9cd80b06",
   "metadata": {},
   "outputs": [
    {
     "name": "stdout",
     "output_type": "stream",
     "text": [
      "Executing test  11: RARE_DECIMALS                 \n",
      "\n",
      "Data consistency check complete.\n",
      "Analysed 506 rows, 13 columns\n",
      "Executed 1 tests.\n",
      "\n",
      "Patterns without Exceptions:\n",
      "Found 2 patterns without exceptions\n",
      "2 tests (200.00% of tests) identified at least one pattern without exceptions each. \n",
      "By default some patterns are not listed in calls to display_detailed_results().\n",
      "\n",
      "Patterns with Exceptions:\n",
      "Found 1 patterns with exceptions\n",
      "1 tests (100.00% of tests) flagged at least one exception each.\n",
      "Flagged 2 row(s) with at least one exception.\n",
      "Flagged 1 column(s) with at least one exception.\n"
     ]
    }
   ],
   "source": [
    "# Here we set append_results to True, which saves the previous findings, and \n",
    "# appends any results from the current set of tests. \n",
    "\n",
    "_ = dc.check_data_quality(execute_list=['RARE_DECIMALS'], append_results=True)"
   ]
  },
  {
   "cell_type": "code",
   "execution_count": 31,
   "id": "f38db0e2",
   "metadata": {},
   "outputs": [
    {
     "data": {
      "text/html": [
       "<div>\n",
       "<style scoped>\n",
       "    .dataframe tbody tr th:only-of-type {\n",
       "        vertical-align: middle;\n",
       "    }\n",
       "\n",
       "    .dataframe tbody tr th {\n",
       "        vertical-align: top;\n",
       "    }\n",
       "\n",
       "    .dataframe thead th {\n",
       "        text-align: right;\n",
       "    }\n",
       "</style>\n",
       "<table border=\"1\" class=\"dataframe\">\n",
       "  <thead>\n",
       "    <tr style=\"text-align: right;\">\n",
       "      <th></th>\n",
       "      <th>Test ID</th>\n",
       "      <th>Number Patterns without Exceptions</th>\n",
       "      <th>Number Patterns with Exceptions</th>\n",
       "    </tr>\n",
       "  </thead>\n",
       "  <tbody>\n",
       "    <tr>\n",
       "      <th>0</th>\n",
       "      <td>RARE_DECIMALS</td>\n",
       "      <td>1</td>\n",
       "      <td></td>\n",
       "    </tr>\n",
       "    <tr>\n",
       "      <th>1</th>\n",
       "      <td>SIMILAR_PREVIOUS</td>\n",
       "      <td>1</td>\n",
       "      <td>1</td>\n",
       "    </tr>\n",
       "  </tbody>\n",
       "</table>\n",
       "</div>"
      ],
      "text/plain": [
       "            Test ID  Number Patterns without Exceptions Number Patterns with Exceptions\n",
       "0     RARE_DECIMALS                                   1                                \n",
       "1  SIMILAR_PREVIOUS                                   1                               1"
      ]
     },
     "execution_count": 31,
     "metadata": {},
     "output_type": "execute_result"
    }
   ],
   "source": [
    "dc.summarize_patterns_and_exceptions()"
   ]
  },
  {
   "cell_type": "code",
   "execution_count": 33,
   "id": "d42c5325",
   "metadata": {},
   "outputs": [
    {
     "data": {
      "text/html": [
       "<div>\n",
       "<style scoped>\n",
       "    .dataframe tbody tr th:only-of-type {\n",
       "        vertical-align: middle;\n",
       "    }\n",
       "\n",
       "    .dataframe tbody tr th {\n",
       "        vertical-align: top;\n",
       "    }\n",
       "\n",
       "    .dataframe thead th {\n",
       "        text-align: right;\n",
       "    }\n",
       "</style>\n",
       "<table border=\"1\" class=\"dataframe\">\n",
       "  <thead>\n",
       "    <tr style=\"text-align: right;\">\n",
       "      <th></th>\n",
       "      <th>Test ID</th>\n",
       "      <th>Column(s)</th>\n",
       "      <th>Description of Pattern</th>\n",
       "      <th>Pattern ID</th>\n",
       "    </tr>\n",
       "  </thead>\n",
       "  <tbody>\n",
       "    <tr>\n",
       "      <th>0</th>\n",
       "      <td>SIMILAR_PREVIOUS</td>\n",
       "      <td>TAX</td>\n",
       "      <td>The values in \"TAX\" are consistently similar to the previous value, more so than they are similar to the median value of the column (330.0)</td>\n",
       "      <td>0</td>\n",
       "    </tr>\n",
       "    <tr>\n",
       "      <th>1</th>\n",
       "      <td>RARE_DECIMALS</td>\n",
       "      <td>ZN</td>\n",
       "      <td>The column consistently contains values with one of '', '5' after the decimal point</td>\n",
       "      <td>1</td>\n",
       "    </tr>\n",
       "  </tbody>\n",
       "</table>\n",
       "</div>"
      ],
      "text/plain": [
       "            Test ID Column(s)                                                                                                                       Description of Pattern  Pattern ID\n",
       "0  SIMILAR_PREVIOUS       TAX  The values in \"TAX\" are consistently similar to the previous value, more so than they are similar to the median value of the column (330.0)           0\n",
       "1     RARE_DECIMALS        ZN                                                          The column consistently contains values with one of '', '5' after the decimal point           1"
      ]
     },
     "execution_count": 33,
     "metadata": {},
     "output_type": "execute_result"
    }
   ],
   "source": [
    "dc.get_patterns_list()"
   ]
  },
  {
   "cell_type": "code",
   "execution_count": null,
   "id": "d36966ce",
   "metadata": {},
   "outputs": [],
   "source": []
  }
 ],
 "metadata": {
  "kernelspec": {
   "display_name": "Python 3 (ipykernel)",
   "language": "python",
   "name": "python3"
  },
  "language_info": {
   "codemirror_mode": {
    "name": "ipython",
    "version": 3
   },
   "file_extension": ".py",
   "mimetype": "text/x-python",
   "name": "python",
   "nbconvert_exporter": "python",
   "pygments_lexer": "ipython3",
   "version": "3.9.6"
  }
 },
 "nbformat": 4,
 "nbformat_minor": 5
}
