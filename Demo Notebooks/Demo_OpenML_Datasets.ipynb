{
 "cells": [
  {
   "cell_type": "code",
   "execution_count": 1,
   "id": "b6b3b45a",
   "metadata": {},
   "outputs": [],
   "source": [
    "import pandas as pd\n",
    "import numpy as np\n",
    "from sklearn.datasets import fetch_openml\n",
    "import sys\n",
    "\n",
    "sys.path.insert(1, '..')\n",
    "from check_data_consistency import DataConsistencyChecker"
   ]
  },
  {
   "cell_type": "code",
   "execution_count": 2,
   "id": "40cfaa80",
   "metadata": {},
   "outputs": [],
   "source": [
    "# This notebook provides some examples of patterns and discovered in datasets\n",
    "# on OpenML. For most datasets, at least one pattern of some interest can usually\n",
    "# be found. In some cases, we include two or more here, but we mostly stick to\n",
    "# one to keep the size of the notebook down, because not all patterns found\n",
    "# are interesting, some are similar to other patterns, and the number of patterns\n",
    "# found that are interesting is quite large. \n",
    "\n",
    "# We limit each test to one example as well. "
   ]
  },
  {
   "cell_type": "code",
   "execution_count": 3,
   "id": "3d9e360f",
   "metadata": {},
   "outputs": [],
   "source": [
    "def demo_test(filename, test_id_arr, issue_id_arr=None):\n",
    "    \n",
    "    # Load the data\n",
    "    data = fetch_openml(filename, version=1)\n",
    "    df = pd.DataFrame(data.data, columns=data.feature_names)\n",
    "    display(df.head())\n",
    "    \n",
    "    # Run DataConsistencyChecker with default parameters, other than verbose=0\n",
    "    # to skip printing the test IDs as the tests exectute. \n",
    "    dc = DataConsistencyChecker(verbose=0)  \n",
    "    dc.init_data(df)\n",
    "    _ = dc.check_data_quality(execute_list=test_id_arr)\n",
    "    \n",
    "    # If specific issues are specified, list only these.\n",
    "    if issue_id_arr is not None:\n",
    "        dc.display_detailed_results(issue_id_list=issue_id_arr)\n",
    "    else:\n",
    "        dc.display_detailed_results(test_id_list=test_id_arr)"
   ]
  },
  {
   "cell_type": "code",
   "execution_count": null,
   "id": "432eb0ac",
   "metadata": {
    "scrolled": true
   },
   "outputs": [],
   "source": [
    "demo_test(\"abalone\", test_id_arr=['LARGER_THAN_SUM', 'LARGER', 'SIMILAR_WRT_RATIO'], issue_id_arr=[9, 0, 1, 2, 8])"
   ]
  },
  {
   "cell_type": "code",
   "execution_count": null,
   "id": "c2a55dbc",
   "metadata": {
    "scrolled": true
   },
   "outputs": [],
   "source": [
    "demo_test(\"adult\", test_id_arr=['LARGE_GIVEN_PAIR'], issue_id_arr=[15])"
   ]
  },
  {
   "cell_type": "code",
   "execution_count": null,
   "id": "5a78e950",
   "metadata": {
    "scrolled": true
   },
   "outputs": [],
   "source": [
    "demo_test(\"musk\", test_id_arr=['LARGE_GIVEN_PREFIX', 'LINEAR_REGRESSION'])"
   ]
  },
  {
   "cell_type": "code",
   "execution_count": 4,
   "id": "84f62ae2",
   "metadata": {
    "scrolled": false
   },
   "outputs": [
    {
     "data": {
      "text/html": [
       "<div>\n",
       "<style scoped>\n",
       "    .dataframe tbody tr th:only-of-type {\n",
       "        vertical-align: middle;\n",
       "    }\n",
       "\n",
       "    .dataframe tbody tr th {\n",
       "        vertical-align: top;\n",
       "    }\n",
       "\n",
       "    .dataframe thead th {\n",
       "        text-align: right;\n",
       "    }\n",
       "</style>\n",
       "<table border=\"1\" class=\"dataframe\">\n",
       "  <thead>\n",
       "    <tr style=\"text-align: right;\">\n",
       "      <th></th>\n",
       "      <th>V1</th>\n",
       "      <th>V2</th>\n",
       "      <th>V3</th>\n",
       "      <th>V4</th>\n",
       "      <th>V5</th>\n",
       "      <th>V6</th>\n",
       "      <th>V7</th>\n",
       "      <th>V8</th>\n",
       "      <th>V9</th>\n",
       "      <th>V10</th>\n",
       "      <th>...</th>\n",
       "      <th>V24</th>\n",
       "      <th>V25</th>\n",
       "      <th>V26</th>\n",
       "      <th>V27</th>\n",
       "      <th>V28</th>\n",
       "      <th>V29</th>\n",
       "      <th>V30</th>\n",
       "      <th>V31</th>\n",
       "      <th>V32</th>\n",
       "      <th>V33</th>\n",
       "    </tr>\n",
       "  </thead>\n",
       "  <tbody>\n",
       "    <tr>\n",
       "      <th>0</th>\n",
       "      <td>42.0</td>\n",
       "      <td>50.0</td>\n",
       "      <td>270900.0</td>\n",
       "      <td>270944.0</td>\n",
       "      <td>267.0</td>\n",
       "      <td>17.0</td>\n",
       "      <td>44.0</td>\n",
       "      <td>24220.0</td>\n",
       "      <td>76.0</td>\n",
       "      <td>108.0</td>\n",
       "      <td>...</td>\n",
       "      <td>1.6435</td>\n",
       "      <td>0.8182</td>\n",
       "      <td>-0.2913</td>\n",
       "      <td>0.5822</td>\n",
       "      <td>1.0</td>\n",
       "      <td>0.0</td>\n",
       "      <td>0.0</td>\n",
       "      <td>0.0</td>\n",
       "      <td>0.0</td>\n",
       "      <td>0.0</td>\n",
       "    </tr>\n",
       "    <tr>\n",
       "      <th>1</th>\n",
       "      <td>645.0</td>\n",
       "      <td>651.0</td>\n",
       "      <td>2538079.0</td>\n",
       "      <td>2538108.0</td>\n",
       "      <td>108.0</td>\n",
       "      <td>10.0</td>\n",
       "      <td>30.0</td>\n",
       "      <td>11397.0</td>\n",
       "      <td>84.0</td>\n",
       "      <td>123.0</td>\n",
       "      <td>...</td>\n",
       "      <td>1.4624</td>\n",
       "      <td>0.7931</td>\n",
       "      <td>-0.1756</td>\n",
       "      <td>0.2984</td>\n",
       "      <td>1.0</td>\n",
       "      <td>0.0</td>\n",
       "      <td>0.0</td>\n",
       "      <td>0.0</td>\n",
       "      <td>0.0</td>\n",
       "      <td>0.0</td>\n",
       "    </tr>\n",
       "    <tr>\n",
       "      <th>2</th>\n",
       "      <td>829.0</td>\n",
       "      <td>835.0</td>\n",
       "      <td>1553913.0</td>\n",
       "      <td>1553931.0</td>\n",
       "      <td>71.0</td>\n",
       "      <td>8.0</td>\n",
       "      <td>19.0</td>\n",
       "      <td>7972.0</td>\n",
       "      <td>99.0</td>\n",
       "      <td>125.0</td>\n",
       "      <td>...</td>\n",
       "      <td>1.2553</td>\n",
       "      <td>0.6667</td>\n",
       "      <td>-0.1228</td>\n",
       "      <td>0.2150</td>\n",
       "      <td>1.0</td>\n",
       "      <td>0.0</td>\n",
       "      <td>0.0</td>\n",
       "      <td>0.0</td>\n",
       "      <td>0.0</td>\n",
       "      <td>0.0</td>\n",
       "    </tr>\n",
       "    <tr>\n",
       "      <th>3</th>\n",
       "      <td>853.0</td>\n",
       "      <td>860.0</td>\n",
       "      <td>369370.0</td>\n",
       "      <td>369415.0</td>\n",
       "      <td>176.0</td>\n",
       "      <td>13.0</td>\n",
       "      <td>45.0</td>\n",
       "      <td>18996.0</td>\n",
       "      <td>99.0</td>\n",
       "      <td>126.0</td>\n",
       "      <td>...</td>\n",
       "      <td>1.6532</td>\n",
       "      <td>0.8444</td>\n",
       "      <td>-0.1568</td>\n",
       "      <td>0.5212</td>\n",
       "      <td>1.0</td>\n",
       "      <td>0.0</td>\n",
       "      <td>0.0</td>\n",
       "      <td>0.0</td>\n",
       "      <td>0.0</td>\n",
       "      <td>0.0</td>\n",
       "    </tr>\n",
       "    <tr>\n",
       "      <th>4</th>\n",
       "      <td>1289.0</td>\n",
       "      <td>1306.0</td>\n",
       "      <td>498078.0</td>\n",
       "      <td>498335.0</td>\n",
       "      <td>2409.0</td>\n",
       "      <td>60.0</td>\n",
       "      <td>260.0</td>\n",
       "      <td>246930.0</td>\n",
       "      <td>37.0</td>\n",
       "      <td>126.0</td>\n",
       "      <td>...</td>\n",
       "      <td>2.4099</td>\n",
       "      <td>0.9338</td>\n",
       "      <td>-0.1992</td>\n",
       "      <td>1.0000</td>\n",
       "      <td>1.0</td>\n",
       "      <td>0.0</td>\n",
       "      <td>0.0</td>\n",
       "      <td>0.0</td>\n",
       "      <td>0.0</td>\n",
       "      <td>0.0</td>\n",
       "    </tr>\n",
       "  </tbody>\n",
       "</table>\n",
       "<p>5 rows × 33 columns</p>\n",
       "</div>"
      ],
      "text/plain": [
       "       V1      V2         V3         V4      V5    V6     V7        V8    V9  \\\n",
       "0    42.0    50.0   270900.0   270944.0   267.0  17.0   44.0   24220.0  76.0   \n",
       "1   645.0   651.0  2538079.0  2538108.0   108.0  10.0   30.0   11397.0  84.0   \n",
       "2   829.0   835.0  1553913.0  1553931.0    71.0   8.0   19.0    7972.0  99.0   \n",
       "3   853.0   860.0   369370.0   369415.0   176.0  13.0   45.0   18996.0  99.0   \n",
       "4  1289.0  1306.0   498078.0   498335.0  2409.0  60.0  260.0  246930.0  37.0   \n",
       "\n",
       "     V10  ...     V24     V25     V26     V27  V28  V29  V30  V31  V32  V33  \n",
       "0  108.0  ...  1.6435  0.8182 -0.2913  0.5822  1.0  0.0  0.0  0.0  0.0  0.0  \n",
       "1  123.0  ...  1.4624  0.7931 -0.1756  0.2984  1.0  0.0  0.0  0.0  0.0  0.0  \n",
       "2  125.0  ...  1.2553  0.6667 -0.1228  0.2150  1.0  0.0  0.0  0.0  0.0  0.0  \n",
       "3  126.0  ...  1.6532  0.8444 -0.1568  0.5212  1.0  0.0  0.0  0.0  0.0  0.0  \n",
       "4  126.0  ...  2.4099  0.9338 -0.1992  1.0000  1.0  0.0  0.0  0.0  0.0  0.0  \n",
       "\n",
       "[5 rows x 33 columns]"
      ]
     },
     "metadata": {},
     "output_type": "display_data"
    },
    {
     "name": "stdout",
     "output_type": "stream",
     "text": [
      "\n",
      "Data consistency check complete.\n",
      "Analysed 1,941 rows, 33 columns\n",
      "Executed 3 tests.\n",
      "\n",
      "Patterns without Exceptions:\n",
      "Found 3 patterns without exceptions\n",
      "2 tests (66.67% of tests) identified at least one pattern without exceptions each. \n",
      "By default some patterns are not listed in calls to display_detailed_results().\n",
      "\n",
      "Patterns with Exceptions:\n",
      "Found 2 patterns with exceptions\n",
      "1 tests (33.33% of tests) flagged at least one exception each.\n",
      "Flagged 1 row(s) with at least one exception.\n",
      "Flagged 3 column(s) with at least one exception.\n",
      "\n"
     ]
    },
    {
     "data": {
      "text/markdown": [
       "Displaying results for tests: 'RARE_PAIRS', 'CONSTANT_RATIO', 'DECISION_TREE_CLASSIFIER'"
      ],
      "text/plain": [
       "<IPython.core.display.Markdown object>"
      ]
     },
     "metadata": {},
     "output_type": "display_data"
    },
    {
     "data": {
      "text/markdown": [
       "### RARE_PAIRS"
      ],
      "text/plain": [
       "<IPython.core.display.Markdown object>"
      ]
     },
     "metadata": {},
     "output_type": "display_data"
    },
    {
     "name": "stdout",
     "output_type": "stream",
     "text": [
      "\n"
     ]
    },
    {
     "data": {
      "text/markdown": [
       "### Column(s): \"V12\" AND \"V30\""
      ],
      "text/plain": [
       "<IPython.core.display.Markdown object>"
      ]
     },
     "metadata": {},
     "output_type": "display_data"
    },
    {
     "data": {
      "text/markdown": [
       "**Issue ID**: 0"
      ],
      "text/plain": [
       "<IPython.core.display.Markdown object>"
      ]
     },
     "metadata": {},
     "output_type": "display_data"
    },
    {
     "data": {
      "text/markdown": [
       "A strong pattern, and exceptions to the pattern, were found.\n"
      ],
      "text/plain": [
       "<IPython.core.display.Markdown object>"
      ]
     },
     "metadata": {},
     "output_type": "display_data"
    },
    {
     "data": {
      "text/markdown": [
       "**Description**: Rare combinations of values were found, [(1.0, 1.0)]."
      ],
      "text/plain": [
       "<IPython.core.display.Markdown object>"
      ]
     },
     "metadata": {},
     "output_type": "display_data"
    },
    {
     "data": {
      "text/markdown": [
       "**Number of exceptions**: 1 (0.0515% of rows)"
      ],
      "text/plain": [
       "<IPython.core.display.Markdown object>"
      ]
     },
     "metadata": {},
     "output_type": "display_data"
    },
    {
     "name": "stdout",
     "output_type": "stream",
     "text": [
      "\n"
     ]
    },
    {
     "data": {
      "text/markdown": [
       "**Examples of values NOT flagged**:"
      ],
      "text/plain": [
       "<IPython.core.display.Markdown object>"
      ]
     },
     "metadata": {},
     "output_type": "display_data"
    },
    {
     "data": {
      "text/html": [
       "<div>\n",
       "<style scoped>\n",
       "    .dataframe tbody tr th:only-of-type {\n",
       "        vertical-align: middle;\n",
       "    }\n",
       "\n",
       "    .dataframe tbody tr th {\n",
       "        vertical-align: top;\n",
       "    }\n",
       "\n",
       "    .dataframe thead th {\n",
       "        text-align: right;\n",
       "    }\n",
       "</style>\n",
       "<table border=\"1\" class=\"dataframe\">\n",
       "  <thead>\n",
       "    <tr style=\"text-align: right;\">\n",
       "      <th></th>\n",
       "      <th>V12</th>\n",
       "      <th>V30</th>\n",
       "    </tr>\n",
       "  </thead>\n",
       "  <tbody>\n",
       "    <tr>\n",
       "      <th>148</th>\n",
       "      <td>0.0</td>\n",
       "      <td>0.0</td>\n",
       "    </tr>\n",
       "    <tr>\n",
       "      <th>215</th>\n",
       "      <td>1.0</td>\n",
       "      <td>0.0</td>\n",
       "    </tr>\n",
       "    <tr>\n",
       "      <th>437</th>\n",
       "      <td>0.0</td>\n",
       "      <td>1.0</td>\n",
       "    </tr>\n",
       "    <tr>\n",
       "      <th>705</th>\n",
       "      <td>0.0</td>\n",
       "      <td>1.0</td>\n",
       "    </tr>\n",
       "    <tr>\n",
       "      <th>727</th>\n",
       "      <td>0.0</td>\n",
       "      <td>1.0</td>\n",
       "    </tr>\n",
       "    <tr>\n",
       "      <th>769</th>\n",
       "      <td>0.0</td>\n",
       "      <td>0.0</td>\n",
       "    </tr>\n",
       "    <tr>\n",
       "      <th>814</th>\n",
       "      <td>0.0</td>\n",
       "      <td>0.0</td>\n",
       "    </tr>\n",
       "    <tr>\n",
       "      <th>1159</th>\n",
       "      <td>1.0</td>\n",
       "      <td>0.0</td>\n",
       "    </tr>\n",
       "    <tr>\n",
       "      <th>1424</th>\n",
       "      <td>1.0</td>\n",
       "      <td>0.0</td>\n",
       "    </tr>\n",
       "    <tr>\n",
       "      <th>1611</th>\n",
       "      <td>1.0</td>\n",
       "      <td>0.0</td>\n",
       "    </tr>\n",
       "  </tbody>\n",
       "</table>\n",
       "</div>"
      ],
      "text/plain": [
       "      V12  V30\n",
       "148   0.0  0.0\n",
       "215   1.0  0.0\n",
       "437   0.0  1.0\n",
       "705   0.0  1.0\n",
       "727   0.0  1.0\n",
       "769   0.0  0.0\n",
       "814   0.0  0.0\n",
       "1159  1.0  0.0\n",
       "1424  1.0  0.0\n",
       "1611  1.0  0.0"
      ]
     },
     "metadata": {},
     "output_type": "display_data"
    },
    {
     "name": "stdout",
     "output_type": "stream",
     "text": [
      "\n"
     ]
    },
    {
     "data": {
      "text/markdown": [
       "**Flagged values**:"
      ],
      "text/plain": [
       "<IPython.core.display.Markdown object>"
      ]
     },
     "metadata": {},
     "output_type": "display_data"
    },
    {
     "data": {
      "text/html": [
       "<div>\n",
       "<style scoped>\n",
       "    .dataframe tbody tr th:only-of-type {\n",
       "        vertical-align: middle;\n",
       "    }\n",
       "\n",
       "    .dataframe tbody tr th {\n",
       "        vertical-align: top;\n",
       "    }\n",
       "\n",
       "    .dataframe thead th {\n",
       "        text-align: right;\n",
       "    }\n",
       "</style>\n",
       "<table border=\"1\" class=\"dataframe\">\n",
       "  <thead>\n",
       "    <tr style=\"text-align: right;\">\n",
       "      <th></th>\n",
       "      <th>V12</th>\n",
       "      <th>V30</th>\n",
       "    </tr>\n",
       "  </thead>\n",
       "  <tbody>\n",
       "    <tr>\n",
       "      <th>390</th>\n",
       "      <td>1.0</td>\n",
       "      <td>1.0</td>\n",
       "    </tr>\n",
       "  </tbody>\n",
       "</table>\n",
       "</div>"
      ],
      "text/plain": [
       "     V12  V30\n",
       "390  1.0  1.0"
      ]
     },
     "metadata": {},
     "output_type": "display_data"
    },
    {
     "data": {
      "image/png": "[encoded data removed]",
      "text/plain": [
       "<Figure size 288x288 with 2 Axes>"
      ]
     },
     "metadata": {
      "needs_background": "light"
     },
     "output_type": "display_data"
    },
    {
     "name": "stdout",
     "output_type": "stream",
     "text": [
      "\n"
     ]
    },
    {
     "data": {
      "text/markdown": [
       "### Column(s): \"V13\" AND \"V30\""
      ],
      "text/plain": [
       "<IPython.core.display.Markdown object>"
      ]
     },
     "metadata": {},
     "output_type": "display_data"
    },
    {
     "data": {
      "text/markdown": [
       "**Issue ID**: 1"
      ],
      "text/plain": [
       "<IPython.core.display.Markdown object>"
      ]
     },
     "metadata": {},
     "output_type": "display_data"
    },
    {
     "data": {
      "text/markdown": [
       "A strong pattern, and exceptions to the pattern, were found.\n"
      ],
      "text/plain": [
       "<IPython.core.display.Markdown object>"
      ]
     },
     "metadata": {},
     "output_type": "display_data"
    },
    {
     "data": {
      "text/markdown": [
       "**Description**: Rare combinations of values were found, [(0.0, 1.0)]."
      ],
      "text/plain": [
       "<IPython.core.display.Markdown object>"
      ]
     },
     "metadata": {},
     "output_type": "display_data"
    },
    {
     "data": {
      "text/markdown": [
       "**Number of exceptions**: 1 (0.0515% of rows)"
      ],
      "text/plain": [
       "<IPython.core.display.Markdown object>"
      ]
     },
     "metadata": {},
     "output_type": "display_data"
    },
    {
     "name": "stdout",
     "output_type": "stream",
     "text": [
      "\n"
     ]
    },
    {
     "data": {
      "text/markdown": [
       "**Examples of values NOT flagged**:"
      ],
      "text/plain": [
       "<IPython.core.display.Markdown object>"
      ]
     },
     "metadata": {},
     "output_type": "display_data"
    },
    {
     "data": {
      "text/html": [
       "<div>\n",
       "<style scoped>\n",
       "    .dataframe tbody tr th:only-of-type {\n",
       "        vertical-align: middle;\n",
       "    }\n",
       "\n",
       "    .dataframe tbody tr th {\n",
       "        vertical-align: top;\n",
       "    }\n",
       "\n",
       "    .dataframe thead th {\n",
       "        text-align: right;\n",
       "    }\n",
       "</style>\n",
       "<table border=\"1\" class=\"dataframe\">\n",
       "  <thead>\n",
       "    <tr style=\"text-align: right;\">\n",
       "      <th></th>\n",
       "      <th>V13</th>\n",
       "      <th>V30</th>\n",
       "    </tr>\n",
       "  </thead>\n",
       "  <tbody>\n",
       "    <tr>\n",
       "      <th>148</th>\n",
       "      <td>1.0</td>\n",
       "      <td>0.0</td>\n",
       "    </tr>\n",
       "    <tr>\n",
       "      <th>215</th>\n",
       "      <td>0.0</td>\n",
       "      <td>0.0</td>\n",
       "    </tr>\n",
       "    <tr>\n",
       "      <th>437</th>\n",
       "      <td>1.0</td>\n",
       "      <td>1.0</td>\n",
       "    </tr>\n",
       "    <tr>\n",
       "      <th>705</th>\n",
       "      <td>1.0</td>\n",
       "      <td>1.0</td>\n",
       "    </tr>\n",
       "    <tr>\n",
       "      <th>727</th>\n",
       "      <td>1.0</td>\n",
       "      <td>1.0</td>\n",
       "    </tr>\n",
       "    <tr>\n",
       "      <th>769</th>\n",
       "      <td>1.0</td>\n",
       "      <td>0.0</td>\n",
       "    </tr>\n",
       "    <tr>\n",
       "      <th>814</th>\n",
       "      <td>1.0</td>\n",
       "      <td>0.0</td>\n",
       "    </tr>\n",
       "    <tr>\n",
       "      <th>1159</th>\n",
       "      <td>0.0</td>\n",
       "      <td>0.0</td>\n",
       "    </tr>\n",
       "    <tr>\n",
       "      <th>1424</th>\n",
       "      <td>0.0</td>\n",
       "      <td>0.0</td>\n",
       "    </tr>\n",
       "    <tr>\n",
       "      <th>1611</th>\n",
       "      <td>0.0</td>\n",
       "      <td>0.0</td>\n",
       "    </tr>\n",
       "  </tbody>\n",
       "</table>\n",
       "</div>"
      ],
      "text/plain": [
       "      V13  V30\n",
       "148   1.0  0.0\n",
       "215   0.0  0.0\n",
       "437   1.0  1.0\n",
       "705   1.0  1.0\n",
       "727   1.0  1.0\n",
       "769   1.0  0.0\n",
       "814   1.0  0.0\n",
       "1159  0.0  0.0\n",
       "1424  0.0  0.0\n",
       "1611  0.0  0.0"
      ]
     },
     "metadata": {},
     "output_type": "display_data"
    },
    {
     "name": "stdout",
     "output_type": "stream",
     "text": [
      "\n"
     ]
    },
    {
     "data": {
      "text/markdown": [
       "**Flagged values**:"
      ],
      "text/plain": [
       "<IPython.core.display.Markdown object>"
      ]
     },
     "metadata": {},
     "output_type": "display_data"
    },
    {
     "data": {
      "text/html": [
       "<div>\n",
       "<style scoped>\n",
       "    .dataframe tbody tr th:only-of-type {\n",
       "        vertical-align: middle;\n",
       "    }\n",
       "\n",
       "    .dataframe tbody tr th {\n",
       "        vertical-align: top;\n",
       "    }\n",
       "\n",
       "    .dataframe thead th {\n",
       "        text-align: right;\n",
       "    }\n",
       "</style>\n",
       "<table border=\"1\" class=\"dataframe\">\n",
       "  <thead>\n",
       "    <tr style=\"text-align: right;\">\n",
       "      <th></th>\n",
       "      <th>V13</th>\n",
       "      <th>V30</th>\n",
       "    </tr>\n",
       "  </thead>\n",
       "  <tbody>\n",
       "    <tr>\n",
       "      <th>390</th>\n",
       "      <td>0.0</td>\n",
       "      <td>1.0</td>\n",
       "    </tr>\n",
       "  </tbody>\n",
       "</table>\n",
       "</div>"
      ],
      "text/plain": [
       "     V13  V30\n",
       "390  0.0  1.0"
      ]
     },
     "metadata": {},
     "output_type": "display_data"
    },
    {
     "data": {
      "image/png": "[encoded data removed]",
      "text/plain": [
       "<Figure size 288x288 with 2 Axes>"
      ]
     },
     "metadata": {
      "needs_background": "light"
     },
     "output_type": "display_data"
    },
    {
     "data": {
      "text/markdown": [
       "### CONSTANT_RATIO"
      ],
      "text/plain": [
       "<IPython.core.display.Markdown object>"
      ]
     },
     "metadata": {},
     "output_type": "display_data"
    },
    {
     "name": "stdout",
     "output_type": "stream",
     "text": [
      "\n"
     ]
    },
    {
     "data": {
      "text/markdown": [
       "### Column(s): \"V3\" AND \"V4\""
      ],
      "text/plain": [
       "<IPython.core.display.Markdown object>"
      ]
     },
     "metadata": {},
     "output_type": "display_data"
    },
    {
     "data": {
      "text/markdown": [
       "Pattern found (without exceptions)"
      ],
      "text/plain": [
       "<IPython.core.display.Markdown object>"
      ]
     },
     "metadata": {},
     "output_type": "display_data"
    },
    {
     "name": "stdout",
     "output_type": "stream",
     "text": [
      "\n"
     ]
    },
    {
     "data": {
      "text/markdown": [
       "**Description**:"
      ],
      "text/plain": [
       "<IPython.core.display.Markdown object>"
      ]
     },
     "metadata": {},
     "output_type": "display_data"
    },
    {
     "name": "stdout",
     "output_type": "stream",
     "text": [
      "The ratio of \"V3\" and \"V4\" is consistently close to 0.9999758472643326\n",
      "\n"
     ]
    },
    {
     "data": {
      "text/markdown": [
       "**Examples**:"
      ],
      "text/plain": [
       "<IPython.core.display.Markdown object>"
      ]
     },
     "metadata": {},
     "output_type": "display_data"
    },
    {
     "data": {
      "text/html": [
       "<div>\n",
       "<style scoped>\n",
       "    .dataframe tbody tr th:only-of-type {\n",
       "        vertical-align: middle;\n",
       "    }\n",
       "\n",
       "    .dataframe tbody tr th {\n",
       "        vertical-align: top;\n",
       "    }\n",
       "\n",
       "    .dataframe thead th {\n",
       "        text-align: right;\n",
       "    }\n",
       "</style>\n",
       "<table border=\"1\" class=\"dataframe\">\n",
       "  <thead>\n",
       "    <tr style=\"text-align: right;\">\n",
       "      <th></th>\n",
       "      <th>V3</th>\n",
       "      <th>V4</th>\n",
       "      <th>DIVISION RESULTS</th>\n",
       "    </tr>\n",
       "  </thead>\n",
       "  <tbody>\n",
       "    <tr>\n",
       "      <th>148</th>\n",
       "      <td>12917033.0</td>\n",
       "      <td>12917094.0</td>\n",
       "      <td>0.999995</td>\n",
       "    </tr>\n",
       "    <tr>\n",
       "      <th>215</th>\n",
       "      <td>923170.0</td>\n",
       "      <td>923211.0</td>\n",
       "      <td>0.999956</td>\n",
       "    </tr>\n",
       "    <tr>\n",
       "      <th>436</th>\n",
       "      <td>1206989.0</td>\n",
       "      <td>1207040.0</td>\n",
       "      <td>0.999958</td>\n",
       "    </tr>\n",
       "    <tr>\n",
       "      <th>704</th>\n",
       "      <td>4401486.0</td>\n",
       "      <td>4401544.0</td>\n",
       "      <td>0.999987</td>\n",
       "    </tr>\n",
       "    <tr>\n",
       "      <th>726</th>\n",
       "      <td>115072.0</td>\n",
       "      <td>115195.0</td>\n",
       "      <td>0.998932</td>\n",
       "    </tr>\n",
       "    <tr>\n",
       "      <th>768</th>\n",
       "      <td>273908.0</td>\n",
       "      <td>273912.0</td>\n",
       "      <td>0.999985</td>\n",
       "    </tr>\n",
       "    <tr>\n",
       "      <th>813</th>\n",
       "      <td>68445.0</td>\n",
       "      <td>68506.0</td>\n",
       "      <td>0.999110</td>\n",
       "    </tr>\n",
       "    <tr>\n",
       "      <th>1158</th>\n",
       "      <td>961065.0</td>\n",
       "      <td>961092.0</td>\n",
       "      <td>0.999972</td>\n",
       "    </tr>\n",
       "    <tr>\n",
       "      <th>1423</th>\n",
       "      <td>1038876.0</td>\n",
       "      <td>1038891.0</td>\n",
       "      <td>0.999986</td>\n",
       "    </tr>\n",
       "    <tr>\n",
       "      <th>1611</th>\n",
       "      <td>2887288.0</td>\n",
       "      <td>2887307.0</td>\n",
       "      <td>0.999993</td>\n",
       "    </tr>\n",
       "  </tbody>\n",
       "</table>\n",
       "</div>"
      ],
      "text/plain": [
       "              V3          V4  DIVISION RESULTS\n",
       "148   12917033.0  12917094.0          0.999995\n",
       "215     923170.0    923211.0          0.999956\n",
       "436    1206989.0   1207040.0          0.999958\n",
       "704    4401486.0   4401544.0          0.999987\n",
       "726     115072.0    115195.0          0.998932\n",
       "768     273908.0    273912.0          0.999985\n",
       "813      68445.0     68506.0          0.999110\n",
       "1158    961065.0    961092.0          0.999972\n",
       "1423   1038876.0   1038891.0          0.999986\n",
       "1611   2887288.0   2887307.0          0.999993"
      ]
     },
     "metadata": {},
     "output_type": "display_data"
    },
    {
     "data": {
      "image/png": "[encoded data removed]",
      "text/plain": [
       "<Figure size 360x360 with 1 Axes>"
      ]
     },
     "metadata": {
      "needs_background": "light"
     },
     "output_type": "display_data"
    },
    {
     "data": {
      "text/markdown": [
       "### DECISION_TREE_CLASSIFIER"
      ],
      "text/plain": [
       "<IPython.core.display.Markdown object>"
      ]
     },
     "metadata": {},
     "output_type": "display_data"
    },
    {
     "name": "stdout",
     "output_type": "stream",
     "text": [
      "\n"
     ]
    },
    {
     "data": {
      "text/markdown": [
       "### Column(s): \"V13\" AND \"V12\""
      ],
      "text/plain": [
       "<IPython.core.display.Markdown object>"
      ]
     },
     "metadata": {},
     "output_type": "display_data"
    },
    {
     "data": {
      "text/markdown": [
       "Pattern found (without exceptions)"
      ],
      "text/plain": [
       "<IPython.core.display.Markdown object>"
      ]
     },
     "metadata": {},
     "output_type": "display_data"
    },
    {
     "name": "stdout",
     "output_type": "stream",
     "text": [
      "\n"
     ]
    },
    {
     "data": {
      "text/markdown": [
       "**Description**:"
      ],
      "text/plain": [
       "<IPython.core.display.Markdown object>"
      ]
     },
     "metadata": {},
     "output_type": "display_data"
    },
    {
     "name": "stdout",
     "output_type": "stream",
     "text": [
      "The values in column \"V12\" are consistently predictable from ['V13'] based using a decision tree with the following rules: \n",
      "|--- V13 <= 0.50\n",
      "|   |--- class: 1.0\n",
      "|--- V13 >  0.50\n",
      "|   |--- class: 0.0\n",
      "\n",
      "\n"
     ]
    },
    {
     "data": {
      "text/markdown": [
       "**Examples**:"
      ],
      "text/plain": [
       "<IPython.core.display.Markdown object>"
      ]
     },
     "metadata": {},
     "output_type": "display_data"
    },
    {
     "data": {
      "text/html": [
       "<div>\n",
       "<style scoped>\n",
       "    .dataframe tbody tr th:only-of-type {\n",
       "        vertical-align: middle;\n",
       "    }\n",
       "\n",
       "    .dataframe tbody tr th {\n",
       "        vertical-align: top;\n",
       "    }\n",
       "\n",
       "    .dataframe thead th {\n",
       "        text-align: right;\n",
       "    }\n",
       "</style>\n",
       "<table border=\"1\" class=\"dataframe\">\n",
       "  <thead>\n",
       "    <tr style=\"text-align: right;\">\n",
       "      <th></th>\n",
       "      <th>V13</th>\n",
       "      <th>V12</th>\n",
       "      <th>PREDICTION</th>\n",
       "    </tr>\n",
       "  </thead>\n",
       "  <tbody>\n",
       "    <tr>\n",
       "      <th>0</th>\n",
       "      <td>0.0</td>\n",
       "      <td>1.0</td>\n",
       "      <td>1.0</td>\n",
       "    </tr>\n",
       "    <tr>\n",
       "      <th>1</th>\n",
       "      <td>0.0</td>\n",
       "      <td>1.0</td>\n",
       "      <td>1.0</td>\n",
       "    </tr>\n",
       "    <tr>\n",
       "      <th>2</th>\n",
       "      <td>0.0</td>\n",
       "      <td>1.0</td>\n",
       "      <td>1.0</td>\n",
       "    </tr>\n",
       "    <tr>\n",
       "      <th>3</th>\n",
       "      <td>1.0</td>\n",
       "      <td>0.0</td>\n",
       "      <td>0.0</td>\n",
       "    </tr>\n",
       "    <tr>\n",
       "      <th>4</th>\n",
       "      <td>1.0</td>\n",
       "      <td>0.0</td>\n",
       "      <td>0.0</td>\n",
       "    </tr>\n",
       "    <tr>\n",
       "      <th>5</th>\n",
       "      <td>1.0</td>\n",
       "      <td>0.0</td>\n",
       "      <td>0.0</td>\n",
       "    </tr>\n",
       "    <tr>\n",
       "      <th>6</th>\n",
       "      <td>1.0</td>\n",
       "      <td>0.0</td>\n",
       "      <td>0.0</td>\n",
       "    </tr>\n",
       "    <tr>\n",
       "      <th>7</th>\n",
       "      <td>1.0</td>\n",
       "      <td>0.0</td>\n",
       "      <td>0.0</td>\n",
       "    </tr>\n",
       "    <tr>\n",
       "      <th>44</th>\n",
       "      <td>0.0</td>\n",
       "      <td>1.0</td>\n",
       "      <td>1.0</td>\n",
       "    </tr>\n",
       "    <tr>\n",
       "      <th>45</th>\n",
       "      <td>0.0</td>\n",
       "      <td>1.0</td>\n",
       "      <td>1.0</td>\n",
       "    </tr>\n",
       "  </tbody>\n",
       "</table>\n",
       "</div>"
      ],
      "text/plain": [
       "    V13  V12 PREDICTION\n",
       "0   0.0  1.0        1.0\n",
       "1   0.0  1.0        1.0\n",
       "2   0.0  1.0        1.0\n",
       "3   1.0  0.0        0.0\n",
       "4   1.0  0.0        0.0\n",
       "5   1.0  0.0        0.0\n",
       "6   1.0  0.0        0.0\n",
       "7   1.0  0.0        0.0\n",
       "44  0.0  1.0        1.0\n",
       "45  0.0  1.0        1.0"
      ]
     },
     "metadata": {},
     "output_type": "display_data"
    },
    {
     "name": "stdout",
     "output_type": "stream",
     "text": [
      "\n"
     ]
    },
    {
     "data": {
      "text/markdown": [
       "### Column(s): \"V12\" AND \"V13\""
      ],
      "text/plain": [
       "<IPython.core.display.Markdown object>"
      ]
     },
     "metadata": {},
     "output_type": "display_data"
    },
    {
     "data": {
      "text/markdown": [
       "Pattern found (without exceptions)"
      ],
      "text/plain": [
       "<IPython.core.display.Markdown object>"
      ]
     },
     "metadata": {},
     "output_type": "display_data"
    },
    {
     "name": "stdout",
     "output_type": "stream",
     "text": [
      "\n"
     ]
    },
    {
     "data": {
      "text/markdown": [
       "**Description**:"
      ],
      "text/plain": [
       "<IPython.core.display.Markdown object>"
      ]
     },
     "metadata": {},
     "output_type": "display_data"
    },
    {
     "name": "stdout",
     "output_type": "stream",
     "text": [
      "The values in column \"V13\" are consistently predictable from ['V12'] based using a decision tree with the following rules: \n",
      "|--- V12 <= 0.50\n",
      "|   |--- class: 1.0\n",
      "|--- V12 >  0.50\n",
      "|   |--- class: 0.0\n",
      "\n",
      "\n"
     ]
    },
    {
     "data": {
      "text/markdown": [
       "**Examples**:"
      ],
      "text/plain": [
       "<IPython.core.display.Markdown object>"
      ]
     },
     "metadata": {},
     "output_type": "display_data"
    },
    {
     "data": {
      "text/html": [
       "<div>\n",
       "<style scoped>\n",
       "    .dataframe tbody tr th:only-of-type {\n",
       "        vertical-align: middle;\n",
       "    }\n",
       "\n",
       "    .dataframe tbody tr th {\n",
       "        vertical-align: top;\n",
       "    }\n",
       "\n",
       "    .dataframe thead th {\n",
       "        text-align: right;\n",
       "    }\n",
       "</style>\n",
       "<table border=\"1\" class=\"dataframe\">\n",
       "  <thead>\n",
       "    <tr style=\"text-align: right;\">\n",
       "      <th></th>\n",
       "      <th>V12</th>\n",
       "      <th>V13</th>\n",
       "      <th>PREDICTION</th>\n",
       "    </tr>\n",
       "  </thead>\n",
       "  <tbody>\n",
       "    <tr>\n",
       "      <th>0</th>\n",
       "      <td>1.0</td>\n",
       "      <td>0.0</td>\n",
       "      <td>0.0</td>\n",
       "    </tr>\n",
       "    <tr>\n",
       "      <th>1</th>\n",
       "      <td>1.0</td>\n",
       "      <td>0.0</td>\n",
       "      <td>0.0</td>\n",
       "    </tr>\n",
       "    <tr>\n",
       "      <th>2</th>\n",
       "      <td>1.0</td>\n",
       "      <td>0.0</td>\n",
       "      <td>0.0</td>\n",
       "    </tr>\n",
       "    <tr>\n",
       "      <th>3</th>\n",
       "      <td>0.0</td>\n",
       "      <td>1.0</td>\n",
       "      <td>1.0</td>\n",
       "    </tr>\n",
       "    <tr>\n",
       "      <th>4</th>\n",
       "      <td>0.0</td>\n",
       "      <td>1.0</td>\n",
       "      <td>1.0</td>\n",
       "    </tr>\n",
       "    <tr>\n",
       "      <th>5</th>\n",
       "      <td>0.0</td>\n",
       "      <td>1.0</td>\n",
       "      <td>1.0</td>\n",
       "    </tr>\n",
       "    <tr>\n",
       "      <th>6</th>\n",
       "      <td>0.0</td>\n",
       "      <td>1.0</td>\n",
       "      <td>1.0</td>\n",
       "    </tr>\n",
       "    <tr>\n",
       "      <th>7</th>\n",
       "      <td>0.0</td>\n",
       "      <td>1.0</td>\n",
       "      <td>1.0</td>\n",
       "    </tr>\n",
       "    <tr>\n",
       "      <th>44</th>\n",
       "      <td>1.0</td>\n",
       "      <td>0.0</td>\n",
       "      <td>0.0</td>\n",
       "    </tr>\n",
       "    <tr>\n",
       "      <th>45</th>\n",
       "      <td>1.0</td>\n",
       "      <td>0.0</td>\n",
       "      <td>0.0</td>\n",
       "    </tr>\n",
       "  </tbody>\n",
       "</table>\n",
       "</div>"
      ],
      "text/plain": [
       "    V12  V13 PREDICTION\n",
       "0   1.0  0.0        0.0\n",
       "1   1.0  0.0        0.0\n",
       "2   1.0  0.0        0.0\n",
       "3   0.0  1.0        1.0\n",
       "4   0.0  1.0        1.0\n",
       "5   0.0  1.0        1.0\n",
       "6   0.0  1.0        1.0\n",
       "7   0.0  1.0        1.0\n",
       "44  1.0  0.0        0.0\n",
       "45  1.0  0.0        0.0"
      ]
     },
     "metadata": {},
     "output_type": "display_data"
    }
   ],
   "source": [
    "demo_test(\"steel-plates-fault\", \n",
    "          test_id_arr=['RARE_PAIRS', 'CONSTANT_RATIO', 'DECISION_TREE_CLASSIFIER'])"
   ]
  },
  {
   "cell_type": "code",
   "execution_count": null,
   "id": "5afc6d21",
   "metadata": {
    "scrolled": false
   },
   "outputs": [
    {
     "data": {
      "text/html": [
       "<div>\n",
       "<style scoped>\n",
       "    .dataframe tbody tr th:only-of-type {\n",
       "        vertical-align: middle;\n",
       "    }\n",
       "\n",
       "    .dataframe tbody tr th {\n",
       "        vertical-align: top;\n",
       "    }\n",
       "\n",
       "    .dataframe thead th {\n",
       "        text-align: right;\n",
       "    }\n",
       "</style>\n",
       "<table border=\"1\" class=\"dataframe\">\n",
       "  <thead>\n",
       "    <tr style=\"text-align: right;\">\n",
       "      <th></th>\n",
       "      <th>has_null</th>\n",
       "      <th>wave</th>\n",
       "      <th>gender</th>\n",
       "      <th>age</th>\n",
       "      <th>age_o</th>\n",
       "      <th>d_age</th>\n",
       "      <th>d_d_age</th>\n",
       "      <th>race</th>\n",
       "      <th>race_o</th>\n",
       "      <th>samerace</th>\n",
       "      <th>...</th>\n",
       "      <th>expected_num_interested_in_me</th>\n",
       "      <th>expected_num_matches</th>\n",
       "      <th>d_expected_happy_with_sd_people</th>\n",
       "      <th>d_expected_num_interested_in_me</th>\n",
       "      <th>d_expected_num_matches</th>\n",
       "      <th>like</th>\n",
       "      <th>guess_prob_liked</th>\n",
       "      <th>d_like</th>\n",
       "      <th>d_guess_prob_liked</th>\n",
       "      <th>met</th>\n",
       "    </tr>\n",
       "  </thead>\n",
       "  <tbody>\n",
       "    <tr>\n",
       "      <th>0</th>\n",
       "      <td>0</td>\n",
       "      <td>1.0</td>\n",
       "      <td>female</td>\n",
       "      <td>21.0</td>\n",
       "      <td>27.0</td>\n",
       "      <td>6.0</td>\n",
       "      <td>[4-6]</td>\n",
       "      <td>Asian/Pacific Islander/Asian-American</td>\n",
       "      <td>European/Caucasian-American</td>\n",
       "      <td>0</td>\n",
       "      <td>...</td>\n",
       "      <td>2.0</td>\n",
       "      <td>4.0</td>\n",
       "      <td>[0-4]</td>\n",
       "      <td>[0-3]</td>\n",
       "      <td>[3-5]</td>\n",
       "      <td>7.0</td>\n",
       "      <td>6.0</td>\n",
       "      <td>[6-8]</td>\n",
       "      <td>[5-6]</td>\n",
       "      <td>0.0</td>\n",
       "    </tr>\n",
       "    <tr>\n",
       "      <th>1</th>\n",
       "      <td>0</td>\n",
       "      <td>1.0</td>\n",
       "      <td>female</td>\n",
       "      <td>21.0</td>\n",
       "      <td>22.0</td>\n",
       "      <td>1.0</td>\n",
       "      <td>[0-1]</td>\n",
       "      <td>Asian/Pacific Islander/Asian-American</td>\n",
       "      <td>European/Caucasian-American</td>\n",
       "      <td>0</td>\n",
       "      <td>...</td>\n",
       "      <td>2.0</td>\n",
       "      <td>4.0</td>\n",
       "      <td>[0-4]</td>\n",
       "      <td>[0-3]</td>\n",
       "      <td>[3-5]</td>\n",
       "      <td>7.0</td>\n",
       "      <td>5.0</td>\n",
       "      <td>[6-8]</td>\n",
       "      <td>[5-6]</td>\n",
       "      <td>1.0</td>\n",
       "    </tr>\n",
       "    <tr>\n",
       "      <th>2</th>\n",
       "      <td>1</td>\n",
       "      <td>1.0</td>\n",
       "      <td>female</td>\n",
       "      <td>21.0</td>\n",
       "      <td>22.0</td>\n",
       "      <td>1.0</td>\n",
       "      <td>[0-1]</td>\n",
       "      <td>Asian/Pacific Islander/Asian-American</td>\n",
       "      <td>Asian/Pacific Islander/Asian-American</td>\n",
       "      <td>1</td>\n",
       "      <td>...</td>\n",
       "      <td>2.0</td>\n",
       "      <td>4.0</td>\n",
       "      <td>[0-4]</td>\n",
       "      <td>[0-3]</td>\n",
       "      <td>[3-5]</td>\n",
       "      <td>7.0</td>\n",
       "      <td>NaN</td>\n",
       "      <td>[6-8]</td>\n",
       "      <td>[0-4]</td>\n",
       "      <td>1.0</td>\n",
       "    </tr>\n",
       "    <tr>\n",
       "      <th>3</th>\n",
       "      <td>0</td>\n",
       "      <td>1.0</td>\n",
       "      <td>female</td>\n",
       "      <td>21.0</td>\n",
       "      <td>23.0</td>\n",
       "      <td>2.0</td>\n",
       "      <td>[2-3]</td>\n",
       "      <td>Asian/Pacific Islander/Asian-American</td>\n",
       "      <td>European/Caucasian-American</td>\n",
       "      <td>0</td>\n",
       "      <td>...</td>\n",
       "      <td>2.0</td>\n",
       "      <td>4.0</td>\n",
       "      <td>[0-4]</td>\n",
       "      <td>[0-3]</td>\n",
       "      <td>[3-5]</td>\n",
       "      <td>7.0</td>\n",
       "      <td>6.0</td>\n",
       "      <td>[6-8]</td>\n",
       "      <td>[5-6]</td>\n",
       "      <td>0.0</td>\n",
       "    </tr>\n",
       "    <tr>\n",
       "      <th>4</th>\n",
       "      <td>0</td>\n",
       "      <td>1.0</td>\n",
       "      <td>female</td>\n",
       "      <td>21.0</td>\n",
       "      <td>24.0</td>\n",
       "      <td>3.0</td>\n",
       "      <td>[2-3]</td>\n",
       "      <td>Asian/Pacific Islander/Asian-American</td>\n",
       "      <td>Latino/Hispanic American</td>\n",
       "      <td>0</td>\n",
       "      <td>...</td>\n",
       "      <td>2.0</td>\n",
       "      <td>4.0</td>\n",
       "      <td>[0-4]</td>\n",
       "      <td>[0-3]</td>\n",
       "      <td>[3-5]</td>\n",
       "      <td>6.0</td>\n",
       "      <td>6.0</td>\n",
       "      <td>[6-8]</td>\n",
       "      <td>[5-6]</td>\n",
       "      <td>0.0</td>\n",
       "    </tr>\n",
       "  </tbody>\n",
       "</table>\n",
       "<p>5 rows × 120 columns</p>\n",
       "</div>"
      ],
      "text/plain": [
       "  has_null  wave  gender   age  age_o  d_age d_d_age  \\\n",
       "0        0   1.0  female  21.0   27.0    6.0   [4-6]   \n",
       "1        0   1.0  female  21.0   22.0    1.0   [0-1]   \n",
       "2        1   1.0  female  21.0   22.0    1.0   [0-1]   \n",
       "3        0   1.0  female  21.0   23.0    2.0   [2-3]   \n",
       "4        0   1.0  female  21.0   24.0    3.0   [2-3]   \n",
       "\n",
       "                                    race  \\\n",
       "0  Asian/Pacific Islander/Asian-American   \n",
       "1  Asian/Pacific Islander/Asian-American   \n",
       "2  Asian/Pacific Islander/Asian-American   \n",
       "3  Asian/Pacific Islander/Asian-American   \n",
       "4  Asian/Pacific Islander/Asian-American   \n",
       "\n",
       "                                  race_o samerace  ...  \\\n",
       "0            European/Caucasian-American        0  ...   \n",
       "1            European/Caucasian-American        0  ...   \n",
       "2  Asian/Pacific Islander/Asian-American        1  ...   \n",
       "3            European/Caucasian-American        0  ...   \n",
       "4               Latino/Hispanic American        0  ...   \n",
       "\n",
       "   expected_num_interested_in_me  expected_num_matches  \\\n",
       "0                            2.0                   4.0   \n",
       "1                            2.0                   4.0   \n",
       "2                            2.0                   4.0   \n",
       "3                            2.0                   4.0   \n",
       "4                            2.0                   4.0   \n",
       "\n",
       "  d_expected_happy_with_sd_people d_expected_num_interested_in_me  \\\n",
       "0                           [0-4]                           [0-3]   \n",
       "1                           [0-4]                           [0-3]   \n",
       "2                           [0-4]                           [0-3]   \n",
       "3                           [0-4]                           [0-3]   \n",
       "4                           [0-4]                           [0-3]   \n",
       "\n",
       "  d_expected_num_matches  like  guess_prob_liked  d_like  d_guess_prob_liked  \\\n",
       "0                  [3-5]   7.0               6.0   [6-8]               [5-6]   \n",
       "1                  [3-5]   7.0               5.0   [6-8]               [5-6]   \n",
       "2                  [3-5]   7.0               NaN   [6-8]               [0-4]   \n",
       "3                  [3-5]   7.0               6.0   [6-8]               [5-6]   \n",
       "4                  [3-5]   6.0               6.0   [6-8]               [5-6]   \n",
       "\n",
       "   met  \n",
       "0  0.0  \n",
       "1  1.0  \n",
       "2  1.0  \n",
       "3  0.0  \n",
       "4  0.0  \n",
       "\n",
       "[5 rows x 120 columns]"
      ]
     },
     "metadata": {},
     "output_type": "display_data"
    }
   ],
   "source": [
    "demo_test(\"speeddating\", \n",
    "          test_id_arr=['CHARS_PATTERN', 'COLUMN_ORDERED_ASC', 'SIMILAR_PREVIOUS', \n",
    "                       'DECISION_TREE_CLASSIFIER', 'SAME_SPECIAL_CHARS'])"
   ]
  },
  {
   "cell_type": "code",
   "execution_count": null,
   "id": "b76fac79",
   "metadata": {},
   "outputs": [],
   "source": [
    "demo_test(\"eucalyptus\", test_id_arr=['GROUPED_STRINGS', 'ROUNDING', 'CORRELATED_ALPHA_ORDER'])"
   ]
  },
  {
   "cell_type": "code",
   "execution_count": null,
   "id": "a22c9011",
   "metadata": {},
   "outputs": [],
   "source": [
    "demo_test(\"Vehicle\", test_id_arr=['LINEAR_REGRESSION', 'SIMILAR_WRT_DIFF'])"
   ]
  },
  {
   "cell_type": "code",
   "execution_count": null,
   "id": "8dba9032",
   "metadata": {},
   "outputs": [],
   "source": [
    "demo_test(\"Soybean\", test_id_arr=['MATCHED_MISSING', 'DECISION_TREE_CLASSIFIER'])"
   ]
  },
  {
   "cell_type": "code",
   "execution_count": null,
   "id": "25a88b73",
   "metadata": {},
   "outputs": [],
   "source": [
    "demo_test(\"Spambase\", test_id_arr=['SAME_VALUES'])"
   ]
  },
  {
   "cell_type": "code",
   "execution_count": null,
   "id": "9f548dd1",
   "metadata": {
    "scrolled": true
   },
   "outputs": [],
   "source": [
    "demo_test(\"jm1\", test_id_arr=['RARE_DECIMALS', 'SIMILAR_TO_DIFF', 'SIMILAR_TO_PRODUCT', 'CORRELATED_FEATURES'], issue_id_arr=[1, 10, 11])"
   ]
  },
  {
   "cell_type": "code",
   "execution_count": null,
   "id": "dffb63ae",
   "metadata": {
    "scrolled": true
   },
   "outputs": [],
   "source": [
    "demo_test(\"anneal\", test_id_arr=['Non_ZERO', 'DECISION_TREE_CLASSIFIER', 'LOWERCASE', 'SIMILAR_CHARACTERS'])"
   ]
  },
  {
   "cell_type": "code",
   "execution_count": null,
   "id": "b42334b1",
   "metadata": {},
   "outputs": [],
   "source": [
    "demo_test(\"scene\", test_id_arr=['Binary implies'])"
   ]
  },
  {
   "cell_type": "code",
   "execution_count": null,
   "id": "e6c62a00",
   "metadata": {},
   "outputs": [],
   "source": [
    "demo_test(\"Gas_drift\", test_id_arr=['LINEAR_REGRESSION'])"
   ]
  },
  {
   "cell_type": "code",
   "execution_count": null,
   "id": "db7519de",
   "metadata": {
    "scrolled": true
   },
   "outputs": [],
   "source": [
    "demo_test(\"mozilla4\", test_id_arr=['SIMILAR_PREVIOUS'])"
   ]
  },
  {
   "cell_type": "code",
   "execution_count": null,
   "id": "ddf888de",
   "metadata": {
    "scrolled": true
   },
   "outputs": [],
   "source": [
    "demo_test(\"har\", test_id_arr=['VERY_SMALL_ABS'])"
   ]
  },
  {
   "cell_type": "code",
   "execution_count": null,
   "id": "12c076c4",
   "metadata": {},
   "outputs": [],
   "source": [
    "# combine cell below if works\n",
    "demo_test(\"Isolet\", test_id_arr=['BINARY_IMPLIES', 'DECISION_TREE_CLASSIFIER'])"
   ]
  },
  {
   "cell_type": "code",
   "execution_count": null,
   "id": "f002c451",
   "metadata": {
    "scrolled": true
   },
   "outputs": [],
   "source": [
    "demo_test(\"Isolet\", test_id_arr=['SMALL_GIVEN_VALUE'], issue_id_list=[5])"
   ]
  },
  {
   "cell_type": "code",
   "execution_count": null,
   "id": "951ccac5",
   "metadata": {
    "scrolled": true
   },
   "outputs": [],
   "source": [
    "demo_test(\"pc1\", test_id_arr=['SUM_OF_COLUMNS', 'LINEAR_REGRESSION'])"
   ]
  },
  {
   "cell_type": "code",
   "execution_count": null,
   "id": "af4aef7a",
   "metadata": {
    "scrolled": true
   },
   "outputs": [],
   "source": [
    "demo_test(\"electricity\", test_id_arr=['NON_ZERO', 'COLUMN_ORDERED_ASC', 'SIMILAR_PREVIOUS'], issue_id_arr=[5])"
   ]
  },
  {
   "cell_type": "code",
   "execution_count": null,
   "id": "e88deab4",
   "metadata": {
    "scrolled": true
   },
   "outputs": [],
   "source": [
    "demo_test(\"segment\", test_id_arr=['NUMBER_DECIMALS'])"
   ]
  },
  {
   "cell_type": "code",
   "execution_count": null,
   "id": "a1908603",
   "metadata": {
    "scrolled": true
   },
   "outputs": [],
   "source": [
    "demo_test(\"Click_prediction_small\", test_id_arr=['ROUNDING'], issue_id_arr=[3])"
   ]
  },
  {
   "cell_type": "code",
   "execution_count": null,
   "id": "a0668f8b",
   "metadata": {},
   "outputs": [],
   "source": [
    "demo_test(\"segment\", test_id_arr=['ALL_POS_OR_ALL_NEG'])"
   ]
  },
  {
   "cell_type": "code",
   "execution_count": null,
   "id": "380e8393",
   "metadata": {},
   "outputs": [],
   "source": [
    "demo_test(\"har\", test_id_arr=['ALL_POS_OR_ALL_NEG'])"
   ]
  },
  {
   "cell_type": "code",
   "execution_count": null,
   "id": "53f4d770",
   "metadata": {},
   "outputs": [],
   "source": [
    "demo_test(\"musk\", test_id_arr=['ALL_POS_OR_ALL_NEG'])"
   ]
  },
  {
   "cell_type": "code",
   "execution_count": null,
   "id": "04ca7ea2",
   "metadata": {},
   "outputs": [],
   "source": [
    "demo_test(\"cardiotocography\", test_id_arr=['BINARY_IMPLIES', 'SAME_VALUES', 'SIMILAR_WRT_DIFF'])"
   ]
  },
  {
   "cell_type": "code",
   "execution_count": null,
   "id": "a44024b8",
   "metadata": {},
   "outputs": [],
   "source": [
    "demo_test(\"nomao\", \n",
    "          test_id_arr=['BINARY_MATCHES_SUM', \n",
    "                       'BINARY_MATCHES_VALUES', \n",
    "                       'DECISION_TREE_CLASSIFIER', \n",
    "                       'MEAN_OF_COLUMNS', \n",
    "                       'SAME_VALUES', 'SIMILAR_WRT_DIFF'])"
   ]
  },
  {
   "cell_type": "code",
   "execution_count": null,
   "id": "8f5fdef8",
   "metadata": {},
   "outputs": [],
   "source": [
    "demo_test(\"credit-approval\", test_id_arr=['BINARY_MATCHES_VALUES', 'DECISION_TREE_CLASSIFIER'])"
   ]
  },
  {
   "cell_type": "code",
   "execution_count": null,
   "id": "a9826d46",
   "metadata": {},
   "outputs": [],
   "source": [
    "demo_test(\"allbp\", test_id_arr=['BINARY_MATCHES_VALUES', 'SAME_VALUES'])"
   ]
  },
  {
   "cell_type": "code",
   "execution_count": null,
   "id": "176d7f25",
   "metadata": {},
   "outputs": [],
   "source": [
    "demo_test(\"dis\", test_id_arr=['BINARY_MATCHES_VALUES', 'SAME_VALUES'])"
   ]
  },
  {
   "cell_type": "code",
   "execution_count": null,
   "id": "6c30389a",
   "metadata": {},
   "outputs": [],
   "source": [
    "demo_test(\"JapaneseVowels\", test_id_arr=['COLUMN_ORDERED_ASC'])"
   ]
  },
  {
   "cell_type": "code",
   "execution_count": null,
   "id": "dda83160",
   "metadata": {},
   "outputs": [],
   "source": [
    "demo_test(\"profb\", test_id_arr=['COLUMN_ORDERED_ASC'])"
   ]
  },
  {
   "cell_type": "code",
   "execution_count": null,
   "id": "1a8d6ff2",
   "metadata": {},
   "outputs": [],
   "source": [
    "demo_test(\"bank-marketing\", test_id_arr=['COLUMN_ORDERED_ASC', 'SIMILAR_PREVIOUS'])"
   ]
  },
  {
   "cell_type": "code",
   "execution_count": null,
   "id": "45f54338",
   "metadata": {},
   "outputs": [],
   "source": [
    "demo_test(\"blood-transfusion-service-center\", test_id_arr=['CONSTANT_RATIO', 'EVEN_MULTIPLE', 'LINEAR_REGRESSION'])"
   ]
  },
  {
   "cell_type": "code",
   "execution_count": null,
   "id": "d6b07a78",
   "metadata": {},
   "outputs": [],
   "source": [
    "demo_test(\"eeg-eye-state\", test_id_arr=['CONSTANT_RATIO', 'SIMILAR_PREVIOUS', 'SIMILAR_WRT_DIFF'])"
   ]
  },
  {
   "cell_type": "code",
   "execution_count": null,
   "id": "cfeb7d29",
   "metadata": {},
   "outputs": [],
   "source": [
    "demo_test(\"bioresponse\", test_id_arr=['DECISION_TREE_CLASSIFIER', 'DECISION_TREE_REGRESSOR'])"
   ]
  },
  {
   "cell_type": "code",
   "execution_count": null,
   "id": "df78f5d7",
   "metadata": {},
   "outputs": [],
   "source": [
    "demo_test(\"hypothyroid\", test_id_arr=['DECISION_TREE_CLASSIFIER', 'SAME_VALUES'])"
   ]
  },
  {
   "cell_type": "code",
   "execution_count": null,
   "id": "0f5d59fa",
   "metadata": {},
   "outputs": [],
   "source": [
    "demo_test(\"car-evaluation\", test_id_arr=['DECISION_TREE_CLASSIFIER', 'GROUPED_STRINGS', 'PREV_VALUES_DT'])"
   ]
  },
  {
   "cell_type": "code",
   "execution_count": null,
   "id": "a0d435a6",
   "metadata": {},
   "outputs": [],
   "source": [
    "demo_test(\"eucalyptus\", test_id_arr=['GROUPED_STRINGS', 'POSITION_NON-ALPHANUMERIC'])"
   ]
  },
  {
   "cell_type": "code",
   "execution_count": null,
   "id": "1bd9c84f",
   "metadata": {},
   "outputs": [],
   "source": [
    "demo_test(\"vowel\", test_id_arr=['GROUPED_STRINGS'])"
   ]
  },
  {
   "cell_type": "code",
   "execution_count": null,
   "id": "0c9ca077",
   "metadata": {},
   "outputs": [],
   "source": [
    "demo_test(\"nursery\", test_id_arr=['GROUPED_STRINGS', 'PREV_VALUES_DT'])"
   ]
  },
  {
   "cell_type": "code",
   "execution_count": null,
   "id": "478a01ef",
   "metadata": {},
   "outputs": [],
   "source": [
    "demo_test(\"baseball\", test_id_arr=['LINEAR_REGRESSION'])"
   ]
  },
  {
   "cell_type": "code",
   "execution_count": null,
   "id": "f96a120d",
   "metadata": {},
   "outputs": [],
   "source": [
    "demo_test(\"madelon\", test_id_arr=['LINEAR_REGRESSION'])"
   ]
  },
  {
   "cell_type": "code",
   "execution_count": null,
   "id": "1444daca",
   "metadata": {},
   "outputs": [],
   "source": [
    "demo_test(\"kc2\", test_id_arr=['LINEAR_REGRESSION'])"
   ]
  },
  {
   "cell_type": "code",
   "execution_count": null,
   "id": "9493e004",
   "metadata": {},
   "outputs": [],
   "source": [
    "demo_test(\"gas-drift\", test_id_arr=['LINEAR_REGRESSION'])"
   ]
  },
  {
   "cell_type": "code",
   "execution_count": null,
   "id": "ba837003",
   "metadata": {},
   "outputs": [],
   "source": [
    "demo_test(\"vehicle\", test_id_arr=['LINEAR_REGRESSION'])"
   ]
  },
  {
   "cell_type": "code",
   "execution_count": null,
   "id": "c568cfd3",
   "metadata": {},
   "outputs": [],
   "source": [
    "demo_test(\"car\", test_id_arr=['PREV_VALUES_DT'])"
   ]
  },
  {
   "cell_type": "code",
   "execution_count": null,
   "id": "d3199256",
   "metadata": {},
   "outputs": [],
   "source": [
    "demo_test(\"climate-model-simulation-crashes\", test_id_arr=['UNIQUE_VALUES'])"
   ]
  }
 ],
 "metadata": {
  "kernelspec": {
   "display_name": "Python 3 (ipykernel)",
   "language": "python",
   "name": "python3"
  },
  "language_info": {
   "codemirror_mode": {
    "name": "ipython",
    "version": 3
   },
   "file_extension": ".py",
   "mimetype": "text/x-python",
   "name": "python",
   "nbconvert_exporter": "python",
   "pygments_lexer": "ipython3",
   "version": "3.9.6"
  }
 },
 "nbformat": 4,
 "nbformat_minor": 5
}
